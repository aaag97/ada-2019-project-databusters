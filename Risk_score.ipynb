{
 "cells": [
  {
   "cell_type": "markdown",
   "metadata": {
    "toc": true
   },
   "source": [
    "<h1>Table of Contents<span class=\"tocSkip\"></span></h1>\n",
    "<div class=\"toc\"><ul class=\"toc-item\"></ul></div>"
   ]
  },
  {
   "cell_type": "markdown",
   "metadata": {},
   "source": [
    "We need to create a new csv file containing unique restaurants from inspections let's say **2017->2019** (don't forget to filter out \"out of business\"...) with a bunch of useful features and computed risk score.\n",
    "\n",
    "It will look something like this (non exhaustive list of features)"
   ]
  },
  {
   "cell_type": "code",
   "execution_count": 6,
   "metadata": {},
   "outputs": [],
   "source": [
    "import pandas as pd\n",
    "restaurants_corpus = pd.DataFrame(columns = ['restaurant licence','latitude',\\\n",
    "                                             'longitude','community area',\\\n",
    "                                             'restaurant name','rate of failed inspections',\\\n",
    "                                             'rate of successful inspections',\\\n",
    "                                             'Average nbr of important violations',\\\n",
    "                                             'Food chain flag', \\\n",
    "                                             'nbr risk_related words computed from inspectors comments'])\n"
   ]
  },
  {
   "cell_type": "code",
   "execution_count": 7,
   "metadata": {},
   "outputs": [
    {
     "data": {
      "text/html": [
       "<div>\n",
       "<style scoped>\n",
       "    .dataframe tbody tr th:only-of-type {\n",
       "        vertical-align: middle;\n",
       "    }\n",
       "\n",
       "    .dataframe tbody tr th {\n",
       "        vertical-align: top;\n",
       "    }\n",
       "\n",
       "    .dataframe thead th {\n",
       "        text-align: right;\n",
       "    }\n",
       "</style>\n",
       "<table border=\"1\" class=\"dataframe\">\n",
       "  <thead>\n",
       "    <tr style=\"text-align: right;\">\n",
       "      <th></th>\n",
       "      <th>restaurant licence</th>\n",
       "      <th>latitude</th>\n",
       "      <th>longitude</th>\n",
       "      <th>community area</th>\n",
       "      <th>restaurant name</th>\n",
       "      <th>rate of failed inspections</th>\n",
       "      <th>rate of successful inspections</th>\n",
       "      <th>Average nbr of important violations</th>\n",
       "      <th>Food chain flag</th>\n",
       "      <th>nbr risk_related words computed from inspectors comments</th>\n",
       "    </tr>\n",
       "  </thead>\n",
       "  <tbody>\n",
       "  </tbody>\n",
       "</table>\n",
       "</div>"
      ],
      "text/plain": [
       "Empty DataFrame\n",
       "Columns: [restaurant licence, latitude, longitude, community area, restaurant name, rate of failed inspections, rate of successful inspections, Average nbr of important violations, Food chain flag, nbr risk_related words computed from inspectors comments]\n",
       "Index: []"
      ]
     },
     "execution_count": 7,
     "metadata": {},
     "output_type": "execute_result"
    }
   ],
   "source": [
    "restaurants_corpus"
   ]
  },
  {
   "cell_type": "markdown",
   "metadata": {},
   "source": [
    "And then we will compute the **Risk score** using a weighted sum of the features by their importance and use MinMax to normalize the score for each restaurant at the end :D"
   ]
  }
 ],
 "metadata": {
  "kernelspec": {
   "display_name": "Python 3",
   "language": "python",
   "name": "python3"
  },
  "language_info": {
   "codemirror_mode": {
    "name": "ipython",
    "version": 3
   },
   "file_extension": ".py",
   "mimetype": "text/x-python",
   "name": "python",
   "nbconvert_exporter": "python",
   "pygments_lexer": "ipython3",
   "version": "3.7.0"
  },
  "toc": {
   "base_numbering": 1,
   "nav_menu": {},
   "number_sections": false,
   "sideBar": true,
   "skip_h1_title": false,
   "title_cell": "Table of Contents",
   "title_sidebar": "Contents",
   "toc_cell": true,
   "toc_position": {},
   "toc_section_display": true,
   "toc_window_display": false
  }
 },
 "nbformat": 4,
 "nbformat_minor": 2
}
