{
 "cells": [
  {
   "cell_type": "markdown",
   "metadata": {},
   "source": [
    "# Relevant imports"
   ]
  },
  {
   "cell_type": "code",
   "execution_count": null,
   "metadata": {},
   "outputs": [],
   "source": [
    "import pandas as pd\n",
    "import numpy as np\n",
    "import matplotlib.pyplot as plt\n",
    "import seaborn as sns\n",
    "from datetime import date as dt\n",
    "\n",
    "import folium\n",
    "from folium import plugins\n",
    "from folium.plugins import HeatMap\n",
    "#http://geopandas.org/install.html\n",
    "import geopandas as gpd"
   ]
  },
  {
   "cell_type": "code",
   "execution_count": null,
   "metadata": {},
   "outputs": [],
   "source": [
    "inspections = pd.read_pickle('./datasets/cleaned_inspections.pickle')"
   ]
  },
  {
   "cell_type": "code",
   "execution_count": null,
   "metadata": {},
   "outputs": [],
   "source": [
    "inspections.head(2)"
   ]
  },
  {
   "cell_type": "markdown",
   "metadata": {},
   "source": [
    "# Exploratory data analysis"
   ]
  },
  {
   "cell_type": "code",
   "execution_count": null,
   "metadata": {},
   "outputs": [],
   "source": [
    "#TODO: Plot piecharts, barplots, histograms for our different features to see if there are any emerging patterns"
   ]
  },
  {
   "cell_type": "markdown",
   "metadata": {},
   "source": [
    "# Data Visualization using folium"
   ]
  },
  {
   "cell_type": "markdown",
   "metadata": {},
   "source": [
    "## 1. Restaurants on a map"
   ]
  },
  {
   "cell_type": "markdown",
   "metadata": {},
   "source": [
    "Let's display on a map the different restaurants in our dataset"
   ]
  },
  {
   "cell_type": "code",
   "execution_count": null,
   "metadata": {},
   "outputs": [],
   "source": [
    "#We only display restaurant in our map\n",
    "restaurant_locations = inspections[inspections['Facility Type']=='restaurant']\n",
    "#We reduce the data size & display only restaurants that still exist in year 2018\n",
    "restaurant_locations = restaurant_locations[restaurant_locations['Inspection Date'].dt.year==2018]\n",
    "restaurant_locations = restaurant_locations[['DBA Name', 'Latitude','Longitude']].drop_duplicates()\n",
    "restaurant_locations_array = np.array(restaurant_locations)"
   ]
  },
  {
   "cell_type": "code",
   "execution_count": null,
   "metadata": {},
   "outputs": [],
   "source": [
    "locations_map = folium.Map(location=[41.86087, -87.608945], zoom_start=10)\n",
    "for i, info in enumerate(restaurant_locations_array):\n",
    "    folium.Marker(\n",
    "        location=[info[1], info[2]],\n",
    "        popup=info[0],\n",
    "        icon=folium.Icon(color='red', icon='info-sign')).add_to(locations_map)\n",
    "#locations_map.save('restaurants_map.html')\n",
    "locations_map"
   ]
  },
  {
   "cell_type": "code",
   "execution_count": null,
   "metadata": {},
   "outputs": [],
   "source": [
    "len(inspections['Location'].unique())"
   ]
  },
  {
   "cell_type": "code",
   "execution_count": null,
   "metadata": {},
   "outputs": [],
   "source": [
    "len(inspections['DBA Name'].unique())"
   ]
  },
  {
   "cell_type": "code",
   "execution_count": null,
   "metadata": {},
   "outputs": [],
   "source": [
    "len(inspections['Community Area'].unique())"
   ]
  },
  {
   "cell_type": "markdown",
   "metadata": {},
   "source": [
    "* From the map displayed we see that the icons are stacked and condensed into the same regions, hence this time of displaying does not meet our needs.\n",
    "* We also see above that apparently the locations of the restaurants we have are not very precise because we have less locations that establishments.Maybe this is also due to the fact that some restaurants which get closed are replaced by others at the same location.\n",
    "\n",
    "We decide to show a heatmap of the restaurants which will display the restaurants \"concentration\" (areas with high concentration of restaurants)"
   ]
  },
  {
   "cell_type": "markdown",
   "metadata": {},
   "source": [
    "## 2. Heatmap showing restaurants locations concentration"
   ]
  },
  {
   "cell_type": "code",
   "execution_count": null,
   "metadata": {},
   "outputs": [],
   "source": [
    "locations_heatmap = folium.Map([41.86087, -87.608945], zoom_start=11)\n",
    "\n",
    "# List comprehension to make out list of lists\n",
    "heat_data = [[row['Latitude'],row['Longitude']] for index, row in restaurant_locations.iterrows()]\n",
    "\n",
    "# Plot it on the map\n",
    "HeatMap(heat_data, radius=14).add_to(locations_heatmap)\n",
    "\n",
    "# Display the map\n",
    "#locations_heatmap.save('restaurants_heatmap.html')\n",
    "locations_heatmap"
   ]
  },
  {
   "cell_type": "markdown",
   "metadata": {},
   "source": [
    "As expected, there are a lot more restaurants in the city center of chicago."
   ]
  },
  {
   "cell_type": "markdown",
   "metadata": {},
   "source": [
    "## 3. Number of restaurants by community area"
   ]
  },
  {
   "cell_type": "markdown",
   "metadata": {},
   "source": [
    "Now we want to display the community areas as a heatmap of the number of restaurants they have.\n",
    "\n",
    "Get community areas boundaries from:\n",
    "https://www.chicago.gov/city/en/depts/doit/dataset/boundaries_-_communityareas.html"
   ]
  },
  {
   "cell_type": "code",
   "execution_count": null,
   "metadata": {},
   "outputs": [],
   "source": [
    "# set the filepath and load in a shapefile\n",
    "#fp = \"./datasets/boundaries.geojson\"\n",
    "#boundaries_community_areas = gpd.read_file(fp)\n",
    "# check data type so we can see that this is not a normal dataframe, but a GEOdataframe\n",
    "#boundaries_community_areas.head()"
   ]
  },
  {
   "cell_type": "code",
   "execution_count": null,
   "metadata": {},
   "outputs": [],
   "source": [
    "#We process the GEOdataframe in a way that is useful to our analysis and then export it as a new .geojson\n",
    "#boundaries_community_areas=boundaries_community_areas[['community','geometry']]\n",
    "#boundaries_community_areas.loc[74,'community']='O\\'HARE'\n",
    "#boundaries_community_areas.sort_values(by=['community'], inplace=True)\n",
    "#boundaries_community_areas.reset_index(inplace=True,drop=True)\n",
    "#boundaries_community_areas.reset_index(inplace=True,drop=False)\n",
    "#boundaries_community_areas.rename(columns={\"index\": \"area_number\"},inplace=True)\n",
    "#boundaries_community_areas['community'] = boundaries_community_areas['community'].astype('str')\n",
    "#boundaries_community_areas.to_file(\"boundaries_processed.geojson\", driver=\"GeoJSON\")"
   ]
  },
  {
   "cell_type": "code",
   "execution_count": null,
   "metadata": {},
   "outputs": [],
   "source": [
    "fp = \"./boundaries_processed.geojson\"\n",
    "boundaries_community_areas = gpd.read_file(fp)\n",
    "boundaries_community_areas.head()"
   ]
  },
  {
   "cell_type": "markdown",
   "metadata": {},
   "source": [
    "We do a sanity check to see if the community areas in the inspection data we got from geopy correspond to the community areas we get from Chicago Government portal."
   ]
  },
  {
   "cell_type": "code",
   "execution_count": null,
   "metadata": {},
   "outputs": [],
   "source": [
    "#We care about restaurants only\n",
    "restaurants_intensity = inspections[inspections['Facility Type']=='restaurant']\n",
    "#We focus on year 2018\n",
    "restaurants_intensity = restaurants_intensity[restaurants_intensity['Inspection Date'].dt.year==2018]\n",
    "restaurants_intensity = restaurants_intensity[['Community Area','DBA Name']].drop_duplicates().groupby('Community Area')['DBA Name'].agg({'nbr_restaurants' : len})\n",
    "restaurants_intensity.reset_index(inplace=True)\n",
    "restaurants_intensity['Community Area'] = restaurants_intensity['Community Area'].str.upper().str.strip()\n",
    "restaurants_intensity"
   ]
  },
  {
   "cell_type": "markdown",
   "metadata": {},
   "source": [
    "There are 4 community areas that we don't have any restaurants in our dataset, let's add them to our data with nbr_restaurants = 0"
   ]
  },
  {
   "cell_type": "code",
   "execution_count": null,
   "metadata": {},
   "outputs": [],
   "source": [
    "missing_1 = set(boundaries_community_areas['community'])-set(restaurants_intensity['Community Area'])\n",
    "missing_1 = pd.DataFrame(missing_1, columns=['Community Area'])\n",
    "missing_1['nbr_restaurants'] = 0\n",
    "print(\"Community areas missing in the inspection dataset: \")\n",
    "missing_1"
   ]
  },
  {
   "cell_type": "code",
   "execution_count": null,
   "metadata": {},
   "outputs": [],
   "source": [
    "missing_2 = set(restaurants_intensity['Community Area'])-set(boundaries_community_areas['community'])\n",
    "missing_2 = pd.DataFrame(missing_2, columns=['Community Area'])\n",
    "print(\"Community areas missing in the government dataset: \")\n",
    "missing_2"
   ]
  },
  {
   "cell_type": "markdown",
   "metadata": {},
   "source": [
    "Also CHINATOWN is mentioned in our dataset but not on the gov data.\n",
    "\n",
    "After an easy Google search [source](https://www.google.com/search?client=safari&rls=en&q=chinatown+chicago&ie=UTF-8&oe=UTF-8), we see that CHINATOWN is in reality ARMOUR SQUARE"
   ]
  },
  {
   "cell_type": "code",
   "execution_count": null,
   "metadata": {},
   "outputs": [],
   "source": [
    "restaurants_intensity.loc[14,'Community Area']='ARMOUR SQUARE'\n",
    "restaurants_intensity = restaurants_intensity.groupby('Community Area')['nbr_restaurants'].agg({'nbr_restaurants' : sum})\n",
    "restaurants_intensity.reset_index(inplace=True)\n",
    "restaurants_intensity"
   ]
  },
  {
   "cell_type": "markdown",
   "metadata": {},
   "source": [
    "We can now merge the community areas and display the resulting nbr_restaurants"
   ]
  },
  {
   "cell_type": "code",
   "execution_count": null,
   "metadata": {},
   "outputs": [],
   "source": [
    "#restaurants_intensity = restaurants_intensity.append(missing_1)\n",
    "restaurants_intensity.sort_values(by=['Community Area'], inplace=True)\n",
    "restaurants_intensity.reset_index(inplace=True,drop=True)\n",
    "restaurants_intensity['Community Area'] = restaurants_intensity['Community Area'].astype('str')\n",
    "restaurants_intensity"
   ]
  },
  {
   "cell_type": "code",
   "execution_count": null,
   "metadata": {},
   "outputs": [],
   "source": [
    "# Initialize the map:\n",
    "restaurants_by_community = folium.Map([41.86087, -87.608945], zoom_start=11, tiles = \"cartodbpositron\")\n",
    " \n",
    "# Add the color for the chloropleth:\n",
    "restaurants_by_community.choropleth(\n",
    " geo_data=fp,\n",
    " data=restaurants_intensity,\n",
    " columns=['Community Area', 'nbr_restaurants'],\n",
    " key_on='feature.properties.community',\n",
    " fill_color='YlGn',\n",
    " fill_opacity=0.7,\n",
    " line_opacity=0.2,\n",
    " legend_name='Number of restaurants by community'\n",
    ")\n",
    "folium.LayerControl().add_to(restaurants_by_community)\n",
    " \n",
    "# Save to html\n",
    "#restaurants_by_community.save('restaurants_by_community.html')\n",
    "restaurants_by_community"
   ]
  },
  {
   "cell_type": "markdown",
   "metadata": {},
   "source": [
    "## 4. Number of grocery stores by community area"
   ]
  },
  {
   "cell_type": "markdown",
   "metadata": {},
   "source": [
    "After a small research, we found out about a problem affecting public health in Chicago at a large scale called **Food deserts**. In a report by the Illinois Advisory Committee to the United States Commission on Civil Rights, it is reported that some of the community areas in Chicago are lacking supermarkets, grocery stores and healthy food in general. Restricted access to healthy foods lead to higher rates of chronic illness like diabetes, hypertension, or cardiovascular disease.\n",
    "\n",
    "Furthermore, it is stated in the report that these food desert neighborhoods are almost exclusively in African American neighborhoods making the issue a civil rights one beyond its public health dimension.\n",
    "\n",
    "**In the next part we will try to see if we can visualize the food deserts using the food inspection dataset**\n",
    "\n",
    "\n",
    "[source](https://www.usccr.gov/pubs/docs/IL-FoodDeserts-2011.pdf)"
   ]
  },
  {
   "cell_type": "code",
   "execution_count": null,
   "metadata": {},
   "outputs": [],
   "source": [
    "fp = \"./boundaries_processed.geojson\"\n",
    "boundaries_community_areas = gpd.read_file(fp)\n",
    "boundaries_community_areas.head()"
   ]
  },
  {
   "cell_type": "code",
   "execution_count": null,
   "metadata": {
    "scrolled": false
   },
   "outputs": [],
   "source": [
    "#We care about grocery stores only\n",
    "groceries_intensity = inspections[inspections['Facility Type']=='grocery store']\n",
    "#We focus on year 2018\n",
    "groceries_intensity = groceries_intensity[groceries_intensity['Inspection Date'].dt.year==2018]\n",
    "groceries_intensity = groceries_intensity[['Community Area','DBA Name']].drop_duplicates().groupby('Community Area')['DBA Name'].agg({'nbr_grocery' : len})\n",
    "groceries_intensity.reset_index(inplace=True)\n",
    "groceries_intensity['Community Area'] = groceries_intensity['Community Area'].str.upper().str.strip()\n",
    "groceries_intensity"
   ]
  },
  {
   "cell_type": "code",
   "execution_count": null,
   "metadata": {},
   "outputs": [],
   "source": [
    "missing_1 = set(boundaries_community_areas['community'])-set(groceries_intensity['Community Area'])\n",
    "missing_1 = pd.DataFrame(missing_1, columns=['Community Area'])\n",
    "missing_1['nbr_restaurants'] = 0\n",
    "print(\"Community areas missing in the inspection dataset: \")\n",
    "missing_1"
   ]
  },
  {
   "cell_type": "code",
   "execution_count": null,
   "metadata": {},
   "outputs": [],
   "source": [
    "groceries_intensity.loc[13,'Community Area']='ARMOUR SQUARE'\n",
    "groceries_intensity = groceries_intensity.groupby('Community Area')['nbr_grocery'].agg({'nbr_grocery' : sum})\n",
    "groceries_intensity.reset_index(inplace=True)\n",
    "groceries_intensity"
   ]
  },
  {
   "cell_type": "code",
   "execution_count": null,
   "metadata": {},
   "outputs": [],
   "source": [
    "restaurants_intensity.sort_values(by=['Community Area'], inplace=True)\n",
    "restaurants_intensity.reset_index(inplace=True,drop=True)\n",
    "restaurants_intensity['Community Area'] = restaurants_intensity['Community Area'].astype('str')\n",
    "restaurants_intensity"
   ]
  },
  {
   "cell_type": "code",
   "execution_count": null,
   "metadata": {},
   "outputs": [],
   "source": [
    "# Initialize the map:\n",
    "groceries_by_community = folium.Map([41.86087, -87.608945], zoom_start=11, tiles = \"cartodbpositron\")\n",
    " \n",
    "# Add the color for the chloropleth:\n",
    "groceries_by_community.choropleth(\n",
    " geo_data=fp,\n",
    " data=groceries_intensity,\n",
    " columns=['Community Area', 'nbr_grocery'],\n",
    " key_on='feature.properties.community',\n",
    " fill_color='YlGn',\n",
    " fill_opacity=0.7,\n",
    " line_opacity=0.2,\n",
    " legend_name='Number of grocery stores by community'\n",
    ")\n",
    "folium.LayerControl().add_to(groceries_by_community)\n",
    " \n",
    "# Save to html\n",
    "groceries_by_community.save('groceries_by_community.html')\n",
    "groceries_by_community"
   ]
  },
  {
   "cell_type": "markdown",
   "metadata": {},
   "source": [
    "We certainly see a difference in the concentration of grocery stores between the North and the South, the south being quite sparse.\n",
    "**idee: ajouter timestamp par année pour voir si des mesures on ete prises**\n",
    "\n",
    "\"Chicago’s segregation is certainly legendary, with the North and South sides divided by class and race. To keep it stereotypically simple: The North Side is white, the South Side is black.\" [source](https://chicago.eater.com/2018/12/13/18138387/chicago-magazine-john-kessler-food-scene-racism-immigration-food)"
   ]
  },
  {
   "cell_type": "code",
   "execution_count": null,
   "metadata": {},
   "outputs": [],
   "source": []
  }
 ],
 "metadata": {
  "kernelspec": {
   "display_name": "Python 3",
   "language": "python",
   "name": "python3"
  },
  "language_info": {
   "codemirror_mode": {
    "name": "ipython",
    "version": 3
   },
   "file_extension": ".py",
   "mimetype": "text/x-python",
   "name": "python",
   "nbconvert_exporter": "python",
   "pygments_lexer": "ipython3",
   "version": "3.7.0"
  }
 },
 "nbformat": 4,
 "nbformat_minor": 2
}
