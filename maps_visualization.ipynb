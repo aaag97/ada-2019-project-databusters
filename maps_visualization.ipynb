{
 "cells": [
  {
   "cell_type": "markdown",
   "metadata": {
    "toc": true
   },
   "source": [
    "<h1>Table of Contents<span class=\"tocSkip\"></span></h1>\n",
    "<div class=\"toc\"><ul class=\"toc-item\"><li><span><a href=\"#Relevant-imports\" data-toc-modified-id=\"Relevant-imports-1\">Relevant imports</a></span></li><li><span><a href=\"#Useful-datasets\" data-toc-modified-id=\"Useful-datasets-2\">Useful datasets</a></span></li><li><span><a href=\"#I.-Visualizing-Restaurants\" data-toc-modified-id=\"I.-Visualizing-Restaurants-3\">I. Visualizing Restaurants</a></span><ul class=\"toc-item\"><li><span><a href=\"#Restaurants-on-a-map\" data-toc-modified-id=\"Restaurants-on-a-map-3.1\">Restaurants on a map</a></span></li><li><span><a href=\"#Heatmap-showing-restaurants-locations-concentration\" data-toc-modified-id=\"Heatmap-showing-restaurants-locations-concentration-3.2\">Heatmap showing restaurants locations concentration</a></span></li><li><span><a href=\"#Number-of-restaurants-by-community-area\" data-toc-modified-id=\"Number-of-restaurants-by-community-area-3.3\">Number of restaurants by community area</a></span></li><li><span><a href=\"#Food-deserts\" data-toc-modified-id=\"Food-deserts-3.4\">Food deserts</a></span></li></ul></li></ul></div>"
   ]
  },
  {
   "cell_type": "markdown",
   "metadata": {},
   "source": [
    "# Relevant imports"
   ]
  },
  {
   "cell_type": "code",
   "execution_count": 114,
   "metadata": {},
   "outputs": [],
   "source": [
    "import pandas as pd\n",
    "import numpy as np\n",
    "import matplotlib.pyplot as plt\n",
    "import seaborn as sns\n",
    "import re\n",
    "import math\n",
    "from geopy.geocoders import Nominatim\n",
    "from geopy.extra.rate_limiter import RateLimiter\n",
    "\n",
    "import datetime\n",
    "\n",
    "from autocorrect import Speller\n",
    "\n",
    "from datetime import date as dt\n",
    "\n",
    "import folium\n",
    "from folium import plugins\n",
    "from folium.plugins import HeatMap\n",
    "#http://geopandas.org/install.html\n",
    "import geopandas as gpd\n",
    "\n",
    "import geopandas as gpd\n",
    "from shapely.geometry import shape, Point\n",
    "\n",
    "import requests\n",
    "from pandas.io.json import json_normalize\n",
    "import pandas_profiling\n",
    "\n",
    "import warnings\n",
    "warnings.filterwarnings('ignore')"
   ]
  },
  {
   "cell_type": "markdown",
   "metadata": {},
   "source": [
    "# Useful datasets"
   ]
  },
  {
   "cell_type": "code",
   "execution_count": 115,
   "metadata": {},
   "outputs": [],
   "source": [
    "socioeconomic_factors = pd.read_csv(\"datasets/cleaned_socioeconomic_factors.csv\")\n",
    "inspections = pd.read_csv(\"datasets/cleaned_inspections.csv\")\n",
    "fp = \"datasets/boundaries_processed.geojson\"\n",
    "boundaries_community_areas = gpd.read_file(fp)"
   ]
  },
  {
   "cell_type": "code",
   "execution_count": 116,
   "metadata": {},
   "outputs": [
    {
     "data": {
      "text/plain": [
       "Index(['Community Area', 'Community Area Name', 'Colorectal Cancer',\n",
       "       'Diabetes-related', 'Stroke (Cerebrovascular Disease)',\n",
       "       'Below Poverty Level', 'Per Capita Income', 'Unemployment',\n",
       "       'Population'],\n",
       "      dtype='object')"
      ]
     },
     "execution_count": 116,
     "metadata": {},
     "output_type": "execute_result"
    }
   ],
   "source": [
    "socioeconomic_factors.columns"
   ]
  },
  {
   "cell_type": "code",
   "execution_count": 117,
   "metadata": {},
   "outputs": [
    {
     "data": {
      "text/plain": [
       "Index(['community', 'area_number', 'shape_area', 'geometry'], dtype='object')"
      ]
     },
     "execution_count": 117,
     "metadata": {},
     "output_type": "execute_result"
    }
   ],
   "source": [
    "boundaries_community_areas.columns"
   ]
  },
  {
   "cell_type": "code",
   "execution_count": 118,
   "metadata": {},
   "outputs": [
    {
     "data": {
      "text/plain": [
       "Index(['Inspection ID', 'DBA Name', 'AKA Name', 'License #', 'Facility Type',\n",
       "       'Risk', 'Address', 'Inspection Date', 'Inspection Type', 'Results',\n",
       "       'Violations', 'Latitude', 'Longitude', 'Location', 'Community Area',\n",
       "       'Violation Numbers', 'Violation Comments', 'Reinspections',\n",
       "       'area_number'],\n",
       "      dtype='object')"
      ]
     },
     "execution_count": 118,
     "metadata": {},
     "output_type": "execute_result"
    }
   ],
   "source": [
    "inspections.columns"
   ]
  },
  {
   "cell_type": "code",
   "execution_count": null,
   "metadata": {},
   "outputs": [],
   "source": [
    "inspections.loc[:,('Inspection Date')]=inspections.loc[:,('Inspection Date')].apply(pd.to_datetime)"
   ]
  },
  {
   "cell_type": "code",
   "execution_count": null,
   "metadata": {},
   "outputs": [],
   "source": [
    "inspections.dtypes"
   ]
  },
  {
   "cell_type": "markdown",
   "metadata": {},
   "source": [
    "# I. Visualizing Restaurants"
   ]
  },
  {
   "cell_type": "markdown",
   "metadata": {},
   "source": [
    "Let us first focus on one of the most important facility types in our dataset: restaurants."
   ]
  },
  {
   "cell_type": "markdown",
   "metadata": {},
   "source": [
    "## Restaurants on a map"
   ]
  },
  {
   "cell_type": "markdown",
   "metadata": {},
   "source": [
    "Let's display the different restaurants in our dataset on a map."
   ]
  },
  {
   "cell_type": "code",
   "execution_count": 5,
   "metadata": {},
   "outputs": [],
   "source": [
    "#We only display restaurant in our map\n",
    "restaurant_locations = inspections[inspections['Facility Type']=='Restaurant']\n",
    "#We reduce the data size & display only restaurants that still exist in year 2018\n",
    "restaurant_locations = restaurant_locations[restaurant_locations['Inspection Date'].dt.year==2018]\n",
    "restaurant_locations = restaurant_locations[['DBA Name', 'Latitude','Longitude']].drop_duplicates()\n",
    "restaurant_locations_array = np.array(restaurant_locations)"
   ]
  },
  {
   "cell_type": "code",
   "execution_count": 177,
   "metadata": {},
   "outputs": [],
   "source": [
    "locations_map = folium.Map(location=[41.86087, -87.608945], zoom_start=10)\n",
    "for i, info in enumerate(restaurant_locations_array):\n",
    "    folium.Marker(\n",
    "        location=[info[1], info[2]],\n",
    "        popup=info[0],\n",
    "        icon=folium.Icon(color='red', icon='info-sign')).add_to(locations_map)\n",
    "#locations_map.save('./docs/restaurants_map.html')"
   ]
  },
  {
   "cell_type": "markdown",
   "metadata": {},
   "source": [
    "**The map can be accessed [here](https://aaag97.github.io/ada-2019-project-databusters/restaurants_map.html)**"
   ]
  },
  {
   "cell_type": "code",
   "execution_count": 178,
   "metadata": {},
   "outputs": [
    {
     "data": {
      "text/plain": [
       "16812"
      ]
     },
     "execution_count": 178,
     "metadata": {},
     "output_type": "execute_result"
    }
   ],
   "source": [
    "len(inspections['Location'].unique())"
   ]
  },
  {
   "cell_type": "code",
   "execution_count": 179,
   "metadata": {},
   "outputs": [
    {
     "data": {
      "text/plain": [
       "27420"
      ]
     },
     "execution_count": 179,
     "metadata": {},
     "output_type": "execute_result"
    }
   ],
   "source": [
    "len(inspections['DBA Name'].unique())"
   ]
  },
  {
   "cell_type": "markdown",
   "metadata": {},
   "source": [
    "We notice the following:\n",
    "\n",
    "* From the map displayed we see that the icons are stacked and condensed into the same regions, hence this time of displaying does not meet our needs.\n",
    "* This is not a good way to display more than 27'420 restaurants in one map as the result is not visible. But it will probably be useful later on when we will want to filter and visualize only a subset of the restaurants.\n",
    "* We also see above that apparently the locations of the restaurants we have are not very precise because we have less locations that establishments.\n",
    "\n",
    "For those two last points, it makes more sense to show a heatmap of the restaurants which will display the restaurants \"concentration\" (areas with high concentration of restaurants)"
   ]
  },
  {
   "cell_type": "markdown",
   "metadata": {},
   "source": [
    "## Heatmap showing restaurants locations concentration"
   ]
  },
  {
   "cell_type": "code",
   "execution_count": 180,
   "metadata": {},
   "outputs": [
    {
     "data": {
      "text/plain": [
       "<folium.plugins.heat_map.HeatMap at 0x1c4fd00ef0>"
      ]
     },
     "execution_count": 180,
     "metadata": {},
     "output_type": "execute_result"
    }
   ],
   "source": [
    "locations_heatmap = folium.Map([41.86087, -87.608945], zoom_start=11)\n",
    "\n",
    "# List comprehension to make out list of lists\n",
    "heat_data = [[row['Latitude'],row['Longitude']] for index, row in restaurant_locations.iterrows()]\n",
    "\n",
    "# Plot it on the map\n",
    "HeatMap(heat_data, radius=17).add_to(locations_heatmap)\n",
    "\n",
    "# Display the map\n",
    "#locations_heatmap.save('./docs/restaurants_heatmap.html')\n",
    "#locations_heatmap"
   ]
  },
  {
   "cell_type": "markdown",
   "metadata": {},
   "source": [
    "**The map can be accessed [here](https://aaag97.github.io/ada-2019-project-databusters/restaurants_heatmap.html)**\n",
    "\n",
    "As expected, there are a lot more restaurants in the city center of chicago."
   ]
  },
  {
   "cell_type": "markdown",
   "metadata": {},
   "source": [
    "## Number of restaurants by community area"
   ]
  },
  {
   "cell_type": "markdown",
   "metadata": {},
   "source": [
    "Now we want to display the community areas as a heatmap of the number of restaurants they have.\n",
    "\n",
    "Get community areas boundaries from:\n",
    "https://www.chicago.gov/city/en/depts/doit/dataset/boundaries_-_communityareas.html"
   ]
  },
  {
   "cell_type": "markdown",
   "metadata": {},
   "source": [
    "We do a sanity check to see if the community areas in the inspection data we got from geopy correspond to the community areas we get from Chicago Government portal."
   ]
  },
  {
   "cell_type": "code",
   "execution_count": 182,
   "metadata": {},
   "outputs": [
    {
     "data": {
      "text/html": [
       "<div>\n",
       "<style scoped>\n",
       "    .dataframe tbody tr th:only-of-type {\n",
       "        vertical-align: middle;\n",
       "    }\n",
       "\n",
       "    .dataframe tbody tr th {\n",
       "        vertical-align: top;\n",
       "    }\n",
       "\n",
       "    .dataframe thead th {\n",
       "        text-align: right;\n",
       "    }\n",
       "</style>\n",
       "<table border=\"1\" class=\"dataframe\">\n",
       "  <thead>\n",
       "    <tr style=\"text-align: right;\">\n",
       "      <th></th>\n",
       "      <th>Community Area</th>\n",
       "      <th>nbr_restaurants</th>\n",
       "    </tr>\n",
       "  </thead>\n",
       "  <tbody>\n",
       "    <tr>\n",
       "      <th>0</th>\n",
       "      <td>ALBANY PARK</td>\n",
       "      <td>118</td>\n",
       "    </tr>\n",
       "    <tr>\n",
       "      <th>1</th>\n",
       "      <td>ARCHER HEIGHTS</td>\n",
       "      <td>42</td>\n",
       "    </tr>\n",
       "    <tr>\n",
       "      <th>2</th>\n",
       "      <td>ARMOUR SQUARE</td>\n",
       "      <td>94</td>\n",
       "    </tr>\n",
       "    <tr>\n",
       "      <th>3</th>\n",
       "      <td>ASHBURN</td>\n",
       "      <td>53</td>\n",
       "    </tr>\n",
       "    <tr>\n",
       "      <th>4</th>\n",
       "      <td>AUBURN GRESHAM</td>\n",
       "      <td>49</td>\n",
       "    </tr>\n",
       "    <tr>\n",
       "      <th>...</th>\n",
       "      <td>...</td>\n",
       "      <td>...</td>\n",
       "    </tr>\n",
       "    <tr>\n",
       "      <th>71</th>\n",
       "      <td>WEST LAWN</td>\n",
       "      <td>63</td>\n",
       "    </tr>\n",
       "    <tr>\n",
       "      <th>72</th>\n",
       "      <td>WEST PULLMAN</td>\n",
       "      <td>11</td>\n",
       "    </tr>\n",
       "    <tr>\n",
       "      <th>73</th>\n",
       "      <td>WEST RIDGE</td>\n",
       "      <td>176</td>\n",
       "    </tr>\n",
       "    <tr>\n",
       "      <th>74</th>\n",
       "      <td>WEST TOWN</td>\n",
       "      <td>314</td>\n",
       "    </tr>\n",
       "    <tr>\n",
       "      <th>75</th>\n",
       "      <td>WOODLAWN</td>\n",
       "      <td>25</td>\n",
       "    </tr>\n",
       "  </tbody>\n",
       "</table>\n",
       "<p>76 rows × 2 columns</p>\n",
       "</div>"
      ],
      "text/plain": [
       "    Community Area  nbr_restaurants\n",
       "0      ALBANY PARK              118\n",
       "1   ARCHER HEIGHTS               42\n",
       "2    ARMOUR SQUARE               94\n",
       "3          ASHBURN               53\n",
       "4   AUBURN GRESHAM               49\n",
       "..             ...              ...\n",
       "71       WEST LAWN               63\n",
       "72    WEST PULLMAN               11\n",
       "73      WEST RIDGE              176\n",
       "74       WEST TOWN              314\n",
       "75        WOODLAWN               25\n",
       "\n",
       "[76 rows x 2 columns]"
      ]
     },
     "execution_count": 182,
     "metadata": {},
     "output_type": "execute_result"
    }
   ],
   "source": [
    "#We care about restaurants only\n",
    "restaurants_intensity = inspections[inspections['Facility Type']=='Restaurant']\n",
    "#We focus on year 2018\n",
    "restaurants_intensity = restaurants_intensity[restaurants_intensity['Inspection Date'].dt.year==2018]\n",
    "restaurants_intensity = restaurants_intensity[['Community Area','DBA Name']].drop_duplicates().groupby('Community Area')['DBA Name'].agg({'nbr_restaurants' : len})\n",
    "restaurants_intensity.reset_index(inplace=True)\n",
    "restaurants_intensity['Community Area'] = restaurants_intensity['Community Area'].str.upper().str.strip()\n",
    "restaurants_intensity"
   ]
  },
  {
   "cell_type": "markdown",
   "metadata": {},
   "source": [
    "There is one community area that does not appear in our dataset for the parameters we chose (restaurants in 2018), let's add it to our data with nbr_restaurants = 0."
   ]
  },
  {
   "cell_type": "code",
   "execution_count": 183,
   "metadata": {},
   "outputs": [
    {
     "name": "stdout",
     "output_type": "stream",
     "text": [
      "Community areas missing in the inspection dataset: \n"
     ]
    },
    {
     "data": {
      "text/html": [
       "<div>\n",
       "<style scoped>\n",
       "    .dataframe tbody tr th:only-of-type {\n",
       "        vertical-align: middle;\n",
       "    }\n",
       "\n",
       "    .dataframe tbody tr th {\n",
       "        vertical-align: top;\n",
       "    }\n",
       "\n",
       "    .dataframe thead th {\n",
       "        text-align: right;\n",
       "    }\n",
       "</style>\n",
       "<table border=\"1\" class=\"dataframe\">\n",
       "  <thead>\n",
       "    <tr style=\"text-align: right;\">\n",
       "      <th></th>\n",
       "      <th>Community Area</th>\n",
       "      <th>nbr_restaurants</th>\n",
       "    </tr>\n",
       "  </thead>\n",
       "  <tbody>\n",
       "    <tr>\n",
       "      <th>0</th>\n",
       "      <td>RIVERDALE</td>\n",
       "      <td>0</td>\n",
       "    </tr>\n",
       "  </tbody>\n",
       "</table>\n",
       "</div>"
      ],
      "text/plain": [
       "  Community Area  nbr_restaurants\n",
       "0      RIVERDALE                0"
      ]
     },
     "execution_count": 183,
     "metadata": {},
     "output_type": "execute_result"
    }
   ],
   "source": [
    "missing_1 = set(boundaries_community_areas['community'])-set(restaurants_intensity['Community Area'])\n",
    "missing_1 = pd.DataFrame(missing_1, columns=['Community Area'])\n",
    "missing_1['nbr_restaurants'] = 0\n",
    "print(\"Community areas missing in the inspection dataset: \")\n",
    "missing_1"
   ]
  },
  {
   "cell_type": "markdown",
   "metadata": {},
   "source": [
    "We can now merge the community areas and display the resulting nbr_restaurants"
   ]
  },
  {
   "cell_type": "code",
   "execution_count": 184,
   "metadata": {},
   "outputs": [
    {
     "data": {
      "text/html": [
       "<div>\n",
       "<style scoped>\n",
       "    .dataframe tbody tr th:only-of-type {\n",
       "        vertical-align: middle;\n",
       "    }\n",
       "\n",
       "    .dataframe tbody tr th {\n",
       "        vertical-align: top;\n",
       "    }\n",
       "\n",
       "    .dataframe thead th {\n",
       "        text-align: right;\n",
       "    }\n",
       "</style>\n",
       "<table border=\"1\" class=\"dataframe\">\n",
       "  <thead>\n",
       "    <tr style=\"text-align: right;\">\n",
       "      <th></th>\n",
       "      <th>Community Area</th>\n",
       "      <th>nbr_restaurants</th>\n",
       "    </tr>\n",
       "  </thead>\n",
       "  <tbody>\n",
       "    <tr>\n",
       "      <th>0</th>\n",
       "      <td>ALBANY PARK</td>\n",
       "      <td>118</td>\n",
       "    </tr>\n",
       "    <tr>\n",
       "      <th>1</th>\n",
       "      <td>ARCHER HEIGHTS</td>\n",
       "      <td>42</td>\n",
       "    </tr>\n",
       "    <tr>\n",
       "      <th>2</th>\n",
       "      <td>ARMOUR SQUARE</td>\n",
       "      <td>94</td>\n",
       "    </tr>\n",
       "    <tr>\n",
       "      <th>3</th>\n",
       "      <td>ASHBURN</td>\n",
       "      <td>53</td>\n",
       "    </tr>\n",
       "    <tr>\n",
       "      <th>4</th>\n",
       "      <td>AUBURN GRESHAM</td>\n",
       "      <td>49</td>\n",
       "    </tr>\n",
       "    <tr>\n",
       "      <th>...</th>\n",
       "      <td>...</td>\n",
       "      <td>...</td>\n",
       "    </tr>\n",
       "    <tr>\n",
       "      <th>72</th>\n",
       "      <td>WEST LAWN</td>\n",
       "      <td>63</td>\n",
       "    </tr>\n",
       "    <tr>\n",
       "      <th>73</th>\n",
       "      <td>WEST PULLMAN</td>\n",
       "      <td>11</td>\n",
       "    </tr>\n",
       "    <tr>\n",
       "      <th>74</th>\n",
       "      <td>WEST RIDGE</td>\n",
       "      <td>176</td>\n",
       "    </tr>\n",
       "    <tr>\n",
       "      <th>75</th>\n",
       "      <td>WEST TOWN</td>\n",
       "      <td>314</td>\n",
       "    </tr>\n",
       "    <tr>\n",
       "      <th>76</th>\n",
       "      <td>WOODLAWN</td>\n",
       "      <td>25</td>\n",
       "    </tr>\n",
       "  </tbody>\n",
       "</table>\n",
       "<p>77 rows × 2 columns</p>\n",
       "</div>"
      ],
      "text/plain": [
       "    Community Area  nbr_restaurants\n",
       "0      ALBANY PARK              118\n",
       "1   ARCHER HEIGHTS               42\n",
       "2    ARMOUR SQUARE               94\n",
       "3          ASHBURN               53\n",
       "4   AUBURN GRESHAM               49\n",
       "..             ...              ...\n",
       "72       WEST LAWN               63\n",
       "73    WEST PULLMAN               11\n",
       "74      WEST RIDGE              176\n",
       "75       WEST TOWN              314\n",
       "76        WOODLAWN               25\n",
       "\n",
       "[77 rows x 2 columns]"
      ]
     },
     "execution_count": 184,
     "metadata": {},
     "output_type": "execute_result"
    }
   ],
   "source": [
    "restaurants_intensity = restaurants_intensity.append(missing_1)\n",
    "restaurants_intensity.sort_values(by=['Community Area'], inplace=True)\n",
    "restaurants_intensity.reset_index(inplace=True,drop=True)\n",
    "restaurants_intensity['Community Area'] = restaurants_intensity['Community Area'].astype('str')\n",
    "restaurants_intensity"
   ]
  },
  {
   "cell_type": "code",
   "execution_count": 185,
   "metadata": {},
   "outputs": [
    {
     "data": {
      "text/plain": [
       "<folium.map.LayerControl at 0x1c279283c8>"
      ]
     },
     "execution_count": 185,
     "metadata": {},
     "output_type": "execute_result"
    }
   ],
   "source": [
    "# Initialize the map:\n",
    "restaurants_by_community = folium.Map([41.86087, -87.608945], zoom_start=11, tiles = \"cartodbpositron\")\n",
    " \n",
    "# Add the color for the chloropleth:\n",
    "restaurants_by_community.choropleth(\n",
    " geo_data=fp,\n",
    " data=restaurants_intensity,\n",
    " columns=['Community Area', 'nbr_restaurants'],\n",
    " key_on='feature.properties.community',\n",
    " fill_color='YlGn',\n",
    " fill_opacity=0.7,\n",
    " line_opacity=0.2,\n",
    " legend_name='Number of restaurants by community'\n",
    ")\n",
    "folium.LayerControl().add_to(restaurants_by_community)\n",
    " \n",
    "# Save to html\n",
    "#restaurants_by_community.save('./docs/restaurants_by_community.html')\n",
    "#restaurants_by_community"
   ]
  },
  {
   "cell_type": "markdown",
   "metadata": {},
   "source": [
    "**The map can be accessed [here](https://aaag97.github.io/ada-2019-project-databusters/restaurants_by_community.html)**"
   ]
  },
  {
   "cell_type": "markdown",
   "metadata": {},
   "source": [
    "The results we obtain are consistent with the ones we had in the heatmap: More restaurants are concentrated around the city center of Chicago.\n",
    "\n",
    "Another pattern also emerges, the northern community areas of the city seems to contain more restaurants than the southern ones."
   ]
  },
  {
   "cell_type": "markdown",
   "metadata": {},
   "source": [
    "## Food deserts\n",
    "\n",
    "**Context:**\n",
    "\n",
    "After a small research, we found out about a problem affecting public health in Chicago at a large scale called **Food deserts**. In a report by the Illinois Advisory Committee to the United States Commission on Civil Rights, it is reported that some of the community areas in Chicago are lacking supermarkets, grocery stores and healthy food in general. Restricted access to healthy foods lead to higher rates of chronic illness like diabetes, hypertension, or cardiovascular disease. [source](https://www.usccr.gov/pubs/docs/IL-FoodDeserts-2011.pdf)\n",
    "\n",
    "Furthermore, it is stated in the report that these food desert neighborhoods are almost exclusively in African American neighborhoods making the issue a civil rights one beyond its public health dimension.\n",
    "\n",
    "**In the next part we will try to see if we can visualize the food deserts using the food inspection dataset**"
   ]
  },
  {
   "cell_type": "markdown",
   "metadata": {},
   "source": [
    "**Approach to the problem**\n",
    "\n",
    "* We first try to look at establishments that represent healthy food providers (grocery store, farmer's market, fish market, meat market, etc). These establishments also have inspections and so we retrieve them from our dataset and plot their intensity by 1'000 habitants for the different community areas.\n",
    "\n",
    "* We then try to visualize on a map the most common ethnicity accross all community areas as well as some socio economic factors.\n",
    "\n",
    "* In the end we will show diet related disease rates by community area as well and try to see how it relates."
   ]
  },
  {
   "cell_type": "code",
   "execution_count": 111,
   "metadata": {},
   "outputs": [
    {
     "data": {
      "text/html": [
       "<div>\n",
       "<style scoped>\n",
       "    .dataframe tbody tr th:only-of-type {\n",
       "        vertical-align: middle;\n",
       "    }\n",
       "\n",
       "    .dataframe tbody tr th {\n",
       "        vertical-align: top;\n",
       "    }\n",
       "\n",
       "    .dataframe thead th {\n",
       "        text-align: right;\n",
       "    }\n",
       "</style>\n",
       "<table border=\"1\" class=\"dataframe\">\n",
       "  <thead>\n",
       "    <tr style=\"text-align: right;\">\n",
       "      <th></th>\n",
       "      <th>Community Area</th>\n",
       "      <th>area_number</th>\n",
       "      <th>nbr_markets</th>\n",
       "    </tr>\n",
       "  </thead>\n",
       "  <tbody>\n",
       "    <tr>\n",
       "      <th>0</th>\n",
       "      <td>ALBANY PARK</td>\n",
       "      <td>14</td>\n",
       "      <td>25</td>\n",
       "    </tr>\n",
       "  </tbody>\n",
       "</table>\n",
       "</div>"
      ],
      "text/plain": [
       "  Community Area  area_number  nbr_markets\n",
       "0    ALBANY PARK           14           25"
      ]
     },
     "execution_count": 111,
     "metadata": {},
     "output_type": "execute_result"
    }
   ],
   "source": [
    "#We care about grocery stores only\n",
    "groceries_intensity = inspections[inspections['Facility Type']=='Market']\n",
    "# We take distinct markets ranging from year 2015 to 2019\n",
    "# This is because some establishment do not receive any inspection on a given year sometimes \n",
    "groceries_intensity = groceries_intensity[groceries_intensity['Inspection Date'].dt.year==2018]\n",
    "groceries_intensity = groceries_intensity[['Community Area','DBA Name','area_number']].drop_duplicates().groupby(['Community Area','area_number'])['DBA Name'].agg({'nbr_markets' : len})\n",
    "groceries_intensity.reset_index(inplace=True)\n",
    "groceries_intensity.head(1)"
   ]
  },
  {
   "cell_type": "code",
   "execution_count": 113,
   "metadata": {},
   "outputs": [
    {
     "ename": "TypeError",
     "evalue": "unsupported operand type(s) for /: 'int' and 'str'",
     "output_type": "error",
     "traceback": [
      "\u001b[0;31m---------------------------------------------------------------------------\u001b[0m",
      "\u001b[0;31mTypeError\u001b[0m                                 Traceback (most recent call last)",
      "\u001b[0;32m<ipython-input-113-827ca512855e>\u001b[0m in \u001b[0;36m<module>\u001b[0;34m\u001b[0m\n\u001b[0;32m----> 1\u001b[0;31m \u001b[0mgroceries_intensity\u001b[0m\u001b[0;34m[\u001b[0m\u001b[0;34m'nbr_markets'\u001b[0m\u001b[0;34m]\u001b[0m \u001b[0;34m=\u001b[0m \u001b[0mgroceries_intensity\u001b[0m\u001b[0;34m[\u001b[0m\u001b[0;34m'nbr_markets'\u001b[0m\u001b[0;34m]\u001b[0m\u001b[0;34m.\u001b[0m\u001b[0mdiv\u001b[0m\u001b[0;34m(\u001b[0m\u001b[0mboundaries_community_areas\u001b[0m\u001b[0;34m[\u001b[0m\u001b[0;34m'shape_area'\u001b[0m\u001b[0;34m]\u001b[0m\u001b[0;34m.\u001b[0m\u001b[0mvalues\u001b[0m\u001b[0;34m,\u001b[0m\u001b[0maxis\u001b[0m\u001b[0;34m=\u001b[0m\u001b[0;36m0\u001b[0m\u001b[0;34m)\u001b[0m\u001b[0;34m\u001b[0m\u001b[0m\n\u001b[0m\u001b[1;32m      2\u001b[0m \u001b[0mgroceries_intensity\u001b[0m\u001b[0;34m[\u001b[0m\u001b[0;34m'nbr_markets'\u001b[0m\u001b[0;34m]\u001b[0m\u001b[0;34m=\u001b[0m\u001b[0mgroceries_intensity\u001b[0m\u001b[0;34m[\u001b[0m\u001b[0;34m'nbr_markets'\u001b[0m\u001b[0;34m]\u001b[0m\u001b[0;34m*\u001b[0m\u001b[0;36m10000\u001b[0m\u001b[0;34m\u001b[0m\u001b[0m\n\u001b[1;32m      3\u001b[0m \u001b[0mgroceries_intensity\u001b[0m\u001b[0;34m\u001b[0m\u001b[0m\n",
      "\u001b[0;32m~/anaconda3/lib/python3.7/site-packages/pandas/core/ops/__init__.py\u001b[0m in \u001b[0;36mflex_wrapper\u001b[0;34m(self, other, level, fill_value, axis)\u001b[0m\n\u001b[1;32m   1343\u001b[0m                 \u001b[0;32mraise\u001b[0m \u001b[0mValueError\u001b[0m\u001b[0;34m(\u001b[0m\u001b[0;34m\"Lengths must be equal\"\u001b[0m\u001b[0;34m)\u001b[0m\u001b[0;34m\u001b[0m\u001b[0m\n\u001b[1;32m   1344\u001b[0m             \u001b[0mother\u001b[0m \u001b[0;34m=\u001b[0m \u001b[0mself\u001b[0m\u001b[0;34m.\u001b[0m\u001b[0m_constructor\u001b[0m\u001b[0;34m(\u001b[0m\u001b[0mother\u001b[0m\u001b[0;34m,\u001b[0m \u001b[0mself\u001b[0m\u001b[0;34m.\u001b[0m\u001b[0mindex\u001b[0m\u001b[0;34m)\u001b[0m\u001b[0;34m\u001b[0m\u001b[0m\n\u001b[0;32m-> 1345\u001b[0;31m             \u001b[0;32mreturn\u001b[0m \u001b[0mself\u001b[0m\u001b[0;34m.\u001b[0m\u001b[0m_binop\u001b[0m\u001b[0;34m(\u001b[0m\u001b[0mother\u001b[0m\u001b[0;34m,\u001b[0m \u001b[0mop\u001b[0m\u001b[0;34m,\u001b[0m \u001b[0mlevel\u001b[0m\u001b[0;34m=\u001b[0m\u001b[0mlevel\u001b[0m\u001b[0;34m,\u001b[0m \u001b[0mfill_value\u001b[0m\u001b[0;34m=\u001b[0m\u001b[0mfill_value\u001b[0m\u001b[0;34m)\u001b[0m\u001b[0;34m\u001b[0m\u001b[0m\n\u001b[0m\u001b[1;32m   1346\u001b[0m         \u001b[0;32melse\u001b[0m\u001b[0;34m:\u001b[0m\u001b[0;34m\u001b[0m\u001b[0m\n\u001b[1;32m   1347\u001b[0m             \u001b[0;32mif\u001b[0m \u001b[0mfill_value\u001b[0m \u001b[0;32mis\u001b[0m \u001b[0;32mnot\u001b[0m \u001b[0;32mNone\u001b[0m\u001b[0;34m:\u001b[0m\u001b[0;34m\u001b[0m\u001b[0m\n",
      "\u001b[0;32m~/anaconda3/lib/python3.7/site-packages/pandas/core/series.py\u001b[0m in \u001b[0;36m_binop\u001b[0;34m(self, other, func, level, fill_value)\u001b[0m\n\u001b[1;32m   2816\u001b[0m \u001b[0;34m\u001b[0m\u001b[0m\n\u001b[1;32m   2817\u001b[0m         \u001b[0;32mwith\u001b[0m \u001b[0mnp\u001b[0m\u001b[0;34m.\u001b[0m\u001b[0merrstate\u001b[0m\u001b[0;34m(\u001b[0m\u001b[0mall\u001b[0m\u001b[0;34m=\u001b[0m\u001b[0;34m\"ignore\"\u001b[0m\u001b[0;34m)\u001b[0m\u001b[0;34m:\u001b[0m\u001b[0;34m\u001b[0m\u001b[0m\n\u001b[0;32m-> 2818\u001b[0;31m             \u001b[0mresult\u001b[0m \u001b[0;34m=\u001b[0m \u001b[0mfunc\u001b[0m\u001b[0;34m(\u001b[0m\u001b[0mthis_vals\u001b[0m\u001b[0;34m,\u001b[0m \u001b[0mother_vals\u001b[0m\u001b[0;34m)\u001b[0m\u001b[0;34m\u001b[0m\u001b[0m\n\u001b[0m\u001b[1;32m   2819\u001b[0m \u001b[0;34m\u001b[0m\u001b[0m\n\u001b[1;32m   2820\u001b[0m         \u001b[0mname\u001b[0m \u001b[0;34m=\u001b[0m \u001b[0mops\u001b[0m\u001b[0;34m.\u001b[0m\u001b[0mget_op_result_name\u001b[0m\u001b[0;34m(\u001b[0m\u001b[0mself\u001b[0m\u001b[0;34m,\u001b[0m \u001b[0mother\u001b[0m\u001b[0;34m)\u001b[0m\u001b[0;34m\u001b[0m\u001b[0m\n",
      "\u001b[0;31mTypeError\u001b[0m: unsupported operand type(s) for /: 'int' and 'str'"
     ]
    }
   ],
   "source": [
    "groceries_intensity['nbr_markets'] = groceries_intensity['nbr_markets'].div(boundaries_community_areas['shape_area'].values,axis=0)\n",
    "groceries_intensity['nbr_markets']=groceries_intensity['nbr_markets']*10000\n",
    "groceries_intensity"
   ]
  },
  {
   "cell_type": "code",
   "execution_count": 103,
   "metadata": {},
   "outputs": [
    {
     "data": {
      "text/html": [
       "<div>\n",
       "<style scoped>\n",
       "    .dataframe tbody tr th:only-of-type {\n",
       "        vertical-align: middle;\n",
       "    }\n",
       "\n",
       "    .dataframe tbody tr th {\n",
       "        vertical-align: top;\n",
       "    }\n",
       "\n",
       "    .dataframe thead th {\n",
       "        text-align: right;\n",
       "    }\n",
       "</style>\n",
       "<table border=\"1\" class=\"dataframe\">\n",
       "  <thead>\n",
       "    <tr style=\"text-align: right;\">\n",
       "      <th></th>\n",
       "      <th>Community Area</th>\n",
       "      <th>area_number</th>\n",
       "      <th>markets_1000people</th>\n",
       "    </tr>\n",
       "  </thead>\n",
       "  <tbody>\n",
       "    <tr>\n",
       "      <th>0</th>\n",
       "      <td>ALBANY PARK</td>\n",
       "      <td>14</td>\n",
       "      <td>0.484731</td>\n",
       "    </tr>\n",
       "    <tr>\n",
       "      <th>1</th>\n",
       "      <td>ARCHER HEIGHTS</td>\n",
       "      <td>57</td>\n",
       "      <td>0.075420</td>\n",
       "    </tr>\n",
       "    <tr>\n",
       "      <th>2</th>\n",
       "      <td>ARMOUR SQUARE</td>\n",
       "      <td>34</td>\n",
       "      <td>0.806747</td>\n",
       "    </tr>\n",
       "    <tr>\n",
       "      <th>3</th>\n",
       "      <td>ASHBURN</td>\n",
       "      <td>70</td>\n",
       "      <td>0.092415</td>\n",
       "    </tr>\n",
       "    <tr>\n",
       "      <th>4</th>\n",
       "      <td>AUBURN GRESHAM</td>\n",
       "      <td>71</td>\n",
       "      <td>0.502513</td>\n",
       "    </tr>\n",
       "    <tr>\n",
       "      <th>...</th>\n",
       "      <td>...</td>\n",
       "      <td>...</td>\n",
       "      <td>...</td>\n",
       "    </tr>\n",
       "    <tr>\n",
       "      <th>72</th>\n",
       "      <td>WEST LAWN</td>\n",
       "      <td>65</td>\n",
       "      <td>0.297663</td>\n",
       "    </tr>\n",
       "    <tr>\n",
       "      <th>73</th>\n",
       "      <td>WEST PULLMAN</td>\n",
       "      <td>53</td>\n",
       "      <td>0.292274</td>\n",
       "    </tr>\n",
       "    <tr>\n",
       "      <th>74</th>\n",
       "      <td>WEST RIDGE</td>\n",
       "      <td>2</td>\n",
       "      <td>0.434057</td>\n",
       "    </tr>\n",
       "    <tr>\n",
       "      <th>75</th>\n",
       "      <td>WEST TOWN</td>\n",
       "      <td>24</td>\n",
       "      <td>0.367046</td>\n",
       "    </tr>\n",
       "    <tr>\n",
       "      <th>76</th>\n",
       "      <td>WOODLAWN</td>\n",
       "      <td>42</td>\n",
       "      <td>0.268982</td>\n",
       "    </tr>\n",
       "  </tbody>\n",
       "</table>\n",
       "<p>77 rows × 3 columns</p>\n",
       "</div>"
      ],
      "text/plain": [
       "    Community Area  area_number  markets_1000people\n",
       "0      ALBANY PARK           14            0.484731\n",
       "1   ARCHER HEIGHTS           57            0.075420\n",
       "2    ARMOUR SQUARE           34            0.806747\n",
       "3          ASHBURN           70            0.092415\n",
       "4   AUBURN GRESHAM           71            0.502513\n",
       "..             ...          ...                 ...\n",
       "72       WEST LAWN           65            0.297663\n",
       "73    WEST PULLMAN           53            0.292274\n",
       "74      WEST RIDGE            2            0.434057\n",
       "75       WEST TOWN           24            0.367046\n",
       "76        WOODLAWN           42            0.268982\n",
       "\n",
       "[77 rows x 3 columns]"
      ]
     },
     "execution_count": 103,
     "metadata": {},
     "output_type": "execute_result"
    }
   ],
   "source": [
    "# Here we tried to compute intensity of markets by 1000 habitant but it was not representative at all, \n",
    "# because some community areas are really small in surface and have so little population but then the nbr \n",
    "# of grocery stores in there is bigger than all the others\n",
    "\"\"\"population_by_community = socioeconomic_factors[['Community Area','Population']]\n",
    "groceries_intensity = groceries_intensity.merge(population_by_community,\\\n",
    "                              left_on='area_number', right_on='Community Area')\n",
    "groceries_intensity['nbr_markets'] = groceries_intensity['nbr_markets'].div(groceries_intensity['Population'].values,axis=0)\n",
    "groceries_intensity['nbr_markets']=groceries_intensity['nbr_markets']*1000\n",
    "groceries_intensity.drop(columns=['Community Area_y','Population'], inplace=True)\n",
    "groceries_intensity.rename(columns={'Community Area_x':'Community Area','nbr_markets':'markets_1000people'}, inplace=True)\n",
    "groceries_intensity\"\"\""
   ]
  },
  {
   "cell_type": "code",
   "execution_count": 104,
   "metadata": {},
   "outputs": [],
   "source": [
    "# Initialize the map:\n",
    "groceries_by_community = folium.Map([41.86087, -87.608945], zoom_start=10, tiles = \"cartodbpositron\")\n",
    " \n",
    "# Add the color for the chloropleth:\n",
    "groceries_by_community.choropleth(\n",
    " geo_data=fp,\n",
    " data=groceries_intensity,\n",
    " columns=['Community Area', 'markets_1000people'],\n",
    " key_on='feature.properties.community',\n",
    " fill_color='YlGn',\n",
    " fill_opacity=0.7,\n",
    " line_opacity=0.2,\n",
    " legend_name='Number of grocery stores by community'\n",
    ")\n",
    "folium.LayerControl().add_to(groceries_by_community)\n",
    " \n",
    "# Save to html\n",
    "groceries_by_community.save('./groceries_by_community.html')\n",
    "#groceries_by_community"
   ]
  },
  {
   "cell_type": "markdown",
   "metadata": {},
   "source": [
    "**The map can be accessed [here](https://aaag97.github.io/ada-2019-project-databusters/groceries_by_community.html)**"
   ]
  },
  {
   "cell_type": "markdown",
   "metadata": {},
   "source": [
    "\"Chicago’s segregation is certainly legendary, with the North and South sides divided by class and race. To keep it stereotypically simple: The North Side is white, the South Side is black.\" [source](https://chicago.eater.com/2018/12/13/18138387/chicago-magazine-john-kessler-food-scene-racism-immigration-food)\n",
    "\n",
    "We certainly see a difference in the concentration of grocery stores between the North and the South, the south being quite sparse.\n",
    "\n",
    "* **For the next milestone, we will visualize the evolution of this distribution accross years using timestamps.**\n",
    "* **We will also plot the density of markets per 1'000 habitants in a community area which seems more fair than plotting the absolute number of markets.**\n",
    "* **We also have in our dataset health related establishments serving food, and from the health indicators dataset, diabetes and other diet related diseases rates which can be interesting to explore as well against what get from the markets visualization.**"
   ]
  },
  {
   "cell_type": "code",
   "execution_count": null,
   "metadata": {},
   "outputs": [],
   "source": []
  },
  {
   "cell_type": "code",
   "execution_count": null,
   "metadata": {},
   "outputs": [],
   "source": []
  }
 ],
 "metadata": {
  "kernelspec": {
   "display_name": "Python 3",
   "language": "python",
   "name": "python3"
  },
  "language_info": {
   "codemirror_mode": {
    "name": "ipython",
    "version": 3
   },
   "file_extension": ".py",
   "mimetype": "text/x-python",
   "name": "python",
   "nbconvert_exporter": "python",
   "pygments_lexer": "ipython3",
   "version": "3.7.0"
  },
  "toc": {
   "base_numbering": 1,
   "nav_menu": {},
   "number_sections": false,
   "sideBar": true,
   "skip_h1_title": false,
   "title_cell": "Table of Contents",
   "title_sidebar": "Contents",
   "toc_cell": true,
   "toc_position": {},
   "toc_section_display": true,
   "toc_window_display": false
  }
 },
 "nbformat": 4,
 "nbformat_minor": 2
}
