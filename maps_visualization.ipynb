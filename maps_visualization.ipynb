{
 "cells": [
  {
   "cell_type": "markdown",
   "metadata": {
    "toc": true
   },
   "source": [
    "<h1>Table of Contents<span class=\"tocSkip\"></span></h1>\n",
    "<div class=\"toc\"><ul class=\"toc-item\"><li><span><a href=\"#Relevant-imports\" data-toc-modified-id=\"Relevant-imports-1\">Relevant imports</a></span></li><li><span><a href=\"#Useful-datasets\" data-toc-modified-id=\"Useful-datasets-2\">Useful datasets</a></span></li><li><span><a href=\"#I.-Visualizing-Restaurants\" data-toc-modified-id=\"I.-Visualizing-Restaurants-3\">I. Visualizing Restaurants</a></span><ul class=\"toc-item\"><li><span><a href=\"#Restaurants-on-a-map\" data-toc-modified-id=\"Restaurants-on-a-map-3.1\">Restaurants on a map</a></span><ul class=\"toc-item\"><li><ul class=\"toc-item\"><li><ul class=\"toc-item\"><li><span><a href=\"#Heatmap-showing-restaurants-locations-concentration\" data-toc-modified-id=\"Heatmap-showing-restaurants-locations-concentration-3.1.0.0.1\">Heatmap showing restaurants locations concentration</a></span></li><li><span><a href=\"#Number-of-restaurants-by-community-area\" data-toc-modified-id=\"Number-of-restaurants-by-community-area-3.1.0.0.2\">Number of restaurants by community area</a></span></li></ul></li><li><span><a href=\"#B.-Grocery-stores-by-community-area\" data-toc-modified-id=\"B.-Grocery-stores-by-community-area-3.1.0.1\">B. Grocery stores by community area</a></span></li></ul></li></ul></li></ul></li></ul></div>"
   ]
  },
  {
   "cell_type": "markdown",
   "metadata": {},
   "source": [
    "# Relevant imports"
   ]
  },
  {
   "cell_type": "code",
   "execution_count": 2,
   "metadata": {},
   "outputs": [],
   "source": [
    "import pandas as pd\n",
    "import numpy as np\n",
    "import matplotlib.pyplot as plt\n",
    "import seaborn as sns\n",
    "import re\n",
    "import math\n",
    "from geopy.geocoders import Nominatim\n",
    "from geopy.extra.rate_limiter import RateLimiter\n",
    "\n",
    "import datetime\n",
    "\n",
    "from autocorrect import Speller\n",
    "\n",
    "from sklearn.linear_model import Ridge\n",
    "from sklearn.model_selection import train_test_split\n",
    "from sklearn.model_selection import cross_val_predict\n",
    "from sklearn.model_selection import cross_val_score\n",
    "from sklearn.metrics import mean_squared_error\n",
    "\n",
    "from datetime import date as dt\n",
    "\n",
    "import folium\n",
    "from folium import plugins\n",
    "from folium.plugins import HeatMap\n",
    "#http://geopandas.org/install.html\n",
    "import geopandas as gpd\n",
    "\n",
    "import geopandas as gpd\n",
    "from shapely.geometry import shape, Point\n",
    "\n",
    "import requests\n",
    "from pandas.io.json import json_normalize\n",
    "import pandas_profiling\n",
    "\n",
    "import warnings\n",
    "warnings.filterwarnings('ignore')"
   ]
  },
  {
   "cell_type": "markdown",
   "metadata": {},
   "source": [
    "# Useful datasets"
   ]
  },
  {
   "cell_type": "code",
   "execution_count": 4,
   "metadata": {},
   "outputs": [],
   "source": [
    "socioeconomic_factors = pd.read_csv(\"socioeconomic_factors.csv\")\n",
    "inspections = pd.read_pickle('datasets/cleaned_inspections.pickle')"
   ]
  },
  {
   "cell_type": "markdown",
   "metadata": {},
   "source": [
    "# I. Visualizing Restaurants"
   ]
  },
  {
   "cell_type": "markdown",
   "metadata": {},
   "source": [
    "Let us first focus on one of the most important facility types in our dataset: restaurants."
   ]
  },
  {
   "cell_type": "markdown",
   "metadata": {},
   "source": [
    "## Restaurants on a map"
   ]
  },
  {
   "cell_type": "markdown",
   "metadata": {},
   "source": [
    "Let's display the different restaurants in our dataset on a map."
   ]
  },
  {
   "cell_type": "code",
   "execution_count": 5,
   "metadata": {},
   "outputs": [],
   "source": [
    "#We only display restaurant in our map\n",
    "restaurant_locations = inspections[inspections['Facility Type']=='Restaurant']\n",
    "#We reduce the data size & display only restaurants that still exist in year 2018\n",
    "restaurant_locations = restaurant_locations[restaurant_locations['Inspection Date'].dt.year==2018]\n",
    "restaurant_locations = restaurant_locations[['DBA Name', 'Latitude','Longitude']].drop_duplicates()\n",
    "restaurant_locations_array = np.array(restaurant_locations)"
   ]
  },
  {
   "cell_type": "code",
   "execution_count": 177,
   "metadata": {},
   "outputs": [],
   "source": [
    "locations_map = folium.Map(location=[41.86087, -87.608945], zoom_start=10)\n",
    "\n",
    "\n",
    "# add a marker for every record in the filtered data, use a clustered view\n",
    "for each in crimedata[0:MAX_RECORDS].iterrows():\n",
    "    map.simple_marker(\n",
    "        location = [each[1]['Y'],each[1]['X']], \n",
    "        clustered_marker = True)\n",
    "    \n",
    "for i, info in enumerate(restaurant_locations_array):\n",
    "    folium.Marker(\n",
    "        location=[info[1], info[2]],\n",
    "        popup=info[0],\n",
    "        icon=folium.Icon(color='red', icon='info-sign')).add_to(locations_map)\n",
    "#locations_map.save('./docs/restaurants_map.html')"
   ]
  },
  {
   "cell_type": "markdown",
   "metadata": {},
   "source": [
    "**The map can be accessed [here](https://aaag97.github.io/ada-2019-project-databusters/restaurants_map.html)**"
   ]
  },
  {
   "cell_type": "code",
   "execution_count": 178,
   "metadata": {},
   "outputs": [
    {
     "data": {
      "text/plain": [
       "16812"
      ]
     },
     "execution_count": 178,
     "metadata": {},
     "output_type": "execute_result"
    }
   ],
   "source": [
    "len(inspections['Location'].unique())"
   ]
  },
  {
   "cell_type": "code",
   "execution_count": 179,
   "metadata": {},
   "outputs": [
    {
     "data": {
      "text/plain": [
       "27420"
      ]
     },
     "execution_count": 179,
     "metadata": {},
     "output_type": "execute_result"
    }
   ],
   "source": [
    "len(inspections['DBA Name'].unique())"
   ]
  },
  {
   "cell_type": "markdown",
   "metadata": {},
   "source": [
    "We notice the following:\n",
    "\n",
    "* From the map displayed we see that the icons are stacked and condensed into the same regions, hence this time of displaying does not meet our needs.\n",
    "* This is not a good way to display more than 27'420 restaurants in one map as the result is not visible. But it will probably be useful later on when we will want to filter and visualize only a subset of the restaurants.\n",
    "* We also see above that apparently the locations of the restaurants we have are not very precise because we have less locations that establishments.\n",
    "\n",
    "For those two last points, it makes more sense to show a heatmap of the restaurants which will display the restaurants \"concentration\" (areas with high concentration of restaurants)"
   ]
  },
  {
   "cell_type": "markdown",
   "metadata": {},
   "source": [
    "##### Heatmap showing restaurants locations concentration"
   ]
  },
  {
   "cell_type": "code",
   "execution_count": 180,
   "metadata": {},
   "outputs": [
    {
     "data": {
      "text/plain": [
       "<folium.plugins.heat_map.HeatMap at 0x1c4fd00ef0>"
      ]
     },
     "execution_count": 180,
     "metadata": {},
     "output_type": "execute_result"
    }
   ],
   "source": [
    "locations_heatmap = folium.Map([41.86087, -87.608945], zoom_start=11)\n",
    "\n",
    "# List comprehension to make out list of lists\n",
    "heat_data = [[row['Latitude'],row['Longitude']] for index, row in restaurant_locations.iterrows()]\n",
    "\n",
    "# Plot it on the map\n",
    "HeatMap(heat_data, radius=17).add_to(locations_heatmap)\n",
    "\n",
    "# Display the map\n",
    "#locations_heatmap.save('./docs/restaurants_heatmap.html')\n",
    "#locations_heatmap"
   ]
  },
  {
   "cell_type": "markdown",
   "metadata": {},
   "source": [
    "**The map can be accessed [here](https://aaag97.github.io/ada-2019-project-databusters/restaurants_heatmap.html)**\n",
    "\n",
    "As expected, there are a lot more restaurants in the city center of chicago."
   ]
  },
  {
   "cell_type": "markdown",
   "metadata": {},
   "source": [
    "##### Number of restaurants by community area"
   ]
  },
  {
   "cell_type": "markdown",
   "metadata": {},
   "source": [
    "Now we want to display the community areas as a heatmap of the number of restaurants they have.\n",
    "\n",
    "Get community areas boundaries from:\n",
    "https://www.chicago.gov/city/en/depts/doit/dataset/boundaries_-_communityareas.html"
   ]
  },
  {
   "cell_type": "code",
   "execution_count": 181,
   "metadata": {},
   "outputs": [
    {
     "data": {
      "text/html": [
       "<div>\n",
       "<style scoped>\n",
       "    .dataframe tbody tr th:only-of-type {\n",
       "        vertical-align: middle;\n",
       "    }\n",
       "\n",
       "    .dataframe tbody tr th {\n",
       "        vertical-align: top;\n",
       "    }\n",
       "\n",
       "    .dataframe thead th {\n",
       "        text-align: right;\n",
       "    }\n",
       "</style>\n",
       "<table border=\"1\" class=\"dataframe\">\n",
       "  <thead>\n",
       "    <tr style=\"text-align: right;\">\n",
       "      <th></th>\n",
       "      <th>area_number</th>\n",
       "      <th>community</th>\n",
       "      <th>geometry</th>\n",
       "    </tr>\n",
       "  </thead>\n",
       "  <tbody>\n",
       "    <tr>\n",
       "      <th>0</th>\n",
       "      <td>0</td>\n",
       "      <td>ALBANY PARK</td>\n",
       "      <td>MULTIPOLYGON (((-87.70404 41.97355, -87.70403 ...</td>\n",
       "    </tr>\n",
       "    <tr>\n",
       "      <th>1</th>\n",
       "      <td>1</td>\n",
       "      <td>ARCHER HEIGHTS</td>\n",
       "      <td>MULTIPOLYGON (((-87.71437 41.82604, -87.71436 ...</td>\n",
       "    </tr>\n",
       "    <tr>\n",
       "      <th>2</th>\n",
       "      <td>2</td>\n",
       "      <td>ARMOUR SQUARE</td>\n",
       "      <td>MULTIPOLYGON (((-87.62917 41.84556, -87.62947 ...</td>\n",
       "    </tr>\n",
       "    <tr>\n",
       "      <th>3</th>\n",
       "      <td>3</td>\n",
       "      <td>ASHBURN</td>\n",
       "      <td>MULTIPOLYGON (((-87.71255 41.75734, -87.71252 ...</td>\n",
       "    </tr>\n",
       "    <tr>\n",
       "      <th>4</th>\n",
       "      <td>4</td>\n",
       "      <td>AUBURN GRESHAM</td>\n",
       "      <td>MULTIPOLYGON (((-87.63990 41.75615, -87.63990 ...</td>\n",
       "    </tr>\n",
       "  </tbody>\n",
       "</table>\n",
       "</div>"
      ],
      "text/plain": [
       "   area_number       community  \\\n",
       "0            0     ALBANY PARK   \n",
       "1            1  ARCHER HEIGHTS   \n",
       "2            2   ARMOUR SQUARE   \n",
       "3            3         ASHBURN   \n",
       "4            4  AUBURN GRESHAM   \n",
       "\n",
       "                                            geometry  \n",
       "0  MULTIPOLYGON (((-87.70404 41.97355, -87.70403 ...  \n",
       "1  MULTIPOLYGON (((-87.71437 41.82604, -87.71436 ...  \n",
       "2  MULTIPOLYGON (((-87.62917 41.84556, -87.62947 ...  \n",
       "3  MULTIPOLYGON (((-87.71255 41.75734, -87.71252 ...  \n",
       "4  MULTIPOLYGON (((-87.63990 41.75615, -87.63990 ...  "
      ]
     },
     "execution_count": 181,
     "metadata": {},
     "output_type": "execute_result"
    }
   ],
   "source": [
    "fp = \"./boundaries_processed.geojson\"\n",
    "boundaries_community_areas = gpd.read_file(fp)\n",
    "boundaries_community_areas.head()"
   ]
  },
  {
   "cell_type": "markdown",
   "metadata": {},
   "source": [
    "We do a sanity check to see if the community areas in the inspection data we got from geopy correspond to the community areas we get from Chicago Government portal."
   ]
  },
  {
   "cell_type": "code",
   "execution_count": 182,
   "metadata": {},
   "outputs": [
    {
     "data": {
      "text/html": [
       "<div>\n",
       "<style scoped>\n",
       "    .dataframe tbody tr th:only-of-type {\n",
       "        vertical-align: middle;\n",
       "    }\n",
       "\n",
       "    .dataframe tbody tr th {\n",
       "        vertical-align: top;\n",
       "    }\n",
       "\n",
       "    .dataframe thead th {\n",
       "        text-align: right;\n",
       "    }\n",
       "</style>\n",
       "<table border=\"1\" class=\"dataframe\">\n",
       "  <thead>\n",
       "    <tr style=\"text-align: right;\">\n",
       "      <th></th>\n",
       "      <th>Community Area</th>\n",
       "      <th>nbr_restaurants</th>\n",
       "    </tr>\n",
       "  </thead>\n",
       "  <tbody>\n",
       "    <tr>\n",
       "      <th>0</th>\n",
       "      <td>ALBANY PARK</td>\n",
       "      <td>118</td>\n",
       "    </tr>\n",
       "    <tr>\n",
       "      <th>1</th>\n",
       "      <td>ARCHER HEIGHTS</td>\n",
       "      <td>42</td>\n",
       "    </tr>\n",
       "    <tr>\n",
       "      <th>2</th>\n",
       "      <td>ARMOUR SQUARE</td>\n",
       "      <td>94</td>\n",
       "    </tr>\n",
       "    <tr>\n",
       "      <th>3</th>\n",
       "      <td>ASHBURN</td>\n",
       "      <td>53</td>\n",
       "    </tr>\n",
       "    <tr>\n",
       "      <th>4</th>\n",
       "      <td>AUBURN GRESHAM</td>\n",
       "      <td>49</td>\n",
       "    </tr>\n",
       "    <tr>\n",
       "      <th>...</th>\n",
       "      <td>...</td>\n",
       "      <td>...</td>\n",
       "    </tr>\n",
       "    <tr>\n",
       "      <th>71</th>\n",
       "      <td>WEST LAWN</td>\n",
       "      <td>63</td>\n",
       "    </tr>\n",
       "    <tr>\n",
       "      <th>72</th>\n",
       "      <td>WEST PULLMAN</td>\n",
       "      <td>11</td>\n",
       "    </tr>\n",
       "    <tr>\n",
       "      <th>73</th>\n",
       "      <td>WEST RIDGE</td>\n",
       "      <td>176</td>\n",
       "    </tr>\n",
       "    <tr>\n",
       "      <th>74</th>\n",
       "      <td>WEST TOWN</td>\n",
       "      <td>314</td>\n",
       "    </tr>\n",
       "    <tr>\n",
       "      <th>75</th>\n",
       "      <td>WOODLAWN</td>\n",
       "      <td>25</td>\n",
       "    </tr>\n",
       "  </tbody>\n",
       "</table>\n",
       "<p>76 rows × 2 columns</p>\n",
       "</div>"
      ],
      "text/plain": [
       "    Community Area  nbr_restaurants\n",
       "0      ALBANY PARK              118\n",
       "1   ARCHER HEIGHTS               42\n",
       "2    ARMOUR SQUARE               94\n",
       "3          ASHBURN               53\n",
       "4   AUBURN GRESHAM               49\n",
       "..             ...              ...\n",
       "71       WEST LAWN               63\n",
       "72    WEST PULLMAN               11\n",
       "73      WEST RIDGE              176\n",
       "74       WEST TOWN              314\n",
       "75        WOODLAWN               25\n",
       "\n",
       "[76 rows x 2 columns]"
      ]
     },
     "execution_count": 182,
     "metadata": {},
     "output_type": "execute_result"
    }
   ],
   "source": [
    "#We care about restaurants only\n",
    "restaurants_intensity = inspections[inspections['Facility Type']=='Restaurant']\n",
    "#We focus on year 2018\n",
    "restaurants_intensity = restaurants_intensity[restaurants_intensity['Inspection Date'].dt.year==2018]\n",
    "restaurants_intensity = restaurants_intensity[['Community Area','DBA Name']].drop_duplicates().groupby('Community Area')['DBA Name'].agg({'nbr_restaurants' : len})\n",
    "restaurants_intensity.reset_index(inplace=True)\n",
    "restaurants_intensity['Community Area'] = restaurants_intensity['Community Area'].str.upper().str.strip()\n",
    "restaurants_intensity"
   ]
  },
  {
   "cell_type": "markdown",
   "metadata": {},
   "source": [
    "There is one community area that does not appear in our dataset for the parameters we chose (restaurants in 2018), let's add it to our data with nbr_restaurants = 0."
   ]
  },
  {
   "cell_type": "code",
   "execution_count": 183,
   "metadata": {},
   "outputs": [
    {
     "name": "stdout",
     "output_type": "stream",
     "text": [
      "Community areas missing in the inspection dataset: \n"
     ]
    },
    {
     "data": {
      "text/html": [
       "<div>\n",
       "<style scoped>\n",
       "    .dataframe tbody tr th:only-of-type {\n",
       "        vertical-align: middle;\n",
       "    }\n",
       "\n",
       "    .dataframe tbody tr th {\n",
       "        vertical-align: top;\n",
       "    }\n",
       "\n",
       "    .dataframe thead th {\n",
       "        text-align: right;\n",
       "    }\n",
       "</style>\n",
       "<table border=\"1\" class=\"dataframe\">\n",
       "  <thead>\n",
       "    <tr style=\"text-align: right;\">\n",
       "      <th></th>\n",
       "      <th>Community Area</th>\n",
       "      <th>nbr_restaurants</th>\n",
       "    </tr>\n",
       "  </thead>\n",
       "  <tbody>\n",
       "    <tr>\n",
       "      <th>0</th>\n",
       "      <td>RIVERDALE</td>\n",
       "      <td>0</td>\n",
       "    </tr>\n",
       "  </tbody>\n",
       "</table>\n",
       "</div>"
      ],
      "text/plain": [
       "  Community Area  nbr_restaurants\n",
       "0      RIVERDALE                0"
      ]
     },
     "execution_count": 183,
     "metadata": {},
     "output_type": "execute_result"
    }
   ],
   "source": [
    "missing_1 = set(boundaries_community_areas['community'])-set(restaurants_intensity['Community Area'])\n",
    "missing_1 = pd.DataFrame(missing_1, columns=['Community Area'])\n",
    "missing_1['nbr_restaurants'] = 0\n",
    "print(\"Community areas missing in the inspection dataset: \")\n",
    "missing_1"
   ]
  },
  {
   "cell_type": "markdown",
   "metadata": {},
   "source": [
    "We can now merge the community areas and display the resulting nbr_restaurants"
   ]
  },
  {
   "cell_type": "code",
   "execution_count": 184,
   "metadata": {},
   "outputs": [
    {
     "data": {
      "text/html": [
       "<div>\n",
       "<style scoped>\n",
       "    .dataframe tbody tr th:only-of-type {\n",
       "        vertical-align: middle;\n",
       "    }\n",
       "\n",
       "    .dataframe tbody tr th {\n",
       "        vertical-align: top;\n",
       "    }\n",
       "\n",
       "    .dataframe thead th {\n",
       "        text-align: right;\n",
       "    }\n",
       "</style>\n",
       "<table border=\"1\" class=\"dataframe\">\n",
       "  <thead>\n",
       "    <tr style=\"text-align: right;\">\n",
       "      <th></th>\n",
       "      <th>Community Area</th>\n",
       "      <th>nbr_restaurants</th>\n",
       "    </tr>\n",
       "  </thead>\n",
       "  <tbody>\n",
       "    <tr>\n",
       "      <th>0</th>\n",
       "      <td>ALBANY PARK</td>\n",
       "      <td>118</td>\n",
       "    </tr>\n",
       "    <tr>\n",
       "      <th>1</th>\n",
       "      <td>ARCHER HEIGHTS</td>\n",
       "      <td>42</td>\n",
       "    </tr>\n",
       "    <tr>\n",
       "      <th>2</th>\n",
       "      <td>ARMOUR SQUARE</td>\n",
       "      <td>94</td>\n",
       "    </tr>\n",
       "    <tr>\n",
       "      <th>3</th>\n",
       "      <td>ASHBURN</td>\n",
       "      <td>53</td>\n",
       "    </tr>\n",
       "    <tr>\n",
       "      <th>4</th>\n",
       "      <td>AUBURN GRESHAM</td>\n",
       "      <td>49</td>\n",
       "    </tr>\n",
       "    <tr>\n",
       "      <th>...</th>\n",
       "      <td>...</td>\n",
       "      <td>...</td>\n",
       "    </tr>\n",
       "    <tr>\n",
       "      <th>72</th>\n",
       "      <td>WEST LAWN</td>\n",
       "      <td>63</td>\n",
       "    </tr>\n",
       "    <tr>\n",
       "      <th>73</th>\n",
       "      <td>WEST PULLMAN</td>\n",
       "      <td>11</td>\n",
       "    </tr>\n",
       "    <tr>\n",
       "      <th>74</th>\n",
       "      <td>WEST RIDGE</td>\n",
       "      <td>176</td>\n",
       "    </tr>\n",
       "    <tr>\n",
       "      <th>75</th>\n",
       "      <td>WEST TOWN</td>\n",
       "      <td>314</td>\n",
       "    </tr>\n",
       "    <tr>\n",
       "      <th>76</th>\n",
       "      <td>WOODLAWN</td>\n",
       "      <td>25</td>\n",
       "    </tr>\n",
       "  </tbody>\n",
       "</table>\n",
       "<p>77 rows × 2 columns</p>\n",
       "</div>"
      ],
      "text/plain": [
       "    Community Area  nbr_restaurants\n",
       "0      ALBANY PARK              118\n",
       "1   ARCHER HEIGHTS               42\n",
       "2    ARMOUR SQUARE               94\n",
       "3          ASHBURN               53\n",
       "4   AUBURN GRESHAM               49\n",
       "..             ...              ...\n",
       "72       WEST LAWN               63\n",
       "73    WEST PULLMAN               11\n",
       "74      WEST RIDGE              176\n",
       "75       WEST TOWN              314\n",
       "76        WOODLAWN               25\n",
       "\n",
       "[77 rows x 2 columns]"
      ]
     },
     "execution_count": 184,
     "metadata": {},
     "output_type": "execute_result"
    }
   ],
   "source": [
    "restaurants_intensity = restaurants_intensity.append(missing_1)\n",
    "restaurants_intensity.sort_values(by=['Community Area'], inplace=True)\n",
    "restaurants_intensity.reset_index(inplace=True,drop=True)\n",
    "restaurants_intensity['Community Area'] = restaurants_intensity['Community Area'].astype('str')\n",
    "restaurants_intensity"
   ]
  },
  {
   "cell_type": "code",
   "execution_count": 185,
   "metadata": {},
   "outputs": [
    {
     "data": {
      "text/plain": [
       "<folium.map.LayerControl at 0x1c279283c8>"
      ]
     },
     "execution_count": 185,
     "metadata": {},
     "output_type": "execute_result"
    }
   ],
   "source": [
    "# Initialize the map:\n",
    "restaurants_by_community = folium.Map([41.86087, -87.608945], zoom_start=11, tiles = \"cartodbpositron\")\n",
    " \n",
    "# Add the color for the chloropleth:\n",
    "restaurants_by_community.choropleth(\n",
    " geo_data=fp,\n",
    " data=restaurants_intensity,\n",
    " columns=['Community Area', 'nbr_restaurants'],\n",
    " key_on='feature.properties.community',\n",
    " fill_color='YlGn',\n",
    " fill_opacity=0.7,\n",
    " line_opacity=0.2,\n",
    " legend_name='Number of restaurants by community'\n",
    ")\n",
    "folium.LayerControl().add_to(restaurants_by_community)\n",
    " \n",
    "# Save to html\n",
    "#restaurants_by_community.save('./docs/restaurants_by_community.html')\n",
    "#restaurants_by_community"
   ]
  },
  {
   "cell_type": "markdown",
   "metadata": {},
   "source": [
    "**The map can be accessed [here](https://aaag97.github.io/ada-2019-project-databusters/restaurants_by_community.html)**"
   ]
  },
  {
   "cell_type": "markdown",
   "metadata": {},
   "source": [
    "The results we obtain are consistent with the ones we had in the heatmap: More restaurants are concentrated around the city center of Chicago.\n",
    "\n",
    "Another pattern also emerges, the northern community areas of the city seems to contain more restaurants than the southern ones."
   ]
  },
  {
   "cell_type": "markdown",
   "metadata": {},
   "source": [
    "#### B. Grocery stores by community area"
   ]
  },
  {
   "cell_type": "markdown",
   "metadata": {},
   "source": [
    "After a small research, we found out about a problem affecting public health in Chicago at a large scale called **Food deserts**. In a report by the Illinois Advisory Committee to the United States Commission on Civil Rights, it is reported that some of the community areas in Chicago are lacking supermarkets, grocery stores and healthy food in general. Restricted access to healthy foods lead to higher rates of chronic illness like diabetes, hypertension, or cardiovascular disease. [source](https://www.usccr.gov/pubs/docs/IL-FoodDeserts-2011.pdf)\n",
    "\n",
    "Furthermore, it is stated in the report that these food desert neighborhoods are almost exclusively in African American neighborhoods making the issue a civil rights one beyond its public health dimension.\n",
    "\n",
    "**In the next part we will try to see if we can visualize the food deserts using the food inspection dataset**"
   ]
  },
  {
   "cell_type": "code",
   "execution_count": 186,
   "metadata": {},
   "outputs": [
    {
     "data": {
      "text/html": [
       "<div>\n",
       "<style scoped>\n",
       "    .dataframe tbody tr th:only-of-type {\n",
       "        vertical-align: middle;\n",
       "    }\n",
       "\n",
       "    .dataframe tbody tr th {\n",
       "        vertical-align: top;\n",
       "    }\n",
       "\n",
       "    .dataframe thead th {\n",
       "        text-align: right;\n",
       "    }\n",
       "</style>\n",
       "<table border=\"1\" class=\"dataframe\">\n",
       "  <thead>\n",
       "    <tr style=\"text-align: right;\">\n",
       "      <th></th>\n",
       "      <th>Community Area</th>\n",
       "      <th>nbr_grocery</th>\n",
       "    </tr>\n",
       "  </thead>\n",
       "  <tbody>\n",
       "    <tr>\n",
       "      <th>0</th>\n",
       "      <td>ALBANY PARK</td>\n",
       "      <td>25</td>\n",
       "    </tr>\n",
       "    <tr>\n",
       "      <th>1</th>\n",
       "      <td>ARCHER HEIGHTS</td>\n",
       "      <td>1</td>\n",
       "    </tr>\n",
       "    <tr>\n",
       "      <th>2</th>\n",
       "      <td>ARMOUR SQUARE</td>\n",
       "      <td>11</td>\n",
       "    </tr>\n",
       "    <tr>\n",
       "      <th>3</th>\n",
       "      <td>ASHBURN</td>\n",
       "      <td>4</td>\n",
       "    </tr>\n",
       "    <tr>\n",
       "      <th>4</th>\n",
       "      <td>AUBURN GRESHAM</td>\n",
       "      <td>23</td>\n",
       "    </tr>\n",
       "  </tbody>\n",
       "</table>\n",
       "</div>"
      ],
      "text/plain": [
       "   Community Area  nbr_grocery\n",
       "0     ALBANY PARK           25\n",
       "1  ARCHER HEIGHTS            1\n",
       "2   ARMOUR SQUARE           11\n",
       "3         ASHBURN            4\n",
       "4  AUBURN GRESHAM           23"
      ]
     },
     "execution_count": 186,
     "metadata": {},
     "output_type": "execute_result"
    }
   ],
   "source": [
    "#We care about grocery stores only\n",
    "groceries_intensity = inspections[inspections['Facility Type']=='Market']\n",
    "#We focus on year 2018\n",
    "groceries_intensity = groceries_intensity[groceries_intensity['Inspection Date'].dt.year==2018]\n",
    "groceries_intensity = groceries_intensity[['Community Area','DBA Name']].drop_duplicates().groupby('Community Area')['DBA Name'].agg({'nbr_grocery' : len})\n",
    "groceries_intensity.reset_index(inplace=True)\n",
    "groceries_intensity['Community Area'] = groceries_intensity['Community Area'].str.upper().str.strip()\n",
    "groceries_intensity.head()"
   ]
  },
  {
   "cell_type": "code",
   "execution_count": 187,
   "metadata": {},
   "outputs": [
    {
     "data": {
      "text/plain": [
       "<folium.map.LayerControl at 0x1c27928710>"
      ]
     },
     "execution_count": 187,
     "metadata": {},
     "output_type": "execute_result"
    }
   ],
   "source": [
    "# Initialize the map:\n",
    "groceries_by_community = folium.Map([41.86087, -87.608945], zoom_start=11, tiles = \"cartodbpositron\")\n",
    " \n",
    "# Add the color for the chloropleth:\n",
    "groceries_by_community.choropleth(\n",
    " geo_data=fp,\n",
    " data=groceries_intensity,\n",
    " columns=['Community Area', 'nbr_grocery'],\n",
    " key_on='feature.properties.community',\n",
    " fill_color='YlGn',\n",
    " fill_opacity=0.7,\n",
    " line_opacity=0.2,\n",
    " legend_name='Number of grocery stores by community'\n",
    ")\n",
    "folium.LayerControl().add_to(groceries_by_community)\n",
    " \n",
    "# Save to html\n",
    "#groceries_by_community.save('./docs/groceries_by_community.html')\n",
    "#groceries_by_community"
   ]
  },
  {
   "cell_type": "markdown",
   "metadata": {},
   "source": [
    "**The map can be accessed [here](https://aaag97.github.io/ada-2019-project-databusters/groceries_by_community.html)**"
   ]
  },
  {
   "cell_type": "markdown",
   "metadata": {},
   "source": [
    "\"Chicago’s segregation is certainly legendary, with the North and South sides divided by class and race. To keep it stereotypically simple: The North Side is white, the South Side is black.\" [source](https://chicago.eater.com/2018/12/13/18138387/chicago-magazine-john-kessler-food-scene-racism-immigration-food)\n",
    "\n",
    "We certainly see a difference in the concentration of grocery stores between the North and the South, the south being quite sparse.\n",
    "\n",
    "* **For the next milestone, we will visualize the evolution of this distribution accross years using timestamps.**\n",
    "* **We will also plot the density of markets per 1'000 habitants in a community area which seems more fair than plotting the absolute number of markets.**\n",
    "* **We also have in our dataset health related establishments serving food, and from the health indicators dataset, diabetes and other diet related diseases rates which can be interesting to explore as well against what get from the markets visualization.**"
   ]
  },
  {
   "cell_type": "code",
   "execution_count": null,
   "metadata": {},
   "outputs": [],
   "source": []
  },
  {
   "cell_type": "code",
   "execution_count": null,
   "metadata": {},
   "outputs": [],
   "source": []
  }
 ],
 "metadata": {
  "kernelspec": {
   "display_name": "Python 3",
   "language": "python",
   "name": "python3"
  },
  "language_info": {
   "codemirror_mode": {
    "name": "ipython",
    "version": 3
   },
   "file_extension": ".py",
   "mimetype": "text/x-python",
   "name": "python",
   "nbconvert_exporter": "python",
   "pygments_lexer": "ipython3",
   "version": "3.7.0"
  },
  "toc": {
   "base_numbering": 1,
   "nav_menu": {},
   "number_sections": false,
   "sideBar": true,
   "skip_h1_title": false,
   "title_cell": "Table of Contents",
   "title_sidebar": "Contents",
   "toc_cell": true,
   "toc_position": {},
   "toc_section_display": true,
   "toc_window_display": false
  }
 },
 "nbformat": 4,
 "nbformat_minor": 2
}
