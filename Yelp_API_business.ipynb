{
 "cells": [
  {
   "cell_type": "code",
   "execution_count": 4,
   "metadata": {},
   "outputs": [],
   "source": [
    "import pandas as pd\n",
    "import numpy as np\n",
    "import math\n",
    "import requests\n",
    "from pandas.io.json import json_normalize\n",
    "import pandas_profiling"
   ]
  },
  {
   "cell_type": "markdown",
   "metadata": {},
   "source": [
    "### Yelp API"
   ]
  },
  {
   "cell_type": "markdown",
   "metadata": {},
   "source": [
    "To get more details (price range, rating, cuisine,...) on the establishments, we use the Yelp Fusion API and follow these two steps:\n",
    "\n",
    "\n",
    "1. **Business Match** : The Business Match Endpoint lets us match business data from other sources against businesses on Yelp. We send data from Chicago Food Inspection (namely name and address of establishments) and get back the Yelp id of the establishment. \n",
    "\n",
    "\n",
    "2. **Business Details** : The Business Details Endpoint returns detailed business content based on their id (which we have obtained in the previous step). "
   ]
  },
  {
   "cell_type": "markdown",
   "metadata": {},
   "source": [
    "**API Keys**\n",
    "\n",
    "Along with the parameters we send with each request, we need to send an API key with the headers. This allows Yelp to make sure that we do not exceed 5'000 requests per API Key. \n",
    "To get these, we simply need to visit the [Yelp Fusion](https://www.yelp.com/developers/v3/manage_app) and create a project. \n",
    "\n",
    "\n",
    "* irBVcEgoI6PeOStlUs77hlL-9r0MA5oa14yFIdtA_mtpe3ChIaN8rAyLcCGgQAFQdfI4cK2ZY84cx3ZFIMh2bDBgIotdi_9yN3Xlp23eE-9HF-Ou5vTrErRnngbIXXYx\n",
    "\n",
    "\n",
    "* gWozwadRpB03ay6xxc0rrs4w5Qy5rzB59xQDaaKjcAeXmtZ6D_R8fNQCClj-rga4CgtDRMDqgYVkYn5KvXMn3MYXf5VKSttOE21qbxoCHebmOMb5k_9GFykHvVLZXXYx\n",
    "\n",
    "\n",
    "* qslxiyR7VolDPWr5sOVBppQEYZqfxJpodCxt-iYXQWveW9n-2XFrHnPzmpsuew-jcLm2Ezi7twdDyodsdl8gP-c0BsY5QRewuODCv1NMZUhpKoISxKOHWeE0gW7ZXXYx\n",
    "\n",
    "\n",
    "* ZvQ095-O2_NVNygRjjsFK8NhruSE-V51GV5oBUoEvGh52RnsRBHG_9CTx6aoZ1fpQgp8Si2WEZJv-flkhaIRuyKCw9g5OUStUTY9SNhO5BasXGa7KWhWeB80GIvaXXYx\n",
    "\n",
    "\n",
    "* aiC1S6FQJ6Tg7DdBfRTBKgX0W8LTuli7hhLA_HF17nVFUFrZsjq501K6nPclqB_lWWWIniJ8JeCCHr1H273kyJK0DNTx4e5mzvjdkj7_5XqWOmXP7HOtOtFG5IjaXXYx\n",
    "\n",
    "\n",
    "* GW1WdoxZIIGg92uc7-kL-rjR3B3q83B4r2NYEhUCXJPnDwPOAn5pOteAQcUDdZNBXFbzFpa8fw_bCr0zq9sF_hD-x7f1uW2PyRzso4JdkIZVOqV7uHxRhHRbxY_aXXYx\n",
    "\n",
    "\n",
    "* K5PcgS12CfjM_SRDuDBpAbFkiMmJp0eHvBr6mVLtp7gFj-JjCUFgZtrS5OeUqL4GPlBKMPICNshHw1UAbhM5hnCZtX10Cs3sJlqqXU662TaExk2IyaVGk_IB2pDaXXYx\n",
    "\n",
    "\n",
    "* Qkz_aqKy7I6YxaTOxpPOgh73GNXNw-eM8Pzjiel-Ffm6aGmrMnxrSbilTI0Ax7riPvNyyoQXvaauKS11-F5KZiyCcSOjFt-yCY9ckQwmLfiZC1C6P6bJvIThzRvVXXYx\n",
    "\n",
    "\n",
    "* 4QbudQVuZzEVqmPkK2KcLs3HNF5WXXdP1iu1UKxwgC4FPLSSRfU-zaIPsrh8dm3lgAXXZa4S73snzkwrmqBeRuEgp7WWuts-OWvAng2TW8rVC-_EdCGRrLXjE5TaXXYx\n",
    "\n",
    "\n",
    "* F9AJnjXDvkELW1vqPX-kpe2B8NaJ-5spLNgzODHl3XweQKRnPjuDfT2U6ZpUzcQcvKFT4em8PPLxF-liSStwmueVK1ha8gAFllnairC942ZvCBvDx52MttGk9ZPaXXYx\n",
    "\n",
    "\n",
    "* kad0AuvpQdBV65JsgR6cz5TA_K7aFMfmp5oQSuDRDBHyTw7KOl60HHtg5ZLjmG80mwOM-8VBuUW9yy6vr6MTRGO7e_DlGiLAK1DfMvHUQWpH4AYhKUzb4wT2EpvaXXYx"
   ]
  },
  {
   "cell_type": "code",
   "execution_count": 26,
   "metadata": {},
   "outputs": [],
   "source": [
    "API_KEY = 'kad0AuvpQdBV65JsgR6cz5TA_K7aFMfmp5oQSuDRDBHyTw7KOl60HHtg5ZLjmG80mwOM-8VBuUW9yy6vr6MTRGO7e_DlGiLAK1DfMvHUQWpH4AYhKUzb4wT2EpvaXXYx'\n",
    "HEADERS = {'Authorization': 'bearer %s' % API_KEY}"
   ]
  },
  {
   "cell_type": "markdown",
   "metadata": {},
   "source": [
    "#### BUSINESS MATCH ENDPOINT: Make requests about establishment from the Chicago Food Inspections dataset"
   ]
  },
  {
   "cell_type": "code",
   "execution_count": 28,
   "metadata": {},
   "outputs": [],
   "source": [
    "ENDPOINT = 'https://api.yelp.com/v3/businesses/matches'"
   ]
  },
  {
   "cell_type": "markdown",
   "metadata": {},
   "source": [
    "#### Tests (test here for an individual establishment)"
   ]
  },
  {
   "cell_type": "code",
   "execution_count": 244,
   "metadata": {},
   "outputs": [],
   "source": [
    "#Define the parameters\n",
    "PARAM = {'name': 'LA CATRINA RESTAURANT LLC', 'address1': '3924 W DIVERSEY AVE ', 'city': 'Chicago', 'state': 'IL', 'country': 'US'}\n",
    "\n",
    "response = requests.get(url=ENDPOINT, params=PARAM, headers = HEADERS)\n",
    "\n",
    "#json_normalize(response.json()['businesses'])"
   ]
  },
  {
   "cell_type": "code",
   "execution_count": 247,
   "metadata": {
    "scrolled": true
   },
   "outputs": [
    {
     "data": {
      "text/plain": [
       "{'Server': 'nginx', 'Content-Type': 'application/json', 'x-routing-service': '10-65-208-15-useast1cprod; site=public_api_v3', 'x-b3-sampled': '0', 'x-zipkin-id': 'a463066aa41e7b6b', 'ratelimit-remaining': '0', 'ratelimit-resettime': '2019-11-24T00:00:00+00:00', 'ratelimit-dailylimit': '5000', 'x-proxied': '10-65-214-75-useast1cprod', 'Content-Length': '230', 'Accept-Ranges': 'bytes', 'Date': 'Sat, 23 Nov 2019 15:29:13 GMT', 'Via': '1.1 varnish', 'Connection': 'keep-alive', 'X-Served-By': 'cache-hhn4023-HHN', 'X-Cache': 'MISS', 'X-Cache-Hits': '0'}"
      ]
     },
     "execution_count": 247,
     "metadata": {},
     "output_type": "execute_result"
    }
   ],
   "source": [
    "response.headers"
   ]
  },
  {
   "cell_type": "markdown",
   "metadata": {},
   "source": [
    "#### Loading the inspections dataset\n",
    "This dataframe contains all establishments from the Chicago Food Inspections"
   ]
  },
  {
   "cell_type": "code",
   "execution_count": 5,
   "metadata": {},
   "outputs": [],
   "source": [
    "estab = pd.read_pickle(\"insp_businesses_pickle\")"
   ]
  },
  {
   "cell_type": "code",
   "execution_count": 6,
   "metadata": {},
   "outputs": [
    {
     "data": {
      "text/html": [
       "<div>\n",
       "<style scoped>\n",
       "    .dataframe tbody tr th:only-of-type {\n",
       "        vertical-align: middle;\n",
       "    }\n",
       "\n",
       "    .dataframe tbody tr th {\n",
       "        vertical-align: top;\n",
       "    }\n",
       "\n",
       "    .dataframe thead th {\n",
       "        text-align: right;\n",
       "    }\n",
       "</style>\n",
       "<table border=\"1\" class=\"dataframe\">\n",
       "  <thead>\n",
       "    <tr style=\"text-align: right;\">\n",
       "      <th></th>\n",
       "      <th>DBA Name</th>\n",
       "      <th>AKA Name</th>\n",
       "      <th>Address</th>\n",
       "    </tr>\n",
       "  </thead>\n",
       "  <tbody>\n",
       "    <tr>\n",
       "      <td>0</td>\n",
       "      <td>YOUNG SCHOLARS ACADEMY</td>\n",
       "      <td>YOUNG SCHOLARS ACADEMY</td>\n",
       "      <td>10926-10928 S WESTERN AVE</td>\n",
       "    </tr>\n",
       "    <tr>\n",
       "      <td>1</td>\n",
       "      <td>OSITO'S TAP</td>\n",
       "      <td>OSITO'S TAP</td>\n",
       "      <td>2553 S RIDGEWAY AVE</td>\n",
       "    </tr>\n",
       "    <tr>\n",
       "      <td>2</td>\n",
       "      <td>LAS SISTERS INC.</td>\n",
       "      <td>LAS SISTERS INC</td>\n",
       "      <td>2700 S TRUMBULL AVE</td>\n",
       "    </tr>\n",
       "    <tr>\n",
       "      <td>3</td>\n",
       "      <td>CARNICERIA Y FRUTERIA 'LOS ALTOS' INC.</td>\n",
       "      <td>CARNICERIA Y FRUTERIA LOS ALTOS</td>\n",
       "      <td>2959 W 40TH ST</td>\n",
       "    </tr>\n",
       "    <tr>\n",
       "      <td>4</td>\n",
       "      <td>FOODA- 150 N RIVERSIDE</td>\n",
       "      <td>FOODA 150 N RIVERSIDE</td>\n",
       "      <td>150 N RIVERSIDE PLZ</td>\n",
       "    </tr>\n",
       "  </tbody>\n",
       "</table>\n",
       "</div>"
      ],
      "text/plain": [
       "                                 DBA Name                         AKA Name  \\\n",
       "0                  YOUNG SCHOLARS ACADEMY           YOUNG SCHOLARS ACADEMY   \n",
       "1                             OSITO'S TAP                      OSITO'S TAP   \n",
       "2                        LAS SISTERS INC.                  LAS SISTERS INC   \n",
       "3  CARNICERIA Y FRUTERIA 'LOS ALTOS' INC.  CARNICERIA Y FRUTERIA LOS ALTOS   \n",
       "4                  FOODA- 150 N RIVERSIDE            FOODA 150 N RIVERSIDE   \n",
       "\n",
       "                      Address  \n",
       "0  10926-10928 S WESTERN AVE   \n",
       "1        2553 S RIDGEWAY AVE   \n",
       "2        2700 S TRUMBULL AVE   \n",
       "3             2959 W 40TH ST   \n",
       "4        150 N RIVERSIDE PLZ   "
      ]
     },
     "execution_count": 6,
     "metadata": {},
     "output_type": "execute_result"
    }
   ],
   "source": [
    "estab = estab[['DBA Name', 'AKA Name', 'Address']]\n",
    "estab.head()"
   ]
  },
  {
   "cell_type": "code",
   "execution_count": 7,
   "metadata": {},
   "outputs": [],
   "source": [
    "# to this dataframe, we add columns where we will record the Yelp answers\n",
    "estab['response_id'] = None\n",
    "estab['response_alias'] = None\n",
    "estab['response_name'] =  None\n",
    "estab['response_latitude'] =  None\n",
    "estab['response_longitude'] =  None\n",
    "estab['response_address1'] =  None"
   ]
  },
  {
   "cell_type": "code",
   "execution_count": 57,
   "metadata": {
    "scrolled": true
   },
   "outputs": [
    {
     "name": "stdout",
     "output_type": "stream",
     "text": [
      "remaining number of requests : 4399\n"
     ]
    }
   ],
   "source": [
    "reamining_requests = response.headers['ratelimit-remaining']\n",
    "print(f'remaining number of requests : {reamining_requests}')"
   ]
  },
  {
   "cell_type": "markdown",
   "metadata": {},
   "source": [
    "#### Make requests for the first 5000 rows"
   ]
  },
  {
   "cell_type": "code",
   "execution_count": 30,
   "metadata": {},
   "outputs": [],
   "source": [
    "def fill_df(dataframe, ENDPOINT):\n",
    "    \"\"\"\n",
    "    Given a dataframe with restaurants\n",
    "    and Given a list of responses\n",
    "    Returns the same dataframe with additional columns coming from Yelp\n",
    "    (condition : If there was 1 match with Yelp)\n",
    "    And fills up the list of reponses with all responses\n",
    "    \"\"\"\n",
    "    result = dataframe.copy()\n",
    "    resps =  []\n",
    "    for req_nb in range(len(result)):\n",
    "        if(req_nb%100 == 0):\n",
    "            print(f'req {req_nb} over {len(result)}')\n",
    "        PARAM = {\n",
    "        'name' : result.loc[req_nb]['DBA_Name'],\n",
    "        'address1':result.loc[req_nb]['Address'],\n",
    "        'city': 'Chicago',\n",
    "        'state': 'IL',\n",
    "        'country': 'US'}\n",
    "        response = requests.get(url=ENDPOINT, params=PARAM, headers = HEADERS)\n",
    "        resps.append(response)\n",
    "        response_df = json_normalize(response.json()['businesses'])\n",
    "        #if we get a match, we fill the dataframe \n",
    "        if (len(response_df) == 1):\n",
    "            result['response_id'][req_nb] = response_df['id'][0]\n",
    "            result['response_alias'][req_nb] = response_df['alias'][0]\n",
    "            result['response_name'][req_nb] = response_df['name'][0]\n",
    "            result['response_latitude'][req_nb] = response_df['coordinates.latitude'][0]\n",
    "            result['response_longitude'][req_nb] = response_df['coordinates.longitude'][0]\n",
    "            result['response_address1'][req_nb] = response_df['location.address1'][0]\n",
    "    return result, resps"
   ]
  },
  {
   "cell_type": "code",
   "execution_count": 77,
   "metadata": {
    "scrolled": true
   },
   "outputs": [
    {
     "name": "stdout",
     "output_type": "stream",
     "text": [
      "req 0 over 5000\n",
      "req 100 over 5000\n",
      "req 200 over 5000\n",
      "req 300 over 5000\n",
      "req 400 over 5000\n",
      "req 500 over 5000\n",
      "req 600 over 5000\n",
      "req 700 over 5000\n",
      "req 800 over 5000\n",
      "req 900 over 5000\n",
      "req 1000 over 5000\n",
      "req 1100 over 5000\n",
      "req 1200 over 5000\n",
      "req 1300 over 5000\n",
      "req 1400 over 5000\n",
      "req 1500 over 5000\n",
      "req 1600 over 5000\n",
      "req 1700 over 5000\n",
      "req 1800 over 5000\n",
      "req 1900 over 5000\n",
      "req 2000 over 5000\n",
      "req 2100 over 5000\n",
      "req 2200 over 5000\n",
      "req 2300 over 5000\n",
      "req 2400 over 5000\n",
      "req 2500 over 5000\n",
      "req 2600 over 5000\n",
      "req 2700 over 5000\n",
      "req 2800 over 5000\n",
      "req 2900 over 5000\n",
      "req 3000 over 5000\n",
      "req 3100 over 5000\n",
      "req 3200 over 5000\n",
      "req 3300 over 5000\n",
      "req 3400 over 5000\n",
      "req 3500 over 5000\n",
      "req 3600 over 5000\n",
      "req 3700 over 5000\n",
      "req 3800 over 5000\n",
      "req 3900 over 5000\n",
      "req 4000 over 5000\n",
      "req 4100 over 5000\n",
      "req 4200 over 5000\n",
      "req 4300 over 5000\n",
      "req 4400 over 5000\n",
      "req 4500 over 5000\n",
      "req 4600 over 5000\n",
      "req 4700 over 5000\n",
      "req 4800 over 5000\n",
      "req 4900 over 5000\n"
     ]
    }
   ],
   "source": [
    "yelp_resp_df_0_5000 = estab[0:5000].copy()\n",
    "yelp_resp_df_0_5000, yelp_resp_0_5000 = fill_df(yelp_resp_0_5000, ENDPOINT)"
   ]
  },
  {
   "cell_type": "code",
   "execution_count": 90,
   "metadata": {
    "scrolled": true
   },
   "outputs": [
    {
     "data": {
      "text/html": [
       "<div>\n",
       "<style scoped>\n",
       "    .dataframe tbody tr th:only-of-type {\n",
       "        vertical-align: middle;\n",
       "    }\n",
       "\n",
       "    .dataframe tbody tr th {\n",
       "        vertical-align: top;\n",
       "    }\n",
       "\n",
       "    .dataframe thead th {\n",
       "        text-align: right;\n",
       "    }\n",
       "</style>\n",
       "<table border=\"1\" class=\"dataframe\">\n",
       "  <thead>\n",
       "    <tr style=\"text-align: right;\">\n",
       "      <th></th>\n",
       "      <th>DBA Name</th>\n",
       "      <th>AKA Name</th>\n",
       "      <th>Address</th>\n",
       "      <th>response_id</th>\n",
       "      <th>response_alias</th>\n",
       "      <th>response_name</th>\n",
       "      <th>response_latitude</th>\n",
       "      <th>response_longitude</th>\n",
       "      <th>response_address1</th>\n",
       "    </tr>\n",
       "  </thead>\n",
       "  <tbody>\n",
       "    <tr>\n",
       "      <td>0</td>\n",
       "      <td>YOUNG SCHOLARS ACADEMY</td>\n",
       "      <td>YOUNG SCHOLARS ACADEMY</td>\n",
       "      <td>10926-10928 S WESTERN AVE</td>\n",
       "      <td>None</td>\n",
       "      <td>None</td>\n",
       "      <td>None</td>\n",
       "      <td>None</td>\n",
       "      <td>None</td>\n",
       "      <td>None</td>\n",
       "    </tr>\n",
       "    <tr>\n",
       "      <td>1</td>\n",
       "      <td>OSITO'S TAP</td>\n",
       "      <td>OSITO'S TAP</td>\n",
       "      <td>2553 S RIDGEWAY AVE</td>\n",
       "      <td>None</td>\n",
       "      <td>None</td>\n",
       "      <td>None</td>\n",
       "      <td>None</td>\n",
       "      <td>None</td>\n",
       "      <td>None</td>\n",
       "    </tr>\n",
       "    <tr>\n",
       "      <td>2</td>\n",
       "      <td>LAS SISTERS INC.</td>\n",
       "      <td>LAS SISTERS INC</td>\n",
       "      <td>2700 S TRUMBULL AVE</td>\n",
       "      <td>None</td>\n",
       "      <td>None</td>\n",
       "      <td>None</td>\n",
       "      <td>None</td>\n",
       "      <td>None</td>\n",
       "      <td>None</td>\n",
       "    </tr>\n",
       "    <tr>\n",
       "      <td>3</td>\n",
       "      <td>CARNICERIA Y FRUTERIA 'LOS ALTOS' INC.</td>\n",
       "      <td>CARNICERIA Y FRUTERIA LOS ALTOS</td>\n",
       "      <td>2959 W 40TH ST</td>\n",
       "      <td>None</td>\n",
       "      <td>None</td>\n",
       "      <td>None</td>\n",
       "      <td>None</td>\n",
       "      <td>None</td>\n",
       "      <td>None</td>\n",
       "    </tr>\n",
       "    <tr>\n",
       "      <td>4</td>\n",
       "      <td>FOODA- 150 N RIVERSIDE</td>\n",
       "      <td>FOODA 150 N RIVERSIDE</td>\n",
       "      <td>150 N RIVERSIDE PLZ</td>\n",
       "      <td>None</td>\n",
       "      <td>None</td>\n",
       "      <td>None</td>\n",
       "      <td>None</td>\n",
       "      <td>None</td>\n",
       "      <td>None</td>\n",
       "    </tr>\n",
       "  </tbody>\n",
       "</table>\n",
       "</div>"
      ],
      "text/plain": [
       "                                 DBA Name                         AKA Name  \\\n",
       "0                  YOUNG SCHOLARS ACADEMY           YOUNG SCHOLARS ACADEMY   \n",
       "1                             OSITO'S TAP                      OSITO'S TAP   \n",
       "2                        LAS SISTERS INC.                  LAS SISTERS INC   \n",
       "3  CARNICERIA Y FRUTERIA 'LOS ALTOS' INC.  CARNICERIA Y FRUTERIA LOS ALTOS   \n",
       "4                  FOODA- 150 N RIVERSIDE            FOODA 150 N RIVERSIDE   \n",
       "\n",
       "                      Address response_id response_alias response_name  \\\n",
       "0  10926-10928 S WESTERN AVE         None           None          None   \n",
       "1        2553 S RIDGEWAY AVE         None           None          None   \n",
       "2        2700 S TRUMBULL AVE         None           None          None   \n",
       "3             2959 W 40TH ST         None           None          None   \n",
       "4        150 N RIVERSIDE PLZ         None           None          None   \n",
       "\n",
       "  response_latitude response_longitude response_address1  \n",
       "0              None               None              None  \n",
       "1              None               None              None  \n",
       "2              None               None              None  \n",
       "3              None               None              None  \n",
       "4              None               None              None  "
      ]
     },
     "execution_count": 90,
     "metadata": {},
     "output_type": "execute_result"
    }
   ],
   "source": [
    "yelp_resp_df_0_5000.head()"
   ]
  },
  {
   "cell_type": "code",
   "execution_count": 31,
   "metadata": {
    "scrolled": true
   },
   "outputs": [
    {
     "data": {
      "text/plain": [
       "DBA_Name                0.0% missing values\n",
       "AKA_Name               0.64% missing values\n",
       "Address                 0.0% missing values\n",
       "response_id           30.72% missing values\n",
       "response_alias        30.72% missing values\n",
       "response_name         30.72% missing values\n",
       "response_latitude     30.72% missing values\n",
       "response_longitude    30.72% missing values\n",
       "response_address1     30.72% missing values\n",
       "dtype: object"
      ]
     },
     "execution_count": 31,
     "metadata": {},
     "output_type": "execute_result"
    }
   ],
   "source": [
    "yelp_resp_0_5000.isna().sum().apply(lambda x: '{}% missing values'.format(100 * x/len(yelp_resp_0_5000)))"
   ]
  },
  {
   "cell_type": "code",
   "execution_count": 264,
   "metadata": {},
   "outputs": [],
   "source": [
    "#yelp_resp_df_0_5000.to_pickle('yelp_match_0_4999.pickle')"
   ]
  },
  {
   "cell_type": "markdown",
   "metadata": {},
   "source": [
    "#### BUSINESS DETAILS ENDPOINT: extract price range, rating and cuisine\n",
    "Now that we have made the match requests and obtained the establishments' ids, we can make more requests to get details. "
   ]
  },
  {
   "cell_type": "code",
   "execution_count": 39,
   "metadata": {
    "scrolled": true
   },
   "outputs": [
    {
     "data": {
      "text/html": [
       "<div>\n",
       "<style scoped>\n",
       "    .dataframe tbody tr th:only-of-type {\n",
       "        vertical-align: middle;\n",
       "    }\n",
       "\n",
       "    .dataframe tbody tr th {\n",
       "        vertical-align: top;\n",
       "    }\n",
       "\n",
       "    .dataframe thead th {\n",
       "        text-align: right;\n",
       "    }\n",
       "</style>\n",
       "<table border=\"1\" class=\"dataframe\">\n",
       "  <thead>\n",
       "    <tr style=\"text-align: right;\">\n",
       "      <th></th>\n",
       "      <th>DBA_Name</th>\n",
       "      <th>AKA_Name</th>\n",
       "      <th>Address</th>\n",
       "      <th>response_id</th>\n",
       "      <th>response_alias</th>\n",
       "      <th>response_name</th>\n",
       "      <th>response_latitude</th>\n",
       "      <th>response_longitude</th>\n",
       "      <th>response_address1</th>\n",
       "    </tr>\n",
       "  </thead>\n",
       "  <tbody>\n",
       "    <tr>\n",
       "      <td>0</td>\n",
       "      <td>CARNICERIA Y FRUTERIA 'LOS ALTOS' INC.</td>\n",
       "      <td>CARNICERIA Y FRUTERIA LOS ALTOS</td>\n",
       "      <td>2959 W 40TH ST</td>\n",
       "      <td>jleGfLhZuxvRUdqAFstVGg</td>\n",
       "      <td>carniceria-y-fruteria-los-altos-chicago</td>\n",
       "      <td>Carniceria Y Fruteria Los Altos</td>\n",
       "      <td>41.8206</td>\n",
       "      <td>-87.6993</td>\n",
       "      <td>2959 W 40th St</td>\n",
       "    </tr>\n",
       "    <tr>\n",
       "      <td>1</td>\n",
       "      <td>CHICAGO'S FINEST BEEF AND BREW</td>\n",
       "      <td>CHICAGO'S FINEST BEEF AND BREW</td>\n",
       "      <td>234 S WABASH AVE</td>\n",
       "      <td>KwnuxV_YLkHUfP3dhe_qZg</td>\n",
       "      <td>als-beef-chicago-19</td>\n",
       "      <td>Al's Beef</td>\n",
       "      <td>41.8785</td>\n",
       "      <td>-87.6264</td>\n",
       "      <td>234 S Wabash Ave</td>\n",
       "    </tr>\n",
       "    <tr>\n",
       "      <td>2</td>\n",
       "      <td>PEKING MANDARIN RESTAURANT</td>\n",
       "      <td>PEKING MANDARIN RESTAURANT</td>\n",
       "      <td>3457-3459 W LAWRENCE AVE</td>\n",
       "      <td>4xQ7x-Td1nFshx7J0Bd6pw</td>\n",
       "      <td>peking-mandarin-chicago</td>\n",
       "      <td>Peking Mandarin</td>\n",
       "      <td>41.9682</td>\n",
       "      <td>-87.7151</td>\n",
       "      <td>3459 W Lawrence Ave</td>\n",
       "    </tr>\n",
       "    <tr>\n",
       "      <td>3</td>\n",
       "      <td>LA HUMITA</td>\n",
       "      <td>LA HUMITA</td>\n",
       "      <td>3466 N PULASKI RD</td>\n",
       "      <td>bh55xTHTQGLx95rPIj79ug</td>\n",
       "      <td>la-humita-chicago</td>\n",
       "      <td>La Humita</td>\n",
       "      <td>41.9447</td>\n",
       "      <td>-87.7277</td>\n",
       "      <td>3466 N Pulaski Rd</td>\n",
       "    </tr>\n",
       "    <tr>\n",
       "      <td>4</td>\n",
       "      <td>CHICAGO PRODUCE</td>\n",
       "      <td>CHICAGO PRODUCE</td>\n",
       "      <td>3500 W LAWRENCE AVE</td>\n",
       "      <td>WzXgyBi6K36UVEiluU7Rlg</td>\n",
       "      <td>chicago-produce-chicago</td>\n",
       "      <td>Chicago Produce</td>\n",
       "      <td>41.9686</td>\n",
       "      <td>-87.7162</td>\n",
       "      <td>3500 W Lawrence Ave</td>\n",
       "    </tr>\n",
       "    <tr>\n",
       "      <td>...</td>\n",
       "      <td>...</td>\n",
       "      <td>...</td>\n",
       "      <td>...</td>\n",
       "      <td>...</td>\n",
       "      <td>...</td>\n",
       "      <td>...</td>\n",
       "      <td>...</td>\n",
       "      <td>...</td>\n",
       "      <td>...</td>\n",
       "    </tr>\n",
       "    <tr>\n",
       "      <td>3459</td>\n",
       "      <td>FORNO ROSSO ON RANDOLPH</td>\n",
       "      <td>FORNO ROSSO ON RANDOLPH</td>\n",
       "      <td>1048 W RANDOLPH ST</td>\n",
       "      <td>2cDt9At556hf146QH_XkhQ</td>\n",
       "      <td>forno-rosso-pizzeria-napoletana-chicago-3</td>\n",
       "      <td>Forno Rosso Pizzeria Napoletana</td>\n",
       "      <td>41.8846</td>\n",
       "      <td>-87.6541</td>\n",
       "      <td>1048 W Randolph St</td>\n",
       "    </tr>\n",
       "    <tr>\n",
       "      <td>3460</td>\n",
       "      <td>CONGAS</td>\n",
       "      <td>CONGAS</td>\n",
       "      <td>7021 W HIGGINS AVE</td>\n",
       "      <td>qSrQDsG2BYdCmphu3-qrvA</td>\n",
       "      <td>congas-chicago</td>\n",
       "      <td>Congas</td>\n",
       "      <td>41.9802</td>\n",
       "      <td>-87.8033</td>\n",
       "      <td>7021 W Higgins Ave</td>\n",
       "    </tr>\n",
       "    <tr>\n",
       "      <td>3461</td>\n",
       "      <td>WRIGLEYVILLE ROOFTOPS</td>\n",
       "      <td>WRIGLEYVILLE ROOFTOPS</td>\n",
       "      <td>3637 N SHEFFIELD AVE</td>\n",
       "      <td>R4wLWK510K8VpYi_WJzX9g</td>\n",
       "      <td>wrigley-rooftops-chicago-9</td>\n",
       "      <td>Wrigley Rooftops</td>\n",
       "      <td>41.9478</td>\n",
       "      <td>-87.654</td>\n",
       "      <td>3609 N Sheffield</td>\n",
       "    </tr>\n",
       "    <tr>\n",
       "      <td>3462</td>\n",
       "      <td>CHEF XIONG</td>\n",
       "      <td>CHEF XIONG</td>\n",
       "      <td>2143 S ARCHER AVE</td>\n",
       "      <td>Ydn0Q4uqtokhlHTIwOHeTA</td>\n",
       "      <td>chef-xiong-taste-of-szechuan-chicago</td>\n",
       "      <td>Chef Xiong - Taste of Szechuan</td>\n",
       "      <td>41.8534</td>\n",
       "      <td>-87.6333</td>\n",
       "      <td>2143 S Archer Ave</td>\n",
       "    </tr>\n",
       "    <tr>\n",
       "      <td>3463</td>\n",
       "      <td>WESTERN POULTRY</td>\n",
       "      <td>WESTERN POULTRY</td>\n",
       "      <td>2003 S WESTERN AVE</td>\n",
       "      <td>rhxhZPLt2y4lVWKT4-8G8w</td>\n",
       "      <td>western-live-poultry-chicago</td>\n",
       "      <td>Western Live Poultry</td>\n",
       "      <td>41.8546</td>\n",
       "      <td>-87.6856</td>\n",
       "      <td>2003 S Western Ave</td>\n",
       "    </tr>\n",
       "  </tbody>\n",
       "</table>\n",
       "<p>3464 rows × 9 columns</p>\n",
       "</div>"
      ],
      "text/plain": [
       "                                    DBA_Name                         AKA_Name  \\\n",
       "0     CARNICERIA Y FRUTERIA 'LOS ALTOS' INC.  CARNICERIA Y FRUTERIA LOS ALTOS   \n",
       "1             CHICAGO'S FINEST BEEF AND BREW   CHICAGO'S FINEST BEEF AND BREW   \n",
       "2                 PEKING MANDARIN RESTAURANT       PEKING MANDARIN RESTAURANT   \n",
       "3                                  LA HUMITA                        LA HUMITA   \n",
       "4                            CHICAGO PRODUCE                  CHICAGO PRODUCE   \n",
       "...                                      ...                              ...   \n",
       "3459                 FORNO ROSSO ON RANDOLPH          FORNO ROSSO ON RANDOLPH   \n",
       "3460                                  CONGAS                           CONGAS   \n",
       "3461                   WRIGLEYVILLE ROOFTOPS            WRIGLEYVILLE ROOFTOPS   \n",
       "3462                              CHEF XIONG                       CHEF XIONG   \n",
       "3463                         WESTERN POULTRY                  WESTERN POULTRY   \n",
       "\n",
       "                        Address             response_id  \\\n",
       "0               2959 W 40TH ST   jleGfLhZuxvRUdqAFstVGg   \n",
       "1             234 S WABASH AVE   KwnuxV_YLkHUfP3dhe_qZg   \n",
       "2     3457-3459 W LAWRENCE AVE   4xQ7x-Td1nFshx7J0Bd6pw   \n",
       "3            3466 N PULASKI RD   bh55xTHTQGLx95rPIj79ug   \n",
       "4          3500 W LAWRENCE AVE   WzXgyBi6K36UVEiluU7Rlg   \n",
       "...                         ...                     ...   \n",
       "3459        1048 W RANDOLPH ST   2cDt9At556hf146QH_XkhQ   \n",
       "3460        7021 W HIGGINS AVE   qSrQDsG2BYdCmphu3-qrvA   \n",
       "3461      3637 N SHEFFIELD AVE   R4wLWK510K8VpYi_WJzX9g   \n",
       "3462         2143 S ARCHER AVE   Ydn0Q4uqtokhlHTIwOHeTA   \n",
       "3463        2003 S WESTERN AVE   rhxhZPLt2y4lVWKT4-8G8w   \n",
       "\n",
       "                                 response_alias  \\\n",
       "0       carniceria-y-fruteria-los-altos-chicago   \n",
       "1                           als-beef-chicago-19   \n",
       "2                       peking-mandarin-chicago   \n",
       "3                             la-humita-chicago   \n",
       "4                       chicago-produce-chicago   \n",
       "...                                         ...   \n",
       "3459  forno-rosso-pizzeria-napoletana-chicago-3   \n",
       "3460                             congas-chicago   \n",
       "3461                 wrigley-rooftops-chicago-9   \n",
       "3462       chef-xiong-taste-of-szechuan-chicago   \n",
       "3463               western-live-poultry-chicago   \n",
       "\n",
       "                        response_name response_latitude response_longitude  \\\n",
       "0     Carniceria Y Fruteria Los Altos           41.8206           -87.6993   \n",
       "1                           Al's Beef           41.8785           -87.6264   \n",
       "2                     Peking Mandarin           41.9682           -87.7151   \n",
       "3                           La Humita           41.9447           -87.7277   \n",
       "4                     Chicago Produce           41.9686           -87.7162   \n",
       "...                               ...               ...                ...   \n",
       "3459  Forno Rosso Pizzeria Napoletana           41.8846           -87.6541   \n",
       "3460                           Congas           41.9802           -87.8033   \n",
       "3461                 Wrigley Rooftops           41.9478            -87.654   \n",
       "3462   Chef Xiong - Taste of Szechuan           41.8534           -87.6333   \n",
       "3463             Western Live Poultry           41.8546           -87.6856   \n",
       "\n",
       "        response_address1  \n",
       "0          2959 W 40th St  \n",
       "1        234 S Wabash Ave  \n",
       "2     3459 W Lawrence Ave  \n",
       "3       3466 N Pulaski Rd  \n",
       "4     3500 W Lawrence Ave  \n",
       "...                   ...  \n",
       "3459   1048 W Randolph St  \n",
       "3460   7021 W Higgins Ave  \n",
       "3461     3609 N Sheffield  \n",
       "3462    2143 S Archer Ave  \n",
       "3463   2003 S Western Ave  \n",
       "\n",
       "[3464 rows x 9 columns]"
      ]
     },
     "execution_count": 39,
     "metadata": {},
     "output_type": "execute_result"
    }
   ],
   "source": [
    "# we get rid of the unmatched establishments\n",
    "matched_responses_5000 = yelp_resp_0_5000.dropna(subset=['response_id']).reset_index(drop=True)\n",
    "#matched_responses_5000.head()"
   ]
  },
  {
   "cell_type": "raw",
   "metadata": {
    "scrolled": true
   },
   "source": [
    "#Test for individual establishments\n",
    "\n",
    "test_df = pd.DataFrame()\n",
    "\n",
    "REQUEST_URL = 'https://api.yelp.com/v3/businesses/jleGfLhZuxvRUdqAFstVGg'\n",
    "\n",
    "response = requests.get(url=REQUEST_URL, headers = HEADERS)\n",
    "\n",
    "test_df = test_df.append(json_normalize(response.json()))\n",
    "\n",
    "test_df"
   ]
  },
  {
   "cell_type": "markdown",
   "metadata": {},
   "source": [
    "#### Make requests for all 5000 establishments\n",
    "We send the details requests and fill in the final dataframe"
   ]
  },
  {
   "cell_type": "code",
   "execution_count": 302,
   "metadata": {
    "scrolled": true
   },
   "outputs": [
    {
     "name": "stdout",
     "output_type": "stream",
     "text": [
      "Request 0 over len(matched_responses_5000)\n",
      "Request 100 over len(matched_responses_5000)\n",
      "Request 200 over len(matched_responses_5000)\n",
      "Request 300 over len(matched_responses_5000)\n",
      "Request 400 over len(matched_responses_5000)\n",
      "Request 500 over len(matched_responses_5000)\n",
      "Request 600 over len(matched_responses_5000)\n",
      "Request 700 over len(matched_responses_5000)\n",
      "Request 800 over len(matched_responses_5000)\n",
      "Request 900 over len(matched_responses_5000)\n",
      "Request 1000 over len(matched_responses_5000)\n",
      "Request 1100 over len(matched_responses_5000)\n",
      "Request 1200 over len(matched_responses_5000)\n",
      "Request 1300 over len(matched_responses_5000)\n",
      "Request 1400 over len(matched_responses_5000)\n",
      "Request 1500 over len(matched_responses_5000)\n",
      "Request 1600 over len(matched_responses_5000)\n",
      "Request 1700 over len(matched_responses_5000)\n",
      "Request 1800 over len(matched_responses_5000)\n",
      "Request 1900 over len(matched_responses_5000)\n",
      "Request 2000 over len(matched_responses_5000)\n",
      "Request 2100 over len(matched_responses_5000)\n",
      "Request 2200 over len(matched_responses_5000)\n",
      "Request 2300 over len(matched_responses_5000)\n",
      "Request 2400 over len(matched_responses_5000)\n",
      "Request 2500 over len(matched_responses_5000)\n",
      "Request 2600 over len(matched_responses_5000)\n",
      "Request 2700 over len(matched_responses_5000)\n",
      "Request 2800 over len(matched_responses_5000)\n",
      "Request 2900 over len(matched_responses_5000)\n",
      "Request 3000 over len(matched_responses_5000)\n",
      "Request 3100 over len(matched_responses_5000)\n",
      "Request 3200 over len(matched_responses_5000)\n",
      "Request 3300 over len(matched_responses_5000)\n",
      "Request 3400 over len(matched_responses_5000)\n"
     ]
    }
   ],
   "source": [
    "details_5000 = pd.DataFrame()\n",
    "for req_nb in range(len(matched_responses_5000)):\n",
    "    if (req_nb%100 == 0):\n",
    "        print(f'Request {req_nb} over {len(matched_responses_5000)}')\n",
    "    REQUEST_URL = 'https://api.yelp.com/v3/businesses/' + matched_responses_5000['response_id'][req_nb]\n",
    "    response = requests.get(url=REQUEST_URL, headers = HEADERS)\n",
    "    details_5000 = details_5000.append(json_normalize(response.json()))"
   ]
  },
  {
   "cell_type": "code",
   "execution_count": 305,
   "metadata": {},
   "outputs": [
    {
     "data": {
      "text/plain": [
       "0"
      ]
     },
     "execution_count": 305,
     "metadata": {},
     "output_type": "execute_result"
    }
   ],
   "source": [
    "len(details_5000)"
   ]
  },
  {
   "cell_type": "code",
   "execution_count": null,
   "metadata": {},
   "outputs": [],
   "source": []
  },
  {
   "cell_type": "code",
   "execution_count": null,
   "metadata": {},
   "outputs": [],
   "source": []
  },
  {
   "cell_type": "code",
   "execution_count": 36,
   "metadata": {
    "scrolled": true
   },
   "outputs": [],
   "source": [
    "cleaned = pd.read_pickle('./datasets/cleaned_inspections.pickle')"
   ]
  },
  {
   "cell_type": "code",
   "execution_count": 37,
   "metadata": {
    "scrolled": true
   },
   "outputs": [],
   "source": [
    "cleaned = cleaned.drop_duplicates(subset=['DBA Name', 'AKA Name', 'Address'])[['DBA Name', 'AKA Name', 'Address']].reset_index(drop=True)"
   ]
  },
  {
   "cell_type": "code",
   "execution_count": 38,
   "metadata": {
    "scrolled": true
   },
   "outputs": [
    {
     "data": {
      "text/plain": [
       "DBA Name    0.0% missing values\n",
       "AKA Name    0.0% missing values\n",
       "Address     0.0% missing values\n",
       "dtype: object"
      ]
     },
     "execution_count": 38,
     "metadata": {},
     "output_type": "execute_result"
    }
   ],
   "source": [
    "cleaned.isna().sum().apply(lambda x: '{}% missing values'.format(100 * x/len(cleaned)))"
   ]
  },
  {
   "cell_type": "code",
   "execution_count": 39,
   "metadata": {},
   "outputs": [],
   "source": [
    "cleaned = cleaned.rename(columns={\"DBA Name\": \"DBA_Name\"})\n",
    "cleaned['response_id'] = None\n",
    "cleaned['response_alias'] = None\n",
    "cleaned['response_name'] =  None\n",
    "cleaned['response_latitude'] =  None\n",
    "cleaned['response_longitude'] =  None\n",
    "cleaned['response_address1'] =  None"
   ]
  },
  {
   "cell_type": "code",
   "execution_count": 40,
   "metadata": {},
   "outputs": [
    {
     "name": "stdout",
     "output_type": "stream",
     "text": [
      "req 0 over 300\n",
      "req 100 over 300\n",
      "req 200 over 300\n"
     ]
    }
   ],
   "source": [
    "yelp_resp_df_0_300 = cleaned[0:300].copy()\n",
    "yelp_resp_df_0_300, yelp_resp_0_300 = fill_df(yelp_resp_df_0_300, ENDPOINT)"
   ]
  }
 ],
 "metadata": {
  "kernelspec": {
   "display_name": "Python 3",
   "language": "python",
   "name": "python3"
  },
  "language_info": {
   "codemirror_mode": {
    "name": "ipython",
    "version": 3
   },
   "file_extension": ".py",
   "mimetype": "text/x-python",
   "name": "python",
   "nbconvert_exporter": "python",
   "pygments_lexer": "ipython3",
   "version": "3.7.4"
  }
 },
 "nbformat": 4,
 "nbformat_minor": 2
}
