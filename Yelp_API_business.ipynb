{
 "cells": [
  {
   "cell_type": "code",
   "execution_count": 102,
   "metadata": {},
   "outputs": [],
   "source": [
    "import pandas as pd\n",
    "import numpy as np\n",
    "import math\n",
    "import requests\n",
    "from yelpapi import YelpAPI\n",
    "from pandas.io.json import json_normalize\n",
    "#import sys\n",
    "#from importlib import reload\n",
    "#reload(sys)\n",
    "#sys.setdefaultencoding('utf-8')"
   ]
  },
  {
   "cell_type": "markdown",
   "metadata": {},
   "source": [
    "Info about the Yelp API\n",
    "Parameters:\n",
    "* limit = Number of business results to return. By default, it will return 20. Maximum is 50.\n",
    "* offset = Offset the list of returned business results by this amount. For example if there are 300 businesses, in the first requests there's a max of 50 restaurants sent back to us, in the second we'll do offset = 50 which will get us the businesses from 50 to 100. These still are considered as different requests\n"
   ]
  },
  {
   "cell_type": "markdown",
   "metadata": {},
   "source": [
    "* Client ID\n",
    "\n",
    "B8rRuDSzKbPnW3jBOwXdZg\n",
    "\n",
    "* API Key\n",
    "\n",
    "irBVcEgoI6PeOStlUs77hlL-9r0MA5oa14yFIdtA_mtpe3ChIaN8rAyLcCGgQAFQdfI4cK2ZY84cx3ZFIMh2bDBgIotdi_9yN3Xlp23eE-9HF-Ou5vTrErRnngbIXXYx\n",
    "\n",
    "To get these, must visit https://www.yelp.com/developers/v3/manage_app and create an account"
   ]
  },
  {
   "cell_type": "markdown",
   "metadata": {},
   "source": [
    "### Make requests"
   ]
  },
  {
   "cell_type": "code",
   "execution_count": 100,
   "metadata": {},
   "outputs": [],
   "source": [
    "API_KEY = 'irBVcEgoI6PeOStlUs77hlL-9r0MA5oa14yFIdtA_mtpe3ChIaN8rAyLcCGgQAFQdfI4cK2ZY84cx3ZFIMh2bDBgIotdi_9yN3Xlp23eE-9HF-Ou5vTrErRnngbIXXYx'\n",
    "#Endpoints : https://www.yelp.com/developers/documentation/v3\n",
    "\n",
    "MAX_RETURNS = 50\n",
    "ENDPOINT = 'https://api.yelp.com/v3/businesses/search'\n",
    "HEADERS = {'Authorization': 'bearer %s' % API_KEY}\n",
    "\n",
    "#Define the inital parameters\n",
    "INIT_PARAM = {'offset': 0,\n",
    "             'limit' : 1,\n",
    "              'term' : 'food',\n",
    "             'location':'Chicago'}"
   ]
  },
  {
   "cell_type": "code",
   "execution_count": 120,
   "metadata": {
    "scrolled": true
   },
   "outputs": [
    {
     "name": "stdout",
     "output_type": "stream",
     "text": [
      "The number of establishments satifying the request is : 18100 establishments\n",
      "We will have to make 20 requests\n"
     ]
    }
   ],
   "source": [
    "# find out how many establishment we can collect \n",
    "init_response = requests.get(url=ENDPOINT, params=INIT_PARAM, headers = HEADERS)\n",
    "nb_estab = response.json()['total']\n",
    "print('The number of establishments satifying the request is : {0} establishments'.format(nb_estab))\n",
    "\n",
    "# The YelpAPI only returns 50 establishments at a time, and returns in total up to 1000 items\n",
    "# the number of requests we'll have to make is ceil(the number of establishments divided by 50)\n",
    "nb_requests = math.ceil(nb_estab / MAX_RETURNS) if (nb_estab < 1000) else 20\n",
    "print('We will have to make {0} requests'.format(nb_requests))"
   ]
  },
  {
   "cell_type": "code",
   "execution_count": 121,
   "metadata": {},
   "outputs": [
    {
     "name": "stderr",
     "output_type": "stream",
     "text": [
      "C:\\Users\\lilia\\.conda\\envs\\ada\\lib\\site-packages\\pandas\\core\\frame.py:7123: FutureWarning: Sorting because non-concatenation axis is not aligned. A future version\n",
      "of pandas will change to not sort by default.\n",
      "\n",
      "To accept the future behavior, pass 'sort=False'.\n",
      "\n",
      "To retain the current behavior and silence the warning, pass 'sort=True'.\n",
      "\n",
      "  sort=sort,\n"
     ]
    }
   ],
   "source": [
    "#create dataframe to contain businesses\n",
    "businesses = pd.DataFrame()\n",
    "\n",
    "#Make requests and fill up the dataframe\n",
    "for req in range(nb_requests):\n",
    "    # the offset is the starting points in Yelp database\n",
    "    PARAM = {'offset': req*50,\n",
    "             'limit' : 50,\n",
    "              'term' : 'food',\n",
    "             'location':'Chicago'}\n",
    "    response = requests.get(url=ENDPOINT, params=PARAM, headers = HEADERS)\n",
    "    businesses = businesses.append(json_normalize(response.json()['businesses']), ignore_index=True)"
   ]
  },
  {
   "cell_type": "markdown",
   "metadata": {},
   "source": [
    "### Clean data"
   ]
  },
  {
   "cell_type": "code",
   "execution_count": 161,
   "metadata": {},
   "outputs": [],
   "source": [
    "#drop useless columns\n",
    "businesses = businesses.drop(columns=['image_url', 'transactions', 'url','location.address1', 'location.address2',\\\n",
    "                         'location.address3', 'phone','location.display_address', 'display_phone',\\\n",
    "                         'distance'])"
   ]
  },
  {
   "cell_type": "code",
   "execution_count": 173,
   "metadata": {
    "scrolled": true
   },
   "outputs": [],
   "source": [
    "#Only keep establishments in Illinois\n",
    "businesses = businesses[businesses['location.state'] == 'IL']"
   ]
  },
  {
   "cell_type": "code",
   "execution_count": 178,
   "metadata": {
    "scrolled": true
   },
   "outputs": [
    {
     "name": "stdout",
     "output_type": "stream",
     "text": [
      "['Chicago' 'Burbank' 'CHICAGO' 'Oak Lawn' 'Cicero' 'Elmhurst'\n",
      " 'Elmwood Park' 'Niles' 'Oak Park' 'Franklin Park' 'River Grove'\n",
      " 'Glendale Heights' 'Forest Park']\n"
     ]
    }
   ],
   "source": [
    "print(businesses['location.city'].unique())\n",
    "\n",
    "#after checking out these locations individually, we find that they are close to Chicago, so we can keep them"
   ]
  },
  {
   "cell_type": "code",
   "execution_count": 179,
   "metadata": {},
   "outputs": [],
   "source": [
    "businesses.to_pickle(\"yelp_businesses_pickle\")"
   ]
  },
  {
   "cell_type": "code",
   "execution_count": null,
   "metadata": {},
   "outputs": [],
   "source": []
  },
  {
   "cell_type": "code",
   "execution_count": null,
   "metadata": {},
   "outputs": [],
   "source": []
  }
 ],
 "metadata": {
  "kernelspec": {
   "display_name": "Python 3",
   "language": "python",
   "name": "python3"
  },
  "language_info": {
   "codemirror_mode": {
    "name": "ipython",
    "version": 3
   },
   "file_extension": ".py",
   "mimetype": "text/x-python",
   "name": "python",
   "nbconvert_exporter": "python",
   "pygments_lexer": "ipython3",
   "version": "3.7.4"
  }
 },
 "nbformat": 4,
 "nbformat_minor": 2
}
