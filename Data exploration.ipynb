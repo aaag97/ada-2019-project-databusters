{
 "cells": [
  {
   "cell_type": "markdown",
   "metadata": {},
   "source": [
    "# Relevant imports"
   ]
  },
  {
   "cell_type": "code",
   "execution_count": 169,
   "metadata": {},
   "outputs": [],
   "source": [
    "import pandas as pd\n",
    "import numpy as np\n",
    "import matplotlib.pyplot as plt\n",
    "import seaborn as sns\n",
    "import re\n",
    "import math\n",
    "from geopy.geocoders import Nominatim\n",
    "from geopy.extra.rate_limiter import RateLimiter\n",
    "\n",
    "from autocorrect import Speller\n",
    "\n",
    "from sklearn.linear_model import Ridge\n",
    "from sklearn.model_selection import train_test_split\n",
    "from sklearn.model_selection import cross_val_predict\n",
    "from sklearn.model_selection import cross_val_score\n",
    "from sklearn.metrics import mean_squared_error\n",
    "\n",
    "import pandas_profiling\n",
    "\n",
    "import findspark\n",
    "findspark.init()\n",
    "\n",
    "import pyspark\n",
    "import pyspark.sql\n",
    "from pyspark.sql import *\n",
    "from pyspark.sql.functions import *"
   ]
  },
  {
   "cell_type": "markdown",
   "metadata": {},
   "source": [
    "# I. Dataset(s) preparation and cleaning"
   ]
  },
  {
   "cell_type": "markdown",
   "metadata": {},
   "source": [
    "Before we proceed to tackle each of our research questions, some data cleaning is in order."
   ]
  },
  {
   "cell_type": "markdown",
   "metadata": {},
   "source": [
    "## 1. Load the data and explore its structure"
   ]
  },
  {
   "cell_type": "code",
   "execution_count": 170,
   "metadata": {},
   "outputs": [],
   "source": [
    "inspections = pd.read_csv('datasets/food-inspections.csv')"
   ]
  },
  {
   "cell_type": "code",
   "execution_count": 171,
   "metadata": {},
   "outputs": [
    {
     "data": {
      "text/plain": [
       "194615"
      ]
     },
     "execution_count": 171,
     "metadata": {},
     "output_type": "execute_result"
    }
   ],
   "source": [
    "len(inspections)"
   ]
  },
  {
   "cell_type": "markdown",
   "metadata": {},
   "source": [
    "The dataset has 22 columns. Let's examine what each of them is."
   ]
  },
  {
   "cell_type": "code",
   "execution_count": 172,
   "metadata": {},
   "outputs": [
    {
     "data": {
      "text/plain": [
       "Index(['Inspection ID', 'DBA Name', 'AKA Name', 'License #', 'Facility Type',\n",
       "       'Risk', 'Address', 'City', 'State', 'Zip', 'Inspection Date',\n",
       "       'Inspection Type', 'Results', 'Violations', 'Latitude', 'Longitude',\n",
       "       'Location', 'Historical Wards 2003-2015', 'Zip Codes',\n",
       "       'Community Areas', 'Census Tracts', 'Wards'],\n",
       "      dtype='object')"
      ]
     },
     "execution_count": 172,
     "metadata": {},
     "output_type": "execute_result"
    }
   ],
   "source": [
    "#Display columns\n",
    "inspections.columns"
   ]
  },
  {
   "cell_type": "code",
   "execution_count": 173,
   "metadata": {},
   "outputs": [
    {
     "data": {
      "text/plain": [
       "Inspection ID                   int64\n",
       "DBA Name                       object\n",
       "AKA Name                       object\n",
       "License #                     float64\n",
       "Facility Type                  object\n",
       "Risk                           object\n",
       "Address                        object\n",
       "City                           object\n",
       "State                          object\n",
       "Zip                           float64\n",
       "Inspection Date                object\n",
       "Inspection Type                object\n",
       "Results                        object\n",
       "Violations                     object\n",
       "Latitude                      float64\n",
       "Longitude                     float64\n",
       "Location                       object\n",
       "Historical Wards 2003-2015    float64\n",
       "Zip Codes                     float64\n",
       "Community Areas               float64\n",
       "Census Tracts                 float64\n",
       "Wards                         float64\n",
       "dtype: object"
      ]
     },
     "execution_count": 173,
     "metadata": {},
     "output_type": "execute_result"
    }
   ],
   "source": [
    "inspections.dtypes"
   ]
  },
  {
   "cell_type": "markdown",
   "metadata": {},
   "source": [
    "A description of the features is given below [Source](https://data.cityofchicago.org/api/assets/BAD5301B-681A-4202-9D25-51B2CAE672FF).\n",
    "The last five columns are ignored in the dataset source; we will see that those columns are in fact null\n",
    "\n",
    "| Feature name                | Variable Type | Description \n",
    "|-----------------------------|---------------|--------------------------------------------------------\n",
    "| Inspection ID        | Integer    | The inspection unique identifier.\n",
    "| DBA Name                 | String        | ‘Doing business as.’Legal name of the establishment.\n",
    "| AKA NAme                | String    |  ‘Also known as.’ Name the public would know the establishment as.\n",
    "| License # | Integer    | Unique number assigned to the establishment for the purposes of licensing by the Department of Business Affairs and Consumer Protection.\n",
    "| Type of facility                | String    | Each establishment is described by one of the following: bakery, banquet hall, candy store, caterer, coffee shop, day care center (for ages less than 2), day care center (for ages 2 – 6), day care center (combo, for ages less than 2 and 2 – 6 combined), gas station, Golden Diner, grocery store, hospital, long term care center(nursing home), liquor store, mobile food dispenser, restaurant, paleteria, school, shelter, tavern, social club, wholesaler, or Wrigley Field Rooftop.\n",
    "| Risk                   | String    | Risk category of facility of adversely affecting the public’s health, with 1 being the highest and 3 the lowest. The frequency of inspection is tied to this risk, with risk 1 establishments inspected most frequently and risk 3 least frequently.\n",
    "| Address        | String    | Street address of the establishment.\n",
    "| City        | String    | City of the establishment.\n",
    "| State        | String    | State of the establishment.\n",
    "| Zip        | Integer    | Zip code of the establishment.\n",
    "| Inspection Date        | Date    | Date of the inspection\n",
    "| Inspection Type        | String    | An inspection can be one of the following types: canvass, the most common type of inspection performed at a frequency relative to the risk of the establishment; consultation, when the inspection is done at the request of the owner prior to the opening of the establishment; complaint, when the inspection is done in response to a complaint against the establishment; license, when the inspection is done as a requirement for the establishment to receive its license to operate; suspect food poisoning, when the inspection is done in response to one or more persons claiming to have gotten ill as a result of eating at the establishment (a specific type of complaint-based inspection); task-force inspection, when an inspection of a bar or tavern is done. Re-inspections can occur for most types of these inspections and are indicated as such.\n",
    "| Results        | String    | Results: An inspection can pass, pass with conditions or fail. Establishments receiving a ‘pass’ were found to have no critical or serious violations (violation number 1-14 and 15- 29, respectively). Establishments receiving a ‘pass with conditions’ were found to have critical or serious violations, but these were corrected during the inspection. Establishments receiving a ‘fail’ were found to have critical or serious violations that were not correctable during the inspection. An establishment receiving a ‘fail’ does not necessarily mean the establishment’s licensed is suspended. Establishments found to be out of business or not located are indicated as such.\n",
    "| Violations        | String    | An establishment can receive one or more of 45 distinct violations (violation numbers 1-44 and 70). For each violation number listed for a given establishment, the requirement the establishment must meet in order for it to NOT receive a violation is noted, followed by a specific description of the findings that caused the violation to be issued.\n",
    "| Latitude        | Integer    | Latitude of the establishment.\n",
    "| Longitude        | Integer    | Longitude of the establishment.\n",
    "\n"
   ]
  },
  {
   "cell_type": "markdown",
   "metadata": {},
   "source": [
    "We use pandas_profiling to have a quick overview of our dataset; missing values, features distributions and features correlation."
   ]
  },
  {
   "cell_type": "code",
   "execution_count": 174,
   "metadata": {},
   "outputs": [],
   "source": [
    "#inspections.profile_report(style={'full_width':True})"
   ]
  },
  {
   "cell_type": "code",
   "execution_count": 175,
   "metadata": {},
   "outputs": [],
   "source": [
    "#Save the report to a html file\n",
    "#profile = IPO_data.profile_report(title='inspection data Profiling Report')\n",
    "#profile.to_file(output_file=\"data_profile.html\")"
   ]
  },
  {
   "cell_type": "markdown",
   "metadata": {},
   "source": [
    "## 2. Drop duplicates"
   ]
  },
  {
   "cell_type": "markdown",
   "metadata": {},
   "source": [
    "The dataset source explicitly says there are duplicates in our data, hence it makes sence to drop those. [source](https://www.kaggle.com/chicago/chicago-food-inspections)"
   ]
  },
  {
   "cell_type": "code",
   "execution_count": 176,
   "metadata": {},
   "outputs": [
    {
     "data": {
      "text/plain": [
       "194446"
      ]
     },
     "execution_count": 176,
     "metadata": {},
     "output_type": "execute_result"
    }
   ],
   "source": [
    "inspections.drop_duplicates(inplace=True)\n",
    "len(inspections)"
   ]
  },
  {
   "cell_type": "markdown",
   "metadata": {},
   "source": [
    "## 3. Dataset cleaning"
   ]
  },
  {
   "cell_type": "markdown",
   "metadata": {},
   "source": [
    "### A. Drop null columns"
   ]
  },
  {
   "cell_type": "markdown",
   "metadata": {},
   "source": [
    "The 'Location' column contains the latitude and longitude of the establishment. However, there are separate 'Latitude' and 'Longitude' columns. We can hence safely drop the 'Location' column."
   ]
  },
  {
   "cell_type": "code",
   "execution_count": 177,
   "metadata": {},
   "outputs": [],
   "source": [
    "inspections = inspections.drop(columns=['Location'])"
   ]
  },
  {
   "cell_type": "markdown",
   "metadata": {},
   "source": [
    "The head of the dataset only contains NaN entries for the 'Historical Wards 2003-2015', 'Zip Codes', 'Community Areas', 'Census Tracts', 'Wards' columns. Let's see if this is true for the whole dataset."
   ]
  },
  {
   "cell_type": "code",
   "execution_count": 178,
   "metadata": {},
   "outputs": [
    {
     "name": "stdout",
     "output_type": "stream",
     "text": [
      "Values taken by 'Historical Wards 2003-2015':  [nan]\n",
      "Values taken by 'Zip Codes':  [nan]\n",
      "Values taken by 'Community Areas':  [nan]\n",
      "Values taken by 'Census Tracts':  [nan]\n",
      "Values taken by 'Wards':  [nan]\n"
     ]
    }
   ],
   "source": [
    "# make sure that our assumption is correct\n",
    "print('Values taken by \\'Historical Wards 2003-2015\\': ', inspections['Zip Codes'].unique())\n",
    "print('Values taken by \\'Zip Codes\\': ', inspections['Zip Codes'].unique())\n",
    "print('Values taken by \\'Community Areas\\': ', inspections['Zip Codes'].unique())\n",
    "print('Values taken by \\'Census Tracts\\': ', inspections['Zip Codes'].unique())\n",
    "print('Values taken by \\'Wards\\': ', inspections['Zip Codes'].unique())\n"
   ]
  },
  {
   "cell_type": "markdown",
   "metadata": {},
   "source": [
    "We drop all columns apart from the 'Community Areas' because we will be needing it in our study. We will fill later."
   ]
  },
  {
   "cell_type": "code",
   "execution_count": 179,
   "metadata": {},
   "outputs": [],
   "source": [
    "inspections = inspections.drop(columns=['Historical Wards 2003-2015'])\n",
    "inspections = inspections.drop(columns=['Zip Codes'])\n",
    "inspections = inspections.drop(columns=['Census Tracts'])\n",
    "inspections = inspections.drop(columns=['Wards'])"
   ]
  },
  {
   "cell_type": "markdown",
   "metadata": {},
   "source": [
    "### B. Clean the location related features and fill in community area feature"
   ]
  },
  {
   "cell_type": "markdown",
   "metadata": {},
   "source": [
    "Let's examine if the whole dataset is relevent to the study we are conducting by seeing which entries correspond to facilities in Chicago."
   ]
  },
  {
   "cell_type": "markdown",
   "metadata": {},
   "source": [
    "First, we check if there are any missing values for the column 'City' or 'State'"
   ]
  },
  {
   "cell_type": "code",
   "execution_count": 180,
   "metadata": {},
   "outputs": [
    {
     "data": {
      "text/html": [
       "<div>\n",
       "<style scoped>\n",
       "    .dataframe tbody tr th:only-of-type {\n",
       "        vertical-align: middle;\n",
       "    }\n",
       "\n",
       "    .dataframe tbody tr th {\n",
       "        vertical-align: top;\n",
       "    }\n",
       "\n",
       "    .dataframe thead th {\n",
       "        text-align: right;\n",
       "    }\n",
       "</style>\n",
       "<table border=\"1\" class=\"dataframe\">\n",
       "  <thead>\n",
       "    <tr style=\"text-align: right;\">\n",
       "      <th></th>\n",
       "      <th>Inspection ID</th>\n",
       "      <th>DBA Name</th>\n",
       "      <th>AKA Name</th>\n",
       "      <th>License #</th>\n",
       "      <th>Facility Type</th>\n",
       "      <th>Risk</th>\n",
       "      <th>Address</th>\n",
       "      <th>City</th>\n",
       "      <th>State</th>\n",
       "      <th>Zip</th>\n",
       "      <th>Inspection Date</th>\n",
       "      <th>Inspection Type</th>\n",
       "      <th>Results</th>\n",
       "      <th>Violations</th>\n",
       "      <th>Latitude</th>\n",
       "      <th>Longitude</th>\n",
       "      <th>Community Areas</th>\n",
       "    </tr>\n",
       "  </thead>\n",
       "  <tbody>\n",
       "    <tr>\n",
       "      <td>819</td>\n",
       "      <td>2312774</td>\n",
       "      <td>CHICAGO COLLEGIATE CHARTER</td>\n",
       "      <td>CHICAGO COLLEGIATE CHARTER</td>\n",
       "      <td>3846104.0</td>\n",
       "      <td>School</td>\n",
       "      <td>Risk 1 (High)</td>\n",
       "      <td>10909 S COTTAGE GROVE AVE</td>\n",
       "      <td>NaN</td>\n",
       "      <td>IL</td>\n",
       "      <td>NaN</td>\n",
       "      <td>2019-09-24T00:00:00.000</td>\n",
       "      <td>Canvass Re-Inspection</td>\n",
       "      <td>Pass w/ Conditions</td>\n",
       "      <td>3. MANAGEMENT, FOOD EMPLOYEE AND CONDITIONAL E...</td>\n",
       "      <td>41.696087</td>\n",
       "      <td>-87.608945</td>\n",
       "      <td>NaN</td>\n",
       "    </tr>\n",
       "    <tr>\n",
       "      <td>976</td>\n",
       "      <td>2312540</td>\n",
       "      <td>CHICAGO COLLEGIATE CHARTER</td>\n",
       "      <td>CHICAGO COLLEGIATE CHARTER</td>\n",
       "      <td>3846104.0</td>\n",
       "      <td>School</td>\n",
       "      <td>Risk 1 (High)</td>\n",
       "      <td>10909 S COTTAGE GROVE AVE</td>\n",
       "      <td>NaN</td>\n",
       "      <td>IL</td>\n",
       "      <td>NaN</td>\n",
       "      <td>2019-09-19T00:00:00.000</td>\n",
       "      <td>Canvass Re-Inspection</td>\n",
       "      <td>Fail</td>\n",
       "      <td>3. MANAGEMENT, FOOD EMPLOYEE AND CONDITIONAL E...</td>\n",
       "      <td>41.696087</td>\n",
       "      <td>-87.608945</td>\n",
       "      <td>NaN</td>\n",
       "    </tr>\n",
       "    <tr>\n",
       "      <td>982</td>\n",
       "      <td>2312545</td>\n",
       "      <td>JCYS IRIS &amp; STEVEN PODOLSKY FAMILY CENTER</td>\n",
       "      <td>JCYS IRIS &amp; STEVEN PODOLSKY FAMILY CENTER</td>\n",
       "      <td>2671297.0</td>\n",
       "      <td>Children's Services Facility</td>\n",
       "      <td>Risk 1 (High)</td>\n",
       "      <td>2112 W LAWRENCE AVE</td>\n",
       "      <td>NaN</td>\n",
       "      <td>IL</td>\n",
       "      <td>60625.0</td>\n",
       "      <td>2019-09-19T00:00:00.000</td>\n",
       "      <td>License Re-Inspection</td>\n",
       "      <td>Pass</td>\n",
       "      <td>38. INSECTS, RODENTS, &amp; ANIMALS NOT PRESENT - ...</td>\n",
       "      <td>41.968821</td>\n",
       "      <td>-87.682201</td>\n",
       "      <td>NaN</td>\n",
       "    </tr>\n",
       "    <tr>\n",
       "      <td>2152</td>\n",
       "      <td>2305166</td>\n",
       "      <td>AMY BECK CAKE DESIGN, LLC</td>\n",
       "      <td>AMY BECK CAKE DESIGN, LLC</td>\n",
       "      <td>2079264.0</td>\n",
       "      <td>Bakery</td>\n",
       "      <td>Risk 1 (High)</td>\n",
       "      <td>636 N RACINE AVE</td>\n",
       "      <td>NaN</td>\n",
       "      <td>NaN</td>\n",
       "      <td>60642.0</td>\n",
       "      <td>2019-08-23T00:00:00.000</td>\n",
       "      <td>Canvass</td>\n",
       "      <td>Pass</td>\n",
       "      <td>55. PHYSICAL FACILITIES INSTALLED, MAINTAINED ...</td>\n",
       "      <td>41.893380</td>\n",
       "      <td>-87.657588</td>\n",
       "      <td>NaN</td>\n",
       "    </tr>\n",
       "    <tr>\n",
       "      <td>2767</td>\n",
       "      <td>2304583</td>\n",
       "      <td>JCYS IRIS &amp; STEVEN PODOLSKY FAMILY CENTER</td>\n",
       "      <td>JCYS IRIS &amp; STEVEN PODOLSKY FAMILY CENTER</td>\n",
       "      <td>2671297.0</td>\n",
       "      <td>Children's Services Facility</td>\n",
       "      <td>Risk 1 (High)</td>\n",
       "      <td>2112 W LAWRENCE AVE</td>\n",
       "      <td>NaN</td>\n",
       "      <td>IL</td>\n",
       "      <td>60625.0</td>\n",
       "      <td>2019-08-13T00:00:00.000</td>\n",
       "      <td>License</td>\n",
       "      <td>Fail</td>\n",
       "      <td>3. MANAGEMENT, FOOD EMPLOYEE AND CONDITIONAL E...</td>\n",
       "      <td>41.968821</td>\n",
       "      <td>-87.682201</td>\n",
       "      <td>NaN</td>\n",
       "    </tr>\n",
       "    <tr>\n",
       "      <td>...</td>\n",
       "      <td>...</td>\n",
       "      <td>...</td>\n",
       "      <td>...</td>\n",
       "      <td>...</td>\n",
       "      <td>...</td>\n",
       "      <td>...</td>\n",
       "      <td>...</td>\n",
       "      <td>...</td>\n",
       "      <td>...</td>\n",
       "      <td>...</td>\n",
       "      <td>...</td>\n",
       "      <td>...</td>\n",
       "      <td>...</td>\n",
       "      <td>...</td>\n",
       "      <td>...</td>\n",
       "      <td>...</td>\n",
       "      <td>...</td>\n",
       "    </tr>\n",
       "    <tr>\n",
       "      <td>193147</td>\n",
       "      <td>60291</td>\n",
       "      <td>CLOVERHILL PASTRY-VEND,LLC</td>\n",
       "      <td>CLOVERHILL PASTRY-VEND,LLC</td>\n",
       "      <td>2004357.0</td>\n",
       "      <td>Wholesale</td>\n",
       "      <td>Risk 3 (Low)</td>\n",
       "      <td>4464 W 44TH ST</td>\n",
       "      <td>NaN</td>\n",
       "      <td>IL</td>\n",
       "      <td>60632.0</td>\n",
       "      <td>2010-02-03T00:00:00.000</td>\n",
       "      <td>License Re-Inspection</td>\n",
       "      <td>Pass</td>\n",
       "      <td>NaN</td>\n",
       "      <td>41.814266</td>\n",
       "      <td>-87.736013</td>\n",
       "      <td>NaN</td>\n",
       "    </tr>\n",
       "    <tr>\n",
       "      <td>193404</td>\n",
       "      <td>60282</td>\n",
       "      <td>CLOVERHILL PASTRY-VEND,LLC</td>\n",
       "      <td>CLOVERHILL PASTRY-VEND,LLC</td>\n",
       "      <td>2004357.0</td>\n",
       "      <td>Wholesale</td>\n",
       "      <td>Risk 3 (Low)</td>\n",
       "      <td>4464 W 44TH ST</td>\n",
       "      <td>NaN</td>\n",
       "      <td>IL</td>\n",
       "      <td>60632.0</td>\n",
       "      <td>2010-01-28T00:00:00.000</td>\n",
       "      <td>License</td>\n",
       "      <td>Fail</td>\n",
       "      <td>32. FOOD AND NON-FOOD CONTACT SURFACES PROPERL...</td>\n",
       "      <td>41.814266</td>\n",
       "      <td>-87.736013</td>\n",
       "      <td>NaN</td>\n",
       "    </tr>\n",
       "    <tr>\n",
       "      <td>193473</td>\n",
       "      <td>60279</td>\n",
       "      <td>CLOVERHILL PASTRY-VEND,LLC</td>\n",
       "      <td>CLOVERHILL PASTRY-VEND,LLC</td>\n",
       "      <td>2004357.0</td>\n",
       "      <td>Wholesale</td>\n",
       "      <td>Risk 3 (Low)</td>\n",
       "      <td>4464 W 44TH ST</td>\n",
       "      <td>NaN</td>\n",
       "      <td>IL</td>\n",
       "      <td>60632.0</td>\n",
       "      <td>2010-01-27T00:00:00.000</td>\n",
       "      <td>License</td>\n",
       "      <td>Fail</td>\n",
       "      <td>NaN</td>\n",
       "      <td>41.814266</td>\n",
       "      <td>-87.736013</td>\n",
       "      <td>NaN</td>\n",
       "    </tr>\n",
       "    <tr>\n",
       "      <td>193994</td>\n",
       "      <td>67912</td>\n",
       "      <td>THREE CHEFS RESTURANT</td>\n",
       "      <td>THREE CHEFS RESTURANT</td>\n",
       "      <td>2009471.0</td>\n",
       "      <td>Restaurant</td>\n",
       "      <td>Risk 1 (High)</td>\n",
       "      <td>8125 S HALSTED ST</td>\n",
       "      <td>NaN</td>\n",
       "      <td>IL</td>\n",
       "      <td>60620.0</td>\n",
       "      <td>2010-01-15T00:00:00.000</td>\n",
       "      <td>License Re-Inspection</td>\n",
       "      <td>Pass</td>\n",
       "      <td>NaN</td>\n",
       "      <td>41.746236</td>\n",
       "      <td>-87.643766</td>\n",
       "      <td>NaN</td>\n",
       "    </tr>\n",
       "    <tr>\n",
       "      <td>194324</td>\n",
       "      <td>67807</td>\n",
       "      <td>SUN FOOD MART</td>\n",
       "      <td>SUN FOOD MART</td>\n",
       "      <td>2009479.0</td>\n",
       "      <td>Grocery Store</td>\n",
       "      <td>Risk 3 (Low)</td>\n",
       "      <td>3601 W CERMAK RD</td>\n",
       "      <td>NaN</td>\n",
       "      <td>IL</td>\n",
       "      <td>NaN</td>\n",
       "      <td>2010-01-11T00:00:00.000</td>\n",
       "      <td>License Re-Inspection</td>\n",
       "      <td>Pass</td>\n",
       "      <td>NaN</td>\n",
       "      <td>41.851553</td>\n",
       "      <td>-87.715059</td>\n",
       "      <td>NaN</td>\n",
       "    </tr>\n",
       "  </tbody>\n",
       "</table>\n",
       "<p>161 rows × 17 columns</p>\n",
       "</div>"
      ],
      "text/plain": [
       "        Inspection ID                                   DBA Name  \\\n",
       "819           2312774                 CHICAGO COLLEGIATE CHARTER   \n",
       "976           2312540                 CHICAGO COLLEGIATE CHARTER   \n",
       "982           2312545  JCYS IRIS & STEVEN PODOLSKY FAMILY CENTER   \n",
       "2152          2305166                  AMY BECK CAKE DESIGN, LLC   \n",
       "2767          2304583  JCYS IRIS & STEVEN PODOLSKY FAMILY CENTER   \n",
       "...               ...                                        ...   \n",
       "193147          60291                 CLOVERHILL PASTRY-VEND,LLC   \n",
       "193404          60282                 CLOVERHILL PASTRY-VEND,LLC   \n",
       "193473          60279                 CLOVERHILL PASTRY-VEND,LLC   \n",
       "193994          67912                      THREE CHEFS RESTURANT   \n",
       "194324          67807                              SUN FOOD MART   \n",
       "\n",
       "                                         AKA Name  License #  \\\n",
       "819                    CHICAGO COLLEGIATE CHARTER  3846104.0   \n",
       "976                    CHICAGO COLLEGIATE CHARTER  3846104.0   \n",
       "982     JCYS IRIS & STEVEN PODOLSKY FAMILY CENTER  2671297.0   \n",
       "2152                    AMY BECK CAKE DESIGN, LLC  2079264.0   \n",
       "2767    JCYS IRIS & STEVEN PODOLSKY FAMILY CENTER  2671297.0   \n",
       "...                                           ...        ...   \n",
       "193147                 CLOVERHILL PASTRY-VEND,LLC  2004357.0   \n",
       "193404                 CLOVERHILL PASTRY-VEND,LLC  2004357.0   \n",
       "193473                 CLOVERHILL PASTRY-VEND,LLC  2004357.0   \n",
       "193994                      THREE CHEFS RESTURANT  2009471.0   \n",
       "194324                              SUN FOOD MART  2009479.0   \n",
       "\n",
       "                       Facility Type           Risk  \\\n",
       "819                           School  Risk 1 (High)   \n",
       "976                           School  Risk 1 (High)   \n",
       "982     Children's Services Facility  Risk 1 (High)   \n",
       "2152                          Bakery  Risk 1 (High)   \n",
       "2767    Children's Services Facility  Risk 1 (High)   \n",
       "...                              ...            ...   \n",
       "193147                     Wholesale   Risk 3 (Low)   \n",
       "193404                     Wholesale   Risk 3 (Low)   \n",
       "193473                     Wholesale   Risk 3 (Low)   \n",
       "193994                    Restaurant  Risk 1 (High)   \n",
       "194324                 Grocery Store   Risk 3 (Low)   \n",
       "\n",
       "                           Address City State      Zip  \\\n",
       "819     10909 S COTTAGE GROVE AVE   NaN    IL      NaN   \n",
       "976     10909 S COTTAGE GROVE AVE   NaN    IL      NaN   \n",
       "982           2112 W LAWRENCE AVE   NaN    IL  60625.0   \n",
       "2152             636 N RACINE AVE   NaN   NaN  60642.0   \n",
       "2767          2112 W LAWRENCE AVE   NaN    IL  60625.0   \n",
       "...                            ...  ...   ...      ...   \n",
       "193147             4464 W 44TH ST   NaN    IL  60632.0   \n",
       "193404             4464 W 44TH ST   NaN    IL  60632.0   \n",
       "193473             4464 W 44TH ST   NaN    IL  60632.0   \n",
       "193994          8125 S HALSTED ST   NaN    IL  60620.0   \n",
       "194324           3601 W CERMAK RD   NaN    IL      NaN   \n",
       "\n",
       "                Inspection Date        Inspection Type             Results  \\\n",
       "819     2019-09-24T00:00:00.000  Canvass Re-Inspection  Pass w/ Conditions   \n",
       "976     2019-09-19T00:00:00.000  Canvass Re-Inspection                Fail   \n",
       "982     2019-09-19T00:00:00.000  License Re-Inspection                Pass   \n",
       "2152    2019-08-23T00:00:00.000                Canvass                Pass   \n",
       "2767    2019-08-13T00:00:00.000                License                Fail   \n",
       "...                         ...                    ...                 ...   \n",
       "193147  2010-02-03T00:00:00.000  License Re-Inspection                Pass   \n",
       "193404  2010-01-28T00:00:00.000                License                Fail   \n",
       "193473  2010-01-27T00:00:00.000                License                Fail   \n",
       "193994  2010-01-15T00:00:00.000  License Re-Inspection                Pass   \n",
       "194324  2010-01-11T00:00:00.000  License Re-Inspection                Pass   \n",
       "\n",
       "                                               Violations   Latitude  \\\n",
       "819     3. MANAGEMENT, FOOD EMPLOYEE AND CONDITIONAL E...  41.696087   \n",
       "976     3. MANAGEMENT, FOOD EMPLOYEE AND CONDITIONAL E...  41.696087   \n",
       "982     38. INSECTS, RODENTS, & ANIMALS NOT PRESENT - ...  41.968821   \n",
       "2152    55. PHYSICAL FACILITIES INSTALLED, MAINTAINED ...  41.893380   \n",
       "2767    3. MANAGEMENT, FOOD EMPLOYEE AND CONDITIONAL E...  41.968821   \n",
       "...                                                   ...        ...   \n",
       "193147                                                NaN  41.814266   \n",
       "193404  32. FOOD AND NON-FOOD CONTACT SURFACES PROPERL...  41.814266   \n",
       "193473                                                NaN  41.814266   \n",
       "193994                                                NaN  41.746236   \n",
       "194324                                                NaN  41.851553   \n",
       "\n",
       "        Longitude  Community Areas  \n",
       "819    -87.608945              NaN  \n",
       "976    -87.608945              NaN  \n",
       "982    -87.682201              NaN  \n",
       "2152   -87.657588              NaN  \n",
       "2767   -87.682201              NaN  \n",
       "...           ...              ...  \n",
       "193147 -87.736013              NaN  \n",
       "193404 -87.736013              NaN  \n",
       "193473 -87.736013              NaN  \n",
       "193994 -87.643766              NaN  \n",
       "194324 -87.715059              NaN  \n",
       "\n",
       "[161 rows x 17 columns]"
      ]
     },
     "execution_count": 180,
     "metadata": {},
     "output_type": "execute_result"
    }
   ],
   "source": [
    "#Investigate the state=nan and city=nan restaurants\n",
    "inspections[pd.isnull(inspections.State) | pd.isnull(inspections.City)]"
   ]
  },
  {
   "cell_type": "markdown",
   "metadata": {},
   "source": [
    "Looking at the coordinates of these places, all of them seem to also be in chicago, so we will fill their City and State columns"
   ]
  },
  {
   "cell_type": "code",
   "execution_count": 181,
   "metadata": {},
   "outputs": [],
   "source": [
    "inspections['City'] = inspections['City'].fillna('Chicago')\n",
    "inspections['State'] = inspections['State'].fillna('IL')"
   ]
  },
  {
   "cell_type": "markdown",
   "metadata": {},
   "source": [
    "Next, we check if there are any facilities which are not located in Chicago."
   ]
  },
  {
   "cell_type": "code",
   "execution_count": 182,
   "metadata": {},
   "outputs": [
    {
     "name": "stdout",
     "output_type": "stream",
     "text": [
      "Values taken by 'City':  ['CHICAGO' 'Chicago' 'chicago' 'GRIFFITH' 'NEW YORK' 'SCHAUMBURG'\n",
      " 'ELMHURST' 'ALGONQUIN' 'NEW HOLSTEIN' 'CCHICAGO' 'NILES NILES' 'EVANSTON'\n",
      " 'CHICAGO.' 'CHESTNUT STREET' 'LANSING' 'CHICAGOCHICAGO' 'WADSWORTH'\n",
      " 'WILMETTE' 'WHEATON' 'CHICAGOHICAGO' 'ROSEMONT' 'CHicago' 'CALUMET CITY'\n",
      " 'PLAINFIELD' 'HIGHLAND PARK' 'PALOS PARK' 'ELK GROVE VILLAGE' 'CICERO'\n",
      " 'BRIDGEVIEW' 'OAK PARK' 'MAYWOOD' 'LAKE BLUFF' '312CHICAGO'\n",
      " 'SCHILLER PARK' 'SKOKIE' 'BEDFORD PARK' 'BANNOCKBURNDEERFIELD' 'CHCICAGO'\n",
      " 'BLOOMINGDALE' 'Norridge' 'CHARLES A HAYES' 'CHCHICAGO' 'CHICAGOI'\n",
      " 'SUMMIT' 'OOLYMPIA FIELDS' 'WESTMONT' 'CHICAGO HEIGHTS' 'JUSTICE'\n",
      " 'TINLEY PARK' 'LOMBARD' 'EAST HAZEL CREST' 'COUNTRY CLUB HILLS'\n",
      " 'STREAMWOOD' 'BOLINGBROOK' 'INACTIVE' 'BERWYN' 'BURNHAM' 'DES PLAINES'\n",
      " 'LAKE ZURICH' 'OLYMPIA FIELDS' 'alsip' 'OAK LAWN' 'BLUE ISLAND' 'GLENCOE'\n",
      " 'FRANKFORT' 'NAPERVILLE' 'BROADVIEW' 'WORTH' 'Maywood' 'ALSIP'\n",
      " 'EVERGREEN PARK']\n"
     ]
    }
   ],
   "source": [
    "# make sure that our assumption is correct\n",
    "print('Values taken by \\'City\\': ', inspections['City'].unique())"
   ]
  },
  {
   "cell_type": "markdown",
   "metadata": {},
   "source": [
    "We can see that this column takes values which are not Chicago. The rows where the 'City' is not Chicago are hence irrelevent to our study and should be dropped. Let's first make sure tha the bulk of the data is for Chicago before proceeding"
   ]
  },
  {
   "cell_type": "code",
   "execution_count": 183,
   "metadata": {},
   "outputs": [
    {
     "name": "stdout",
     "output_type": "stream",
     "text": [
      "99.89662939839339% of the inpections in the dataframe come from Chicago.\n"
     ]
    }
   ],
   "source": [
    "chicago_inspections = inspections.groupby('City')['Inspection ID'].nunique().filter(regex='(?i)chicago', axis=0)\n",
    "print('{}% of the inpections in the dataframe come from Chicago.'.format(100 * chicago_inspections.values.sum()/len(inspections)))"
   ]
  },
  {
   "cell_type": "markdown",
   "metadata": {},
   "source": [
    "We can safely drop the rows which come from cities that are not Chicago."
   ]
  },
  {
   "cell_type": "code",
   "execution_count": 184,
   "metadata": {},
   "outputs": [],
   "source": [
    "# list of ways Chicago has been written in the dataset\n",
    "chicago_variations = chicago_inspections.index.tolist()\n",
    "inspections = inspections[inspections['City'].isin(chicago_variations)]\n",
    "# drop the 'City' and 'State' columns since they have each only one value, 'Chicago' and 'IL' respectively\n",
    "inspections = inspections.drop(columns=['City', 'State'])"
   ]
  },
  {
   "cell_type": "markdown",
   "metadata": {},
   "source": [
    "Now that we only have facilities in Chicago in our dataset, let us fill the 'Community Areas' column. To that end, we use the geopy library."
   ]
  },
  {
   "cell_type": "markdown",
   "metadata": {},
   "source": [
    "We start by getting the unique locations in the dataset."
   ]
  },
  {
   "cell_type": "code",
   "execution_count": 185,
   "metadata": {},
   "outputs": [],
   "source": [
    "# def getareanneighbourhood(coord):\n",
    "#     \"\"\"\n",
    "    \n",
    "#     \"\"\"\n",
    "#     geolocator = Nominatim(timeout=10,user_agent=\"area_filler\")\n",
    "#     geocode = RateLimiter(geolocator.geocode, min_delay_seconds=1)\n",
    "#     dic = geocode.reverse(coord).raw['address']\n",
    "#     return dic.get('suburb', np.nan), dic.get('neighbourhood', np.nan)\n",
    "\n",
    "def combineloc(latitude, longitude):\n",
    "    \"\"\"\n",
    "    function to format the latitude and longitude such that they can be used in geopy requests\n",
    "    \"\"\"\n",
    "    return '{}, {}'.format(latitude, longitude)"
   ]
  },
  {
   "cell_type": "code",
   "execution_count": 186,
   "metadata": {},
   "outputs": [],
   "source": [
    "locations = inspections['Latitude'].dropna().combine(inspections['Longitude'].dropna(),combineloc)\n",
    "unique_locs = locations.unique()"
   ]
  },
  {
   "cell_type": "code",
   "execution_count": 187,
   "metadata": {},
   "outputs": [
    {
     "data": {
      "text/plain": [
       "array(['42.00558686485114, -87.66107732040031',\n",
       "       '41.88342263701489, -87.62802165207536',\n",
       "       '41.91039897821153, -87.6902068285586', ...,\n",
       "       '41.768328334800714, -87.67381938402686',\n",
       "       '41.764896400247046, -87.65396483351302',\n",
       "       '41.846516428599394, -87.69542345938575'], dtype=object)"
      ]
     },
     "execution_count": 187,
     "metadata": {},
     "output_type": "execute_result"
    }
   ],
   "source": [
    "unique_locs"
   ]
  },
  {
   "cell_type": "code",
   "execution_count": 188,
   "metadata": {},
   "outputs": [
    {
     "data": {
      "text/plain": [
       "16791"
      ]
     },
     "execution_count": 188,
     "metadata": {},
     "output_type": "execute_result"
    }
   ],
   "source": [
    "len(unique_locs)"
   ]
  },
  {
   "cell_type": "code",
   "execution_count": 189,
   "metadata": {},
   "outputs": [],
   "source": [
    "unique_locs_s = pd.Series(unique_locs, dtype=str)"
   ]
  },
  {
   "cell_type": "markdown",
   "metadata": {},
   "source": [
    "We then request the geopy entry for the locations we have (code takes 4h40 to run as we can only do one geopy query per second) and save the areas in a pickle."
   ]
  },
  {
   "cell_type": "code",
   "execution_count": 190,
   "metadata": {
    "scrolled": false
   },
   "outputs": [],
   "source": [
    "# geolocator = Nominatim(timeout=17000,user_agent=\"area_filler\")\n",
    "# geocode = RateLimiter(geolocator.reverse, min_delay_seconds=1)\n",
    "# # for i in unique_locs:\n",
    "# #     print(i)\n",
    "# #     print(geolocator.reverse(i))\n",
    "# areas = unique_locs_s.copy().apply(geocode)\n",
    "# areas.to_pickle('./areas')"
   ]
  },
  {
   "cell_type": "code",
   "execution_count": 191,
   "metadata": {},
   "outputs": [],
   "source": [
    "areas = pd.read_pickle('./areas.pickle')"
   ]
  },
  {
   "cell_type": "code",
   "execution_count": 192,
   "metadata": {},
   "outputs": [
    {
     "data": {
      "text/plain": [
       "0"
      ]
     },
     "execution_count": 192,
     "metadata": {},
     "output_type": "execute_result"
    }
   ],
   "source": [
    "areas.isna().sum()"
   ]
  },
  {
   "cell_type": "markdown",
   "metadata": {},
   "source": [
    "Let's add the community areas and neighborhoods to the dataframe."
   ]
  },
  {
   "cell_type": "code",
   "execution_count": 193,
   "metadata": {},
   "outputs": [],
   "source": [
    "# get latitude, longitude and corresponding community area and neighbourhood in same dataframe\n",
    "suburbs_neighbourhoods = [(x.raw.get('address', {}).get('suburb',np.nan), x.raw.get('address', {}).get('neighbourhood',np.nan)) for x in areas]\n",
    "suburbs, neighbourhoods = zip(*suburbs_neighbourhoods)\n",
    "locs_df = pd.concat([pd.Series(unique_locs, name='Location'), pd.Series(suburbs,name='Community Area'), pd.Series(neighbourhoods,name='Neighbourhood')], axis=1)"
   ]
  },
  {
   "cell_type": "code",
   "execution_count": 194,
   "metadata": {},
   "outputs": [],
   "source": [
    "# add the community area and the neighbourhood to each entry in our dataframe\n",
    "inspections['Location'] = inspections['Latitude'].combine(inspections['Longitude'],combineloc)\n",
    "inspections = inspections.merge(locs_df,on='Location',how='outer')\n",
    "inspections = inspections.drop(columns=['Community Areas'])"
   ]
  },
  {
   "cell_type": "markdown",
   "metadata": {},
   "source": [
    "Let's check if there are any NaN entries in our 'Community Area' column"
   ]
  },
  {
   "cell_type": "code",
   "execution_count": 195,
   "metadata": {},
   "outputs": [
    {
     "name": "stdout",
     "output_type": "stream",
     "text": [
      "96.55987151637446% of rows don't have missing Community Areas\n"
     ]
    }
   ],
   "source": [
    "print('{}% of rows don\\'t have missing Community Areas'.format(100 * (1 - inspections['Community Area'].isna().sum()/len(inspections))))"
   ]
  },
  {
   "cell_type": "markdown",
   "metadata": {},
   "source": [
    "We may safely drop the rows which have null 'Community Area'."
   ]
  },
  {
   "cell_type": "code",
   "execution_count": 196,
   "metadata": {},
   "outputs": [],
   "source": [
    "inspections = inspections[inspections['Community Area'].notna()]"
   ]
  },
  {
   "cell_type": "markdown",
   "metadata": {},
   "source": [
    "### C. Check which columns still have missing values (& bug ?)"
   ]
  },
  {
   "cell_type": "markdown",
   "metadata": {},
   "source": [
    "Let's check if there are anymore missing values in the dataframe."
   ]
  },
  {
   "cell_type": "code",
   "execution_count": 197,
   "metadata": {},
   "outputs": [
    {
     "data": {
      "text/plain": [
       "Inspection ID      0.011195044327044561% missing values\n",
       "DBA Name           0.011195044327044561% missing values\n",
       "AKA Name             1.2794336373765214% missing values\n",
       "License #          0.020257699258461586% missing values\n",
       "Facility Type        2.4687738227877793% missing values\n",
       "Risk                0.04531327465708513% missing values\n",
       "Address            0.011195044327044561% missing values\n",
       "Zip                 0.03625061972566811% missing values\n",
       "Inspection Date    0.011195044327044561% missing values\n",
       "Inspection Type    0.011728141675951445% missing values\n",
       "Results            0.011195044327044561% missing values\n",
       "Violations            26.55837682519205% missing values\n",
       "Latitude           0.011195044327044561% missing values\n",
       "Longitude          0.011195044327044561% missing values\n",
       "Location           0.011195044327044561% missing values\n",
       "Community Area                      0.0% missing values\n",
       "Neighbourhood        16.249873389379633% missing values\n",
       "dtype: object"
      ]
     },
     "execution_count": 197,
     "metadata": {},
     "output_type": "execute_result"
    }
   ],
   "source": [
    "inspections.isna().sum().apply(lambda x: '{}% missing values'.format(100 * x/len(inspections)))"
   ]
  },
  {
   "cell_type": "markdown",
   "metadata": {},
   "source": [
    "#### Zeineb pour André: si tu dupliques ce code et regarde le dataset avant de rajouter les community areas, il n'y avait pas de missing Inspection ID -> bug qlq part ?\n",
    "Looking at the missing values, it make no sence to have entries where the Inspection ID is null, we look at those entries and drop them."
   ]
  },
  {
   "cell_type": "code",
   "execution_count": 198,
   "metadata": {},
   "outputs": [
    {
     "name": "stdout",
     "output_type": "stream",
     "text": [
      "Number of missing inspections ID:  21\n"
     ]
    },
    {
     "data": {
      "text/html": [
       "<div>\n",
       "<style scoped>\n",
       "    .dataframe tbody tr th:only-of-type {\n",
       "        vertical-align: middle;\n",
       "    }\n",
       "\n",
       "    .dataframe tbody tr th {\n",
       "        vertical-align: top;\n",
       "    }\n",
       "\n",
       "    .dataframe thead th {\n",
       "        text-align: right;\n",
       "    }\n",
       "</style>\n",
       "<table border=\"1\" class=\"dataframe\">\n",
       "  <thead>\n",
       "    <tr style=\"text-align: right;\">\n",
       "      <th></th>\n",
       "      <th>Inspection ID</th>\n",
       "      <th>DBA Name</th>\n",
       "      <th>AKA Name</th>\n",
       "      <th>License #</th>\n",
       "      <th>Facility Type</th>\n",
       "      <th>Risk</th>\n",
       "      <th>Address</th>\n",
       "      <th>Zip</th>\n",
       "      <th>Inspection Date</th>\n",
       "      <th>Inspection Type</th>\n",
       "      <th>Results</th>\n",
       "      <th>Violations</th>\n",
       "      <th>Latitude</th>\n",
       "      <th>Longitude</th>\n",
       "      <th>Location</th>\n",
       "      <th>Community Area</th>\n",
       "      <th>Neighbourhood</th>\n",
       "    </tr>\n",
       "  </thead>\n",
       "  <tbody>\n",
       "    <tr>\n",
       "      <td>194245</td>\n",
       "      <td>NaN</td>\n",
       "      <td>NaN</td>\n",
       "      <td>NaN</td>\n",
       "      <td>NaN</td>\n",
       "      <td>NaN</td>\n",
       "      <td>NaN</td>\n",
       "      <td>NaN</td>\n",
       "      <td>NaN</td>\n",
       "      <td>NaN</td>\n",
       "      <td>NaN</td>\n",
       "      <td>NaN</td>\n",
       "      <td>NaN</td>\n",
       "      <td>NaN</td>\n",
       "      <td>NaN</td>\n",
       "      <td>NaN</td>\n",
       "      <td>Humboldt Park</td>\n",
       "      <td>Beat 2534</td>\n",
       "    </tr>\n",
       "    <tr>\n",
       "      <td>194246</td>\n",
       "      <td>NaN</td>\n",
       "      <td>NaN</td>\n",
       "      <td>NaN</td>\n",
       "      <td>NaN</td>\n",
       "      <td>NaN</td>\n",
       "      <td>NaN</td>\n",
       "      <td>NaN</td>\n",
       "      <td>NaN</td>\n",
       "      <td>NaN</td>\n",
       "      <td>NaN</td>\n",
       "      <td>NaN</td>\n",
       "      <td>NaN</td>\n",
       "      <td>NaN</td>\n",
       "      <td>NaN</td>\n",
       "      <td>NaN</td>\n",
       "      <td>Near West Side</td>\n",
       "      <td>Near West Side</td>\n",
       "    </tr>\n",
       "    <tr>\n",
       "      <td>194247</td>\n",
       "      <td>NaN</td>\n",
       "      <td>NaN</td>\n",
       "      <td>NaN</td>\n",
       "      <td>NaN</td>\n",
       "      <td>NaN</td>\n",
       "      <td>NaN</td>\n",
       "      <td>NaN</td>\n",
       "      <td>NaN</td>\n",
       "      <td>NaN</td>\n",
       "      <td>NaN</td>\n",
       "      <td>NaN</td>\n",
       "      <td>NaN</td>\n",
       "      <td>NaN</td>\n",
       "      <td>NaN</td>\n",
       "      <td>NaN</td>\n",
       "      <td>Kenwood</td>\n",
       "      <td>Kenwood</td>\n",
       "    </tr>\n",
       "    <tr>\n",
       "      <td>194248</td>\n",
       "      <td>NaN</td>\n",
       "      <td>NaN</td>\n",
       "      <td>NaN</td>\n",
       "      <td>NaN</td>\n",
       "      <td>NaN</td>\n",
       "      <td>NaN</td>\n",
       "      <td>NaN</td>\n",
       "      <td>NaN</td>\n",
       "      <td>NaN</td>\n",
       "      <td>NaN</td>\n",
       "      <td>NaN</td>\n",
       "      <td>NaN</td>\n",
       "      <td>NaN</td>\n",
       "      <td>NaN</td>\n",
       "      <td>NaN</td>\n",
       "      <td>Lower West Side</td>\n",
       "      <td>Pilsen</td>\n",
       "    </tr>\n",
       "    <tr>\n",
       "      <td>194249</td>\n",
       "      <td>NaN</td>\n",
       "      <td>NaN</td>\n",
       "      <td>NaN</td>\n",
       "      <td>NaN</td>\n",
       "      <td>NaN</td>\n",
       "      <td>NaN</td>\n",
       "      <td>NaN</td>\n",
       "      <td>NaN</td>\n",
       "      <td>NaN</td>\n",
       "      <td>NaN</td>\n",
       "      <td>NaN</td>\n",
       "      <td>NaN</td>\n",
       "      <td>NaN</td>\n",
       "      <td>NaN</td>\n",
       "      <td>NaN</td>\n",
       "      <td>Logan Square</td>\n",
       "      <td>Maplewood</td>\n",
       "    </tr>\n",
       "  </tbody>\n",
       "</table>\n",
       "</div>"
      ],
      "text/plain": [
       "        Inspection ID DBA Name AKA Name  License # Facility Type Risk Address  \\\n",
       "194245            NaN      NaN      NaN        NaN           NaN  NaN     NaN   \n",
       "194246            NaN      NaN      NaN        NaN           NaN  NaN     NaN   \n",
       "194247            NaN      NaN      NaN        NaN           NaN  NaN     NaN   \n",
       "194248            NaN      NaN      NaN        NaN           NaN  NaN     NaN   \n",
       "194249            NaN      NaN      NaN        NaN           NaN  NaN     NaN   \n",
       "\n",
       "        Zip Inspection Date Inspection Type Results Violations  Latitude  \\\n",
       "194245  NaN             NaN             NaN     NaN        NaN       NaN   \n",
       "194246  NaN             NaN             NaN     NaN        NaN       NaN   \n",
       "194247  NaN             NaN             NaN     NaN        NaN       NaN   \n",
       "194248  NaN             NaN             NaN     NaN        NaN       NaN   \n",
       "194249  NaN             NaN             NaN     NaN        NaN       NaN   \n",
       "\n",
       "        Longitude Location   Community Area   Neighbourhood  \n",
       "194245        NaN      NaN    Humboldt Park       Beat 2534  \n",
       "194246        NaN      NaN   Near West Side  Near West Side  \n",
       "194247        NaN      NaN          Kenwood         Kenwood  \n",
       "194248        NaN      NaN  Lower West Side          Pilsen  \n",
       "194249        NaN      NaN     Logan Square       Maplewood  "
      ]
     },
     "execution_count": 198,
     "metadata": {},
     "output_type": "execute_result"
    }
   ],
   "source": [
    "missing_inspections = inspections[inspections['Inspection ID'].isnull()]\n",
    "print(\"Number of missing inspections ID: \", len(missing_inspections))\n",
    "missing_inspections.head()"
   ]
  },
  {
   "cell_type": "code",
   "execution_count": 199,
   "metadata": {},
   "outputs": [],
   "source": [
    "inspections.dropna(subset=['Inspection ID'],inplace = True)"
   ]
  },
  {
   "cell_type": "code",
   "execution_count": 200,
   "metadata": {},
   "outputs": [
    {
     "data": {
      "text/plain": [
       "Inspection ID                       0.0% missing values\n",
       "DBA Name                            0.0% missing values\n",
       "AKA Name             1.2683805888186306% missing values\n",
       "License #          0.009063669613247886% missing values\n",
       "Facility Type        2.4578539362983975% missing values\n",
       "Risk                0.03412205030869792% missing values\n",
       "Address                             0.0% missing values\n",
       "Zip                 0.02505838069545004% missing values\n",
       "Inspection Date                     0.0% missing values\n",
       "Inspection Type    0.000533157036073405% missing values\n",
       "Results                             0.0% missing values\n",
       "Violations           26.550154082383425% missing values\n",
       "Latitude                            0.0% missing values\n",
       "Longitude                           0.0% missing values\n",
       "Location                            0.0% missing values\n",
       "Community Area                      0.0% missing values\n",
       "Neighbourhood         16.24956014544524% missing values\n",
       "dtype: object"
      ]
     },
     "execution_count": 200,
     "metadata": {},
     "output_type": "execute_result"
    }
   ],
   "source": [
    "inspections.isna().sum().apply(lambda x: '{}% missing values'.format(100 * x/len(inspections)))"
   ]
  },
  {
   "cell_type": "markdown",
   "metadata": {},
   "source": [
    "* The AKA names still have missing entries. We will replace those with missing with the DBA name because we will need those for our recommendation map later on, and it make more sense to display the AKA names for the users. However will be  mostly sticking to the DBA Name when referring to establishments.\n",
    "* The Lisence Number is missing for some entries. Seeing as it is not essential in our main analysis we will not pay attention to it for now.\n",
    "* The missing Zip entries are not important as we have enough information regarding location (latitude, longitude, community area and address). Hence we can safely drop this column.\n",
    "* The number of missing neighbourhoods is quite big. Hence, we may drop that column as well.\n",
    "* We will try to recover the missing facility type from the restaurant's name using other entries where the name is the same and the type is filled in.\n",
    "* We will see if the missing violations entries are consistent and have something to do with the inspection type and inspection results.\n",
    "* We will see if we can recover the missing risk \n",
    "* The fraction of the data with missing Inspection Type is so \n",
    "and inspection type entries manually as these represent a really small fraction in our dataset and might hinder our analysis. For the values that we cannot recover, we drop the corresponding entries."
   ]
  },
  {
   "cell_type": "markdown",
   "metadata": {},
   "source": [
    "### D. Drop unneeded columns"
   ]
  },
  {
   "cell_type": "code",
   "execution_count": 201,
   "metadata": {},
   "outputs": [],
   "source": [
    "# drop neighbourhood and zip columns\n",
    "inspections = inspections.drop(columns=['Neighbourhood','Zip'])"
   ]
  },
  {
   "cell_type": "markdown",
   "metadata": {},
   "source": [
    "### E. Clean Facility Type column"
   ]
  },
  {
   "cell_type": "markdown",
   "metadata": {},
   "source": [
    "Let's replace the null values with the right facility type"
   ]
  },
  {
   "cell_type": "code",
   "execution_count": 208,
   "metadata": {},
   "outputs": [
    {
     "data": {
      "text/html": [
       "<div>\n",
       "<style scoped>\n",
       "    .dataframe tbody tr th:only-of-type {\n",
       "        vertical-align: middle;\n",
       "    }\n",
       "\n",
       "    .dataframe tbody tr th {\n",
       "        vertical-align: top;\n",
       "    }\n",
       "\n",
       "    .dataframe thead th {\n",
       "        text-align: right;\n",
       "    }\n",
       "</style>\n",
       "<table border=\"1\" class=\"dataframe\">\n",
       "  <thead>\n",
       "    <tr style=\"text-align: right;\">\n",
       "      <th></th>\n",
       "      <th>Inspection ID</th>\n",
       "      <th>DBA Name</th>\n",
       "      <th>AKA Name</th>\n",
       "      <th>License #</th>\n",
       "      <th>Facility Type</th>\n",
       "      <th>Risk</th>\n",
       "      <th>Address</th>\n",
       "      <th>Inspection Date</th>\n",
       "      <th>Inspection Type</th>\n",
       "      <th>Results</th>\n",
       "      <th>Violations</th>\n",
       "      <th>Latitude</th>\n",
       "      <th>Longitude</th>\n",
       "      <th>Location</th>\n",
       "      <th>Community Area</th>\n",
       "    </tr>\n",
       "  </thead>\n",
       "  <tbody>\n",
       "    <tr>\n",
       "      <td>285</td>\n",
       "      <td>1515226.0</td>\n",
       "      <td>ONE STOP FOOD ANDLIQUORS</td>\n",
       "      <td>ONE STOP FOOD ANDLIQUORS</td>\n",
       "      <td>8665.0</td>\n",
       "      <td>NaN</td>\n",
       "      <td>Risk 3 (Low)</td>\n",
       "      <td>3456 S WESTERN AVE</td>\n",
       "      <td>2014-12-18T00:00:00.000</td>\n",
       "      <td>Canvass</td>\n",
       "      <td>Out of Business</td>\n",
       "      <td>NaN</td>\n",
       "      <td>41.830324</td>\n",
       "      <td>-87.685182</td>\n",
       "      <td>41.83032421612542, -87.6851823335589</td>\n",
       "      <td>Portage Park</td>\n",
       "    </tr>\n",
       "    <tr>\n",
       "      <td>364</td>\n",
       "      <td>2315750.0</td>\n",
       "      <td>SPORTS BAR WHITE STAR</td>\n",
       "      <td>SPORTS BAR WHITE STAR</td>\n",
       "      <td>24612.0</td>\n",
       "      <td>NaN</td>\n",
       "      <td>Risk 3 (Low)</td>\n",
       "      <td>3049 N CICERO AVE</td>\n",
       "      <td>2019-10-10T00:00:00.000</td>\n",
       "      <td>Canvass</td>\n",
       "      <td>Out of Business</td>\n",
       "      <td>NaN</td>\n",
       "      <td>41.936668</td>\n",
       "      <td>-87.746655</td>\n",
       "      <td>41.93666807129704, -87.74665459887675</td>\n",
       "      <td>Albany Park</td>\n",
       "    </tr>\n",
       "  </tbody>\n",
       "</table>\n",
       "</div>"
      ],
      "text/plain": [
       "     Inspection ID                  DBA Name                  AKA Name  \\\n",
       "285      1515226.0  ONE STOP FOOD ANDLIQUORS  ONE STOP FOOD ANDLIQUORS   \n",
       "364      2315750.0     SPORTS BAR WHITE STAR     SPORTS BAR WHITE STAR   \n",
       "\n",
       "     License # Facility Type          Risk              Address  \\\n",
       "285     8665.0           NaN  Risk 3 (Low)  3456 S WESTERN AVE    \n",
       "364    24612.0           NaN  Risk 3 (Low)   3049 N CICERO AVE    \n",
       "\n",
       "             Inspection Date Inspection Type          Results Violations  \\\n",
       "285  2014-12-18T00:00:00.000         Canvass  Out of Business        NaN   \n",
       "364  2019-10-10T00:00:00.000         Canvass  Out of Business        NaN   \n",
       "\n",
       "      Latitude  Longitude                               Location  \\\n",
       "285  41.830324 -87.685182   41.83032421612542, -87.6851823335589   \n",
       "364  41.936668 -87.746655  41.93666807129704, -87.74665459887675   \n",
       "\n",
       "    Community Area  \n",
       "285   Portage Park  \n",
       "364    Albany Park  "
      ]
     },
     "execution_count": 208,
     "metadata": {},
     "output_type": "execute_result"
    }
   ],
   "source": [
    "print(len(inspections[inspections['Facility Type'].isnull()]))\n",
    "inspections[inspections['Facility Type'].isnull()].head(2)"
   ]
  },
  {
   "cell_type": "code",
   "execution_count": 203,
   "metadata": {},
   "outputs": [
    {
     "name": "stderr",
     "output_type": "stream",
     "text": [
      "/Users/macbook/anaconda3/lib/python3.7/site-packages/ipykernel_launcher.py:5: FutureWarning: using a dict on a Series for aggregation\n",
      "is deprecated and will be removed in a future version. Use                 named aggregation instead.\n",
      "\n",
      "    >>> grouper.agg(name_1=func_1, name_2=func_2)\n",
      "\n",
      "  \"\"\"\n"
     ]
    },
    {
     "name": "stdout",
     "output_type": "stream",
     "text": [
      "Possible number of different Facility Types for some establishment :  [1 2 4 3 7 5 6 9]\n"
     ]
    },
    {
     "data": {
      "text/html": [
       "<div>\n",
       "<style scoped>\n",
       "    .dataframe tbody tr th:only-of-type {\n",
       "        vertical-align: middle;\n",
       "    }\n",
       "\n",
       "    .dataframe tbody tr th {\n",
       "        vertical-align: top;\n",
       "    }\n",
       "\n",
       "    .dataframe thead th {\n",
       "        text-align: right;\n",
       "    }\n",
       "</style>\n",
       "<table border=\"1\" class=\"dataframe\">\n",
       "  <thead>\n",
       "    <tr style=\"text-align: right;\">\n",
       "      <th></th>\n",
       "      <th>nbr_types</th>\n",
       "      <th>possible_types</th>\n",
       "    </tr>\n",
       "    <tr>\n",
       "      <th>DBA Name</th>\n",
       "      <th></th>\n",
       "      <th></th>\n",
       "    </tr>\n",
       "  </thead>\n",
       "  <tbody>\n",
       "    <tr>\n",
       "      <td>7-ELEVEN</td>\n",
       "      <td>4</td>\n",
       "      <td>{nan, Restaurant, Liquor, Grocery Store}</td>\n",
       "    </tr>\n",
       "    <tr>\n",
       "      <td>ALASKA PALETERIA Y NEVERIA</td>\n",
       "      <td>3</td>\n",
       "      <td>{FROZEN DESSERTS DISPENSER-NON-MOTORIZED, Rest...</td>\n",
       "    </tr>\n",
       "    <tr>\n",
       "      <td>ALL ABOUT KIDS LEARNING ACADEMY</td>\n",
       "      <td>3</td>\n",
       "      <td>{nan, Daycare Combo 1586, Children's Services ...</td>\n",
       "    </tr>\n",
       "    <tr>\n",
       "      <td>ARAMARK</td>\n",
       "      <td>7</td>\n",
       "      <td>{nan, CHARTER SCHOOL, COFFEE SHOP, NORTHERLY I...</td>\n",
       "    </tr>\n",
       "    <tr>\n",
       "      <td>ARAMARK EDUCATION SERVICES</td>\n",
       "      <td>4</td>\n",
       "      <td>{SCHOOL, Restaurant, School, CHARTER SCHOOL}</td>\n",
       "    </tr>\n",
       "  </tbody>\n",
       "</table>\n",
       "</div>"
      ],
      "text/plain": [
       "                                 nbr_types  \\\n",
       "DBA Name                                     \n",
       "7-ELEVEN                                 4   \n",
       "ALASKA PALETERIA Y NEVERIA               3   \n",
       "ALL ABOUT KIDS LEARNING ACADEMY          3   \n",
       "ARAMARK                                  7   \n",
       "ARAMARK EDUCATION SERVICES               4   \n",
       "\n",
       "                                                                    possible_types  \n",
       "DBA Name                                                                            \n",
       "7-ELEVEN                                  {nan, Restaurant, Liquor, Grocery Store}  \n",
       "ALASKA PALETERIA Y NEVERIA       {FROZEN DESSERTS DISPENSER-NON-MOTORIZED, Rest...  \n",
       "ALL ABOUT KIDS LEARNING ACADEMY  {nan, Daycare Combo 1586, Children's Services ...  \n",
       "ARAMARK                          {nan, CHARTER SCHOOL, COFFEE SHOP, NORTHERLY I...  \n",
       "ARAMARK EDUCATION SERVICES            {SCHOOL, Restaurant, School, CHARTER SCHOOL}  "
      ]
     },
     "execution_count": 203,
     "metadata": {},
     "output_type": "execute_result"
    }
   ],
   "source": [
    "#we have to declare this function to be able to use it into aggregate\n",
    "def to_set(a):\n",
    "    #return {x for x in a if pd.notna(x)}\n",
    "    return set(a)\n",
    "establisment_facility_types = inspections[['DBA Name','Facility Type']].drop_duplicates().groupby('DBA Name')['Facility Type'].agg({'nbr_types': len, 'possible_types': to_set})\n",
    "print(\"Possible number of different Facility Types for some establishment : \", establisment_facility_types['nbr_types'].unique())\n",
    "establisment_facility_types[establisment_facility_types['nbr_types']>2].head()"
   ]
  },
  {
   "cell_type": "markdown",
   "metadata": {},
   "source": [
    "We see that some of the establishments have two possible Facility types, in this case we replace the rows which have null value with one of the possible types."
   ]
  },
  {
   "cell_type": "code",
   "execution_count": 204,
   "metadata": {},
   "outputs": [],
   "source": [
    "#First remove NAN from sets\n",
    "establisment_facility_types['possible_types'] = establisment_facility_types.apply(\n",
    "    lambda row: {x for x in row['possible_types'] if pd.notna(x)},\n",
    "    axis=1\n",
    ") \n",
    "#Then keep only one type per establishment\n",
    "establisment_facility_types['possible_types'] = establisment_facility_types.apply(\n",
    "    lambda row: next(iter(row['possible_types'])) if len(row['possible_types'])!=0 else np.NaN,\n",
    "    axis=1\n",
    ") \n",
    "establisment_types_dict=establisment_facility_types['possible_types'].to_dict()"
   ]
  },
  {
   "cell_type": "code",
   "execution_count": 205,
   "metadata": {},
   "outputs": [],
   "source": [
    "establisment_types_dict=establisment_facility_types['possible_types'].to_dict()"
   ]
  },
  {
   "cell_type": "code",
   "execution_count": 206,
   "metadata": {},
   "outputs": [],
   "source": [
    "#Assign a type to each missing value\n",
    "inspections['Facility Type'] = inspections.apply(\n",
    "    lambda row: establisment_types_dict[row['DBA Name']] if pd.isna(row['Facility Type']) else row['Facility Type'],\n",
    "    axis=1\n",
    ")"
   ]
  },
  {
   "cell_type": "code",
   "execution_count": 209,
   "metadata": {},
   "outputs": [
    {
     "name": "stdout",
     "output_type": "stream",
     "text": [
      "3822\n"
     ]
    }
   ],
   "source": [
    "print(len(inspections[inspections['Facility Type'].isnull()]))"
   ]
  },
  {
   "cell_type": "markdown",
   "metadata": {},
   "source": [
    "We were able to successfully recover 17% of the missing facility types in our dataset. We will assign the value 'other' to those still missing."
   ]
  },
  {
   "cell_type": "code",
   "execution_count": 220,
   "metadata": {},
   "outputs": [],
   "source": [
    "inspections['Facility Type'] = inspections.apply(\n",
    "    lambda row: 'other' if pd.isna(row['Facility Type']) else row['Facility Type'],\n",
    "    axis=1\n",
    ")"
   ]
  },
  {
   "cell_type": "markdown",
   "metadata": {},
   "source": [
    "We first examine the facility type entries"
   ]
  },
  {
   "cell_type": "code",
   "execution_count": 222,
   "metadata": {},
   "outputs": [
    {
     "data": {
      "text/plain": [
       "0            restaurant\n",
       "1                museum\n",
       "2               gallery\n",
       "3             newsstand\n",
       "4         grocery store\n",
       "             ...       \n",
       "376        soup kitchen\n",
       "377        hooka lounge\n",
       "378           religious\n",
       "379    wholesale bakery\n",
       "380          kids cafe'\n",
       "Length: 381, dtype: object"
      ]
     },
     "execution_count": 222,
     "metadata": {},
     "output_type": "execute_result"
    }
   ],
   "source": [
    "# from nltk.corpus import stopwords\n",
    "# stop = stopwords.words('english')\n",
    "spell = Speller(lang='en')\n",
    "inspections['Facility Type'] = inspections['Facility Type'].str.lower().apply(lambda x: spell(str(x)))\n",
    "unique_types = pd.Series(inspections['Facility Type'].unique())\n",
    "unique_types = pd.Series(unique_types.apply(lambda x: re.sub(',|&|;','/',str(x)).split('/')).explode().unique())\n",
    "unique_types.apply(lambda x: str(x).strip())"
   ]
  },
  {
   "cell_type": "code",
   "execution_count": 223,
   "metadata": {},
   "outputs": [],
   "source": [
    "#corrected_unique_types = unique_types.apply(lambda x: spell(str(x).strip()))"
   ]
  },
  {
   "cell_type": "code",
   "execution_count": 224,
   "metadata": {},
   "outputs": [],
   "source": [
    "#corrected_unique_types"
   ]
  },
  {
   "cell_type": "markdown",
   "metadata": {},
   "source": [
    "There are 427 facility types in the dataframe. Let's see if we can cluster some of them."
   ]
  },
  {
   "cell_type": "code",
   "execution_count": 225,
   "metadata": {},
   "outputs": [],
   "source": [
    "school_vocab = ['school', 'under 6', 'university', 'cafeteria', 'training program', 'kids', 'children', 'daycare', 'years', 'school cafeteria', 'college', 'class', 'day care']\n",
    "restaurant_vocab = ['restaurant', 'smokehouse', 'diner', 'breakfast', 'lunch', 'grill', 'sushi','banquet', 'dining', 'taqueria']\n",
    "homes_vocab = ['long term care','assisted living', 'nursing', 'care', 'supportive']\n",
    "\n",
    "religious_vocab = ['religious', 'religion', 'church', 'synaguogue', 'temple']\n",
    "coffee_vocab = ['coffee', 'cafe']\n",
    "catering_vocab = ['cater']\n",
    "\n",
    "bakery_vocab = ['bake', 'patisserie', 'boulangerie']\n",
    "market_vocab = ['butcher', 'snack', 'dollar', 'grocery', 'frozen food storage', 'meat packing', 'food', 'market', 'packaged', 'popcorn', 'pantry', 'store', 'produce', 'kiosk', 'convenience', 'commiasary','gas station', 'wholesale', 'deli', 'convenient', 'retail', 'dollar tree']\n",
    "dessert_vocab = ['ice cream', 'dessert', 'paleteria', 'candy', 'gelato', 'donut']\n",
    "\n",
    "health_vocab = ['gym', 'exercise', 'nutrition','herbal', 'fitness', 'drug', 'rehab', 'herbalife', 'weight', 'herb', 'health', 'decream']\n",
    "medical_vocab = ['pharmacy']\n",
    "vending_vocab = ['vend', 'pop-up', 'mobile', 'cart', 'dispenser', 'truck']\n",
    "\n",
    "drinks_vocab = ['liquor', 'music', 'bar', 'pub', 'beverage', 'club', 'roof', 'tavern', 'brewery', 'wine', 'beer', 'lounge', 'tea', 'shakes']\n",
    "live_vocab =['live', 'poultry', 'slaughter', 'farm']\n",
    "kitchen_vocab = ['kitchen']\n",
    "\n",
    "distributor_vocab = ['distributor', 'distribution']\n",
    "shelter_vocab = ['shelter', 'youth housing']\n",
    "# other_vocab = ['warehouse', 'other', 'theater', 'golf', 'laundromat', 'hotel', 'riverbank', 'theatre', 'event', 'special', 'museum', 'hospital', 'pool', 'art', 'airport', 'gallery', 'terminal']\n"
   ]
  },
  {
   "cell_type": "code",
   "execution_count": 226,
   "metadata": {},
   "outputs": [],
   "source": [
    "#unique_types = corrected_unique_types"
   ]
  },
  {
   "cell_type": "code",
   "execution_count": 227,
   "metadata": {},
   "outputs": [],
   "source": [
    "#'live poultry' in corrected_unique_types.values"
   ]
  },
  {
   "cell_type": "code",
   "execution_count": 228,
   "metadata": {
    "scrolled": true
   },
   "outputs": [],
   "source": [
    "def extract_label(unique_labels, vocab,mssg):\n",
    "    labels = unique_types.apply(lambda x: x if bool(re.search('|'.join(vocab), x)) else np.nan).dropna()\n",
    "    print(labels)\n",
    "    print('{}: {}'.format(mssg, labels.size))\n",
    "    unique_labels = unique_types.drop(labels=labels.index,errors='ignore')\n",
    "    return unique_labels, labels"
   ]
  },
  {
   "cell_type": "code",
   "execution_count": 229,
   "metadata": {},
   "outputs": [
    {
     "name": "stdout",
     "output_type": "stream",
     "text": [
      "5                       daycare (2 - 6 years)\n",
      "7                children's services facility\n",
      "10            daycare above and under 2 years\n",
      "23                                     school\n",
      "32                children's service facility\n",
      "33                         daycare combo 1586\n",
      "38                            teaching school\n",
      "43          1023 children's services facility\n",
      "44                             private school\n",
      "46                             cooking school\n",
      "47                             charter school\n",
      "48                    daycare (under 2 years)\n",
      "52                          daycare (2 years)\n",
      "56                                  cafeteria\n",
      "60                              daycare night\n",
      "61                       after school program\n",
      "74                                    daycare\n",
      "86         1023 children's service s facility\n",
      "107                           senior day care\n",
      "120         1023-children's services facility\n",
      "128                           culinary school\n",
      "150       retail store offers cooking classes\n",
      "156                             adult daycare\n",
      "161                      culinary class rooms\n",
      "162                                   college\n",
      "166          1023 children's service facility\n",
      "168                             day care 2-14\n",
      "169                                  day care\n",
      "178                  charter school cafeteria\n",
      "180                             public school\n",
      "184                               daycare 2-6\n",
      "185                                   under 6\n",
      "194                        prep inside school\n",
      "195                          school cafeteria\n",
      "199                children services facility\n",
      "202                             day care 1023\n",
      "207                             daycare combo\n",
      "216                      culinary arts school\n",
      "222                     day care combo (1586)\n",
      "225                              daycare 1586\n",
      "227                  15 months to 5 years old\n",
      "233                         after school care\n",
      "240    a-not-for-profit chef training program\n",
      "243                   city of chicago college\n",
      "245                             pastry school\n",
      "255                      university cafeteria\n",
      "257                   daycare 2 yrs to 12 yrs\n",
      "264           before and after school program\n",
      "269                        alternative school\n",
      "299             children's services  facility\n",
      "302                        daycare 6 was-5yrs\n",
      "341                         nutrition classes\n",
      "345               1584-day care above 2 years\n",
      "350                children activity facility\n",
      "372                                 kids cafe\n",
      "380                                kids cafe'\n",
      "dtype: object\n",
      "Number of Schools: : 56\n",
      "0                    restaurant\n",
      "31                      banquet\n",
      "34                 golden diner\n",
      "54          grocery(sushi prep)\n",
      "59                sushi counter\n",
      "62                 banquet hall\n",
      "81                   restaurant\n",
      "83        commissary restaurant\n",
      "151                 dining hall\n",
      "167                    taqueria\n",
      "193                tavern grill\n",
      "198                banquet room\n",
      "234                    banquets\n",
      "235              banquet dining\n",
      "241    restaurant.banquet halls\n",
      "274               banquet rooms\n",
      "296       restaurant and liquor\n",
      "311                  smokehouse\n",
      "343                       grill\n",
      "353          restaurant and bar\n",
      "355             tent restaurant\n",
      "dtype: object\n",
      "Number of Restaurants: : 21\n",
      "11                  long term care\n",
      "40                 assisted living\n",
      "73                    nursing home\n",
      "131                 long-term care\n",
      "132        long term care facility\n",
      "133              supportive living\n",
      "165              health care store\n",
      "179       assisted living facility\n",
      "197        long-term care facility\n",
      "201     supportive living facility\n",
      "203              1005 nursing home\n",
      "231    assisted living senior care\n",
      "331       adult family care center\n",
      "dtype: object\n",
      "Number of Nursing homes: : 13\n",
      "89     church (special events)\n",
      "129             church kitchen\n",
      "139                     church\n",
      "378                  religious\n",
      "dtype: object\n",
      "Number of Religious Establishments: : 4\n",
      "63                   coffee kiosk\n",
      "70                    coffee cart\n",
      "109                          cafe\n",
      "116                   coffee shop\n",
      "155                 internet cafe\n",
      "205                coffee roaster\n",
      "220    animal shelter cafe permit\n",
      "251                riverbank cafe\n",
      "278                  coffee  shop\n",
      "297                        coffee\n",
      "375        coffee vending machine\n",
      "dtype: object\n",
      "Number of Coffeeshops: : 11\n",
      "20                   catering\n",
      "93     catering and wholesale\n",
      "108            catered liquor\n",
      "348            catered events\n",
      "dtype: object\n",
      "Number of Caterers: : 4\n",
      "6                bakery\n",
      "379    wholesale bakery\n",
      "dtype: object\n",
      "Number of Bakeries: : 2\n",
      "4                     grocery store\n",
      "13                     o'hare kiosk\n",
      "15                            store\n",
      "18                            kiosk\n",
      "21            mobile food dispenser\n",
      "                   ...             \n",
      "361                 mobil food 1315\n",
      "363    dollar store selling grocery\n",
      "366                    live butcher\n",
      "367                     meat market\n",
      "370                   general store\n",
      "Length: 89, dtype: object\n",
      "Number of Markets: : 89\n",
      "55                       mobile frozen desserts vendor\n",
      "75                                         gelato shop\n",
      "76                                    ice cream parlor\n",
      "91                                      ice cream shop\n",
      "94                               mobile dessert vendor\n",
      "95                                         candy maker\n",
      "96                                               candy\n",
      "112                                             gelato\n",
      "138                           frozen dessert pushcarts\n",
      "147                         mobile frozen dessert disp\n",
      "164                                         candy shop\n",
      "170                       mobile frozen dessert vendor\n",
      "171                             mobile desserts vendor\n",
      "182                                         donut shop\n",
      "283                                          ice cream\n",
      "287     mobile frozen desserts dispenser-non-motorized\n",
      "288            frozen desserts dispenser-non-motorized\n",
      "304         commissary for soft serve ice cream trucks\n",
      "316         mobile frozen desserts dispenser-non-motor\n",
      "317           frozen desserts dispenser -non motorized\n",
      "318    mobile frozen dessert dispenser_non  motorized.\n",
      "319    mobile frozen desserts dispenser-non- motorized\n",
      "344                                mobile dessert cart\n",
      "374                               card shop with candy\n",
      "dtype: object\n",
      "Number of Dessert Places: : 24\n",
      "57     exercise and nutrition bar\n",
      "58                      herbalize\n",
      "72                 fitness center\n",
      "99                    herbal life\n",
      "130           weight loss program\n",
      "141                        health\n",
      "176                 chinese herbs\n",
      "188               herbal medicine\n",
      "191                  decream shop\n",
      "223                  rehab center\n",
      "224       drug treatment facility\n",
      "226                fitness studio\n",
      "261                           gym\n",
      "266              herbal life shop\n",
      "277                 herbal drinks\n",
      "279           herbalize nutrition\n",
      "301                 health center\n",
      "321                        herbal\n",
      "322                          drug\n",
      "329                 herbal remedy\n",
      "330                     nutrition\n",
      "dtype: object\n",
      "Number of Health Institutions: : 21\n",
      "36    pharmacy\n",
      "dtype: object\n",
      "Number of Pharmacies: : 1\n",
      "19                       vending machine\n",
      "37     pop-up establishment host-tier ii\n",
      "39                        illegal vendor\n",
      "71                          hot dog cart\n",
      "177                   vending commissary\n",
      "253                           push carts\n",
      "295                                truck\n",
      "dtype: object\n",
      "Number of Vending Establishments: : 7\n",
      "8                               tavern\n",
      "12                      airport lounge\n",
      "14                              lounge\n",
      "16                            beverage\n",
      "28                              liquor\n",
      "45                                 bar\n",
      "79                       wine and beer\n",
      "87                 not-for-profit club\n",
      "100                    wrigley rooftop\n",
      "102                            rooftop\n",
      "103                           rooftops\n",
      "110                       smoothie bar\n",
      "111                          roof tops\n",
      "114                           roof top\n",
      "118                            brewery\n",
      "140                        tea brewing\n",
      "142                          juice bar\n",
      "160                   wrigley roof top\n",
      "172                        1475 liquor\n",
      "200                            brewpub\n",
      "208                          juice bar\n",
      "210    liquor consumption on premises.\n",
      "212                         night club\n",
      "213                      tavern-liquor\n",
      "221                      rooftop patio\n",
      "247                             shakes\n",
      "248                               teas\n",
      "250         shuffleboard club with bar\n",
      "265                juice and salad bar\n",
      "273                           wine bar\n",
      "280             liquor brewery tasting\n",
      "298                                tea\n",
      "307                        social club\n",
      "324                        service bar\n",
      "327                        massage bar\n",
      "340                        music venue\n",
      "346                   wine tasting bar\n",
      "358                boys and girls club\n",
      "371                          hooka bar\n",
      "377                       hooka lounge\n",
      "dtype: object\n",
      "Number of Drinks Places: : 40\n",
      "82                 live poultry\n",
      "145           poultry slaughter\n",
      "146    custom poultry slaughter\n",
      "158             slaughter house\n",
      "326                  urban farm\n",
      "dtype: object\n",
      "Number of Live Animal Sellers and Slaughterhouses: : 5\n",
      "27      shared kitchen user (long term)\n",
      "85                       shared kitchen\n",
      "92     shared kitchen user (short term)\n",
      "121                             kitchen\n",
      "186                        main kitchen\n",
      "192                    employee kitchen\n",
      "242                 charity aid kitchen\n",
      "294                        kitchen demo\n",
      "368     shared kitchen user (long them)\n",
      "376                        soup kitchen\n",
      "dtype: object\n",
      "Number of Shared Kitchen: : 10\n",
      "119    distribution center\n",
      "204            distributor\n",
      "dtype: object\n",
      "Number of Distributors: : 2\n",
      "67           shelter\n",
      "238    youth housing\n",
      "dtype: object\n",
      "Number of Shelters: : 2\n"
     ]
    }
   ],
   "source": [
    "unique_types, school_labels = extract_label(unique_types, school_vocab, 'Number of Schools: ')\n",
    "unique_types, restaurant_labels = extract_label(unique_types, restaurant_vocab, 'Number of Restaurants: ')\n",
    "unique_types, homes_labels = extract_label(unique_types, homes_vocab, 'Number of Nursing homes: ')\n",
    "\n",
    "unique_types, religious_labels = extract_label(unique_types, religious_vocab, 'Number of Religious Establishments: ')\n",
    "unique_types, coffee_labels = extract_label(unique_types, coffee_vocab, 'Number of Coffeeshops: ')\n",
    "unique_types, catering_labels = extract_label(unique_types, catering_vocab, 'Number of Caterers: ')\n",
    "\n",
    "unique_types, bakery_labels = extract_label(unique_types, bakery_vocab, 'Number of Bakeries: ')\n",
    "unique_types, market_labels = extract_label(unique_types, market_vocab, 'Number of Markets: ')\n",
    "unique_types, dessert_labels = extract_label(unique_types, dessert_vocab, 'Number of Dessert Places: ')\n",
    "\n",
    "unique_types, health_labels = extract_label(unique_types, health_vocab, 'Number of Health Institutions: ')\n",
    "unique_types, medical_labels = extract_label(unique_types, medical_vocab, 'Number of Pharmacies: ')\n",
    "unique_types, vending_labels = extract_label(unique_types, vending_vocab, 'Number of Vending Establishments: ')\n",
    "\n",
    "unique_types, drinks_labels = extract_label(unique_types, drinks_vocab, 'Number of Drinks Places: ')\n",
    "unique_types, live_labels = extract_label(unique_types, live_vocab, 'Number of Live Animal Sellers and Slaughterhouses: ')\n",
    "unique_types, kitchen_labels = extract_label(unique_types, kitchen_vocab, 'Number of Shared Kitchen: ')\n",
    "\n",
    "unique_types, distributor_labels = extract_label(unique_types, distributor_vocab, 'Number of Distributors: ')\n",
    "unique_types, shelter_labels = extract_label(unique_types, shelter_vocab, 'Number of Shelters: ')\n",
    "other_labels = unique_types"
   ]
  },
  {
   "cell_type": "code",
   "execution_count": 230,
   "metadata": {},
   "outputs": [
    {
     "data": {
      "text/plain": [
       "1                    museum\n",
       "2                   gallery\n",
       "3                 newsstand\n",
       "9                       nan\n",
       "17     silverware warehouse\n",
       "30                     pool\n",
       "41                 hospital\n",
       "50    chicago park district\n",
       "66                  theater\n",
       "77              event space\n",
       "dtype: object"
      ]
     },
     "execution_count": 230,
     "metadata": {},
     "output_type": "execute_result"
    }
   ],
   "source": [
    "unique_types[0:10]"
   ]
  },
  {
   "cell_type": "markdown",
   "metadata": {},
   "source": [
    "### E. Clean the AKA names column"
   ]
  },
  {
   "cell_type": "markdown",
   "metadata": {},
   "source": [
    "**Explore the difference between DBA and AKA names**"
   ]
  },
  {
   "cell_type": "markdown",
   "metadata": {},
   "source": [
    "## Toute cette partie ne sert à rien je trouve, psq on sait deja la difference entre DBA et AKA"
   ]
  },
  {
   "cell_type": "code",
   "execution_count": 231,
   "metadata": {},
   "outputs": [
    {
     "name": "stdout",
     "output_type": "stream",
     "text": [
      "There are 26555 unique DBA (‘Doing business as.’) names in the dataset.\n"
     ]
    }
   ],
   "source": [
    "print ('There are {0} unique DBA (‘Doing business as.’) names in the dataset.'.format(len(inspections['DBA Name'].unique())))"
   ]
  },
  {
   "cell_type": "code",
   "execution_count": 232,
   "metadata": {},
   "outputs": [
    {
     "name": "stdout",
     "output_type": "stream",
     "text": [
      "There are 25355 AKA (‘Also known as.’) names in the dataset.\n"
     ]
    }
   ],
   "source": [
    "# Display the number of restaurants (we display the unique DBA names)\n",
    "print ('There are {0} AKA (‘Also known as.’) names in the dataset.'.format(len(inspections['AKA Name'].unique())))"
   ]
  },
  {
   "cell_type": "code",
   "execution_count": 233,
   "metadata": {},
   "outputs": [
    {
     "name": "stdout",
     "output_type": "stream",
     "text": [
      "There are 48701 rows where the DBA names and the AKA names differ.\n"
     ]
    }
   ],
   "source": [
    "# Explore how DBA and AKA names differ\n",
    "print ('There are {0} rows where the DBA names and the AKA names differ.'\\\n",
    "       .format((len(inspections[inspections['DBA Name'] != inspections['AKA Name']]))))"
   ]
  },
  {
   "cell_type": "code",
   "execution_count": 238,
   "metadata": {},
   "outputs": [
    {
     "name": "stdout",
     "output_type": "stream",
     "text": [
      "Examples of different DBA and AKA names : \n"
     ]
    },
    {
     "data": {
      "text/html": [
       "<div>\n",
       "<style scoped>\n",
       "    .dataframe tbody tr th:only-of-type {\n",
       "        vertical-align: middle;\n",
       "    }\n",
       "\n",
       "    .dataframe tbody tr th {\n",
       "        vertical-align: top;\n",
       "    }\n",
       "\n",
       "    .dataframe thead th {\n",
       "        text-align: right;\n",
       "    }\n",
       "</style>\n",
       "<table border=\"1\" class=\"dataframe\">\n",
       "  <thead>\n",
       "    <tr style=\"text-align: right;\">\n",
       "      <th></th>\n",
       "      <th>Inspection ID</th>\n",
       "      <th>DBA Name</th>\n",
       "      <th>AKA Name</th>\n",
       "      <th>License #</th>\n",
       "      <th>Facility Type</th>\n",
       "      <th>Risk</th>\n",
       "      <th>Address</th>\n",
       "      <th>Inspection Date</th>\n",
       "      <th>Inspection Type</th>\n",
       "      <th>Results</th>\n",
       "      <th>Violations</th>\n",
       "      <th>Latitude</th>\n",
       "      <th>Longitude</th>\n",
       "      <th>Location</th>\n",
       "      <th>Community Area</th>\n",
       "    </tr>\n",
       "  </thead>\n",
       "  <tbody>\n",
       "    <tr>\n",
       "      <td>3</td>\n",
       "      <td>2261305.0</td>\n",
       "      <td>ROGERS PIER</td>\n",
       "      <td>ROGERS PIER SEAFOOD BAR AND GRILL</td>\n",
       "      <td>2340712.0</td>\n",
       "      <td>restaurant</td>\n",
       "      <td>Risk 1 (High)</td>\n",
       "      <td>6800-6806 N SHERIDAN RD</td>\n",
       "      <td>2019-01-29T00:00:00.000</td>\n",
       "      <td>Canvass</td>\n",
       "      <td>Out of Business</td>\n",
       "      <td>NaN</td>\n",
       "      <td>42.005587</td>\n",
       "      <td>-87.661077</td>\n",
       "      <td>42.00558686485114, -87.66107732040031</td>\n",
       "      <td>Belmont Cragin</td>\n",
       "    </tr>\n",
       "    <tr>\n",
       "      <td>4</td>\n",
       "      <td>2233129.0</td>\n",
       "      <td>ROGERS PIER</td>\n",
       "      <td>ROGERS PIER SEAFOOD BAR AND GRILL</td>\n",
       "      <td>2340712.0</td>\n",
       "      <td>restaurant</td>\n",
       "      <td>Risk 1 (High)</td>\n",
       "      <td>6800-6806 N SHERIDAN RD</td>\n",
       "      <td>2018-11-13T00:00:00.000</td>\n",
       "      <td>Canvass</td>\n",
       "      <td>Out of Business</td>\n",
       "      <td>NaN</td>\n",
       "      <td>42.005587</td>\n",
       "      <td>-87.661077</td>\n",
       "      <td>42.00558686485114, -87.66107732040031</td>\n",
       "      <td>Belmont Cragin</td>\n",
       "    </tr>\n",
       "    <tr>\n",
       "      <td>5</td>\n",
       "      <td>2145011.0</td>\n",
       "      <td>ROGERS PIER</td>\n",
       "      <td>ROGERS PIER SEAFOOD BAR AND GRILL</td>\n",
       "      <td>2340712.0</td>\n",
       "      <td>restaurant</td>\n",
       "      <td>Risk 1 (High)</td>\n",
       "      <td>6800-6806 N SHERIDAN RD</td>\n",
       "      <td>2018-02-15T00:00:00.000</td>\n",
       "      <td>Canvass Re-Inspection</td>\n",
       "      <td>Pass</td>\n",
       "      <td>34. FLOORS: CONSTRUCTED PER CODE, CLEANED, GOO...</td>\n",
       "      <td>42.005587</td>\n",
       "      <td>-87.661077</td>\n",
       "      <td>42.00558686485114, -87.66107732040031</td>\n",
       "      <td>Belmont Cragin</td>\n",
       "    </tr>\n",
       "    <tr>\n",
       "      <td>6</td>\n",
       "      <td>2144606.0</td>\n",
       "      <td>ROGERS PIER</td>\n",
       "      <td>ROGERS PIER SEAFOOD BAR AND GRILL</td>\n",
       "      <td>2340712.0</td>\n",
       "      <td>restaurant</td>\n",
       "      <td>Risk 1 (High)</td>\n",
       "      <td>6800-6806 N SHERIDAN RD</td>\n",
       "      <td>2018-02-06T00:00:00.000</td>\n",
       "      <td>Canvass</td>\n",
       "      <td>Fail</td>\n",
       "      <td>12. HAND WASHING FACILITIES: WITH SOAP AND SAN...</td>\n",
       "      <td>42.005587</td>\n",
       "      <td>-87.661077</td>\n",
       "      <td>42.00558686485114, -87.66107732040031</td>\n",
       "      <td>Belmont Cragin</td>\n",
       "    </tr>\n",
       "    <tr>\n",
       "      <td>7</td>\n",
       "      <td>1955612.0</td>\n",
       "      <td>ROGERS PIER</td>\n",
       "      <td>ROGERS PIER SEAFOOD BAR AND GRILL</td>\n",
       "      <td>2340712.0</td>\n",
       "      <td>restaurant</td>\n",
       "      <td>Risk 1 (High)</td>\n",
       "      <td>6800-6806 N SHERIDAN RD</td>\n",
       "      <td>2017-04-12T00:00:00.000</td>\n",
       "      <td>Complaint</td>\n",
       "      <td>Pass</td>\n",
       "      <td>31. CLEAN MULTI-USE UTENSILS AND SINGLE SERVIC...</td>\n",
       "      <td>42.005587</td>\n",
       "      <td>-87.661077</td>\n",
       "      <td>42.00558686485114, -87.66107732040031</td>\n",
       "      <td>Belmont Cragin</td>\n",
       "    </tr>\n",
       "    <tr>\n",
       "      <td>8</td>\n",
       "      <td>1955536.0</td>\n",
       "      <td>ROGERS PIER</td>\n",
       "      <td>ROGERS PIER SEAFOOD BAR AND GRILL</td>\n",
       "      <td>2340712.0</td>\n",
       "      <td>restaurant</td>\n",
       "      <td>Risk 1 (High)</td>\n",
       "      <td>6800-6806 N SHERIDAN RD</td>\n",
       "      <td>2017-03-02T00:00:00.000</td>\n",
       "      <td>Short Form Complaint</td>\n",
       "      <td>Pass</td>\n",
       "      <td>30. FOOD IN ORIGINAL CONTAINER, PROPERLY LABEL...</td>\n",
       "      <td>42.005587</td>\n",
       "      <td>-87.661077</td>\n",
       "      <td>42.00558686485114, -87.66107732040031</td>\n",
       "      <td>Belmont Cragin</td>\n",
       "    </tr>\n",
       "    <tr>\n",
       "      <td>9</td>\n",
       "      <td>1955443.0</td>\n",
       "      <td>ROGERS PIER</td>\n",
       "      <td>ROGERS PIER SEAFOOD BAR AND GRILL</td>\n",
       "      <td>2340712.0</td>\n",
       "      <td>restaurant</td>\n",
       "      <td>Risk 1 (High)</td>\n",
       "      <td>6800-6806 N SHERIDAN RD</td>\n",
       "      <td>2017-01-10T00:00:00.000</td>\n",
       "      <td>Canvass</td>\n",
       "      <td>Pass</td>\n",
       "      <td>30. FOOD IN ORIGINAL CONTAINER, PROPERLY LABEL...</td>\n",
       "      <td>42.005587</td>\n",
       "      <td>-87.661077</td>\n",
       "      <td>42.00558686485114, -87.66107732040031</td>\n",
       "      <td>Belmont Cragin</td>\n",
       "    </tr>\n",
       "    <tr>\n",
       "      <td>32</td>\n",
       "      <td>2311402.0</td>\n",
       "      <td>RENA'S  FUDGE SHOPS, INC./BLOCK 37 STARBUCKS</td>\n",
       "      <td>STARBUCK'S</td>\n",
       "      <td>2626476.0</td>\n",
       "      <td>restaurant</td>\n",
       "      <td>Risk 2 (Medium)</td>\n",
       "      <td>108 N STATE ST</td>\n",
       "      <td>2019-08-27T00:00:00.000</td>\n",
       "      <td>Canvass Re-Inspection</td>\n",
       "      <td>Pass</td>\n",
       "      <td>NaN</td>\n",
       "      <td>41.883423</td>\n",
       "      <td>-87.628022</td>\n",
       "      <td>41.88342263701489, -87.62802165207536</td>\n",
       "      <td>Irving Park</td>\n",
       "    </tr>\n",
       "    <tr>\n",
       "      <td>33</td>\n",
       "      <td>2304949.0</td>\n",
       "      <td>MAGNOLIA BAKERY</td>\n",
       "      <td>MAGNOLIA BAKER</td>\n",
       "      <td>2114823.0</td>\n",
       "      <td>restaurant</td>\n",
       "      <td>Risk 1 (High)</td>\n",
       "      <td>108 N STATE ST</td>\n",
       "      <td>2019-08-20T00:00:00.000</td>\n",
       "      <td>Complaint</td>\n",
       "      <td>Pass w/ Conditions</td>\n",
       "      <td>37. FOOD PROPERLY LABELED; ORIGINAL CONTAINER ...</td>\n",
       "      <td>41.883423</td>\n",
       "      <td>-87.628022</td>\n",
       "      <td>41.88342263701489, -87.62802165207536</td>\n",
       "      <td>Irving Park</td>\n",
       "    </tr>\n",
       "    <tr>\n",
       "      <td>35</td>\n",
       "      <td>2305009.0</td>\n",
       "      <td>RENA'S  FUDGE SHOPS, INC./BLOCK 37 STARBUCKS</td>\n",
       "      <td>STARBUCK'S</td>\n",
       "      <td>2626476.0</td>\n",
       "      <td>restaurant</td>\n",
       "      <td>Risk 2 (Medium)</td>\n",
       "      <td>108 N STATE ST</td>\n",
       "      <td>2019-08-20T00:00:00.000</td>\n",
       "      <td>Canvass</td>\n",
       "      <td>Fail</td>\n",
       "      <td>1. PERSON IN CHARGE PRESENT, DEMONSTRATES KNOW...</td>\n",
       "      <td>41.883423</td>\n",
       "      <td>-87.628022</td>\n",
       "      <td>41.88342263701489, -87.62802165207536</td>\n",
       "      <td>Irving Park</td>\n",
       "    </tr>\n",
       "  </tbody>\n",
       "</table>\n",
       "</div>"
      ],
      "text/plain": [
       "    Inspection ID                                      DBA Name  \\\n",
       "3       2261305.0                                   ROGERS PIER   \n",
       "4       2233129.0                                   ROGERS PIER   \n",
       "5       2145011.0                                   ROGERS PIER   \n",
       "6       2144606.0                                   ROGERS PIER   \n",
       "7       1955612.0                                   ROGERS PIER   \n",
       "8       1955536.0                                   ROGERS PIER   \n",
       "9       1955443.0                                   ROGERS PIER   \n",
       "32      2311402.0  RENA'S  FUDGE SHOPS, INC./BLOCK 37 STARBUCKS   \n",
       "33      2304949.0                               MAGNOLIA BAKERY   \n",
       "35      2305009.0  RENA'S  FUDGE SHOPS, INC./BLOCK 37 STARBUCKS   \n",
       "\n",
       "                             AKA Name  License # Facility Type  \\\n",
       "3   ROGERS PIER SEAFOOD BAR AND GRILL  2340712.0    restaurant   \n",
       "4   ROGERS PIER SEAFOOD BAR AND GRILL  2340712.0    restaurant   \n",
       "5   ROGERS PIER SEAFOOD BAR AND GRILL  2340712.0    restaurant   \n",
       "6   ROGERS PIER SEAFOOD BAR AND GRILL  2340712.0    restaurant   \n",
       "7   ROGERS PIER SEAFOOD BAR AND GRILL  2340712.0    restaurant   \n",
       "8   ROGERS PIER SEAFOOD BAR AND GRILL  2340712.0    restaurant   \n",
       "9   ROGERS PIER SEAFOOD BAR AND GRILL  2340712.0    restaurant   \n",
       "32                         STARBUCK'S  2626476.0    restaurant   \n",
       "33                     MAGNOLIA BAKER  2114823.0    restaurant   \n",
       "35                         STARBUCK'S  2626476.0    restaurant   \n",
       "\n",
       "               Risk                   Address          Inspection Date  \\\n",
       "3     Risk 1 (High)  6800-6806 N SHERIDAN RD   2019-01-29T00:00:00.000   \n",
       "4     Risk 1 (High)  6800-6806 N SHERIDAN RD   2018-11-13T00:00:00.000   \n",
       "5     Risk 1 (High)  6800-6806 N SHERIDAN RD   2018-02-15T00:00:00.000   \n",
       "6     Risk 1 (High)  6800-6806 N SHERIDAN RD   2018-02-06T00:00:00.000   \n",
       "7     Risk 1 (High)  6800-6806 N SHERIDAN RD   2017-04-12T00:00:00.000   \n",
       "8     Risk 1 (High)  6800-6806 N SHERIDAN RD   2017-03-02T00:00:00.000   \n",
       "9     Risk 1 (High)  6800-6806 N SHERIDAN RD   2017-01-10T00:00:00.000   \n",
       "32  Risk 2 (Medium)           108 N STATE ST   2019-08-27T00:00:00.000   \n",
       "33    Risk 1 (High)           108 N STATE ST   2019-08-20T00:00:00.000   \n",
       "35  Risk 2 (Medium)           108 N STATE ST   2019-08-20T00:00:00.000   \n",
       "\n",
       "          Inspection Type             Results  \\\n",
       "3                 Canvass     Out of Business   \n",
       "4                 Canvass     Out of Business   \n",
       "5   Canvass Re-Inspection                Pass   \n",
       "6                 Canvass                Fail   \n",
       "7               Complaint                Pass   \n",
       "8    Short Form Complaint                Pass   \n",
       "9                 Canvass                Pass   \n",
       "32  Canvass Re-Inspection                Pass   \n",
       "33              Complaint  Pass w/ Conditions   \n",
       "35                Canvass                Fail   \n",
       "\n",
       "                                           Violations   Latitude  Longitude  \\\n",
       "3                                                 NaN  42.005587 -87.661077   \n",
       "4                                                 NaN  42.005587 -87.661077   \n",
       "5   34. FLOORS: CONSTRUCTED PER CODE, CLEANED, GOO...  42.005587 -87.661077   \n",
       "6   12. HAND WASHING FACILITIES: WITH SOAP AND SAN...  42.005587 -87.661077   \n",
       "7   31. CLEAN MULTI-USE UTENSILS AND SINGLE SERVIC...  42.005587 -87.661077   \n",
       "8   30. FOOD IN ORIGINAL CONTAINER, PROPERLY LABEL...  42.005587 -87.661077   \n",
       "9   30. FOOD IN ORIGINAL CONTAINER, PROPERLY LABEL...  42.005587 -87.661077   \n",
       "32                                                NaN  41.883423 -87.628022   \n",
       "33  37. FOOD PROPERLY LABELED; ORIGINAL CONTAINER ...  41.883423 -87.628022   \n",
       "35  1. PERSON IN CHARGE PRESENT, DEMONSTRATES KNOW...  41.883423 -87.628022   \n",
       "\n",
       "                                 Location  Community Area  \n",
       "3   42.00558686485114, -87.66107732040031  Belmont Cragin  \n",
       "4   42.00558686485114, -87.66107732040031  Belmont Cragin  \n",
       "5   42.00558686485114, -87.66107732040031  Belmont Cragin  \n",
       "6   42.00558686485114, -87.66107732040031  Belmont Cragin  \n",
       "7   42.00558686485114, -87.66107732040031  Belmont Cragin  \n",
       "8   42.00558686485114, -87.66107732040031  Belmont Cragin  \n",
       "9   42.00558686485114, -87.66107732040031  Belmont Cragin  \n",
       "32  41.88342263701489, -87.62802165207536     Irving Park  \n",
       "33  41.88342263701489, -87.62802165207536     Irving Park  \n",
       "35  41.88342263701489, -87.62802165207536     Irving Park  "
      ]
     },
     "execution_count": 238,
     "metadata": {},
     "output_type": "execute_result"
    }
   ],
   "source": [
    "print('Examples of different DBA and AKA names : ')\n",
    "inspections[inspections['DBA Name'] != inspections['AKA Name']].head(10)"
   ]
  },
  {
   "cell_type": "markdown",
   "metadata": {},
   "source": [
    "## END"
   ]
  },
  {
   "cell_type": "markdown",
   "metadata": {},
   "source": [
    "We see that the AKA name is the name of the restaurant as known to the public. We decide to duplicate the DBA name to the missing AKA names: We will need those for our recommendation map later on, and it make more sense to display the AKA names for the users."
   ]
  },
  {
   "cell_type": "code",
   "execution_count": 241,
   "metadata": {},
   "outputs": [],
   "source": [
    "inspections['AKA Name'].fillna(inspections['DBA Name'], inplace=True)"
   ]
  },
  {
   "cell_type": "markdown",
   "metadata": {},
   "source": [
    "### F. Explore the violations column"
   ]
  },
  {
   "cell_type": "markdown",
   "metadata": {},
   "source": [
    "Let's first see if the missing violation are consistent with our entries"
   ]
  },
  {
   "cell_type": "code",
   "execution_count": null,
   "metadata": {},
   "outputs": [],
   "source": [
    "inspections[inspections['Violations'].isnull()]['Results'].unique()"
   ]
  },
  {
   "cell_type": "markdown",
   "metadata": {},
   "source": [
    "We expected the entries which have null Violations to have 'No Entry', 'Out of Business', 'Pass' or 'Business Not Located' as a value for Results. We see that we alse have null Violations for 'Fail' and 'Pass w/ Conditions' inspections. We still keep those entries because they can be useful for other metrics."
   ]
  },
  {
   "cell_type": "code",
   "execution_count": null,
   "metadata": {},
   "outputs": [],
   "source": [
    "#TODO: Explode the violations column and create a pickle of all possible violations with their respective numbers"
   ]
  },
  {
   "cell_type": "code",
   "execution_count": null,
   "metadata": {},
   "outputs": [],
   "source": []
  }
 ],
 "metadata": {
  "kernelspec": {
   "display_name": "Python 3",
   "language": "python",
   "name": "python3"
  },
  "language_info": {
   "codemirror_mode": {
    "name": "ipython",
    "version": 3
   },
   "file_extension": ".py",
   "mimetype": "text/x-python",
   "name": "python",
   "nbconvert_exporter": "python",
   "pygments_lexer": "ipython3",
   "version": "3.7.1"
  }
 },
 "nbformat": 4,
 "nbformat_minor": 4
}
