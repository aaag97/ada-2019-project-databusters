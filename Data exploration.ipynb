{
 "cells": [
  {
   "cell_type": "code",
   "execution_count": 2,
   "metadata": {},
   "outputs": [],
   "source": [
    "import pandas as pd\n",
    "import numpy as np\n",
    "import matplotlib.pyplot as plt\n",
    "import seaborn as sns\n",
    "import re\n",
    "import math\n",
    "from geopy.geocoders import Nominatim\n",
    "from geopy.extra.rate_limiter import RateLimiter\n",
    "\n",
    "from autocorrect import Speller\n",
    "\n",
    "from sklearn.linear_model import Ridge\n",
    "from sklearn.model_selection import train_test_split\n",
    "from sklearn.model_selection import cross_val_predict\n",
    "from sklearn.model_selection import cross_val_score\n",
    "from sklearn.metrics import mean_squared_error\n",
    "\n",
    "import findspark\n",
    "findspark.init()\n",
    "\n",
    "import pyspark\n",
    "import pyspark.sql\n",
    "from pyspark.sql import *\n",
    "from pyspark.sql.functions import *"
   ]
  },
  {
   "cell_type": "markdown",
   "metadata": {},
   "source": [
    "# Dataset(s) preparation and cleaning"
   ]
  },
  {
   "cell_type": "markdown",
   "metadata": {},
   "source": [
    "Before we proceed to tackle each of our research questions, some data cleaning is in order."
   ]
  },
  {
   "cell_type": "markdown",
   "metadata": {},
   "source": [
    "## Load the data and explore its structure"
   ]
  },
  {
   "cell_type": "code",
   "execution_count": 3,
   "metadata": {},
   "outputs": [],
   "source": [
    "inspections = pd.read_csv('datasets/food-inspections.csv')"
   ]
  },
  {
   "cell_type": "code",
   "execution_count": 4,
   "metadata": {},
   "outputs": [
    {
     "data": {
      "text/plain": [
       "195736"
      ]
     },
     "execution_count": 4,
     "metadata": {},
     "output_type": "execute_result"
    }
   ],
   "source": [
    "len(inspections)"
   ]
  },
  {
   "cell_type": "markdown",
   "metadata": {},
   "source": [
    "The dataset has 22 columns. Let's examine what each of them is."
   ]
  },
  {
   "cell_type": "code",
   "execution_count": 5,
   "metadata": {},
   "outputs": [
    {
     "data": {
      "text/plain": [
       "Index(['Inspection ID', 'DBA Name', 'AKA Name', 'License #', 'Facility Type',\n",
       "       'Risk', 'Address', 'City', 'State', 'Zip', 'Inspection Date',\n",
       "       'Inspection Type', 'Results', 'Violations', 'Latitude', 'Longitude',\n",
       "       'Location', 'Historical Wards 2003-2015', 'Zip Codes',\n",
       "       'Community Areas', 'Census Tracts', 'Wards'],\n",
       "      dtype='object')"
      ]
     },
     "execution_count": 5,
     "metadata": {},
     "output_type": "execute_result"
    }
   ],
   "source": [
    "#Display columns\n",
    "inspections.columns"
   ]
  },
  {
   "cell_type": "markdown",
   "metadata": {},
   "source": [
    "## Clean data"
   ]
  },
  {
   "cell_type": "markdown",
   "metadata": {},
   "source": [
    "The 'Location' column contains the latitude and longitude of the establishment. However, there are separate 'Latitude' and 'Longitude' columns. We can hence safely drop the 'Location' column."
   ]
  },
  {
   "cell_type": "code",
   "execution_count": 6,
   "metadata": {},
   "outputs": [],
   "source": [
    "# inspections = inspections.drop(columns=['Location'])"
   ]
  },
  {
   "cell_type": "markdown",
   "metadata": {},
   "source": [
    "The head of the dataset only contains NaN entries for the 'Historical Wards 2003-2015', 'Zip Codes', 'Community Areas', 'Census Tracts', 'Wards' columns. Let's see if this is true for the whole dataset."
   ]
  },
  {
   "cell_type": "code",
   "execution_count": 7,
   "metadata": {},
   "outputs": [
    {
     "name": "stdout",
     "output_type": "stream",
     "text": [
      "Values taken by 'Historical Wards 2003-2015':  [nan]\n",
      "Values taken by 'Zip Codes':  [nan]\n",
      "Values taken by 'Community Areas':  [nan]\n",
      "Values taken by 'Census Tracts':  [nan]\n",
      "Values taken by 'Wards':  [nan]\n"
     ]
    }
   ],
   "source": [
    "# make sure that our assumption is correct\n",
    "print('Values taken by \\'Historical Wards 2003-2015\\': ', inspections['Zip Codes'].unique())\n",
    "print('Values taken by \\'Zip Codes\\': ', inspections['Zip Codes'].unique())\n",
    "print('Values taken by \\'Community Areas\\': ', inspections['Zip Codes'].unique())\n",
    "print('Values taken by \\'Census Tracts\\': ', inspections['Zip Codes'].unique())\n",
    "print('Values taken by \\'Wards\\': ', inspections['Zip Codes'].unique())\n"
   ]
  },
  {
   "cell_type": "markdown",
   "metadata": {},
   "source": [
    "We drop all columns apart from the 'Community Areas' because we will be needing it in our study. We will fill later."
   ]
  },
  {
   "cell_type": "code",
   "execution_count": 8,
   "metadata": {},
   "outputs": [],
   "source": [
    "inspections = inspections.drop(columns=['Historical Wards 2003-2015'])\n",
    "inspections = inspections.drop(columns=['Zip Codes'])\n",
    "inspections = inspections.drop(columns=['Census Tracts'])\n",
    "inspections = inspections.drop(columns=['Wards'])"
   ]
  },
  {
   "cell_type": "markdown",
   "metadata": {},
   "source": [
    "Let's examine if the whole dataset is relevent to the study we are conducting by seeing which entries correspond to facilities in Chicago."
   ]
  },
  {
   "cell_type": "markdown",
   "metadata": {},
   "source": [
    "First, we check if there are any missing values for the column 'City' or 'State'"
   ]
  },
  {
   "cell_type": "code",
   "execution_count": 9,
   "metadata": {},
   "outputs": [
    {
     "data": {
      "text/html": [
       "<div>\n",
       "<style scoped>\n",
       "    .dataframe tbody tr th:only-of-type {\n",
       "        vertical-align: middle;\n",
       "    }\n",
       "\n",
       "    .dataframe tbody tr th {\n",
       "        vertical-align: top;\n",
       "    }\n",
       "\n",
       "    .dataframe thead th {\n",
       "        text-align: right;\n",
       "    }\n",
       "</style>\n",
       "<table border=\"1\" class=\"dataframe\">\n",
       "  <thead>\n",
       "    <tr style=\"text-align: right;\">\n",
       "      <th></th>\n",
       "      <th>Inspection ID</th>\n",
       "      <th>DBA Name</th>\n",
       "      <th>AKA Name</th>\n",
       "      <th>License #</th>\n",
       "      <th>Facility Type</th>\n",
       "      <th>Risk</th>\n",
       "      <th>Address</th>\n",
       "      <th>City</th>\n",
       "      <th>State</th>\n",
       "      <th>Zip</th>\n",
       "      <th>Inspection Date</th>\n",
       "      <th>Inspection Type</th>\n",
       "      <th>Results</th>\n",
       "      <th>Violations</th>\n",
       "      <th>Latitude</th>\n",
       "      <th>Longitude</th>\n",
       "      <th>Location</th>\n",
       "      <th>Community Areas</th>\n",
       "    </tr>\n",
       "  </thead>\n",
       "  <tbody>\n",
       "    <tr>\n",
       "      <th>1669</th>\n",
       "      <td>2312774</td>\n",
       "      <td>CHICAGO COLLEGIATE CHARTER</td>\n",
       "      <td>CHICAGO COLLEGIATE CHARTER</td>\n",
       "      <td>3846104.0</td>\n",
       "      <td>School</td>\n",
       "      <td>Risk 1 (High)</td>\n",
       "      <td>10909 S COTTAGE GROVE AVE</td>\n",
       "      <td>NaN</td>\n",
       "      <td>IL</td>\n",
       "      <td>NaN</td>\n",
       "      <td>2019-09-24T00:00:00.000</td>\n",
       "      <td>Canvass Re-Inspection</td>\n",
       "      <td>Pass w/ Conditions</td>\n",
       "      <td>3. MANAGEMENT, FOOD EMPLOYEE AND CONDITIONAL E...</td>\n",
       "      <td>41.696087</td>\n",
       "      <td>-87.608945</td>\n",
       "      <td>{'longitude': '41.696086647178035', 'latitude'...</td>\n",
       "      <td>NaN</td>\n",
       "    </tr>\n",
       "    <tr>\n",
       "      <th>1879</th>\n",
       "      <td>2312540</td>\n",
       "      <td>CHICAGO COLLEGIATE CHARTER</td>\n",
       "      <td>CHICAGO COLLEGIATE CHARTER</td>\n",
       "      <td>3846104.0</td>\n",
       "      <td>School</td>\n",
       "      <td>Risk 1 (High)</td>\n",
       "      <td>10909 S COTTAGE GROVE AVE</td>\n",
       "      <td>NaN</td>\n",
       "      <td>IL</td>\n",
       "      <td>NaN</td>\n",
       "      <td>2019-09-19T00:00:00.000</td>\n",
       "      <td>Canvass Re-Inspection</td>\n",
       "      <td>Fail</td>\n",
       "      <td>3. MANAGEMENT, FOOD EMPLOYEE AND CONDITIONAL E...</td>\n",
       "      <td>41.696087</td>\n",
       "      <td>-87.608945</td>\n",
       "      <td>{'longitude': '41.696086647178035', 'latitude'...</td>\n",
       "      <td>NaN</td>\n",
       "    </tr>\n",
       "    <tr>\n",
       "      <th>1903</th>\n",
       "      <td>2312545</td>\n",
       "      <td>JCYS IRIS &amp; STEVEN PODOLSKY FAMILY CENTER</td>\n",
       "      <td>JCYS IRIS &amp; STEVEN PODOLSKY FAMILY CENTER</td>\n",
       "      <td>2671297.0</td>\n",
       "      <td>Children's Services Facility</td>\n",
       "      <td>Risk 1 (High)</td>\n",
       "      <td>2112 W LAWRENCE AVE</td>\n",
       "      <td>NaN</td>\n",
       "      <td>IL</td>\n",
       "      <td>60625.0</td>\n",
       "      <td>2019-09-19T00:00:00.000</td>\n",
       "      <td>License Re-Inspection</td>\n",
       "      <td>Pass</td>\n",
       "      <td>38. INSECTS, RODENTS, &amp; ANIMALS NOT PRESENT - ...</td>\n",
       "      <td>41.968821</td>\n",
       "      <td>-87.682201</td>\n",
       "      <td>{'longitude': '41.968821253748864', 'latitude'...</td>\n",
       "      <td>NaN</td>\n",
       "    </tr>\n",
       "    <tr>\n",
       "      <th>3073</th>\n",
       "      <td>2305166</td>\n",
       "      <td>AMY BECK CAKE DESIGN, LLC</td>\n",
       "      <td>AMY BECK CAKE DESIGN, LLC</td>\n",
       "      <td>2079264.0</td>\n",
       "      <td>Bakery</td>\n",
       "      <td>Risk 1 (High)</td>\n",
       "      <td>636 N RACINE AVE</td>\n",
       "      <td>NaN</td>\n",
       "      <td>NaN</td>\n",
       "      <td>60642.0</td>\n",
       "      <td>2019-08-23T00:00:00.000</td>\n",
       "      <td>Canvass</td>\n",
       "      <td>Pass</td>\n",
       "      <td>55. PHYSICAL FACILITIES INSTALLED, MAINTAINED ...</td>\n",
       "      <td>41.893380</td>\n",
       "      <td>-87.657588</td>\n",
       "      <td>{'longitude': '41.893380429024546', 'latitude'...</td>\n",
       "      <td>NaN</td>\n",
       "    </tr>\n",
       "    <tr>\n",
       "      <th>3617</th>\n",
       "      <td>2304583</td>\n",
       "      <td>JCYS IRIS &amp; STEVEN PODOLSKY FAMILY CENTER</td>\n",
       "      <td>JCYS IRIS &amp; STEVEN PODOLSKY FAMILY CENTER</td>\n",
       "      <td>2671297.0</td>\n",
       "      <td>Children's Services Facility</td>\n",
       "      <td>Risk 1 (High)</td>\n",
       "      <td>2112 W LAWRENCE AVE</td>\n",
       "      <td>NaN</td>\n",
       "      <td>IL</td>\n",
       "      <td>60625.0</td>\n",
       "      <td>2019-08-13T00:00:00.000</td>\n",
       "      <td>License</td>\n",
       "      <td>Fail</td>\n",
       "      <td>3. MANAGEMENT, FOOD EMPLOYEE AND CONDITIONAL E...</td>\n",
       "      <td>41.968821</td>\n",
       "      <td>-87.682201</td>\n",
       "      <td>{'longitude': '41.968821253748864', 'latitude'...</td>\n",
       "      <td>NaN</td>\n",
       "    </tr>\n",
       "    <tr>\n",
       "      <th>...</th>\n",
       "      <td>...</td>\n",
       "      <td>...</td>\n",
       "      <td>...</td>\n",
       "      <td>...</td>\n",
       "      <td>...</td>\n",
       "      <td>...</td>\n",
       "      <td>...</td>\n",
       "      <td>...</td>\n",
       "      <td>...</td>\n",
       "      <td>...</td>\n",
       "      <td>...</td>\n",
       "      <td>...</td>\n",
       "      <td>...</td>\n",
       "      <td>...</td>\n",
       "      <td>...</td>\n",
       "      <td>...</td>\n",
       "      <td>...</td>\n",
       "      <td>...</td>\n",
       "    </tr>\n",
       "    <tr>\n",
       "      <th>194253</th>\n",
       "      <td>60291</td>\n",
       "      <td>CLOVERHILL PASTRY-VEND,LLC</td>\n",
       "      <td>CLOVERHILL PASTRY-VEND,LLC</td>\n",
       "      <td>2004357.0</td>\n",
       "      <td>Wholesale</td>\n",
       "      <td>Risk 3 (Low)</td>\n",
       "      <td>4464 W 44TH ST</td>\n",
       "      <td>NaN</td>\n",
       "      <td>IL</td>\n",
       "      <td>60632.0</td>\n",
       "      <td>2010-02-03T00:00:00.000</td>\n",
       "      <td>License Re-Inspection</td>\n",
       "      <td>Pass</td>\n",
       "      <td>NaN</td>\n",
       "      <td>41.814266</td>\n",
       "      <td>-87.736013</td>\n",
       "      <td>{'longitude': '41.81426627941673', 'latitude':...</td>\n",
       "      <td>NaN</td>\n",
       "    </tr>\n",
       "    <tr>\n",
       "      <th>194489</th>\n",
       "      <td>60282</td>\n",
       "      <td>CLOVERHILL PASTRY-VEND,LLC</td>\n",
       "      <td>CLOVERHILL PASTRY-VEND,LLC</td>\n",
       "      <td>2004357.0</td>\n",
       "      <td>Wholesale</td>\n",
       "      <td>Risk 3 (Low)</td>\n",
       "      <td>4464 W 44TH ST</td>\n",
       "      <td>NaN</td>\n",
       "      <td>IL</td>\n",
       "      <td>60632.0</td>\n",
       "      <td>2010-01-28T00:00:00.000</td>\n",
       "      <td>License</td>\n",
       "      <td>Fail</td>\n",
       "      <td>32. FOOD AND NON-FOOD CONTACT SURFACES PROPERL...</td>\n",
       "      <td>41.814266</td>\n",
       "      <td>-87.736013</td>\n",
       "      <td>{'longitude': '41.81426627941673', 'latitude':...</td>\n",
       "      <td>NaN</td>\n",
       "    </tr>\n",
       "    <tr>\n",
       "      <th>194610</th>\n",
       "      <td>60279</td>\n",
       "      <td>CLOVERHILL PASTRY-VEND,LLC</td>\n",
       "      <td>CLOVERHILL PASTRY-VEND,LLC</td>\n",
       "      <td>2004357.0</td>\n",
       "      <td>Wholesale</td>\n",
       "      <td>Risk 3 (Low)</td>\n",
       "      <td>4464 W 44TH ST</td>\n",
       "      <td>NaN</td>\n",
       "      <td>IL</td>\n",
       "      <td>60632.0</td>\n",
       "      <td>2010-01-27T00:00:00.000</td>\n",
       "      <td>License</td>\n",
       "      <td>Fail</td>\n",
       "      <td>NaN</td>\n",
       "      <td>41.814266</td>\n",
       "      <td>-87.736013</td>\n",
       "      <td>{'longitude': '41.81426627941673', 'latitude':...</td>\n",
       "      <td>NaN</td>\n",
       "    </tr>\n",
       "    <tr>\n",
       "      <th>195141</th>\n",
       "      <td>67912</td>\n",
       "      <td>THREE CHEFS RESTURANT</td>\n",
       "      <td>THREE CHEFS RESTURANT</td>\n",
       "      <td>2009471.0</td>\n",
       "      <td>Restaurant</td>\n",
       "      <td>Risk 1 (High)</td>\n",
       "      <td>8125 S HALSTED ST</td>\n",
       "      <td>NaN</td>\n",
       "      <td>IL</td>\n",
       "      <td>60620.0</td>\n",
       "      <td>2010-01-15T00:00:00.000</td>\n",
       "      <td>License Re-Inspection</td>\n",
       "      <td>Pass</td>\n",
       "      <td>NaN</td>\n",
       "      <td>41.746236</td>\n",
       "      <td>-87.643766</td>\n",
       "      <td>{'longitude': '41.74623627171974', 'latitude':...</td>\n",
       "      <td>NaN</td>\n",
       "    </tr>\n",
       "    <tr>\n",
       "      <th>195417</th>\n",
       "      <td>67807</td>\n",
       "      <td>SUN FOOD MART</td>\n",
       "      <td>SUN FOOD MART</td>\n",
       "      <td>2009479.0</td>\n",
       "      <td>Grocery Store</td>\n",
       "      <td>Risk 3 (Low)</td>\n",
       "      <td>3601 W CERMAK RD</td>\n",
       "      <td>NaN</td>\n",
       "      <td>IL</td>\n",
       "      <td>NaN</td>\n",
       "      <td>2010-01-11T00:00:00.000</td>\n",
       "      <td>License Re-Inspection</td>\n",
       "      <td>Pass</td>\n",
       "      <td>NaN</td>\n",
       "      <td>41.851553</td>\n",
       "      <td>-87.715059</td>\n",
       "      <td>{'longitude': '41.85155346052472', 'latitude':...</td>\n",
       "      <td>NaN</td>\n",
       "    </tr>\n",
       "  </tbody>\n",
       "</table>\n",
       "<p>162 rows × 18 columns</p>\n",
       "</div>"
      ],
      "text/plain": [
       "        Inspection ID                                   DBA Name  \\\n",
       "1669          2312774                 CHICAGO COLLEGIATE CHARTER   \n",
       "1879          2312540                 CHICAGO COLLEGIATE CHARTER   \n",
       "1903          2312545  JCYS IRIS & STEVEN PODOLSKY FAMILY CENTER   \n",
       "3073          2305166                  AMY BECK CAKE DESIGN, LLC   \n",
       "3617          2304583  JCYS IRIS & STEVEN PODOLSKY FAMILY CENTER   \n",
       "...               ...                                        ...   \n",
       "194253          60291                 CLOVERHILL PASTRY-VEND,LLC   \n",
       "194489          60282                 CLOVERHILL PASTRY-VEND,LLC   \n",
       "194610          60279                 CLOVERHILL PASTRY-VEND,LLC   \n",
       "195141          67912                      THREE CHEFS RESTURANT   \n",
       "195417          67807                              SUN FOOD MART   \n",
       "\n",
       "                                         AKA Name  License #  \\\n",
       "1669                   CHICAGO COLLEGIATE CHARTER  3846104.0   \n",
       "1879                   CHICAGO COLLEGIATE CHARTER  3846104.0   \n",
       "1903    JCYS IRIS & STEVEN PODOLSKY FAMILY CENTER  2671297.0   \n",
       "3073                    AMY BECK CAKE DESIGN, LLC  2079264.0   \n",
       "3617    JCYS IRIS & STEVEN PODOLSKY FAMILY CENTER  2671297.0   \n",
       "...                                           ...        ...   \n",
       "194253                 CLOVERHILL PASTRY-VEND,LLC  2004357.0   \n",
       "194489                 CLOVERHILL PASTRY-VEND,LLC  2004357.0   \n",
       "194610                 CLOVERHILL PASTRY-VEND,LLC  2004357.0   \n",
       "195141                      THREE CHEFS RESTURANT  2009471.0   \n",
       "195417                              SUN FOOD MART  2009479.0   \n",
       "\n",
       "                       Facility Type           Risk  \\\n",
       "1669                          School  Risk 1 (High)   \n",
       "1879                          School  Risk 1 (High)   \n",
       "1903    Children's Services Facility  Risk 1 (High)   \n",
       "3073                          Bakery  Risk 1 (High)   \n",
       "3617    Children's Services Facility  Risk 1 (High)   \n",
       "...                              ...            ...   \n",
       "194253                     Wholesale   Risk 3 (Low)   \n",
       "194489                     Wholesale   Risk 3 (Low)   \n",
       "194610                     Wholesale   Risk 3 (Low)   \n",
       "195141                    Restaurant  Risk 1 (High)   \n",
       "195417                 Grocery Store   Risk 3 (Low)   \n",
       "\n",
       "                           Address City State      Zip  \\\n",
       "1669    10909 S COTTAGE GROVE AVE   NaN    IL      NaN   \n",
       "1879    10909 S COTTAGE GROVE AVE   NaN    IL      NaN   \n",
       "1903          2112 W LAWRENCE AVE   NaN    IL  60625.0   \n",
       "3073             636 N RACINE AVE   NaN   NaN  60642.0   \n",
       "3617          2112 W LAWRENCE AVE   NaN    IL  60625.0   \n",
       "...                            ...  ...   ...      ...   \n",
       "194253             4464 W 44TH ST   NaN    IL  60632.0   \n",
       "194489             4464 W 44TH ST   NaN    IL  60632.0   \n",
       "194610             4464 W 44TH ST   NaN    IL  60632.0   \n",
       "195141          8125 S HALSTED ST   NaN    IL  60620.0   \n",
       "195417           3601 W CERMAK RD   NaN    IL      NaN   \n",
       "\n",
       "                Inspection Date        Inspection Type             Results  \\\n",
       "1669    2019-09-24T00:00:00.000  Canvass Re-Inspection  Pass w/ Conditions   \n",
       "1879    2019-09-19T00:00:00.000  Canvass Re-Inspection                Fail   \n",
       "1903    2019-09-19T00:00:00.000  License Re-Inspection                Pass   \n",
       "3073    2019-08-23T00:00:00.000                Canvass                Pass   \n",
       "3617    2019-08-13T00:00:00.000                License                Fail   \n",
       "...                         ...                    ...                 ...   \n",
       "194253  2010-02-03T00:00:00.000  License Re-Inspection                Pass   \n",
       "194489  2010-01-28T00:00:00.000                License                Fail   \n",
       "194610  2010-01-27T00:00:00.000                License                Fail   \n",
       "195141  2010-01-15T00:00:00.000  License Re-Inspection                Pass   \n",
       "195417  2010-01-11T00:00:00.000  License Re-Inspection                Pass   \n",
       "\n",
       "                                               Violations   Latitude  \\\n",
       "1669    3. MANAGEMENT, FOOD EMPLOYEE AND CONDITIONAL E...  41.696087   \n",
       "1879    3. MANAGEMENT, FOOD EMPLOYEE AND CONDITIONAL E...  41.696087   \n",
       "1903    38. INSECTS, RODENTS, & ANIMALS NOT PRESENT - ...  41.968821   \n",
       "3073    55. PHYSICAL FACILITIES INSTALLED, MAINTAINED ...  41.893380   \n",
       "3617    3. MANAGEMENT, FOOD EMPLOYEE AND CONDITIONAL E...  41.968821   \n",
       "...                                                   ...        ...   \n",
       "194253                                                NaN  41.814266   \n",
       "194489  32. FOOD AND NON-FOOD CONTACT SURFACES PROPERL...  41.814266   \n",
       "194610                                                NaN  41.814266   \n",
       "195141                                                NaN  41.746236   \n",
       "195417                                                NaN  41.851553   \n",
       "\n",
       "        Longitude                                           Location  \\\n",
       "1669   -87.608945  {'longitude': '41.696086647178035', 'latitude'...   \n",
       "1879   -87.608945  {'longitude': '41.696086647178035', 'latitude'...   \n",
       "1903   -87.682201  {'longitude': '41.968821253748864', 'latitude'...   \n",
       "3073   -87.657588  {'longitude': '41.893380429024546', 'latitude'...   \n",
       "3617   -87.682201  {'longitude': '41.968821253748864', 'latitude'...   \n",
       "...           ...                                                ...   \n",
       "194253 -87.736013  {'longitude': '41.81426627941673', 'latitude':...   \n",
       "194489 -87.736013  {'longitude': '41.81426627941673', 'latitude':...   \n",
       "194610 -87.736013  {'longitude': '41.81426627941673', 'latitude':...   \n",
       "195141 -87.643766  {'longitude': '41.74623627171974', 'latitude':...   \n",
       "195417 -87.715059  {'longitude': '41.85155346052472', 'latitude':...   \n",
       "\n",
       "        Community Areas  \n",
       "1669                NaN  \n",
       "1879                NaN  \n",
       "1903                NaN  \n",
       "3073                NaN  \n",
       "3617                NaN  \n",
       "...                 ...  \n",
       "194253              NaN  \n",
       "194489              NaN  \n",
       "194610              NaN  \n",
       "195141              NaN  \n",
       "195417              NaN  \n",
       "\n",
       "[162 rows x 18 columns]"
      ]
     },
     "execution_count": 9,
     "metadata": {},
     "output_type": "execute_result"
    }
   ],
   "source": [
    "#Investigate the state=nan and city=nan restaurants\n",
    "inspections[pd.isnull(inspections.State) | pd.isnull(inspections.City)]"
   ]
  },
  {
   "cell_type": "markdown",
   "metadata": {},
   "source": [
    "Looking at the coordinates of these places, all of them seem to also be in chicago, so we will fill their City and State columns"
   ]
  },
  {
   "cell_type": "code",
   "execution_count": 10,
   "metadata": {},
   "outputs": [],
   "source": [
    "inspections['City'] = inspections['City'].fillna('Chicago')\n",
    "inspections['State'] = inspections['State'].fillna('IL')"
   ]
  },
  {
   "cell_type": "markdown",
   "metadata": {},
   "source": [
    "Next, we check if there are any facilities which are not located in Chicago."
   ]
  },
  {
   "cell_type": "code",
   "execution_count": 11,
   "metadata": {},
   "outputs": [
    {
     "name": "stdout",
     "output_type": "stream",
     "text": [
      "Values taken by 'City':  ['CHICAGO' 'Chicago' 'chicago' 'GRIFFITH' 'NEW YORK' 'SCHAUMBURG'\n",
      " 'ELMHURST' 'ALGONQUIN' 'NEW HOLSTEIN' 'CCHICAGO' 'NILES NILES' 'EVANSTON'\n",
      " 'CHICAGO.' 'CHESTNUT STREET' 'LANSING' 'CHICAGOCHICAGO' 'WADSWORTH'\n",
      " 'WILMETTE' 'WHEATON' 'CHICAGOHICAGO' 'ROSEMONT' 'CHicago' 'CALUMET CITY'\n",
      " 'PLAINFIELD' 'HIGHLAND PARK' 'PALOS PARK' 'ELK GROVE VILLAGE' 'CICERO'\n",
      " 'BRIDGEVIEW' 'OAK PARK' 'MAYWOOD' 'LAKE BLUFF' '312CHICAGO'\n",
      " 'SCHILLER PARK' 'SKOKIE' 'BEDFORD PARK' 'BANNOCKBURNDEERFIELD' 'CHCICAGO'\n",
      " 'BLOOMINGDALE' 'Norridge' 'CHARLES A HAYES' 'CHCHICAGO' 'CHICAGOI'\n",
      " 'SUMMIT' 'OOLYMPIA FIELDS' 'WESTMONT' 'CHICAGO HEIGHTS' 'JUSTICE'\n",
      " 'TINLEY PARK' 'LOMBARD' 'EAST HAZEL CREST' 'COUNTRY CLUB HILLS'\n",
      " 'STREAMWOOD' 'BOLINGBROOK' 'INACTIVE' 'BERWYN' 'BURNHAM' 'DES PLAINES'\n",
      " 'LAKE ZURICH' 'OLYMPIA FIELDS' 'alsip' 'OAK LAWN' 'BLUE ISLAND' 'GLENCOE'\n",
      " 'FRANKFORT' 'NAPERVILLE' 'BROADVIEW' 'WORTH' 'Maywood' 'ALSIP'\n",
      " 'EVERGREEN PARK']\n"
     ]
    }
   ],
   "source": [
    "# make sure that our assumption is correct\n",
    "print('Values taken by \\'City\\': ', inspections['City'].unique())"
   ]
  },
  {
   "cell_type": "markdown",
   "metadata": {},
   "source": [
    "We can see that this column takes values which are not Chicago. The rows where the 'City' is not Chicago are hence irrelevent to our study and should be dropped. Let's first make sure tha the bulk of the data is for Chicago before proceeding"
   ]
  },
  {
   "cell_type": "code",
   "execution_count": 12,
   "metadata": {},
   "outputs": [
    {
     "name": "stdout",
     "output_type": "stream",
     "text": [
      "99.7884906200188% of the inpections in the dataframe come from Chicago.\n"
     ]
    }
   ],
   "source": [
    "chicago_inspections = inspections.groupby('City')['Inspection ID'].nunique().filter(regex='(?i)chicago', axis=0)\n",
    "print('{}% of the inpections in the dataframe come from Chicago.'.format(100 * chicago_inspections.values.sum()/len(inspections)))"
   ]
  },
  {
   "cell_type": "markdown",
   "metadata": {},
   "source": [
    "We can safely drop the rows which come from cities that are not Chicago."
   ]
  },
  {
   "cell_type": "code",
   "execution_count": 13,
   "metadata": {},
   "outputs": [],
   "source": [
    "# list of ways Chicago has been written in the dataset\n",
    "chicago_variations = chicago_inspections.index.tolist()\n",
    "inspections = inspections[inspections['City'].isin(chicago_variations)]\n",
    "# drop the 'City' and 'State' columns since they have each only one value, 'Chicago' and 'IL' respectively\n",
    "inspections = inspections.drop(columns=['City', 'State'])\n"
   ]
  },
  {
   "cell_type": "markdown",
   "metadata": {},
   "source": [
    "Now that we only have facilities in Chicago in our dataset, let us fill the 'Community Areas' column. To that end, we use the geopy library."
   ]
  },
  {
   "cell_type": "raw",
   "metadata": {},
   "source": [
    "We start by getting the unique locations in the dataset."
   ]
  },
  {
   "cell_type": "code",
   "execution_count": 14,
   "metadata": {},
   "outputs": [],
   "source": [
    "# def getareanneighbourhood(coord):\n",
    "#     \"\"\"\n",
    "    \n",
    "#     \"\"\"\n",
    "#     geolocator = Nominatim(timeout=10,user_agent=\"area_filler\")\n",
    "#     geocode = RateLimiter(geolocator.geocode, min_delay_seconds=1)\n",
    "#     dic = geocode.reverse(coord).raw['address']\n",
    "#     return dic.get('suburb', np.nan), dic.get('neighbourhood', np.nan)\n",
    "\n",
    "def combineloc(latitude, longitude):\n",
    "    \"\"\"\n",
    "    function to format the latitude and longitude such that they can be used in geopy requests\n",
    "    \"\"\"\n",
    "    return '{}, {}'.format(latitude, longitude)"
   ]
  },
  {
   "cell_type": "code",
   "execution_count": 15,
   "metadata": {},
   "outputs": [],
   "source": [
    "locations = inspections['Latitude'].dropna().combine(inspections['Longitude'].dropna(),combineloc)\n",
    "unique_locs = locations.unique()"
   ]
  },
  {
   "cell_type": "code",
   "execution_count": 16,
   "metadata": {},
   "outputs": [
    {
     "data": {
      "text/plain": [
       "array(['41.92799528871574, -87.78575236468352',\n",
       "       '41.946140053442825, -87.73518301995274',\n",
       "       '41.93592957402078, -87.64440716256712', ...,\n",
       "       '41.764896400247046, -87.65396483351302',\n",
       "       '41.768328334800714, -87.67381938402686',\n",
       "       '41.846516428599394, -87.69542345938575'], dtype=object)"
      ]
     },
     "execution_count": 16,
     "metadata": {},
     "output_type": "execute_result"
    }
   ],
   "source": [
    "unique_locs"
   ]
  },
  {
   "cell_type": "code",
   "execution_count": 17,
   "metadata": {},
   "outputs": [
    {
     "data": {
      "text/plain": [
       "16812"
      ]
     },
     "execution_count": 17,
     "metadata": {},
     "output_type": "execute_result"
    }
   ],
   "source": [
    "len(unique_locs)"
   ]
  },
  {
   "cell_type": "code",
   "execution_count": 18,
   "metadata": {},
   "outputs": [],
   "source": [
    "unique_locs_s = pd.Series(unique_locs, dtype=str)"
   ]
  },
  {
   "cell_type": "markdown",
   "metadata": {},
   "source": [
    "We then request the geopy entry for the locations we have (code takes 4h40 to run as we can only do one geopy query per second) and save the areas in a pickle."
   ]
  },
  {
   "cell_type": "code",
   "execution_count": 19,
   "metadata": {
    "scrolled": false
   },
   "outputs": [],
   "source": [
    "# geolocator = Nominatim(timeout=17000,user_agent=\"area_filler\")\n",
    "# geocode = RateLimiter(geolocator.reverse, min_delay_seconds=1)\n",
    "# # for i in unique_locs:\n",
    "# #     print(i)\n",
    "# #     print(geolocator.reverse(i))\n",
    "# areas = unique_locs_s.copy().apply(geocode)\n",
    "# areas.to_pickle('./areas')"
   ]
  },
  {
   "cell_type": "code",
   "execution_count": 20,
   "metadata": {},
   "outputs": [],
   "source": [
    "areas = pd.read_pickle('./areas.pickle')"
   ]
  },
  {
   "cell_type": "code",
   "execution_count": 21,
   "metadata": {},
   "outputs": [
    {
     "data": {
      "text/plain": [
       "0"
      ]
     },
     "execution_count": 21,
     "metadata": {},
     "output_type": "execute_result"
    }
   ],
   "source": [
    "areas.isna().sum()"
   ]
  },
  {
   "cell_type": "markdown",
   "metadata": {},
   "source": [
    "Let's add the community areas and neighborhoods to the dataframe."
   ]
  },
  {
   "cell_type": "code",
   "execution_count": 22,
   "metadata": {},
   "outputs": [],
   "source": [
    "# get latitude, longitude and corresponding community area and neighbourhood in same dataframe\n",
    "suburbs_neighbourhoods = [(x.raw.get('address', {}).get('suburb',np.nan), x.raw.get('address', {}).get('neighbourhood',np.nan)) for x in areas]\n",
    "suburbs, neighbourhoods = zip(*suburbs_neighbourhoods)\n",
    "locs_df = pd.concat([pd.Series(unique_locs, name='Location'), pd.Series(suburbs,name='Community Area'), pd.Series(neighbourhoods,name='Neighbourhood')], axis=1)"
   ]
  },
  {
   "cell_type": "code",
   "execution_count": 23,
   "metadata": {},
   "outputs": [],
   "source": [
    "# add the community area and the neighbourhood to each entry in our dataframe\n",
    "inspections['Location'] = inspections['Latitude'].combine(inspections['Longitude'],combineloc)\n",
    "inspections = inspections.merge(locs_df,on='Location',how='outer')\n",
    "inspections = inspections.drop(columns=['Community Areas'])"
   ]
  },
  {
   "cell_type": "markdown",
   "metadata": {},
   "source": [
    "Let's check if there are any NaN entries in our 'Community Area' column"
   ]
  },
  {
   "cell_type": "code",
   "execution_count": 24,
   "metadata": {},
   "outputs": [
    {
     "name": "stdout",
     "output_type": "stream",
     "text": [
      "96.80873914511031% of rows don't have missing Community Areas\n"
     ]
    }
   ],
   "source": [
    "print('{}% of rows don\\'t have missing Community Areas'.format(100 * (1 - inspections['Community Area'].isna().sum()/len(inspections))))"
   ]
  },
  {
   "cell_type": "markdown",
   "metadata": {},
   "source": [
    "We may safely drop the rows which have null 'Community Area'."
   ]
  },
  {
   "cell_type": "code",
   "execution_count": 25,
   "metadata": {},
   "outputs": [],
   "source": [
    "inspections = inspections[inspections['Community Area'].notna()]"
   ]
  },
  {
   "cell_type": "markdown",
   "metadata": {},
   "source": [
    "Let's check if there are anymore missing values in the dataframe."
   ]
  },
  {
   "cell_type": "code",
   "execution_count": 26,
   "metadata": {},
   "outputs": [
    {
     "data": {
      "text/plain": [
       "Inspection ID                        0.0% missing values\n",
       "DBA Name                             0.0% missing values\n",
       "AKA Name               1.254662060075861% missing values\n",
       "License #           0.008980738956332477% missing values\n",
       "Facility Type          2.453326571365178% missing values\n",
       "Risk                 0.03592295582532991% missing values\n",
       "Address                              0.0% missing values\n",
       "Zip                 0.024829101820448615% missing values\n",
       "Inspection Date                      0.0% missing values\n",
       "Inspection Type    0.0005282787621372046% missing values\n",
       "Results                              0.0% missing values\n",
       "Violations            26.585628704554818% missing values\n",
       "Latitude                             0.0% missing values\n",
       "Longitude                            0.0% missing values\n",
       "Location                             0.0% missing values\n",
       "Community Area                       0.0% missing values\n",
       "Neighbourhood         16.824622016545693% missing values\n",
       "dtype: object"
      ]
     },
     "execution_count": 26,
     "metadata": {},
     "output_type": "execute_result"
    }
   ],
   "source": [
    "inspections.isna().sum().apply(lambda x: '{}% missing values'.format(100 * x/len(inspections)))"
   ]
  },
  {
   "cell_type": "markdown",
   "metadata": {},
   "source": [
    "* The AKA names still have missing entries. We will leave them as they are but will be hence mostly sticking to the DBA Name when referring to establishments.\n",
    "* The Lisence Number is missing for some entries. Seeing as it is not essential in our main analysis we will not pay attention to it for now.\n",
    "* The missing Zip entries are not important as we have enough information regarding location (latitude, longitude, community area and address)\n",
    "* The number of missing neighbourhoods is quite big. Hence, we may drop that column.\n",
    "* The missing facility type, risk, inspection type and violations entries might hinder our analysis and hence we focus on cleaning those column next."
   ]
  },
  {
   "cell_type": "code",
   "execution_count": 27,
   "metadata": {},
   "outputs": [],
   "source": [
    "# drop neighbourhood column\n",
    "inspections = inspections.drop(columns=['Neighbourhood'])"
   ]
  },
  {
   "cell_type": "markdown",
   "metadata": {},
   "source": [
    "We first examine the facility type entries"
   ]
  },
  {
   "cell_type": "code",
   "execution_count": 28,
   "metadata": {},
   "outputs": [
    {
     "data": {
      "text/plain": [
       "0                        restaurant\n",
       "1                               nan\n",
       "2                     grocery store\n",
       "3      children's services facility\n",
       "4                       coffee shop\n",
       "                   ...             \n",
       "375                    soup kitchen\n",
       "376                    hooka lounge\n",
       "377                       religious\n",
       "378                wholesale bakery\n",
       "379                      kids cafe'\n",
       "Length: 380, dtype: object"
      ]
     },
     "execution_count": 28,
     "metadata": {},
     "output_type": "execute_result"
    }
   ],
   "source": [
    "# from nltk.corpus import stopwords\n",
    "# stop = stopwords.words('english')\n",
    "spell = Speller(lang='en')\n",
    "inspections['Facility Type'] = inspections['Facility Type'].str.lower().apply(lambda x: spell(str(x)))\n",
    "unique_types = pd.Series(inspections['Facility Type'].unique())\n",
    "unique_types = pd.Series(unique_types.apply(lambda x: re.sub(',|&|;','/',str(x)).split('/')).explode().unique())\n",
    "unique_types.apply(lambda x: str(x).strip())"
   ]
  },
  {
   "cell_type": "code",
   "execution_count": 29,
   "metadata": {},
   "outputs": [],
   "source": [
    "#corrected_unique_types = unique_types.apply(lambda x: spell(str(x).strip()))"
   ]
  },
  {
   "cell_type": "code",
   "execution_count": 30,
   "metadata": {},
   "outputs": [],
   "source": [
    "#corrected_unique_types"
   ]
  },
  {
   "cell_type": "markdown",
   "metadata": {},
   "source": [
    "There are 427 facility types in the dataframe. Let's see if we can cluster some of them."
   ]
  },
  {
   "cell_type": "code",
   "execution_count": 31,
   "metadata": {},
   "outputs": [],
   "source": [
    "school_vocab = ['school', 'under 6', 'university', 'cafeteria', 'training program', 'kids', 'children', 'daycare', 'years', 'school cafeteria', 'college', 'class', 'day care']\n",
    "restaurant_vocab = ['restaurant', 'smokehouse', 'diner', 'breakfast', 'lunch', 'grill', 'sushi','banquet', 'dining', 'taqueria']\n",
    "homes_vocab = ['long term care','assisted living', 'nursing', 'care', 'supportive']\n",
    "\n",
    "religious_vocab = ['religious', 'religion', 'church', 'synaguogue', 'temple']\n",
    "coffee_vocab = ['coffee', 'cafe']\n",
    "catering_vocab = ['cater']\n",
    "\n",
    "bakery_vocab = ['bake', 'patisserie', 'boulangerie']\n",
    "market_vocab = ['butcher', 'snack', 'dollar', 'grocery', 'frozen food storage', 'meat packing', 'food', 'market', 'packaged', 'popcorn', 'pantry', 'store', 'produce', 'kiosk', 'convenience', 'commiasary','gas station', 'wholesale', 'deli', 'convenient', 'retail', 'dollar tree']\n",
    "dessert_vocab = ['ice cream', 'dessert', 'paleteria', 'candy', 'gelato', 'donut']\n",
    "\n",
    "health_vocab = ['gym', 'exercise', 'nutrition','herbal', 'fitness', 'drug', 'rehab', 'herbalife', 'weight', 'herb', 'health', 'decream']\n",
    "medical_vocab = ['pharmacy']\n",
    "vending_vocab = ['vend', 'pop-up', 'mobile', 'cart', 'dispenser', 'truck']\n",
    "\n",
    "drinks_vocab = ['liquor', 'music', 'bar', 'pub', 'beverage', 'club', 'roof', 'tavern', 'brewery', 'wine', 'beer', 'lounge', 'tea', 'shakes']\n",
    "live_vocab =['live', 'poultry', 'slaughter', 'farm']\n",
    "kitchen_vocab = ['kitchen']\n",
    "\n",
    "distributor_vocab = ['distributor', 'distribution']\n",
    "shelter_vocab = ['shelter', 'youth housing']\n",
    "# other_vocab = ['warehouse', 'other', 'theater', 'golf', 'laundromat', 'hotel', 'riverbank', 'theatre', 'event', 'special', 'museum', 'hospital', 'pool', 'art', 'airport', 'gallery', 'terminal']\n"
   ]
  },
  {
   "cell_type": "code",
   "execution_count": 32,
   "metadata": {},
   "outputs": [],
   "source": [
    "#unique_types = corrected_unique_types"
   ]
  },
  {
   "cell_type": "code",
   "execution_count": 33,
   "metadata": {},
   "outputs": [],
   "source": [
    "#'live poultry' in corrected_unique_types.values"
   ]
  },
  {
   "cell_type": "code",
   "execution_count": 34,
   "metadata": {
    "scrolled": true
   },
   "outputs": [],
   "source": [
    "def extract_label(unique_labels, vocab,mssg):\n",
    "    labels = unique_types.apply(lambda x: x if bool(re.search('|'.join(vocab), x)) else np.nan).dropna()\n",
    "    print(labels)\n",
    "    print('{}: {}'.format(mssg, labels.size))\n",
    "    unique_labels = unique_types.drop(labels=labels.index,errors='ignore')\n",
    "    return unique_labels, labels"
   ]
  },
  {
   "cell_type": "code",
   "execution_count": 35,
   "metadata": {},
   "outputs": [
    {
     "name": "stdout",
     "output_type": "stream",
     "text": [
      "3                children's services facility\n",
      "7                       daycare (2 - 6 years)\n",
      "8             daycare above and under 2 years\n",
      "20                                     school\n",
      "22                   15 months to 5 years old\n",
      "23                         daycare combo 1586\n",
      "29                    daycare (under 2 years)\n",
      "31                      day care combo (1586)\n",
      "32                             charter school\n",
      "33         1023 children's service s facility\n",
      "42                            teaching school\n",
      "72                             cooking school\n",
      "73                             private school\n",
      "77                          daycare (2 years)\n",
      "79                                  cafeteria\n",
      "83                              daycare night\n",
      "84                       after school program\n",
      "91                                    daycare\n",
      "112                           senior day care\n",
      "121         1023-children's services facility\n",
      "129                           culinary school\n",
      "132         1023 children's services facility\n",
      "151       retail store offers cooking classes\n",
      "157                             adult daycare\n",
      "162                      culinary class rooms\n",
      "163                                   college\n",
      "167          1023 children's service facility\n",
      "169                             day care 2-14\n",
      "170                                  day care\n",
      "179                  charter school cafeteria\n",
      "181                             public school\n",
      "185                               daycare 2-6\n",
      "186                                   under 6\n",
      "193                        prep inside school\n",
      "194                          school cafeteria\n",
      "200                             day care 1023\n",
      "206                             daycare combo\n",
      "213                      culinary arts school\n",
      "222                              daycare 1586\n",
      "228                         after school care\n",
      "236    a-not-for-profit chef training program\n",
      "238                   city of chicago college\n",
      "241                             pastry school\n",
      "250                      university cafeteria\n",
      "252                   daycare 2 yrs to 12 yrs\n",
      "259           before and after school program\n",
      "264                        alternative school\n",
      "296             children's services  facility\n",
      "299                        daycare 6 was-5yrs\n",
      "340                         nutrition classes\n",
      "343               1584-day care above 2 years\n",
      "347                children activity facility\n",
      "370                                 kids cafe\n",
      "379                                kids cafe'\n",
      "dtype: object\n",
      "Number of Schools: : 54\n",
      "0                         restaurant\n",
      "67                           banquet\n",
      "68                      golden diner\n",
      "80               grocery(sushi prep)\n",
      "82                     sushi counter\n",
      "85                      banquet hall\n",
      "97                        restaurant\n",
      "98             commissary restaurant\n",
      "152                      dining hall\n",
      "172                         taqueria\n",
      "192                     tavern grill\n",
      "197                     banquet room\n",
      "217                 banquet facility\n",
      "230                         banquets\n",
      "232                   banquet dining\n",
      "237         restaurant.banquet halls\n",
      "271                    banquet rooms\n",
      "286    restaurant(protein shake bar)\n",
      "293            restaurant and liquor\n",
      "308                       smokehouse\n",
      "342                            grill\n",
      "351               restaurant and bar\n",
      "353                  tent restaurant\n",
      "dtype: object\n",
      "Number of Restaurants: : 23\n",
      "34                  long term care\n",
      "71                 assisted living\n",
      "89                    nursing home\n",
      "133                 long-term care\n",
      "134        long term care facility\n",
      "138              supportive living\n",
      "166              health care store\n",
      "180       assisted living facility\n",
      "196        long-term care facility\n",
      "199     supportive living facility\n",
      "201              1005 nursing home\n",
      "227    assisted living senior care\n",
      "330       adult family care center\n",
      "dtype: object\n",
      "Number of Nursing homes: : 13\n",
      "100    church (special events)\n",
      "130             church kitchen\n",
      "141                     church\n",
      "377                  religious\n",
      "dtype: object\n",
      "Number of Religious Establishments: : 4\n",
      "4                     coffee shop\n",
      "30                    coffee cart\n",
      "35                   coffee kiosk\n",
      "104                riverbank cafe\n",
      "113                          cafe\n",
      "156                 internet cafe\n",
      "203                coffee roaster\n",
      "218    animal shelter cafe permit\n",
      "275                  coffee  shop\n",
      "294                        coffee\n",
      "374        coffee vending machine\n",
      "dtype: object\n",
      "Number of Coffeeshops: : 11\n",
      "6                    catering\n",
      "54     catering and wholesale\n",
      "111            catered liquor\n",
      "346            catered events\n",
      "dtype: object\n",
      "Number of Caterers: : 4\n",
      "9                bakery\n",
      "378    wholesale bakery\n",
      "dtype: object\n",
      "Number of Bakeries: : 2\n",
      "2                                  grocery store\n",
      "11                                  o'hare kiosk\n",
      "13                                         store\n",
      "17                                         kiosk\n",
      "18                         mobile food dispenser\n",
      "                         ...                    \n",
      "361                 dollar store selling grocery\n",
      "364                                 live butcher\n",
      "365                                  meat market\n",
      "368                                general store\n",
      "371    prepackage meal distributor (1006 retail)\n",
      "Length: 89, dtype: object\n",
      "Number of Markets: : 89\n",
      "45                                           ice cream\n",
      "46                                    ice cream parlor\n",
      "51                       mobile frozen desserts vendor\n",
      "55                               mobile dessert vendor\n",
      "56                                         candy maker\n",
      "57                                               candy\n",
      "92                                         gelato shop\n",
      "102                                     ice cream shop\n",
      "115                                             gelato\n",
      "140                           frozen dessert pushcarts\n",
      "148                         mobile frozen dessert disp\n",
      "165                                         candy shop\n",
      "171                             mobile desserts vendor\n",
      "183                                         donut shop\n",
      "270                       mobile frozen dessert vendor\n",
      "283     mobile frozen desserts dispenser-non-motorized\n",
      "284            frozen desserts dispenser-non-motorized\n",
      "301         commissary for soft serve ice cream trucks\n",
      "313    mobile frozen dessert dispenser_non  motorized.\n",
      "314           frozen desserts dispenser -non motorized\n",
      "315         mobile frozen desserts dispenser-non-motor\n",
      "316    mobile frozen desserts dispenser-non- motorized\n",
      "373                               card shop with candy\n",
      "dtype: object\n",
      "Number of Dessert Places: : 23\n",
      "65                            gym\n",
      "74     exercise and nutrition bar\n",
      "75                      herbalize\n",
      "90                 fitness center\n",
      "103                   herbal life\n",
      "131           weight loss program\n",
      "143                        health\n",
      "177                 chinese herbs\n",
      "188               herbal medicine\n",
      "191                  decream shop\n",
      "220                  rehab center\n",
      "221       drug treatment facility\n",
      "223                fitness studio\n",
      "260              herbal life shop\n",
      "274                 herbal drinks\n",
      "276           herbalize nutrition\n",
      "298                 health center\n",
      "319                        herbal\n",
      "320                          drug\n",
      "328                 herbal remedy\n",
      "329                     nutrition\n",
      "dtype: object\n",
      "Number of Health Institutions: : 21\n",
      "70    pharmacy\n",
      "dtype: object\n",
      "Number of Pharmacies: : 1\n",
      "16                       vending machine\n",
      "41     pop-up establishment host-tier ii\n",
      "44                          hot dog cart\n",
      "168                       illegal vendor\n",
      "178                   vending commissary\n",
      "248                           push carts\n",
      "292                                truck\n",
      "dtype: object\n",
      "Number of Vending Establishments: : 7\n",
      "5                               liquor\n",
      "10                      airport lounge\n",
      "12                              lounge\n",
      "14                            beverage\n",
      "49                              tavern\n",
      "59                                 bar\n",
      "61                             brewery\n",
      "95                       wine and beer\n",
      "105                    wrigley rooftop\n",
      "106                            rooftop\n",
      "107                           rooftops\n",
      "114                       smoothie bar\n",
      "116                          roof tops\n",
      "118                           roof top\n",
      "142                        tea brewing\n",
      "144                          juice bar\n",
      "161                   wrigley roof top\n",
      "173                        1475 liquor\n",
      "198                            brewpub\n",
      "207                          juice bar\n",
      "209    liquor consumption on premises.\n",
      "211                         night club\n",
      "212                      tavern-liquor\n",
      "219                      rooftop patio\n",
      "243                             shakes\n",
      "244                               teas\n",
      "246         shuffleboard club with bar\n",
      "258                juice and salad bar\n",
      "268                           wine bar\n",
      "277             liquor brewery tasting\n",
      "295                                tea\n",
      "304                        social club\n",
      "317                  protein shake bar\n",
      "322                        service bar\n",
      "326                        massage bar\n",
      "339                        music venue\n",
      "344                   wine tasting bar\n",
      "356                boys and girls club\n",
      "369                          hooka bar\n",
      "376                       hooka lounge\n",
      "dtype: object\n",
      "Number of Drinks Places: : 40\n",
      "24                 live poultry\n",
      "146           poultry slaughter\n",
      "147    custom poultry slaughter\n",
      "158             slaughter house\n",
      "325                  urban farm\n",
      "dtype: object\n",
      "Number of Live Animal Sellers and Slaughterhouses: : 5\n",
      "39      shared kitchen user (long term)\n",
      "52                       shared kitchen\n",
      "53     shared kitchen user (short term)\n",
      "123                             kitchen\n",
      "187                        main kitchen\n",
      "189                    employee kitchen\n",
      "239                 charity aid kitchen\n",
      "291                        kitchen demo\n",
      "366     shared kitchen user (long them)\n",
      "375                        soup kitchen\n",
      "dtype: object\n",
      "Number of Shared Kitchen: : 10\n",
      "122    distribution center\n",
      "204            distributor\n",
      "dtype: object\n",
      "Number of Distributors: : 2\n",
      "88           shelter\n",
      "234    youth housing\n",
      "dtype: object\n",
      "Number of Shelters: : 2\n"
     ]
    }
   ],
   "source": [
    "unique_types, school_labels = extract_label(unique_types, school_vocab, 'Number of Schools: ')\n",
    "unique_types, restaurant_labels = extract_label(unique_types, restaurant_vocab, 'Number of Restaurants: ')\n",
    "unique_types, homes_labels = extract_label(unique_types, homes_vocab, 'Number of Nursing homes: ')\n",
    "\n",
    "unique_types, religious_labels = extract_label(unique_types, religious_vocab, 'Number of Religious Establishments: ')\n",
    "unique_types, coffee_labels = extract_label(unique_types, coffee_vocab, 'Number of Coffeeshops: ')\n",
    "unique_types, catering_labels = extract_label(unique_types, catering_vocab, 'Number of Caterers: ')\n",
    "\n",
    "unique_types, bakery_labels = extract_label(unique_types, bakery_vocab, 'Number of Bakeries: ')\n",
    "unique_types, market_labels = extract_label(unique_types, market_vocab, 'Number of Markets: ')\n",
    "unique_types, dessert_labels = extract_label(unique_types, dessert_vocab, 'Number of Dessert Places: ')\n",
    "\n",
    "unique_types, health_labels = extract_label(unique_types, health_vocab, 'Number of Health Institutions: ')\n",
    "unique_types, medical_labels = extract_label(unique_types, medical_vocab, 'Number of Pharmacies: ')\n",
    "unique_types, vending_labels = extract_label(unique_types, vending_vocab, 'Number of Vending Establishments: ')\n",
    "\n",
    "unique_types, drinks_labels = extract_label(unique_types, drinks_vocab, 'Number of Drinks Places: ')\n",
    "unique_types, live_labels = extract_label(unique_types, live_vocab, 'Number of Live Animal Sellers and Slaughterhouses: ')\n",
    "unique_types, kitchen_labels = extract_label(unique_types, kitchen_vocab, 'Number of Shared Kitchen: ')\n",
    "\n",
    "unique_types, distributor_labels = extract_label(unique_types, distributor_vocab, 'Number of Distributors: ')\n",
    "unique_types, shelter_labels = extract_label(unique_types, shelter_vocab, 'Number of Shelters: ')\n",
    "other_labels = unique_types"
   ]
  },
  {
   "cell_type": "code",
   "execution_count": 36,
   "metadata": {},
   "outputs": [
    {
     "data": {
      "text/plain": [
       "1                      nan\n",
       "15    silverware warehouse\n",
       "47                 theater\n",
       "48           special event\n",
       "50             psalteteria\n",
       "58               incubator\n",
       "62                hospital\n",
       "63                  museum\n",
       "64                 gallery\n",
       "66                    pool\n",
       "dtype: object"
      ]
     },
     "execution_count": 36,
     "metadata": {},
     "output_type": "execute_result"
    }
   ],
   "source": [
    "unique_types[0:10]"
   ]
  },
  {
   "cell_type": "markdown",
   "metadata": {},
   "source": [
    "**Explore the difference between DBA and AKA names**"
   ]
  },
  {
   "cell_type": "code",
   "execution_count": 26,
   "metadata": {},
   "outputs": [
    {
     "name": "stdout",
     "output_type": "stream",
     "text": [
      "There are 26656 unique DBA (‘Doing business as.’) names in the dataset.\n"
     ]
    }
   ],
   "source": [
    "print ('There are {0} unique DBA (‘Doing business as.’) names in the dataset.'.format(len(inspections['DBA Name'].unique())))"
   ]
  },
  {
   "cell_type": "code",
   "execution_count": 27,
   "metadata": {},
   "outputs": [
    {
     "name": "stdout",
     "output_type": "stream",
     "text": [
      "There are 25434 AKA (‘Also known as.’) names in the dataset.\n"
     ]
    }
   ],
   "source": [
    "# Display the number of restaurants (we display the unique DBA names)\n",
    "print ('There are {0} AKA (‘Also known as.’) names in the dataset.'.format(len(inspections['AKA Name'].unique())))"
   ]
  },
  {
   "cell_type": "code",
   "execution_count": 28,
   "metadata": {},
   "outputs": [
    {
     "name": "stdout",
     "output_type": "stream",
     "text": [
      "There are 49418 rows where the DBA names and the AKA names differ.\n"
     ]
    }
   ],
   "source": [
    "# Explore how DBA and AKA names differ\n",
    "print ('There are {0} rows where the DBA names and the AKA names differ.'\\\n",
    "       .format((len(inspections[inspections['DBA Name'] != inspections['AKA Name']]))))"
   ]
  },
  {
   "cell_type": "code",
   "execution_count": 29,
   "metadata": {},
   "outputs": [
    {
     "name": "stdout",
     "output_type": "stream",
     "text": [
      "Examples of different DBA and AKA names : \n"
     ]
    },
    {
     "data": {
      "text/html": [
       "<div>\n",
       "<style scoped>\n",
       "    .dataframe tbody tr th:only-of-type {\n",
       "        vertical-align: middle;\n",
       "    }\n",
       "\n",
       "    .dataframe tbody tr th {\n",
       "        vertical-align: top;\n",
       "    }\n",
       "\n",
       "    .dataframe thead th {\n",
       "        text-align: right;\n",
       "    }\n",
       "</style>\n",
       "<table border=\"1\" class=\"dataframe\">\n",
       "  <thead>\n",
       "    <tr style=\"text-align: right;\">\n",
       "      <th></th>\n",
       "      <th>Inspection ID</th>\n",
       "      <th>DBA Name</th>\n",
       "      <th>AKA Name</th>\n",
       "      <th>License #</th>\n",
       "      <th>Facility Type</th>\n",
       "      <th>Risk</th>\n",
       "      <th>Address</th>\n",
       "      <th>Zip</th>\n",
       "      <th>Inspection Date</th>\n",
       "      <th>Inspection Type</th>\n",
       "      <th>Results</th>\n",
       "      <th>Violations</th>\n",
       "      <th>Latitude</th>\n",
       "      <th>Longitude</th>\n",
       "      <th>Location</th>\n",
       "      <th>Community Area</th>\n",
       "      <th>Neighbourhood</th>\n",
       "    </tr>\n",
       "  </thead>\n",
       "  <tbody>\n",
       "    <tr>\n",
       "      <th>8</th>\n",
       "      <td>2059948</td>\n",
       "      <td>Subway Sandwiches</td>\n",
       "      <td>Subway</td>\n",
       "      <td>1621730.0</td>\n",
       "      <td>Restaurant</td>\n",
       "      <td>Risk 1 (High)</td>\n",
       "      <td>2620 N NARRAGANSETT AVE</td>\n",
       "      <td>60639.0</td>\n",
       "      <td>2017-06-09T00:00:00.000</td>\n",
       "      <td>Canvass Re-Inspection</td>\n",
       "      <td>Pass</td>\n",
       "      <td>NaN</td>\n",
       "      <td>41.927995</td>\n",
       "      <td>-87.785752</td>\n",
       "      <td>41.92799528871574, -87.78575236468352</td>\n",
       "      <td>Belmont Cragin</td>\n",
       "      <td>Beat 2512</td>\n",
       "    </tr>\n",
       "    <tr>\n",
       "      <th>10</th>\n",
       "      <td>2059950</td>\n",
       "      <td>Subway Sandwiches</td>\n",
       "      <td>Subway</td>\n",
       "      <td>1621730.0</td>\n",
       "      <td>Restaurant</td>\n",
       "      <td>Risk 1 (High)</td>\n",
       "      <td>2620 N NARRAGANSETT AVE</td>\n",
       "      <td>60639.0</td>\n",
       "      <td>2017-06-09T00:00:00.000</td>\n",
       "      <td>Canvass</td>\n",
       "      <td>Out of Business</td>\n",
       "      <td>NaN</td>\n",
       "      <td>41.927995</td>\n",
       "      <td>-87.785752</td>\n",
       "      <td>41.92799528871574, -87.78575236468352</td>\n",
       "      <td>Belmont Cragin</td>\n",
       "      <td>Beat 2512</td>\n",
       "    </tr>\n",
       "  </tbody>\n",
       "</table>\n",
       "</div>"
      ],
      "text/plain": [
       "    Inspection ID           DBA Name AKA Name  License # Facility Type  \\\n",
       "8         2059948  Subway Sandwiches   Subway  1621730.0    Restaurant   \n",
       "10        2059950  Subway Sandwiches   Subway  1621730.0    Restaurant   \n",
       "\n",
       "             Risk                   Address      Zip          Inspection Date  \\\n",
       "8   Risk 1 (High)  2620 N NARRAGANSETT AVE   60639.0  2017-06-09T00:00:00.000   \n",
       "10  Risk 1 (High)  2620 N NARRAGANSETT AVE   60639.0  2017-06-09T00:00:00.000   \n",
       "\n",
       "          Inspection Type          Results Violations   Latitude  Longitude  \\\n",
       "8   Canvass Re-Inspection             Pass        NaN  41.927995 -87.785752   \n",
       "10                Canvass  Out of Business        NaN  41.927995 -87.785752   \n",
       "\n",
       "                                 Location  Community Area Neighbourhood  \n",
       "8   41.92799528871574, -87.78575236468352  Belmont Cragin     Beat 2512  \n",
       "10  41.92799528871574, -87.78575236468352  Belmont Cragin     Beat 2512  "
      ]
     },
     "execution_count": 29,
     "metadata": {},
     "output_type": "execute_result"
    }
   ],
   "source": [
    "print('Examples of different DBA and AKA names : ')\n",
    "inspections[inspections['DBA Name'] != inspections['AKA Name']].head(2)"
   ]
  }
 ],
 "metadata": {
  "kernelspec": {
   "display_name": "Python 3",
   "language": "python",
   "name": "python3"
  },
  "language_info": {
   "codemirror_mode": {
    "name": "ipython",
    "version": 3
   },
   "file_extension": ".py",
   "mimetype": "text/x-python",
   "name": "python",
   "nbconvert_exporter": "python",
   "pygments_lexer": "ipython3",
   "version": "3.6.9"
  }
 },
 "nbformat": 4,
 "nbformat_minor": 4
}
