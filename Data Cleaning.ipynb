{
 "cells": [
  {
   "cell_type": "markdown",
   "metadata": {},
   "source": [
    "**TODO Important !**\n",
    "* data cleaning: explode the violations column: for each inspection keep the numbers of the violations and the comment of the inspector (comments can be used to do NLP, see if useful).."
   ]
  },
  {
   "cell_type": "markdown",
   "metadata": {},
   "source": [
    "# Relevant imports"
   ]
  },
  {
   "cell_type": "code",
   "execution_count": 1,
   "metadata": {},
   "outputs": [],
   "source": [
    "import pandas as pd\n",
    "import numpy as np\n",
    "import matplotlib.pyplot as plt\n",
    "import seaborn as sns\n",
    "import re\n",
    "import math\n",
    "from geopy.geocoders import Nominatim\n",
    "from geopy.extra.rate_limiter import RateLimiter\n",
    "\n",
    "import datetime\n",
    "\n",
    "from autocorrect import Speller\n",
    "\n",
    "from sklearn.linear_model import Ridge\n",
    "from sklearn.model_selection import train_test_split\n",
    "from sklearn.model_selection import cross_val_predict\n",
    "from sklearn.model_selection import cross_val_score\n",
    "from sklearn.metrics import mean_squared_error\n",
    "\n",
    "import pandas_profiling\n",
    "\n",
    "\n",
    "from datetime import date\n",
    "\n",
    "#import findspark\n",
    "#findspark.init()\n",
    "\n",
    "#import pyspark\n",
    "# Important to use sql functions in pyspark as example: sqlf.max()\n",
    "#[source](https://stackoverflow.com/questions/36604460/python-function-such-as-max-doesnt-work-in-pyspark-application)\n",
    "#from pyspark.sql import functions as sqlf"
   ]
  },
  {
   "cell_type": "markdown",
   "metadata": {},
   "source": [
    "# I. Dataset(s) preparation and cleaning"
   ]
  },
  {
   "cell_type": "markdown",
   "metadata": {},
   "source": [
    "Before we proceed to tackle each of our research questions, some data cleaning is in order."
   ]
  },
  {
   "cell_type": "markdown",
   "metadata": {},
   "source": [
    "## 1. Load the data and explore its structure"
   ]
  },
  {
   "cell_type": "code",
   "execution_count": 2,
   "metadata": {},
   "outputs": [],
   "source": [
    "inspections = pd.read_csv('datasets/food-inspections.csv')"
   ]
  },
  {
   "cell_type": "code",
   "execution_count": 3,
   "metadata": {},
   "outputs": [
    {
     "data": {
      "text/plain": [
       "195736"
      ]
     },
     "execution_count": 3,
     "metadata": {},
     "output_type": "execute_result"
    }
   ],
   "source": [
    "len(inspections)"
   ]
  },
  {
   "cell_type": "markdown",
   "metadata": {},
   "source": [
    "The dataset has 22 columns. Let's examine what each of them is."
   ]
  },
  {
   "cell_type": "code",
   "execution_count": 4,
   "metadata": {},
   "outputs": [
    {
     "data": {
      "text/plain": [
       "Index(['Inspection ID', 'DBA Name', 'AKA Name', 'License #', 'Facility Type',\n",
       "       'Risk', 'Address', 'City', 'State', 'Zip', 'Inspection Date',\n",
       "       'Inspection Type', 'Results', 'Violations', 'Latitude', 'Longitude',\n",
       "       'Location', 'Historical Wards 2003-2015', 'Zip Codes',\n",
       "       'Community Areas', 'Census Tracts', 'Wards'],\n",
       "      dtype='object')"
      ]
     },
     "execution_count": 4,
     "metadata": {},
     "output_type": "execute_result"
    }
   ],
   "source": [
    "#Display columns\n",
    "inspections.columns"
   ]
  },
  {
   "cell_type": "code",
   "execution_count": 5,
   "metadata": {},
   "outputs": [
    {
     "data": {
      "text/plain": [
       "Inspection ID                   int64\n",
       "DBA Name                       object\n",
       "AKA Name                       object\n",
       "License #                     float64\n",
       "Facility Type                  object\n",
       "Risk                           object\n",
       "Address                        object\n",
       "City                           object\n",
       "State                          object\n",
       "Zip                           float64\n",
       "Inspection Date                object\n",
       "Inspection Type                object\n",
       "Results                        object\n",
       "Violations                     object\n",
       "Latitude                      float64\n",
       "Longitude                     float64\n",
       "Location                       object\n",
       "Historical Wards 2003-2015    float64\n",
       "Zip Codes                     float64\n",
       "Community Areas               float64\n",
       "Census Tracts                 float64\n",
       "Wards                         float64\n",
       "dtype: object"
      ]
     },
     "execution_count": 5,
     "metadata": {},
     "output_type": "execute_result"
    }
   ],
   "source": [
    "inspections.dtypes"
   ]
  },
  {
   "cell_type": "markdown",
   "metadata": {},
   "source": [
    "A description of the features is given below [Source](https://data.cityofchicago.org/api/assets/BAD5301B-681A-4202-9D25-51B2CAE672FF).\n",
    "The last five columns are ignored in the dataset source; we will see that those columns are in fact null\n",
    "\n",
    "| Feature name                | Variable Type | Description \n",
    "|-----------------------------|---------------|--------------------------------------------------------\n",
    "| Inspection ID        | Integer    | The inspection unique identifier.\n",
    "| DBA Name                 | String        | ‘Doing business as.’Legal name of the establishment.\n",
    "| AKA NAme                | String    |  ‘Also known as.’ Name the public would know the establishment as.\n",
    "| License # | Integer    | Unique number assigned to the establishment for the purposes of licensing by the Department of Business Affairs and Consumer Protection.\n",
    "| Type of facility                | String    | Each establishment is described by one of the following: bakery, banquet hall, candy store, caterer, coffee shop, day care center (for ages less than 2), day care center (for ages 2 – 6), day care center (combo, for ages less than 2 and 2 – 6 combined), gas station, Golden Diner, grocery store, hospital, long term care center(nursing home), liquor store, mobile food dispenser, restaurant, paleteria, school, shelter, tavern, social club, wholesaler, or Wrigley Field Rooftop.\n",
    "| Risk                   | String    | Risk category of facility of adversely affecting the public’s health, with 1 being the highest and 3 the lowest. The frequency of inspection is tied to this risk, with risk 1 establishments inspected most frequently and risk 3 least frequently.\n",
    "| Address        | String    | Street address of the establishment.\n",
    "| City        | String    | City of the establishment.\n",
    "| State        | String    | State of the establishment.\n",
    "| Zip        | Integer    | Zip code of the establishment.\n",
    "| Inspection Date        | Date    | Date of the inspection\n",
    "| Inspection Type        | String    | An inspection can be one of the following types: canvass, the most common type of inspection performed at a frequency relative to the risk of the establishment; consultation, when the inspection is done at the request of the owner prior to the opening of the establishment; complaint, when the inspection is done in response to a complaint against the establishment; license, when the inspection is done as a requirement for the establishment to receive its license to operate; suspect food poisoning, when the inspection is done in response to one or more persons claiming to have gotten ill as a result of eating at the establishment (a specific type of complaint-based inspection); task-force inspection, when an inspection of a bar or tavern is done. Re-inspections can occur for most types of these inspections and are indicated as such.\n",
    "| Results        | String    | Results: An inspection can pass, pass with conditions or fail. Establishments receiving a ‘pass’ were found to have no critical or serious violations (violation number 1-14 and 15- 29, respectively). Establishments receiving a ‘pass with conditions’ were found to have critical or serious violations, but these were corrected during the inspection. Establishments receiving a ‘fail’ were found to have critical or serious violations that were not correctable during the inspection. An establishment receiving a ‘fail’ does not necessarily mean the establishment’s licensed is suspended. Establishments found to be out of business or not located are indicated as such.\n",
    "| Violations        | String    | An establishment can receive one or more of 45 distinct violations (violation numbers 1-44 and 70). For each violation number listed for a given establishment, the requirement the establishment must meet in order for it to NOT receive a violation is noted, followed by a specific description of the findings that caused the violation to be issued.\n",
    "| Latitude        | Integer    | Latitude of the establishment.\n",
    "| Longitude        | Integer    | Longitude of the establishment.\n",
    "\n"
   ]
  },
  {
   "cell_type": "markdown",
   "metadata": {},
   "source": [
    "We use pandas_profiling to have a quick overview of our dataset; missing values, features distributions and features correlation."
   ]
  },
  {
   "cell_type": "code",
   "execution_count": 6,
   "metadata": {},
   "outputs": [],
   "source": [
    "#inspections.profile_report(style={'full_width':True})"
   ]
  },
  {
   "cell_type": "code",
   "execution_count": 7,
   "metadata": {},
   "outputs": [],
   "source": [
    "#Save the report to a html file\n",
    "#profile = IPO_data.profile_report(title='inspection data Profiling Report')\n",
    "#profile.to_file(output_file=\"data_profile.html\")"
   ]
  },
  {
   "cell_type": "markdown",
   "metadata": {},
   "source": [
    "## 2. Drop duplicates"
   ]
  },
  {
   "cell_type": "markdown",
   "metadata": {},
   "source": [
    "The dataset source explicitly says there are duplicates in our data, hence it makes sence to drop those. [source](https://www.kaggle.com/chicago/chicago-food-inspections)"
   ]
  },
  {
   "cell_type": "code",
   "execution_count": 8,
   "metadata": {},
   "outputs": [
    {
     "data": {
      "text/plain": [
       "195524"
      ]
     },
     "execution_count": 8,
     "metadata": {},
     "output_type": "execute_result"
    }
   ],
   "source": [
    "inspections.drop_duplicates(inplace=True)\n",
    "len(inspections)"
   ]
  },
  {
   "cell_type": "markdown",
   "metadata": {},
   "source": [
    "## 3. Dataset cleaning"
   ]
  },
  {
   "cell_type": "markdown",
   "metadata": {},
   "source": [
    "### A. Drop null columns"
   ]
  },
  {
   "cell_type": "markdown",
   "metadata": {},
   "source": [
    "The 'Location' column contains the latitude and longitude of the establishment. However, there are separate 'Latitude' and 'Longitude' columns. We can hence safely drop the 'Location' column."
   ]
  },
  {
   "cell_type": "code",
   "execution_count": 9,
   "metadata": {},
   "outputs": [],
   "source": [
    "#inspections = inspections.drop(columns=['Location'])\n",
    "#inspections.rename(columns={\"Location\": \"Location_original\"})"
   ]
  },
  {
   "cell_type": "markdown",
   "metadata": {},
   "source": [
    "The head of the dataset only contains NaN entries for the 'Historical Wards 2003-2015', 'Zip Codes', 'Community Areas', 'Census Tracts', 'Wards' columns. Let's see if this is true for the whole dataset."
   ]
  },
  {
   "cell_type": "code",
   "execution_count": 10,
   "metadata": {},
   "outputs": [
    {
     "name": "stdout",
     "output_type": "stream",
     "text": [
      "Values taken by 'Historical Wards 2003-2015':  [nan]\n",
      "Values taken by 'Zip Codes':  [nan]\n",
      "Values taken by 'Community Areas':  [nan]\n",
      "Values taken by 'Census Tracts':  [nan]\n",
      "Values taken by 'Wards':  [nan]\n"
     ]
    }
   ],
   "source": [
    "# make sure that our assumption is correct\n",
    "print('Values taken by \\'Historical Wards 2003-2015\\': ', inspections['Zip Codes'].unique())\n",
    "print('Values taken by \\'Zip Codes\\': ', inspections['Zip Codes'].unique())\n",
    "print('Values taken by \\'Community Areas\\': ', inspections['Zip Codes'].unique())\n",
    "print('Values taken by \\'Census Tracts\\': ', inspections['Zip Codes'].unique())\n",
    "print('Values taken by \\'Wards\\': ', inspections['Zip Codes'].unique())\n"
   ]
  },
  {
   "cell_type": "markdown",
   "metadata": {},
   "source": [
    "We drop all columns apart from the 'Community Areas' because we will be needing it in our study. We will fill later."
   ]
  },
  {
   "cell_type": "code",
   "execution_count": 11,
   "metadata": {},
   "outputs": [],
   "source": [
    "inspections = inspections.drop(columns=['Historical Wards 2003-2015', 'Zip Codes', 'Census Tracts', 'Wards'])\n"
   ]
  },
  {
   "cell_type": "markdown",
   "metadata": {},
   "source": [
    "### B. Clean the location related features and fill in community area feature"
   ]
  },
  {
   "cell_type": "markdown",
   "metadata": {},
   "source": [
    "Let's examine if the whole dataset is relevent to the study we are conducting by seeing which entries correspond to facilities in Chicago."
   ]
  },
  {
   "cell_type": "markdown",
   "metadata": {},
   "source": [
    "First, we check if there are any missing values for the column 'City' or 'State'"
   ]
  },
  {
   "cell_type": "code",
   "execution_count": 12,
   "metadata": {},
   "outputs": [
    {
     "data": {
      "text/html": [
       "<div>\n",
       "<style scoped>\n",
       "    .dataframe tbody tr th:only-of-type {\n",
       "        vertical-align: middle;\n",
       "    }\n",
       "\n",
       "    .dataframe tbody tr th {\n",
       "        vertical-align: top;\n",
       "    }\n",
       "\n",
       "    .dataframe thead th {\n",
       "        text-align: right;\n",
       "    }\n",
       "</style>\n",
       "<table border=\"1\" class=\"dataframe\">\n",
       "  <thead>\n",
       "    <tr style=\"text-align: right;\">\n",
       "      <th></th>\n",
       "      <th>Inspection ID</th>\n",
       "      <th>DBA Name</th>\n",
       "      <th>AKA Name</th>\n",
       "      <th>License #</th>\n",
       "      <th>Facility Type</th>\n",
       "      <th>Risk</th>\n",
       "      <th>Address</th>\n",
       "      <th>City</th>\n",
       "      <th>State</th>\n",
       "      <th>Zip</th>\n",
       "      <th>Inspection Date</th>\n",
       "      <th>Inspection Type</th>\n",
       "      <th>Results</th>\n",
       "      <th>Violations</th>\n",
       "      <th>Latitude</th>\n",
       "      <th>Longitude</th>\n",
       "      <th>Location</th>\n",
       "      <th>Community Areas</th>\n",
       "    </tr>\n",
       "  </thead>\n",
       "  <tbody>\n",
       "    <tr>\n",
       "      <th>1669</th>\n",
       "      <td>2312774</td>\n",
       "      <td>CHICAGO COLLEGIATE CHARTER</td>\n",
       "      <td>CHICAGO COLLEGIATE CHARTER</td>\n",
       "      <td>3846104.0</td>\n",
       "      <td>School</td>\n",
       "      <td>Risk 1 (High)</td>\n",
       "      <td>10909 S COTTAGE GROVE AVE</td>\n",
       "      <td>NaN</td>\n",
       "      <td>IL</td>\n",
       "      <td>NaN</td>\n",
       "      <td>2019-09-24T00:00:00.000</td>\n",
       "      <td>Canvass Re-Inspection</td>\n",
       "      <td>Pass w/ Conditions</td>\n",
       "      <td>3. MANAGEMENT, FOOD EMPLOYEE AND CONDITIONAL E...</td>\n",
       "      <td>41.696087</td>\n",
       "      <td>-87.608945</td>\n",
       "      <td>{'longitude': '41.696086647178035', 'latitude'...</td>\n",
       "      <td>NaN</td>\n",
       "    </tr>\n",
       "    <tr>\n",
       "      <th>1879</th>\n",
       "      <td>2312540</td>\n",
       "      <td>CHICAGO COLLEGIATE CHARTER</td>\n",
       "      <td>CHICAGO COLLEGIATE CHARTER</td>\n",
       "      <td>3846104.0</td>\n",
       "      <td>School</td>\n",
       "      <td>Risk 1 (High)</td>\n",
       "      <td>10909 S COTTAGE GROVE AVE</td>\n",
       "      <td>NaN</td>\n",
       "      <td>IL</td>\n",
       "      <td>NaN</td>\n",
       "      <td>2019-09-19T00:00:00.000</td>\n",
       "      <td>Canvass Re-Inspection</td>\n",
       "      <td>Fail</td>\n",
       "      <td>3. MANAGEMENT, FOOD EMPLOYEE AND CONDITIONAL E...</td>\n",
       "      <td>41.696087</td>\n",
       "      <td>-87.608945</td>\n",
       "      <td>{'longitude': '41.696086647178035', 'latitude'...</td>\n",
       "      <td>NaN</td>\n",
       "    </tr>\n",
       "    <tr>\n",
       "      <th>1903</th>\n",
       "      <td>2312545</td>\n",
       "      <td>JCYS IRIS &amp; STEVEN PODOLSKY FAMILY CENTER</td>\n",
       "      <td>JCYS IRIS &amp; STEVEN PODOLSKY FAMILY CENTER</td>\n",
       "      <td>2671297.0</td>\n",
       "      <td>Children's Services Facility</td>\n",
       "      <td>Risk 1 (High)</td>\n",
       "      <td>2112 W LAWRENCE AVE</td>\n",
       "      <td>NaN</td>\n",
       "      <td>IL</td>\n",
       "      <td>60625.0</td>\n",
       "      <td>2019-09-19T00:00:00.000</td>\n",
       "      <td>License Re-Inspection</td>\n",
       "      <td>Pass</td>\n",
       "      <td>38. INSECTS, RODENTS, &amp; ANIMALS NOT PRESENT - ...</td>\n",
       "      <td>41.968821</td>\n",
       "      <td>-87.682201</td>\n",
       "      <td>{'longitude': '41.968821253748864', 'latitude'...</td>\n",
       "      <td>NaN</td>\n",
       "    </tr>\n",
       "    <tr>\n",
       "      <th>3073</th>\n",
       "      <td>2305166</td>\n",
       "      <td>AMY BECK CAKE DESIGN, LLC</td>\n",
       "      <td>AMY BECK CAKE DESIGN, LLC</td>\n",
       "      <td>2079264.0</td>\n",
       "      <td>Bakery</td>\n",
       "      <td>Risk 1 (High)</td>\n",
       "      <td>636 N RACINE AVE</td>\n",
       "      <td>NaN</td>\n",
       "      <td>NaN</td>\n",
       "      <td>60642.0</td>\n",
       "      <td>2019-08-23T00:00:00.000</td>\n",
       "      <td>Canvass</td>\n",
       "      <td>Pass</td>\n",
       "      <td>55. PHYSICAL FACILITIES INSTALLED, MAINTAINED ...</td>\n",
       "      <td>41.893380</td>\n",
       "      <td>-87.657588</td>\n",
       "      <td>{'longitude': '41.893380429024546', 'latitude'...</td>\n",
       "      <td>NaN</td>\n",
       "    </tr>\n",
       "    <tr>\n",
       "      <th>3617</th>\n",
       "      <td>2304583</td>\n",
       "      <td>JCYS IRIS &amp; STEVEN PODOLSKY FAMILY CENTER</td>\n",
       "      <td>JCYS IRIS &amp; STEVEN PODOLSKY FAMILY CENTER</td>\n",
       "      <td>2671297.0</td>\n",
       "      <td>Children's Services Facility</td>\n",
       "      <td>Risk 1 (High)</td>\n",
       "      <td>2112 W LAWRENCE AVE</td>\n",
       "      <td>NaN</td>\n",
       "      <td>IL</td>\n",
       "      <td>60625.0</td>\n",
       "      <td>2019-08-13T00:00:00.000</td>\n",
       "      <td>License</td>\n",
       "      <td>Fail</td>\n",
       "      <td>3. MANAGEMENT, FOOD EMPLOYEE AND CONDITIONAL E...</td>\n",
       "      <td>41.968821</td>\n",
       "      <td>-87.682201</td>\n",
       "      <td>{'longitude': '41.968821253748864', 'latitude'...</td>\n",
       "      <td>NaN</td>\n",
       "    </tr>\n",
       "    <tr>\n",
       "      <th>...</th>\n",
       "      <td>...</td>\n",
       "      <td>...</td>\n",
       "      <td>...</td>\n",
       "      <td>...</td>\n",
       "      <td>...</td>\n",
       "      <td>...</td>\n",
       "      <td>...</td>\n",
       "      <td>...</td>\n",
       "      <td>...</td>\n",
       "      <td>...</td>\n",
       "      <td>...</td>\n",
       "      <td>...</td>\n",
       "      <td>...</td>\n",
       "      <td>...</td>\n",
       "      <td>...</td>\n",
       "      <td>...</td>\n",
       "      <td>...</td>\n",
       "      <td>...</td>\n",
       "    </tr>\n",
       "    <tr>\n",
       "      <th>194253</th>\n",
       "      <td>60291</td>\n",
       "      <td>CLOVERHILL PASTRY-VEND,LLC</td>\n",
       "      <td>CLOVERHILL PASTRY-VEND,LLC</td>\n",
       "      <td>2004357.0</td>\n",
       "      <td>Wholesale</td>\n",
       "      <td>Risk 3 (Low)</td>\n",
       "      <td>4464 W 44TH ST</td>\n",
       "      <td>NaN</td>\n",
       "      <td>IL</td>\n",
       "      <td>60632.0</td>\n",
       "      <td>2010-02-03T00:00:00.000</td>\n",
       "      <td>License Re-Inspection</td>\n",
       "      <td>Pass</td>\n",
       "      <td>NaN</td>\n",
       "      <td>41.814266</td>\n",
       "      <td>-87.736013</td>\n",
       "      <td>{'longitude': '41.81426627941673', 'latitude':...</td>\n",
       "      <td>NaN</td>\n",
       "    </tr>\n",
       "    <tr>\n",
       "      <th>194489</th>\n",
       "      <td>60282</td>\n",
       "      <td>CLOVERHILL PASTRY-VEND,LLC</td>\n",
       "      <td>CLOVERHILL PASTRY-VEND,LLC</td>\n",
       "      <td>2004357.0</td>\n",
       "      <td>Wholesale</td>\n",
       "      <td>Risk 3 (Low)</td>\n",
       "      <td>4464 W 44TH ST</td>\n",
       "      <td>NaN</td>\n",
       "      <td>IL</td>\n",
       "      <td>60632.0</td>\n",
       "      <td>2010-01-28T00:00:00.000</td>\n",
       "      <td>License</td>\n",
       "      <td>Fail</td>\n",
       "      <td>32. FOOD AND NON-FOOD CONTACT SURFACES PROPERL...</td>\n",
       "      <td>41.814266</td>\n",
       "      <td>-87.736013</td>\n",
       "      <td>{'longitude': '41.81426627941673', 'latitude':...</td>\n",
       "      <td>NaN</td>\n",
       "    </tr>\n",
       "    <tr>\n",
       "      <th>194610</th>\n",
       "      <td>60279</td>\n",
       "      <td>CLOVERHILL PASTRY-VEND,LLC</td>\n",
       "      <td>CLOVERHILL PASTRY-VEND,LLC</td>\n",
       "      <td>2004357.0</td>\n",
       "      <td>Wholesale</td>\n",
       "      <td>Risk 3 (Low)</td>\n",
       "      <td>4464 W 44TH ST</td>\n",
       "      <td>NaN</td>\n",
       "      <td>IL</td>\n",
       "      <td>60632.0</td>\n",
       "      <td>2010-01-27T00:00:00.000</td>\n",
       "      <td>License</td>\n",
       "      <td>Fail</td>\n",
       "      <td>NaN</td>\n",
       "      <td>41.814266</td>\n",
       "      <td>-87.736013</td>\n",
       "      <td>{'longitude': '41.81426627941673', 'latitude':...</td>\n",
       "      <td>NaN</td>\n",
       "    </tr>\n",
       "    <tr>\n",
       "      <th>195141</th>\n",
       "      <td>67912</td>\n",
       "      <td>THREE CHEFS RESTURANT</td>\n",
       "      <td>THREE CHEFS RESTURANT</td>\n",
       "      <td>2009471.0</td>\n",
       "      <td>Restaurant</td>\n",
       "      <td>Risk 1 (High)</td>\n",
       "      <td>8125 S HALSTED ST</td>\n",
       "      <td>NaN</td>\n",
       "      <td>IL</td>\n",
       "      <td>60620.0</td>\n",
       "      <td>2010-01-15T00:00:00.000</td>\n",
       "      <td>License Re-Inspection</td>\n",
       "      <td>Pass</td>\n",
       "      <td>NaN</td>\n",
       "      <td>41.746236</td>\n",
       "      <td>-87.643766</td>\n",
       "      <td>{'longitude': '41.74623627171974', 'latitude':...</td>\n",
       "      <td>NaN</td>\n",
       "    </tr>\n",
       "    <tr>\n",
       "      <th>195417</th>\n",
       "      <td>67807</td>\n",
       "      <td>SUN FOOD MART</td>\n",
       "      <td>SUN FOOD MART</td>\n",
       "      <td>2009479.0</td>\n",
       "      <td>Grocery Store</td>\n",
       "      <td>Risk 3 (Low)</td>\n",
       "      <td>3601 W CERMAK RD</td>\n",
       "      <td>NaN</td>\n",
       "      <td>IL</td>\n",
       "      <td>NaN</td>\n",
       "      <td>2010-01-11T00:00:00.000</td>\n",
       "      <td>License Re-Inspection</td>\n",
       "      <td>Pass</td>\n",
       "      <td>NaN</td>\n",
       "      <td>41.851553</td>\n",
       "      <td>-87.715059</td>\n",
       "      <td>{'longitude': '41.85155346052472', 'latitude':...</td>\n",
       "      <td>NaN</td>\n",
       "    </tr>\n",
       "  </tbody>\n",
       "</table>\n",
       "<p>161 rows × 18 columns</p>\n",
       "</div>"
      ],
      "text/plain": [
       "        Inspection ID                                   DBA Name  \\\n",
       "1669          2312774                 CHICAGO COLLEGIATE CHARTER   \n",
       "1879          2312540                 CHICAGO COLLEGIATE CHARTER   \n",
       "1903          2312545  JCYS IRIS & STEVEN PODOLSKY FAMILY CENTER   \n",
       "3073          2305166                  AMY BECK CAKE DESIGN, LLC   \n",
       "3617          2304583  JCYS IRIS & STEVEN PODOLSKY FAMILY CENTER   \n",
       "...               ...                                        ...   \n",
       "194253          60291                 CLOVERHILL PASTRY-VEND,LLC   \n",
       "194489          60282                 CLOVERHILL PASTRY-VEND,LLC   \n",
       "194610          60279                 CLOVERHILL PASTRY-VEND,LLC   \n",
       "195141          67912                      THREE CHEFS RESTURANT   \n",
       "195417          67807                              SUN FOOD MART   \n",
       "\n",
       "                                         AKA Name  License #  \\\n",
       "1669                   CHICAGO COLLEGIATE CHARTER  3846104.0   \n",
       "1879                   CHICAGO COLLEGIATE CHARTER  3846104.0   \n",
       "1903    JCYS IRIS & STEVEN PODOLSKY FAMILY CENTER  2671297.0   \n",
       "3073                    AMY BECK CAKE DESIGN, LLC  2079264.0   \n",
       "3617    JCYS IRIS & STEVEN PODOLSKY FAMILY CENTER  2671297.0   \n",
       "...                                           ...        ...   \n",
       "194253                 CLOVERHILL PASTRY-VEND,LLC  2004357.0   \n",
       "194489                 CLOVERHILL PASTRY-VEND,LLC  2004357.0   \n",
       "194610                 CLOVERHILL PASTRY-VEND,LLC  2004357.0   \n",
       "195141                      THREE CHEFS RESTURANT  2009471.0   \n",
       "195417                              SUN FOOD MART  2009479.0   \n",
       "\n",
       "                       Facility Type           Risk  \\\n",
       "1669                          School  Risk 1 (High)   \n",
       "1879                          School  Risk 1 (High)   \n",
       "1903    Children's Services Facility  Risk 1 (High)   \n",
       "3073                          Bakery  Risk 1 (High)   \n",
       "3617    Children's Services Facility  Risk 1 (High)   \n",
       "...                              ...            ...   \n",
       "194253                     Wholesale   Risk 3 (Low)   \n",
       "194489                     Wholesale   Risk 3 (Low)   \n",
       "194610                     Wholesale   Risk 3 (Low)   \n",
       "195141                    Restaurant  Risk 1 (High)   \n",
       "195417                 Grocery Store   Risk 3 (Low)   \n",
       "\n",
       "                           Address City State      Zip  \\\n",
       "1669    10909 S COTTAGE GROVE AVE   NaN    IL      NaN   \n",
       "1879    10909 S COTTAGE GROVE AVE   NaN    IL      NaN   \n",
       "1903          2112 W LAWRENCE AVE   NaN    IL  60625.0   \n",
       "3073             636 N RACINE AVE   NaN   NaN  60642.0   \n",
       "3617          2112 W LAWRENCE AVE   NaN    IL  60625.0   \n",
       "...                            ...  ...   ...      ...   \n",
       "194253             4464 W 44TH ST   NaN    IL  60632.0   \n",
       "194489             4464 W 44TH ST   NaN    IL  60632.0   \n",
       "194610             4464 W 44TH ST   NaN    IL  60632.0   \n",
       "195141          8125 S HALSTED ST   NaN    IL  60620.0   \n",
       "195417           3601 W CERMAK RD   NaN    IL      NaN   \n",
       "\n",
       "                Inspection Date        Inspection Type             Results  \\\n",
       "1669    2019-09-24T00:00:00.000  Canvass Re-Inspection  Pass w/ Conditions   \n",
       "1879    2019-09-19T00:00:00.000  Canvass Re-Inspection                Fail   \n",
       "1903    2019-09-19T00:00:00.000  License Re-Inspection                Pass   \n",
       "3073    2019-08-23T00:00:00.000                Canvass                Pass   \n",
       "3617    2019-08-13T00:00:00.000                License                Fail   \n",
       "...                         ...                    ...                 ...   \n",
       "194253  2010-02-03T00:00:00.000  License Re-Inspection                Pass   \n",
       "194489  2010-01-28T00:00:00.000                License                Fail   \n",
       "194610  2010-01-27T00:00:00.000                License                Fail   \n",
       "195141  2010-01-15T00:00:00.000  License Re-Inspection                Pass   \n",
       "195417  2010-01-11T00:00:00.000  License Re-Inspection                Pass   \n",
       "\n",
       "                                               Violations   Latitude  \\\n",
       "1669    3. MANAGEMENT, FOOD EMPLOYEE AND CONDITIONAL E...  41.696087   \n",
       "1879    3. MANAGEMENT, FOOD EMPLOYEE AND CONDITIONAL E...  41.696087   \n",
       "1903    38. INSECTS, RODENTS, & ANIMALS NOT PRESENT - ...  41.968821   \n",
       "3073    55. PHYSICAL FACILITIES INSTALLED, MAINTAINED ...  41.893380   \n",
       "3617    3. MANAGEMENT, FOOD EMPLOYEE AND CONDITIONAL E...  41.968821   \n",
       "...                                                   ...        ...   \n",
       "194253                                                NaN  41.814266   \n",
       "194489  32. FOOD AND NON-FOOD CONTACT SURFACES PROPERL...  41.814266   \n",
       "194610                                                NaN  41.814266   \n",
       "195141                                                NaN  41.746236   \n",
       "195417                                                NaN  41.851553   \n",
       "\n",
       "        Longitude                                           Location  \\\n",
       "1669   -87.608945  {'longitude': '41.696086647178035', 'latitude'...   \n",
       "1879   -87.608945  {'longitude': '41.696086647178035', 'latitude'...   \n",
       "1903   -87.682201  {'longitude': '41.968821253748864', 'latitude'...   \n",
       "3073   -87.657588  {'longitude': '41.893380429024546', 'latitude'...   \n",
       "3617   -87.682201  {'longitude': '41.968821253748864', 'latitude'...   \n",
       "...           ...                                                ...   \n",
       "194253 -87.736013  {'longitude': '41.81426627941673', 'latitude':...   \n",
       "194489 -87.736013  {'longitude': '41.81426627941673', 'latitude':...   \n",
       "194610 -87.736013  {'longitude': '41.81426627941673', 'latitude':...   \n",
       "195141 -87.643766  {'longitude': '41.74623627171974', 'latitude':...   \n",
       "195417 -87.715059  {'longitude': '41.85155346052472', 'latitude':...   \n",
       "\n",
       "        Community Areas  \n",
       "1669                NaN  \n",
       "1879                NaN  \n",
       "1903                NaN  \n",
       "3073                NaN  \n",
       "3617                NaN  \n",
       "...                 ...  \n",
       "194253              NaN  \n",
       "194489              NaN  \n",
       "194610              NaN  \n",
       "195141              NaN  \n",
       "195417              NaN  \n",
       "\n",
       "[161 rows x 18 columns]"
      ]
     },
     "execution_count": 12,
     "metadata": {},
     "output_type": "execute_result"
    }
   ],
   "source": [
    "#Investigate the state=nan and city=nan restaurants\n",
    "inspections[pd.isnull(inspections.State) | pd.isnull(inspections.City)]"
   ]
  },
  {
   "cell_type": "markdown",
   "metadata": {},
   "source": [
    "Looking at the coordinates of these places, all of them seem to also be in chicago, so we will fill their City and State columns"
   ]
  },
  {
   "cell_type": "code",
   "execution_count": 13,
   "metadata": {},
   "outputs": [],
   "source": [
    "inspections['City'] = inspections['City'].fillna('Chicago')\n",
    "inspections['State'] = inspections['State'].fillna('IL')"
   ]
  },
  {
   "cell_type": "markdown",
   "metadata": {},
   "source": [
    "Next, we check if there are any facilities which are not located in Chicago."
   ]
  },
  {
   "cell_type": "code",
   "execution_count": 14,
   "metadata": {},
   "outputs": [
    {
     "name": "stdout",
     "output_type": "stream",
     "text": [
      "Values taken by 'City':  ['CHICAGO' 'Chicago' 'chicago' 'GRIFFITH' 'NEW YORK' 'SCHAUMBURG'\n",
      " 'ELMHURST' 'ALGONQUIN' 'NEW HOLSTEIN' 'CCHICAGO' 'NILES NILES' 'EVANSTON'\n",
      " 'CHICAGO.' 'CHESTNUT STREET' 'LANSING' 'CHICAGOCHICAGO' 'WADSWORTH'\n",
      " 'WILMETTE' 'WHEATON' 'CHICAGOHICAGO' 'ROSEMONT' 'CHicago' 'CALUMET CITY'\n",
      " 'PLAINFIELD' 'HIGHLAND PARK' 'PALOS PARK' 'ELK GROVE VILLAGE' 'CICERO'\n",
      " 'BRIDGEVIEW' 'OAK PARK' 'MAYWOOD' 'LAKE BLUFF' '312CHICAGO'\n",
      " 'SCHILLER PARK' 'SKOKIE' 'BEDFORD PARK' 'BANNOCKBURNDEERFIELD' 'CHCICAGO'\n",
      " 'BLOOMINGDALE' 'Norridge' 'CHARLES A HAYES' 'CHCHICAGO' 'CHICAGOI'\n",
      " 'SUMMIT' 'OOLYMPIA FIELDS' 'WESTMONT' 'CHICAGO HEIGHTS' 'JUSTICE'\n",
      " 'TINLEY PARK' 'LOMBARD' 'EAST HAZEL CREST' 'COUNTRY CLUB HILLS'\n",
      " 'STREAMWOOD' 'BOLINGBROOK' 'INACTIVE' 'BERWYN' 'BURNHAM' 'DES PLAINES'\n",
      " 'LAKE ZURICH' 'OLYMPIA FIELDS' 'alsip' 'OAK LAWN' 'BLUE ISLAND' 'GLENCOE'\n",
      " 'FRANKFORT' 'NAPERVILLE' 'BROADVIEW' 'WORTH' 'Maywood' 'ALSIP'\n",
      " 'EVERGREEN PARK']\n"
     ]
    }
   ],
   "source": [
    "# make sure that our assumption is correct\n",
    "print('Values taken by \\'City\\': ', inspections['City'].unique())"
   ]
  },
  {
   "cell_type": "markdown",
   "metadata": {},
   "source": [
    "We can see that this column takes values which are not Chicago. The rows where the 'City' is not Chicago are hence irrelevent to our study and should be dropped. Let's first make sure tha the bulk of the data is for Chicago before proceeding"
   ]
  },
  {
   "cell_type": "code",
   "execution_count": 15,
   "metadata": {},
   "outputs": [
    {
     "name": "stdout",
     "output_type": "stream",
     "text": [
      "99.89668787463431% of the inpections in the dataframe come from Chicago.\n"
     ]
    }
   ],
   "source": [
    "chicago_inspections = inspections.groupby('City')['Inspection ID'].nunique().filter(regex='(?i)chicago', axis=0)\n",
    "print('{}% of the inpections in the dataframe come from Chicago.'.format(100 * chicago_inspections.values.sum()/len(inspections)))"
   ]
  },
  {
   "cell_type": "markdown",
   "metadata": {},
   "source": [
    "We can safely drop the rows which come from cities that are not Chicago."
   ]
  },
  {
   "cell_type": "code",
   "execution_count": 16,
   "metadata": {},
   "outputs": [],
   "source": [
    "# list of ways Chicago has been written in the dataset\n",
    "chicago_variations = chicago_inspections.index.tolist()\n",
    "inspections = inspections[inspections['City'].isin(chicago_variations)]\n",
    "# drop the 'City' and 'State' columns since they have each only one value, 'Chicago' and 'IL' respectively\n",
    "inspections = inspections.drop(columns=['City', 'State'])"
   ]
  },
  {
   "cell_type": "markdown",
   "metadata": {},
   "source": [
    "Now that we only have facilities in Chicago in our dataset, let us fill the 'Community Areas' column. To that end, we use the geopy library."
   ]
  },
  {
   "cell_type": "markdown",
   "metadata": {},
   "source": [
    "We start by getting the unique locations in the dataset."
   ]
  },
  {
   "cell_type": "code",
   "execution_count": 17,
   "metadata": {},
   "outputs": [],
   "source": [
    "# def getareanneighbourhood(coord):\n",
    "#     \"\"\"\n",
    "    \n",
    "#     \"\"\"\n",
    "#     geolocator = Nominatim(timeout=10,user_agent=\"area_filler\")\n",
    "#     geocode = RateLimiter(geolocator.geocode, min_delay_seconds=1)\n",
    "#     dic = geocode.reverse(coord).raw['address']\n",
    "#     return dic.get('suburb', np.nan), dic.get('neighbourhood', np.nan)\n",
    "\n",
    "def combineloc(latitude, longitude):\n",
    "    \"\"\"\n",
    "    function to format the latitude and longitude such that they can be used in geopy requests\n",
    "    \"\"\"\n",
    "    return '{}, {}'.format(latitude, longitude)"
   ]
  },
  {
   "cell_type": "code",
   "execution_count": 18,
   "metadata": {},
   "outputs": [],
   "source": [
    "locations = inspections['Latitude'].dropna().combine(inspections['Longitude'].dropna(),combineloc)\n",
    "unique_locs = locations.unique()"
   ]
  },
  {
   "cell_type": "code",
   "execution_count": 19,
   "metadata": {},
   "outputs": [
    {
     "data": {
      "text/plain": [
       "array(['41.92799528871574, -87.78575236468352',\n",
       "       '41.946140053442825, -87.73518301995274',\n",
       "       '41.93592957402078, -87.64440716256712', ...,\n",
       "       '41.764896400247046, -87.65396483351302',\n",
       "       '41.768328334800714, -87.67381938402686',\n",
       "       '41.846516428599394, -87.69542345938575'], dtype=object)"
      ]
     },
     "execution_count": 19,
     "metadata": {},
     "output_type": "execute_result"
    }
   ],
   "source": [
    "unique_locs"
   ]
  },
  {
   "cell_type": "code",
   "execution_count": 20,
   "metadata": {},
   "outputs": [
    {
     "data": {
      "text/plain": [
       "16812"
      ]
     },
     "execution_count": 20,
     "metadata": {},
     "output_type": "execute_result"
    }
   ],
   "source": [
    "len(unique_locs)"
   ]
  },
  {
   "cell_type": "code",
   "execution_count": 21,
   "metadata": {},
   "outputs": [],
   "source": [
    "unique_locs_s = pd.Series(unique_locs, dtype=str)"
   ]
  },
  {
   "cell_type": "markdown",
   "metadata": {},
   "source": [
    "We then request the geopy entry for the locations we have (code takes 4h40 to run as we can only do one geopy query per second) and save the areas in a pickle."
   ]
  },
  {
   "cell_type": "code",
   "execution_count": 22,
   "metadata": {
    "scrolled": false
   },
   "outputs": [],
   "source": [
    "# geolocator = Nominatim(timeout=17000,user_agent=\"area_filler\")\n",
    "# geocode = RateLimiter(geolocator.reverse, min_delay_seconds=1)\n",
    "# # for i in unique_locs:\n",
    "# #     print(i)\n",
    "# #     print(geolocator.reverse(i))\n",
    "# areas = unique_locs_s.copy().apply(geocode)\n",
    "# areas.to_pickle('./areas')"
   ]
  },
  {
   "cell_type": "code",
   "execution_count": 23,
   "metadata": {},
   "outputs": [],
   "source": [
    "areas = pd.read_pickle('./areas.pickle')"
   ]
  },
  {
   "cell_type": "code",
   "execution_count": 24,
   "metadata": {},
   "outputs": [
    {
     "data": {
      "text/plain": [
       "Location(Lincoln & Winnemac, North Lincoln Avenue, Bowmanville, Lincoln Square, Chicago, Cook County, Illinois, 60625, United States of America, (41.972873, -87.691192, 0.0))"
      ]
     },
     "execution_count": 24,
     "metadata": {},
     "output_type": "execute_result"
    }
   ],
   "source": [
    "areas[4]"
   ]
  },
  {
   "cell_type": "code",
   "execution_count": 25,
   "metadata": {},
   "outputs": [
    {
     "data": {
      "text/plain": [
       "0"
      ]
     },
     "execution_count": 25,
     "metadata": {},
     "output_type": "execute_result"
    }
   ],
   "source": [
    "areas.isna().sum()"
   ]
  },
  {
   "cell_type": "markdown",
   "metadata": {},
   "source": [
    "Let's add the community areas and neighborhoods to the dataframe."
   ]
  },
  {
   "cell_type": "code",
   "execution_count": 26,
   "metadata": {},
   "outputs": [],
   "source": [
    "# get latitude, longitude and corresponding community area and neighbourhood in same dataframe\n",
    "suburbs_neighbourhoods = [(x.raw.get('address', {}).get('suburb',np.nan), x.raw.get('address', {}).get('neighbourhood',np.nan)) for x in areas]\n",
    "suburbs, neighbourhoods = zip(*suburbs_neighbourhoods)\n",
    "locs_df = pd.concat([pd.Series(unique_locs, name='Location'), pd.Series(suburbs,name='Community Area'), pd.Series(neighbourhoods,name='Neighbourhood')], axis=1)"
   ]
  },
  {
   "cell_type": "code",
   "execution_count": 27,
   "metadata": {},
   "outputs": [],
   "source": [
    "# add the community area and the neighbourhood to each entry in our dataframe\n",
    "inspections['Location'] = inspections['Latitude'].combine(inspections['Longitude'],combineloc)\n",
    "inspections = inspections.merge(locs_df,on='Location',how='outer')\n",
    "inspections = inspections.drop(columns=['Community Areas'])"
   ]
  },
  {
   "cell_type": "markdown",
   "metadata": {},
   "source": [
    "Let's check if there are any NaN entries in our 'Community Area' column"
   ]
  },
  {
   "cell_type": "code",
   "execution_count": 28,
   "metadata": {},
   "outputs": [
    {
     "name": "stdout",
     "output_type": "stream",
     "text": [
      "96.80783526689261% of rows don't have missing Community Areas\n"
     ]
    }
   ],
   "source": [
    "print('{}% of rows don\\'t have missing Community Areas'.format(100 * (1 - inspections['Community Area'].isna().sum()/len(inspections))))"
   ]
  },
  {
   "cell_type": "markdown",
   "metadata": {},
   "source": [
    "We may safely drop the rows which have null 'Community Area'."
   ]
  },
  {
   "cell_type": "code",
   "execution_count": 29,
   "metadata": {},
   "outputs": [],
   "source": [
    "inspections = inspections[inspections['Community Area'].notna()]"
   ]
  },
  {
   "cell_type": "markdown",
   "metadata": {},
   "source": [
    "### C. Check which columns still have missing values (& bug ?)"
   ]
  },
  {
   "cell_type": "markdown",
   "metadata": {},
   "source": [
    "Let's check if there are anymore missing values in the dataframe."
   ]
  },
  {
   "cell_type": "code",
   "execution_count": 30,
   "metadata": {},
   "outputs": [
    {
     "data": {
      "text/plain": [
       "Inspection ID                        0.0% missing values\n",
       "DBA Name                             0.0% missing values\n",
       "AKA Name               1.254977867330911% missing values\n",
       "License #           0.008990570478139693% missing values\n",
       "Facility Type         2.4538968834451866% missing values\n",
       "Risk                 0.03596228191255877% missing values\n",
       "Address                              0.0% missing values\n",
       "Zip                   0.0248562830866215% missing values\n",
       "Inspection Date                      0.0% missing values\n",
       "Inspection Type    0.0005288570869493936% missing values\n",
       "Results                              0.0% missing values\n",
       "Violations            26.588290046380767% missing values\n",
       "Latitude                             0.0% missing values\n",
       "Longitude                            0.0% missing values\n",
       "Location                             0.0% missing values\n",
       "Community Area                       0.0% missing values\n",
       "Neighbourhood         16.818713079164617% missing values\n",
       "dtype: object"
      ]
     },
     "execution_count": 30,
     "metadata": {},
     "output_type": "execute_result"
    }
   ],
   "source": [
    "inspections.isna().sum().apply(lambda x: '{}% missing values'.format(100 * x/len(inspections)))"
   ]
  },
  {
   "cell_type": "code",
   "execution_count": 31,
   "metadata": {},
   "outputs": [
    {
     "name": "stdout",
     "output_type": "stream",
     "text": [
      "Number of missing inspections ID:  0\n"
     ]
    }
   ],
   "source": [
    "missing_inspections = inspections[inspections['Inspection ID'].isnull()]\n",
    "print(\"Number of missing inspections ID: \", len(missing_inspections))"
   ]
  },
  {
   "cell_type": "code",
   "execution_count": 32,
   "metadata": {},
   "outputs": [],
   "source": [
    "inspections.dropna(subset=['Inspection ID'],inplace = True)"
   ]
  },
  {
   "cell_type": "code",
   "execution_count": 33,
   "metadata": {},
   "outputs": [
    {
     "data": {
      "text/plain": [
       "Inspection ID                        0.0% missing values\n",
       "DBA Name                             0.0% missing values\n",
       "AKA Name               1.254977867330911% missing values\n",
       "License #           0.008990570478139693% missing values\n",
       "Facility Type         2.4538968834451866% missing values\n",
       "Risk                 0.03596228191255877% missing values\n",
       "Address                              0.0% missing values\n",
       "Zip                   0.0248562830866215% missing values\n",
       "Inspection Date                      0.0% missing values\n",
       "Inspection Type    0.0005288570869493936% missing values\n",
       "Results                              0.0% missing values\n",
       "Violations            26.588290046380767% missing values\n",
       "Latitude                             0.0% missing values\n",
       "Longitude                            0.0% missing values\n",
       "Location                             0.0% missing values\n",
       "Community Area                       0.0% missing values\n",
       "Neighbourhood         16.818713079164617% missing values\n",
       "dtype: object"
      ]
     },
     "execution_count": 33,
     "metadata": {},
     "output_type": "execute_result"
    }
   ],
   "source": [
    "inspections.isna().sum().apply(lambda x: '{}% missing values'.format(100 * x/len(inspections)))"
   ]
  },
  {
   "cell_type": "markdown",
   "metadata": {},
   "source": [
    "* The AKA names still have missing entries. We will replace those with the DBA name because we will need those for our recommendation map later on, and it make more sense to display the AKA names for the users. However will be  mostly sticking to the DBA Name when referring to establishments.\n",
    "* The Lisence Number is missing for some entries. Seeing as it is not essential in our main analysis we will not pay attention to it for now.\n",
    "* The missing Zip entries are not important as we have enough information regarding location (latitude, longitude, community area and address). Hence we can safely drop this column.\n",
    "* The number of missing neighbourhoods is quite big. Hence, we may drop that column as well.\n",
    "* We will try to recover the missing facility type from the restaurant's name using other entries where the name is the same and the type is filled in.\n",
    "* We will see if the missing violations entries are consistent and have something to do with the inspection type and inspection results.\n",
    "* The fraction of the data with missing Inspection Type represent a really small fraction in our dataset. Hence we can safely drop those entries.\n",
    "* Missing values of Risk is the only ones that might hinder our analysis. We will try to recover those using the restaurant's name and other filled in entries. For the values that we cannot recover, we drop the corresponding entries."
   ]
  },
  {
   "cell_type": "markdown",
   "metadata": {},
   "source": [
    "### D. Drop unneeded columns"
   ]
  },
  {
   "cell_type": "code",
   "execution_count": 34,
   "metadata": {},
   "outputs": [],
   "source": [
    "# drop neighbourhood and zip columns\n",
    "inspections = inspections.drop(columns=['Neighbourhood','Zip'])"
   ]
  },
  {
   "cell_type": "markdown",
   "metadata": {},
   "source": [
    "### E. Clean Facility Type column"
   ]
  },
  {
   "cell_type": "markdown",
   "metadata": {},
   "source": [
    "We first examine the facility type entries."
   ]
  },
  {
   "cell_type": "code",
   "execution_count": 35,
   "metadata": {},
   "outputs": [
    {
     "data": {
      "text/plain": [
       "array(['Restaurant', nan, 'Grocery Store', \"Children's Services Facility\",\n",
       "       'COFFEE SHOP', 'Liquor', 'Catering', 'Daycare (2 - 6 Years)',\n",
       "       'Daycare Above and Under 2 Years', 'Bakery', 'Airport Lounge',\n",
       "       \"O'Hare Kiosk\", 'Lounge', 'STORE', 'BEVERAGE/SILVERWARE WAREHOUSE',\n",
       "       'VENDING MACHINE', 'KIOSK', 'Mobile Food Dispenser',\n",
       "       'TEMPORARY KIOSK', 'School',\n",
       "       'Pop-Up Food Establishment User-Tier II',\n",
       "       '15 monts to 5 years old', 'Daycare Combo 1586', 'LIVE POULTRY',\n",
       "       'CONVENIENCE', 'GAS STATION/GROCERY',\n",
       "       'GAS STATION/CONVENIENCE STORE', 'Daycare (Under 2 Years)',\n",
       "       'COFFEE CART', 'Day Care Combo (1586)', 'CHARTER SCHOOL',\n",
       "       \"1023 CHILDERN'S SERVICE S FACILITY\", 'Long Term Care',\n",
       "       'LIQUOR/COFFEE KIOSK', 'Mobile Food Preparer', 'MOBILE FOOD',\n",
       "       'Mobile Prepared Food Vendor', 'Shared Kitchen User (Long Term)',\n",
       "       'Wholesale', 'Pop-Up Establishment Host-Tier II',\n",
       "       'TEACHING SCHOOL', 'CONVENIENCE STORE', 'FRENCH MARKET SPACE',\n",
       "       'HOT DOG CART', 'ICE CREAM', 'ICE CREAM PARLOR', 'THEATER',\n",
       "       'Special Event', 'tavern', 'PALETERIA',\n",
       "       'Mobile Frozen Desserts Vendor', 'Shared Kitchen',\n",
       "       'Shared Kitchen User (Short Term)', 'Catering and Wholesale',\n",
       "       'MOBILE DESSERT VENDOR', 'CANDY MAKER', 'Candy', 'incubator',\n",
       "       'TAVERN', 'bar', 'BAKERY/DELI', 'BREWERY', 'Hospital',\n",
       "       'RESTAURANT/BAR', 'Museum/Gallery', 'GYM', 'Pool', 'BANQUET',\n",
       "       'Golden Diner', 'GROCERY STORE /PHARMACY', 'ASSISTED LIVING',\n",
       "       'cooking school', 'PRIVATE SCHOOL', 'EXERCISE AND NUTRITION BAR',\n",
       "       'Herabalife', 'GAS STATION', 'RETAIL', 'Daycare (2 Years)',\n",
       "       'COOKING SCHOOL', 'CHICAGO PARK DISTRICT',\n",
       "       'CHARTER SCHOOL/CAFETERIA', 'Grocery(Sushi prep)',\n",
       "       'CONVENIENT STORE', 'SUSHI COUNTER', 'Daycare Night',\n",
       "       'AFTER SCHOOL PROGRAM', 'BANQUET HALL', 'DOLLAR TREE',\n",
       "       'Navy Pier Kiosk', 'theater', 'Shelter', 'GROCERY/RESTAURANT',\n",
       "       'NURSING HOME', 'FITNESS CENTER', 'DAYCARE', 'GELATO SHOP',\n",
       "       'Banquet', 'EVENT SPACE', 'ART GALLERY W/WINE AND BEER',\n",
       "       'Grocery & Restaurant', 'COMMISARY RESTAURANT',\n",
       "       'RESTAURANT/LIQUOR', 'DOLLAR STORE WITH GROCERY',\n",
       "       'GROCERY STORE/COOKING SCHOOL', 'CHURCH (SPECIAL EVENTS)',\n",
       "       'THEATRE', 'ICE CREAM SHOP', 'HERBAL LIFE', 'RIVERWALK CAFE',\n",
       "       'Tavern', 'WRIGLEY ROOFTOP', 'convenience', 'ROOFTOP', 'ROOFTOPS',\n",
       "       'MOVIE THEATRE', 'NP-KIOSK', 'COMMIASARY', 'CATERED LIQUOR',\n",
       "       'SENIOR DAY CARE', 'Banquet Hall', 'GROCERY STORE/BAKERY',\n",
       "       'GROCERY/CAFE', 'smoothie bar', 'CANDY/GELATO', 'candy/gelato',\n",
       "       'ROOF TOPS', 'PHARMACY', 'Other', 'ROOF TOP', 'REST/ROOFTOP',\n",
       "       'Pop-Up Food Establishment User-Tier III',\n",
       "       \"1023-CHILDREN'S SERVICES FACILITY\", 'DISTRIBUTION CENTER',\n",
       "       'Banquet/kitchen', 'MOVIE THEATER', 'MOBILE FOOD TRUCK',\n",
       "       'GROCERY AND BUTCHER', 'grocery/butcher', 'BAR',\n",
       "       'convenience store', 'STADIUM', 'Deli', 'CULINARY SCHOOL',\n",
       "       'GROCERY/TAVERN', 'CHURCH KITCHEN', 'DELI/BAKERY',\n",
       "       'weight loss program', 'WEIGHT LOSS PROGRAM',\n",
       "       \"1023 CHILDERN'S SERVICES FACILITY\", 'COMMISSARY', 'GROCERY/DELI',\n",
       "       'Long-Term Care', 'LONG TERM CARE FACILITY', 'TAVERN/STORE',\n",
       "       'GAS STATION /SUBWAY MINI MART.', 'GROCERY/SERVICE GAS STATION',\n",
       "       'SUPPORTIVE LIVING', 'NORTHERLY ISLAND', 'RESTAURANT/GAS STATION',\n",
       "       'FROZEN DESSERT PUSHCARTS', 'CHURCH', 'TEA BREWING',\n",
       "       'HEALTH/ JUICE BAR', '(gas station)', 'BANQUET HALL/CATERING',\n",
       "       'POULTRY SLAUGHTER', 'Poultry Slaughter',\n",
       "       'CUSTOM POULTRY SLAUGHTER',\n",
       "       'Mobile Frozen Dessert Disp/Non-motorized', 'TEA STORE',\n",
       "       'RETAIL STORE OFFERS COOKING CLASSES', 'DINING HALL',\n",
       "       'Theater & Restaurant', 'grocery & restaurant', 'GYM STORE',\n",
       "       'CHURCH/SPECIAL EVENTS', 'Assisted Living', 'Internet Cafe',\n",
       "       'ADULT DAYCARE', 'SLAUGHTER HOUSE/ GROCERY', 'CAT/LIQUOR',\n",
       "       'cafeteria', 'grocery', 'GROCERY/BAKERY', 'Live Poultry',\n",
       "       'Wrigley Roof Top', 'CULINARY CLASS ROOMS', 'COLLEGE',\n",
       "       'HELICOPTER TERMINAL', 'CANDY SHOP', 'HEALTH CARE STORE',\n",
       "       \"1023 CHILDERN'S SERVICE FACILITY\", 'Illegal Vendor', 'HERBALIFE',\n",
       "       'Church', 'DAY CARE 2-14', 'DAY CARE', 'MOBILE DESSERTS VENDOR',\n",
       "       'GROCERY STORE/TAQUERIA', '1475 LIQUOR', 'dollar store',\n",
       "       'MOBILPREPARED FOOD VENDOR', 'Food Pantry', 'CHINESE HERBS',\n",
       "       'VENDING COMMISSARY', 'CHARTER SCHOOL CAFETERIA',\n",
       "       'RESTAURANT/BAKERY', 'ASSISTED LIVING FACILITY',\n",
       "       'RESTAURANT/GROCERY STORE', 'PUBLIC SHCOOL', 'EVENT VENU',\n",
       "       'SCHOOL', 'donut shop', \"FARMER'S MARKET\", 'BAKERY/ RESTAURANT',\n",
       "       'DAYCARE 2-6, UNDER 6', 'Private School', 'MAIN KITCHEN',\n",
       "       'HERBAL MEDICINE', 'MOBILE FROZEN DESSERTS VENDOR', 'CAFETERIA',\n",
       "       'employee kitchen', 'Convenience Store',\n",
       "       'PALETERIA /ICECREAM SHOP', 'bakery/restaurant', 'TAVERN GRILL',\n",
       "       'PREP INSIDE SCHOOL', 'GROCERY STORE/ RESTAURANT',\n",
       "       'School Cafeteria', 'GROCERY(GAS STATION)', 'gas station',\n",
       "       'Long-Term Care Facility', 'ASSISSTED LIVING', 'BANQUET ROOM',\n",
       "       'GROCERY STORE/GAS STATION', 'DOLLAR STORE', 'BREWPUB',\n",
       "       'SUPPORTIVE LIVING FACILITY', 'RESTAURANT/HOSPITAL',\n",
       "       'DAY CARE 1023', '1005 NURSING HOME', 'TOBACCO STORE',\n",
       "       'COFFEE ROASTER', 'DISTRIBUTOR', 'GROCERY/ RESTAURANT',\n",
       "       'video store', 'DAYCARE COMBO', 'JUICE BAR',\n",
       "       'PACKAGED HEALTH FOODS', 'Cafeteria',\n",
       "       'LIQUOR CONSUMPTION ON PREMISES.', 'MEXICAN CANDY STORE',\n",
       "       'night club', 'TAVERN-LIQUOR', 'CULINARY ARTS SCHOOL',\n",
       "       'school cafeteria', 'PANTRY', 'PEDDLER', 'CAFE/STORE',\n",
       "       'POPCORN SHOP', 'Long Term Care Facility', 'BANQUET FACILITY',\n",
       "       'Animal Shelter Cafe Permit', 'ROOFTOP PATIO', 'REHAB CENTER',\n",
       "       'drug treatment facility', 'GROCERY/GAS STATION', 'DAYCARE 1586',\n",
       "       'FITNESS STUDIO', 'PRODUCE STAND', 'PRODUCE VENDOR',\n",
       "       'GAS STATION/STORE', 'DRUG STORE', 'Assisted Living Senior Care',\n",
       "       'AFTER SCHOOL CARE', 'ROOM SERVICE', 'banquets', 'GOLF COURSE',\n",
       "       'Banquet Dining', 'RIVERWALK', 'youth housing',\n",
       "       'banquets/room service', 'HOTEL',\n",
       "       'A-Not-For-Profit Chef Training Program',\n",
       "       'RESTAURANT.BANQUET HALLS', 'grocery/dollar store',\n",
       "       'CITY OF CHICAGO COLLEGE', 'CHARITY AID KITCHEN', 'coffee shop',\n",
       "       'HERBALCAL', 'PASTRY school', 'PREPACAKAGED FOODS', 'SHAKES/TEAS',\n",
       "       'CLOTHING STORE', 'GROCERY', 'Shuffleboard Club with Bar',\n",
       "       'COFFEE KIOSK', 'WAREHOUSE', 'PUSH CARTS', 'BUTCHER SHOP',\n",
       "       'butcher shop', 'UNIVERSITY CAFETERIA', 'Laundromat',\n",
       "       'DAYCARE 2 YRS TO 12 YRS', 'HERBALIFE STORE', 'Coffee shop',\n",
       "       'COLD/FROZEN FOOD STORAGE', 'Rest/GYM', 'FURNITURE STORE',\n",
       "       'GROCERY& RESTAURANT', 'GAS STATION/MINI MART',\n",
       "       'JUICE AND SALAD BAR', 'BEFORE AND AFTER SCHOOL PROGRAM',\n",
       "       'HERBAL LIFE SHOP', 'Nutrition Store', 'tavern/restaurant',\n",
       "       'CANDY STORE', 'meat packing', 'LOUNGE/BANQUET HALL',\n",
       "       'ALTERNATIVE SCHOOL', 'fish market', 'GAS STATION/FOOD',\n",
       "       'RETAIL WINE/WINE BAR', 'SPA', 'Mobile frozen dessert vendor',\n",
       "       'Banquet rooms', 'POPCORN CORN', 'HOSTEL', 'HERBAL DRINKS',\n",
       "       'COFFEE  SHOP', 'Herbalife Nutrition', 'LIQOUR BREWERY TASTING',\n",
       "       'Gift Shop', 'SUMMER FEEDING PREP AREA', 'convenience/drug store',\n",
       "       'REST/GROCERY', 'DELI/GROCERY STORE', 'LINITED BUSINESS',\n",
       "       'WHOLESALE & RETAIL', 'GROCERY/DRUG STORE',\n",
       "       'MOBILE FROZEN DESSERTS DISPENSER-NON-MOTORIZED',\n",
       "       'FROZEN DESSERTS DISPENSER-NON-MOTORIZED', 'HERBALIFE/ZUMBA',\n",
       "       'Restaurant(protein shake bar)', 'PRE PACKAGED', 'HOT DOG STATION',\n",
       "       'DRUG STORE/W/ FOOD', 'KITCHEN DEMO', 'RESTAURANT/BAR/THEATER',\n",
       "       'TRUCK', 'RESTAURANT AND LIQUOR', 'COFFEE/TEA',\n",
       "       \"CHILDERN'S SERVICES  FACILITY\", 'RETAIL STORE', 'fitness center',\n",
       "       'HEALTH CENTER', 'DAYCARE 6 WKS-5YRS',\n",
       "       'GOLF COURSE CONNCESSION STAND',\n",
       "       'COMMISSARY FOR SOFT SERVE ICE CREAM TRUCKS',\n",
       "       'DOLLAR & GROCERY STORE', 'SOCIAL CLUB', 'GAS', 'newsstand',\n",
       "       'GAS STATION/RESTAURANT', 'snack shop', 'SMOKEHOUSE', '1023',\n",
       "       'TAP room/tavern/liquor store', 'ART GALLERY',\n",
       "       'MOBILE FROZEN DESSERT VENDOR',\n",
       "       'Mobile Frozen Dessert Dispenser_non  Motorized.',\n",
       "       'FROZEN DESSERTS DISPENSER -NON MOTORIZED',\n",
       "       'MOBILE FROZEN DESSERTS DISPENSER-NON-MOTOR',\n",
       "       'MOBILE FROZEN DESSERTS DISPENSER-NON- MOTORIZED',\n",
       "       'PROTEIN SHAKE BAR', 'NIGHT CLUB', 'GAS STATION/STORE GROCERY',\n",
       "       'LIQUOR STORE', 'HERBAL', 'DRUG/FOOD STORE', 'SERVICE BAR/THEATRE',\n",
       "       'RETAIL FOOD/GAS STATION', 'GROCERY STORE / GAS STATION',\n",
       "       'URBAN FARM', 'MASSAGE BAR', 'CELL PHONE STORE', 'HERBAL REMEDY',\n",
       "       'GROCERY STORE/DELI', 'NUTRITION/HERBALIFE',\n",
       "       'CONVENIENCE/GAS STATION', 'Adult Family Care Center',\n",
       "       'BOWLING LANES/BANQUETS', '(convenience store)', 'UNUSED STORAGE',\n",
       "       'PACKAGED LIQUOR', 'MOBILE FOOD DESSERTS VENDOR', 'Dollar store',\n",
       "       'GROCERY/LIQUOR STORE', 'DRUG/GROCERY STORE', 'VFW HALL',\n",
       "       'GAS STATION/ GROCERY STORE', 'WINE STORE',\n",
       "       'PACKAGED FOOD DISTRIBUTION', 'MUSIC VENUE', 'BAKERY/GROCERY',\n",
       "       'HEALTH CENTER/NUTRITION CLASSES', 'RESTAURANT/GROCERY',\n",
       "       'watermelon house', 'BAR/GRILL', '1584-DAY CARE ABOVE 2 YEARS',\n",
       "       'CATERING/CAFE', 'pharmacy/grocery', 'DRUG STORE/GROCERY',\n",
       "       'Social Club', 'WINE TASTING BAR', 'day spa', 'coffee',\n",
       "       'CATERED EVENTS', 'CHILDERN ACTIVITY FACILITY', 'NON -PROFIT',\n",
       "       'GAS STATION /GROCERY', 'banquet hall', 'REPACKAGING PLANT',\n",
       "       'NEWSSTAND', 'THEATER/BAR', 'BOOK STORE', 'RESTUARANT AND BAR',\n",
       "       'Gas station', 'CAR WASH', 'CAFE', 'CONVNIENCE STORE',\n",
       "       'TENT RSTAURANT', 'TAVERN/RESTAURANT', 'TAVERN/1006',\n",
       "       'SERVICE GAS STATION', 'HERBAL STORE', 'BOYS AND GIRLS CLUB',\n",
       "       'Tavern/Bar', 'Ice cream', 'warehouse', 'LAUNDROMAT',\n",
       "       'LIQUORE STORE/BAR', 'GROCERY/TAQUERIA', 'blockbuster video',\n",
       "       'Church Kitchen', 'SUMMER FEEDING', 'CHURCH/DAY CARE',\n",
       "       'MOBIL FOOD 1315', 'NAIL SHOP', 'DOLLAR STORE SELLING GROCERY',\n",
       "       'NON-FOR PROFIT BASEMENT KIT', 'after school program',\n",
       "       'NOT FOR PROFIT', 'live butcher', 'Meat Market',\n",
       "       'SHARED KITCHEN USER (LONG TREM)', 'FOOD PANTRY',\n",
       "       'FOOD PANTRY/CHURCH', 'CHURCH/AFTER SCHOOL PROGRAM',\n",
       "       'unlicensed facility', 'GROCERY & RESTAURANT', 'GENERAL STORE',\n",
       "       'HOOKA BAR', 'KIDS CAFE',\n",
       "       'PREPACKAGE MEAL DISTRIBUTOR (1006 Retail)',\n",
       "       'GIFT/CARD SHOP WITH CANDY', 'COFFEE VENDING MACHINE',\n",
       "       'GROCERY/LIQUOR', 'UNLICENSED FACILITY', 'SOUP KITCHEN',\n",
       "       'hooka lounge', 'religious', 'TAVERN/LIQUOR', 'WHOLESALE BAKERY',\n",
       "       \"Kids Cafe'\"], dtype=object)"
      ]
     },
     "execution_count": 35,
     "metadata": {},
     "output_type": "execute_result"
    }
   ],
   "source": [
    "inspections['Facility Type'].unique()"
   ]
  },
  {
   "cell_type": "markdown",
   "metadata": {},
   "source": [
    "We notice that some facility types are missing, and that some establishments have multiple facility types. Moreover, there seems to be too many facility types and some of them are misspelled. \n",
    "\n",
    "Let us first limit the number of facility type per establishment to 1 and correct spelling mistakes."
   ]
  },
  {
   "cell_type": "code",
   "execution_count": 36,
   "metadata": {},
   "outputs": [],
   "source": [
    "spell = Speller(lang='en')\n",
    "inspections['Facility Type'] = inspections['Facility Type'].str.lower().apply(lambda x: spell(str(x))).apply(lambda x: re.sub(',|&|;','/',str(x)).split('/')[0])"
   ]
  },
  {
   "cell_type": "markdown",
   "metadata": {},
   "source": [
    "Now let us see if one establishment can have multiple facility types for each inspection."
   ]
  },
  {
   "cell_type": "code",
   "execution_count": 37,
   "metadata": {},
   "outputs": [
    {
     "name": "stderr",
     "output_type": "stream",
     "text": [
      "/Users/andrealphonse/anaconda/lib/python3.6/site-packages/ipykernel_launcher.py:4: FutureWarning: using a dict on a Series for aggregation\n",
      "is deprecated and will be removed in a future version. Use                 named aggregation instead.\n",
      "\n",
      "    >>> grouper.agg(name_1=func_1, name_2=func_2)\n",
      "\n",
      "  after removing the cwd from sys.path.\n"
     ]
    },
    {
     "name": "stdout",
     "output_type": "stream",
     "text": [
      "Possible number of different Facility Types for some establishment :  [1 2 4 3 6 7 5 9]\n"
     ]
    },
    {
     "data": {
      "text/html": [
       "<div>\n",
       "<style scoped>\n",
       "    .dataframe tbody tr th:only-of-type {\n",
       "        vertical-align: middle;\n",
       "    }\n",
       "\n",
       "    .dataframe tbody tr th {\n",
       "        vertical-align: top;\n",
       "    }\n",
       "\n",
       "    .dataframe thead th {\n",
       "        text-align: right;\n",
       "    }\n",
       "</style>\n",
       "<table border=\"1\" class=\"dataframe\">\n",
       "  <thead>\n",
       "    <tr style=\"text-align: right;\">\n",
       "      <th></th>\n",
       "      <th>nbr_types</th>\n",
       "      <th>possible_types</th>\n",
       "    </tr>\n",
       "    <tr>\n",
       "      <th>DBA Name</th>\n",
       "      <th></th>\n",
       "      <th></th>\n",
       "    </tr>\n",
       "  </thead>\n",
       "  <tbody>\n",
       "    <tr>\n",
       "      <th>7-ELEVEN</th>\n",
       "      <td>4</td>\n",
       "      <td>{nan, liquor, grocery store, restaurant}</td>\n",
       "    </tr>\n",
       "    <tr>\n",
       "      <th>ALASKA PALETERIA Y NEVERIA</th>\n",
       "      <td>3</td>\n",
       "      <td>{mobile frozen desserts dispenser-non-motorize...</td>\n",
       "    </tr>\n",
       "    <tr>\n",
       "      <th>ALL ABOUT KIDS LEARNING ACADEMY</th>\n",
       "      <td>3</td>\n",
       "      <td>{children's services facility, daycare combo 1...</td>\n",
       "    </tr>\n",
       "    <tr>\n",
       "      <th>ARAMARK</th>\n",
       "      <td>6</td>\n",
       "      <td>{nan, school, coffee shop, special event, nort...</td>\n",
       "    </tr>\n",
       "    <tr>\n",
       "      <th>ARAMARK EDUCATION SERVICES</th>\n",
       "      <td>3</td>\n",
       "      <td>{charter school, school, restaurant}</td>\n",
       "    </tr>\n",
       "  </tbody>\n",
       "</table>\n",
       "</div>"
      ],
      "text/plain": [
       "                                 nbr_types  \\\n",
       "DBA Name                                     \n",
       "7-ELEVEN                                 4   \n",
       "ALASKA PALETERIA Y NEVERIA               3   \n",
       "ALL ABOUT KIDS LEARNING ACADEMY          3   \n",
       "ARAMARK                                  6   \n",
       "ARAMARK EDUCATION SERVICES               3   \n",
       "\n",
       "                                                                    possible_types  \n",
       "DBA Name                                                                            \n",
       "7-ELEVEN                                  {nan, liquor, grocery store, restaurant}  \n",
       "ALASKA PALETERIA Y NEVERIA       {mobile frozen desserts dispenser-non-motorize...  \n",
       "ALL ABOUT KIDS LEARNING ACADEMY  {children's services facility, daycare combo 1...  \n",
       "ARAMARK                          {nan, school, coffee shop, special event, nort...  \n",
       "ARAMARK EDUCATION SERVICES                    {charter school, school, restaurant}  "
      ]
     },
     "execution_count": 37,
     "metadata": {},
     "output_type": "execute_result"
    }
   ],
   "source": [
    "#we have to declare this function to be able to use it into aggregate\n",
    "def to_list(a):\n",
    "    return set(a)\n",
    "establisment_facility_types = inspections[['DBA Name','Facility Type']].drop_duplicates().groupby('DBA Name')['Facility Type'].agg({'nbr_types': len, 'possible_types': to_list})\n",
    "print(\"Possible number of different Facility Types for some establishment : \", establisment_facility_types['nbr_types'].unique())\n",
    "establisment_facility_types[establisment_facility_types['nbr_types']>2].head()"
   ]
  },
  {
   "cell_type": "markdown",
   "metadata": {},
   "source": [
    "We can see that some of the establishments have two possible Facility types, in this case we replace the rows which have null value with one of the possible types."
   ]
  },
  {
   "cell_type": "code",
   "execution_count": 38,
   "metadata": {},
   "outputs": [],
   "source": [
    "#First remove NAN from sets\n",
    "establisment_facility_types['possible_types'] = establisment_facility_types.apply(\n",
    "    lambda row: {x for x in row['possible_types'] if pd.notna(x)},\n",
    "    axis=1\n",
    ") \n",
    "#Then keep only one type per establishment\n",
    "establisment_facility_types['possible_types'] = establisment_facility_types.apply(\n",
    "    lambda row: next(iter(row['possible_types'])) if len(row['possible_types'])!=0 else np.NaN,\n",
    "    axis=1\n",
    ") \n",
    "establisment_types_dict=establisment_facility_types['possible_types'].to_dict()\n",
    "#Assign a type to each missing value\n",
    "inspections['Facility Type'] = inspections.apply(\n",
    "    lambda row: establisment_types_dict[row['DBA Name']] if pd.isna(row['Facility Type']) else row['Facility Type'],\n",
    "    axis=1\n",
    ")"
   ]
  },
  {
   "cell_type": "code",
   "execution_count": 39,
   "metadata": {},
   "outputs": [
    {
     "name": "stdout",
     "output_type": "stream",
     "text": [
      "2.4538968834451866% of entries still have missing facility types.\n"
     ]
    }
   ],
   "source": [
    "print('{}% of entries still have missing facility types.'.format(100 * len(inspections[inspections['Facility Type'] == 'nan'])/len(inspections)))"
   ]
  },
  {
   "cell_type": "markdown",
   "metadata": {},
   "source": [
    "We can now proceed to replace all missing facility types with 'other'."
   ]
  },
  {
   "cell_type": "code",
   "execution_count": 40,
   "metadata": {},
   "outputs": [],
   "source": [
    "inspections['Facility Type'] = inspections.apply(\n",
    "    lambda row: 'other' if row['Facility Type'] == 'nan' else row['Facility Type'],\n",
    "    axis=1\n",
    ")"
   ]
  },
  {
   "cell_type": "code",
   "execution_count": 41,
   "metadata": {},
   "outputs": [
    {
     "data": {
      "text/plain": [
       "0                        restaurant\n",
       "1                             other\n",
       "2                     grocery store\n",
       "3      children's services facility\n",
       "4                       coffee shop\n",
       "                   ...             \n",
       "341                    soup kitchen\n",
       "342                    hooka lounge\n",
       "343                       religious\n",
       "344                wholesale bakery\n",
       "345                      kids cafe'\n",
       "Length: 346, dtype: object"
      ]
     },
     "execution_count": 41,
     "metadata": {},
     "output_type": "execute_result"
    }
   ],
   "source": [
    "unique_types = pd.Series(inspections['Facility Type'].unique())\n",
    "unique_types = pd.Series(unique_types.apply(lambda x: re.sub(',|&|;','/',str(x)).split('/')[0]).unique())#.explode().unique())\n",
    "unique_types.apply(lambda x: str(x).strip())"
   ]
  },
  {
   "cell_type": "markdown",
   "metadata": {},
   "source": [
    "There are 346 facility types in the dataframe. Let's see if we can cluster some of them."
   ]
  },
  {
   "cell_type": "code",
   "execution_count": 42,
   "metadata": {},
   "outputs": [],
   "source": [
    "school_vocab = ['school', 'under 6', 'university', 'cafeteria', 'training program', 'kids', 'children', 'daycare', 'years', 'school cafeteria', 'college', 'class', 'day care']\n",
    "restaurant_vocab = ['restaurant', 'smokehouse', 'diner', 'breakfast', 'lunch', 'grill', 'sushi','banquet', 'dining', 'taqueria']\n",
    "homes_vocab = ['long term care','assisted living', 'nursing', 'care', 'supportive']\n",
    "religious_vocab = ['religious', 'religion', 'church', 'synaguogue', 'temple']\n",
    "\n",
    "coffee_vocab = ['coffee', 'cafe']\n",
    "catering_vocab = ['cater']\n",
    "bakery_vocab = ['bake', 'patisserie', 'boulangerie']\n",
    "market_vocab = ['nutrition store', 'grocery', 'french market space', 'dollar store', 'butcher', 'deli', 'farmer\\'s market', 'packaged health foods', 'fish market', 'meat market']\n",
    "\n",
    "kiosk_vocab = ['butcher', 'snack', 'dollar', 'grocery', 'frozen food storage', 'meat packing', 'food', 'market', 'packaged', 'popcorn', 'pantry', 'store', 'produce', 'kiosk', 'convenience', 'commiasary','gas station', 'wholesale', 'deli', 'convenient', 'retail', 'dollar tree']\n",
    "dessert_vocab = ['ice cream', 'dessert', 'paleteria', 'candy', 'gelato', 'donut']\n",
    "health_vocab = ['gym', 'exercise', 'juice and salad bar', 'nutrition','herbal', 'fitness', 'drug', 'rehab', 'herbalife', 'weight', 'herb', 'health', 'decream']\n",
    "medical_vocab = ['pharmacy']\n",
    "\n",
    "vending_vocab = ['vend', 'pop-up', 'mobile', 'cart', 'dispenser', 'truck']\n",
    "drinks_vocab = ['liquor', 'music', 'bar', 'pub', 'beverage', 'club', 'roof', 'tavern', 'brewery', 'wine', 'beer', 'lounge', 'tea', 'shakes']\n",
    "live_vocab =['live', 'poultry', 'slaughter', 'farm']\n",
    "kitchen_vocab = ['kitchen']\n",
    "\n",
    "distributor_vocab = ['distributor', 'distribution']\n",
    "shelter_vocab = ['shelter', 'youth housing']\n",
    "# other_vocab = ['warehouse', 'other', 'theater', 'golf', 'laundromat', 'hotel', 'riverbank', 'theatre', 'event', 'special', 'museum', 'hospital', 'pool', 'art', 'airport', 'gallery', 'terminal']\n"
   ]
  },
  {
   "cell_type": "code",
   "execution_count": 43,
   "metadata": {
    "scrolled": true
   },
   "outputs": [],
   "source": [
    "def extract_label(unique_labels, vocab,mssg):\n",
    "    labels = unique_labels.apply(lambda x: x if bool(re.search('|'.join(vocab), x)) else np.nan).dropna()\n",
    "    print(labels)\n",
    "    print('{}: {}'.format(mssg, labels.size))\n",
    "    unique_labels = unique_labels.drop(labels=labels.index,errors='ignore')\n",
    "    return unique_labels, labels"
   ]
  },
  {
   "cell_type": "code",
   "execution_count": 44,
   "metadata": {},
   "outputs": [
    {
     "name": "stdout",
     "output_type": "stream",
     "text": [
      "3                children's services facility\n",
      "7                       daycare (2 - 6 years)\n",
      "8             daycare above and under 2 years\n",
      "19                                     school\n",
      "21                   15 months to 5 years old\n",
      "22                         daycare combo 1586\n",
      "26                    daycare (under 2 years)\n",
      "28                      day care combo (1586)\n",
      "29                             charter school\n",
      "30         1023 children's service s facility\n",
      "38                            teaching school\n",
      "66                             cooking school\n",
      "67                             private school\n",
      "71                          daycare (2 years)\n",
      "76                              daycare night\n",
      "77                       after school program\n",
      "85                                    daycare\n",
      "104                           senior day care\n",
      "111         1023-children's services facility\n",
      "118                           culinary school\n",
      "121         1023 children's services facility\n",
      "136       retail store offers cooking classes\n",
      "141                             adult daycare\n",
      "144                                 cafeteria\n",
      "146                      culinary class rooms\n",
      "147                                   college\n",
      "151          1023 children's service facility\n",
      "153                             day care 2-14\n",
      "154                                  day care\n",
      "162                  charter school cafeteria\n",
      "164                             public school\n",
      "168                               daycare 2-6\n",
      "174                        prep inside school\n",
      "175                          school cafeteria\n",
      "181                             day care 1023\n",
      "187                             daycare combo\n",
      "194                      culinary arts school\n",
      "204                              daycare 1586\n",
      "210                         after school care\n",
      "218    a-not-for-profit chef training program\n",
      "220                   city of chicago college\n",
      "223                             pastry school\n",
      "232                      university cafeteria\n",
      "234                   daycare 2 yrs to 12 yrs\n",
      "239           before and after school program\n",
      "244                        alternative school\n",
      "269             children's services  facility\n",
      "272                        daycare 6 was-5yrs\n",
      "310               1584-day care above 2 years\n",
      "314                children activity facility\n",
      "337                                 kids cafe\n",
      "345                                kids cafe'\n",
      "dtype: object\n",
      "Number of Schools: : 52\n",
      "0                         restaurant\n",
      "62                           banquet\n",
      "63                      golden diner\n",
      "73               grocery(sushi prep)\n",
      "75                     sushi counter\n",
      "78                      banquet hall\n",
      "90             commissary restaurant\n",
      "137                      dining hall\n",
      "173                     tavern grill\n",
      "178                     banquet room\n",
      "199                 banquet facility\n",
      "212                         banquets\n",
      "214                   banquet dining\n",
      "219         restaurant.banquet halls\n",
      "249                    banquet rooms\n",
      "262    restaurant(protein shake bar)\n",
      "267            restaurant and liquor\n",
      "280                       smokehouse\n",
      "318               restaurant and bar\n",
      "320                  tent restaurant\n",
      "dtype: object\n",
      "Number of Restaurants: : 20\n",
      "31                  long term care\n",
      "65                 assisted living\n",
      "83                    nursing home\n",
      "122                 long-term care\n",
      "123        long term care facility\n",
      "125              supportive living\n",
      "150              health care store\n",
      "163       assisted living facility\n",
      "177        long-term care facility\n",
      "180     supportive living facility\n",
      "182              1005 nursing home\n",
      "209    assisted living senior care\n",
      "299       adult family care center\n",
      "dtype: object\n",
      "Number of Nursing homes: : 13\n",
      "92     church (special events)\n",
      "119             church kitchen\n",
      "128                     church\n",
      "343                  religious\n",
      "dtype: object\n",
      "Number of Religious Establishments: : 4\n",
      "4                     coffee shop\n",
      "27                    coffee cart\n",
      "96                 riverbank cafe\n",
      "140                 internet cafe\n",
      "184                coffee roaster\n",
      "197                          cafe\n",
      "200    animal shelter cafe permit\n",
      "228                  coffee kiosk\n",
      "253                  coffee  shop\n",
      "268                        coffee\n",
      "340        coffee vending machine\n",
      "dtype: object\n",
      "Number of Coffeeshops: : 11\n",
      "6                    catering\n",
      "51     catering and wholesale\n",
      "103            catered liquor\n",
      "313            catered events\n",
      "dtype: object\n",
      "Number of Caterers: : 4\n",
      "9                bakery\n",
      "344    wholesale bakery\n",
      "dtype: object\n",
      "Number of Bakeries: : 2\n",
      "2                     grocery store\n",
      "40              french market space\n",
      "64                   grocery store \n",
      "82                          grocery\n",
      "89                         grocery \n",
      "91        dollar store with grocery\n",
      "115             grocery and butcher\n",
      "117                            deli\n",
      "157                    dollar store\n",
      "167                 farmer's market\n",
      "176            grocery(gas station)\n",
      "189           packaged health foods\n",
      "231                    butcher shop\n",
      "241                 nutrition store\n",
      "245                     fish market\n",
      "328    dollar store selling grocery\n",
      "331                    live butcher\n",
      "332                     meat market\n",
      "dtype: object\n",
      "Number of Markets: : 18\n",
      "11                                  o'hare kiosk\n",
      "13                                         store\n",
      "16                                         kiosk\n",
      "17                         mobile food dispenser\n",
      "18                               temporary kiosk\n",
      "                         ...                    \n",
      "321                          service gas station\n",
      "322                                 herbal store\n",
      "326                              mobil food 1315\n",
      "335                                general store\n",
      "338    prepackage meal distributor (1006 retail)\n",
      "Length: 61, dtype: object\n",
      "Number of Kiosks: : 61\n",
      "42                                           ice cream\n",
      "43                                    ice cream parlor\n",
      "48                       mobile frozen desserts vendor\n",
      "52                               mobile dessert vendor\n",
      "53                                         candy maker\n",
      "54                                               candy\n",
      "86                                         gelato shop\n",
      "94                                      ice cream shop\n",
      "127                           frozen dessert pushcarts\n",
      "134                         mobile frozen dessert disp\n",
      "149                                         candy shop\n",
      "155                             mobile desserts vendor\n",
      "166                                         donut shop\n",
      "248                       mobile frozen dessert vendor\n",
      "260     mobile frozen desserts dispenser-non-motorized\n",
      "261            frozen desserts dispenser-non-motorized\n",
      "274         commissary for soft serve ice cream trucks\n",
      "284    mobile frozen dessert dispenser_non  motorized.\n",
      "285           frozen desserts dispenser -non motorized\n",
      "286         mobile frozen desserts dispenser-non-motor\n",
      "287    mobile frozen desserts dispenser-non- motorized\n",
      "dtype: object\n",
      "Number of Dessert Places: : 21\n",
      "60                            gym\n",
      "68     exercise and nutrition bar\n",
      "69                      herbalize\n",
      "84                 fitness center\n",
      "95                    herbal life\n",
      "120           weight loss program\n",
      "130                        health\n",
      "160                 chinese herbs\n",
      "170               herbal medicine\n",
      "202                  rehab center\n",
      "203       drug treatment facility\n",
      "205                fitness studio\n",
      "222                     herbarial\n",
      "238           juice and salad bar\n",
      "240              herbal life shop\n",
      "252                 herbal drinks\n",
      "254           herbalize nutrition\n",
      "271                 health center\n",
      "290                        herbal\n",
      "291                          drug\n",
      "297                 herbal remedy\n",
      "298                     nutrition\n",
      "dtype: object\n",
      "Number of Health Institutions: : 22\n",
      "107    pharmacy\n",
      "dtype: object\n",
      "Number of Pharmacies: : 1\n",
      "15                       vending machine\n",
      "37     pop-up establishment host-tier ii\n",
      "41                          hot dog cart\n",
      "152                       illegal vendor\n",
      "161                   vending commissary\n",
      "230                           push carts\n",
      "266                                truck\n",
      "dtype: object\n",
      "Number of Vending Establishments: : 7\n",
      "5                               liquor\n",
      "10                      airport lounge\n",
      "12                              lounge\n",
      "14                            beverage\n",
      "46                              tavern\n",
      "56                                 bar\n",
      "57                             brewery\n",
      "97                     wrigley rooftop\n",
      "98                             rooftop\n",
      "99                            rooftops\n",
      "105                       smoothie bar\n",
      "106                          roof tops\n",
      "108                           roof top\n",
      "129                        tea brewing\n",
      "145                   wrigley roof top\n",
      "156                        1475 liquor\n",
      "179                            brewpub\n",
      "188                          juice bar\n",
      "190    liquor consumption on premises.\n",
      "192                         night club\n",
      "193                      tavern-liquor\n",
      "201                      rooftop patio\n",
      "225                             shakes\n",
      "227         shuffleboard club with bar\n",
      "255             liquor brewery tasting\n",
      "276                        social club\n",
      "288                  protein shake bar\n",
      "292                        service bar\n",
      "295                        massage bar\n",
      "308                        music venue\n",
      "311                   wine tasting bar\n",
      "323                boys and girls club\n",
      "336                          hooka bar\n",
      "342                       hooka lounge\n",
      "dtype: object\n",
      "Number of Drinks Places: : 34\n",
      "23                 live poultry\n",
      "132           poultry slaughter\n",
      "133    custom poultry slaughter\n",
      "142             slaughter house\n",
      "294                  urban farm\n",
      "dtype: object\n",
      "Number of Live Animal Sellers and Slaughterhouses: : 5\n",
      "35      shared kitchen user (long term)\n",
      "49                       shared kitchen\n",
      "50     shared kitchen user (short term)\n",
      "169                        main kitchen\n",
      "171                    employee kitchen\n",
      "221                 charity aid kitchen\n",
      "265                        kitchen demo\n",
      "333     shared kitchen user (long them)\n",
      "341                        soup kitchen\n",
      "dtype: object\n",
      "Number of Shared Kitchen: : 9\n",
      "112    distribution center\n",
      "185            distributor\n",
      "dtype: object\n",
      "Number of Distributors: : 2\n",
      "81           shelter\n",
      "216    youth housing\n",
      "dtype: object\n",
      "Number of Shelters: : 2\n"
     ]
    }
   ],
   "source": [
    "unique_types, school_labels = extract_label(unique_types, school_vocab, 'Number of Schools: ')\n",
    "unique_types, restaurant_labels = extract_label(unique_types, restaurant_vocab, 'Number of Restaurants: ')\n",
    "unique_types, homes_labels = extract_label(unique_types, homes_vocab, 'Number of Nursing homes: ')\n",
    "unique_types, religious_labels = extract_label(unique_types, religious_vocab, 'Number of Religious Establishments: ')\n",
    "\n",
    "unique_types, coffee_labels = extract_label(unique_types, coffee_vocab, 'Number of Coffeeshops: ')\n",
    "unique_types, catering_labels = extract_label(unique_types, catering_vocab, 'Number of Caterers: ')\n",
    "unique_types, bakery_labels = extract_label(unique_types, bakery_vocab, 'Number of Bakeries: ')\n",
    "unique_types, market_labels = extract_label(unique_types, market_vocab, 'Number of Markets: ')\n",
    "\n",
    "unique_types, kiosk_labels = extract_label(unique_types, kiosk_vocab, 'Number of Kiosks: ')\n",
    "unique_types, dessert_labels = extract_label(unique_types, dessert_vocab, 'Number of Dessert Places: ')\n",
    "unique_types, health_labels = extract_label(unique_types, health_vocab, 'Number of Health Institutions: ')\n",
    "unique_types, medical_labels = extract_label(unique_types, medical_vocab, 'Number of Pharmacies: ')\n",
    "\n",
    "unique_types, vending_labels = extract_label(unique_types, vending_vocab, 'Number of Vending Establishments: ')\n",
    "unique_types, drinks_labels = extract_label(unique_types, drinks_vocab, 'Number of Drinks Places: ')\n",
    "unique_types, live_labels = extract_label(unique_types, live_vocab, 'Number of Live Animal Sellers and Slaughterhouses: ')\n",
    "unique_types, kitchen_labels = extract_label(unique_types, kitchen_vocab, 'Number of Shared Kitchen: ')\n",
    "\n",
    "unique_types, distributor_labels = extract_label(unique_types, distributor_vocab, 'Number of Distributors: ')\n",
    "unique_types, shelter_labels = extract_label(unique_types, shelter_vocab, 'Number of Shelters: ')\n",
    "other_labels = unique_types\n"
   ]
  },
  {
   "cell_type": "code",
   "execution_count": 45,
   "metadata": {},
   "outputs": [],
   "source": [
    "def get_dict_from_list(labels, val):\n",
    "    return {x: val for x in labels}"
   ]
  },
  {
   "cell_type": "code",
   "execution_count": 46,
   "metadata": {},
   "outputs": [],
   "source": [
    "dict_gen_types = dict()\n",
    "\n",
    "school_dict = get_dict_from_list(school_labels,'Educational Establishment')\n",
    "dict_gen_types.update(school_dict)\n",
    "restaurant_dict = get_dict_from_list(restaurant_labels,'Restaurant')\n",
    "dict_gen_types.update(restaurant_dict)\n",
    "homes_dict = get_dict_from_list(homes_labels,'Retirement Homes')\n",
    "dict_gen_types.update(homes_dict)\n",
    "religious_dict = get_dict_from_list(religious_labels,'Religious Establishment')\n",
    "dict_gen_types.update(religious_dict)\n",
    "\n",
    "coffee_dict = get_dict_from_list(coffee_labels,'Coffeeshop')\n",
    "dict_gen_types.update(coffee_dict)\n",
    "catering_dict = get_dict_from_list(catering_labels,'Catering Establishment')\n",
    "dict_gen_types.update(catering_dict)\n",
    "bakery_dict = get_dict_from_list(bakery_labels,'Bakery')\n",
    "dict_gen_types.update(bakery_dict)\n",
    "market_dict = get_dict_from_list(market_labels,'Market')\n",
    "dict_gen_types.update(market_dict)\n",
    "\n",
    "kiosk_dict = get_dict_from_list(kiosk_labels,'Kiosk')\n",
    "dict_gen_types.update(kiosk_dict)\n",
    "dessert_dict = get_dict_from_list(dessert_labels,'Dessert Establishment')\n",
    "dict_gen_types.update(dessert_dict)\n",
    "health_dict = get_dict_from_list(health_labels,'Health Establishment')\n",
    "dict_gen_types.update(health_dict)\n",
    "medical_dict = get_dict_from_list(medical_labels,'Medical Establishment')\n",
    "dict_gen_types.update(medical_dict)\n",
    "\n",
    "vending_dict = get_dict_from_list(vending_labels,'Vending')\n",
    "dict_gen_types.update(vending_dict)\n",
    "drinks_dict = get_dict_from_list(drinks_labels,'Drinks Establishment')\n",
    "dict_gen_types.update(drinks_dict)\n",
    "live_dict = get_dict_from_list(live_labels,'Live Animals')\n",
    "dict_gen_types.update(live_dict)\n",
    "kitchen_dict = get_dict_from_list(kitchen_labels,'Shared Kitchens')\n",
    "dict_gen_types.update(kitchen_dict)\n",
    "\n",
    "distributor_dict = get_dict_from_list(distributor_labels,'Distributors')\n",
    "dict_gen_types.update(distributor_dict)\n",
    "shelter_dict = get_dict_from_list(shelter_labels,'Shelters')\n",
    "dict_gen_types.update(shelter_dict)\n",
    "other_dict = get_dict_from_list(other_labels,'Other')\n",
    "dict_gen_types.update(other_dict)\n"
   ]
  },
  {
   "cell_type": "code",
   "execution_count": 47,
   "metadata": {},
   "outputs": [],
   "source": [
    "inspections['Facility Type'] = inspections['Facility Type'].replace(dict_gen_types)"
   ]
  },
  {
   "cell_type": "code",
   "execution_count": 48,
   "metadata": {},
   "outputs": [
    {
     "data": {
      "text/plain": [
       "array(['Restaurant', 'Other', 'Market', 'Educational Establishment',\n",
       "       'Coffeeshop', 'Drinks Establishment', 'Catering Establishment',\n",
       "       'Bakery', 'Kiosk', 'Vending', 'Live Animals', 'Retirement Homes',\n",
       "       'Shared Kitchens', 'Dessert Establishment', 'Health Establishment',\n",
       "       'Shelters', 'Religious Establishment', 'Medical Establishment',\n",
       "       'Distributors'], dtype=object)"
      ]
     },
     "execution_count": 48,
     "metadata": {},
     "output_type": "execute_result"
    }
   ],
   "source": [
    "inspections['Facility Type'].unique()"
   ]
  },
  {
   "cell_type": "markdown",
   "metadata": {},
   "source": [
    "We have finally cleaned the facility type."
   ]
  },
  {
   "cell_type": "markdown",
   "metadata": {},
   "source": [
    "### F. Clean the AKA names column"
   ]
  },
  {
   "cell_type": "markdown",
   "metadata": {},
   "source": [
    "**Explore the difference between DBA and AKA names**"
   ]
  },
  {
   "cell_type": "code",
   "execution_count": 49,
   "metadata": {},
   "outputs": [
    {
     "name": "stdout",
     "output_type": "stream",
     "text": [
      "There are 26656 unique DBA (‘Doing business as.’) names in the dataset.\n"
     ]
    }
   ],
   "source": [
    "print ('There are {0} unique DBA (‘Doing business as.’) names in the dataset.'.format(len(inspections['DBA Name'].unique())))"
   ]
  },
  {
   "cell_type": "code",
   "execution_count": 50,
   "metadata": {},
   "outputs": [
    {
     "name": "stdout",
     "output_type": "stream",
     "text": [
      "There are 25434 AKA (‘Also known as.’) names in the dataset.\n"
     ]
    }
   ],
   "source": [
    "# Display the number of restaurants (we display the unique DBA names)\n",
    "print ('There are {0} AKA (‘Also known as.’) names in the dataset.'.format(len(inspections['AKA Name'].unique())))"
   ]
  },
  {
   "cell_type": "code",
   "execution_count": 51,
   "metadata": {},
   "outputs": [
    {
     "name": "stdout",
     "output_type": "stream",
     "text": [
      "There are 49364 rows where the DBA names and the AKA names differ.\n"
     ]
    }
   ],
   "source": [
    "# Explore how DBA and AKA names differ\n",
    "print ('There are {0} rows where the DBA names and the AKA names differ.'\\\n",
    "       .format((len(inspections[inspections['DBA Name'] != inspections['AKA Name']]))))"
   ]
  },
  {
   "cell_type": "code",
   "execution_count": 52,
   "metadata": {},
   "outputs": [
    {
     "name": "stdout",
     "output_type": "stream",
     "text": [
      "Examples of different DBA and AKA names : \n"
     ]
    },
    {
     "data": {
      "text/html": [
       "<div>\n",
       "<style scoped>\n",
       "    .dataframe tbody tr th:only-of-type {\n",
       "        vertical-align: middle;\n",
       "    }\n",
       "\n",
       "    .dataframe tbody tr th {\n",
       "        vertical-align: top;\n",
       "    }\n",
       "\n",
       "    .dataframe thead th {\n",
       "        text-align: right;\n",
       "    }\n",
       "</style>\n",
       "<table border=\"1\" class=\"dataframe\">\n",
       "  <thead>\n",
       "    <tr style=\"text-align: right;\">\n",
       "      <th></th>\n",
       "      <th>Inspection ID</th>\n",
       "      <th>DBA Name</th>\n",
       "      <th>AKA Name</th>\n",
       "      <th>License #</th>\n",
       "      <th>Facility Type</th>\n",
       "      <th>Risk</th>\n",
       "      <th>Address</th>\n",
       "      <th>Inspection Date</th>\n",
       "      <th>Inspection Type</th>\n",
       "      <th>Results</th>\n",
       "      <th>Violations</th>\n",
       "      <th>Latitude</th>\n",
       "      <th>Longitude</th>\n",
       "      <th>Location</th>\n",
       "      <th>Community Area</th>\n",
       "    </tr>\n",
       "  </thead>\n",
       "  <tbody>\n",
       "    <tr>\n",
       "      <th>8</th>\n",
       "      <td>2059948</td>\n",
       "      <td>Subway Sandwiches</td>\n",
       "      <td>Subway</td>\n",
       "      <td>1621730.0</td>\n",
       "      <td>Restaurant</td>\n",
       "      <td>Risk 1 (High)</td>\n",
       "      <td>2620 N NARRAGANSETT AVE</td>\n",
       "      <td>2017-06-09T00:00:00.000</td>\n",
       "      <td>Canvass Re-Inspection</td>\n",
       "      <td>Pass</td>\n",
       "      <td>NaN</td>\n",
       "      <td>41.927995</td>\n",
       "      <td>-87.785752</td>\n",
       "      <td>41.92799528871574, -87.78575236468352</td>\n",
       "      <td>Belmont Cragin</td>\n",
       "    </tr>\n",
       "    <tr>\n",
       "      <th>10</th>\n",
       "      <td>2059950</td>\n",
       "      <td>Subway Sandwiches</td>\n",
       "      <td>Subway</td>\n",
       "      <td>1621730.0</td>\n",
       "      <td>Restaurant</td>\n",
       "      <td>Risk 1 (High)</td>\n",
       "      <td>2620 N NARRAGANSETT AVE</td>\n",
       "      <td>2017-06-09T00:00:00.000</td>\n",
       "      <td>Canvass</td>\n",
       "      <td>Out of Business</td>\n",
       "      <td>NaN</td>\n",
       "      <td>41.927995</td>\n",
       "      <td>-87.785752</td>\n",
       "      <td>41.92799528871574, -87.78575236468352</td>\n",
       "      <td>Belmont Cragin</td>\n",
       "    </tr>\n",
       "    <tr>\n",
       "      <th>11</th>\n",
       "      <td>2059503</td>\n",
       "      <td>Subway Sandwiches</td>\n",
       "      <td>Subway</td>\n",
       "      <td>1621730.0</td>\n",
       "      <td>Restaurant</td>\n",
       "      <td>Risk 1 (High)</td>\n",
       "      <td>2620 N NARRAGANSETT AVE</td>\n",
       "      <td>2017-06-02T00:00:00.000</td>\n",
       "      <td>Canvass</td>\n",
       "      <td>Fail</td>\n",
       "      <td>11. ADEQUATE NUMBER, CONVENIENT, ACCESSIBLE, D...</td>\n",
       "      <td>41.927995</td>\n",
       "      <td>-87.785752</td>\n",
       "      <td>41.92799528871574, -87.78575236468352</td>\n",
       "      <td>Belmont Cragin</td>\n",
       "    </tr>\n",
       "    <tr>\n",
       "      <th>14</th>\n",
       "      <td>1953572</td>\n",
       "      <td>Subway Sandwiches</td>\n",
       "      <td>Subway</td>\n",
       "      <td>1621730.0</td>\n",
       "      <td>Restaurant</td>\n",
       "      <td>Risk 1 (High)</td>\n",
       "      <td>2620 N NARRAGANSETT AVE</td>\n",
       "      <td>2016-08-31T00:00:00.000</td>\n",
       "      <td>Canvass</td>\n",
       "      <td>Pass</td>\n",
       "      <td>35. WALLS, CEILINGS, ATTACHED EQUIPMENT CONSTR...</td>\n",
       "      <td>41.927995</td>\n",
       "      <td>-87.785752</td>\n",
       "      <td>41.92799528871574, -87.78575236468352</td>\n",
       "      <td>Belmont Cragin</td>\n",
       "    </tr>\n",
       "    <tr>\n",
       "      <th>16</th>\n",
       "      <td>1734813</td>\n",
       "      <td>Subway Sandwiches</td>\n",
       "      <td>Subway</td>\n",
       "      <td>1621730.0</td>\n",
       "      <td>Restaurant</td>\n",
       "      <td>Risk 1 (High)</td>\n",
       "      <td>2620 N NARRAGANSETT AVE</td>\n",
       "      <td>2016-03-25T00:00:00.000</td>\n",
       "      <td>Canvass</td>\n",
       "      <td>Pass</td>\n",
       "      <td>33. FOOD AND NON-FOOD CONTACT EQUIPMENT UTENSI...</td>\n",
       "      <td>41.927995</td>\n",
       "      <td>-87.785752</td>\n",
       "      <td>41.92799528871574, -87.78575236468352</td>\n",
       "      <td>Belmont Cragin</td>\n",
       "    </tr>\n",
       "    <tr>\n",
       "      <th>18</th>\n",
       "      <td>1465339</td>\n",
       "      <td>Subway Sandwiches</td>\n",
       "      <td>Subway</td>\n",
       "      <td>1621730.0</td>\n",
       "      <td>Restaurant</td>\n",
       "      <td>Risk 1 (High)</td>\n",
       "      <td>2620 N NARRAGANSETT AVE</td>\n",
       "      <td>2015-12-23T00:00:00.000</td>\n",
       "      <td>Canvass</td>\n",
       "      <td>Pass</td>\n",
       "      <td>NaN</td>\n",
       "      <td>41.927995</td>\n",
       "      <td>-87.785752</td>\n",
       "      <td>41.92799528871574, -87.78575236468352</td>\n",
       "      <td>Belmont Cragin</td>\n",
       "    </tr>\n",
       "    <tr>\n",
       "      <th>20</th>\n",
       "      <td>1464707</td>\n",
       "      <td>Subway Sandwiches</td>\n",
       "      <td>Subway</td>\n",
       "      <td>1621730.0</td>\n",
       "      <td>Restaurant</td>\n",
       "      <td>Risk 1 (High)</td>\n",
       "      <td>2620 N NARRAGANSETT AVE</td>\n",
       "      <td>2015-01-21T00:00:00.000</td>\n",
       "      <td>Canvass Re-Inspection</td>\n",
       "      <td>Pass</td>\n",
       "      <td>31. CLEAN MULTI-USE UTENSILS AND SINGLE SERVIC...</td>\n",
       "      <td>41.927995</td>\n",
       "      <td>-87.785752</td>\n",
       "      <td>41.92799528871574, -87.78575236468352</td>\n",
       "      <td>Belmont Cragin</td>\n",
       "    </tr>\n",
       "    <tr>\n",
       "      <th>21</th>\n",
       "      <td>1464691</td>\n",
       "      <td>Subway Sandwiches</td>\n",
       "      <td>Subway</td>\n",
       "      <td>1621730.0</td>\n",
       "      <td>Restaurant</td>\n",
       "      <td>Risk 1 (High)</td>\n",
       "      <td>2620 N NARRAGANSETT AVE</td>\n",
       "      <td>2015-01-14T00:00:00.000</td>\n",
       "      <td>Canvass</td>\n",
       "      <td>Fail</td>\n",
       "      <td>19. OUTSIDE GARBAGE WASTE GREASE AND STORAGE A...</td>\n",
       "      <td>41.927995</td>\n",
       "      <td>-87.785752</td>\n",
       "      <td>41.92799528871574, -87.78575236468352</td>\n",
       "      <td>Belmont Cragin</td>\n",
       "    </tr>\n",
       "    <tr>\n",
       "      <th>23</th>\n",
       "      <td>1329671</td>\n",
       "      <td>Subway Sandwiches</td>\n",
       "      <td>Subway</td>\n",
       "      <td>1621730.0</td>\n",
       "      <td>Restaurant</td>\n",
       "      <td>Risk 1 (High)</td>\n",
       "      <td>2620 N NARRAGANSETT AVE</td>\n",
       "      <td>2014-01-13T00:00:00.000</td>\n",
       "      <td>Canvass</td>\n",
       "      <td>Pass</td>\n",
       "      <td>34. FLOORS: CONSTRUCTED PER CODE, CLEANED, GOO...</td>\n",
       "      <td>41.927995</td>\n",
       "      <td>-87.785752</td>\n",
       "      <td>41.92799528871574, -87.78575236468352</td>\n",
       "      <td>Belmont Cragin</td>\n",
       "    </tr>\n",
       "    <tr>\n",
       "      <th>25</th>\n",
       "      <td>1321779</td>\n",
       "      <td>Subway Sandwiches</td>\n",
       "      <td>Subway</td>\n",
       "      <td>1621730.0</td>\n",
       "      <td>Restaurant</td>\n",
       "      <td>Risk 1 (High)</td>\n",
       "      <td>2620 N NARRAGANSETT AVE</td>\n",
       "      <td>2013-02-07T00:00:00.000</td>\n",
       "      <td>Canvass</td>\n",
       "      <td>Pass</td>\n",
       "      <td>40. REFRIGERATION AND METAL STEM THERMOMETERS ...</td>\n",
       "      <td>41.927995</td>\n",
       "      <td>-87.785752</td>\n",
       "      <td>41.92799528871574, -87.78575236468352</td>\n",
       "      <td>Belmont Cragin</td>\n",
       "    </tr>\n",
       "  </tbody>\n",
       "</table>\n",
       "</div>"
      ],
      "text/plain": [
       "    Inspection ID           DBA Name AKA Name  License # Facility Type  \\\n",
       "8         2059948  Subway Sandwiches   Subway  1621730.0    Restaurant   \n",
       "10        2059950  Subway Sandwiches   Subway  1621730.0    Restaurant   \n",
       "11        2059503  Subway Sandwiches   Subway  1621730.0    Restaurant   \n",
       "14        1953572  Subway Sandwiches   Subway  1621730.0    Restaurant   \n",
       "16        1734813  Subway Sandwiches   Subway  1621730.0    Restaurant   \n",
       "18        1465339  Subway Sandwiches   Subway  1621730.0    Restaurant   \n",
       "20        1464707  Subway Sandwiches   Subway  1621730.0    Restaurant   \n",
       "21        1464691  Subway Sandwiches   Subway  1621730.0    Restaurant   \n",
       "23        1329671  Subway Sandwiches   Subway  1621730.0    Restaurant   \n",
       "25        1321779  Subway Sandwiches   Subway  1621730.0    Restaurant   \n",
       "\n",
       "             Risk                   Address          Inspection Date  \\\n",
       "8   Risk 1 (High)  2620 N NARRAGANSETT AVE   2017-06-09T00:00:00.000   \n",
       "10  Risk 1 (High)  2620 N NARRAGANSETT AVE   2017-06-09T00:00:00.000   \n",
       "11  Risk 1 (High)  2620 N NARRAGANSETT AVE   2017-06-02T00:00:00.000   \n",
       "14  Risk 1 (High)  2620 N NARRAGANSETT AVE   2016-08-31T00:00:00.000   \n",
       "16  Risk 1 (High)  2620 N NARRAGANSETT AVE   2016-03-25T00:00:00.000   \n",
       "18  Risk 1 (High)  2620 N NARRAGANSETT AVE   2015-12-23T00:00:00.000   \n",
       "20  Risk 1 (High)  2620 N NARRAGANSETT AVE   2015-01-21T00:00:00.000   \n",
       "21  Risk 1 (High)  2620 N NARRAGANSETT AVE   2015-01-14T00:00:00.000   \n",
       "23  Risk 1 (High)  2620 N NARRAGANSETT AVE   2014-01-13T00:00:00.000   \n",
       "25  Risk 1 (High)  2620 N NARRAGANSETT AVE   2013-02-07T00:00:00.000   \n",
       "\n",
       "          Inspection Type          Results  \\\n",
       "8   Canvass Re-Inspection             Pass   \n",
       "10                Canvass  Out of Business   \n",
       "11                Canvass             Fail   \n",
       "14                Canvass             Pass   \n",
       "16                Canvass             Pass   \n",
       "18                Canvass             Pass   \n",
       "20  Canvass Re-Inspection             Pass   \n",
       "21                Canvass             Fail   \n",
       "23                Canvass             Pass   \n",
       "25                Canvass             Pass   \n",
       "\n",
       "                                           Violations   Latitude  Longitude  \\\n",
       "8                                                 NaN  41.927995 -87.785752   \n",
       "10                                                NaN  41.927995 -87.785752   \n",
       "11  11. ADEQUATE NUMBER, CONVENIENT, ACCESSIBLE, D...  41.927995 -87.785752   \n",
       "14  35. WALLS, CEILINGS, ATTACHED EQUIPMENT CONSTR...  41.927995 -87.785752   \n",
       "16  33. FOOD AND NON-FOOD CONTACT EQUIPMENT UTENSI...  41.927995 -87.785752   \n",
       "18                                                NaN  41.927995 -87.785752   \n",
       "20  31. CLEAN MULTI-USE UTENSILS AND SINGLE SERVIC...  41.927995 -87.785752   \n",
       "21  19. OUTSIDE GARBAGE WASTE GREASE AND STORAGE A...  41.927995 -87.785752   \n",
       "23  34. FLOORS: CONSTRUCTED PER CODE, CLEANED, GOO...  41.927995 -87.785752   \n",
       "25  40. REFRIGERATION AND METAL STEM THERMOMETERS ...  41.927995 -87.785752   \n",
       "\n",
       "                                 Location  Community Area  \n",
       "8   41.92799528871574, -87.78575236468352  Belmont Cragin  \n",
       "10  41.92799528871574, -87.78575236468352  Belmont Cragin  \n",
       "11  41.92799528871574, -87.78575236468352  Belmont Cragin  \n",
       "14  41.92799528871574, -87.78575236468352  Belmont Cragin  \n",
       "16  41.92799528871574, -87.78575236468352  Belmont Cragin  \n",
       "18  41.92799528871574, -87.78575236468352  Belmont Cragin  \n",
       "20  41.92799528871574, -87.78575236468352  Belmont Cragin  \n",
       "21  41.92799528871574, -87.78575236468352  Belmont Cragin  \n",
       "23  41.92799528871574, -87.78575236468352  Belmont Cragin  \n",
       "25  41.92799528871574, -87.78575236468352  Belmont Cragin  "
      ]
     },
     "execution_count": 52,
     "metadata": {},
     "output_type": "execute_result"
    }
   ],
   "source": [
    "print('Examples of different DBA and AKA names : ')\n",
    "inspections[inspections['DBA Name'] != inspections['AKA Name']].head(10)"
   ]
  },
  {
   "cell_type": "markdown",
   "metadata": {},
   "source": [
    "We see that the AKA name is the name of the restaurant as known to the public. We decide to duplicate the DBA name to the missing AKA names: We will need those for our recommendation map later on, and it make more sense to display the AKA names for the users."
   ]
  },
  {
   "cell_type": "code",
   "execution_count": 53,
   "metadata": {},
   "outputs": [],
   "source": [
    "inspections['AKA Name'].fillna(inspections['DBA Name'], inplace=True)"
   ]
  },
  {
   "cell_type": "markdown",
   "metadata": {},
   "source": [
    "### G. Explore the violations column"
   ]
  },
  {
   "cell_type": "markdown",
   "metadata": {},
   "source": [
    "Let's first see if the missing violation are consistent with our entries"
   ]
  },
  {
   "cell_type": "code",
   "execution_count": 54,
   "metadata": {},
   "outputs": [
    {
     "data": {
      "text/plain": [
       "array(['Pass', 'Out of Business', 'Not Ready', 'Fail',\n",
       "       'Pass w/ Conditions', 'No Entry', 'Business Not Located'],\n",
       "      dtype=object)"
      ]
     },
     "execution_count": 54,
     "metadata": {},
     "output_type": "execute_result"
    }
   ],
   "source": [
    "inspections[inspections['Violations'].isnull()]['Results'].unique()"
   ]
  },
  {
   "cell_type": "markdown",
   "metadata": {},
   "source": [
    "We expected the entries which have null Violations to have 'No Entry', 'Out of Business', 'Pass' or 'Business Not Located' as a value for Results. We see that we alse have null Violations for 'Fail' and 'Pass w/ Conditions' inspections. We still keep those entries because they can be useful for other metrics."
   ]
  },
  {
   "cell_type": "markdown",
   "metadata": {},
   "source": [
    "Let us now inspect the Violations column and try to make sense of what it contains."
   ]
  },
  {
   "cell_type": "code",
   "execution_count": 55,
   "metadata": {},
   "outputs": [
    {
     "data": {
      "text/plain": [
       "0         3. MANAGEMENT, FOOD EMPLOYEE AND CONDITIONAL E...\n",
       "1         3. MANAGEMENT, FOOD EMPLOYEE AND CONDITIONAL E...\n",
       "2         3. MANAGEMENT, FOOD EMPLOYEE AND CONDITIONAL E...\n",
       "3                                                       NaN\n",
       "4         16. FOOD PROTECTED DURING STORAGE, PREPARATION...\n",
       "                                ...                        \n",
       "195317                                                  NaN\n",
       "195318    33. FOOD AND NON-FOOD CONTACT EQUIPMENT UTENSI...\n",
       "195319    33. FOOD AND NON-FOOD CONTACT EQUIPMENT UTENSI...\n",
       "195320    33. FOOD AND NON-FOOD CONTACT EQUIPMENT UTENSI...\n",
       "195321                                                  NaN\n",
       "Name: Violations, Length: 189087, dtype: object"
      ]
     },
     "execution_count": 55,
     "metadata": {},
     "output_type": "execute_result"
    }
   ],
   "source": [
    "inspections['Violations']"
   ]
  },
  {
   "cell_type": "markdown",
   "metadata": {},
   "source": [
    "They all seem to have a specific structure. Let's examine one closely to look at how a Violation entry is structured."
   ]
  },
  {
   "cell_type": "code",
   "execution_count": 56,
   "metadata": {},
   "outputs": [
    {
     "data": {
      "text/plain": [
       "'3. MANAGEMENT, FOOD EMPLOYEE AND CONDITIONAL EMPLOYEE; KNOWLEDGE, RESPONSIBILITIES AND REPORTING - Comments: 2-102.14(O)  OBSERVED NO WRITTEN EMPLOYEE HEALTH POLICY ON THE PREMISES. MANAGEMENT INSTRUCTED TO HAVE A SIGNED EMPLOYEE HEALTH POLICY FOR EACH EMPLOYEE. PRIORITY FOUNDATION 7-38-010. NO CITATION ISSUED. | 5. PROCEDURES FOR RESPONDING TO VOMITING AND DIARRHEAL EVENTS - Comments: 2-501.11  OBSERVED NO CLEAN UP PROCEDURE AND SUPPLIES ON THE PREMISES TO RESPOND TO VOMIT AND DIARRHEAL EVENTS. MANAGEMENT INSTRUCTED TO PROVIDE BOTH. PRIORITY FOUNDATION 7-38-005. NO CITATION ISSUED. | 58. ALLERGEN TRAINING AS REQUIRED - Comments: 2-102.13  OBSERVED THE CERTIFIED FOOD MANAGER WITHOUT AN ALLERGEN TRAINING CERTIFICATE. MANAGEMENT INSTRUCTED THAT ALL CERTIFIED FOOD MANAGERS MUST SHOW PROOF OF TRAINING.'"
      ]
     },
     "execution_count": 56,
     "metadata": {},
     "output_type": "execute_result"
    }
   ],
   "source": [
    "inspections['Violations'][0]"
   ]
  },
  {
   "cell_type": "markdown",
   "metadata": {},
   "source": [
    "We can see that violations are separated by '|'. Each one begins with the violation number and type, followed by a sentence as to why this violation was found in the establishment and a sentence describing what the management needs to do. Let us hence try and have a column for each feature given by the Violations entry."
   ]
  },
  {
   "cell_type": "code",
   "execution_count": 57,
   "metadata": {},
   "outputs": [],
   "source": [
    "def violations_analysis(violations):\n",
    "    if(violations == ['']):\n",
    "        return(np.nan, np.nan)\n",
    "    nb_violations = []\n",
    "    comments_violations = []\n",
    "    for violation in violations:\n",
    "        nb_violations.append(int(violation.split('.')[0]))\n",
    "        split = violation.split(':')\n",
    "#         print(violation)\n",
    "        if(len(split) != 1):\n",
    "            comments_violations.append(violation.split(':')[1])\n",
    "    return (nb_violations, comments_violations)"
   ]
  },
  {
   "cell_type": "code",
   "execution_count": 58,
   "metadata": {},
   "outputs": [],
   "source": [
    "exploded_violations = inspections['Violations'].replace({np.nan: ''}).str.split('|').apply(violations_analysis)#.replace({np.nan:''}).apply(violations_analysis)\n"
   ]
  },
  {
   "cell_type": "code",
   "execution_count": 59,
   "metadata": {},
   "outputs": [],
   "source": [
    "inspections[['Violation Numbers', 'Violation Comments']] = pd.DataFrame(exploded_violations.tolist())    \n"
   ]
  },
  {
   "cell_type": "code",
   "execution_count": 60,
   "metadata": {},
   "outputs": [
    {
     "data": {
      "text/html": [
       "<div>\n",
       "<style scoped>\n",
       "    .dataframe tbody tr th:only-of-type {\n",
       "        vertical-align: middle;\n",
       "    }\n",
       "\n",
       "    .dataframe tbody tr th {\n",
       "        vertical-align: top;\n",
       "    }\n",
       "\n",
       "    .dataframe thead th {\n",
       "        text-align: right;\n",
       "    }\n",
       "</style>\n",
       "<table border=\"1\" class=\"dataframe\">\n",
       "  <thead>\n",
       "    <tr style=\"text-align: right;\">\n",
       "      <th></th>\n",
       "      <th>Inspection ID</th>\n",
       "      <th>DBA Name</th>\n",
       "      <th>AKA Name</th>\n",
       "      <th>License #</th>\n",
       "      <th>Facility Type</th>\n",
       "      <th>Risk</th>\n",
       "      <th>Address</th>\n",
       "      <th>Inspection Date</th>\n",
       "      <th>Inspection Type</th>\n",
       "      <th>Results</th>\n",
       "      <th>Violations</th>\n",
       "      <th>Latitude</th>\n",
       "      <th>Longitude</th>\n",
       "      <th>Location</th>\n",
       "      <th>Community Area</th>\n",
       "      <th>Violation Numbers</th>\n",
       "      <th>Violation Comments</th>\n",
       "    </tr>\n",
       "  </thead>\n",
       "  <tbody>\n",
       "    <tr>\n",
       "      <th>0</th>\n",
       "      <td>2345318</td>\n",
       "      <td>SUBWAY</td>\n",
       "      <td>SUBWAY</td>\n",
       "      <td>2529116.0</td>\n",
       "      <td>Restaurant</td>\n",
       "      <td>Risk 1 (High)</td>\n",
       "      <td>2620 N NARRAGANSETT AVE</td>\n",
       "      <td>2019-11-08T00:00:00.000</td>\n",
       "      <td>Canvass Re-Inspection</td>\n",
       "      <td>Pass w/ Conditions</td>\n",
       "      <td>3. MANAGEMENT, FOOD EMPLOYEE AND CONDITIONAL E...</td>\n",
       "      <td>41.927995</td>\n",
       "      <td>-87.785752</td>\n",
       "      <td>41.92799528871574, -87.78575236468352</td>\n",
       "      <td>Belmont Cragin</td>\n",
       "      <td>[3, 5, 58]</td>\n",
       "      <td>[ 2-102.14(O)  OBSERVED NO WRITTEN EMPLOYEE HE...</td>\n",
       "    </tr>\n",
       "    <tr>\n",
       "      <th>1</th>\n",
       "      <td>2321166</td>\n",
       "      <td>SUBWAY</td>\n",
       "      <td>SUBWAY</td>\n",
       "      <td>2529116.0</td>\n",
       "      <td>Restaurant</td>\n",
       "      <td>Risk 1 (High)</td>\n",
       "      <td>2620 N NARRAGANSETT AVE</td>\n",
       "      <td>2019-11-06T00:00:00.000</td>\n",
       "      <td>Canvass</td>\n",
       "      <td>Fail</td>\n",
       "      <td>3. MANAGEMENT, FOOD EMPLOYEE AND CONDITIONAL E...</td>\n",
       "      <td>41.927995</td>\n",
       "      <td>-87.785752</td>\n",
       "      <td>41.92799528871574, -87.78575236468352</td>\n",
       "      <td>Belmont Cragin</td>\n",
       "      <td>[3, 5, 10, 22, 33, 57, 58]</td>\n",
       "      <td>[ OBSERVED NO WRITTEN EMPLOYEE HEALTH POLICY O...</td>\n",
       "    </tr>\n",
       "    <tr>\n",
       "      <th>2</th>\n",
       "      <td>2290717</td>\n",
       "      <td>PAPA JOHN'S PIZZA</td>\n",
       "      <td>PAPA JOHN'S PIZZA</td>\n",
       "      <td>1545897.0</td>\n",
       "      <td>Restaurant</td>\n",
       "      <td>Risk 2 (Medium)</td>\n",
       "      <td>2620 N NARRAGANSETT AVE</td>\n",
       "      <td>2019-05-30T00:00:00.000</td>\n",
       "      <td>Canvass</td>\n",
       "      <td>Pass w/ Conditions</td>\n",
       "      <td>3. MANAGEMENT, FOOD EMPLOYEE AND CONDITIONAL E...</td>\n",
       "      <td>41.927995</td>\n",
       "      <td>-87.785752</td>\n",
       "      <td>41.92799528871574, -87.78575236468352</td>\n",
       "      <td>Belmont Cragin</td>\n",
       "      <td>[3, 5]</td>\n",
       "      <td>[ OBSERVED NO EMPLOYEE HEALTH POLICY ON THE PR...</td>\n",
       "    </tr>\n",
       "    <tr>\n",
       "      <th>3</th>\n",
       "      <td>2144892</td>\n",
       "      <td>SUBWAY</td>\n",
       "      <td>SUBWAY</td>\n",
       "      <td>2529116.0</td>\n",
       "      <td>Restaurant</td>\n",
       "      <td>Risk 1 (High)</td>\n",
       "      <td>2620 N NARRAGANSETT AVE</td>\n",
       "      <td>2018-02-13T00:00:00.000</td>\n",
       "      <td>Canvass Re-Inspection</td>\n",
       "      <td>Pass</td>\n",
       "      <td>NaN</td>\n",
       "      <td>41.927995</td>\n",
       "      <td>-87.785752</td>\n",
       "      <td>41.92799528871574, -87.78575236468352</td>\n",
       "      <td>Belmont Cragin</td>\n",
       "      <td>NaN</td>\n",
       "      <td>NaN</td>\n",
       "    </tr>\n",
       "    <tr>\n",
       "      <th>4</th>\n",
       "      <td>2144588</td>\n",
       "      <td>SUBWAY</td>\n",
       "      <td>SUBWAY</td>\n",
       "      <td>2529116.0</td>\n",
       "      <td>Restaurant</td>\n",
       "      <td>Risk 1 (High)</td>\n",
       "      <td>2620 N NARRAGANSETT AVE</td>\n",
       "      <td>2018-02-06T00:00:00.000</td>\n",
       "      <td>Canvass</td>\n",
       "      <td>Fail</td>\n",
       "      <td>16. FOOD PROTECTED DURING STORAGE, PREPARATION...</td>\n",
       "      <td>41.927995</td>\n",
       "      <td>-87.785752</td>\n",
       "      <td>41.92799528871574, -87.78575236468352</td>\n",
       "      <td>Belmont Cragin</td>\n",
       "      <td>[16, 34, 42]</td>\n",
       "      <td>[ OBSERVED BLACK AND PINK MOLD LIKE SUBSTANCES...</td>\n",
       "    </tr>\n",
       "  </tbody>\n",
       "</table>\n",
       "</div>"
      ],
      "text/plain": [
       "   Inspection ID           DBA Name           AKA Name  License #  \\\n",
       "0        2345318             SUBWAY             SUBWAY  2529116.0   \n",
       "1        2321166             SUBWAY             SUBWAY  2529116.0   \n",
       "2        2290717  PAPA JOHN'S PIZZA  PAPA JOHN'S PIZZA  1545897.0   \n",
       "3        2144892             SUBWAY             SUBWAY  2529116.0   \n",
       "4        2144588             SUBWAY             SUBWAY  2529116.0   \n",
       "\n",
       "  Facility Type             Risk                   Address  \\\n",
       "0    Restaurant    Risk 1 (High)  2620 N NARRAGANSETT AVE    \n",
       "1    Restaurant    Risk 1 (High)  2620 N NARRAGANSETT AVE    \n",
       "2    Restaurant  Risk 2 (Medium)  2620 N NARRAGANSETT AVE    \n",
       "3    Restaurant    Risk 1 (High)  2620 N NARRAGANSETT AVE    \n",
       "4    Restaurant    Risk 1 (High)  2620 N NARRAGANSETT AVE    \n",
       "\n",
       "           Inspection Date        Inspection Type             Results  \\\n",
       "0  2019-11-08T00:00:00.000  Canvass Re-Inspection  Pass w/ Conditions   \n",
       "1  2019-11-06T00:00:00.000                Canvass                Fail   \n",
       "2  2019-05-30T00:00:00.000                Canvass  Pass w/ Conditions   \n",
       "3  2018-02-13T00:00:00.000  Canvass Re-Inspection                Pass   \n",
       "4  2018-02-06T00:00:00.000                Canvass                Fail   \n",
       "\n",
       "                                          Violations   Latitude  Longitude  \\\n",
       "0  3. MANAGEMENT, FOOD EMPLOYEE AND CONDITIONAL E...  41.927995 -87.785752   \n",
       "1  3. MANAGEMENT, FOOD EMPLOYEE AND CONDITIONAL E...  41.927995 -87.785752   \n",
       "2  3. MANAGEMENT, FOOD EMPLOYEE AND CONDITIONAL E...  41.927995 -87.785752   \n",
       "3                                                NaN  41.927995 -87.785752   \n",
       "4  16. FOOD PROTECTED DURING STORAGE, PREPARATION...  41.927995 -87.785752   \n",
       "\n",
       "                                Location  Community Area  \\\n",
       "0  41.92799528871574, -87.78575236468352  Belmont Cragin   \n",
       "1  41.92799528871574, -87.78575236468352  Belmont Cragin   \n",
       "2  41.92799528871574, -87.78575236468352  Belmont Cragin   \n",
       "3  41.92799528871574, -87.78575236468352  Belmont Cragin   \n",
       "4  41.92799528871574, -87.78575236468352  Belmont Cragin   \n",
       "\n",
       "            Violation Numbers  \\\n",
       "0                  [3, 5, 58]   \n",
       "1  [3, 5, 10, 22, 33, 57, 58]   \n",
       "2                      [3, 5]   \n",
       "3                         NaN   \n",
       "4                [16, 34, 42]   \n",
       "\n",
       "                                  Violation Comments  \n",
       "0  [ 2-102.14(O)  OBSERVED NO WRITTEN EMPLOYEE HE...  \n",
       "1  [ OBSERVED NO WRITTEN EMPLOYEE HEALTH POLICY O...  \n",
       "2  [ OBSERVED NO EMPLOYEE HEALTH POLICY ON THE PR...  \n",
       "3                                                NaN  \n",
       "4  [ OBSERVED BLACK AND PINK MOLD LIKE SUBSTANCES...  "
      ]
     },
     "execution_count": 60,
     "metadata": {},
     "output_type": "execute_result"
    }
   ],
   "source": [
    "inspections.head()"
   ]
  },
  {
   "cell_type": "code",
   "execution_count": 61,
   "metadata": {},
   "outputs": [
    {
     "name": "stdout",
     "output_type": "stream",
     "text": [
      "There are still 28.99300322073966% rows missing their violations info.\n"
     ]
    }
   ],
   "source": [
    "print('There are still {}% rows missing their violations info.'.format(100 * inspections['Violation Numbers'].isna().sum()/len(inspections)))"
   ]
  },
  {
   "cell_type": "markdown",
   "metadata": {},
   "source": [
    "We can see that there is still missing data but we have no choice but to keep it as we cannot drop 29% of the dataset."
   ]
  },
  {
   "cell_type": "code",
   "execution_count": 62,
   "metadata": {},
   "outputs": [],
   "source": [
    "inspections.to_pickle('./tmp_inspections')"
   ]
  },
  {
   "cell_type": "code",
   "execution_count": 63,
   "metadata": {},
   "outputs": [],
   "source": [
    "#TODO: Create a pickle of all possible violations with their respective numbers"
   ]
  },
  {
   "cell_type": "markdown",
   "metadata": {},
   "source": [
    "### H. Cleaning the Inspection Type"
   ]
  },
  {
   "cell_type": "markdown",
   "metadata": {},
   "source": [
    "Let's see what's left to be done in our data cleaning process regarding the inspection type."
   ]
  },
  {
   "cell_type": "code",
   "execution_count": 64,
   "metadata": {},
   "outputs": [
    {
     "name": "stdout",
     "output_type": "stream",
     "text": [
      "0.0005288570869493936% of rows are missing the Inspection Type entry.\n"
     ]
    }
   ],
   "source": [
    "print('{}% of rows are missing the Inspection Type entry.'.format(100 * inspections['Inspection Type'].isna().sum()/len(inspections['Inspection Type'])))"
   ]
  },
  {
   "cell_type": "markdown",
   "metadata": {},
   "source": [
    "As we can see the number of entries which have missing Inspection Type is really small, we can safely drop those."
   ]
  },
  {
   "cell_type": "code",
   "execution_count": 65,
   "metadata": {},
   "outputs": [],
   "source": [
    "inspections.dropna(axis=0, subset=['Inspection Type'], inplace=True)"
   ]
  },
  {
   "cell_type": "markdown",
   "metadata": {},
   "source": [
    "First, let us reformat the inspection types and collect all unique ones to examine them."
   ]
  },
  {
   "cell_type": "code",
   "execution_count": 66,
   "metadata": {},
   "outputs": [],
   "source": [
    "inspections['Inspection Type'] = inspections['Inspection Type'].str.lower().apply(lambda x: spell(str(x)))"
   ]
  },
  {
   "cell_type": "code",
   "execution_count": 67,
   "metadata": {},
   "outputs": [
    {
     "data": {
      "text/plain": [
       "array(['canvass re-inspection', 'canvass', 'license',\n",
       "       'short form complaint', 'complaint', 'license re-inspection',\n",
       "       'license-task force', 'complaint re-inspection',\n",
       "       'suspected food poisoning re-inspection',\n",
       "       'suspected food poisoning', 'recent inspection', 'consultation',\n",
       "       'complaint-fire', 'tag removal', 'out of business',\n",
       "       'illegal operation', 'package liquor 1474',\n",
       "       'short form fire-complaint', 'special events (festivals)',\n",
       "       'complaint-fire re-inspection', 'task force liquor 1475',\n",
       "       'not ready', 'task force liquor 1470', 'license request',\n",
       "       'no entry', 'non-inspection', 'possible fbi',\n",
       "       'pre-license consultation', 'summer feeding', 'expansion',\n",
       "       'error save', 'taskforce', '1315 license reinspection',\n",
       "       'canvass for rib fest', 'close-up/complaint reinspection',\n",
       "       'sup/complaint', 'sup', 'finish complaint inspection from 5-18-10',\n",
       "       'special task force', 'canvass re inspection of close up',\n",
       "       'recall inspection', 'corrective action', 'fire complaint', 'fire',\n",
       "       'task force', 'changed court date', 'canvas', 'task force night',\n",
       "       'addendum', 'canvass school/special event', 'taste of chicago',\n",
       "       'harp questionnaire', 'license daycare 1586', 'reinspection',\n",
       "       'canvass/special event', 'sup recently inspected',\n",
       "       'two people ate and got sick.', 'fire/complain', 'liquor catering',\n",
       "       'license renewal inspection for daycare',\n",
       "       'kitchen closed for renovation', 'task force not ready',\n",
       "       'liquor task force not ready', 'license/not ready', 'duplicated',\n",
       "       'day care license renewal', 'sample collection',\n",
       "       'license task force / not -for-profit club',\n",
       "       'reinspection of 48 hour notice', 'license canceled by owner',\n",
       "       'citation re-issued', 'task force package goods 1474',\n",
       "       'no entry-short complaint)', 'license task 1474',\n",
       "       'task force liquor 1474', 'owner suspended operation/license',\n",
       "       'out business', 'smoking complaint', 'license renewal for daycare',\n",
       "       'task force package liquor', 'task force liquor catering', 'o.b.',\n",
       "       're-inspection of close-up', 'canvass special events',\n",
       "       'license consultation', 'task force liquor inspection 1474',\n",
       "       'task force for liquor 1474', 'tavern 1470',\n",
       "       'task force(1470) liquor tavern', 'city', 'kids cafe',\n",
       "       'license wrong address', 'business not located', \"kids cafe'\"],\n",
       "      dtype=object)"
      ]
     },
     "execution_count": 67,
     "metadata": {},
     "output_type": "execute_result"
    }
   ],
   "source": [
    "inspections['Inspection Type'].unique()"
   ]
  },
  {
   "cell_type": "markdown",
   "metadata": {},
   "source": [
    "From just observing the data above (as well as using the file describing the different columns in the dataset provided by the City of Chicago), we notice the following:\n",
    "\n",
    "* Some inspections are canvass related. These correspond to regular inspections, performed at a frequency relative to the risk of the establishment.\n",
    "* Some inspections are consultation related. These are the ones done at the request of the owner before th eopening of an establishment.\n",
    "* Some inspections are license related such as license renewal and license request.\n",
    "* Soms inspections are complaint based such as complaint and complain re-inspection.\n",
    "* Some inspections are done following a suspected food poisoning\n",
    "* Some inspections are specially for alcohol related areas such as liquor task force and liquor catering.\n",
    "* Some inspections are to make sure some changes have been implemented such as recall or reinspection after 48 hour notice.\n",
    "* All of the above can either be inspections or reinspections\n",
    "\n",
    "Using this information, let's try to group together similar inspection types. Let us also add a column specifying whether the inspection is a reinspection or not.\n",
    "To that end, we use our previously defined functions, extract_label and get_dict_from_list."
   ]
  },
  {
   "cell_type": "code",
   "execution_count": 68,
   "metadata": {},
   "outputs": [],
   "source": [
    "unique_insp_types = pd.Series(inspections['Inspection Type'].unique())"
   ]
  },
  {
   "cell_type": "markdown",
   "metadata": {},
   "source": [
    "Let us now proceed with categorizing them into reinspections and first-time inspections."
   ]
  },
  {
   "cell_type": "code",
   "execution_count": 69,
   "metadata": {},
   "outputs": [],
   "source": [
    "re_inspection_vocab = ['recall', 'renewal', 'recent inspection', 'corrective action', 'reinspection', 're-inspection']"
   ]
  },
  {
   "cell_type": "code",
   "execution_count": 70,
   "metadata": {},
   "outputs": [
    {
     "name": "stdout",
     "output_type": "stream",
     "text": [
      "0                      canvass re-inspection\n",
      "5                      license re-inspection\n",
      "7                    complaint re-inspection\n",
      "8     suspected food poisoning re-inspection\n",
      "10                         recent inspection\n",
      "19              complaint-fire re-inspection\n",
      "32                 1315 license reinspection\n",
      "34           close-up/complaint reinspection\n",
      "40                         recall inspection\n",
      "41                         corrective action\n",
      "53                              reinspection\n",
      "59    license renewal inspection for daycare\n",
      "65                  day care license renewal\n",
      "68            reinspection of 48 hour notice\n",
      "78               license renewal for daycare\n",
      "82                 re-inspection of close-up\n",
      "dtype: object\n",
      "Reinspections: 16\n"
     ]
    }
   ],
   "source": [
    "first_timers, repeated_insp = extract_label(unique_insp_types, re_inspection_vocab, 'Reinspections')"
   ]
  },
  {
   "cell_type": "code",
   "execution_count": 71,
   "metadata": {},
   "outputs": [],
   "source": [
    "dict_reinspections = get_dict_from_list(first_timers,0)\n",
    "dict_reinspections.update(get_dict_from_list(repeated_insp,1))\n"
   ]
  },
  {
   "cell_type": "code",
   "execution_count": 72,
   "metadata": {},
   "outputs": [],
   "source": [
    "inspections['Reinspections'] = inspections['Inspection Type'].replace(dict_reinspections)"
   ]
  },
  {
   "cell_type": "code",
   "execution_count": 73,
   "metadata": {},
   "outputs": [
    {
     "data": {
      "text/plain": [
       "array([1, 0])"
      ]
     },
     "execution_count": 73,
     "metadata": {},
     "output_type": "execute_result"
    }
   ],
   "source": [
    "inspections['Reinspections'].unique()"
   ]
  },
  {
   "cell_type": "markdown",
   "metadata": {},
   "source": [
    "We have successfully added the feature 'Reinspection'."
   ]
  },
  {
   "cell_type": "markdown",
   "metadata": {},
   "source": [
    "We may now proceed with categorizing the inspection types into categories according to their type."
   ]
  },
  {
   "cell_type": "code",
   "execution_count": 74,
   "metadata": {},
   "outputs": [],
   "source": [
    "canvass_vocab = ['canvass', 'canvas']\n",
    "consultation_vocab = ['consultation']\n",
    "license_vocab = ['license']\n",
    "complains_vocab = ['complain', 'harp', 'fire']\n",
    "poison_vocab = ['poison', 'sick']\n",
    "task_force_vocab = ['force','task', 'liquor', 'tavern']\n",
    "# Note: difference between this and reinspections is: this is exclusively for reinspection after a failed first inspection or a notice\n",
    "recall_vocab = ['recall', 'recent inspection', 'corrective action' 'reinspection', 'reinspection of 48 hour notice', 're-inspection of close-up']\n"
   ]
  },
  {
   "cell_type": "code",
   "execution_count": 75,
   "metadata": {
    "scrolled": true
   },
   "outputs": [
    {
     "name": "stdout",
     "output_type": "stream",
     "text": [
      "0                 canvass re-inspection\n",
      "1                               canvass\n",
      "33                 canvass for rib fest\n",
      "39    canvass re inspection of close up\n",
      "46                               canvas\n",
      "49         canvass school/special event\n",
      "54                canvass/special event\n",
      "83               canvass special events\n",
      "dtype: object\n",
      "Canvass: 8\n",
      "11                consultation\n",
      "27    pre-license consultation\n",
      "84        license consultation\n",
      "dtype: object\n",
      "Consultations: 3\n",
      "2                                       license\n",
      "5                         license re-inspection\n",
      "6                            license-task force\n",
      "23                              license request\n",
      "32                    1315 license reinspection\n",
      "52                         license daycare 1586\n",
      "59       license renewal inspection for daycare\n",
      "63                            license/not ready\n",
      "65                     day care license renewal\n",
      "67    license task force / not -for-profit club\n",
      "69                    license canceled by owner\n",
      "73                            license task 1474\n",
      "75            owner suspended operation/license\n",
      "78                  license renewal for daycare\n",
      "91                        license wrong address\n",
      "dtype: object\n",
      "Licenses: 15\n",
      "3                         short form complaint\n",
      "4                                    complaint\n",
      "7                      complaint re-inspection\n",
      "12                              complaint-fire\n",
      "17                   short form fire-complaint\n",
      "19                complaint-fire re-inspection\n",
      "34             close-up/complaint reinspection\n",
      "35                               sup/complaint\n",
      "37    finish complaint inspection from 5-18-10\n",
      "42                              fire complaint\n",
      "43                                        fire\n",
      "51                          harp questionnaire\n",
      "57                               fire/complain\n",
      "72                   no entry-short complaint)\n",
      "77                           smoking complaint\n",
      "dtype: object\n",
      "Complaints: 15\n",
      "8     suspected food poisoning re-inspection\n",
      "9                   suspected food poisoning\n",
      "56              two people ate and got sick.\n",
      "dtype: object\n",
      "Poisonings: 3\n",
      "16                  package liquor 1474\n",
      "20               task force liquor 1475\n",
      "22               task force liquor 1470\n",
      "31                            taskforce\n",
      "38                   special task force\n",
      "44                           task force\n",
      "47                     task force night\n",
      "58                      liquor catering\n",
      "61                 task force not ready\n",
      "62          liquor task force not ready\n",
      "71        task force package goods 1474\n",
      "74               task force liquor 1474\n",
      "79            task force package liquor\n",
      "80           task force liquor catering\n",
      "85    task force liquor inspection 1474\n",
      "86           task force for liquor 1474\n",
      "87                          tavern 1470\n",
      "88       task force(1470) liquor tavern\n",
      "dtype: object\n",
      "Task-Forces: 18\n",
      "10                 recent inspection\n",
      "40                 recall inspection\n",
      "68    reinspection of 48 hour notice\n",
      "82         re-inspection of close-up\n",
      "dtype: object\n",
      "Recalls: 4\n"
     ]
    }
   ],
   "source": [
    "unique_insp_types, canvass = extract_label(unique_insp_types, canvass_vocab, 'Canvass')\n",
    "unique_insp_types, consultation = extract_label(unique_insp_types, consultation_vocab, 'Consultations')\n",
    "unique_insp_types, license = extract_label(unique_insp_types, license_vocab, 'Licenses')\n",
    "unique_insp_types, complaints = extract_label(unique_insp_types, complains_vocab, 'Complaints')\n",
    "unique_insp_types, poisonings = extract_label(unique_insp_types, poison_vocab, 'Poisonings')\n",
    "unique_insp_types, task_forces = extract_label(unique_insp_types, task_force_vocab, 'Task-Forces')\n",
    "unique_insp_types, recalls = extract_label(unique_insp_types, recall_vocab, 'Recalls')\n"
   ]
  },
  {
   "cell_type": "markdown",
   "metadata": {},
   "source": [
    "Let's see if there are any inspection types left that have not been grouped."
   ]
  },
  {
   "cell_type": "code",
   "execution_count": 76,
   "metadata": {},
   "outputs": [
    {
     "data": {
      "text/plain": [
       "28"
      ]
     },
     "execution_count": 76,
     "metadata": {},
     "output_type": "execute_result"
    }
   ],
   "source": [
    "unique_insp_types.size"
   ]
  },
  {
   "cell_type": "code",
   "execution_count": 77,
   "metadata": {},
   "outputs": [
    {
     "data": {
      "text/plain": [
       "13                      tag removal\n",
       "14                  out of business\n",
       "15                illegal operation\n",
       "18       special events (festivals)\n",
       "21                        not ready\n",
       "24                         no entry\n",
       "25                   non-inspection\n",
       "26                     possible fbi\n",
       "28                   summer feeding\n",
       "29                        expansion\n",
       "30                       error save\n",
       "36                              sup\n",
       "41                corrective action\n",
       "45               changed court date\n",
       "48                         addendum\n",
       "50                 taste of chicago\n",
       "53                     reinspection\n",
       "55           sup recently inspected\n",
       "60    kitchen closed for renovation\n",
       "64                       duplicated\n",
       "66                sample collection\n",
       "70               citation re-issued\n",
       "76                     out business\n",
       "81                             o.b.\n",
       "89                             city\n",
       "90                        kids cafe\n",
       "92             business not located\n",
       "93                       kids cafe'\n",
       "dtype: object"
      ]
     },
     "execution_count": 77,
     "metadata": {},
     "output_type": "execute_result"
    }
   ],
   "source": [
    "unique_insp_types"
   ]
  },
  {
   "cell_type": "markdown",
   "metadata": {},
   "source": [
    "By looking at them, we can see that:\n",
    "\n",
    "* Most of them don't make sense such as kids cafe, corrective action and possible fbi which we can group together in an 'other' category.\n",
    "* Some of them are closed, out of business or the inspection has simply not been conducted so they can be put together in a 'non-inspection' category."
   ]
  },
  {
   "cell_type": "code",
   "execution_count": 78,
   "metadata": {},
   "outputs": [],
   "source": [
    "no_insp_vocab = ['closed', 'o.b.', 'out business', 'out of business', 'non-inspection', 'no entry', 'not ready', 'not located']"
   ]
  },
  {
   "cell_type": "code",
   "execution_count": 79,
   "metadata": {},
   "outputs": [
    {
     "name": "stdout",
     "output_type": "stream",
     "text": [
      "14                  out of business\n",
      "21                        not ready\n",
      "24                         no entry\n",
      "25                   non-inspection\n",
      "60    kitchen closed for renovation\n",
      "76                     out business\n",
      "81                             o.b.\n",
      "92             business not located\n",
      "dtype: object\n",
      "No Inspection: 8\n"
     ]
    }
   ],
   "source": [
    "unique_insp_types, no_insp = extract_label(unique_insp_types, no_insp_vocab, 'No Inspection')\n",
    "other = unique_insp_types"
   ]
  },
  {
   "cell_type": "code",
   "execution_count": 80,
   "metadata": {},
   "outputs": [],
   "source": [
    "dict_insp_type = {}\n",
    "\n",
    "dict_canvass = get_dict_from_list(canvass,'Canvass')\n",
    "dict_insp_type.update(dict_canvass)\n",
    "dict_consultation = get_dict_from_list(consultation,'Consultation')\n",
    "dict_insp_type.update(dict_consultation)\n",
    "dict_license = get_dict_from_list(license,'License')\n",
    "dict_insp_type.update(dict_license)\n",
    "\n",
    "dict_complaints = get_dict_from_list(complaints,'Complaint')\n",
    "dict_insp_type.update(dict_complaints)\n",
    "dict_poisonings = get_dict_from_list(poisonings,'Poisoning')\n",
    "dict_insp_type.update(dict_poisonings)\n",
    "dict_task_forces = get_dict_from_list(task_forces,'Task-Forces')\n",
    "dict_insp_type.update(dict_task_forces)\n",
    "\n",
    "dict_recalls = get_dict_from_list(recalls,'Recall')\n",
    "dict_insp_type.update(dict_recalls)\n",
    "dict_no_insp = get_dict_from_list(no_insp,'No Inspection')\n",
    "dict_insp_type.update(dict_no_insp)\n",
    "dict_other = get_dict_from_list(other,'Other')\n",
    "dict_insp_type.update(dict_other)"
   ]
  },
  {
   "cell_type": "code",
   "execution_count": 81,
   "metadata": {},
   "outputs": [],
   "source": [
    "inspections['Inspection Type'] = inspections['Inspection Type'].replace(dict_insp_type)"
   ]
  },
  {
   "cell_type": "code",
   "execution_count": 82,
   "metadata": {},
   "outputs": [
    {
     "data": {
      "text/plain": [
       "array(['Canvass', 'License', 'Complaint', 'Poisoning', 'Recall',\n",
       "       'Consultation', 'Other', 'No Inspection', 'Task-Forces'],\n",
       "      dtype=object)"
      ]
     },
     "execution_count": 82,
     "metadata": {},
     "output_type": "execute_result"
    }
   ],
   "source": [
    "inspections['Inspection Type'].unique()"
   ]
  },
  {
   "cell_type": "markdown",
   "metadata": {},
   "source": [
    "### I. Clean Risk column"
   ]
  },
  {
   "cell_type": "markdown",
   "metadata": {},
   "source": [
    "Let's look at the unique values the risk can take."
   ]
  },
  {
   "cell_type": "code",
   "execution_count": 83,
   "metadata": {},
   "outputs": [
    {
     "data": {
      "text/plain": [
       "array(['Risk 1 (High)', 'Risk 2 (Medium)', 'Risk 3 (Low)', nan, 'All'],\n",
       "      dtype=object)"
      ]
     },
     "execution_count": 83,
     "metadata": {},
     "output_type": "execute_result"
    }
   ],
   "source": [
    "inspections['Risk'].unique()"
   ]
  },
  {
   "cell_type": "markdown",
   "metadata": {},
   "source": [
    "First of all, let's extract the Risk factor from the string, that way we will be able to perform arithmetic comparisons useful in our future analysis.\n",
    "\n",
    "E.g. 'Risk 3 (Low)' will be mapped 3"
   ]
  },
  {
   "cell_type": "code",
   "execution_count": 84,
   "metadata": {},
   "outputs": [],
   "source": [
    "def find_risk(entry):\n",
    "    if (entry == 'All'):\n",
    "        return 3\n",
    "    elif(pd.notna(entry)):\n",
    "        return int(re.findall('\\d+', entry)[0])\n",
    "    else:\n",
    "        return np.nan\n",
    "\n",
    "inspections['Risk'] = inspections['Risk'].apply(find_risk)"
   ]
  },
  {
   "cell_type": "code",
   "execution_count": 85,
   "metadata": {},
   "outputs": [
    {
     "data": {
      "text/plain": [
       "array([ 1.,  2.,  3., nan])"
      ]
     },
     "execution_count": 85,
     "metadata": {},
     "output_type": "execute_result"
    }
   ],
   "source": [
    "inspections['Risk'].unique()"
   ]
  },
  {
   "cell_type": "markdown",
   "metadata": {},
   "source": [
    "Let us look at how many missing values we have."
   ]
  },
  {
   "cell_type": "code",
   "execution_count": 86,
   "metadata": {},
   "outputs": [
    {
     "name": "stdout",
     "output_type": "stream",
     "text": [
      "0.03596247210264113% of rows are missing the Risk entry.\n"
     ]
    }
   ],
   "source": [
    "print('{}% of rows are missing the Risk entry.'.format(100 * inspections['Risk'].isna().sum()/len(inspections['Risk'])))\n"
   ]
  },
  {
   "cell_type": "markdown",
   "metadata": {},
   "source": [
    "We can safely drop missing values since they represent only 0.036%. **CAN WE PLEASE?**"
   ]
  },
  {
   "cell_type": "code",
   "execution_count": 87,
   "metadata": {},
   "outputs": [],
   "source": [
    "# inspections.dropna(axis=0, subset=['Risk'], inplace=True)"
   ]
  },
  {
   "cell_type": "code",
   "execution_count": 88,
   "metadata": {},
   "outputs": [],
   "source": [
    "# print('{}% of rows are missing the Risk entry.'.format(100 * inspections['Risk'].isna().sum()/len(inspections['Risk'])))"
   ]
  },
  {
   "cell_type": "markdown",
   "metadata": {},
   "source": [
    "Now we try to recover the missing values from other data entries"
   ]
  },
  {
   "cell_type": "code",
   "execution_count": 89,
   "metadata": {},
   "outputs": [
    {
     "name": "stdout",
     "output_type": "stream",
     "text": [
      "Number of null Risk values before recovering:  68\n"
     ]
    },
    {
     "data": {
      "text/html": [
       "<div>\n",
       "<style scoped>\n",
       "    .dataframe tbody tr th:only-of-type {\n",
       "        vertical-align: middle;\n",
       "    }\n",
       "\n",
       "    .dataframe tbody tr th {\n",
       "        vertical-align: top;\n",
       "    }\n",
       "\n",
       "    .dataframe thead th {\n",
       "        text-align: right;\n",
       "    }\n",
       "</style>\n",
       "<table border=\"1\" class=\"dataframe\">\n",
       "  <thead>\n",
       "    <tr style=\"text-align: right;\">\n",
       "      <th></th>\n",
       "      <th>Inspection ID</th>\n",
       "      <th>DBA Name</th>\n",
       "      <th>AKA Name</th>\n",
       "      <th>License #</th>\n",
       "      <th>Facility Type</th>\n",
       "      <th>Risk</th>\n",
       "      <th>Address</th>\n",
       "      <th>Inspection Date</th>\n",
       "      <th>Inspection Type</th>\n",
       "      <th>Results</th>\n",
       "      <th>Violations</th>\n",
       "      <th>Latitude</th>\n",
       "      <th>Longitude</th>\n",
       "      <th>Location</th>\n",
       "      <th>Community Area</th>\n",
       "      <th>Violation Numbers</th>\n",
       "      <th>Violation Comments</th>\n",
       "      <th>Reinspections</th>\n",
       "    </tr>\n",
       "  </thead>\n",
       "  <tbody>\n",
       "    <tr>\n",
       "      <th>3468</th>\n",
       "      <td>2321069</td>\n",
       "      <td>MJ ONE STOP SHOP</td>\n",
       "      <td>MJ ONE STOP SHOP</td>\n",
       "      <td>2698807.0</td>\n",
       "      <td>Other</td>\n",
       "      <td>NaN</td>\n",
       "      <td>249 E 115TH ST</td>\n",
       "      <td>2019-11-05T00:00:00.000</td>\n",
       "      <td>License</td>\n",
       "      <td>No Entry</td>\n",
       "      <td>NaN</td>\n",
       "      <td>41.685285</td>\n",
       "      <td>-87.616069</td>\n",
       "      <td>41.6852846288262, -87.61606883053517</td>\n",
       "      <td>West Pullman</td>\n",
       "      <td>NaN</td>\n",
       "      <td>NaN</td>\n",
       "      <td>0</td>\n",
       "    </tr>\n",
       "    <tr>\n",
       "      <th>11720</th>\n",
       "      <td>2316086</td>\n",
       "      <td>UNIVERSITY CENTER PROPERTY LLC</td>\n",
       "      <td>UNIVERSITY CENTER PROPERTY LLC</td>\n",
       "      <td>2694616.0</td>\n",
       "      <td>Other</td>\n",
       "      <td>NaN</td>\n",
       "      <td>525 S STATE ST</td>\n",
       "      <td>2019-10-18T00:00:00.000</td>\n",
       "      <td>License</td>\n",
       "      <td>Not Ready</td>\n",
       "      <td>NaN</td>\n",
       "      <td>41.875179</td>\n",
       "      <td>-87.627474</td>\n",
       "      <td>41.875179056057796, -87.6274737894488</td>\n",
       "      <td>Loop</td>\n",
       "      <td>[31, 32, 33, 34, 38, 41]</td>\n",
       "      <td>[ NO REUSE OF SINGLE SERVICE ARTICLES - Commen...</td>\n",
       "      <td>0</td>\n",
       "    </tr>\n",
       "  </tbody>\n",
       "</table>\n",
       "</div>"
      ],
      "text/plain": [
       "       Inspection ID                        DBA Name  \\\n",
       "3468         2321069                MJ ONE STOP SHOP   \n",
       "11720        2316086  UNIVERSITY CENTER PROPERTY LLC   \n",
       "\n",
       "                             AKA Name  License # Facility Type  Risk  \\\n",
       "3468                 MJ ONE STOP SHOP  2698807.0         Other   NaN   \n",
       "11720  UNIVERSITY CENTER PROPERTY LLC  2694616.0         Other   NaN   \n",
       "\n",
       "               Address          Inspection Date Inspection Type    Results  \\\n",
       "3468   249 E 115TH ST   2019-11-05T00:00:00.000         License   No Entry   \n",
       "11720  525 S STATE ST   2019-10-18T00:00:00.000         License  Not Ready   \n",
       "\n",
       "      Violations   Latitude  Longitude                               Location  \\\n",
       "3468         NaN  41.685285 -87.616069   41.6852846288262, -87.61606883053517   \n",
       "11720        NaN  41.875179 -87.627474  41.875179056057796, -87.6274737894488   \n",
       "\n",
       "      Community Area         Violation Numbers  \\\n",
       "3468    West Pullman                       NaN   \n",
       "11720           Loop  [31, 32, 33, 34, 38, 41]   \n",
       "\n",
       "                                      Violation Comments  Reinspections  \n",
       "3468                                                 NaN              0  \n",
       "11720  [ NO REUSE OF SINGLE SERVICE ARTICLES - Commen...              0  "
      ]
     },
     "execution_count": 89,
     "metadata": {},
     "output_type": "execute_result"
    }
   ],
   "source": [
    "print(\"Number of null Risk values before recovering: \", len(inspections[inspections['Risk'].isnull()]))\n",
    "inspections[inspections['Risk'].isnull()].head(2)"
   ]
  },
  {
   "cell_type": "code",
   "execution_count": 90,
   "metadata": {},
   "outputs": [
    {
     "name": "stderr",
     "output_type": "stream",
     "text": [
      "/Users/andrealphonse/anaconda/lib/python3.6/site-packages/ipykernel_launcher.py:5: FutureWarning: using a dict on a Series for aggregation\n",
      "is deprecated and will be removed in a future version. Use                 named aggregation instead.\n",
      "\n",
      "    >>> grouper.agg(name_1=func_1, name_2=func_2)\n",
      "\n",
      "  \"\"\"\n"
     ]
    },
    {
     "name": "stdout",
     "output_type": "stream",
     "text": [
      "Possible number of values for risk for some establishment :  [1. 2. 3. 4.]\n"
     ]
    },
    {
     "data": {
      "text/html": [
       "<div>\n",
       "<style scoped>\n",
       "    .dataframe tbody tr th:only-of-type {\n",
       "        vertical-align: middle;\n",
       "    }\n",
       "\n",
       "    .dataframe tbody tr th {\n",
       "        vertical-align: top;\n",
       "    }\n",
       "\n",
       "    .dataframe thead th {\n",
       "        text-align: right;\n",
       "    }\n",
       "</style>\n",
       "<table border=\"1\" class=\"dataframe\">\n",
       "  <thead>\n",
       "    <tr style=\"text-align: right;\">\n",
       "      <th></th>\n",
       "      <th>nbr_values</th>\n",
       "      <th>possible_values</th>\n",
       "    </tr>\n",
       "    <tr>\n",
       "      <th>DBA Name</th>\n",
       "      <th></th>\n",
       "      <th></th>\n",
       "    </tr>\n",
       "  </thead>\n",
       "  <tbody>\n",
       "    <tr>\n",
       "      <th>11 DINING</th>\n",
       "      <td>2.0</td>\n",
       "      <td>{1.0, 2.0}</td>\n",
       "    </tr>\n",
       "    <tr>\n",
       "      <th>11 DINING, LLC</th>\n",
       "      <td>3.0</td>\n",
       "      <td>{1.0, 2.0, 3.0}</td>\n",
       "    </tr>\n",
       "    <tr>\n",
       "      <th>111 COFFEE BAR</th>\n",
       "      <td>2.0</td>\n",
       "      <td>{2.0, 3.0}</td>\n",
       "    </tr>\n",
       "    <tr>\n",
       "      <th>123 FOOD</th>\n",
       "      <td>2.0</td>\n",
       "      <td>{2.0, 3.0}</td>\n",
       "    </tr>\n",
       "    <tr>\n",
       "      <th>14 W. HUBBARD, LLC</th>\n",
       "      <td>2.0</td>\n",
       "      <td>{1.0, 3.0}</td>\n",
       "    </tr>\n",
       "  </tbody>\n",
       "</table>\n",
       "</div>"
      ],
      "text/plain": [
       "                    nbr_values  possible_values\n",
       "DBA Name                                       \n",
       "11 DINING                  2.0       {1.0, 2.0}\n",
       "11 DINING, LLC             3.0  {1.0, 2.0, 3.0}\n",
       "111 COFFEE BAR             2.0       {2.0, 3.0}\n",
       "123 FOOD                   2.0       {2.0, 3.0}\n",
       "14 W. HUBBARD, LLC         2.0       {1.0, 3.0}"
      ]
     },
     "execution_count": 90,
     "metadata": {},
     "output_type": "execute_result"
    }
   ],
   "source": [
    "#we have to declare this function to be able to use it into aggregate\n",
    "def to_set(a):\n",
    "    #return {x for x in a if pd.notna(x)}\n",
    "    return set(a)\n",
    "establisment_risks = inspections[['DBA Name','Risk']].drop_duplicates().groupby('DBA Name')['Risk'].agg({'nbr_values': len, 'possible_values': to_set})\n",
    "print(\"Possible number of values for risk for some establishment : \", establisment_risks['nbr_values'].unique())\n",
    "establisment_risks[establisment_risks['nbr_values']>1].head()"
   ]
  },
  {
   "cell_type": "markdown",
   "metadata": {},
   "source": [
    "We see that the same establishment may have different Risk values (maybe the latter varies in time depending on the result of inspections). We choose to fill in the missing values in the Risk column by taking the minimum value of risk for that establishment."
   ]
  },
  {
   "cell_type": "code",
   "execution_count": 91,
   "metadata": {},
   "outputs": [],
   "source": [
    "#First remove NAN from sets\n",
    "establisment_risks['possible_values'] = establisment_risks.apply(\n",
    "    lambda row: {int(x) for x in row['possible_values'] if pd.notna(x)},\n",
    "    axis=1\n",
    ") \n",
    "#Then keep only one type per establishment\n",
    "establisment_risks['possible_values'] = establisment_risks.apply(\n",
    "    lambda row: min(row['possible_values']) if len(row['possible_values'])!=0 else np.NaN,\n",
    "    axis=1\n",
    ") \n",
    "establisment_risks_dict=establisment_risks['possible_values'].to_dict()\n",
    "#Assign a type to each missing value\n",
    "inspections['Risk'] = inspections.apply(\n",
    "    lambda row: establisment_risks_dict[row['DBA Name']] if pd.isna(row['Risk']) else row['Risk'],\n",
    "    axis=1\n",
    ")"
   ]
  },
  {
   "cell_type": "code",
   "execution_count": 92,
   "metadata": {},
   "outputs": [
    {
     "name": "stdout",
     "output_type": "stream",
     "text": [
      "Number of null Risk values after recovering:  42\n"
     ]
    },
    {
     "data": {
      "text/html": [
       "<div>\n",
       "<style scoped>\n",
       "    .dataframe tbody tr th:only-of-type {\n",
       "        vertical-align: middle;\n",
       "    }\n",
       "\n",
       "    .dataframe tbody tr th {\n",
       "        vertical-align: top;\n",
       "    }\n",
       "\n",
       "    .dataframe thead th {\n",
       "        text-align: right;\n",
       "    }\n",
       "</style>\n",
       "<table border=\"1\" class=\"dataframe\">\n",
       "  <thead>\n",
       "    <tr style=\"text-align: right;\">\n",
       "      <th></th>\n",
       "      <th>Inspection ID</th>\n",
       "      <th>DBA Name</th>\n",
       "      <th>AKA Name</th>\n",
       "      <th>License #</th>\n",
       "      <th>Facility Type</th>\n",
       "      <th>Risk</th>\n",
       "      <th>Address</th>\n",
       "      <th>Inspection Date</th>\n",
       "      <th>Inspection Type</th>\n",
       "      <th>Results</th>\n",
       "      <th>Violations</th>\n",
       "      <th>Latitude</th>\n",
       "      <th>Longitude</th>\n",
       "      <th>Location</th>\n",
       "      <th>Community Area</th>\n",
       "      <th>Violation Numbers</th>\n",
       "      <th>Violation Comments</th>\n",
       "      <th>Reinspections</th>\n",
       "    </tr>\n",
       "  </thead>\n",
       "  <tbody>\n",
       "    <tr>\n",
       "      <th>3468</th>\n",
       "      <td>2321069</td>\n",
       "      <td>MJ ONE STOP SHOP</td>\n",
       "      <td>MJ ONE STOP SHOP</td>\n",
       "      <td>2698807.0</td>\n",
       "      <td>Other</td>\n",
       "      <td>NaN</td>\n",
       "      <td>249 E 115TH ST</td>\n",
       "      <td>2019-11-05T00:00:00.000</td>\n",
       "      <td>License</td>\n",
       "      <td>No Entry</td>\n",
       "      <td>NaN</td>\n",
       "      <td>41.685285</td>\n",
       "      <td>-87.616069</td>\n",
       "      <td>41.6852846288262, -87.61606883053517</td>\n",
       "      <td>West Pullman</td>\n",
       "      <td>NaN</td>\n",
       "      <td>NaN</td>\n",
       "      <td>0</td>\n",
       "    </tr>\n",
       "    <tr>\n",
       "      <th>11720</th>\n",
       "      <td>2316086</td>\n",
       "      <td>UNIVERSITY CENTER PROPERTY LLC</td>\n",
       "      <td>UNIVERSITY CENTER PROPERTY LLC</td>\n",
       "      <td>2694616.0</td>\n",
       "      <td>Other</td>\n",
       "      <td>NaN</td>\n",
       "      <td>525 S STATE ST</td>\n",
       "      <td>2019-10-18T00:00:00.000</td>\n",
       "      <td>License</td>\n",
       "      <td>Not Ready</td>\n",
       "      <td>NaN</td>\n",
       "      <td>41.875179</td>\n",
       "      <td>-87.627474</td>\n",
       "      <td>41.875179056057796, -87.6274737894488</td>\n",
       "      <td>Loop</td>\n",
       "      <td>[31, 32, 33, 34, 38, 41]</td>\n",
       "      <td>[ NO REUSE OF SINGLE SERVICE ARTICLES - Commen...</td>\n",
       "      <td>0</td>\n",
       "    </tr>\n",
       "  </tbody>\n",
       "</table>\n",
       "</div>"
      ],
      "text/plain": [
       "       Inspection ID                        DBA Name  \\\n",
       "3468         2321069                MJ ONE STOP SHOP   \n",
       "11720        2316086  UNIVERSITY CENTER PROPERTY LLC   \n",
       "\n",
       "                             AKA Name  License # Facility Type  Risk  \\\n",
       "3468                 MJ ONE STOP SHOP  2698807.0         Other   NaN   \n",
       "11720  UNIVERSITY CENTER PROPERTY LLC  2694616.0         Other   NaN   \n",
       "\n",
       "               Address          Inspection Date Inspection Type    Results  \\\n",
       "3468   249 E 115TH ST   2019-11-05T00:00:00.000         License   No Entry   \n",
       "11720  525 S STATE ST   2019-10-18T00:00:00.000         License  Not Ready   \n",
       "\n",
       "      Violations   Latitude  Longitude                               Location  \\\n",
       "3468         NaN  41.685285 -87.616069   41.6852846288262, -87.61606883053517   \n",
       "11720        NaN  41.875179 -87.627474  41.875179056057796, -87.6274737894488   \n",
       "\n",
       "      Community Area         Violation Numbers  \\\n",
       "3468    West Pullman                       NaN   \n",
       "11720           Loop  [31, 32, 33, 34, 38, 41]   \n",
       "\n",
       "                                      Violation Comments  Reinspections  \n",
       "3468                                                 NaN              0  \n",
       "11720  [ NO REUSE OF SINGLE SERVICE ARTICLES - Commen...              0  "
      ]
     },
     "execution_count": 92,
     "metadata": {},
     "output_type": "execute_result"
    }
   ],
   "source": [
    "print(\"Number of null Risk values after recovering: \",len(inspections[inspections['Risk'].isnull()]))\n",
    "inspections[inspections['Risk'].isnull()].head(2)"
   ]
  },
  {
   "cell_type": "markdown",
   "metadata": {},
   "source": [
    "We see that we were able to recover 42% of the missing values; for the others let's use the default value 'Risk 2 (Medium)' as it's the medium value."
   ]
  },
  {
   "cell_type": "code",
   "execution_count": 93,
   "metadata": {},
   "outputs": [
    {
     "name": "stdout",
     "output_type": "stream",
     "text": [
      "Number of null Risk values after filling:  0\n"
     ]
    }
   ],
   "source": [
    "inspections['Risk'].fillna('2', inplace = True)\n",
    "print(\"Number of null Risk values after filling: \",len(inspections[inspections['Risk'].isnull()]))"
   ]
  },
  {
   "cell_type": "markdown",
   "metadata": {},
   "source": [
    "### J. Clean the License# column"
   ]
  },
  {
   "cell_type": "markdown",
   "metadata": {},
   "source": [
    "Let's look at what values the license number may take."
   ]
  },
  {
   "cell_type": "code",
   "execution_count": 94,
   "metadata": {},
   "outputs": [
    {
     "data": {
      "text/plain": [
       "array([2529116., 1545897., 1621730., ...,   14103.,   61801., 2009488.])"
      ]
     },
     "execution_count": 94,
     "metadata": {},
     "output_type": "execute_result"
    }
   ],
   "source": [
    "inspections['License #'].unique()"
   ]
  },
  {
   "cell_type": "markdown",
   "metadata": {},
   "source": [
    "As expected, they are integers. Let's see if there are any missing values and if so, how many."
   ]
  },
  {
   "cell_type": "code",
   "execution_count": 95,
   "metadata": {},
   "outputs": [
    {
     "name": "stdout",
     "output_type": "stream",
     "text": [
      "0.008990618025660282% of rows are missing the License # entry.\n"
     ]
    }
   ],
   "source": [
    "print('{}% of rows are missing the License # entry.'.format(100 * inspections['License #'].isna().sum()/len(inspections['License #'])))"
   ]
  },
  {
   "cell_type": "markdown",
   "metadata": {},
   "source": [
    "What do the entries with no \"license #\" look like?"
   ]
  },
  {
   "cell_type": "code",
   "execution_count": 96,
   "metadata": {},
   "outputs": [
    {
     "data": {
      "text/html": [
       "<div>\n",
       "<style scoped>\n",
       "    .dataframe tbody tr th:only-of-type {\n",
       "        vertical-align: middle;\n",
       "    }\n",
       "\n",
       "    .dataframe tbody tr th {\n",
       "        vertical-align: top;\n",
       "    }\n",
       "\n",
       "    .dataframe thead th {\n",
       "        text-align: right;\n",
       "    }\n",
       "</style>\n",
       "<table border=\"1\" class=\"dataframe\">\n",
       "  <thead>\n",
       "    <tr style=\"text-align: right;\">\n",
       "      <th></th>\n",
       "      <th>Inspection ID</th>\n",
       "      <th>DBA Name</th>\n",
       "      <th>AKA Name</th>\n",
       "      <th>License #</th>\n",
       "      <th>Facility Type</th>\n",
       "      <th>Risk</th>\n",
       "      <th>Address</th>\n",
       "      <th>Inspection Date</th>\n",
       "      <th>Inspection Type</th>\n",
       "      <th>Results</th>\n",
       "      <th>Violations</th>\n",
       "      <th>Latitude</th>\n",
       "      <th>Longitude</th>\n",
       "      <th>Location</th>\n",
       "      <th>Community Area</th>\n",
       "      <th>Violation Numbers</th>\n",
       "      <th>Violation Comments</th>\n",
       "      <th>Reinspections</th>\n",
       "    </tr>\n",
       "  </thead>\n",
       "  <tbody>\n",
       "    <tr>\n",
       "      <th>74120</th>\n",
       "      <td>2290863</td>\n",
       "      <td>ST. DEMETRIOS GREEK ORTHODOX CHURCH</td>\n",
       "      <td>ST. DEMETRIOS CHURCH</td>\n",
       "      <td>NaN</td>\n",
       "      <td>Other</td>\n",
       "      <td>2</td>\n",
       "      <td>2727 W WINONA ST</td>\n",
       "      <td>2019-06-04T00:00:00.000</td>\n",
       "      <td>Canvass</td>\n",
       "      <td>Pass w/ Conditions</td>\n",
       "      <td>3. MANAGEMENT, FOOD EMPLOYEE AND CONDITIONAL E...</td>\n",
       "      <td>41.974653</td>\n",
       "      <td>-87.697529</td>\n",
       "      <td>41.974653353169366, -87.69752945714045</td>\n",
       "      <td>Lincoln Square</td>\n",
       "      <td>[32, 33, 34, 41, 43]</td>\n",
       "      <td>[ All food and non-food contact equipment and ...</td>\n",
       "      <td>0</td>\n",
       "    </tr>\n",
       "    <tr>\n",
       "      <th>74121</th>\n",
       "      <td>2181316</td>\n",
       "      <td>ST. DEMETRIOS GREEK ORTHODOX CHURCH</td>\n",
       "      <td>ST. DEMETRIOS CHURCH</td>\n",
       "      <td>NaN</td>\n",
       "      <td>Other</td>\n",
       "      <td>2</td>\n",
       "      <td>2727 W WINONA ST</td>\n",
       "      <td>2018-06-13T00:00:00.000</td>\n",
       "      <td>Canvass</td>\n",
       "      <td>Pass</td>\n",
       "      <td>32. FOOD AND NON-FOOD CONTACT SURFACES PROPERL...</td>\n",
       "      <td>41.974653</td>\n",
       "      <td>-87.697529</td>\n",
       "      <td>41.974653353169366, -87.69752945714045</td>\n",
       "      <td>Lincoln Square</td>\n",
       "      <td>NaN</td>\n",
       "      <td>NaN</td>\n",
       "      <td>0</td>\n",
       "    </tr>\n",
       "    <tr>\n",
       "      <th>74122</th>\n",
       "      <td>2071910</td>\n",
       "      <td>ST. DEMETRIOS GREEK ORTHODOX CHURCH</td>\n",
       "      <td>ST. DEMETRIOS CHURCH</td>\n",
       "      <td>NaN</td>\n",
       "      <td>Other</td>\n",
       "      <td>2</td>\n",
       "      <td>2727 W WINONA ST</td>\n",
       "      <td>2017-08-04T00:00:00.000</td>\n",
       "      <td>Canvass</td>\n",
       "      <td>Pass</td>\n",
       "      <td>32. FOOD AND NON-FOOD CONTACT SURFACES PROPERL...</td>\n",
       "      <td>41.974653</td>\n",
       "      <td>-87.697529</td>\n",
       "      <td>41.974653353169366, -87.69752945714045</td>\n",
       "      <td>Lincoln Square</td>\n",
       "      <td>[38, 54, 55]</td>\n",
       "      <td>[ FOUND EVIDENCE OF RATS AT DUMPSTER AREAS.RAT...</td>\n",
       "      <td>0</td>\n",
       "    </tr>\n",
       "    <tr>\n",
       "      <th>74123</th>\n",
       "      <td>1933084</td>\n",
       "      <td>ST. DEMETRIOS GREEK ORTHODOX CHURCH</td>\n",
       "      <td>ST. DEMETRIOS CHURCH</td>\n",
       "      <td>NaN</td>\n",
       "      <td>Other</td>\n",
       "      <td>2</td>\n",
       "      <td>2727 W WINONA ST</td>\n",
       "      <td>2016-06-20T00:00:00.000</td>\n",
       "      <td>Canvass</td>\n",
       "      <td>Pass</td>\n",
       "      <td>38. VENTILATION: ROOMS AND EQUIPMENT VENTED AS...</td>\n",
       "      <td>41.974653</td>\n",
       "      <td>-87.697529</td>\n",
       "      <td>41.974653353169366, -87.69752945714045</td>\n",
       "      <td>Lincoln Square</td>\n",
       "      <td>NaN</td>\n",
       "      <td>NaN</td>\n",
       "      <td>0</td>\n",
       "    </tr>\n",
       "    <tr>\n",
       "      <th>74124</th>\n",
       "      <td>1561809</td>\n",
       "      <td>ST. DEMETRIOS GREEK ORTHODOX CHURCH</td>\n",
       "      <td>ST. DEMETRIOS CHURCH</td>\n",
       "      <td>NaN</td>\n",
       "      <td>Other</td>\n",
       "      <td>2</td>\n",
       "      <td>2727 W WINONA ST</td>\n",
       "      <td>2015-08-04T00:00:00.000</td>\n",
       "      <td>Canvass</td>\n",
       "      <td>Pass</td>\n",
       "      <td>NaN</td>\n",
       "      <td>41.974653</td>\n",
       "      <td>-87.697529</td>\n",
       "      <td>41.974653353169366, -87.69752945714045</td>\n",
       "      <td>Lincoln Square</td>\n",
       "      <td>[32, 38]</td>\n",
       "      <td>[ PAPER TOWELS DISPENSER NOT MAINAINED  REMAIN...</td>\n",
       "      <td>0</td>\n",
       "    </tr>\n",
       "    <tr>\n",
       "      <th>74125</th>\n",
       "      <td>1459918</td>\n",
       "      <td>ST. DEMETRIOS GREEK ORTHODOX CHURCH</td>\n",
       "      <td>ST. DEMETRIOS CHURCH</td>\n",
       "      <td>NaN</td>\n",
       "      <td>Other</td>\n",
       "      <td>2</td>\n",
       "      <td>2727 W WINONA ST</td>\n",
       "      <td>2014-05-20T00:00:00.000</td>\n",
       "      <td>Canvass</td>\n",
       "      <td>Pass</td>\n",
       "      <td>33. FOOD AND NON-FOOD CONTACT EQUIPMENT UTENSI...</td>\n",
       "      <td>41.974653</td>\n",
       "      <td>-87.697529</td>\n",
       "      <td>41.974653353169366, -87.69752945714045</td>\n",
       "      <td>Lincoln Square</td>\n",
       "      <td>[38]</td>\n",
       "      <td>[ ROOMS AND EQUIPMENT VENTED AS REQUIRED]</td>\n",
       "      <td>0</td>\n",
       "    </tr>\n",
       "    <tr>\n",
       "      <th>74126</th>\n",
       "      <td>1099104</td>\n",
       "      <td>ST. DEMETRIOS GREEK ORTHODOX CHURCH</td>\n",
       "      <td>ST. DEMETRIOS CHURCH</td>\n",
       "      <td>NaN</td>\n",
       "      <td>Other</td>\n",
       "      <td>2</td>\n",
       "      <td>2727 W WINONA ST</td>\n",
       "      <td>2013-07-24T00:00:00.000</td>\n",
       "      <td>Canvass</td>\n",
       "      <td>Pass</td>\n",
       "      <td>32. FOOD AND NON-FOOD CONTACT SURFACES PROPERL...</td>\n",
       "      <td>41.974653</td>\n",
       "      <td>-87.697529</td>\n",
       "      <td>41.974653353169366, -87.69752945714045</td>\n",
       "      <td>Lincoln Square</td>\n",
       "      <td>[34]</td>\n",
       "      <td>[ CONSTRUCTED PER CODE, CLEANED, GOOD REPAIR, ...</td>\n",
       "      <td>0</td>\n",
       "    </tr>\n",
       "    <tr>\n",
       "      <th>74127</th>\n",
       "      <td>1188285</td>\n",
       "      <td>ST. DEMETRIOS GREEK ORTHODOX CHURCH</td>\n",
       "      <td>ST. DEMETRIOS CHURCH</td>\n",
       "      <td>NaN</td>\n",
       "      <td>Other</td>\n",
       "      <td>2</td>\n",
       "      <td>2727 W WINONA ST</td>\n",
       "      <td>2012-07-25T00:00:00.000</td>\n",
       "      <td>Canvass</td>\n",
       "      <td>Pass</td>\n",
       "      <td>33. FOOD AND NON-FOOD CONTACT EQUIPMENT UTENSI...</td>\n",
       "      <td>41.974653</td>\n",
       "      <td>-87.697529</td>\n",
       "      <td>41.974653353169366, -87.69752945714045</td>\n",
       "      <td>Lincoln Square</td>\n",
       "      <td>[34]</td>\n",
       "      <td>[ CONSTRUCTED PER CODE, CLEANED, GOOD REPAIR, ...</td>\n",
       "      <td>0</td>\n",
       "    </tr>\n",
       "    <tr>\n",
       "      <th>74128</th>\n",
       "      <td>521659</td>\n",
       "      <td>ST. DEMETRIOS GREEK ORTHODOX CHURCH</td>\n",
       "      <td>ST. DEMETRIOS CHURCH</td>\n",
       "      <td>NaN</td>\n",
       "      <td>Other</td>\n",
       "      <td>2</td>\n",
       "      <td>2727 W WINONA ST</td>\n",
       "      <td>2011-08-10T00:00:00.000</td>\n",
       "      <td>Canvass</td>\n",
       "      <td>Pass</td>\n",
       "      <td>NaN</td>\n",
       "      <td>41.974653</td>\n",
       "      <td>-87.697529</td>\n",
       "      <td>41.974653353169366, -87.69752945714045</td>\n",
       "      <td>Lincoln Square</td>\n",
       "      <td>[30, 41]</td>\n",
       "      <td>[ CUSTOMER ADVISORY POSTED AS NEEDED - Comment...</td>\n",
       "      <td>0</td>\n",
       "    </tr>\n",
       "    <tr>\n",
       "      <th>74129</th>\n",
       "      <td>339207</td>\n",
       "      <td>ST DEMETRIOS CHURCH</td>\n",
       "      <td>ST DEMETRIOS CHURCH</td>\n",
       "      <td>NaN</td>\n",
       "      <td>Other</td>\n",
       "      <td>1</td>\n",
       "      <td>2727 W WINONA ST</td>\n",
       "      <td>2010-07-30T00:00:00.000</td>\n",
       "      <td>Other</td>\n",
       "      <td>Pass</td>\n",
       "      <td>32. FOOD AND NON-FOOD CONTACT SURFACES PROPERL...</td>\n",
       "      <td>41.974653</td>\n",
       "      <td>-87.697529</td>\n",
       "      <td>41.974653353169366, -87.69752945714045</td>\n",
       "      <td>Lincoln Square</td>\n",
       "      <td>[40]</td>\n",
       "      <td>[  INSTRUCTED TO PROVIDE THERMOMETER VISIBLE I...</td>\n",
       "      <td>0</td>\n",
       "    </tr>\n",
       "    <tr>\n",
       "      <th>84110</th>\n",
       "      <td>1184330</td>\n",
       "      <td>OLD ST. PATRICK'S CHURCH</td>\n",
       "      <td>OLD ST. PATRICK'S CHURCH</td>\n",
       "      <td>NaN</td>\n",
       "      <td>Religious Establishment</td>\n",
       "      <td>2</td>\n",
       "      <td>700 W ADAMS ST</td>\n",
       "      <td>2012-05-22T00:00:00.000</td>\n",
       "      <td>Other</td>\n",
       "      <td>Pass</td>\n",
       "      <td>34. FLOORS: CONSTRUCTED PER CODE, CLEANED, GOO...</td>\n",
       "      <td>41.879367</td>\n",
       "      <td>-87.644105</td>\n",
       "      <td>41.87936739625875, -87.64410546134096</td>\n",
       "      <td>Near West Side</td>\n",
       "      <td>[19, 32, 32, 33, 35, 38]</td>\n",
       "      <td>[ OUTSIDE GREASE CONTAINER NOT MAINTAINED. SUR...</td>\n",
       "      <td>0</td>\n",
       "    </tr>\n",
       "    <tr>\n",
       "      <th>84112</th>\n",
       "      <td>229453</td>\n",
       "      <td>OLD ST. PATRICK'S CHURCH</td>\n",
       "      <td>OLD ST. PATRICK'S CHURCH</td>\n",
       "      <td>NaN</td>\n",
       "      <td>Religious Establishment</td>\n",
       "      <td>2</td>\n",
       "      <td>700 W ADAMS ST</td>\n",
       "      <td>2010-06-08T00:00:00.000</td>\n",
       "      <td>Other</td>\n",
       "      <td>Pass</td>\n",
       "      <td>33. FOOD AND NON-FOOD CONTACT EQUIPMENT UTENSI...</td>\n",
       "      <td>41.879367</td>\n",
       "      <td>-87.644105</td>\n",
       "      <td>41.87936739625875, -87.64410546134096</td>\n",
       "      <td>Near West Side</td>\n",
       "      <td>[32, 33, 34, 38, 40]</td>\n",
       "      <td>[ RAW WOODEN WALL SHELVING IN KITCHEN MUST BE ...</td>\n",
       "      <td>0</td>\n",
       "    </tr>\n",
       "    <tr>\n",
       "      <th>161311</th>\n",
       "      <td>1152076</td>\n",
       "      <td>ARGENTINA FOODS</td>\n",
       "      <td>ARGENTINA FOODS</td>\n",
       "      <td>NaN</td>\n",
       "      <td>Market</td>\n",
       "      <td>2</td>\n",
       "      <td>4500 S WOOD ST</td>\n",
       "      <td>2014-04-10T00:00:00.000</td>\n",
       "      <td>Canvass</td>\n",
       "      <td>Out of Business</td>\n",
       "      <td>NaN</td>\n",
       "      <td>41.812105</td>\n",
       "      <td>-87.670072</td>\n",
       "      <td>41.812105152977246, -87.67007183351623</td>\n",
       "      <td>West Englewood</td>\n",
       "      <td>[8, 33, 34, 35]</td>\n",
       "      <td>[  CLEAN, PROPER TEMPERATURE, CONCENTRATION, E...</td>\n",
       "      <td>0</td>\n",
       "    </tr>\n",
       "    <tr>\n",
       "      <th>193579</th>\n",
       "      <td>1214242</td>\n",
       "      <td>GOD'S BATTLE AXE PRAYER ACADEMY</td>\n",
       "      <td>GOD'S BATTLE AXE PRAYER ACADEMY</td>\n",
       "      <td>NaN</td>\n",
       "      <td>Religious Establishment</td>\n",
       "      <td>1</td>\n",
       "      <td>6969 N WESTERN AVE</td>\n",
       "      <td>2012-03-19T00:00:00.000</td>\n",
       "      <td>Canvass</td>\n",
       "      <td>Pass</td>\n",
       "      <td>NaN</td>\n",
       "      <td>42.008303</td>\n",
       "      <td>-87.690005</td>\n",
       "      <td>42.00830313068745, -87.69000508529592</td>\n",
       "      <td>West Ridge</td>\n",
       "      <td>NaN</td>\n",
       "      <td>NaN</td>\n",
       "      <td>1</td>\n",
       "    </tr>\n",
       "    <tr>\n",
       "      <th>193580</th>\n",
       "      <td>679787</td>\n",
       "      <td>GOD'S BATTLE AXE PRAYER ACADEMY</td>\n",
       "      <td>GOD'S BATTLE AXE PRAYER ACADEMY</td>\n",
       "      <td>NaN</td>\n",
       "      <td>Religious Establishment</td>\n",
       "      <td>1</td>\n",
       "      <td>6969 N WESTERN AVE</td>\n",
       "      <td>2012-03-14T00:00:00.000</td>\n",
       "      <td>Canvass</td>\n",
       "      <td>Fail</td>\n",
       "      <td>9. WATER SOURCE: SAFE, HOT &amp; COLD UNDER CITY P...</td>\n",
       "      <td>42.008303</td>\n",
       "      <td>-87.690005</td>\n",
       "      <td>42.00830313068745, -87.69000508529592</td>\n",
       "      <td>West Ridge</td>\n",
       "      <td>NaN</td>\n",
       "      <td>NaN</td>\n",
       "      <td>1</td>\n",
       "    </tr>\n",
       "    <tr>\n",
       "      <th>193581</th>\n",
       "      <td>670328</td>\n",
       "      <td>GOD'S BATTLE AXE PRAYER ACADEMY</td>\n",
       "      <td>GOD'S BATTLE AXE PRAYER ACADEMY</td>\n",
       "      <td>NaN</td>\n",
       "      <td>Religious Establishment</td>\n",
       "      <td>1</td>\n",
       "      <td>6969 N WESTERN AVE</td>\n",
       "      <td>2012-02-09T00:00:00.000</td>\n",
       "      <td>Canvass</td>\n",
       "      <td>Fail</td>\n",
       "      <td>11. ADEQUATE NUMBER, CONVENIENT, ACCESSIBLE, D...</td>\n",
       "      <td>42.008303</td>\n",
       "      <td>-87.690005</td>\n",
       "      <td>42.00830313068745, -87.69000508529592</td>\n",
       "      <td>West Ridge</td>\n",
       "      <td>NaN</td>\n",
       "      <td>NaN</td>\n",
       "      <td>0</td>\n",
       "    </tr>\n",
       "    <tr>\n",
       "      <th>194773</th>\n",
       "      <td>417318</td>\n",
       "      <td>AVALON COMMUNITY CHURCH/FREEDOM HOME ACADEMY</td>\n",
       "      <td>AVALON COMMUNITY CHURCH/FREEDOM HOME ACADEMY</td>\n",
       "      <td>NaN</td>\n",
       "      <td>Religious Establishment</td>\n",
       "      <td>1</td>\n",
       "      <td>8100 S DANTE AVE</td>\n",
       "      <td>2011-01-10T00:00:00.000</td>\n",
       "      <td>Complaint</td>\n",
       "      <td>Fail</td>\n",
       "      <td>NaN</td>\n",
       "      <td>41.747711</td>\n",
       "      <td>-87.589539</td>\n",
       "      <td>41.7477112449663, -87.5895386579929</td>\n",
       "      <td>Avalon Park</td>\n",
       "      <td>NaN</td>\n",
       "      <td>NaN</td>\n",
       "      <td>0</td>\n",
       "    </tr>\n",
       "  </tbody>\n",
       "</table>\n",
       "</div>"
      ],
      "text/plain": [
       "        Inspection ID                                      DBA Name  \\\n",
       "74120         2290863           ST. DEMETRIOS GREEK ORTHODOX CHURCH   \n",
       "74121         2181316           ST. DEMETRIOS GREEK ORTHODOX CHURCH   \n",
       "74122         2071910           ST. DEMETRIOS GREEK ORTHODOX CHURCH   \n",
       "74123         1933084           ST. DEMETRIOS GREEK ORTHODOX CHURCH   \n",
       "74124         1561809           ST. DEMETRIOS GREEK ORTHODOX CHURCH   \n",
       "74125         1459918           ST. DEMETRIOS GREEK ORTHODOX CHURCH   \n",
       "74126         1099104           ST. DEMETRIOS GREEK ORTHODOX CHURCH   \n",
       "74127         1188285           ST. DEMETRIOS GREEK ORTHODOX CHURCH   \n",
       "74128          521659           ST. DEMETRIOS GREEK ORTHODOX CHURCH   \n",
       "74129          339207                           ST DEMETRIOS CHURCH   \n",
       "84110         1184330                      OLD ST. PATRICK'S CHURCH   \n",
       "84112          229453                      OLD ST. PATRICK'S CHURCH   \n",
       "161311        1152076                               ARGENTINA FOODS   \n",
       "193579        1214242               GOD'S BATTLE AXE PRAYER ACADEMY   \n",
       "193580         679787               GOD'S BATTLE AXE PRAYER ACADEMY   \n",
       "193581         670328               GOD'S BATTLE AXE PRAYER ACADEMY   \n",
       "194773         417318  AVALON COMMUNITY CHURCH/FREEDOM HOME ACADEMY   \n",
       "\n",
       "                                            AKA Name  License #  \\\n",
       "74120                           ST. DEMETRIOS CHURCH        NaN   \n",
       "74121                           ST. DEMETRIOS CHURCH        NaN   \n",
       "74122                           ST. DEMETRIOS CHURCH        NaN   \n",
       "74123                           ST. DEMETRIOS CHURCH        NaN   \n",
       "74124                           ST. DEMETRIOS CHURCH        NaN   \n",
       "74125                           ST. DEMETRIOS CHURCH        NaN   \n",
       "74126                           ST. DEMETRIOS CHURCH        NaN   \n",
       "74127                           ST. DEMETRIOS CHURCH        NaN   \n",
       "74128                           ST. DEMETRIOS CHURCH        NaN   \n",
       "74129                            ST DEMETRIOS CHURCH        NaN   \n",
       "84110                       OLD ST. PATRICK'S CHURCH        NaN   \n",
       "84112                       OLD ST. PATRICK'S CHURCH        NaN   \n",
       "161311                               ARGENTINA FOODS        NaN   \n",
       "193579               GOD'S BATTLE AXE PRAYER ACADEMY        NaN   \n",
       "193580               GOD'S BATTLE AXE PRAYER ACADEMY        NaN   \n",
       "193581               GOD'S BATTLE AXE PRAYER ACADEMY        NaN   \n",
       "194773  AVALON COMMUNITY CHURCH/FREEDOM HOME ACADEMY        NaN   \n",
       "\n",
       "                  Facility Type Risk              Address  \\\n",
       "74120                     Other    2    2727 W WINONA ST    \n",
       "74121                     Other    2    2727 W WINONA ST    \n",
       "74122                     Other    2    2727 W WINONA ST    \n",
       "74123                     Other    2    2727 W WINONA ST    \n",
       "74124                     Other    2    2727 W WINONA ST    \n",
       "74125                     Other    2    2727 W WINONA ST    \n",
       "74126                     Other    2    2727 W WINONA ST    \n",
       "74127                     Other    2    2727 W WINONA ST    \n",
       "74128                     Other    2    2727 W WINONA ST    \n",
       "74129                     Other    1    2727 W WINONA ST    \n",
       "84110   Religious Establishment    2      700 W ADAMS ST    \n",
       "84112   Religious Establishment    2      700 W ADAMS ST    \n",
       "161311                   Market    2      4500 S WOOD ST    \n",
       "193579  Religious Establishment    1  6969 N WESTERN AVE    \n",
       "193580  Religious Establishment    1  6969 N WESTERN AVE    \n",
       "193581  Religious Establishment    1  6969 N WESTERN AVE    \n",
       "194773  Religious Establishment    1    8100 S DANTE AVE    \n",
       "\n",
       "                Inspection Date Inspection Type             Results  \\\n",
       "74120   2019-06-04T00:00:00.000         Canvass  Pass w/ Conditions   \n",
       "74121   2018-06-13T00:00:00.000         Canvass                Pass   \n",
       "74122   2017-08-04T00:00:00.000         Canvass                Pass   \n",
       "74123   2016-06-20T00:00:00.000         Canvass                Pass   \n",
       "74124   2015-08-04T00:00:00.000         Canvass                Pass   \n",
       "74125   2014-05-20T00:00:00.000         Canvass                Pass   \n",
       "74126   2013-07-24T00:00:00.000         Canvass                Pass   \n",
       "74127   2012-07-25T00:00:00.000         Canvass                Pass   \n",
       "74128   2011-08-10T00:00:00.000         Canvass                Pass   \n",
       "74129   2010-07-30T00:00:00.000           Other                Pass   \n",
       "84110   2012-05-22T00:00:00.000           Other                Pass   \n",
       "84112   2010-06-08T00:00:00.000           Other                Pass   \n",
       "161311  2014-04-10T00:00:00.000         Canvass     Out of Business   \n",
       "193579  2012-03-19T00:00:00.000         Canvass                Pass   \n",
       "193580  2012-03-14T00:00:00.000         Canvass                Fail   \n",
       "193581  2012-02-09T00:00:00.000         Canvass                Fail   \n",
       "194773  2011-01-10T00:00:00.000       Complaint                Fail   \n",
       "\n",
       "                                               Violations   Latitude  \\\n",
       "74120   3. MANAGEMENT, FOOD EMPLOYEE AND CONDITIONAL E...  41.974653   \n",
       "74121   32. FOOD AND NON-FOOD CONTACT SURFACES PROPERL...  41.974653   \n",
       "74122   32. FOOD AND NON-FOOD CONTACT SURFACES PROPERL...  41.974653   \n",
       "74123   38. VENTILATION: ROOMS AND EQUIPMENT VENTED AS...  41.974653   \n",
       "74124                                                 NaN  41.974653   \n",
       "74125   33. FOOD AND NON-FOOD CONTACT EQUIPMENT UTENSI...  41.974653   \n",
       "74126   32. FOOD AND NON-FOOD CONTACT SURFACES PROPERL...  41.974653   \n",
       "74127   33. FOOD AND NON-FOOD CONTACT EQUIPMENT UTENSI...  41.974653   \n",
       "74128                                                 NaN  41.974653   \n",
       "74129   32. FOOD AND NON-FOOD CONTACT SURFACES PROPERL...  41.974653   \n",
       "84110   34. FLOORS: CONSTRUCTED PER CODE, CLEANED, GOO...  41.879367   \n",
       "84112   33. FOOD AND NON-FOOD CONTACT EQUIPMENT UTENSI...  41.879367   \n",
       "161311                                                NaN  41.812105   \n",
       "193579                                                NaN  42.008303   \n",
       "193580  9. WATER SOURCE: SAFE, HOT & COLD UNDER CITY P...  42.008303   \n",
       "193581  11. ADEQUATE NUMBER, CONVENIENT, ACCESSIBLE, D...  42.008303   \n",
       "194773                                                NaN  41.747711   \n",
       "\n",
       "        Longitude                                Location  Community Area  \\\n",
       "74120  -87.697529  41.974653353169366, -87.69752945714045  Lincoln Square   \n",
       "74121  -87.697529  41.974653353169366, -87.69752945714045  Lincoln Square   \n",
       "74122  -87.697529  41.974653353169366, -87.69752945714045  Lincoln Square   \n",
       "74123  -87.697529  41.974653353169366, -87.69752945714045  Lincoln Square   \n",
       "74124  -87.697529  41.974653353169366, -87.69752945714045  Lincoln Square   \n",
       "74125  -87.697529  41.974653353169366, -87.69752945714045  Lincoln Square   \n",
       "74126  -87.697529  41.974653353169366, -87.69752945714045  Lincoln Square   \n",
       "74127  -87.697529  41.974653353169366, -87.69752945714045  Lincoln Square   \n",
       "74128  -87.697529  41.974653353169366, -87.69752945714045  Lincoln Square   \n",
       "74129  -87.697529  41.974653353169366, -87.69752945714045  Lincoln Square   \n",
       "84110  -87.644105   41.87936739625875, -87.64410546134096  Near West Side   \n",
       "84112  -87.644105   41.87936739625875, -87.64410546134096  Near West Side   \n",
       "161311 -87.670072  41.812105152977246, -87.67007183351623  West Englewood   \n",
       "193579 -87.690005   42.00830313068745, -87.69000508529592      West Ridge   \n",
       "193580 -87.690005   42.00830313068745, -87.69000508529592      West Ridge   \n",
       "193581 -87.690005   42.00830313068745, -87.69000508529592      West Ridge   \n",
       "194773 -87.589539     41.7477112449663, -87.5895386579929     Avalon Park   \n",
       "\n",
       "               Violation Numbers  \\\n",
       "74120       [32, 33, 34, 41, 43]   \n",
       "74121                        NaN   \n",
       "74122               [38, 54, 55]   \n",
       "74123                        NaN   \n",
       "74124                   [32, 38]   \n",
       "74125                       [38]   \n",
       "74126                       [34]   \n",
       "74127                       [34]   \n",
       "74128                   [30, 41]   \n",
       "74129                       [40]   \n",
       "84110   [19, 32, 32, 33, 35, 38]   \n",
       "84112       [32, 33, 34, 38, 40]   \n",
       "161311           [8, 33, 34, 35]   \n",
       "193579                       NaN   \n",
       "193580                       NaN   \n",
       "193581                       NaN   \n",
       "194773                       NaN   \n",
       "\n",
       "                                       Violation Comments  Reinspections  \n",
       "74120   [ All food and non-food contact equipment and ...              0  \n",
       "74121                                                 NaN              0  \n",
       "74122   [ FOUND EVIDENCE OF RATS AT DUMPSTER AREAS.RAT...              0  \n",
       "74123                                                 NaN              0  \n",
       "74124   [ PAPER TOWELS DISPENSER NOT MAINAINED  REMAIN...              0  \n",
       "74125           [ ROOMS AND EQUIPMENT VENTED AS REQUIRED]              0  \n",
       "74126   [ CONSTRUCTED PER CODE, CLEANED, GOOD REPAIR, ...              0  \n",
       "74127   [ CONSTRUCTED PER CODE, CLEANED, GOOD REPAIR, ...              0  \n",
       "74128   [ CUSTOMER ADVISORY POSTED AS NEEDED - Comment...              0  \n",
       "74129   [  INSTRUCTED TO PROVIDE THERMOMETER VISIBLE I...              0  \n",
       "84110   [ OUTSIDE GREASE CONTAINER NOT MAINTAINED. SUR...              0  \n",
       "84112   [ RAW WOODEN WALL SHELVING IN KITCHEN MUST BE ...              0  \n",
       "161311  [  CLEAN, PROPER TEMPERATURE, CONCENTRATION, E...              0  \n",
       "193579                                                NaN              1  \n",
       "193580                                                NaN              1  \n",
       "193581                                                NaN              0  \n",
       "194773                                                NaN              0  "
      ]
     },
     "execution_count": 96,
     "metadata": {},
     "output_type": "execute_result"
    }
   ],
   "source": [
    "inspections[inspections['License #'].isnull()]"
   ]
  },
  {
   "cell_type": "code",
   "execution_count": 97,
   "metadata": {},
   "outputs": [
    {
     "data": {
      "text/html": [
       "<div>\n",
       "<style scoped>\n",
       "    .dataframe tbody tr th:only-of-type {\n",
       "        vertical-align: middle;\n",
       "    }\n",
       "\n",
       "    .dataframe tbody tr th {\n",
       "        vertical-align: top;\n",
       "    }\n",
       "\n",
       "    .dataframe thead th {\n",
       "        text-align: right;\n",
       "    }\n",
       "</style>\n",
       "<table border=\"1\" class=\"dataframe\">\n",
       "  <thead>\n",
       "    <tr style=\"text-align: right;\">\n",
       "      <th></th>\n",
       "      <th>Inspection ID</th>\n",
       "      <th>DBA Name</th>\n",
       "      <th>AKA Name</th>\n",
       "      <th>License #</th>\n",
       "      <th>Facility Type</th>\n",
       "      <th>Risk</th>\n",
       "      <th>Address</th>\n",
       "      <th>Inspection Date</th>\n",
       "      <th>Inspection Type</th>\n",
       "      <th>Results</th>\n",
       "      <th>Violations</th>\n",
       "      <th>Latitude</th>\n",
       "      <th>Longitude</th>\n",
       "      <th>Location</th>\n",
       "      <th>Community Area</th>\n",
       "      <th>Violation Numbers</th>\n",
       "      <th>Violation Comments</th>\n",
       "      <th>Reinspections</th>\n",
       "    </tr>\n",
       "  </thead>\n",
       "  <tbody>\n",
       "    <tr>\n",
       "      <th>161311</th>\n",
       "      <td>1152076</td>\n",
       "      <td>ARGENTINA FOODS</td>\n",
       "      <td>ARGENTINA FOODS</td>\n",
       "      <td>NaN</td>\n",
       "      <td>Market</td>\n",
       "      <td>2</td>\n",
       "      <td>4500 S WOOD ST</td>\n",
       "      <td>2014-04-10T00:00:00.000</td>\n",
       "      <td>Canvass</td>\n",
       "      <td>Out of Business</td>\n",
       "      <td>NaN</td>\n",
       "      <td>41.812105</td>\n",
       "      <td>-87.670072</td>\n",
       "      <td>41.812105152977246, -87.67007183351623</td>\n",
       "      <td>West Englewood</td>\n",
       "      <td>[8, 33, 34, 35]</td>\n",
       "      <td>[  CLEAN, PROPER TEMPERATURE, CONCENTRATION, E...</td>\n",
       "      <td>0</td>\n",
       "    </tr>\n",
       "    <tr>\n",
       "      <th>161314</th>\n",
       "      <td>158274</td>\n",
       "      <td>ARGENTINA FOODS</td>\n",
       "      <td>ARGENTINA FOODS</td>\n",
       "      <td>57047.0</td>\n",
       "      <td>Market</td>\n",
       "      <td>2</td>\n",
       "      <td>4500 S WOOD ST</td>\n",
       "      <td>2010-01-20T00:00:00.000</td>\n",
       "      <td>No Inspection</td>\n",
       "      <td>Fail</td>\n",
       "      <td>NaN</td>\n",
       "      <td>41.812105</td>\n",
       "      <td>-87.670072</td>\n",
       "      <td>41.812105152977246, -87.67007183351623</td>\n",
       "      <td>West Englewood</td>\n",
       "      <td>[32, 35]</td>\n",
       "      <td>[ All food and non-food contact equipment and ...</td>\n",
       "      <td>0</td>\n",
       "    </tr>\n",
       "    <tr>\n",
       "      <th>161315</th>\n",
       "      <td>158273</td>\n",
       "      <td>ARGENTINA FOODS</td>\n",
       "      <td>ARGENTINA FOODS</td>\n",
       "      <td>57047.0</td>\n",
       "      <td>Market</td>\n",
       "      <td>2</td>\n",
       "      <td>4500 S WOOD ST</td>\n",
       "      <td>2010-01-20T00:00:00.000</td>\n",
       "      <td>No Inspection</td>\n",
       "      <td>Fail</td>\n",
       "      <td>NaN</td>\n",
       "      <td>41.812105</td>\n",
       "      <td>-87.670072</td>\n",
       "      <td>41.812105152977246, -87.67007183351623</td>\n",
       "      <td>West Englewood</td>\n",
       "      <td>NaN</td>\n",
       "      <td>NaN</td>\n",
       "      <td>0</td>\n",
       "    </tr>\n",
       "  </tbody>\n",
       "</table>\n",
       "</div>"
      ],
      "text/plain": [
       "        Inspection ID         DBA Name         AKA Name  License #  \\\n",
       "161311        1152076  ARGENTINA FOODS  ARGENTINA FOODS        NaN   \n",
       "161314         158274  ARGENTINA FOODS  ARGENTINA FOODS    57047.0   \n",
       "161315         158273  ARGENTINA FOODS  ARGENTINA FOODS    57047.0   \n",
       "\n",
       "       Facility Type Risk          Address          Inspection Date  \\\n",
       "161311        Market    2  4500 S WOOD ST   2014-04-10T00:00:00.000   \n",
       "161314        Market    2  4500 S WOOD ST   2010-01-20T00:00:00.000   \n",
       "161315        Market    2  4500 S WOOD ST   2010-01-20T00:00:00.000   \n",
       "\n",
       "       Inspection Type          Results Violations   Latitude  Longitude  \\\n",
       "161311         Canvass  Out of Business        NaN  41.812105 -87.670072   \n",
       "161314   No Inspection             Fail        NaN  41.812105 -87.670072   \n",
       "161315   No Inspection             Fail        NaN  41.812105 -87.670072   \n",
       "\n",
       "                                      Location  Community Area  \\\n",
       "161311  41.812105152977246, -87.67007183351623  West Englewood   \n",
       "161314  41.812105152977246, -87.67007183351623  West Englewood   \n",
       "161315  41.812105152977246, -87.67007183351623  West Englewood   \n",
       "\n",
       "       Violation Numbers                                 Violation Comments  \\\n",
       "161311   [8, 33, 34, 35]  [  CLEAN, PROPER TEMPERATURE, CONCENTRATION, E...   \n",
       "161314          [32, 35]  [ All food and non-food contact equipment and ...   \n",
       "161315               NaN                                                NaN   \n",
       "\n",
       "        Reinspections  \n",
       "161311              0  \n",
       "161314              0  \n",
       "161315              0  "
      ]
     },
     "execution_count": 97,
     "metadata": {},
     "output_type": "execute_result"
    }
   ],
   "source": [
    "inspections[inspections['DBA Name']=='ARGENTINA FOODS']"
   ]
  },
  {
   "cell_type": "markdown",
   "metadata": {},
   "source": [
    "* We see that almost all of the missing License numbers are those of churches (Maybe they don't need a lisence to serve food). We assign the default license number 00000 to those entries.\n",
    "* The only real license numbers missing is the one from ARGENTINA FOODS and we are able to assign it manually."
   ]
  },
  {
   "cell_type": "code",
   "execution_count": 98,
   "metadata": {},
   "outputs": [],
   "source": [
    "inspections.loc[159539,('License #')]='57047'\n",
    "inspections['License #'].fillna('00000',inplace=True)"
   ]
  },
  {
   "cell_type": "code",
   "execution_count": 99,
   "metadata": {},
   "outputs": [
    {
     "name": "stdout",
     "output_type": "stream",
     "text": [
      "0.0% of rows are missing the License # entry.\n"
     ]
    }
   ],
   "source": [
    "print('{}% of rows are missing the License # entry.'.format(100 * inspections['License #'].isna().sum()/len(inspections['License #'])))"
   ]
  },
  {
   "cell_type": "markdown",
   "metadata": {},
   "source": [
    "### K. Clean the Date column"
   ]
  },
  {
   "cell_type": "markdown",
   "metadata": {},
   "source": [
    "Let's examine the date column."
   ]
  },
  {
   "cell_type": "code",
   "execution_count": 100,
   "metadata": {},
   "outputs": [
    {
     "name": "stdout",
     "output_type": "stream",
     "text": [
      "0.0% of rows are missing the Inspection Date entry.\n"
     ]
    }
   ],
   "source": [
    "print('{}% of rows are missing the Inspection Date entry.'.format(100 * inspections['Inspection Date'].isna().sum()/len(inspections['Inspection Date'])))\n"
   ]
  },
  {
   "cell_type": "code",
   "execution_count": 101,
   "metadata": {},
   "outputs": [
    {
     "data": {
      "text/plain": [
       "array(['2019-11-08T00:00:00.000', '2019-11-06T00:00:00.000',\n",
       "       '2019-05-30T00:00:00.000', ..., '2012-02-22T00:00:00.000',\n",
       "       '2010-04-04T00:00:00.000', '2010-02-20T00:00:00.000'], dtype=object)"
      ]
     },
     "execution_count": 101,
     "metadata": {},
     "output_type": "execute_result"
    }
   ],
   "source": [
    "inspections['Inspection Date'].unique()"
   ]
  },
  {
   "cell_type": "markdown",
   "metadata": {},
   "source": [
    "It seems to contain strings. Let us convert it to a datetime object."
   ]
  },
  {
   "cell_type": "code",
   "execution_count": 102,
   "metadata": {},
   "outputs": [],
   "source": [
    "inspections['Inspection Date'] = inspections['Inspection Date'].apply(lambda x: datetime.datetime.strptime(x, \"%Y-%m-%dT%H:%M:%S.%f\"))"
   ]
  },
  {
   "cell_type": "code",
   "execution_count": 103,
   "metadata": {},
   "outputs": [
    {
     "data": {
      "text/plain": [
       "0   2019-11-08\n",
       "1   2019-11-06\n",
       "2   2019-05-30\n",
       "3   2018-02-13\n",
       "4   2018-02-06\n",
       "Name: Inspection Date, dtype: datetime64[ns]"
      ]
     },
     "execution_count": 103,
     "metadata": {},
     "output_type": "execute_result"
    }
   ],
   "source": [
    "inspections['Inspection Date'].head()"
   ]
  },
  {
   "cell_type": "markdown",
   "metadata": {},
   "source": [
    "### L. Examine the Results column"
   ]
  },
  {
   "cell_type": "code",
   "execution_count": 104,
   "metadata": {},
   "outputs": [
    {
     "name": "stdout",
     "output_type": "stream",
     "text": [
      "0.0% of rows are missing the Results entry.\n"
     ]
    }
   ],
   "source": [
    "print('{}% of rows are missing the Results entry.'.format(100 * inspections['Results'].isna().sum()/len(inspections['Results'])))\n"
   ]
  },
  {
   "cell_type": "code",
   "execution_count": 105,
   "metadata": {},
   "outputs": [
    {
     "data": {
      "text/plain": [
       "array(['Pass w/ Conditions', 'Fail', 'Pass', 'Out of Business',\n",
       "       'Not Ready', 'No Entry', 'Business Not Located'], dtype=object)"
      ]
     },
     "execution_count": 105,
     "metadata": {},
     "output_type": "execute_result"
    }
   ],
   "source": [
    "inspections['Results'].unique()"
   ]
  },
  {
   "cell_type": "markdown",
   "metadata": {},
   "source": [
    "It seems to be clean!"
   ]
  },
  {
   "cell_type": "markdown",
   "metadata": {},
   "source": [
    "### M. Attribute the right types to each column"
   ]
  },
  {
   "cell_type": "code",
   "execution_count": 106,
   "metadata": {},
   "outputs": [
    {
     "data": {
      "text/plain": [
       "Inspection ID                        0.0% missing values\n",
       "DBA Name                             0.0% missing values\n",
       "AKA Name                             0.0% missing values\n",
       "License #                            0.0% missing values\n",
       "Facility Type                        0.0% missing values\n",
       "Risk                                 0.0% missing values\n",
       "Address                              0.0% missing values\n",
       "Inspection Date                      0.0% missing values\n",
       "Inspection Type                      0.0% missing values\n",
       "Results                              0.0% missing values\n",
       "Violations            26.587901801296763% missing values\n",
       "Latitude                             0.0% missing values\n",
       "Longitude                            0.0% missing values\n",
       "Location                             0.0% missing values\n",
       "Community Area                       0.0% missing values\n",
       "Violation Numbers      28.99262769321896% missing values\n",
       "Violation Comments     28.99262769321896% missing values\n",
       "Reinspections                        0.0% missing values\n",
       "dtype: object"
      ]
     },
     "execution_count": 106,
     "metadata": {},
     "output_type": "execute_result"
    }
   ],
   "source": [
    "inspections.isna().sum().apply(lambda x: '{}% missing values'.format(100 * x/len(inspections)))"
   ]
  },
  {
   "cell_type": "markdown",
   "metadata": {},
   "source": [
    "Now that we are done with replacing NaN values, we want to attribute the right type to each column. [documentation about categorical type](https://pandas.pydata.org/pandas-docs/stable/user_guide/categorical.html)\n"
   ]
  },
  {
   "cell_type": "code",
   "execution_count": 107,
   "metadata": {},
   "outputs": [
    {
     "data": {
      "text/plain": [
       "<pandas.core.indexes.accessors.DatetimeProperties object at 0x1a364b1cf8>"
      ]
     },
     "execution_count": 107,
     "metadata": {},
     "output_type": "execute_result"
    }
   ],
   "source": [
    "inspections['Inspection Date'].dt"
   ]
  },
  {
   "cell_type": "code",
   "execution_count": 108,
   "metadata": {},
   "outputs": [],
   "source": [
    "inspections = inspections.astype({\"Inspection ID\": int, \"DBA Name\": str, \"AKA Name\": str, \"License #\": int,\\\n",
    "                                  \"Facility Type\": str, \"Risk\": int,\"Address\": str, \"Inspection Type\": str,\\\n",
    "                                   \"Results\": str, \"Community Area\": str})"
   ]
  },
  {
   "cell_type": "markdown",
   "metadata": {},
   "source": [
    "We notice that the 'Inspection date' columns only contains dates and no times (the time seems to always be midnight by default). Hence we only keep the date and clean the values"
   ]
  },
  {
   "cell_type": "code",
   "execution_count": 109,
   "metadata": {},
   "outputs": [],
   "source": [
    "inspections.loc[:,('Inspection Date')]=inspections.loc[:,('Inspection Date')].apply(pd.to_datetime)"
   ]
  },
  {
   "cell_type": "code",
   "execution_count": 110,
   "metadata": {},
   "outputs": [
    {
     "data": {
      "text/plain": [
       "Inspection ID                  int64\n",
       "DBA Name                      object\n",
       "AKA Name                      object\n",
       "License #                      int64\n",
       "Facility Type                 object\n",
       "Risk                           int64\n",
       "Address                       object\n",
       "Inspection Date       datetime64[ns]\n",
       "Inspection Type               object\n",
       "Results                       object\n",
       "Violations                    object\n",
       "Latitude                     float64\n",
       "Longitude                    float64\n",
       "Location                      object\n",
       "Community Area                object\n",
       "Violation Numbers             object\n",
       "Violation Comments            object\n",
       "Reinspections                  int64\n",
       "dtype: object"
      ]
     },
     "execution_count": 110,
     "metadata": {},
     "output_type": "execute_result"
    }
   ],
   "source": [
    "inspections.dtypes"
   ]
  },
  {
   "cell_type": "code",
   "execution_count": 111,
   "metadata": {},
   "outputs": [],
   "source": [
    "inspections.to_pickle('./datasets/cleaned_inspections.pickle')"
   ]
  },
  {
   "cell_type": "code",
   "execution_count": null,
   "metadata": {},
   "outputs": [],
   "source": []
  }
 ],
 "metadata": {
  "kernelspec": {
   "display_name": "Python 3",
   "language": "python",
   "name": "python3"
  },
  "language_info": {
   "codemirror_mode": {
    "name": "ipython",
    "version": 3
   },
   "file_extension": ".py",
   "mimetype": "text/x-python",
   "name": "python",
   "nbconvert_exporter": "python",
   "pygments_lexer": "ipython3",
   "version": "3.6.9"
  }
 },
 "nbformat": 4,
 "nbformat_minor": 4
}
