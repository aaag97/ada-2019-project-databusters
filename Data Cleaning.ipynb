{
 "cells": [
  {
   "cell_type": "markdown",
   "metadata": {},
   "source": [
    "**TODO Important !**\n",
    "* data cleaning: explode the violations column: for each inspection keep the numbers of the violations and the comment of the inspector (comments can be used to do NLP, see if useful).."
   ]
  },
  {
   "cell_type": "markdown",
   "metadata": {},
   "source": [
    "# Relevant imports"
   ]
  },
  {
   "cell_type": "code",
   "execution_count": 80,
   "metadata": {},
   "outputs": [],
   "source": [
    "import pandas as pd\n",
    "import numpy as np\n",
    "import matplotlib.pyplot as plt\n",
    "import seaborn as sns\n",
    "import re\n",
    "import math\n",
    "from geopy.geocoders import Nominatim\n",
    "from geopy.extra.rate_limiter import RateLimiter\n",
    "\n",
    "from autocorrect import Speller\n",
    "\n",
    "from sklearn.linear_model import Ridge\n",
    "from sklearn.model_selection import train_test_split\n",
    "from sklearn.model_selection import cross_val_predict\n",
    "from sklearn.model_selection import cross_val_score\n",
    "from sklearn.metrics import mean_squared_error\n",
    "\n",
    "import pandas_profiling\n",
    "\n",
    "\n",
    "from datetime import date\n",
    "\n",
    "#import findspark\n",
    "#findspark.init()\n",
    "\n",
    "#import pyspark\n",
    "# Important to use sql functions in pyspark as example: sqlf.max()\n",
    "#[source](https://stackoverflow.com/questions/36604460/python-function-such-as-max-doesnt-work-in-pyspark-application)\n",
    "#from pyspark.sql import functions as sqlf"
   ]
  },
  {
   "cell_type": "markdown",
   "metadata": {},
   "source": [
    "# I. Dataset(s) preparation and cleaning"
   ]
  },
  {
   "cell_type": "markdown",
   "metadata": {},
   "source": [
    "Before we proceed to tackle each of our research questions, some data cleaning is in order."
   ]
  },
  {
   "cell_type": "markdown",
   "metadata": {},
   "source": [
    "## 1. Load the data and explore its structure"
   ]
  },
  {
   "cell_type": "code",
   "execution_count": 81,
   "metadata": {},
   "outputs": [],
   "source": [
    "inspections = pd.read_csv('datasets/food-inspections.csv')"
   ]
  },
  {
   "cell_type": "code",
   "execution_count": 3,
   "metadata": {},
   "outputs": [
    {
     "data": {
      "text/plain": [
       "194615"
      ]
     },
     "execution_count": 3,
     "metadata": {},
     "output_type": "execute_result"
    }
   ],
   "source": [
    "len(inspections)"
   ]
  },
  {
   "cell_type": "markdown",
   "metadata": {},
   "source": [
    "The dataset has 22 columns. Let's examine what each of them is."
   ]
  },
  {
   "cell_type": "code",
   "execution_count": 4,
   "metadata": {},
   "outputs": [
    {
     "data": {
      "text/plain": [
       "Index(['Inspection ID', 'DBA Name', 'AKA Name', 'License #', 'Facility Type',\n",
       "       'Risk', 'Address', 'City', 'State', 'Zip', 'Inspection Date',\n",
       "       'Inspection Type', 'Results', 'Violations', 'Latitude', 'Longitude',\n",
       "       'Location', 'Historical Wards 2003-2015', 'Zip Codes',\n",
       "       'Community Areas', 'Census Tracts', 'Wards'],\n",
       "      dtype='object')"
      ]
     },
     "execution_count": 4,
     "metadata": {},
     "output_type": "execute_result"
    }
   ],
   "source": [
    "#Display columns\n",
    "inspections.columns"
   ]
  },
  {
   "cell_type": "code",
   "execution_count": 5,
   "metadata": {},
   "outputs": [
    {
     "data": {
      "text/plain": [
       "Inspection ID                   int64\n",
       "DBA Name                       object\n",
       "AKA Name                       object\n",
       "License #                     float64\n",
       "Facility Type                  object\n",
       "Risk                           object\n",
       "Address                        object\n",
       "City                           object\n",
       "State                          object\n",
       "Zip                           float64\n",
       "Inspection Date                object\n",
       "Inspection Type                object\n",
       "Results                        object\n",
       "Violations                     object\n",
       "Latitude                      float64\n",
       "Longitude                     float64\n",
       "Location                       object\n",
       "Historical Wards 2003-2015    float64\n",
       "Zip Codes                     float64\n",
       "Community Areas               float64\n",
       "Census Tracts                 float64\n",
       "Wards                         float64\n",
       "dtype: object"
      ]
     },
     "execution_count": 5,
     "metadata": {},
     "output_type": "execute_result"
    }
   ],
   "source": [
    "inspections.dtypes"
   ]
  },
  {
   "cell_type": "markdown",
   "metadata": {},
   "source": [
    "A description of the features is given below [Source](https://data.cityofchicago.org/api/assets/BAD5301B-681A-4202-9D25-51B2CAE672FF).\n",
    "The last five columns are ignored in the dataset source; we will see that those columns are in fact null\n",
    "\n",
    "| Feature name                | Variable Type | Description \n",
    "|-----------------------------|---------------|--------------------------------------------------------\n",
    "| Inspection ID        | Integer    | The inspection unique identifier.\n",
    "| DBA Name                 | String        | ‘Doing business as.’Legal name of the establishment.\n",
    "| AKA NAme                | String    |  ‘Also known as.’ Name the public would know the establishment as.\n",
    "| License # | Integer    | Unique number assigned to the establishment for the purposes of licensing by the Department of Business Affairs and Consumer Protection.\n",
    "| Type of facility                | String    | Each establishment is described by one of the following: bakery, banquet hall, candy store, caterer, coffee shop, day care center (for ages less than 2), day care center (for ages 2 – 6), day care center (combo, for ages less than 2 and 2 – 6 combined), gas station, Golden Diner, grocery store, hospital, long term care center(nursing home), liquor store, mobile food dispenser, restaurant, paleteria, school, shelter, tavern, social club, wholesaler, or Wrigley Field Rooftop.\n",
    "| Risk                   | String    | Risk category of facility of adversely affecting the public’s health, with 1 being the highest and 3 the lowest. The frequency of inspection is tied to this risk, with risk 1 establishments inspected most frequently and risk 3 least frequently.\n",
    "| Address        | String    | Street address of the establishment.\n",
    "| City        | String    | City of the establishment.\n",
    "| State        | String    | State of the establishment.\n",
    "| Zip        | Integer    | Zip code of the establishment.\n",
    "| Inspection Date        | Date    | Date of the inspection\n",
    "| Inspection Type        | String    | An inspection can be one of the following types: canvass, the most common type of inspection performed at a frequency relative to the risk of the establishment; consultation, when the inspection is done at the request of the owner prior to the opening of the establishment; complaint, when the inspection is done in response to a complaint against the establishment; license, when the inspection is done as a requirement for the establishment to receive its license to operate; suspect food poisoning, when the inspection is done in response to one or more persons claiming to have gotten ill as a result of eating at the establishment (a specific type of complaint-based inspection); task-force inspection, when an inspection of a bar or tavern is done. Re-inspections can occur for most types of these inspections and are indicated as such.\n",
    "| Results        | String    | Results: An inspection can pass, pass with conditions or fail. Establishments receiving a ‘pass’ were found to have no critical or serious violations (violation number 1-14 and 15- 29, respectively). Establishments receiving a ‘pass with conditions’ were found to have critical or serious violations, but these were corrected during the inspection. Establishments receiving a ‘fail’ were found to have critical or serious violations that were not correctable during the inspection. An establishment receiving a ‘fail’ does not necessarily mean the establishment’s licensed is suspended. Establishments found to be out of business or not located are indicated as such.\n",
    "| Violations        | String    | An establishment can receive one or more of 45 distinct violations (violation numbers 1-44 and 70). For each violation number listed for a given establishment, the requirement the establishment must meet in order for it to NOT receive a violation is noted, followed by a specific description of the findings that caused the violation to be issued.\n",
    "| Latitude        | Integer    | Latitude of the establishment.\n",
    "| Longitude        | Integer    | Longitude of the establishment.\n",
    "\n"
   ]
  },
  {
   "cell_type": "markdown",
   "metadata": {},
   "source": [
    "We use pandas_profiling to have a quick overview of our dataset; missing values, features distributions and features correlation."
   ]
  },
  {
   "cell_type": "code",
   "execution_count": 6,
   "metadata": {},
   "outputs": [],
   "source": [
    "#inspections.profile_report(style={'full_width':True})"
   ]
  },
  {
   "cell_type": "code",
   "execution_count": 7,
   "metadata": {},
   "outputs": [],
   "source": [
    "#Save the report to a html file\n",
    "#profile = IPO_data.profile_report(title='inspection data Profiling Report')\n",
    "#profile.to_file(output_file=\"data_profile.html\")"
   ]
  },
  {
   "cell_type": "markdown",
   "metadata": {},
   "source": [
    "## 2. Drop duplicates"
   ]
  },
  {
   "cell_type": "markdown",
   "metadata": {},
   "source": [
    "The dataset source explicitly says there are duplicates in our data, hence it makes sence to drop those. [source](https://www.kaggle.com/chicago/chicago-food-inspections)"
   ]
  },
  {
   "cell_type": "code",
   "execution_count": 8,
   "metadata": {},
   "outputs": [
    {
     "data": {
      "text/plain": [
       "194446"
      ]
     },
     "execution_count": 8,
     "metadata": {},
     "output_type": "execute_result"
    }
   ],
   "source": [
    "inspections.drop_duplicates(inplace=True)\n",
    "len(inspections)"
   ]
  },
  {
   "cell_type": "markdown",
   "metadata": {},
   "source": [
    "## 3. Dataset cleaning"
   ]
  },
  {
   "cell_type": "markdown",
   "metadata": {},
   "source": [
    "### A. Drop null columns"
   ]
  },
  {
   "cell_type": "markdown",
   "metadata": {},
   "source": [
    "The 'Location' column contains the latitude and longitude of the establishment. However, there are separate 'Latitude' and 'Longitude' columns. We can hence safely drop the 'Location' column."
   ]
  },
  {
   "cell_type": "code",
   "execution_count": 9,
   "metadata": {},
   "outputs": [],
   "source": [
    "#inspections = inspections.drop(columns=['Location'])\n",
    "#inspections.rename(columns={\"Location\": \"Location_original\"})"
   ]
  },
  {
   "cell_type": "markdown",
   "metadata": {},
   "source": [
    "The head of the dataset only contains NaN entries for the 'Historical Wards 2003-2015', 'Zip Codes', 'Community Areas', 'Census Tracts', 'Wards' columns. Let's see if this is true for the whole dataset."
   ]
  },
  {
   "cell_type": "code",
   "execution_count": 10,
   "metadata": {},
   "outputs": [
    {
     "name": "stdout",
     "output_type": "stream",
     "text": [
      "Values taken by 'Historical Wards 2003-2015':  [nan]\n",
      "Values taken by 'Zip Codes':  [nan]\n",
      "Values taken by 'Community Areas':  [nan]\n",
      "Values taken by 'Census Tracts':  [nan]\n",
      "Values taken by 'Wards':  [nan]\n"
     ]
    }
   ],
   "source": [
    "# make sure that our assumption is correct\n",
    "print('Values taken by \\'Historical Wards 2003-2015\\': ', inspections['Zip Codes'].unique())\n",
    "print('Values taken by \\'Zip Codes\\': ', inspections['Zip Codes'].unique())\n",
    "print('Values taken by \\'Community Areas\\': ', inspections['Zip Codes'].unique())\n",
    "print('Values taken by \\'Census Tracts\\': ', inspections['Zip Codes'].unique())\n",
    "print('Values taken by \\'Wards\\': ', inspections['Zip Codes'].unique())\n"
   ]
  },
  {
   "cell_type": "markdown",
   "metadata": {},
   "source": [
    "We drop all columns apart from the 'Community Areas' because we will be needing it in our study. We will fill later."
   ]
  },
  {
   "cell_type": "code",
   "execution_count": 11,
   "metadata": {},
   "outputs": [],
   "source": [
    "inspections = inspections.drop(columns=['Historical Wards 2003-2015'])\n",
    "inspections = inspections.drop(columns=['Zip Codes'])\n",
    "inspections = inspections.drop(columns=['Census Tracts'])\n",
    "inspections = inspections.drop(columns=['Wards'])"
   ]
  },
  {
   "cell_type": "markdown",
   "metadata": {},
   "source": [
    "### B. Clean the location related features and fill in community area feature"
   ]
  },
  {
   "cell_type": "markdown",
   "metadata": {},
   "source": [
    "Let's examine if the whole dataset is relevent to the study we are conducting by seeing which entries correspond to facilities in Chicago."
   ]
  },
  {
   "cell_type": "markdown",
   "metadata": {},
   "source": [
    "First, we check if there are any missing values for the column 'City' or 'State'"
   ]
  },
  {
   "cell_type": "code",
   "execution_count": 12,
   "metadata": {},
   "outputs": [
    {
     "data": {
      "text/html": [
       "<div>\n",
       "<style scoped>\n",
       "    .dataframe tbody tr th:only-of-type {\n",
       "        vertical-align: middle;\n",
       "    }\n",
       "\n",
       "    .dataframe tbody tr th {\n",
       "        vertical-align: top;\n",
       "    }\n",
       "\n",
       "    .dataframe thead th {\n",
       "        text-align: right;\n",
       "    }\n",
       "</style>\n",
       "<table border=\"1\" class=\"dataframe\">\n",
       "  <thead>\n",
       "    <tr style=\"text-align: right;\">\n",
       "      <th></th>\n",
       "      <th>Inspection ID</th>\n",
       "      <th>DBA Name</th>\n",
       "      <th>AKA Name</th>\n",
       "      <th>License #</th>\n",
       "      <th>Facility Type</th>\n",
       "      <th>Risk</th>\n",
       "      <th>Address</th>\n",
       "      <th>City</th>\n",
       "      <th>State</th>\n",
       "      <th>Zip</th>\n",
       "      <th>Inspection Date</th>\n",
       "      <th>Inspection Type</th>\n",
       "      <th>Results</th>\n",
       "      <th>Violations</th>\n",
       "      <th>Latitude</th>\n",
       "      <th>Longitude</th>\n",
       "      <th>Community Areas</th>\n",
       "    </tr>\n",
       "  </thead>\n",
       "  <tbody>\n",
       "    <tr>\n",
       "      <td>819</td>\n",
       "      <td>2312774</td>\n",
       "      <td>CHICAGO COLLEGIATE CHARTER</td>\n",
       "      <td>CHICAGO COLLEGIATE CHARTER</td>\n",
       "      <td>3846104.0</td>\n",
       "      <td>School</td>\n",
       "      <td>Risk 1 (High)</td>\n",
       "      <td>10909 S COTTAGE GROVE AVE</td>\n",
       "      <td>NaN</td>\n",
       "      <td>IL</td>\n",
       "      <td>NaN</td>\n",
       "      <td>2019-09-24T00:00:00.000</td>\n",
       "      <td>Canvass Re-Inspection</td>\n",
       "      <td>Pass w/ Conditions</td>\n",
       "      <td>3. MANAGEMENT, FOOD EMPLOYEE AND CONDITIONAL E...</td>\n",
       "      <td>41.696087</td>\n",
       "      <td>-87.608945</td>\n",
       "      <td>NaN</td>\n",
       "    </tr>\n",
       "    <tr>\n",
       "      <td>976</td>\n",
       "      <td>2312540</td>\n",
       "      <td>CHICAGO COLLEGIATE CHARTER</td>\n",
       "      <td>CHICAGO COLLEGIATE CHARTER</td>\n",
       "      <td>3846104.0</td>\n",
       "      <td>School</td>\n",
       "      <td>Risk 1 (High)</td>\n",
       "      <td>10909 S COTTAGE GROVE AVE</td>\n",
       "      <td>NaN</td>\n",
       "      <td>IL</td>\n",
       "      <td>NaN</td>\n",
       "      <td>2019-09-19T00:00:00.000</td>\n",
       "      <td>Canvass Re-Inspection</td>\n",
       "      <td>Fail</td>\n",
       "      <td>3. MANAGEMENT, FOOD EMPLOYEE AND CONDITIONAL E...</td>\n",
       "      <td>41.696087</td>\n",
       "      <td>-87.608945</td>\n",
       "      <td>NaN</td>\n",
       "    </tr>\n",
       "    <tr>\n",
       "      <td>982</td>\n",
       "      <td>2312545</td>\n",
       "      <td>JCYS IRIS &amp; STEVEN PODOLSKY FAMILY CENTER</td>\n",
       "      <td>JCYS IRIS &amp; STEVEN PODOLSKY FAMILY CENTER</td>\n",
       "      <td>2671297.0</td>\n",
       "      <td>Children's Services Facility</td>\n",
       "      <td>Risk 1 (High)</td>\n",
       "      <td>2112 W LAWRENCE AVE</td>\n",
       "      <td>NaN</td>\n",
       "      <td>IL</td>\n",
       "      <td>60625.0</td>\n",
       "      <td>2019-09-19T00:00:00.000</td>\n",
       "      <td>License Re-Inspection</td>\n",
       "      <td>Pass</td>\n",
       "      <td>38. INSECTS, RODENTS, &amp; ANIMALS NOT PRESENT - ...</td>\n",
       "      <td>41.968821</td>\n",
       "      <td>-87.682201</td>\n",
       "      <td>NaN</td>\n",
       "    </tr>\n",
       "    <tr>\n",
       "      <td>2152</td>\n",
       "      <td>2305166</td>\n",
       "      <td>AMY BECK CAKE DESIGN, LLC</td>\n",
       "      <td>AMY BECK CAKE DESIGN, LLC</td>\n",
       "      <td>2079264.0</td>\n",
       "      <td>Bakery</td>\n",
       "      <td>Risk 1 (High)</td>\n",
       "      <td>636 N RACINE AVE</td>\n",
       "      <td>NaN</td>\n",
       "      <td>NaN</td>\n",
       "      <td>60642.0</td>\n",
       "      <td>2019-08-23T00:00:00.000</td>\n",
       "      <td>Canvass</td>\n",
       "      <td>Pass</td>\n",
       "      <td>55. PHYSICAL FACILITIES INSTALLED, MAINTAINED ...</td>\n",
       "      <td>41.893380</td>\n",
       "      <td>-87.657588</td>\n",
       "      <td>NaN</td>\n",
       "    </tr>\n",
       "    <tr>\n",
       "      <td>2767</td>\n",
       "      <td>2304583</td>\n",
       "      <td>JCYS IRIS &amp; STEVEN PODOLSKY FAMILY CENTER</td>\n",
       "      <td>JCYS IRIS &amp; STEVEN PODOLSKY FAMILY CENTER</td>\n",
       "      <td>2671297.0</td>\n",
       "      <td>Children's Services Facility</td>\n",
       "      <td>Risk 1 (High)</td>\n",
       "      <td>2112 W LAWRENCE AVE</td>\n",
       "      <td>NaN</td>\n",
       "      <td>IL</td>\n",
       "      <td>60625.0</td>\n",
       "      <td>2019-08-13T00:00:00.000</td>\n",
       "      <td>License</td>\n",
       "      <td>Fail</td>\n",
       "      <td>3. MANAGEMENT, FOOD EMPLOYEE AND CONDITIONAL E...</td>\n",
       "      <td>41.968821</td>\n",
       "      <td>-87.682201</td>\n",
       "      <td>NaN</td>\n",
       "    </tr>\n",
       "    <tr>\n",
       "      <td>...</td>\n",
       "      <td>...</td>\n",
       "      <td>...</td>\n",
       "      <td>...</td>\n",
       "      <td>...</td>\n",
       "      <td>...</td>\n",
       "      <td>...</td>\n",
       "      <td>...</td>\n",
       "      <td>...</td>\n",
       "      <td>...</td>\n",
       "      <td>...</td>\n",
       "      <td>...</td>\n",
       "      <td>...</td>\n",
       "      <td>...</td>\n",
       "      <td>...</td>\n",
       "      <td>...</td>\n",
       "      <td>...</td>\n",
       "      <td>...</td>\n",
       "    </tr>\n",
       "    <tr>\n",
       "      <td>193147</td>\n",
       "      <td>60291</td>\n",
       "      <td>CLOVERHILL PASTRY-VEND,LLC</td>\n",
       "      <td>CLOVERHILL PASTRY-VEND,LLC</td>\n",
       "      <td>2004357.0</td>\n",
       "      <td>Wholesale</td>\n",
       "      <td>Risk 3 (Low)</td>\n",
       "      <td>4464 W 44TH ST</td>\n",
       "      <td>NaN</td>\n",
       "      <td>IL</td>\n",
       "      <td>60632.0</td>\n",
       "      <td>2010-02-03T00:00:00.000</td>\n",
       "      <td>License Re-Inspection</td>\n",
       "      <td>Pass</td>\n",
       "      <td>NaN</td>\n",
       "      <td>41.814266</td>\n",
       "      <td>-87.736013</td>\n",
       "      <td>NaN</td>\n",
       "    </tr>\n",
       "    <tr>\n",
       "      <td>193404</td>\n",
       "      <td>60282</td>\n",
       "      <td>CLOVERHILL PASTRY-VEND,LLC</td>\n",
       "      <td>CLOVERHILL PASTRY-VEND,LLC</td>\n",
       "      <td>2004357.0</td>\n",
       "      <td>Wholesale</td>\n",
       "      <td>Risk 3 (Low)</td>\n",
       "      <td>4464 W 44TH ST</td>\n",
       "      <td>NaN</td>\n",
       "      <td>IL</td>\n",
       "      <td>60632.0</td>\n",
       "      <td>2010-01-28T00:00:00.000</td>\n",
       "      <td>License</td>\n",
       "      <td>Fail</td>\n",
       "      <td>32. FOOD AND NON-FOOD CONTACT SURFACES PROPERL...</td>\n",
       "      <td>41.814266</td>\n",
       "      <td>-87.736013</td>\n",
       "      <td>NaN</td>\n",
       "    </tr>\n",
       "    <tr>\n",
       "      <td>193473</td>\n",
       "      <td>60279</td>\n",
       "      <td>CLOVERHILL PASTRY-VEND,LLC</td>\n",
       "      <td>CLOVERHILL PASTRY-VEND,LLC</td>\n",
       "      <td>2004357.0</td>\n",
       "      <td>Wholesale</td>\n",
       "      <td>Risk 3 (Low)</td>\n",
       "      <td>4464 W 44TH ST</td>\n",
       "      <td>NaN</td>\n",
       "      <td>IL</td>\n",
       "      <td>60632.0</td>\n",
       "      <td>2010-01-27T00:00:00.000</td>\n",
       "      <td>License</td>\n",
       "      <td>Fail</td>\n",
       "      <td>NaN</td>\n",
       "      <td>41.814266</td>\n",
       "      <td>-87.736013</td>\n",
       "      <td>NaN</td>\n",
       "    </tr>\n",
       "    <tr>\n",
       "      <td>193994</td>\n",
       "      <td>67912</td>\n",
       "      <td>THREE CHEFS RESTURANT</td>\n",
       "      <td>THREE CHEFS RESTURANT</td>\n",
       "      <td>2009471.0</td>\n",
       "      <td>Restaurant</td>\n",
       "      <td>Risk 1 (High)</td>\n",
       "      <td>8125 S HALSTED ST</td>\n",
       "      <td>NaN</td>\n",
       "      <td>IL</td>\n",
       "      <td>60620.0</td>\n",
       "      <td>2010-01-15T00:00:00.000</td>\n",
       "      <td>License Re-Inspection</td>\n",
       "      <td>Pass</td>\n",
       "      <td>NaN</td>\n",
       "      <td>41.746236</td>\n",
       "      <td>-87.643766</td>\n",
       "      <td>NaN</td>\n",
       "    </tr>\n",
       "    <tr>\n",
       "      <td>194324</td>\n",
       "      <td>67807</td>\n",
       "      <td>SUN FOOD MART</td>\n",
       "      <td>SUN FOOD MART</td>\n",
       "      <td>2009479.0</td>\n",
       "      <td>Grocery Store</td>\n",
       "      <td>Risk 3 (Low)</td>\n",
       "      <td>3601 W CERMAK RD</td>\n",
       "      <td>NaN</td>\n",
       "      <td>IL</td>\n",
       "      <td>NaN</td>\n",
       "      <td>2010-01-11T00:00:00.000</td>\n",
       "      <td>License Re-Inspection</td>\n",
       "      <td>Pass</td>\n",
       "      <td>NaN</td>\n",
       "      <td>41.851553</td>\n",
       "      <td>-87.715059</td>\n",
       "      <td>NaN</td>\n",
       "    </tr>\n",
       "  </tbody>\n",
       "</table>\n",
       "<p>161 rows × 17 columns</p>\n",
       "</div>"
      ],
      "text/plain": [
       "        Inspection ID                                   DBA Name  \\\n",
       "819           2312774                 CHICAGO COLLEGIATE CHARTER   \n",
       "976           2312540                 CHICAGO COLLEGIATE CHARTER   \n",
       "982           2312545  JCYS IRIS & STEVEN PODOLSKY FAMILY CENTER   \n",
       "2152          2305166                  AMY BECK CAKE DESIGN, LLC   \n",
       "2767          2304583  JCYS IRIS & STEVEN PODOLSKY FAMILY CENTER   \n",
       "...               ...                                        ...   \n",
       "193147          60291                 CLOVERHILL PASTRY-VEND,LLC   \n",
       "193404          60282                 CLOVERHILL PASTRY-VEND,LLC   \n",
       "193473          60279                 CLOVERHILL PASTRY-VEND,LLC   \n",
       "193994          67912                      THREE CHEFS RESTURANT   \n",
       "194324          67807                              SUN FOOD MART   \n",
       "\n",
       "                                         AKA Name  License #  \\\n",
       "819                    CHICAGO COLLEGIATE CHARTER  3846104.0   \n",
       "976                    CHICAGO COLLEGIATE CHARTER  3846104.0   \n",
       "982     JCYS IRIS & STEVEN PODOLSKY FAMILY CENTER  2671297.0   \n",
       "2152                    AMY BECK CAKE DESIGN, LLC  2079264.0   \n",
       "2767    JCYS IRIS & STEVEN PODOLSKY FAMILY CENTER  2671297.0   \n",
       "...                                           ...        ...   \n",
       "193147                 CLOVERHILL PASTRY-VEND,LLC  2004357.0   \n",
       "193404                 CLOVERHILL PASTRY-VEND,LLC  2004357.0   \n",
       "193473                 CLOVERHILL PASTRY-VEND,LLC  2004357.0   \n",
       "193994                      THREE CHEFS RESTURANT  2009471.0   \n",
       "194324                              SUN FOOD MART  2009479.0   \n",
       "\n",
       "                       Facility Type           Risk  \\\n",
       "819                           School  Risk 1 (High)   \n",
       "976                           School  Risk 1 (High)   \n",
       "982     Children's Services Facility  Risk 1 (High)   \n",
       "2152                          Bakery  Risk 1 (High)   \n",
       "2767    Children's Services Facility  Risk 1 (High)   \n",
       "...                              ...            ...   \n",
       "193147                     Wholesale   Risk 3 (Low)   \n",
       "193404                     Wholesale   Risk 3 (Low)   \n",
       "193473                     Wholesale   Risk 3 (Low)   \n",
       "193994                    Restaurant  Risk 1 (High)   \n",
       "194324                 Grocery Store   Risk 3 (Low)   \n",
       "\n",
       "                           Address City State      Zip  \\\n",
       "819     10909 S COTTAGE GROVE AVE   NaN    IL      NaN   \n",
       "976     10909 S COTTAGE GROVE AVE   NaN    IL      NaN   \n",
       "982           2112 W LAWRENCE AVE   NaN    IL  60625.0   \n",
       "2152             636 N RACINE AVE   NaN   NaN  60642.0   \n",
       "2767          2112 W LAWRENCE AVE   NaN    IL  60625.0   \n",
       "...                            ...  ...   ...      ...   \n",
       "193147             4464 W 44TH ST   NaN    IL  60632.0   \n",
       "193404             4464 W 44TH ST   NaN    IL  60632.0   \n",
       "193473             4464 W 44TH ST   NaN    IL  60632.0   \n",
       "193994          8125 S HALSTED ST   NaN    IL  60620.0   \n",
       "194324           3601 W CERMAK RD   NaN    IL      NaN   \n",
       "\n",
       "                Inspection Date        Inspection Type             Results  \\\n",
       "819     2019-09-24T00:00:00.000  Canvass Re-Inspection  Pass w/ Conditions   \n",
       "976     2019-09-19T00:00:00.000  Canvass Re-Inspection                Fail   \n",
       "982     2019-09-19T00:00:00.000  License Re-Inspection                Pass   \n",
       "2152    2019-08-23T00:00:00.000                Canvass                Pass   \n",
       "2767    2019-08-13T00:00:00.000                License                Fail   \n",
       "...                         ...                    ...                 ...   \n",
       "193147  2010-02-03T00:00:00.000  License Re-Inspection                Pass   \n",
       "193404  2010-01-28T00:00:00.000                License                Fail   \n",
       "193473  2010-01-27T00:00:00.000                License                Fail   \n",
       "193994  2010-01-15T00:00:00.000  License Re-Inspection                Pass   \n",
       "194324  2010-01-11T00:00:00.000  License Re-Inspection                Pass   \n",
       "\n",
       "                                               Violations   Latitude  \\\n",
       "819     3. MANAGEMENT, FOOD EMPLOYEE AND CONDITIONAL E...  41.696087   \n",
       "976     3. MANAGEMENT, FOOD EMPLOYEE AND CONDITIONAL E...  41.696087   \n",
       "982     38. INSECTS, RODENTS, & ANIMALS NOT PRESENT - ...  41.968821   \n",
       "2152    55. PHYSICAL FACILITIES INSTALLED, MAINTAINED ...  41.893380   \n",
       "2767    3. MANAGEMENT, FOOD EMPLOYEE AND CONDITIONAL E...  41.968821   \n",
       "...                                                   ...        ...   \n",
       "193147                                                NaN  41.814266   \n",
       "193404  32. FOOD AND NON-FOOD CONTACT SURFACES PROPERL...  41.814266   \n",
       "193473                                                NaN  41.814266   \n",
       "193994                                                NaN  41.746236   \n",
       "194324                                                NaN  41.851553   \n",
       "\n",
       "        Longitude  Community Areas  \n",
       "819    -87.608945              NaN  \n",
       "976    -87.608945              NaN  \n",
       "982    -87.682201              NaN  \n",
       "2152   -87.657588              NaN  \n",
       "2767   -87.682201              NaN  \n",
       "...           ...              ...  \n",
       "193147 -87.736013              NaN  \n",
       "193404 -87.736013              NaN  \n",
       "193473 -87.736013              NaN  \n",
       "193994 -87.643766              NaN  \n",
       "194324 -87.715059              NaN  \n",
       "\n",
       "[161 rows x 17 columns]"
      ]
     },
     "execution_count": 12,
     "metadata": {},
     "output_type": "execute_result"
    }
   ],
   "source": [
    "#Investigate the state=nan and city=nan restaurants\n",
    "inspections[pd.isnull(inspections.State) | pd.isnull(inspections.City)]"
   ]
  },
  {
   "cell_type": "markdown",
   "metadata": {},
   "source": [
    "Looking at the coordinates of these places, all of them seem to also be in chicago, so we will fill their City and State columns"
   ]
  },
  {
   "cell_type": "code",
   "execution_count": 13,
   "metadata": {},
   "outputs": [],
   "source": [
    "inspections['City'] = inspections['City'].fillna('Chicago')\n",
    "inspections['State'] = inspections['State'].fillna('IL')"
   ]
  },
  {
   "cell_type": "markdown",
   "metadata": {},
   "source": [
    "Next, we check if there are any facilities which are not located in Chicago."
   ]
  },
  {
   "cell_type": "code",
   "execution_count": 14,
   "metadata": {},
   "outputs": [
    {
     "name": "stdout",
     "output_type": "stream",
     "text": [
      "Values taken by 'City':  ['CHICAGO' 'Chicago' 'chicago' 'GRIFFITH' 'NEW YORK' 'SCHAUMBURG'\n",
      " 'ELMHURST' 'ALGONQUIN' 'NEW HOLSTEIN' 'CCHICAGO' 'NILES NILES' 'EVANSTON'\n",
      " 'CHICAGO.' 'CHESTNUT STREET' 'LANSING' 'CHICAGOCHICAGO' 'WADSWORTH'\n",
      " 'WILMETTE' 'WHEATON' 'CHICAGOHICAGO' 'ROSEMONT' 'CHicago' 'CALUMET CITY'\n",
      " 'PLAINFIELD' 'HIGHLAND PARK' 'PALOS PARK' 'ELK GROVE VILLAGE' 'CICERO'\n",
      " 'BRIDGEVIEW' 'OAK PARK' 'MAYWOOD' 'LAKE BLUFF' '312CHICAGO'\n",
      " 'SCHILLER PARK' 'SKOKIE' 'BEDFORD PARK' 'BANNOCKBURNDEERFIELD' 'CHCICAGO'\n",
      " 'BLOOMINGDALE' 'Norridge' 'CHARLES A HAYES' 'CHCHICAGO' 'CHICAGOI'\n",
      " 'SUMMIT' 'OOLYMPIA FIELDS' 'WESTMONT' 'CHICAGO HEIGHTS' 'JUSTICE'\n",
      " 'TINLEY PARK' 'LOMBARD' 'EAST HAZEL CREST' 'COUNTRY CLUB HILLS'\n",
      " 'STREAMWOOD' 'BOLINGBROOK' 'INACTIVE' 'BERWYN' 'BURNHAM' 'DES PLAINES'\n",
      " 'LAKE ZURICH' 'OLYMPIA FIELDS' 'alsip' 'OAK LAWN' 'BLUE ISLAND' 'GLENCOE'\n",
      " 'FRANKFORT' 'NAPERVILLE' 'BROADVIEW' 'WORTH' 'Maywood' 'ALSIP'\n",
      " 'EVERGREEN PARK']\n"
     ]
    }
   ],
   "source": [
    "# make sure that our assumption is correct\n",
    "print('Values taken by \\'City\\': ', inspections['City'].unique())"
   ]
  },
  {
   "cell_type": "markdown",
   "metadata": {},
   "source": [
    "We can see that this column takes values which are not Chicago. The rows where the 'City' is not Chicago are hence irrelevent to our study and should be dropped. Let's first make sure tha the bulk of the data is for Chicago before proceeding"
   ]
  },
  {
   "cell_type": "code",
   "execution_count": 15,
   "metadata": {},
   "outputs": [
    {
     "name": "stdout",
     "output_type": "stream",
     "text": [
      "99.89662939839339% of the inpections in the dataframe come from Chicago.\n"
     ]
    }
   ],
   "source": [
    "chicago_inspections = inspections.groupby('City')['Inspection ID'].nunique().filter(regex='(?i)chicago', axis=0)\n",
    "print('{}% of the inpections in the dataframe come from Chicago.'.format(100 * chicago_inspections.values.sum()/len(inspections)))"
   ]
  },
  {
   "cell_type": "markdown",
   "metadata": {},
   "source": [
    "We can safely drop the rows which come from cities that are not Chicago."
   ]
  },
  {
   "cell_type": "code",
   "execution_count": 16,
   "metadata": {},
   "outputs": [],
   "source": [
    "# list of ways Chicago has been written in the dataset\n",
    "chicago_variations = chicago_inspections.index.tolist()\n",
    "inspections = inspections[inspections['City'].isin(chicago_variations)]\n",
    "# drop the 'City' and 'State' columns since they have each only one value, 'Chicago' and 'IL' respectively\n",
    "inspections = inspections.drop(columns=['City', 'State'])"
   ]
  },
  {
   "cell_type": "markdown",
   "metadata": {},
   "source": [
    "Now that we only have facilities in Chicago in our dataset, let us fill the 'Community Areas' column. To that end, we use the geopy library."
   ]
  },
  {
   "cell_type": "markdown",
   "metadata": {},
   "source": [
    "We start by getting the unique locations in the dataset."
   ]
  },
  {
   "cell_type": "code",
   "execution_count": 17,
   "metadata": {},
   "outputs": [],
   "source": [
    "# def getareanneighbourhood(coord):\n",
    "#     \"\"\"\n",
    "    \n",
    "#     \"\"\"\n",
    "#     geolocator = Nominatim(timeout=10,user_agent=\"area_filler\")\n",
    "#     geocode = RateLimiter(geolocator.geocode, min_delay_seconds=1)\n",
    "#     dic = geocode.reverse(coord).raw['address']\n",
    "#     return dic.get('suburb', np.nan), dic.get('neighbourhood', np.nan)\n",
    "\n",
    "def combineloc(latitude, longitude):\n",
    "    \"\"\"\n",
    "    function to format the latitude and longitude such that they can be used in geopy requests\n",
    "    \"\"\"\n",
    "    return '{}, {}'.format(latitude, longitude)"
   ]
  },
  {
   "cell_type": "code",
   "execution_count": 18,
   "metadata": {},
   "outputs": [],
   "source": [
    "locations = inspections['Latitude'].dropna().combine(inspections['Longitude'].dropna(),combineloc)\n",
    "unique_locs = locations.unique()"
   ]
  },
  {
   "cell_type": "code",
   "execution_count": 19,
   "metadata": {},
   "outputs": [
    {
     "data": {
      "text/plain": [
       "array(['42.00558686485114, -87.66107732040031',\n",
       "       '41.88342263701489, -87.62802165207536',\n",
       "       '41.91039897821153, -87.6902068285586', ...,\n",
       "       '41.768328334800714, -87.67381938402686',\n",
       "       '41.764896400247046, -87.65396483351302',\n",
       "       '41.846516428599394, -87.69542345938575'], dtype=object)"
      ]
     },
     "execution_count": 19,
     "metadata": {},
     "output_type": "execute_result"
    }
   ],
   "source": [
    "unique_locs"
   ]
  },
  {
   "cell_type": "code",
   "execution_count": 20,
   "metadata": {},
   "outputs": [
    {
     "data": {
      "text/plain": [
       "16791"
      ]
     },
     "execution_count": 20,
     "metadata": {},
     "output_type": "execute_result"
    }
   ],
   "source": [
    "len(unique_locs)"
   ]
  },
  {
   "cell_type": "code",
   "execution_count": 21,
   "metadata": {},
   "outputs": [],
   "source": [
    "unique_locs_s = pd.Series(unique_locs, dtype=str)"
   ]
  },
  {
   "cell_type": "markdown",
   "metadata": {},
   "source": [
    "We then request the geopy entry for the locations we have (code takes 4h40 to run as we can only do one geopy query per second) and save the areas in a pickle."
   ]
  },
  {
   "cell_type": "code",
   "execution_count": 22,
   "metadata": {
    "scrolled": false
   },
   "outputs": [],
   "source": [
    "# geolocator = Nominatim(timeout=17000,user_agent=\"area_filler\")\n",
    "# geocode = RateLimiter(geolocator.reverse, min_delay_seconds=1)\n",
    "# # for i in unique_locs:\n",
    "# #     print(i)\n",
    "# #     print(geolocator.reverse(i))\n",
    "# areas = unique_locs_s.copy().apply(geocode)\n",
    "# areas.to_pickle('./areas')"
   ]
  },
  {
   "cell_type": "code",
   "execution_count": 23,
   "metadata": {},
   "outputs": [],
   "source": [
    "areas = pd.read_pickle('./areas.pickle')"
   ]
  },
  {
   "cell_type": "code",
   "execution_count": 24,
   "metadata": {},
   "outputs": [
    {
     "data": {
      "text/plain": [
       "0"
      ]
     },
     "execution_count": 24,
     "metadata": {},
     "output_type": "execute_result"
    }
   ],
   "source": [
    "areas.isna().sum()"
   ]
  },
  {
   "cell_type": "markdown",
   "metadata": {},
   "source": [
    "Let's add the community areas and neighborhoods to the dataframe."
   ]
  },
  {
   "cell_type": "code",
   "execution_count": 25,
   "metadata": {},
   "outputs": [],
   "source": [
    "# get latitude, longitude and corresponding community area and neighbourhood in same dataframe\n",
    "suburbs_neighbourhoods = [(x.raw.get('address', {}).get('suburb',np.nan), x.raw.get('address', {}).get('neighbourhood',np.nan)) for x in areas]\n",
    "suburbs, neighbourhoods = zip(*suburbs_neighbourhoods)\n",
    "locs_df = pd.concat([pd.Series(unique_locs, name='Location'), pd.Series(suburbs,name='Community Area'), pd.Series(neighbourhoods,name='Neighbourhood')], axis=1)"
   ]
  },
  {
   "cell_type": "code",
   "execution_count": 26,
   "metadata": {},
   "outputs": [],
   "source": [
    "# add the community area and the neighbourhood to each entry in our dataframe\n",
    "inspections['Location'] = inspections['Latitude'].combine(inspections['Longitude'],combineloc)\n",
    "inspections = inspections.merge(locs_df,on='Location',how='outer')\n",
    "inspections = inspections.drop(columns=['Community Areas'])"
   ]
  },
  {
   "cell_type": "markdown",
   "metadata": {},
   "source": [
    "Let's check if there are any NaN entries in our 'Community Area' column"
   ]
  },
  {
   "cell_type": "code",
   "execution_count": 27,
   "metadata": {},
   "outputs": [
    {
     "name": "stdout",
     "output_type": "stream",
     "text": [
      "96.55987151637446% of rows don't have missing Community Areas\n"
     ]
    }
   ],
   "source": [
    "print('{}% of rows don\\'t have missing Community Areas'.format(100 * (1 - inspections['Community Area'].isna().sum()/len(inspections))))"
   ]
  },
  {
   "cell_type": "markdown",
   "metadata": {},
   "source": [
    "We may safely drop the rows which have null 'Community Area'."
   ]
  },
  {
   "cell_type": "code",
   "execution_count": 28,
   "metadata": {},
   "outputs": [],
   "source": [
    "inspections = inspections[inspections['Community Area'].notna()]"
   ]
  },
  {
   "cell_type": "markdown",
   "metadata": {},
   "source": [
    "### C. Check which columns still have missing values (& bug ?)"
   ]
  },
  {
   "cell_type": "markdown",
   "metadata": {},
   "source": [
    "Let's check if there are anymore missing values in the dataframe."
   ]
  },
  {
   "cell_type": "code",
   "execution_count": 29,
   "metadata": {},
   "outputs": [
    {
     "data": {
      "text/plain": [
       "Inspection ID      0.011195044327044561% missing values\n",
       "DBA Name           0.011195044327044561% missing values\n",
       "AKA Name             1.2794336373765214% missing values\n",
       "License #          0.020257699258461586% missing values\n",
       "Facility Type        2.4687738227877793% missing values\n",
       "Risk                0.04531327465708513% missing values\n",
       "Address            0.011195044327044561% missing values\n",
       "Zip                 0.03625061972566811% missing values\n",
       "Inspection Date    0.011195044327044561% missing values\n",
       "Inspection Type    0.011728141675951445% missing values\n",
       "Results            0.011195044327044561% missing values\n",
       "Violations            26.55837682519205% missing values\n",
       "Latitude           0.011195044327044561% missing values\n",
       "Longitude          0.011195044327044561% missing values\n",
       "Location           0.011195044327044561% missing values\n",
       "Community Area                      0.0% missing values\n",
       "Neighbourhood        16.249873389379633% missing values\n",
       "dtype: object"
      ]
     },
     "execution_count": 29,
     "metadata": {},
     "output_type": "execute_result"
    }
   ],
   "source": [
    "inspections.isna().sum().apply(lambda x: '{}% missing values'.format(100 * x/len(inspections)))"
   ]
  },
  {
   "cell_type": "markdown",
   "metadata": {},
   "source": [
    "#### Zeineb pour André: si tu dupliques ce code et regarde le dataset avant de rajouter les community areas, il n'y avait pas de missing Inspection ID -> bug qlq part ?\n",
    "Looking at the missing values, it make no sence to have entries where the Inspection ID is null, we look at those entries and drop them."
   ]
  },
  {
   "cell_type": "code",
   "execution_count": 30,
   "metadata": {},
   "outputs": [
    {
     "name": "stdout",
     "output_type": "stream",
     "text": [
      "Number of missing inspections ID:  21\n"
     ]
    },
    {
     "data": {
      "text/html": [
       "<div>\n",
       "<style scoped>\n",
       "    .dataframe tbody tr th:only-of-type {\n",
       "        vertical-align: middle;\n",
       "    }\n",
       "\n",
       "    .dataframe tbody tr th {\n",
       "        vertical-align: top;\n",
       "    }\n",
       "\n",
       "    .dataframe thead th {\n",
       "        text-align: right;\n",
       "    }\n",
       "</style>\n",
       "<table border=\"1\" class=\"dataframe\">\n",
       "  <thead>\n",
       "    <tr style=\"text-align: right;\">\n",
       "      <th></th>\n",
       "      <th>Inspection ID</th>\n",
       "      <th>DBA Name</th>\n",
       "      <th>AKA Name</th>\n",
       "      <th>License #</th>\n",
       "      <th>Facility Type</th>\n",
       "      <th>Risk</th>\n",
       "      <th>Address</th>\n",
       "      <th>Zip</th>\n",
       "      <th>Inspection Date</th>\n",
       "      <th>Inspection Type</th>\n",
       "      <th>Results</th>\n",
       "      <th>Violations</th>\n",
       "      <th>Latitude</th>\n",
       "      <th>Longitude</th>\n",
       "      <th>Location</th>\n",
       "      <th>Community Area</th>\n",
       "      <th>Neighbourhood</th>\n",
       "    </tr>\n",
       "  </thead>\n",
       "  <tbody>\n",
       "    <tr>\n",
       "      <td>194245</td>\n",
       "      <td>NaN</td>\n",
       "      <td>NaN</td>\n",
       "      <td>NaN</td>\n",
       "      <td>NaN</td>\n",
       "      <td>NaN</td>\n",
       "      <td>NaN</td>\n",
       "      <td>NaN</td>\n",
       "      <td>NaN</td>\n",
       "      <td>NaN</td>\n",
       "      <td>NaN</td>\n",
       "      <td>NaN</td>\n",
       "      <td>NaN</td>\n",
       "      <td>NaN</td>\n",
       "      <td>NaN</td>\n",
       "      <td>NaN</td>\n",
       "      <td>Humboldt Park</td>\n",
       "      <td>Beat 2534</td>\n",
       "    </tr>\n",
       "    <tr>\n",
       "      <td>194246</td>\n",
       "      <td>NaN</td>\n",
       "      <td>NaN</td>\n",
       "      <td>NaN</td>\n",
       "      <td>NaN</td>\n",
       "      <td>NaN</td>\n",
       "      <td>NaN</td>\n",
       "      <td>NaN</td>\n",
       "      <td>NaN</td>\n",
       "      <td>NaN</td>\n",
       "      <td>NaN</td>\n",
       "      <td>NaN</td>\n",
       "      <td>NaN</td>\n",
       "      <td>NaN</td>\n",
       "      <td>NaN</td>\n",
       "      <td>NaN</td>\n",
       "      <td>Near West Side</td>\n",
       "      <td>Near West Side</td>\n",
       "    </tr>\n",
       "    <tr>\n",
       "      <td>194247</td>\n",
       "      <td>NaN</td>\n",
       "      <td>NaN</td>\n",
       "      <td>NaN</td>\n",
       "      <td>NaN</td>\n",
       "      <td>NaN</td>\n",
       "      <td>NaN</td>\n",
       "      <td>NaN</td>\n",
       "      <td>NaN</td>\n",
       "      <td>NaN</td>\n",
       "      <td>NaN</td>\n",
       "      <td>NaN</td>\n",
       "      <td>NaN</td>\n",
       "      <td>NaN</td>\n",
       "      <td>NaN</td>\n",
       "      <td>NaN</td>\n",
       "      <td>Kenwood</td>\n",
       "      <td>Kenwood</td>\n",
       "    </tr>\n",
       "    <tr>\n",
       "      <td>194248</td>\n",
       "      <td>NaN</td>\n",
       "      <td>NaN</td>\n",
       "      <td>NaN</td>\n",
       "      <td>NaN</td>\n",
       "      <td>NaN</td>\n",
       "      <td>NaN</td>\n",
       "      <td>NaN</td>\n",
       "      <td>NaN</td>\n",
       "      <td>NaN</td>\n",
       "      <td>NaN</td>\n",
       "      <td>NaN</td>\n",
       "      <td>NaN</td>\n",
       "      <td>NaN</td>\n",
       "      <td>NaN</td>\n",
       "      <td>NaN</td>\n",
       "      <td>Lower West Side</td>\n",
       "      <td>Pilsen</td>\n",
       "    </tr>\n",
       "    <tr>\n",
       "      <td>194249</td>\n",
       "      <td>NaN</td>\n",
       "      <td>NaN</td>\n",
       "      <td>NaN</td>\n",
       "      <td>NaN</td>\n",
       "      <td>NaN</td>\n",
       "      <td>NaN</td>\n",
       "      <td>NaN</td>\n",
       "      <td>NaN</td>\n",
       "      <td>NaN</td>\n",
       "      <td>NaN</td>\n",
       "      <td>NaN</td>\n",
       "      <td>NaN</td>\n",
       "      <td>NaN</td>\n",
       "      <td>NaN</td>\n",
       "      <td>NaN</td>\n",
       "      <td>Logan Square</td>\n",
       "      <td>Maplewood</td>\n",
       "    </tr>\n",
       "  </tbody>\n",
       "</table>\n",
       "</div>"
      ],
      "text/plain": [
       "        Inspection ID DBA Name AKA Name  License # Facility Type Risk Address  \\\n",
       "194245            NaN      NaN      NaN        NaN           NaN  NaN     NaN   \n",
       "194246            NaN      NaN      NaN        NaN           NaN  NaN     NaN   \n",
       "194247            NaN      NaN      NaN        NaN           NaN  NaN     NaN   \n",
       "194248            NaN      NaN      NaN        NaN           NaN  NaN     NaN   \n",
       "194249            NaN      NaN      NaN        NaN           NaN  NaN     NaN   \n",
       "\n",
       "        Zip Inspection Date Inspection Type Results Violations  Latitude  \\\n",
       "194245  NaN             NaN             NaN     NaN        NaN       NaN   \n",
       "194246  NaN             NaN             NaN     NaN        NaN       NaN   \n",
       "194247  NaN             NaN             NaN     NaN        NaN       NaN   \n",
       "194248  NaN             NaN             NaN     NaN        NaN       NaN   \n",
       "194249  NaN             NaN             NaN     NaN        NaN       NaN   \n",
       "\n",
       "        Longitude Location   Community Area   Neighbourhood  \n",
       "194245        NaN      NaN    Humboldt Park       Beat 2534  \n",
       "194246        NaN      NaN   Near West Side  Near West Side  \n",
       "194247        NaN      NaN          Kenwood         Kenwood  \n",
       "194248        NaN      NaN  Lower West Side          Pilsen  \n",
       "194249        NaN      NaN     Logan Square       Maplewood  "
      ]
     },
     "execution_count": 30,
     "metadata": {},
     "output_type": "execute_result"
    }
   ],
   "source": [
    "missing_inspections = inspections[inspections['Inspection ID'].isnull()]\n",
    "print(\"Number of missing inspections ID: \", len(missing_inspections))\n",
    "missing_inspections.head()"
   ]
  },
  {
   "cell_type": "code",
   "execution_count": 31,
   "metadata": {},
   "outputs": [],
   "source": [
    "inspections.dropna(subset=['Inspection ID'],inplace = True)"
   ]
  },
  {
   "cell_type": "code",
   "execution_count": 32,
   "metadata": {},
   "outputs": [
    {
     "data": {
      "text/plain": [
       "Inspection ID                       0.0% missing values\n",
       "DBA Name                            0.0% missing values\n",
       "AKA Name             1.2683805888186306% missing values\n",
       "License #          0.009063669613247886% missing values\n",
       "Facility Type        2.4578539362983975% missing values\n",
       "Risk                0.03412205030869792% missing values\n",
       "Address                             0.0% missing values\n",
       "Zip                 0.02505838069545004% missing values\n",
       "Inspection Date                     0.0% missing values\n",
       "Inspection Type    0.000533157036073405% missing values\n",
       "Results                             0.0% missing values\n",
       "Violations           26.550154082383425% missing values\n",
       "Latitude                            0.0% missing values\n",
       "Longitude                           0.0% missing values\n",
       "Location                            0.0% missing values\n",
       "Community Area                      0.0% missing values\n",
       "Neighbourhood         16.24956014544524% missing values\n",
       "dtype: object"
      ]
     },
     "execution_count": 32,
     "metadata": {},
     "output_type": "execute_result"
    }
   ],
   "source": [
    "inspections.isna().sum().apply(lambda x: '{}% missing values'.format(100 * x/len(inspections)))"
   ]
  },
  {
   "cell_type": "markdown",
   "metadata": {},
   "source": [
    "* The AKA names still have missing entries. We will replace those with missing with the DBA name because we will need those for our recommendation map later on, and it make more sense to display the AKA names for the users. However will be  mostly sticking to the DBA Name when referring to establishments.\n",
    "* The Lisence Number is missing for some entries. Seeing as it is not essential in our main analysis we will not pay attention to it for now.\n",
    "* The missing Zip entries are not important as we have enough information regarding location (latitude, longitude, community area and address). Hence we can safely drop this column.\n",
    "* The number of missing neighbourhoods is quite big. Hence, we may drop that column as well.\n",
    "* We will try to recover the missing facility type from the restaurant's name using other entries where the name is the same and the type is filled in.\n",
    "* We will see if the missing violations entries are consistent and have something to do with the inspection type and inspection results.\n",
    "* The fraction of the data with missing Inspection Type represent a really small fraction in our dataset. Hence we can safely drop those entries.\n",
    "* Missing values of Risk is the only ones that might hinder our analysis. We will try to recover those using the restaurant's name and other filled in entries.For the values that we cannot recover, we drop the corresponding entries."
   ]
  },
  {
   "cell_type": "markdown",
   "metadata": {},
   "source": [
    "### D. Drop unneeded columns"
   ]
  },
  {
   "cell_type": "code",
   "execution_count": 33,
   "metadata": {},
   "outputs": [],
   "source": [
    "# drop neighbourhood and zip columns\n",
    "inspections = inspections.drop(columns=['Neighbourhood','Zip'])"
   ]
  },
  {
   "cell_type": "markdown",
   "metadata": {},
   "source": [
    "### E. Clean Facility Type column"
   ]
  },
  {
   "cell_type": "markdown",
   "metadata": {},
   "source": [
    "Let's replace the null values with the right facility type"
   ]
  },
  {
   "cell_type": "code",
   "execution_count": 34,
   "metadata": {},
   "outputs": [
    {
     "name": "stdout",
     "output_type": "stream",
     "text": [
      "Number of null Facility Types before recovering:  4610\n"
     ]
    },
    {
     "data": {
      "text/html": [
       "<div>\n",
       "<style scoped>\n",
       "    .dataframe tbody tr th:only-of-type {\n",
       "        vertical-align: middle;\n",
       "    }\n",
       "\n",
       "    .dataframe tbody tr th {\n",
       "        vertical-align: top;\n",
       "    }\n",
       "\n",
       "    .dataframe thead th {\n",
       "        text-align: right;\n",
       "    }\n",
       "</style>\n",
       "<table border=\"1\" class=\"dataframe\">\n",
       "  <thead>\n",
       "    <tr style=\"text-align: right;\">\n",
       "      <th></th>\n",
       "      <th>Inspection ID</th>\n",
       "      <th>DBA Name</th>\n",
       "      <th>AKA Name</th>\n",
       "      <th>License #</th>\n",
       "      <th>Facility Type</th>\n",
       "      <th>Risk</th>\n",
       "      <th>Address</th>\n",
       "      <th>Inspection Date</th>\n",
       "      <th>Inspection Type</th>\n",
       "      <th>Results</th>\n",
       "      <th>Violations</th>\n",
       "      <th>Latitude</th>\n",
       "      <th>Longitude</th>\n",
       "      <th>Location</th>\n",
       "      <th>Community Area</th>\n",
       "    </tr>\n",
       "  </thead>\n",
       "  <tbody>\n",
       "    <tr>\n",
       "      <td>124</td>\n",
       "      <td>1515531.0</td>\n",
       "      <td>GATEWAY NEWS STAND</td>\n",
       "      <td>GATEWAY NEWS STAND</td>\n",
       "      <td>1245984.0</td>\n",
       "      <td>NaN</td>\n",
       "      <td>Risk 3 (Low)</td>\n",
       "      <td>108 N STATE ST</td>\n",
       "      <td>2014-12-30T00:00:00.000</td>\n",
       "      <td>Canvass</td>\n",
       "      <td>Out of Business</td>\n",
       "      <td>NaN</td>\n",
       "      <td>41.883423</td>\n",
       "      <td>-87.628022</td>\n",
       "      <td>41.88342263701489, -87.62802165207536</td>\n",
       "      <td>Irving Park</td>\n",
       "    </tr>\n",
       "    <tr>\n",
       "      <td>181</td>\n",
       "      <td>660114.0</td>\n",
       "      <td>SUBWAY SANDWICH &amp; SALADS</td>\n",
       "      <td>SUBWAY SANDWICH &amp; SALADS</td>\n",
       "      <td>1275947.0</td>\n",
       "      <td>NaN</td>\n",
       "      <td>Risk 1 (High)</td>\n",
       "      <td>2512 W NORTH AVE OOB</td>\n",
       "      <td>2012-01-23T00:00:00.000</td>\n",
       "      <td>Canvass</td>\n",
       "      <td>Out of Business</td>\n",
       "      <td>NaN</td>\n",
       "      <td>41.910399</td>\n",
       "      <td>-87.690207</td>\n",
       "      <td>41.91039897821153, -87.6902068285586</td>\n",
       "      <td>Lincoln Park</td>\n",
       "    </tr>\n",
       "  </tbody>\n",
       "</table>\n",
       "</div>"
      ],
      "text/plain": [
       "     Inspection ID                  DBA Name                  AKA Name  \\\n",
       "124      1515531.0        GATEWAY NEWS STAND        GATEWAY NEWS STAND   \n",
       "181       660114.0  SUBWAY SANDWICH & SALADS  SUBWAY SANDWICH & SALADS   \n",
       "\n",
       "     License # Facility Type           Risk               Address  \\\n",
       "124  1245984.0           NaN   Risk 3 (Low)       108 N STATE ST    \n",
       "181  1275947.0           NaN  Risk 1 (High)  2512 W NORTH AVE OOB   \n",
       "\n",
       "             Inspection Date Inspection Type          Results Violations  \\\n",
       "124  2014-12-30T00:00:00.000         Canvass  Out of Business        NaN   \n",
       "181  2012-01-23T00:00:00.000         Canvass  Out of Business        NaN   \n",
       "\n",
       "      Latitude  Longitude                               Location  \\\n",
       "124  41.883423 -87.628022  41.88342263701489, -87.62802165207536   \n",
       "181  41.910399 -87.690207   41.91039897821153, -87.6902068285586   \n",
       "\n",
       "    Community Area  \n",
       "124    Irving Park  \n",
       "181   Lincoln Park  "
      ]
     },
     "execution_count": 34,
     "metadata": {},
     "output_type": "execute_result"
    }
   ],
   "source": [
    "print(\"Number of null Facility Types before recovering: \",len(inspections[inspections['Facility Type'].isnull()]))\n",
    "inspections[inspections['Facility Type'].isnull()].head(2)"
   ]
  },
  {
   "cell_type": "code",
   "execution_count": 35,
   "metadata": {},
   "outputs": [
    {
     "name": "stderr",
     "output_type": "stream",
     "text": [
      "/Users/macbook/anaconda3/lib/python3.7/site-packages/ipykernel_launcher.py:5: FutureWarning: using a dict on a Series for aggregation\n",
      "is deprecated and will be removed in a future version. Use                 named aggregation instead.\n",
      "\n",
      "    >>> grouper.agg(name_1=func_1, name_2=func_2)\n",
      "\n",
      "  \"\"\"\n"
     ]
    },
    {
     "name": "stdout",
     "output_type": "stream",
     "text": [
      "Possible number of different Facility Types for some establishment :  [1 2 4 3 7 5 6 9]\n"
     ]
    },
    {
     "data": {
      "text/html": [
       "<div>\n",
       "<style scoped>\n",
       "    .dataframe tbody tr th:only-of-type {\n",
       "        vertical-align: middle;\n",
       "    }\n",
       "\n",
       "    .dataframe tbody tr th {\n",
       "        vertical-align: top;\n",
       "    }\n",
       "\n",
       "    .dataframe thead th {\n",
       "        text-align: right;\n",
       "    }\n",
       "</style>\n",
       "<table border=\"1\" class=\"dataframe\">\n",
       "  <thead>\n",
       "    <tr style=\"text-align: right;\">\n",
       "      <th></th>\n",
       "      <th>nbr_types</th>\n",
       "      <th>possible_types</th>\n",
       "    </tr>\n",
       "    <tr>\n",
       "      <th>DBA Name</th>\n",
       "      <th></th>\n",
       "      <th></th>\n",
       "    </tr>\n",
       "  </thead>\n",
       "  <tbody>\n",
       "    <tr>\n",
       "      <td>7-ELEVEN</td>\n",
       "      <td>4</td>\n",
       "      <td>{nan, Liquor, Restaurant, Grocery Store}</td>\n",
       "    </tr>\n",
       "    <tr>\n",
       "      <td>ALASKA PALETERIA Y NEVERIA</td>\n",
       "      <td>3</td>\n",
       "      <td>{Restaurant, MOBILE FROZEN DESSERTS DISPENSER-...</td>\n",
       "    </tr>\n",
       "    <tr>\n",
       "      <td>ALL ABOUT KIDS LEARNING ACADEMY</td>\n",
       "      <td>3</td>\n",
       "      <td>{Children's Services Facility, nan, Daycare Co...</td>\n",
       "    </tr>\n",
       "    <tr>\n",
       "      <td>ARAMARK</td>\n",
       "      <td>7</td>\n",
       "      <td>{nan, CHARTER SCHOOL, Special Event, Restauran...</td>\n",
       "    </tr>\n",
       "    <tr>\n",
       "      <td>ARAMARK EDUCATION SERVICES</td>\n",
       "      <td>4</td>\n",
       "      <td>{CHARTER SCHOOL, Restaurant, SCHOOL, School}</td>\n",
       "    </tr>\n",
       "  </tbody>\n",
       "</table>\n",
       "</div>"
      ],
      "text/plain": [
       "                                 nbr_types  \\\n",
       "DBA Name                                     \n",
       "7-ELEVEN                                 4   \n",
       "ALASKA PALETERIA Y NEVERIA               3   \n",
       "ALL ABOUT KIDS LEARNING ACADEMY          3   \n",
       "ARAMARK                                  7   \n",
       "ARAMARK EDUCATION SERVICES               4   \n",
       "\n",
       "                                                                    possible_types  \n",
       "DBA Name                                                                            \n",
       "7-ELEVEN                                  {nan, Liquor, Restaurant, Grocery Store}  \n",
       "ALASKA PALETERIA Y NEVERIA       {Restaurant, MOBILE FROZEN DESSERTS DISPENSER-...  \n",
       "ALL ABOUT KIDS LEARNING ACADEMY  {Children's Services Facility, nan, Daycare Co...  \n",
       "ARAMARK                          {nan, CHARTER SCHOOL, Special Event, Restauran...  \n",
       "ARAMARK EDUCATION SERVICES            {CHARTER SCHOOL, Restaurant, SCHOOL, School}  "
      ]
     },
     "execution_count": 35,
     "metadata": {},
     "output_type": "execute_result"
    }
   ],
   "source": [
    "#we have to declare this function to be able to use it into aggregate\n",
    "def to_set(a):\n",
    "    #return {x for x in a if pd.notna(x)}\n",
    "    return set(a)\n",
    "establisment_facility_types = inspections[['DBA Name','Facility Type']].drop_duplicates().groupby('DBA Name')['Facility Type'].agg({'nbr_types': len, 'possible_types': to_set})\n",
    "print(\"Possible number of different Facility Types for some establishment : \", establisment_facility_types['nbr_types'].unique())\n",
    "establisment_facility_types[establisment_facility_types['nbr_types']>2].head()"
   ]
  },
  {
   "cell_type": "markdown",
   "metadata": {},
   "source": [
    "We see that some of the establishments have two possible Facility types, in this case we replace the rows which have null value with one of the possible types."
   ]
  },
  {
   "cell_type": "code",
   "execution_count": 36,
   "metadata": {},
   "outputs": [],
   "source": [
    "#First remove NAN from sets\n",
    "establisment_facility_types['possible_types'] = establisment_facility_types.apply(\n",
    "    lambda row: {x for x in row['possible_types'] if pd.notna(x)},\n",
    "    axis=1\n",
    ") \n",
    "#Then keep only one type per establishment\n",
    "establisment_facility_types['possible_types'] = establisment_facility_types.apply(\n",
    "    lambda row: next(iter(row['possible_types'])) if len(row['possible_types'])!=0 else np.NaN,\n",
    "    axis=1\n",
    ") \n",
    "establisment_types_dict=establisment_facility_types['possible_types'].to_dict()\n",
    "#Assign a type to each missing value\n",
    "inspections['Facility Type'] = inspections.apply(\n",
    "    lambda row: establisment_types_dict[row['DBA Name']] if pd.isna(row['Facility Type']) else row['Facility Type'],\n",
    "    axis=1\n",
    ")"
   ]
  },
  {
   "cell_type": "code",
   "execution_count": 37,
   "metadata": {},
   "outputs": [
    {
     "name": "stdout",
     "output_type": "stream",
     "text": [
      "3822\n"
     ]
    }
   ],
   "source": [
    "print(len(inspections[inspections['Facility Type'].isnull()]))"
   ]
  },
  {
   "cell_type": "markdown",
   "metadata": {},
   "source": [
    "We were able to successfully recover 17% of the missing facility types in our dataset. We will assign the value 'other' to those still missing."
   ]
  },
  {
   "cell_type": "code",
   "execution_count": 38,
   "metadata": {},
   "outputs": [],
   "source": [
    "inspections['Facility Type'] = inspections.apply(\n",
    "    lambda row: 'other' if pd.isna(row['Facility Type']) else row['Facility Type'],\n",
    "    axis=1\n",
    ")"
   ]
  },
  {
   "cell_type": "markdown",
   "metadata": {},
   "source": [
    "## Zeineb pour André: j'ai pas compris le but de cette partie, est-ce que tu veux creer un nouveau feature avec facility_type plus general ? si tu peux mettre un commentaire ici pour expliquer le but stp"
   ]
  },
  {
   "cell_type": "markdown",
   "metadata": {},
   "source": [
    "We first examine the facility type entries"
   ]
  },
  {
   "cell_type": "code",
   "execution_count": 39,
   "metadata": {},
   "outputs": [
    {
     "data": {
      "text/plain": [
       "0            restaurant\n",
       "1                museum\n",
       "2               gallery\n",
       "3             newsstand\n",
       "4         grocery store\n",
       "             ...       \n",
       "375        soup kitchen\n",
       "376        hooka lounge\n",
       "377           religious\n",
       "378    wholesale bakery\n",
       "379          kids cafe'\n",
       "Length: 380, dtype: object"
      ]
     },
     "execution_count": 39,
     "metadata": {},
     "output_type": "execute_result"
    }
   ],
   "source": [
    "# from nltk.corpus import stopwords\n",
    "# stop = stopwords.words('english')\n",
    "spell = Speller(lang='en')\n",
    "inspections['Facility Type'] = inspections['Facility Type'].str.lower().apply(lambda x: spell(str(x)))\n",
    "unique_types = pd.Series(inspections['Facility Type'].unique())\n",
    "unique_types = pd.Series(unique_types.apply(lambda x: re.sub(',|&|;','/',str(x)).split('/')).explode().unique())\n",
    "unique_types.apply(lambda x: str(x).strip())"
   ]
  },
  {
   "cell_type": "code",
   "execution_count": 40,
   "metadata": {},
   "outputs": [],
   "source": [
    "#corrected_unique_types = unique_types.apply(lambda x: spell(str(x).strip()))"
   ]
  },
  {
   "cell_type": "code",
   "execution_count": 41,
   "metadata": {},
   "outputs": [],
   "source": [
    "#corrected_unique_types"
   ]
  },
  {
   "cell_type": "markdown",
   "metadata": {},
   "source": [
    "There are 427 facility types in the dataframe. Let's see if we can cluster some of them."
   ]
  },
  {
   "cell_type": "code",
   "execution_count": 42,
   "metadata": {},
   "outputs": [],
   "source": [
    "school_vocab = ['school', 'under 6', 'university', 'cafeteria', 'training program', 'kids', 'children', 'daycare', 'years', 'school cafeteria', 'college', 'class', 'day care']\n",
    "restaurant_vocab = ['restaurant', 'smokehouse', 'diner', 'breakfast', 'lunch', 'grill', 'sushi','banquet', 'dining', 'taqueria']\n",
    "homes_vocab = ['long term care','assisted living', 'nursing', 'care', 'supportive']\n",
    "\n",
    "religious_vocab = ['religious', 'religion', 'church', 'synaguogue', 'temple']\n",
    "coffee_vocab = ['coffee', 'cafe']\n",
    "catering_vocab = ['cater']\n",
    "\n",
    "bakery_vocab = ['bake', 'patisserie', 'boulangerie']\n",
    "market_vocab = ['butcher', 'snack', 'dollar', 'grocery', 'frozen food storage', 'meat packing', 'food', 'market', 'packaged', 'popcorn', 'pantry', 'store', 'produce', 'kiosk', 'convenience', 'commiasary','gas station', 'wholesale', 'deli', 'convenient', 'retail', 'dollar tree']\n",
    "dessert_vocab = ['ice cream', 'dessert', 'paleteria', 'candy', 'gelato', 'donut']\n",
    "\n",
    "health_vocab = ['gym', 'exercise', 'nutrition','herbal', 'fitness', 'drug', 'rehab', 'herbalife', 'weight', 'herb', 'health', 'decream']\n",
    "medical_vocab = ['pharmacy']\n",
    "vending_vocab = ['vend', 'pop-up', 'mobile', 'cart', 'dispenser', 'truck']\n",
    "\n",
    "drinks_vocab = ['liquor', 'music', 'bar', 'pub', 'beverage', 'club', 'roof', 'tavern', 'brewery', 'wine', 'beer', 'lounge', 'tea', 'shakes']\n",
    "live_vocab =['live', 'poultry', 'slaughter', 'farm']\n",
    "kitchen_vocab = ['kitchen']\n",
    "\n",
    "distributor_vocab = ['distributor', 'distribution']\n",
    "shelter_vocab = ['shelter', 'youth housing']\n",
    "# other_vocab = ['warehouse', 'other', 'theater', 'golf', 'laundromat', 'hotel', 'riverbank', 'theatre', 'event', 'special', 'museum', 'hospital', 'pool', 'art', 'airport', 'gallery', 'terminal']\n"
   ]
  },
  {
   "cell_type": "code",
   "execution_count": 43,
   "metadata": {},
   "outputs": [],
   "source": [
    "#unique_types = corrected_unique_types"
   ]
  },
  {
   "cell_type": "code",
   "execution_count": 44,
   "metadata": {},
   "outputs": [],
   "source": [
    "#'live poultry' in corrected_unique_types.values"
   ]
  },
  {
   "cell_type": "code",
   "execution_count": 45,
   "metadata": {
    "scrolled": true
   },
   "outputs": [],
   "source": [
    "def extract_label(unique_labels, vocab,mssg):\n",
    "    labels = unique_types.apply(lambda x: x if bool(re.search('|'.join(vocab), x)) else np.nan).dropna()\n",
    "    print(labels)\n",
    "    print('{}: {}'.format(mssg, labels.size))\n",
    "    unique_labels = unique_types.drop(labels=labels.index,errors='ignore')\n",
    "    return unique_labels, labels"
   ]
  },
  {
   "cell_type": "code",
   "execution_count": 46,
   "metadata": {},
   "outputs": [
    {
     "name": "stdout",
     "output_type": "stream",
     "text": [
      "5                       daycare (2 - 6 years)\n",
      "7                children's services facility\n",
      "10            daycare above and under 2 years\n",
      "23                                     school\n",
      "32                children's service facility\n",
      "33                         daycare combo 1586\n",
      "38                            teaching school\n",
      "43          1023 children's services facility\n",
      "44                             private school\n",
      "46                             cooking school\n",
      "47                             charter school\n",
      "48                    daycare (under 2 years)\n",
      "52                          daycare (2 years)\n",
      "56                                  cafeteria\n",
      "60                              daycare night\n",
      "61                       after school program\n",
      "74                                    daycare\n",
      "86         1023 children's service s facility\n",
      "107                           senior day care\n",
      "119         1023-children's services facility\n",
      "127                           culinary school\n",
      "149       retail store offers cooking classes\n",
      "155                             adult daycare\n",
      "160                      culinary class rooms\n",
      "161                                   college\n",
      "165          1023 children's service facility\n",
      "167                             day care 2-14\n",
      "168                                  day care\n",
      "177                  charter school cafeteria\n",
      "179                             public school\n",
      "183                               daycare 2-6\n",
      "184                                   under 6\n",
      "193                        prep inside school\n",
      "194                          school cafeteria\n",
      "198                children services facility\n",
      "201                             day care 1023\n",
      "206                             daycare combo\n",
      "215                      culinary arts school\n",
      "221                     day care combo (1586)\n",
      "224                              daycare 1586\n",
      "226                  15 months to 5 years old\n",
      "232                         after school care\n",
      "239    a-not-for-profit chef training program\n",
      "242                   city of chicago college\n",
      "244                             pastry school\n",
      "254                      university cafeteria\n",
      "256                   daycare 2 yrs to 12 yrs\n",
      "263           before and after school program\n",
      "268                        alternative school\n",
      "298             children's services  facility\n",
      "301                        daycare 6 was-5yrs\n",
      "340                         nutrition classes\n",
      "344               1584-day care above 2 years\n",
      "349                children activity facility\n",
      "371                                 kids cafe\n",
      "379                                kids cafe'\n",
      "dtype: object\n",
      "Number of Schools: : 56\n",
      "0                    restaurant\n",
      "31                      banquet\n",
      "34                 golden diner\n",
      "54          grocery(sushi prep)\n",
      "59                sushi counter\n",
      "62                 banquet hall\n",
      "81                   restaurant\n",
      "83        commissary restaurant\n",
      "150                 dining hall\n",
      "166                    taqueria\n",
      "192                tavern grill\n",
      "197                banquet room\n",
      "233                    banquets\n",
      "234              banquet dining\n",
      "240    restaurant.banquet halls\n",
      "273               banquet rooms\n",
      "295       restaurant and liquor\n",
      "309                  smokehouse\n",
      "342                       grill\n",
      "352          restaurant and bar\n",
      "354             tent restaurant\n",
      "dtype: object\n",
      "Number of Restaurants: : 21\n",
      "11                  long term care\n",
      "40                 assisted living\n",
      "73                    nursing home\n",
      "130                 long-term care\n",
      "131        long term care facility\n",
      "132              supportive living\n",
      "164              health care store\n",
      "178       assisted living facility\n",
      "196        long-term care facility\n",
      "200     supportive living facility\n",
      "202              1005 nursing home\n",
      "230    assisted living senior care\n",
      "330       adult family care center\n",
      "dtype: object\n",
      "Number of Nursing homes: : 13\n",
      "89     church (special events)\n",
      "128             church kitchen\n",
      "138                     church\n",
      "377                  religious\n",
      "dtype: object\n",
      "Number of Religious Establishments: : 4\n",
      "63                   coffee kiosk\n",
      "70                    coffee cart\n",
      "109                          cafe\n",
      "115                   coffee shop\n",
      "154                 internet cafe\n",
      "204                coffee roaster\n",
      "219    animal shelter cafe permit\n",
      "250                riverbank cafe\n",
      "277                  coffee  shop\n",
      "296                        coffee\n",
      "374        coffee vending machine\n",
      "dtype: object\n",
      "Number of Coffeeshops: : 11\n",
      "20                   catering\n",
      "93     catering and wholesale\n",
      "108            catered liquor\n",
      "347            catered events\n",
      "dtype: object\n",
      "Number of Caterers: : 4\n",
      "6                bakery\n",
      "378    wholesale bakery\n",
      "dtype: object\n",
      "Number of Bakeries: : 2\n",
      "4                     grocery store\n",
      "13                     o'hare kiosk\n",
      "15                            store\n",
      "18                            kiosk\n",
      "21            mobile food dispenser\n",
      "                   ...             \n",
      "360                 mobil food 1315\n",
      "362    dollar store selling grocery\n",
      "365                    live butcher\n",
      "366                     meat market\n",
      "369                   general store\n",
      "Length: 89, dtype: object\n",
      "Number of Markets: : 89\n",
      "55                       mobile frozen desserts vendor\n",
      "75                                         gelato shop\n",
      "76                                    ice cream parlor\n",
      "91                                      ice cream shop\n",
      "94                               mobile dessert vendor\n",
      "95                                         candy maker\n",
      "96                                               candy\n",
      "112                                             gelato\n",
      "137                           frozen dessert pushcarts\n",
      "146                         mobile frozen dessert disp\n",
      "163                                         candy shop\n",
      "169                       mobile frozen dessert vendor\n",
      "170                             mobile desserts vendor\n",
      "181                                         donut shop\n",
      "282                                          ice cream\n",
      "286     mobile frozen desserts dispenser-non-motorized\n",
      "287            frozen desserts dispenser-non-motorized\n",
      "303         commissary for soft serve ice cream trucks\n",
      "314         mobile frozen desserts dispenser-non-motor\n",
      "315           frozen desserts dispenser -non motorized\n",
      "316    mobile frozen dessert dispenser_non  motorized.\n",
      "317    mobile frozen desserts dispenser-non- motorized\n",
      "343                                mobile dessert cart\n",
      "373                               card shop with candy\n",
      "dtype: object\n",
      "Number of Dessert Places: : 24\n",
      "57     exercise and nutrition bar\n",
      "58                      herbalize\n",
      "72                 fitness center\n",
      "99                    herbal life\n",
      "129           weight loss program\n",
      "140                        health\n",
      "175                 chinese herbs\n",
      "187               herbal medicine\n",
      "190                  decream shop\n",
      "222                  rehab center\n",
      "223       drug treatment facility\n",
      "225                fitness studio\n",
      "243                     herbarial\n",
      "260                           gym\n",
      "265              herbal life shop\n",
      "276                 herbal drinks\n",
      "278           herbalize nutrition\n",
      "300                 health center\n",
      "319                        herbal\n",
      "320                          drug\n",
      "328                 herbal remedy\n",
      "329                     nutrition\n",
      "dtype: object\n",
      "Number of Health Institutions: : 22\n",
      "36    pharmacy\n",
      "dtype: object\n",
      "Number of Pharmacies: : 1\n",
      "19                       vending machine\n",
      "37     pop-up establishment host-tier ii\n",
      "39                        illegal vendor\n",
      "71                          hot dog cart\n",
      "176                   vending commissary\n",
      "252                           push carts\n",
      "294                                truck\n",
      "dtype: object\n",
      "Number of Vending Establishments: : 7\n",
      "8                               tavern\n",
      "12                      airport lounge\n",
      "14                              lounge\n",
      "16                            beverage\n",
      "28                              liquor\n",
      "45                                 bar\n",
      "79                       wine and beer\n",
      "87                 not-for-profit club\n",
      "100                    wrigley rooftop\n",
      "102                            rooftop\n",
      "103                           rooftops\n",
      "110                       smoothie bar\n",
      "111                          roof tops\n",
      "113                           roof top\n",
      "117                            brewery\n",
      "139                        tea brewing\n",
      "141                          juice bar\n",
      "159                   wrigley roof top\n",
      "171                        1475 liquor\n",
      "199                            brewpub\n",
      "207                          juice bar\n",
      "209    liquor consumption on premises.\n",
      "211                         night club\n",
      "212                      tavern-liquor\n",
      "220                      rooftop patio\n",
      "246                             shakes\n",
      "247                               teas\n",
      "249         shuffleboard club with bar\n",
      "264                juice and salad bar\n",
      "272                           wine bar\n",
      "279             liquor brewery tasting\n",
      "297                                tea\n",
      "306                        social club\n",
      "322                        service bar\n",
      "326                        massage bar\n",
      "339                        music venue\n",
      "345                   wine tasting bar\n",
      "357                boys and girls club\n",
      "370                          hooka bar\n",
      "376                       hooka lounge\n",
      "dtype: object\n",
      "Number of Drinks Places: : 40\n",
      "82                 live poultry\n",
      "144           poultry slaughter\n",
      "145    custom poultry slaughter\n",
      "157             slaughter house\n",
      "325                  urban farm\n",
      "dtype: object\n",
      "Number of Live Animal Sellers and Slaughterhouses: : 5\n",
      "27      shared kitchen user (long term)\n",
      "85                       shared kitchen\n",
      "92     shared kitchen user (short term)\n",
      "120                             kitchen\n",
      "185                        main kitchen\n",
      "191                    employee kitchen\n",
      "241                 charity aid kitchen\n",
      "293                        kitchen demo\n",
      "367     shared kitchen user (long them)\n",
      "375                        soup kitchen\n",
      "dtype: object\n",
      "Number of Shared Kitchen: : 10\n",
      "118    distribution center\n",
      "203            distributor\n",
      "dtype: object\n",
      "Number of Distributors: : 2\n",
      "67           shelter\n",
      "237    youth housing\n",
      "dtype: object\n",
      "Number of Shelters: : 2\n"
     ]
    }
   ],
   "source": [
    "unique_types, school_labels = extract_label(unique_types, school_vocab, 'Number of Schools: ')\n",
    "unique_types, restaurant_labels = extract_label(unique_types, restaurant_vocab, 'Number of Restaurants: ')\n",
    "unique_types, homes_labels = extract_label(unique_types, homes_vocab, 'Number of Nursing homes: ')\n",
    "\n",
    "unique_types, religious_labels = extract_label(unique_types, religious_vocab, 'Number of Religious Establishments: ')\n",
    "unique_types, coffee_labels = extract_label(unique_types, coffee_vocab, 'Number of Coffeeshops: ')\n",
    "unique_types, catering_labels = extract_label(unique_types, catering_vocab, 'Number of Caterers: ')\n",
    "\n",
    "unique_types, bakery_labels = extract_label(unique_types, bakery_vocab, 'Number of Bakeries: ')\n",
    "unique_types, market_labels = extract_label(unique_types, market_vocab, 'Number of Markets: ')\n",
    "unique_types, dessert_labels = extract_label(unique_types, dessert_vocab, 'Number of Dessert Places: ')\n",
    "\n",
    "unique_types, health_labels = extract_label(unique_types, health_vocab, 'Number of Health Institutions: ')\n",
    "unique_types, medical_labels = extract_label(unique_types, medical_vocab, 'Number of Pharmacies: ')\n",
    "unique_types, vending_labels = extract_label(unique_types, vending_vocab, 'Number of Vending Establishments: ')\n",
    "\n",
    "unique_types, drinks_labels = extract_label(unique_types, drinks_vocab, 'Number of Drinks Places: ')\n",
    "unique_types, live_labels = extract_label(unique_types, live_vocab, 'Number of Live Animal Sellers and Slaughterhouses: ')\n",
    "unique_types, kitchen_labels = extract_label(unique_types, kitchen_vocab, 'Number of Shared Kitchen: ')\n",
    "\n",
    "unique_types, distributor_labels = extract_label(unique_types, distributor_vocab, 'Number of Distributors: ')\n",
    "unique_types, shelter_labels = extract_label(unique_types, shelter_vocab, 'Number of Shelters: ')\n",
    "other_labels = unique_types"
   ]
  },
  {
   "cell_type": "code",
   "execution_count": 47,
   "metadata": {},
   "outputs": [
    {
     "data": {
      "text/plain": [
       "1                    museum\n",
       "2                   gallery\n",
       "3                 newsstand\n",
       "9                     other\n",
       "17     silverware warehouse\n",
       "30                     pool\n",
       "41                 hospital\n",
       "50    chicago park district\n",
       "66                  theater\n",
       "77              event space\n",
       "dtype: object"
      ]
     },
     "execution_count": 47,
     "metadata": {},
     "output_type": "execute_result"
    }
   ],
   "source": [
    "unique_types[0:10]"
   ]
  },
  {
   "cell_type": "markdown",
   "metadata": {},
   "source": [
    "### f. Clean the AKA names column"
   ]
  },
  {
   "cell_type": "markdown",
   "metadata": {},
   "source": [
    "**Explore the difference between DBA and AKA names**"
   ]
  },
  {
   "cell_type": "markdown",
   "metadata": {},
   "source": [
    "## Zeineb: Toute cette partie ne sert à rien je trouve, psq on sait deja la difference entre DBA et AKA"
   ]
  },
  {
   "cell_type": "code",
   "execution_count": 48,
   "metadata": {},
   "outputs": [
    {
     "name": "stdout",
     "output_type": "stream",
     "text": [
      "There are 26555 unique DBA (‘Doing business as.’) names in the dataset.\n"
     ]
    }
   ],
   "source": [
    "print ('There are {0} unique DBA (‘Doing business as.’) names in the dataset.'.format(len(inspections['DBA Name'].unique())))"
   ]
  },
  {
   "cell_type": "code",
   "execution_count": 49,
   "metadata": {},
   "outputs": [
    {
     "name": "stdout",
     "output_type": "stream",
     "text": [
      "There are 25355 AKA (‘Also known as.’) names in the dataset.\n"
     ]
    }
   ],
   "source": [
    "# Display the number of restaurants (we display the unique DBA names)\n",
    "print ('There are {0} AKA (‘Also known as.’) names in the dataset.'.format(len(inspections['AKA Name'].unique())))"
   ]
  },
  {
   "cell_type": "code",
   "execution_count": 50,
   "metadata": {},
   "outputs": [
    {
     "name": "stdout",
     "output_type": "stream",
     "text": [
      "There are 48701 rows where the DBA names and the AKA names differ.\n"
     ]
    }
   ],
   "source": [
    "# Explore how DBA and AKA names differ\n",
    "print ('There are {0} rows where the DBA names and the AKA names differ.'\\\n",
    "       .format((len(inspections[inspections['DBA Name'] != inspections['AKA Name']]))))"
   ]
  },
  {
   "cell_type": "code",
   "execution_count": 51,
   "metadata": {},
   "outputs": [
    {
     "name": "stdout",
     "output_type": "stream",
     "text": [
      "Examples of different DBA and AKA names : \n"
     ]
    },
    {
     "data": {
      "text/html": [
       "<div>\n",
       "<style scoped>\n",
       "    .dataframe tbody tr th:only-of-type {\n",
       "        vertical-align: middle;\n",
       "    }\n",
       "\n",
       "    .dataframe tbody tr th {\n",
       "        vertical-align: top;\n",
       "    }\n",
       "\n",
       "    .dataframe thead th {\n",
       "        text-align: right;\n",
       "    }\n",
       "</style>\n",
       "<table border=\"1\" class=\"dataframe\">\n",
       "  <thead>\n",
       "    <tr style=\"text-align: right;\">\n",
       "      <th></th>\n",
       "      <th>Inspection ID</th>\n",
       "      <th>DBA Name</th>\n",
       "      <th>AKA Name</th>\n",
       "      <th>License #</th>\n",
       "      <th>Facility Type</th>\n",
       "      <th>Risk</th>\n",
       "      <th>Address</th>\n",
       "      <th>Inspection Date</th>\n",
       "      <th>Inspection Type</th>\n",
       "      <th>Results</th>\n",
       "      <th>Violations</th>\n",
       "      <th>Latitude</th>\n",
       "      <th>Longitude</th>\n",
       "      <th>Location</th>\n",
       "      <th>Community Area</th>\n",
       "    </tr>\n",
       "  </thead>\n",
       "  <tbody>\n",
       "    <tr>\n",
       "      <td>3</td>\n",
       "      <td>2261305.0</td>\n",
       "      <td>ROGERS PIER</td>\n",
       "      <td>ROGERS PIER SEAFOOD BAR AND GRILL</td>\n",
       "      <td>2340712.0</td>\n",
       "      <td>restaurant</td>\n",
       "      <td>Risk 1 (High)</td>\n",
       "      <td>6800-6806 N SHERIDAN RD</td>\n",
       "      <td>2019-01-29T00:00:00.000</td>\n",
       "      <td>Canvass</td>\n",
       "      <td>Out of Business</td>\n",
       "      <td>NaN</td>\n",
       "      <td>42.005587</td>\n",
       "      <td>-87.661077</td>\n",
       "      <td>42.00558686485114, -87.66107732040031</td>\n",
       "      <td>Belmont Cragin</td>\n",
       "    </tr>\n",
       "    <tr>\n",
       "      <td>4</td>\n",
       "      <td>2233129.0</td>\n",
       "      <td>ROGERS PIER</td>\n",
       "      <td>ROGERS PIER SEAFOOD BAR AND GRILL</td>\n",
       "      <td>2340712.0</td>\n",
       "      <td>restaurant</td>\n",
       "      <td>Risk 1 (High)</td>\n",
       "      <td>6800-6806 N SHERIDAN RD</td>\n",
       "      <td>2018-11-13T00:00:00.000</td>\n",
       "      <td>Canvass</td>\n",
       "      <td>Out of Business</td>\n",
       "      <td>NaN</td>\n",
       "      <td>42.005587</td>\n",
       "      <td>-87.661077</td>\n",
       "      <td>42.00558686485114, -87.66107732040031</td>\n",
       "      <td>Belmont Cragin</td>\n",
       "    </tr>\n",
       "    <tr>\n",
       "      <td>5</td>\n",
       "      <td>2145011.0</td>\n",
       "      <td>ROGERS PIER</td>\n",
       "      <td>ROGERS PIER SEAFOOD BAR AND GRILL</td>\n",
       "      <td>2340712.0</td>\n",
       "      <td>restaurant</td>\n",
       "      <td>Risk 1 (High)</td>\n",
       "      <td>6800-6806 N SHERIDAN RD</td>\n",
       "      <td>2018-02-15T00:00:00.000</td>\n",
       "      <td>Canvass Re-Inspection</td>\n",
       "      <td>Pass</td>\n",
       "      <td>34. FLOORS: CONSTRUCTED PER CODE, CLEANED, GOO...</td>\n",
       "      <td>42.005587</td>\n",
       "      <td>-87.661077</td>\n",
       "      <td>42.00558686485114, -87.66107732040031</td>\n",
       "      <td>Belmont Cragin</td>\n",
       "    </tr>\n",
       "    <tr>\n",
       "      <td>6</td>\n",
       "      <td>2144606.0</td>\n",
       "      <td>ROGERS PIER</td>\n",
       "      <td>ROGERS PIER SEAFOOD BAR AND GRILL</td>\n",
       "      <td>2340712.0</td>\n",
       "      <td>restaurant</td>\n",
       "      <td>Risk 1 (High)</td>\n",
       "      <td>6800-6806 N SHERIDAN RD</td>\n",
       "      <td>2018-02-06T00:00:00.000</td>\n",
       "      <td>Canvass</td>\n",
       "      <td>Fail</td>\n",
       "      <td>12. HAND WASHING FACILITIES: WITH SOAP AND SAN...</td>\n",
       "      <td>42.005587</td>\n",
       "      <td>-87.661077</td>\n",
       "      <td>42.00558686485114, -87.66107732040031</td>\n",
       "      <td>Belmont Cragin</td>\n",
       "    </tr>\n",
       "    <tr>\n",
       "      <td>7</td>\n",
       "      <td>1955612.0</td>\n",
       "      <td>ROGERS PIER</td>\n",
       "      <td>ROGERS PIER SEAFOOD BAR AND GRILL</td>\n",
       "      <td>2340712.0</td>\n",
       "      <td>restaurant</td>\n",
       "      <td>Risk 1 (High)</td>\n",
       "      <td>6800-6806 N SHERIDAN RD</td>\n",
       "      <td>2017-04-12T00:00:00.000</td>\n",
       "      <td>Complaint</td>\n",
       "      <td>Pass</td>\n",
       "      <td>31. CLEAN MULTI-USE UTENSILS AND SINGLE SERVIC...</td>\n",
       "      <td>42.005587</td>\n",
       "      <td>-87.661077</td>\n",
       "      <td>42.00558686485114, -87.66107732040031</td>\n",
       "      <td>Belmont Cragin</td>\n",
       "    </tr>\n",
       "    <tr>\n",
       "      <td>8</td>\n",
       "      <td>1955536.0</td>\n",
       "      <td>ROGERS PIER</td>\n",
       "      <td>ROGERS PIER SEAFOOD BAR AND GRILL</td>\n",
       "      <td>2340712.0</td>\n",
       "      <td>restaurant</td>\n",
       "      <td>Risk 1 (High)</td>\n",
       "      <td>6800-6806 N SHERIDAN RD</td>\n",
       "      <td>2017-03-02T00:00:00.000</td>\n",
       "      <td>Short Form Complaint</td>\n",
       "      <td>Pass</td>\n",
       "      <td>30. FOOD IN ORIGINAL CONTAINER, PROPERLY LABEL...</td>\n",
       "      <td>42.005587</td>\n",
       "      <td>-87.661077</td>\n",
       "      <td>42.00558686485114, -87.66107732040031</td>\n",
       "      <td>Belmont Cragin</td>\n",
       "    </tr>\n",
       "    <tr>\n",
       "      <td>9</td>\n",
       "      <td>1955443.0</td>\n",
       "      <td>ROGERS PIER</td>\n",
       "      <td>ROGERS PIER SEAFOOD BAR AND GRILL</td>\n",
       "      <td>2340712.0</td>\n",
       "      <td>restaurant</td>\n",
       "      <td>Risk 1 (High)</td>\n",
       "      <td>6800-6806 N SHERIDAN RD</td>\n",
       "      <td>2017-01-10T00:00:00.000</td>\n",
       "      <td>Canvass</td>\n",
       "      <td>Pass</td>\n",
       "      <td>30. FOOD IN ORIGINAL CONTAINER, PROPERLY LABEL...</td>\n",
       "      <td>42.005587</td>\n",
       "      <td>-87.661077</td>\n",
       "      <td>42.00558686485114, -87.66107732040031</td>\n",
       "      <td>Belmont Cragin</td>\n",
       "    </tr>\n",
       "    <tr>\n",
       "      <td>32</td>\n",
       "      <td>2311402.0</td>\n",
       "      <td>RENA'S  FUDGE SHOPS, INC./BLOCK 37 STARBUCKS</td>\n",
       "      <td>STARBUCK'S</td>\n",
       "      <td>2626476.0</td>\n",
       "      <td>restaurant</td>\n",
       "      <td>Risk 2 (Medium)</td>\n",
       "      <td>108 N STATE ST</td>\n",
       "      <td>2019-08-27T00:00:00.000</td>\n",
       "      <td>Canvass Re-Inspection</td>\n",
       "      <td>Pass</td>\n",
       "      <td>NaN</td>\n",
       "      <td>41.883423</td>\n",
       "      <td>-87.628022</td>\n",
       "      <td>41.88342263701489, -87.62802165207536</td>\n",
       "      <td>Irving Park</td>\n",
       "    </tr>\n",
       "    <tr>\n",
       "      <td>33</td>\n",
       "      <td>2304949.0</td>\n",
       "      <td>MAGNOLIA BAKERY</td>\n",
       "      <td>MAGNOLIA BAKER</td>\n",
       "      <td>2114823.0</td>\n",
       "      <td>restaurant</td>\n",
       "      <td>Risk 1 (High)</td>\n",
       "      <td>108 N STATE ST</td>\n",
       "      <td>2019-08-20T00:00:00.000</td>\n",
       "      <td>Complaint</td>\n",
       "      <td>Pass w/ Conditions</td>\n",
       "      <td>37. FOOD PROPERLY LABELED; ORIGINAL CONTAINER ...</td>\n",
       "      <td>41.883423</td>\n",
       "      <td>-87.628022</td>\n",
       "      <td>41.88342263701489, -87.62802165207536</td>\n",
       "      <td>Irving Park</td>\n",
       "    </tr>\n",
       "    <tr>\n",
       "      <td>35</td>\n",
       "      <td>2305009.0</td>\n",
       "      <td>RENA'S  FUDGE SHOPS, INC./BLOCK 37 STARBUCKS</td>\n",
       "      <td>STARBUCK'S</td>\n",
       "      <td>2626476.0</td>\n",
       "      <td>restaurant</td>\n",
       "      <td>Risk 2 (Medium)</td>\n",
       "      <td>108 N STATE ST</td>\n",
       "      <td>2019-08-20T00:00:00.000</td>\n",
       "      <td>Canvass</td>\n",
       "      <td>Fail</td>\n",
       "      <td>1. PERSON IN CHARGE PRESENT, DEMONSTRATES KNOW...</td>\n",
       "      <td>41.883423</td>\n",
       "      <td>-87.628022</td>\n",
       "      <td>41.88342263701489, -87.62802165207536</td>\n",
       "      <td>Irving Park</td>\n",
       "    </tr>\n",
       "  </tbody>\n",
       "</table>\n",
       "</div>"
      ],
      "text/plain": [
       "    Inspection ID                                      DBA Name  \\\n",
       "3       2261305.0                                   ROGERS PIER   \n",
       "4       2233129.0                                   ROGERS PIER   \n",
       "5       2145011.0                                   ROGERS PIER   \n",
       "6       2144606.0                                   ROGERS PIER   \n",
       "7       1955612.0                                   ROGERS PIER   \n",
       "8       1955536.0                                   ROGERS PIER   \n",
       "9       1955443.0                                   ROGERS PIER   \n",
       "32      2311402.0  RENA'S  FUDGE SHOPS, INC./BLOCK 37 STARBUCKS   \n",
       "33      2304949.0                               MAGNOLIA BAKERY   \n",
       "35      2305009.0  RENA'S  FUDGE SHOPS, INC./BLOCK 37 STARBUCKS   \n",
       "\n",
       "                             AKA Name  License # Facility Type  \\\n",
       "3   ROGERS PIER SEAFOOD BAR AND GRILL  2340712.0    restaurant   \n",
       "4   ROGERS PIER SEAFOOD BAR AND GRILL  2340712.0    restaurant   \n",
       "5   ROGERS PIER SEAFOOD BAR AND GRILL  2340712.0    restaurant   \n",
       "6   ROGERS PIER SEAFOOD BAR AND GRILL  2340712.0    restaurant   \n",
       "7   ROGERS PIER SEAFOOD BAR AND GRILL  2340712.0    restaurant   \n",
       "8   ROGERS PIER SEAFOOD BAR AND GRILL  2340712.0    restaurant   \n",
       "9   ROGERS PIER SEAFOOD BAR AND GRILL  2340712.0    restaurant   \n",
       "32                         STARBUCK'S  2626476.0    restaurant   \n",
       "33                     MAGNOLIA BAKER  2114823.0    restaurant   \n",
       "35                         STARBUCK'S  2626476.0    restaurant   \n",
       "\n",
       "               Risk                   Address          Inspection Date  \\\n",
       "3     Risk 1 (High)  6800-6806 N SHERIDAN RD   2019-01-29T00:00:00.000   \n",
       "4     Risk 1 (High)  6800-6806 N SHERIDAN RD   2018-11-13T00:00:00.000   \n",
       "5     Risk 1 (High)  6800-6806 N SHERIDAN RD   2018-02-15T00:00:00.000   \n",
       "6     Risk 1 (High)  6800-6806 N SHERIDAN RD   2018-02-06T00:00:00.000   \n",
       "7     Risk 1 (High)  6800-6806 N SHERIDAN RD   2017-04-12T00:00:00.000   \n",
       "8     Risk 1 (High)  6800-6806 N SHERIDAN RD   2017-03-02T00:00:00.000   \n",
       "9     Risk 1 (High)  6800-6806 N SHERIDAN RD   2017-01-10T00:00:00.000   \n",
       "32  Risk 2 (Medium)           108 N STATE ST   2019-08-27T00:00:00.000   \n",
       "33    Risk 1 (High)           108 N STATE ST   2019-08-20T00:00:00.000   \n",
       "35  Risk 2 (Medium)           108 N STATE ST   2019-08-20T00:00:00.000   \n",
       "\n",
       "          Inspection Type             Results  \\\n",
       "3                 Canvass     Out of Business   \n",
       "4                 Canvass     Out of Business   \n",
       "5   Canvass Re-Inspection                Pass   \n",
       "6                 Canvass                Fail   \n",
       "7               Complaint                Pass   \n",
       "8    Short Form Complaint                Pass   \n",
       "9                 Canvass                Pass   \n",
       "32  Canvass Re-Inspection                Pass   \n",
       "33              Complaint  Pass w/ Conditions   \n",
       "35                Canvass                Fail   \n",
       "\n",
       "                                           Violations   Latitude  Longitude  \\\n",
       "3                                                 NaN  42.005587 -87.661077   \n",
       "4                                                 NaN  42.005587 -87.661077   \n",
       "5   34. FLOORS: CONSTRUCTED PER CODE, CLEANED, GOO...  42.005587 -87.661077   \n",
       "6   12. HAND WASHING FACILITIES: WITH SOAP AND SAN...  42.005587 -87.661077   \n",
       "7   31. CLEAN MULTI-USE UTENSILS AND SINGLE SERVIC...  42.005587 -87.661077   \n",
       "8   30. FOOD IN ORIGINAL CONTAINER, PROPERLY LABEL...  42.005587 -87.661077   \n",
       "9   30. FOOD IN ORIGINAL CONTAINER, PROPERLY LABEL...  42.005587 -87.661077   \n",
       "32                                                NaN  41.883423 -87.628022   \n",
       "33  37. FOOD PROPERLY LABELED; ORIGINAL CONTAINER ...  41.883423 -87.628022   \n",
       "35  1. PERSON IN CHARGE PRESENT, DEMONSTRATES KNOW...  41.883423 -87.628022   \n",
       "\n",
       "                                 Location  Community Area  \n",
       "3   42.00558686485114, -87.66107732040031  Belmont Cragin  \n",
       "4   42.00558686485114, -87.66107732040031  Belmont Cragin  \n",
       "5   42.00558686485114, -87.66107732040031  Belmont Cragin  \n",
       "6   42.00558686485114, -87.66107732040031  Belmont Cragin  \n",
       "7   42.00558686485114, -87.66107732040031  Belmont Cragin  \n",
       "8   42.00558686485114, -87.66107732040031  Belmont Cragin  \n",
       "9   42.00558686485114, -87.66107732040031  Belmont Cragin  \n",
       "32  41.88342263701489, -87.62802165207536     Irving Park  \n",
       "33  41.88342263701489, -87.62802165207536     Irving Park  \n",
       "35  41.88342263701489, -87.62802165207536     Irving Park  "
      ]
     },
     "execution_count": 51,
     "metadata": {},
     "output_type": "execute_result"
    }
   ],
   "source": [
    "print('Examples of different DBA and AKA names : ')\n",
    "inspections[inspections['DBA Name'] != inspections['AKA Name']].head(10)"
   ]
  },
  {
   "cell_type": "markdown",
   "metadata": {},
   "source": [
    "## END"
   ]
  },
  {
   "cell_type": "markdown",
   "metadata": {},
   "source": [
    "We see that the AKA name is the name of the restaurant as known to the public. We decide to duplicate the DBA name to the missing AKA names: We will need those for our recommendation map later on, and it make more sense to display the AKA names for the users."
   ]
  },
  {
   "cell_type": "code",
   "execution_count": 52,
   "metadata": {},
   "outputs": [],
   "source": [
    "inspections['AKA Name'].fillna(inspections['DBA Name'], inplace=True)"
   ]
  },
  {
   "cell_type": "markdown",
   "metadata": {},
   "source": [
    "### g. Explore the violations column"
   ]
  },
  {
   "cell_type": "markdown",
   "metadata": {},
   "source": [
    "Let's first see if the missing violation are consistent with our entries"
   ]
  },
  {
   "cell_type": "code",
   "execution_count": 53,
   "metadata": {},
   "outputs": [
    {
     "data": {
      "text/plain": [
       "array(['No Entry', 'Out of Business', 'Pass', 'Fail', 'Not Ready',\n",
       "       'Pass w/ Conditions', 'Business Not Located'], dtype=object)"
      ]
     },
     "execution_count": 53,
     "metadata": {},
     "output_type": "execute_result"
    }
   ],
   "source": [
    "inspections[inspections['Violations'].isnull()]['Results'].unique()"
   ]
  },
  {
   "cell_type": "markdown",
   "metadata": {},
   "source": [
    "We expected the entries which have null Violations to have 'No Entry', 'Out of Business', 'Pass' or 'Business Not Located' as a value for Results. We see that we alse have null Violations for 'Fail' and 'Pass w/ Conditions' inspections. We still keep those entries because they can be useful for other metrics."
   ]
  },
  {
   "cell_type": "code",
   "execution_count": 54,
   "metadata": {},
   "outputs": [],
   "source": [
    "#TODO: Explode the violations column and create a pickle of all possible violations with their respective numbers"
   ]
  },
  {
   "cell_type": "markdown",
   "metadata": {},
   "source": [
    "### h. Drop missing entries in Inspection Type"
   ]
  },
  {
   "cell_type": "markdown",
   "metadata": {},
   "source": [
    "Let's see what's left to be done in our data cleaning process"
   ]
  },
  {
   "cell_type": "code",
   "execution_count": 55,
   "metadata": {},
   "outputs": [
    {
     "data": {
      "text/plain": [
       "Inspection ID                       0.0% missing values\n",
       "DBA Name                            0.0% missing values\n",
       "AKA Name                            0.0% missing values\n",
       "License #          0.009063669613247886% missing values\n",
       "Facility Type                       0.0% missing values\n",
       "Risk                0.03412205030869792% missing values\n",
       "Address                             0.0% missing values\n",
       "Inspection Date                     0.0% missing values\n",
       "Inspection Type    0.000533157036073405% missing values\n",
       "Results                             0.0% missing values\n",
       "Violations           26.550154082383425% missing values\n",
       "Latitude                            0.0% missing values\n",
       "Longitude                           0.0% missing values\n",
       "Location                            0.0% missing values\n",
       "Community Area                      0.0% missing values\n",
       "dtype: object"
      ]
     },
     "execution_count": 55,
     "metadata": {},
     "output_type": "execute_result"
    }
   ],
   "source": [
    "inspections.isna().sum().apply(lambda x: '{}% missing values'.format(100 * x/len(inspections)))"
   ]
  },
  {
   "cell_type": "markdown",
   "metadata": {},
   "source": [
    "As we can see the number of entries which have missing Inspection Type is really small, we can safely drop those."
   ]
  },
  {
   "cell_type": "code",
   "execution_count": 56,
   "metadata": {},
   "outputs": [],
   "source": [
    "inspections.dropna(axis=0, subset=['Inspection Type'], inplace=True)"
   ]
  },
  {
   "cell_type": "markdown",
   "metadata": {},
   "source": [
    "### i. Clean Risk column"
   ]
  },
  {
   "cell_type": "markdown",
   "metadata": {},
   "source": [
    "First of all, let's extract the Risk factor from the string, that way we will be able to perform arithmetic comparisons useful in our future analysis.\n",
    "\n",
    "Example: Risk 3 (Low) -> becomes: 3"
   ]
  },
  {
   "cell_type": "code",
   "execution_count": 57,
   "metadata": {},
   "outputs": [],
   "source": [
    "inspections['Risk'] = inspections.apply(\n",
    "    lambda row: re.findall('\\d+', row['Risk']) if pd.notna(row['Risk']) else [],\n",
    "    axis=1\n",
    ") \n",
    "inspections['Risk'] = inspections.apply(\n",
    "    lambda row: row['Risk'][0] if len(row['Risk'])>0 else np.NaN,\n",
    "    axis=1\n",
    ") "
   ]
  },
  {
   "cell_type": "code",
   "execution_count": 58,
   "metadata": {},
   "outputs": [
    {
     "data": {
      "text/plain": [
       "array(['1', '2', '3', nan], dtype=object)"
      ]
     },
     "execution_count": 58,
     "metadata": {},
     "output_type": "execute_result"
    }
   ],
   "source": [
    "inspections['Risk'].unique()"
   ]
  },
  {
   "cell_type": "markdown",
   "metadata": {},
   "source": [
    "Now we try to recover the missing values from other data entries"
   ]
  },
  {
   "cell_type": "code",
   "execution_count": 59,
   "metadata": {},
   "outputs": [
    {
     "name": "stdout",
     "output_type": "stream",
     "text": [
      "Number of null Risk values before recovering:  92\n"
     ]
    },
    {
     "data": {
      "text/html": [
       "<div>\n",
       "<style scoped>\n",
       "    .dataframe tbody tr th:only-of-type {\n",
       "        vertical-align: middle;\n",
       "    }\n",
       "\n",
       "    .dataframe tbody tr th {\n",
       "        vertical-align: top;\n",
       "    }\n",
       "\n",
       "    .dataframe thead th {\n",
       "        text-align: right;\n",
       "    }\n",
       "</style>\n",
       "<table border=\"1\" class=\"dataframe\">\n",
       "  <thead>\n",
       "    <tr style=\"text-align: right;\">\n",
       "      <th></th>\n",
       "      <th>Inspection ID</th>\n",
       "      <th>DBA Name</th>\n",
       "      <th>AKA Name</th>\n",
       "      <th>License #</th>\n",
       "      <th>Facility Type</th>\n",
       "      <th>Risk</th>\n",
       "      <th>Address</th>\n",
       "      <th>Inspection Date</th>\n",
       "      <th>Inspection Type</th>\n",
       "      <th>Results</th>\n",
       "      <th>Violations</th>\n",
       "      <th>Latitude</th>\n",
       "      <th>Longitude</th>\n",
       "      <th>Location</th>\n",
       "      <th>Community Area</th>\n",
       "    </tr>\n",
       "  </thead>\n",
       "  <tbody>\n",
       "    <tr>\n",
       "      <td>4020</td>\n",
       "      <td>2315960.0</td>\n",
       "      <td>MINGHIN JAPENESE</td>\n",
       "      <td>MINGHIN JAPENESE</td>\n",
       "      <td>2670193.0</td>\n",
       "      <td>other</td>\n",
       "      <td>NaN</td>\n",
       "      <td>1232-1234 S MICHIGAN AVE</td>\n",
       "      <td>2019-10-15T00:00:00.000</td>\n",
       "      <td>License</td>\n",
       "      <td>Not Ready</td>\n",
       "      <td>NaN</td>\n",
       "      <td>41.866541</td>\n",
       "      <td>-87.624281</td>\n",
       "      <td>41.86654115432376, -87.62428056789263</td>\n",
       "      <td>Hermosa</td>\n",
       "    </tr>\n",
       "    <tr>\n",
       "      <td>5787</td>\n",
       "      <td>469312.0</td>\n",
       "      <td>ARACELI</td>\n",
       "      <td>TACOS ARACELI</td>\n",
       "      <td>2068908.0</td>\n",
       "      <td>other</td>\n",
       "      <td>NaN</td>\n",
       "      <td>2158 W 23RD ST</td>\n",
       "      <td>2010-12-01T00:00:00.000</td>\n",
       "      <td>License</td>\n",
       "      <td>Fail</td>\n",
       "      <td>NaN</td>\n",
       "      <td>41.850399</td>\n",
       "      <td>-87.680572</td>\n",
       "      <td>41.850399240651626, -87.68057158857073</td>\n",
       "      <td>Logan Square</td>\n",
       "    </tr>\n",
       "  </tbody>\n",
       "</table>\n",
       "</div>"
      ],
      "text/plain": [
       "      Inspection ID          DBA Name          AKA Name  License #  \\\n",
       "4020      2315960.0  MINGHIN JAPENESE  MINGHIN JAPENESE  2670193.0   \n",
       "5787       469312.0           ARACELI     TACOS ARACELI  2068908.0   \n",
       "\n",
       "     Facility Type Risk                    Address          Inspection Date  \\\n",
       "4020         other  NaN  1232-1234 S MICHIGAN AVE   2019-10-15T00:00:00.000   \n",
       "5787         other  NaN            2158 W 23RD ST   2010-12-01T00:00:00.000   \n",
       "\n",
       "     Inspection Type    Results Violations   Latitude  Longitude  \\\n",
       "4020         License  Not Ready        NaN  41.866541 -87.624281   \n",
       "5787         License       Fail        NaN  41.850399 -87.680572   \n",
       "\n",
       "                                    Location Community Area  \n",
       "4020   41.86654115432376, -87.62428056789263        Hermosa  \n",
       "5787  41.850399240651626, -87.68057158857073   Logan Square  "
      ]
     },
     "execution_count": 59,
     "metadata": {},
     "output_type": "execute_result"
    }
   ],
   "source": [
    "print(\"Number of null Risk values before recovering: \",len(inspections[inspections['Risk'].isnull()]))\n",
    "inspections[inspections['Risk'].isnull()].head(2)"
   ]
  },
  {
   "cell_type": "code",
   "execution_count": 60,
   "metadata": {},
   "outputs": [
    {
     "name": "stderr",
     "output_type": "stream",
     "text": [
      "/Users/macbook/anaconda3/lib/python3.7/site-packages/ipykernel_launcher.py:5: FutureWarning: using a dict on a Series for aggregation\n",
      "is deprecated and will be removed in a future version. Use                 named aggregation instead.\n",
      "\n",
      "    >>> grouper.agg(name_1=func_1, name_2=func_2)\n",
      "\n",
      "  \"\"\"\n"
     ]
    },
    {
     "name": "stdout",
     "output_type": "stream",
     "text": [
      "Possible number of values for risk for some establishment :  [1 2 3 4]\n"
     ]
    },
    {
     "data": {
      "text/html": [
       "<div>\n",
       "<style scoped>\n",
       "    .dataframe tbody tr th:only-of-type {\n",
       "        vertical-align: middle;\n",
       "    }\n",
       "\n",
       "    .dataframe tbody tr th {\n",
       "        vertical-align: top;\n",
       "    }\n",
       "\n",
       "    .dataframe thead th {\n",
       "        text-align: right;\n",
       "    }\n",
       "</style>\n",
       "<table border=\"1\" class=\"dataframe\">\n",
       "  <thead>\n",
       "    <tr style=\"text-align: right;\">\n",
       "      <th></th>\n",
       "      <th>nbr_values</th>\n",
       "      <th>possible_values</th>\n",
       "    </tr>\n",
       "    <tr>\n",
       "      <th>DBA Name</th>\n",
       "      <th></th>\n",
       "      <th></th>\n",
       "    </tr>\n",
       "  </thead>\n",
       "  <tbody>\n",
       "    <tr>\n",
       "      <td>11 DINING</td>\n",
       "      <td>2</td>\n",
       "      <td>{2, 1}</td>\n",
       "    </tr>\n",
       "    <tr>\n",
       "      <td>11 DINING, LLC</td>\n",
       "      <td>3</td>\n",
       "      <td>{2, 3, 1}</td>\n",
       "    </tr>\n",
       "    <tr>\n",
       "      <td>111 COFFEE BAR</td>\n",
       "      <td>2</td>\n",
       "      <td>{nan, 2}</td>\n",
       "    </tr>\n",
       "    <tr>\n",
       "      <td>123 FOOD</td>\n",
       "      <td>2</td>\n",
       "      <td>{2, 3}</td>\n",
       "    </tr>\n",
       "    <tr>\n",
       "      <td>14 W. HUBBARD, LLC</td>\n",
       "      <td>2</td>\n",
       "      <td>{3, 1}</td>\n",
       "    </tr>\n",
       "  </tbody>\n",
       "</table>\n",
       "</div>"
      ],
      "text/plain": [
       "                    nbr_values possible_values\n",
       "DBA Name                                      \n",
       "11 DINING                    2          {2, 1}\n",
       "11 DINING, LLC               3       {2, 3, 1}\n",
       "111 COFFEE BAR               2        {nan, 2}\n",
       "123 FOOD                     2          {2, 3}\n",
       "14 W. HUBBARD, LLC           2          {3, 1}"
      ]
     },
     "execution_count": 60,
     "metadata": {},
     "output_type": "execute_result"
    }
   ],
   "source": [
    "#we have to declare this function to be able to use it into aggregate\n",
    "def to_set(a):\n",
    "    #return {x for x in a if pd.notna(x)}\n",
    "    return set(a)\n",
    "establisment_risks = inspections[['DBA Name','Risk']].drop_duplicates().groupby('DBA Name')['Risk'].agg({'nbr_values': len, 'possible_values': to_set})\n",
    "print(\"Possible number of values for risk for some establishment : \", establisment_risks['nbr_values'].unique())\n",
    "establisment_risks[establisment_risks['nbr_values']>1].head()"
   ]
  },
  {
   "cell_type": "markdown",
   "metadata": {},
   "source": [
    "We see that the same establishment may have different Risk values (maybe the latter varies in time depending on the result of inspections). We choose to fill in the missing values in the Risk column by taking the maximum value of risk for that establishment."
   ]
  },
  {
   "cell_type": "code",
   "execution_count": 61,
   "metadata": {},
   "outputs": [],
   "source": [
    "#First remove NAN from sets\n",
    "establisment_risks['possible_values'] = establisment_risks.apply(\n",
    "    lambda row: {int(x) for x in row['possible_values'] if pd.notna(x)},\n",
    "    axis=1\n",
    ") \n",
    "#Then keep only one type per establishment\n",
    "establisment_risks['possible_values'] = establisment_risks.apply(\n",
    "    lambda row: max(row['possible_values']) if len(row['possible_values'])!=0 else np.NaN,\n",
    "    axis=1\n",
    ") \n",
    "establisment_risks_dict=establisment_risks['possible_values'].to_dict()\n",
    "#Assign a type to each missing value\n",
    "inspections['Risk'] = inspections.apply(\n",
    "    lambda row: establisment_risks_dict[row['DBA Name']] if pd.isna(row['Risk']) else row['Risk'],\n",
    "    axis=1\n",
    ")"
   ]
  },
  {
   "cell_type": "code",
   "execution_count": 62,
   "metadata": {},
   "outputs": [
    {
     "name": "stdout",
     "output_type": "stream",
     "text": [
      "Number of null Risk values after recovering:  63\n"
     ]
    },
    {
     "data": {
      "text/html": [
       "<div>\n",
       "<style scoped>\n",
       "    .dataframe tbody tr th:only-of-type {\n",
       "        vertical-align: middle;\n",
       "    }\n",
       "\n",
       "    .dataframe tbody tr th {\n",
       "        vertical-align: top;\n",
       "    }\n",
       "\n",
       "    .dataframe thead th {\n",
       "        text-align: right;\n",
       "    }\n",
       "</style>\n",
       "<table border=\"1\" class=\"dataframe\">\n",
       "  <thead>\n",
       "    <tr style=\"text-align: right;\">\n",
       "      <th></th>\n",
       "      <th>Inspection ID</th>\n",
       "      <th>DBA Name</th>\n",
       "      <th>AKA Name</th>\n",
       "      <th>License #</th>\n",
       "      <th>Facility Type</th>\n",
       "      <th>Risk</th>\n",
       "      <th>Address</th>\n",
       "      <th>Inspection Date</th>\n",
       "      <th>Inspection Type</th>\n",
       "      <th>Results</th>\n",
       "      <th>Violations</th>\n",
       "      <th>Latitude</th>\n",
       "      <th>Longitude</th>\n",
       "      <th>Location</th>\n",
       "      <th>Community Area</th>\n",
       "    </tr>\n",
       "  </thead>\n",
       "  <tbody>\n",
       "    <tr>\n",
       "      <td>4020</td>\n",
       "      <td>2315960.0</td>\n",
       "      <td>MINGHIN JAPENESE</td>\n",
       "      <td>MINGHIN JAPENESE</td>\n",
       "      <td>2670193.0</td>\n",
       "      <td>other</td>\n",
       "      <td>NaN</td>\n",
       "      <td>1232-1234 S MICHIGAN AVE</td>\n",
       "      <td>2019-10-15T00:00:00.000</td>\n",
       "      <td>License</td>\n",
       "      <td>Not Ready</td>\n",
       "      <td>NaN</td>\n",
       "      <td>41.866541</td>\n",
       "      <td>-87.624281</td>\n",
       "      <td>41.86654115432376, -87.62428056789263</td>\n",
       "      <td>Hermosa</td>\n",
       "    </tr>\n",
       "    <tr>\n",
       "      <td>5787</td>\n",
       "      <td>469312.0</td>\n",
       "      <td>ARACELI</td>\n",
       "      <td>TACOS ARACELI</td>\n",
       "      <td>2068908.0</td>\n",
       "      <td>other</td>\n",
       "      <td>NaN</td>\n",
       "      <td>2158 W 23RD ST</td>\n",
       "      <td>2010-12-01T00:00:00.000</td>\n",
       "      <td>License</td>\n",
       "      <td>Fail</td>\n",
       "      <td>NaN</td>\n",
       "      <td>41.850399</td>\n",
       "      <td>-87.680572</td>\n",
       "      <td>41.850399240651626, -87.68057158857073</td>\n",
       "      <td>Logan Square</td>\n",
       "    </tr>\n",
       "  </tbody>\n",
       "</table>\n",
       "</div>"
      ],
      "text/plain": [
       "      Inspection ID          DBA Name          AKA Name  License #  \\\n",
       "4020      2315960.0  MINGHIN JAPENESE  MINGHIN JAPENESE  2670193.0   \n",
       "5787       469312.0           ARACELI     TACOS ARACELI  2068908.0   \n",
       "\n",
       "     Facility Type Risk                    Address          Inspection Date  \\\n",
       "4020         other  NaN  1232-1234 S MICHIGAN AVE   2019-10-15T00:00:00.000   \n",
       "5787         other  NaN            2158 W 23RD ST   2010-12-01T00:00:00.000   \n",
       "\n",
       "     Inspection Type    Results Violations   Latitude  Longitude  \\\n",
       "4020         License  Not Ready        NaN  41.866541 -87.624281   \n",
       "5787         License       Fail        NaN  41.850399 -87.680572   \n",
       "\n",
       "                                    Location Community Area  \n",
       "4020   41.86654115432376, -87.62428056789263        Hermosa  \n",
       "5787  41.850399240651626, -87.68057158857073   Logan Square  "
      ]
     },
     "execution_count": 62,
     "metadata": {},
     "output_type": "execute_result"
    }
   ],
   "source": [
    "print(\"Number of null Risk values after recovering: \",len(inspections[inspections['Risk'].isnull()]))\n",
    "inspections[inspections['Risk'].isnull()].head(2)"
   ]
  },
  {
   "cell_type": "markdown",
   "metadata": {},
   "source": [
    "We see that we were able to recover 42% of the missing values; for the others let's use the default value 'Risk 2 (Medium)' as it's the medium value."
   ]
  },
  {
   "cell_type": "code",
   "execution_count": 63,
   "metadata": {},
   "outputs": [
    {
     "name": "stdout",
     "output_type": "stream",
     "text": [
      "Number of null Risk values after filling:  0\n"
     ]
    }
   ],
   "source": [
    "inspections['Risk'].fillna('2', inplace = True)\n",
    "print(\"Number of null Risk values after filling: \",len(inspections[inspections['Risk'].isnull()]))"
   ]
  },
  {
   "cell_type": "markdown",
   "metadata": {},
   "source": [
    "### j. Clean column License #:"
   ]
  },
  {
   "cell_type": "markdown",
   "metadata": {},
   "source": [
    "What do the entries with no \"license #\" look like ?"
   ]
  },
  {
   "cell_type": "code",
   "execution_count": 64,
   "metadata": {},
   "outputs": [
    {
     "data": {
      "text/html": [
       "<div>\n",
       "<style scoped>\n",
       "    .dataframe tbody tr th:only-of-type {\n",
       "        vertical-align: middle;\n",
       "    }\n",
       "\n",
       "    .dataframe tbody tr th {\n",
       "        vertical-align: top;\n",
       "    }\n",
       "\n",
       "    .dataframe thead th {\n",
       "        text-align: right;\n",
       "    }\n",
       "</style>\n",
       "<table border=\"1\" class=\"dataframe\">\n",
       "  <thead>\n",
       "    <tr style=\"text-align: right;\">\n",
       "      <th></th>\n",
       "      <th>Inspection ID</th>\n",
       "      <th>DBA Name</th>\n",
       "      <th>AKA Name</th>\n",
       "      <th>License #</th>\n",
       "      <th>Facility Type</th>\n",
       "      <th>Risk</th>\n",
       "      <th>Address</th>\n",
       "      <th>Inspection Date</th>\n",
       "      <th>Inspection Type</th>\n",
       "      <th>Results</th>\n",
       "      <th>Violations</th>\n",
       "      <th>Latitude</th>\n",
       "      <th>Longitude</th>\n",
       "      <th>Location</th>\n",
       "      <th>Community Area</th>\n",
       "    </tr>\n",
       "  </thead>\n",
       "  <tbody>\n",
       "    <tr>\n",
       "      <td>65421</td>\n",
       "      <td>2290863.0</td>\n",
       "      <td>ST. DEMETRIOS GREEK ORTHODOX CHURCH</td>\n",
       "      <td>ST. DEMETRIOS CHURCH</td>\n",
       "      <td>NaN</td>\n",
       "      <td>special event</td>\n",
       "      <td>2</td>\n",
       "      <td>2727 W WINONA ST</td>\n",
       "      <td>2019-06-04T00:00:00.000</td>\n",
       "      <td>Canvass</td>\n",
       "      <td>Pass w/ Conditions</td>\n",
       "      <td>3. MANAGEMENT, FOOD EMPLOYEE AND CONDITIONAL E...</td>\n",
       "      <td>41.974653</td>\n",
       "      <td>-87.697529</td>\n",
       "      <td>41.974653353169366, -87.69752945714045</td>\n",
       "      <td>Near North Side</td>\n",
       "    </tr>\n",
       "    <tr>\n",
       "      <td>65422</td>\n",
       "      <td>2181316.0</td>\n",
       "      <td>ST. DEMETRIOS GREEK ORTHODOX CHURCH</td>\n",
       "      <td>ST. DEMETRIOS CHURCH</td>\n",
       "      <td>NaN</td>\n",
       "      <td>special event</td>\n",
       "      <td>2</td>\n",
       "      <td>2727 W WINONA ST</td>\n",
       "      <td>2018-06-13T00:00:00.000</td>\n",
       "      <td>Canvass</td>\n",
       "      <td>Pass</td>\n",
       "      <td>32. FOOD AND NON-FOOD CONTACT SURFACES PROPERL...</td>\n",
       "      <td>41.974653</td>\n",
       "      <td>-87.697529</td>\n",
       "      <td>41.974653353169366, -87.69752945714045</td>\n",
       "      <td>Near North Side</td>\n",
       "    </tr>\n",
       "    <tr>\n",
       "      <td>65423</td>\n",
       "      <td>2071910.0</td>\n",
       "      <td>ST. DEMETRIOS GREEK ORTHODOX CHURCH</td>\n",
       "      <td>ST. DEMETRIOS CHURCH</td>\n",
       "      <td>NaN</td>\n",
       "      <td>special event</td>\n",
       "      <td>2</td>\n",
       "      <td>2727 W WINONA ST</td>\n",
       "      <td>2017-08-04T00:00:00.000</td>\n",
       "      <td>Canvass</td>\n",
       "      <td>Pass</td>\n",
       "      <td>32. FOOD AND NON-FOOD CONTACT SURFACES PROPERL...</td>\n",
       "      <td>41.974653</td>\n",
       "      <td>-87.697529</td>\n",
       "      <td>41.974653353169366, -87.69752945714045</td>\n",
       "      <td>Near North Side</td>\n",
       "    </tr>\n",
       "    <tr>\n",
       "      <td>65424</td>\n",
       "      <td>1933084.0</td>\n",
       "      <td>ST. DEMETRIOS GREEK ORTHODOX CHURCH</td>\n",
       "      <td>ST. DEMETRIOS CHURCH</td>\n",
       "      <td>NaN</td>\n",
       "      <td>special event</td>\n",
       "      <td>2</td>\n",
       "      <td>2727 W WINONA ST</td>\n",
       "      <td>2016-06-20T00:00:00.000</td>\n",
       "      <td>Canvass</td>\n",
       "      <td>Pass</td>\n",
       "      <td>38. VENTILATION: ROOMS AND EQUIPMENT VENTED AS...</td>\n",
       "      <td>41.974653</td>\n",
       "      <td>-87.697529</td>\n",
       "      <td>41.974653353169366, -87.69752945714045</td>\n",
       "      <td>Near North Side</td>\n",
       "    </tr>\n",
       "    <tr>\n",
       "      <td>65425</td>\n",
       "      <td>1561809.0</td>\n",
       "      <td>ST. DEMETRIOS GREEK ORTHODOX CHURCH</td>\n",
       "      <td>ST. DEMETRIOS CHURCH</td>\n",
       "      <td>NaN</td>\n",
       "      <td>special event</td>\n",
       "      <td>2</td>\n",
       "      <td>2727 W WINONA ST</td>\n",
       "      <td>2015-08-04T00:00:00.000</td>\n",
       "      <td>Canvass</td>\n",
       "      <td>Pass</td>\n",
       "      <td>NaN</td>\n",
       "      <td>41.974653</td>\n",
       "      <td>-87.697529</td>\n",
       "      <td>41.974653353169366, -87.69752945714045</td>\n",
       "      <td>Near North Side</td>\n",
       "    </tr>\n",
       "    <tr>\n",
       "      <td>65426</td>\n",
       "      <td>1459918.0</td>\n",
       "      <td>ST. DEMETRIOS GREEK ORTHODOX CHURCH</td>\n",
       "      <td>ST. DEMETRIOS CHURCH</td>\n",
       "      <td>NaN</td>\n",
       "      <td>special event</td>\n",
       "      <td>2</td>\n",
       "      <td>2727 W WINONA ST</td>\n",
       "      <td>2014-05-20T00:00:00.000</td>\n",
       "      <td>Canvass</td>\n",
       "      <td>Pass</td>\n",
       "      <td>33. FOOD AND NON-FOOD CONTACT EQUIPMENT UTENSI...</td>\n",
       "      <td>41.974653</td>\n",
       "      <td>-87.697529</td>\n",
       "      <td>41.974653353169366, -87.69752945714045</td>\n",
       "      <td>Near North Side</td>\n",
       "    </tr>\n",
       "    <tr>\n",
       "      <td>65427</td>\n",
       "      <td>1099104.0</td>\n",
       "      <td>ST. DEMETRIOS GREEK ORTHODOX CHURCH</td>\n",
       "      <td>ST. DEMETRIOS CHURCH</td>\n",
       "      <td>NaN</td>\n",
       "      <td>special event</td>\n",
       "      <td>2</td>\n",
       "      <td>2727 W WINONA ST</td>\n",
       "      <td>2013-07-24T00:00:00.000</td>\n",
       "      <td>Canvass</td>\n",
       "      <td>Pass</td>\n",
       "      <td>32. FOOD AND NON-FOOD CONTACT SURFACES PROPERL...</td>\n",
       "      <td>41.974653</td>\n",
       "      <td>-87.697529</td>\n",
       "      <td>41.974653353169366, -87.69752945714045</td>\n",
       "      <td>Near North Side</td>\n",
       "    </tr>\n",
       "    <tr>\n",
       "      <td>65428</td>\n",
       "      <td>1188285.0</td>\n",
       "      <td>ST. DEMETRIOS GREEK ORTHODOX CHURCH</td>\n",
       "      <td>ST. DEMETRIOS CHURCH</td>\n",
       "      <td>NaN</td>\n",
       "      <td>special event</td>\n",
       "      <td>2</td>\n",
       "      <td>2727 W WINONA ST</td>\n",
       "      <td>2012-07-25T00:00:00.000</td>\n",
       "      <td>Canvass</td>\n",
       "      <td>Pass</td>\n",
       "      <td>33. FOOD AND NON-FOOD CONTACT EQUIPMENT UTENSI...</td>\n",
       "      <td>41.974653</td>\n",
       "      <td>-87.697529</td>\n",
       "      <td>41.974653353169366, -87.69752945714045</td>\n",
       "      <td>Near North Side</td>\n",
       "    </tr>\n",
       "    <tr>\n",
       "      <td>65429</td>\n",
       "      <td>521659.0</td>\n",
       "      <td>ST. DEMETRIOS GREEK ORTHODOX CHURCH</td>\n",
       "      <td>ST. DEMETRIOS CHURCH</td>\n",
       "      <td>NaN</td>\n",
       "      <td>special event</td>\n",
       "      <td>2</td>\n",
       "      <td>2727 W WINONA ST</td>\n",
       "      <td>2011-08-10T00:00:00.000</td>\n",
       "      <td>Canvass</td>\n",
       "      <td>Pass</td>\n",
       "      <td>NaN</td>\n",
       "      <td>41.974653</td>\n",
       "      <td>-87.697529</td>\n",
       "      <td>41.974653353169366, -87.69752945714045</td>\n",
       "      <td>Near North Side</td>\n",
       "    </tr>\n",
       "    <tr>\n",
       "      <td>65430</td>\n",
       "      <td>339207.0</td>\n",
       "      <td>ST DEMETRIOS CHURCH</td>\n",
       "      <td>ST DEMETRIOS CHURCH</td>\n",
       "      <td>NaN</td>\n",
       "      <td>special event</td>\n",
       "      <td>1</td>\n",
       "      <td>2727 W WINONA ST</td>\n",
       "      <td>2010-07-30T00:00:00.000</td>\n",
       "      <td>Special Events (Festivals)</td>\n",
       "      <td>Pass</td>\n",
       "      <td>32. FOOD AND NON-FOOD CONTACT SURFACES PROPERL...</td>\n",
       "      <td>41.974653</td>\n",
       "      <td>-87.697529</td>\n",
       "      <td>41.974653353169366, -87.69752945714045</td>\n",
       "      <td>Near North Side</td>\n",
       "    </tr>\n",
       "    <tr>\n",
       "      <td>74988</td>\n",
       "      <td>1184330.0</td>\n",
       "      <td>OLD ST. PATRICK'S CHURCH</td>\n",
       "      <td>OLD ST. PATRICK'S CHURCH</td>\n",
       "      <td>NaN</td>\n",
       "      <td>church</td>\n",
       "      <td>2</td>\n",
       "      <td>700 W ADAMS ST</td>\n",
       "      <td>2012-05-22T00:00:00.000</td>\n",
       "      <td>Special Events (Festivals)</td>\n",
       "      <td>Pass</td>\n",
       "      <td>34. FLOORS: CONSTRUCTED PER CODE, CLEANED, GOO...</td>\n",
       "      <td>41.879367</td>\n",
       "      <td>-87.644105</td>\n",
       "      <td>41.87936739625875, -87.64410546134096</td>\n",
       "      <td>Near South Side</td>\n",
       "    </tr>\n",
       "    <tr>\n",
       "      <td>74990</td>\n",
       "      <td>229453.0</td>\n",
       "      <td>OLD ST. PATRICK'S CHURCH</td>\n",
       "      <td>OLD ST. PATRICK'S CHURCH</td>\n",
       "      <td>NaN</td>\n",
       "      <td>church</td>\n",
       "      <td>2</td>\n",
       "      <td>700 W ADAMS ST</td>\n",
       "      <td>2010-06-08T00:00:00.000</td>\n",
       "      <td>Special Events (Festivals)</td>\n",
       "      <td>Pass</td>\n",
       "      <td>33. FOOD AND NON-FOOD CONTACT EQUIPMENT UTENSI...</td>\n",
       "      <td>41.879367</td>\n",
       "      <td>-87.644105</td>\n",
       "      <td>41.87936739625875, -87.64410546134096</td>\n",
       "      <td>Near South Side</td>\n",
       "    </tr>\n",
       "    <tr>\n",
       "      <td>159539</td>\n",
       "      <td>1152076.0</td>\n",
       "      <td>ARGENTINA FOODS</td>\n",
       "      <td>ARGENTINA FOODS</td>\n",
       "      <td>NaN</td>\n",
       "      <td>grocery store</td>\n",
       "      <td>2</td>\n",
       "      <td>4500 S WOOD ST</td>\n",
       "      <td>2014-04-10T00:00:00.000</td>\n",
       "      <td>Canvass</td>\n",
       "      <td>Out of Business</td>\n",
       "      <td>NaN</td>\n",
       "      <td>41.812105</td>\n",
       "      <td>-87.670072</td>\n",
       "      <td>41.812105152977246, -87.67007183351623</td>\n",
       "      <td>Loop</td>\n",
       "    </tr>\n",
       "    <tr>\n",
       "      <td>192505</td>\n",
       "      <td>1214242.0</td>\n",
       "      <td>GOD'S BATTLE AXE PRAYER ACADEMY</td>\n",
       "      <td>GOD'S BATTLE AXE PRAYER ACADEMY</td>\n",
       "      <td>NaN</td>\n",
       "      <td>church/day care</td>\n",
       "      <td>1</td>\n",
       "      <td>6969 N WESTERN AVE</td>\n",
       "      <td>2012-03-19T00:00:00.000</td>\n",
       "      <td>Canvass Re-Inspection</td>\n",
       "      <td>Pass</td>\n",
       "      <td>NaN</td>\n",
       "      <td>42.008303</td>\n",
       "      <td>-87.690005</td>\n",
       "      <td>42.00830313068745, -87.69000508529592</td>\n",
       "      <td>Edgewater</td>\n",
       "    </tr>\n",
       "    <tr>\n",
       "      <td>192506</td>\n",
       "      <td>679787.0</td>\n",
       "      <td>GOD'S BATTLE AXE PRAYER ACADEMY</td>\n",
       "      <td>GOD'S BATTLE AXE PRAYER ACADEMY</td>\n",
       "      <td>NaN</td>\n",
       "      <td>church/day care</td>\n",
       "      <td>1</td>\n",
       "      <td>6969 N WESTERN AVE</td>\n",
       "      <td>2012-03-14T00:00:00.000</td>\n",
       "      <td>Canvass Re-Inspection</td>\n",
       "      <td>Fail</td>\n",
       "      <td>9. WATER SOURCE: SAFE, HOT &amp; COLD UNDER CITY P...</td>\n",
       "      <td>42.008303</td>\n",
       "      <td>-87.690005</td>\n",
       "      <td>42.00830313068745, -87.69000508529592</td>\n",
       "      <td>Edgewater</td>\n",
       "    </tr>\n",
       "    <tr>\n",
       "      <td>192507</td>\n",
       "      <td>670328.0</td>\n",
       "      <td>GOD'S BATTLE AXE PRAYER ACADEMY</td>\n",
       "      <td>GOD'S BATTLE AXE PRAYER ACADEMY</td>\n",
       "      <td>NaN</td>\n",
       "      <td>church/day care</td>\n",
       "      <td>1</td>\n",
       "      <td>6969 N WESTERN AVE</td>\n",
       "      <td>2012-02-09T00:00:00.000</td>\n",
       "      <td>Canvass</td>\n",
       "      <td>Fail</td>\n",
       "      <td>11. ADEQUATE NUMBER, CONVENIENT, ACCESSIBLE, D...</td>\n",
       "      <td>42.008303</td>\n",
       "      <td>-87.690005</td>\n",
       "      <td>42.00830313068745, -87.69000508529592</td>\n",
       "      <td>Edgewater</td>\n",
       "    </tr>\n",
       "    <tr>\n",
       "      <td>193701</td>\n",
       "      <td>417318.0</td>\n",
       "      <td>AVALON COMMUNITY CHURCH/FREEDOM HOME ACADEMY</td>\n",
       "      <td>AVALON COMMUNITY CHURCH/FREEDOM HOME ACADEMY</td>\n",
       "      <td>NaN</td>\n",
       "      <td>church/after school program</td>\n",
       "      <td>1</td>\n",
       "      <td>8100 S DANTE AVE</td>\n",
       "      <td>2011-01-10T00:00:00.000</td>\n",
       "      <td>Short Form Complaint</td>\n",
       "      <td>Fail</td>\n",
       "      <td>NaN</td>\n",
       "      <td>41.747711</td>\n",
       "      <td>-87.589539</td>\n",
       "      <td>41.7477112449663, -87.5895386579929</td>\n",
       "      <td>West Town</td>\n",
       "    </tr>\n",
       "  </tbody>\n",
       "</table>\n",
       "</div>"
      ],
      "text/plain": [
       "        Inspection ID                                      DBA Name  \\\n",
       "65421       2290863.0           ST. DEMETRIOS GREEK ORTHODOX CHURCH   \n",
       "65422       2181316.0           ST. DEMETRIOS GREEK ORTHODOX CHURCH   \n",
       "65423       2071910.0           ST. DEMETRIOS GREEK ORTHODOX CHURCH   \n",
       "65424       1933084.0           ST. DEMETRIOS GREEK ORTHODOX CHURCH   \n",
       "65425       1561809.0           ST. DEMETRIOS GREEK ORTHODOX CHURCH   \n",
       "65426       1459918.0           ST. DEMETRIOS GREEK ORTHODOX CHURCH   \n",
       "65427       1099104.0           ST. DEMETRIOS GREEK ORTHODOX CHURCH   \n",
       "65428       1188285.0           ST. DEMETRIOS GREEK ORTHODOX CHURCH   \n",
       "65429        521659.0           ST. DEMETRIOS GREEK ORTHODOX CHURCH   \n",
       "65430        339207.0                           ST DEMETRIOS CHURCH   \n",
       "74988       1184330.0                      OLD ST. PATRICK'S CHURCH   \n",
       "74990        229453.0                      OLD ST. PATRICK'S CHURCH   \n",
       "159539      1152076.0                               ARGENTINA FOODS   \n",
       "192505      1214242.0               GOD'S BATTLE AXE PRAYER ACADEMY   \n",
       "192506       679787.0               GOD'S BATTLE AXE PRAYER ACADEMY   \n",
       "192507       670328.0               GOD'S BATTLE AXE PRAYER ACADEMY   \n",
       "193701       417318.0  AVALON COMMUNITY CHURCH/FREEDOM HOME ACADEMY   \n",
       "\n",
       "                                            AKA Name  License #  \\\n",
       "65421                           ST. DEMETRIOS CHURCH        NaN   \n",
       "65422                           ST. DEMETRIOS CHURCH        NaN   \n",
       "65423                           ST. DEMETRIOS CHURCH        NaN   \n",
       "65424                           ST. DEMETRIOS CHURCH        NaN   \n",
       "65425                           ST. DEMETRIOS CHURCH        NaN   \n",
       "65426                           ST. DEMETRIOS CHURCH        NaN   \n",
       "65427                           ST. DEMETRIOS CHURCH        NaN   \n",
       "65428                           ST. DEMETRIOS CHURCH        NaN   \n",
       "65429                           ST. DEMETRIOS CHURCH        NaN   \n",
       "65430                            ST DEMETRIOS CHURCH        NaN   \n",
       "74988                       OLD ST. PATRICK'S CHURCH        NaN   \n",
       "74990                       OLD ST. PATRICK'S CHURCH        NaN   \n",
       "159539                               ARGENTINA FOODS        NaN   \n",
       "192505               GOD'S BATTLE AXE PRAYER ACADEMY        NaN   \n",
       "192506               GOD'S BATTLE AXE PRAYER ACADEMY        NaN   \n",
       "192507               GOD'S BATTLE AXE PRAYER ACADEMY        NaN   \n",
       "193701  AVALON COMMUNITY CHURCH/FREEDOM HOME ACADEMY        NaN   \n",
       "\n",
       "                      Facility Type Risk              Address  \\\n",
       "65421                 special event    2    2727 W WINONA ST    \n",
       "65422                 special event    2    2727 W WINONA ST    \n",
       "65423                 special event    2    2727 W WINONA ST    \n",
       "65424                 special event    2    2727 W WINONA ST    \n",
       "65425                 special event    2    2727 W WINONA ST    \n",
       "65426                 special event    2    2727 W WINONA ST    \n",
       "65427                 special event    2    2727 W WINONA ST    \n",
       "65428                 special event    2    2727 W WINONA ST    \n",
       "65429                 special event    2    2727 W WINONA ST    \n",
       "65430                 special event    1    2727 W WINONA ST    \n",
       "74988                        church    2      700 W ADAMS ST    \n",
       "74990                        church    2      700 W ADAMS ST    \n",
       "159539                grocery store    2      4500 S WOOD ST    \n",
       "192505              church/day care    1  6969 N WESTERN AVE    \n",
       "192506              church/day care    1  6969 N WESTERN AVE    \n",
       "192507              church/day care    1  6969 N WESTERN AVE    \n",
       "193701  church/after school program    1    8100 S DANTE AVE    \n",
       "\n",
       "                Inspection Date             Inspection Type  \\\n",
       "65421   2019-06-04T00:00:00.000                     Canvass   \n",
       "65422   2018-06-13T00:00:00.000                     Canvass   \n",
       "65423   2017-08-04T00:00:00.000                     Canvass   \n",
       "65424   2016-06-20T00:00:00.000                     Canvass   \n",
       "65425   2015-08-04T00:00:00.000                     Canvass   \n",
       "65426   2014-05-20T00:00:00.000                     Canvass   \n",
       "65427   2013-07-24T00:00:00.000                     Canvass   \n",
       "65428   2012-07-25T00:00:00.000                     Canvass   \n",
       "65429   2011-08-10T00:00:00.000                     Canvass   \n",
       "65430   2010-07-30T00:00:00.000  Special Events (Festivals)   \n",
       "74988   2012-05-22T00:00:00.000  Special Events (Festivals)   \n",
       "74990   2010-06-08T00:00:00.000  Special Events (Festivals)   \n",
       "159539  2014-04-10T00:00:00.000                     Canvass   \n",
       "192505  2012-03-19T00:00:00.000       Canvass Re-Inspection   \n",
       "192506  2012-03-14T00:00:00.000       Canvass Re-Inspection   \n",
       "192507  2012-02-09T00:00:00.000                     Canvass   \n",
       "193701  2011-01-10T00:00:00.000        Short Form Complaint   \n",
       "\n",
       "                   Results                                         Violations  \\\n",
       "65421   Pass w/ Conditions  3. MANAGEMENT, FOOD EMPLOYEE AND CONDITIONAL E...   \n",
       "65422                 Pass  32. FOOD AND NON-FOOD CONTACT SURFACES PROPERL...   \n",
       "65423                 Pass  32. FOOD AND NON-FOOD CONTACT SURFACES PROPERL...   \n",
       "65424                 Pass  38. VENTILATION: ROOMS AND EQUIPMENT VENTED AS...   \n",
       "65425                 Pass                                                NaN   \n",
       "65426                 Pass  33. FOOD AND NON-FOOD CONTACT EQUIPMENT UTENSI...   \n",
       "65427                 Pass  32. FOOD AND NON-FOOD CONTACT SURFACES PROPERL...   \n",
       "65428                 Pass  33. FOOD AND NON-FOOD CONTACT EQUIPMENT UTENSI...   \n",
       "65429                 Pass                                                NaN   \n",
       "65430                 Pass  32. FOOD AND NON-FOOD CONTACT SURFACES PROPERL...   \n",
       "74988                 Pass  34. FLOORS: CONSTRUCTED PER CODE, CLEANED, GOO...   \n",
       "74990                 Pass  33. FOOD AND NON-FOOD CONTACT EQUIPMENT UTENSI...   \n",
       "159539     Out of Business                                                NaN   \n",
       "192505                Pass                                                NaN   \n",
       "192506                Fail  9. WATER SOURCE: SAFE, HOT & COLD UNDER CITY P...   \n",
       "192507                Fail  11. ADEQUATE NUMBER, CONVENIENT, ACCESSIBLE, D...   \n",
       "193701                Fail                                                NaN   \n",
       "\n",
       "         Latitude  Longitude                                Location  \\\n",
       "65421   41.974653 -87.697529  41.974653353169366, -87.69752945714045   \n",
       "65422   41.974653 -87.697529  41.974653353169366, -87.69752945714045   \n",
       "65423   41.974653 -87.697529  41.974653353169366, -87.69752945714045   \n",
       "65424   41.974653 -87.697529  41.974653353169366, -87.69752945714045   \n",
       "65425   41.974653 -87.697529  41.974653353169366, -87.69752945714045   \n",
       "65426   41.974653 -87.697529  41.974653353169366, -87.69752945714045   \n",
       "65427   41.974653 -87.697529  41.974653353169366, -87.69752945714045   \n",
       "65428   41.974653 -87.697529  41.974653353169366, -87.69752945714045   \n",
       "65429   41.974653 -87.697529  41.974653353169366, -87.69752945714045   \n",
       "65430   41.974653 -87.697529  41.974653353169366, -87.69752945714045   \n",
       "74988   41.879367 -87.644105   41.87936739625875, -87.64410546134096   \n",
       "74990   41.879367 -87.644105   41.87936739625875, -87.64410546134096   \n",
       "159539  41.812105 -87.670072  41.812105152977246, -87.67007183351623   \n",
       "192505  42.008303 -87.690005   42.00830313068745, -87.69000508529592   \n",
       "192506  42.008303 -87.690005   42.00830313068745, -87.69000508529592   \n",
       "192507  42.008303 -87.690005   42.00830313068745, -87.69000508529592   \n",
       "193701  41.747711 -87.589539     41.7477112449663, -87.5895386579929   \n",
       "\n",
       "         Community Area  \n",
       "65421   Near North Side  \n",
       "65422   Near North Side  \n",
       "65423   Near North Side  \n",
       "65424   Near North Side  \n",
       "65425   Near North Side  \n",
       "65426   Near North Side  \n",
       "65427   Near North Side  \n",
       "65428   Near North Side  \n",
       "65429   Near North Side  \n",
       "65430   Near North Side  \n",
       "74988   Near South Side  \n",
       "74990   Near South Side  \n",
       "159539             Loop  \n",
       "192505        Edgewater  \n",
       "192506        Edgewater  \n",
       "192507        Edgewater  \n",
       "193701        West Town  "
      ]
     },
     "execution_count": 64,
     "metadata": {},
     "output_type": "execute_result"
    }
   ],
   "source": [
    "inspections[inspections['License #'].isnull()]"
   ]
  },
  {
   "cell_type": "code",
   "execution_count": 65,
   "metadata": {},
   "outputs": [
    {
     "data": {
      "text/html": [
       "<div>\n",
       "<style scoped>\n",
       "    .dataframe tbody tr th:only-of-type {\n",
       "        vertical-align: middle;\n",
       "    }\n",
       "\n",
       "    .dataframe tbody tr th {\n",
       "        vertical-align: top;\n",
       "    }\n",
       "\n",
       "    .dataframe thead th {\n",
       "        text-align: right;\n",
       "    }\n",
       "</style>\n",
       "<table border=\"1\" class=\"dataframe\">\n",
       "  <thead>\n",
       "    <tr style=\"text-align: right;\">\n",
       "      <th></th>\n",
       "      <th>Inspection ID</th>\n",
       "      <th>DBA Name</th>\n",
       "      <th>AKA Name</th>\n",
       "      <th>License #</th>\n",
       "      <th>Facility Type</th>\n",
       "      <th>Risk</th>\n",
       "      <th>Address</th>\n",
       "      <th>Inspection Date</th>\n",
       "      <th>Inspection Type</th>\n",
       "      <th>Results</th>\n",
       "      <th>Violations</th>\n",
       "      <th>Latitude</th>\n",
       "      <th>Longitude</th>\n",
       "      <th>Location</th>\n",
       "      <th>Community Area</th>\n",
       "    </tr>\n",
       "  </thead>\n",
       "  <tbody>\n",
       "    <tr>\n",
       "      <td>159539</td>\n",
       "      <td>1152076.0</td>\n",
       "      <td>ARGENTINA FOODS</td>\n",
       "      <td>ARGENTINA FOODS</td>\n",
       "      <td>NaN</td>\n",
       "      <td>grocery store</td>\n",
       "      <td>2</td>\n",
       "      <td>4500 S WOOD ST</td>\n",
       "      <td>2014-04-10T00:00:00.000</td>\n",
       "      <td>Canvass</td>\n",
       "      <td>Out of Business</td>\n",
       "      <td>NaN</td>\n",
       "      <td>41.812105</td>\n",
       "      <td>-87.670072</td>\n",
       "      <td>41.812105152977246, -87.67007183351623</td>\n",
       "      <td>Loop</td>\n",
       "    </tr>\n",
       "    <tr>\n",
       "      <td>159541</td>\n",
       "      <td>158273.0</td>\n",
       "      <td>ARGENTINA FOODS</td>\n",
       "      <td>ARGENTINA FOODS</td>\n",
       "      <td>57047.0</td>\n",
       "      <td>grocery store</td>\n",
       "      <td>2</td>\n",
       "      <td>4500 S WOOD ST</td>\n",
       "      <td>2010-01-20T00:00:00.000</td>\n",
       "      <td>Out of Business</td>\n",
       "      <td>Fail</td>\n",
       "      <td>NaN</td>\n",
       "      <td>41.812105</td>\n",
       "      <td>-87.670072</td>\n",
       "      <td>41.812105152977246, -87.67007183351623</td>\n",
       "      <td>Loop</td>\n",
       "    </tr>\n",
       "    <tr>\n",
       "      <td>159542</td>\n",
       "      <td>158274.0</td>\n",
       "      <td>ARGENTINA FOODS</td>\n",
       "      <td>ARGENTINA FOODS</td>\n",
       "      <td>57047.0</td>\n",
       "      <td>grocery store</td>\n",
       "      <td>2</td>\n",
       "      <td>4500 S WOOD ST</td>\n",
       "      <td>2010-01-20T00:00:00.000</td>\n",
       "      <td>Out of Business</td>\n",
       "      <td>Fail</td>\n",
       "      <td>NaN</td>\n",
       "      <td>41.812105</td>\n",
       "      <td>-87.670072</td>\n",
       "      <td>41.812105152977246, -87.67007183351623</td>\n",
       "      <td>Loop</td>\n",
       "    </tr>\n",
       "  </tbody>\n",
       "</table>\n",
       "</div>"
      ],
      "text/plain": [
       "        Inspection ID         DBA Name         AKA Name  License #  \\\n",
       "159539      1152076.0  ARGENTINA FOODS  ARGENTINA FOODS        NaN   \n",
       "159541       158273.0  ARGENTINA FOODS  ARGENTINA FOODS    57047.0   \n",
       "159542       158274.0  ARGENTINA FOODS  ARGENTINA FOODS    57047.0   \n",
       "\n",
       "        Facility Type Risk          Address          Inspection Date  \\\n",
       "159539  grocery store    2  4500 S WOOD ST   2014-04-10T00:00:00.000   \n",
       "159541  grocery store    2  4500 S WOOD ST   2010-01-20T00:00:00.000   \n",
       "159542  grocery store    2  4500 S WOOD ST   2010-01-20T00:00:00.000   \n",
       "\n",
       "        Inspection Type          Results Violations   Latitude  Longitude  \\\n",
       "159539          Canvass  Out of Business        NaN  41.812105 -87.670072   \n",
       "159541  Out of Business             Fail        NaN  41.812105 -87.670072   \n",
       "159542  Out of Business             Fail        NaN  41.812105 -87.670072   \n",
       "\n",
       "                                      Location Community Area  \n",
       "159539  41.812105152977246, -87.67007183351623           Loop  \n",
       "159541  41.812105152977246, -87.67007183351623           Loop  \n",
       "159542  41.812105152977246, -87.67007183351623           Loop  "
      ]
     },
     "execution_count": 65,
     "metadata": {},
     "output_type": "execute_result"
    }
   ],
   "source": [
    "inspections[inspections['DBA Name']=='ARGENTINA FOODS']"
   ]
  },
  {
   "cell_type": "markdown",
   "metadata": {},
   "source": [
    "* We see that almost all of the missing License numbers are those of churches (Maybe they don't need a lisence to serve food). We assign the default license number 99999 to those entries.\n",
    "* The only real license numbers missing is the one from ARGENTINA FOODS and we are able to assign it manually."
   ]
  },
  {
   "cell_type": "code",
   "execution_count": 66,
   "metadata": {},
   "outputs": [],
   "source": [
    "inspections.loc[159539,('License #')]='57047'\n",
    "inspections['License #'].fillna('99999',inplace=True)"
   ]
  },
  {
   "cell_type": "markdown",
   "metadata": {},
   "source": [
    "### k. Attribute the right types to each column"
   ]
  },
  {
   "cell_type": "code",
   "execution_count": 67,
   "metadata": {},
   "outputs": [
    {
     "data": {
      "text/plain": [
       "Inspection ID                    0.0% missing values\n",
       "DBA Name                         0.0% missing values\n",
       "AKA Name                         0.0% missing values\n",
       "License #                        0.0% missing values\n",
       "Facility Type                    0.0% missing values\n",
       "Risk                             0.0% missing values\n",
       "Address                          0.0% missing values\n",
       "Inspection Date                  0.0% missing values\n",
       "Inspection Type                  0.0% missing values\n",
       "Results                          0.0% missing values\n",
       "Violations         26.54976247727406% missing values\n",
       "Latitude                         0.0% missing values\n",
       "Longitude                        0.0% missing values\n",
       "Location                         0.0% missing values\n",
       "Community Area                   0.0% missing values\n",
       "dtype: object"
      ]
     },
     "execution_count": 67,
     "metadata": {},
     "output_type": "execute_result"
    }
   ],
   "source": [
    "inspections.isna().sum().apply(lambda x: '{}% missing values'.format(100 * x/len(inspections)))"
   ]
  },
  {
   "cell_type": "markdown",
   "metadata": {},
   "source": [
    "Now that we are done with replacing Nan values, we want to attribute the right type to each column. [documentation about categorical type](https://pandas.pydata.org/pandas-docs/stable/user_guide/categorical.html)\n"
   ]
  },
  {
   "cell_type": "code",
   "execution_count": 68,
   "metadata": {},
   "outputs": [],
   "source": [
    "inspections = inspections.astype({\"Inspection ID\": int, \"DBA Name\": str, \"AKA Name\": str, \"License #\": int,\\\n",
    "                                  \"Facility Type\": 'category', \"Risk\": int,\"Address\": str, \"Inspection Type\": 'category',\\\n",
    "                                   \"Results\": 'category', \"Community Area\": 'category'})"
   ]
  },
  {
   "cell_type": "markdown",
   "metadata": {},
   "source": [
    "We notice that the 'Inspection date' columns only contains dates and no times (the time seems to always be midnight by default). Hence we only keep the date and clean the values"
   ]
  },
  {
   "cell_type": "code",
   "execution_count": 69,
   "metadata": {},
   "outputs": [],
   "source": [
    "inspections.loc[:,('Inspection Date')]=inspections.loc[:,('Inspection Date')].apply(pd.to_datetime)"
   ]
  },
  {
   "cell_type": "code",
   "execution_count": 70,
   "metadata": {},
   "outputs": [
    {
     "data": {
      "text/plain": [
       "Inspection ID               int64\n",
       "DBA Name                   object\n",
       "AKA Name                   object\n",
       "License #                   int64\n",
       "Facility Type            category\n",
       "Risk                        int64\n",
       "Address                    object\n",
       "Inspection Date    datetime64[ns]\n",
       "Inspection Type          category\n",
       "Results                  category\n",
       "Violations                 object\n",
       "Latitude                  float64\n",
       "Longitude                 float64\n",
       "Location                   object\n",
       "Community Area           category\n",
       "dtype: object"
      ]
     },
     "execution_count": 70,
     "metadata": {},
     "output_type": "execute_result"
    }
   ],
   "source": [
    "inspections.dtypes"
   ]
  },
  {
   "cell_type": "code",
   "execution_count": 74,
   "metadata": {},
   "outputs": [],
   "source": [
    "inspections.to_pickle('./cleaned_inspections.pickle')"
   ]
  }
 ],
 "metadata": {
  "kernelspec": {
   "display_name": "Python 3",
   "language": "python",
   "name": "python3"
  },
  "language_info": {
   "codemirror_mode": {
    "name": "ipython",
    "version": 3
   },
   "file_extension": ".py",
   "mimetype": "text/x-python",
   "name": "python",
   "nbconvert_exporter": "python",
   "pygments_lexer": "ipython3",
   "version": "3.7.1"
  }
 },
 "nbformat": 4,
 "nbformat_minor": 4
}
