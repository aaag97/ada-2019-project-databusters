{
 "cells": [
  {
   "cell_type": "markdown",
   "metadata": {},
   "source": [
    "**TODO Important !**\n",
    "* data cleaning: explode the violations column: for each inspection keep the numbers of the violations and the comment of the inspector (comments can be used to do NLP, see if useful).."
   ]
  },
  {
   "cell_type": "markdown",
   "metadata": {},
   "source": [
    "# Relevant imports"
   ]
  },
  {
   "cell_type": "code",
   "execution_count": 44,
   "metadata": {},
   "outputs": [],
   "source": [
    "import pandas as pd\n",
    "import numpy as np\n",
    "import matplotlib.pyplot as plt\n",
    "import seaborn as sns\n",
    "import re\n",
    "import math\n",
    "from geopy.geocoders import Nominatim\n",
    "from geopy.extra.rate_limiter import RateLimiter\n",
    "\n",
    "from autocorrect import Speller\n",
    "\n",
    "from sklearn.linear_model import Ridge\n",
    "from sklearn.model_selection import train_test_split\n",
    "from sklearn.model_selection import cross_val_predict\n",
    "from sklearn.model_selection import cross_val_score\n",
    "from sklearn.metrics import mean_squared_error\n",
    "\n",
    "import pandas_profiling\n",
    "\n",
    "\n",
    "from datetime import date\n",
    "\n",
    "#import findspark\n",
    "#findspark.init()\n",
    "\n",
    "#import pyspark\n",
    "# Important to use sql functions in pyspark as example: sqlf.max()\n",
    "#[source](https://stackoverflow.com/questions/36604460/python-function-such-as-max-doesnt-work-in-pyspark-application)\n",
    "#from pyspark.sql import functions as sqlf"
   ]
  },
  {
   "cell_type": "markdown",
   "metadata": {},
   "source": [
    "# I. Dataset(s) preparation and cleaning"
   ]
  },
  {
   "cell_type": "markdown",
   "metadata": {},
   "source": [
    "Before we proceed to tackle each of our research questions, some data cleaning is in order."
   ]
  },
  {
   "cell_type": "markdown",
   "metadata": {},
   "source": [
    "## 1. Load the data and explore its structure"
   ]
  },
  {
   "cell_type": "code",
   "execution_count": 45,
   "metadata": {},
   "outputs": [],
   "source": [
    "inspections = pd.read_csv('datasets/food-inspections.csv')"
   ]
  },
  {
   "cell_type": "code",
   "execution_count": 46,
   "metadata": {},
   "outputs": [
    {
     "data": {
      "text/plain": [
       "195736"
      ]
     },
     "execution_count": 46,
     "metadata": {},
     "output_type": "execute_result"
    }
   ],
   "source": [
    "len(inspections)"
   ]
  },
  {
   "cell_type": "markdown",
   "metadata": {},
   "source": [
    "The dataset has 22 columns. Let's examine what each of them is."
   ]
  },
  {
   "cell_type": "code",
   "execution_count": 47,
   "metadata": {},
   "outputs": [
    {
     "data": {
      "text/plain": [
       "Index(['Inspection ID', 'DBA Name', 'AKA Name', 'License #', 'Facility Type',\n",
       "       'Risk', 'Address', 'City', 'State', 'Zip', 'Inspection Date',\n",
       "       'Inspection Type', 'Results', 'Violations', 'Latitude', 'Longitude',\n",
       "       'Location', 'Historical Wards 2003-2015', 'Zip Codes',\n",
       "       'Community Areas', 'Census Tracts', 'Wards'],\n",
       "      dtype='object')"
      ]
     },
     "execution_count": 47,
     "metadata": {},
     "output_type": "execute_result"
    }
   ],
   "source": [
    "#Display columns\n",
    "inspections.columns"
   ]
  },
  {
   "cell_type": "code",
   "execution_count": 48,
   "metadata": {},
   "outputs": [
    {
     "data": {
      "text/plain": [
       "Inspection ID                   int64\n",
       "DBA Name                       object\n",
       "AKA Name                       object\n",
       "License #                     float64\n",
       "Facility Type                  object\n",
       "Risk                           object\n",
       "Address                        object\n",
       "City                           object\n",
       "State                          object\n",
       "Zip                           float64\n",
       "Inspection Date                object\n",
       "Inspection Type                object\n",
       "Results                        object\n",
       "Violations                     object\n",
       "Latitude                      float64\n",
       "Longitude                     float64\n",
       "Location                       object\n",
       "Historical Wards 2003-2015    float64\n",
       "Zip Codes                     float64\n",
       "Community Areas               float64\n",
       "Census Tracts                 float64\n",
       "Wards                         float64\n",
       "dtype: object"
      ]
     },
     "execution_count": 48,
     "metadata": {},
     "output_type": "execute_result"
    }
   ],
   "source": [
    "inspections.dtypes"
   ]
  },
  {
   "cell_type": "markdown",
   "metadata": {},
   "source": [
    "A description of the features is given below [Source](https://data.cityofchicago.org/api/assets/BAD5301B-681A-4202-9D25-51B2CAE672FF).\n",
    "The last five columns are ignored in the dataset source; we will see that those columns are in fact null\n",
    "\n",
    "| Feature name                | Variable Type | Description \n",
    "|-----------------------------|---------------|--------------------------------------------------------\n",
    "| Inspection ID        | Integer    | The inspection unique identifier.\n",
    "| DBA Name                 | String        | ‘Doing business as.’Legal name of the establishment.\n",
    "| AKA NAme                | String    |  ‘Also known as.’ Name the public would know the establishment as.\n",
    "| License # | Integer    | Unique number assigned to the establishment for the purposes of licensing by the Department of Business Affairs and Consumer Protection.\n",
    "| Type of facility                | String    | Each establishment is described by one of the following: bakery, banquet hall, candy store, caterer, coffee shop, day care center (for ages less than 2), day care center (for ages 2 – 6), day care center (combo, for ages less than 2 and 2 – 6 combined), gas station, Golden Diner, grocery store, hospital, long term care center(nursing home), liquor store, mobile food dispenser, restaurant, paleteria, school, shelter, tavern, social club, wholesaler, or Wrigley Field Rooftop.\n",
    "| Risk                   | String    | Risk category of facility of adversely affecting the public’s health, with 1 being the highest and 3 the lowest. The frequency of inspection is tied to this risk, with risk 1 establishments inspected most frequently and risk 3 least frequently.\n",
    "| Address        | String    | Street address of the establishment.\n",
    "| City        | String    | City of the establishment.\n",
    "| State        | String    | State of the establishment.\n",
    "| Zip        | Integer    | Zip code of the establishment.\n",
    "| Inspection Date        | Date    | Date of the inspection\n",
    "| Inspection Type        | String    | An inspection can be one of the following types: canvass, the most common type of inspection performed at a frequency relative to the risk of the establishment; consultation, when the inspection is done at the request of the owner prior to the opening of the establishment; complaint, when the inspection is done in response to a complaint against the establishment; license, when the inspection is done as a requirement for the establishment to receive its license to operate; suspect food poisoning, when the inspection is done in response to one or more persons claiming to have gotten ill as a result of eating at the establishment (a specific type of complaint-based inspection); task-force inspection, when an inspection of a bar or tavern is done. Re-inspections can occur for most types of these inspections and are indicated as such.\n",
    "| Results        | String    | Results: An inspection can pass, pass with conditions or fail. Establishments receiving a ‘pass’ were found to have no critical or serious violations (violation number 1-14 and 15- 29, respectively). Establishments receiving a ‘pass with conditions’ were found to have critical or serious violations, but these were corrected during the inspection. Establishments receiving a ‘fail’ were found to have critical or serious violations that were not correctable during the inspection. An establishment receiving a ‘fail’ does not necessarily mean the establishment’s licensed is suspended. Establishments found to be out of business or not located are indicated as such.\n",
    "| Violations        | String    | An establishment can receive one or more of 45 distinct violations (violation numbers 1-44 and 70). For each violation number listed for a given establishment, the requirement the establishment must meet in order for it to NOT receive a violation is noted, followed by a specific description of the findings that caused the violation to be issued.\n",
    "| Latitude        | Integer    | Latitude of the establishment.\n",
    "| Longitude        | Integer    | Longitude of the establishment.\n",
    "\n"
   ]
  },
  {
   "cell_type": "markdown",
   "metadata": {},
   "source": [
    "We use pandas_profiling to have a quick overview of our dataset; missing values, features distributions and features correlation."
   ]
  },
  {
   "cell_type": "code",
   "execution_count": 49,
   "metadata": {},
   "outputs": [],
   "source": [
    "#inspections.profile_report(style={'full_width':True})"
   ]
  },
  {
   "cell_type": "code",
   "execution_count": 50,
   "metadata": {},
   "outputs": [],
   "source": [
    "#Save the report to a html file\n",
    "#profile = IPO_data.profile_report(title='inspection data Profiling Report')\n",
    "#profile.to_file(output_file=\"data_profile.html\")"
   ]
  },
  {
   "cell_type": "markdown",
   "metadata": {},
   "source": [
    "## 2. Drop duplicates"
   ]
  },
  {
   "cell_type": "markdown",
   "metadata": {},
   "source": [
    "The dataset source explicitly says there are duplicates in our data, hence it makes sence to drop those. [source](https://www.kaggle.com/chicago/chicago-food-inspections)"
   ]
  },
  {
   "cell_type": "code",
   "execution_count": 51,
   "metadata": {},
   "outputs": [
    {
     "data": {
      "text/plain": [
       "195524"
      ]
     },
     "execution_count": 51,
     "metadata": {},
     "output_type": "execute_result"
    }
   ],
   "source": [
    "inspections.drop_duplicates(inplace=True)\n",
    "len(inspections)"
   ]
  },
  {
   "cell_type": "markdown",
   "metadata": {},
   "source": [
    "## 3. Dataset cleaning"
   ]
  },
  {
   "cell_type": "markdown",
   "metadata": {},
   "source": [
    "### A. Drop null columns"
   ]
  },
  {
   "cell_type": "markdown",
   "metadata": {},
   "source": [
    "The 'Location' column contains the latitude and longitude of the establishment. However, there are separate 'Latitude' and 'Longitude' columns. We can hence safely drop the 'Location' column."
   ]
  },
  {
   "cell_type": "code",
   "execution_count": 52,
   "metadata": {},
   "outputs": [],
   "source": [
    "#inspections = inspections.drop(columns=['Location'])\n",
    "#inspections.rename(columns={\"Location\": \"Location_original\"})"
   ]
  },
  {
   "cell_type": "markdown",
   "metadata": {},
   "source": [
    "The head of the dataset only contains NaN entries for the 'Historical Wards 2003-2015', 'Zip Codes', 'Community Areas', 'Census Tracts', 'Wards' columns. Let's see if this is true for the whole dataset."
   ]
  },
  {
   "cell_type": "code",
   "execution_count": 53,
   "metadata": {},
   "outputs": [
    {
     "name": "stdout",
     "output_type": "stream",
     "text": [
      "Values taken by 'Historical Wards 2003-2015':  [nan]\n",
      "Values taken by 'Zip Codes':  [nan]\n",
      "Values taken by 'Community Areas':  [nan]\n",
      "Values taken by 'Census Tracts':  [nan]\n",
      "Values taken by 'Wards':  [nan]\n"
     ]
    }
   ],
   "source": [
    "# make sure that our assumption is correct\n",
    "print('Values taken by \\'Historical Wards 2003-2015\\': ', inspections['Zip Codes'].unique())\n",
    "print('Values taken by \\'Zip Codes\\': ', inspections['Zip Codes'].unique())\n",
    "print('Values taken by \\'Community Areas\\': ', inspections['Zip Codes'].unique())\n",
    "print('Values taken by \\'Census Tracts\\': ', inspections['Zip Codes'].unique())\n",
    "print('Values taken by \\'Wards\\': ', inspections['Zip Codes'].unique())\n"
   ]
  },
  {
   "cell_type": "markdown",
   "metadata": {},
   "source": [
    "We drop all columns apart from the 'Community Areas' because we will be needing it in our study. We will fill later."
   ]
  },
  {
   "cell_type": "code",
   "execution_count": 54,
   "metadata": {},
   "outputs": [],
   "source": [
    "inspections = inspections.drop(columns=['Historical Wards 2003-2015', 'Zip Codes', 'Census Tracts', 'Wards'])\n"
   ]
  },
  {
   "cell_type": "markdown",
   "metadata": {},
   "source": [
    "### B. Clean the location related features and fill in community area feature"
   ]
  },
  {
   "cell_type": "markdown",
   "metadata": {},
   "source": [
    "Let's examine if the whole dataset is relevent to the study we are conducting by seeing which entries correspond to facilities in Chicago."
   ]
  },
  {
   "cell_type": "markdown",
   "metadata": {},
   "source": [
    "First, we check if there are any missing values for the column 'City' or 'State'"
   ]
  },
  {
   "cell_type": "code",
   "execution_count": 55,
   "metadata": {},
   "outputs": [
    {
     "data": {
      "text/html": [
       "<div>\n",
       "<style scoped>\n",
       "    .dataframe tbody tr th:only-of-type {\n",
       "        vertical-align: middle;\n",
       "    }\n",
       "\n",
       "    .dataframe tbody tr th {\n",
       "        vertical-align: top;\n",
       "    }\n",
       "\n",
       "    .dataframe thead th {\n",
       "        text-align: right;\n",
       "    }\n",
       "</style>\n",
       "<table border=\"1\" class=\"dataframe\">\n",
       "  <thead>\n",
       "    <tr style=\"text-align: right;\">\n",
       "      <th></th>\n",
       "      <th>Inspection ID</th>\n",
       "      <th>DBA Name</th>\n",
       "      <th>AKA Name</th>\n",
       "      <th>License #</th>\n",
       "      <th>Facility Type</th>\n",
       "      <th>Risk</th>\n",
       "      <th>Address</th>\n",
       "      <th>City</th>\n",
       "      <th>State</th>\n",
       "      <th>Zip</th>\n",
       "      <th>Inspection Date</th>\n",
       "      <th>Inspection Type</th>\n",
       "      <th>Results</th>\n",
       "      <th>Violations</th>\n",
       "      <th>Latitude</th>\n",
       "      <th>Longitude</th>\n",
       "      <th>Location</th>\n",
       "      <th>Community Areas</th>\n",
       "    </tr>\n",
       "  </thead>\n",
       "  <tbody>\n",
       "    <tr>\n",
       "      <th>1669</th>\n",
       "      <td>2312774</td>\n",
       "      <td>CHICAGO COLLEGIATE CHARTER</td>\n",
       "      <td>CHICAGO COLLEGIATE CHARTER</td>\n",
       "      <td>3846104.0</td>\n",
       "      <td>School</td>\n",
       "      <td>Risk 1 (High)</td>\n",
       "      <td>10909 S COTTAGE GROVE AVE</td>\n",
       "      <td>NaN</td>\n",
       "      <td>IL</td>\n",
       "      <td>NaN</td>\n",
       "      <td>2019-09-24T00:00:00.000</td>\n",
       "      <td>Canvass Re-Inspection</td>\n",
       "      <td>Pass w/ Conditions</td>\n",
       "      <td>3. MANAGEMENT, FOOD EMPLOYEE AND CONDITIONAL E...</td>\n",
       "      <td>41.696087</td>\n",
       "      <td>-87.608945</td>\n",
       "      <td>{'longitude': '41.696086647178035', 'latitude'...</td>\n",
       "      <td>NaN</td>\n",
       "    </tr>\n",
       "    <tr>\n",
       "      <th>1879</th>\n",
       "      <td>2312540</td>\n",
       "      <td>CHICAGO COLLEGIATE CHARTER</td>\n",
       "      <td>CHICAGO COLLEGIATE CHARTER</td>\n",
       "      <td>3846104.0</td>\n",
       "      <td>School</td>\n",
       "      <td>Risk 1 (High)</td>\n",
       "      <td>10909 S COTTAGE GROVE AVE</td>\n",
       "      <td>NaN</td>\n",
       "      <td>IL</td>\n",
       "      <td>NaN</td>\n",
       "      <td>2019-09-19T00:00:00.000</td>\n",
       "      <td>Canvass Re-Inspection</td>\n",
       "      <td>Fail</td>\n",
       "      <td>3. MANAGEMENT, FOOD EMPLOYEE AND CONDITIONAL E...</td>\n",
       "      <td>41.696087</td>\n",
       "      <td>-87.608945</td>\n",
       "      <td>{'longitude': '41.696086647178035', 'latitude'...</td>\n",
       "      <td>NaN</td>\n",
       "    </tr>\n",
       "    <tr>\n",
       "      <th>1903</th>\n",
       "      <td>2312545</td>\n",
       "      <td>JCYS IRIS &amp; STEVEN PODOLSKY FAMILY CENTER</td>\n",
       "      <td>JCYS IRIS &amp; STEVEN PODOLSKY FAMILY CENTER</td>\n",
       "      <td>2671297.0</td>\n",
       "      <td>Children's Services Facility</td>\n",
       "      <td>Risk 1 (High)</td>\n",
       "      <td>2112 W LAWRENCE AVE</td>\n",
       "      <td>NaN</td>\n",
       "      <td>IL</td>\n",
       "      <td>60625.0</td>\n",
       "      <td>2019-09-19T00:00:00.000</td>\n",
       "      <td>License Re-Inspection</td>\n",
       "      <td>Pass</td>\n",
       "      <td>38. INSECTS, RODENTS, &amp; ANIMALS NOT PRESENT - ...</td>\n",
       "      <td>41.968821</td>\n",
       "      <td>-87.682201</td>\n",
       "      <td>{'longitude': '41.968821253748864', 'latitude'...</td>\n",
       "      <td>NaN</td>\n",
       "    </tr>\n",
       "    <tr>\n",
       "      <th>3073</th>\n",
       "      <td>2305166</td>\n",
       "      <td>AMY BECK CAKE DESIGN, LLC</td>\n",
       "      <td>AMY BECK CAKE DESIGN, LLC</td>\n",
       "      <td>2079264.0</td>\n",
       "      <td>Bakery</td>\n",
       "      <td>Risk 1 (High)</td>\n",
       "      <td>636 N RACINE AVE</td>\n",
       "      <td>NaN</td>\n",
       "      <td>NaN</td>\n",
       "      <td>60642.0</td>\n",
       "      <td>2019-08-23T00:00:00.000</td>\n",
       "      <td>Canvass</td>\n",
       "      <td>Pass</td>\n",
       "      <td>55. PHYSICAL FACILITIES INSTALLED, MAINTAINED ...</td>\n",
       "      <td>41.893380</td>\n",
       "      <td>-87.657588</td>\n",
       "      <td>{'longitude': '41.893380429024546', 'latitude'...</td>\n",
       "      <td>NaN</td>\n",
       "    </tr>\n",
       "    <tr>\n",
       "      <th>3617</th>\n",
       "      <td>2304583</td>\n",
       "      <td>JCYS IRIS &amp; STEVEN PODOLSKY FAMILY CENTER</td>\n",
       "      <td>JCYS IRIS &amp; STEVEN PODOLSKY FAMILY CENTER</td>\n",
       "      <td>2671297.0</td>\n",
       "      <td>Children's Services Facility</td>\n",
       "      <td>Risk 1 (High)</td>\n",
       "      <td>2112 W LAWRENCE AVE</td>\n",
       "      <td>NaN</td>\n",
       "      <td>IL</td>\n",
       "      <td>60625.0</td>\n",
       "      <td>2019-08-13T00:00:00.000</td>\n",
       "      <td>License</td>\n",
       "      <td>Fail</td>\n",
       "      <td>3. MANAGEMENT, FOOD EMPLOYEE AND CONDITIONAL E...</td>\n",
       "      <td>41.968821</td>\n",
       "      <td>-87.682201</td>\n",
       "      <td>{'longitude': '41.968821253748864', 'latitude'...</td>\n",
       "      <td>NaN</td>\n",
       "    </tr>\n",
       "    <tr>\n",
       "      <th>...</th>\n",
       "      <td>...</td>\n",
       "      <td>...</td>\n",
       "      <td>...</td>\n",
       "      <td>...</td>\n",
       "      <td>...</td>\n",
       "      <td>...</td>\n",
       "      <td>...</td>\n",
       "      <td>...</td>\n",
       "      <td>...</td>\n",
       "      <td>...</td>\n",
       "      <td>...</td>\n",
       "      <td>...</td>\n",
       "      <td>...</td>\n",
       "      <td>...</td>\n",
       "      <td>...</td>\n",
       "      <td>...</td>\n",
       "      <td>...</td>\n",
       "      <td>...</td>\n",
       "    </tr>\n",
       "    <tr>\n",
       "      <th>194253</th>\n",
       "      <td>60291</td>\n",
       "      <td>CLOVERHILL PASTRY-VEND,LLC</td>\n",
       "      <td>CLOVERHILL PASTRY-VEND,LLC</td>\n",
       "      <td>2004357.0</td>\n",
       "      <td>Wholesale</td>\n",
       "      <td>Risk 3 (Low)</td>\n",
       "      <td>4464 W 44TH ST</td>\n",
       "      <td>NaN</td>\n",
       "      <td>IL</td>\n",
       "      <td>60632.0</td>\n",
       "      <td>2010-02-03T00:00:00.000</td>\n",
       "      <td>License Re-Inspection</td>\n",
       "      <td>Pass</td>\n",
       "      <td>NaN</td>\n",
       "      <td>41.814266</td>\n",
       "      <td>-87.736013</td>\n",
       "      <td>{'longitude': '41.81426627941673', 'latitude':...</td>\n",
       "      <td>NaN</td>\n",
       "    </tr>\n",
       "    <tr>\n",
       "      <th>194489</th>\n",
       "      <td>60282</td>\n",
       "      <td>CLOVERHILL PASTRY-VEND,LLC</td>\n",
       "      <td>CLOVERHILL PASTRY-VEND,LLC</td>\n",
       "      <td>2004357.0</td>\n",
       "      <td>Wholesale</td>\n",
       "      <td>Risk 3 (Low)</td>\n",
       "      <td>4464 W 44TH ST</td>\n",
       "      <td>NaN</td>\n",
       "      <td>IL</td>\n",
       "      <td>60632.0</td>\n",
       "      <td>2010-01-28T00:00:00.000</td>\n",
       "      <td>License</td>\n",
       "      <td>Fail</td>\n",
       "      <td>32. FOOD AND NON-FOOD CONTACT SURFACES PROPERL...</td>\n",
       "      <td>41.814266</td>\n",
       "      <td>-87.736013</td>\n",
       "      <td>{'longitude': '41.81426627941673', 'latitude':...</td>\n",
       "      <td>NaN</td>\n",
       "    </tr>\n",
       "    <tr>\n",
       "      <th>194610</th>\n",
       "      <td>60279</td>\n",
       "      <td>CLOVERHILL PASTRY-VEND,LLC</td>\n",
       "      <td>CLOVERHILL PASTRY-VEND,LLC</td>\n",
       "      <td>2004357.0</td>\n",
       "      <td>Wholesale</td>\n",
       "      <td>Risk 3 (Low)</td>\n",
       "      <td>4464 W 44TH ST</td>\n",
       "      <td>NaN</td>\n",
       "      <td>IL</td>\n",
       "      <td>60632.0</td>\n",
       "      <td>2010-01-27T00:00:00.000</td>\n",
       "      <td>License</td>\n",
       "      <td>Fail</td>\n",
       "      <td>NaN</td>\n",
       "      <td>41.814266</td>\n",
       "      <td>-87.736013</td>\n",
       "      <td>{'longitude': '41.81426627941673', 'latitude':...</td>\n",
       "      <td>NaN</td>\n",
       "    </tr>\n",
       "    <tr>\n",
       "      <th>195141</th>\n",
       "      <td>67912</td>\n",
       "      <td>THREE CHEFS RESTURANT</td>\n",
       "      <td>THREE CHEFS RESTURANT</td>\n",
       "      <td>2009471.0</td>\n",
       "      <td>Restaurant</td>\n",
       "      <td>Risk 1 (High)</td>\n",
       "      <td>8125 S HALSTED ST</td>\n",
       "      <td>NaN</td>\n",
       "      <td>IL</td>\n",
       "      <td>60620.0</td>\n",
       "      <td>2010-01-15T00:00:00.000</td>\n",
       "      <td>License Re-Inspection</td>\n",
       "      <td>Pass</td>\n",
       "      <td>NaN</td>\n",
       "      <td>41.746236</td>\n",
       "      <td>-87.643766</td>\n",
       "      <td>{'longitude': '41.74623627171974', 'latitude':...</td>\n",
       "      <td>NaN</td>\n",
       "    </tr>\n",
       "    <tr>\n",
       "      <th>195417</th>\n",
       "      <td>67807</td>\n",
       "      <td>SUN FOOD MART</td>\n",
       "      <td>SUN FOOD MART</td>\n",
       "      <td>2009479.0</td>\n",
       "      <td>Grocery Store</td>\n",
       "      <td>Risk 3 (Low)</td>\n",
       "      <td>3601 W CERMAK RD</td>\n",
       "      <td>NaN</td>\n",
       "      <td>IL</td>\n",
       "      <td>NaN</td>\n",
       "      <td>2010-01-11T00:00:00.000</td>\n",
       "      <td>License Re-Inspection</td>\n",
       "      <td>Pass</td>\n",
       "      <td>NaN</td>\n",
       "      <td>41.851553</td>\n",
       "      <td>-87.715059</td>\n",
       "      <td>{'longitude': '41.85155346052472', 'latitude':...</td>\n",
       "      <td>NaN</td>\n",
       "    </tr>\n",
       "  </tbody>\n",
       "</table>\n",
       "<p>161 rows × 18 columns</p>\n",
       "</div>"
      ],
      "text/plain": [
       "        Inspection ID                                   DBA Name  \\\n",
       "1669          2312774                 CHICAGO COLLEGIATE CHARTER   \n",
       "1879          2312540                 CHICAGO COLLEGIATE CHARTER   \n",
       "1903          2312545  JCYS IRIS & STEVEN PODOLSKY FAMILY CENTER   \n",
       "3073          2305166                  AMY BECK CAKE DESIGN, LLC   \n",
       "3617          2304583  JCYS IRIS & STEVEN PODOLSKY FAMILY CENTER   \n",
       "...               ...                                        ...   \n",
       "194253          60291                 CLOVERHILL PASTRY-VEND,LLC   \n",
       "194489          60282                 CLOVERHILL PASTRY-VEND,LLC   \n",
       "194610          60279                 CLOVERHILL PASTRY-VEND,LLC   \n",
       "195141          67912                      THREE CHEFS RESTURANT   \n",
       "195417          67807                              SUN FOOD MART   \n",
       "\n",
       "                                         AKA Name  License #  \\\n",
       "1669                   CHICAGO COLLEGIATE CHARTER  3846104.0   \n",
       "1879                   CHICAGO COLLEGIATE CHARTER  3846104.0   \n",
       "1903    JCYS IRIS & STEVEN PODOLSKY FAMILY CENTER  2671297.0   \n",
       "3073                    AMY BECK CAKE DESIGN, LLC  2079264.0   \n",
       "3617    JCYS IRIS & STEVEN PODOLSKY FAMILY CENTER  2671297.0   \n",
       "...                                           ...        ...   \n",
       "194253                 CLOVERHILL PASTRY-VEND,LLC  2004357.0   \n",
       "194489                 CLOVERHILL PASTRY-VEND,LLC  2004357.0   \n",
       "194610                 CLOVERHILL PASTRY-VEND,LLC  2004357.0   \n",
       "195141                      THREE CHEFS RESTURANT  2009471.0   \n",
       "195417                              SUN FOOD MART  2009479.0   \n",
       "\n",
       "                       Facility Type           Risk  \\\n",
       "1669                          School  Risk 1 (High)   \n",
       "1879                          School  Risk 1 (High)   \n",
       "1903    Children's Services Facility  Risk 1 (High)   \n",
       "3073                          Bakery  Risk 1 (High)   \n",
       "3617    Children's Services Facility  Risk 1 (High)   \n",
       "...                              ...            ...   \n",
       "194253                     Wholesale   Risk 3 (Low)   \n",
       "194489                     Wholesale   Risk 3 (Low)   \n",
       "194610                     Wholesale   Risk 3 (Low)   \n",
       "195141                    Restaurant  Risk 1 (High)   \n",
       "195417                 Grocery Store   Risk 3 (Low)   \n",
       "\n",
       "                           Address City State      Zip  \\\n",
       "1669    10909 S COTTAGE GROVE AVE   NaN    IL      NaN   \n",
       "1879    10909 S COTTAGE GROVE AVE   NaN    IL      NaN   \n",
       "1903          2112 W LAWRENCE AVE   NaN    IL  60625.0   \n",
       "3073             636 N RACINE AVE   NaN   NaN  60642.0   \n",
       "3617          2112 W LAWRENCE AVE   NaN    IL  60625.0   \n",
       "...                            ...  ...   ...      ...   \n",
       "194253             4464 W 44TH ST   NaN    IL  60632.0   \n",
       "194489             4464 W 44TH ST   NaN    IL  60632.0   \n",
       "194610             4464 W 44TH ST   NaN    IL  60632.0   \n",
       "195141          8125 S HALSTED ST   NaN    IL  60620.0   \n",
       "195417           3601 W CERMAK RD   NaN    IL      NaN   \n",
       "\n",
       "                Inspection Date        Inspection Type             Results  \\\n",
       "1669    2019-09-24T00:00:00.000  Canvass Re-Inspection  Pass w/ Conditions   \n",
       "1879    2019-09-19T00:00:00.000  Canvass Re-Inspection                Fail   \n",
       "1903    2019-09-19T00:00:00.000  License Re-Inspection                Pass   \n",
       "3073    2019-08-23T00:00:00.000                Canvass                Pass   \n",
       "3617    2019-08-13T00:00:00.000                License                Fail   \n",
       "...                         ...                    ...                 ...   \n",
       "194253  2010-02-03T00:00:00.000  License Re-Inspection                Pass   \n",
       "194489  2010-01-28T00:00:00.000                License                Fail   \n",
       "194610  2010-01-27T00:00:00.000                License                Fail   \n",
       "195141  2010-01-15T00:00:00.000  License Re-Inspection                Pass   \n",
       "195417  2010-01-11T00:00:00.000  License Re-Inspection                Pass   \n",
       "\n",
       "                                               Violations   Latitude  \\\n",
       "1669    3. MANAGEMENT, FOOD EMPLOYEE AND CONDITIONAL E...  41.696087   \n",
       "1879    3. MANAGEMENT, FOOD EMPLOYEE AND CONDITIONAL E...  41.696087   \n",
       "1903    38. INSECTS, RODENTS, & ANIMALS NOT PRESENT - ...  41.968821   \n",
       "3073    55. PHYSICAL FACILITIES INSTALLED, MAINTAINED ...  41.893380   \n",
       "3617    3. MANAGEMENT, FOOD EMPLOYEE AND CONDITIONAL E...  41.968821   \n",
       "...                                                   ...        ...   \n",
       "194253                                                NaN  41.814266   \n",
       "194489  32. FOOD AND NON-FOOD CONTACT SURFACES PROPERL...  41.814266   \n",
       "194610                                                NaN  41.814266   \n",
       "195141                                                NaN  41.746236   \n",
       "195417                                                NaN  41.851553   \n",
       "\n",
       "        Longitude                                           Location  \\\n",
       "1669   -87.608945  {'longitude': '41.696086647178035', 'latitude'...   \n",
       "1879   -87.608945  {'longitude': '41.696086647178035', 'latitude'...   \n",
       "1903   -87.682201  {'longitude': '41.968821253748864', 'latitude'...   \n",
       "3073   -87.657588  {'longitude': '41.893380429024546', 'latitude'...   \n",
       "3617   -87.682201  {'longitude': '41.968821253748864', 'latitude'...   \n",
       "...           ...                                                ...   \n",
       "194253 -87.736013  {'longitude': '41.81426627941673', 'latitude':...   \n",
       "194489 -87.736013  {'longitude': '41.81426627941673', 'latitude':...   \n",
       "194610 -87.736013  {'longitude': '41.81426627941673', 'latitude':...   \n",
       "195141 -87.643766  {'longitude': '41.74623627171974', 'latitude':...   \n",
       "195417 -87.715059  {'longitude': '41.85155346052472', 'latitude':...   \n",
       "\n",
       "        Community Areas  \n",
       "1669                NaN  \n",
       "1879                NaN  \n",
       "1903                NaN  \n",
       "3073                NaN  \n",
       "3617                NaN  \n",
       "...                 ...  \n",
       "194253              NaN  \n",
       "194489              NaN  \n",
       "194610              NaN  \n",
       "195141              NaN  \n",
       "195417              NaN  \n",
       "\n",
       "[161 rows x 18 columns]"
      ]
     },
     "execution_count": 55,
     "metadata": {},
     "output_type": "execute_result"
    }
   ],
   "source": [
    "#Investigate the state=nan and city=nan restaurants\n",
    "inspections[pd.isnull(inspections.State) | pd.isnull(inspections.City)]"
   ]
  },
  {
   "cell_type": "markdown",
   "metadata": {},
   "source": [
    "Looking at the coordinates of these places, all of them seem to also be in chicago, so we will fill their City and State columns"
   ]
  },
  {
   "cell_type": "code",
   "execution_count": 56,
   "metadata": {},
   "outputs": [],
   "source": [
    "inspections['City'] = inspections['City'].fillna('Chicago')\n",
    "inspections['State'] = inspections['State'].fillna('IL')"
   ]
  },
  {
   "cell_type": "markdown",
   "metadata": {},
   "source": [
    "Next, we check if there are any facilities which are not located in Chicago."
   ]
  },
  {
   "cell_type": "code",
   "execution_count": 57,
   "metadata": {},
   "outputs": [
    {
     "name": "stdout",
     "output_type": "stream",
     "text": [
      "Values taken by 'City':  ['CHICAGO' 'Chicago' 'chicago' 'GRIFFITH' 'NEW YORK' 'SCHAUMBURG'\n",
      " 'ELMHURST' 'ALGONQUIN' 'NEW HOLSTEIN' 'CCHICAGO' 'NILES NILES' 'EVANSTON'\n",
      " 'CHICAGO.' 'CHESTNUT STREET' 'LANSING' 'CHICAGOCHICAGO' 'WADSWORTH'\n",
      " 'WILMETTE' 'WHEATON' 'CHICAGOHICAGO' 'ROSEMONT' 'CHicago' 'CALUMET CITY'\n",
      " 'PLAINFIELD' 'HIGHLAND PARK' 'PALOS PARK' 'ELK GROVE VILLAGE' 'CICERO'\n",
      " 'BRIDGEVIEW' 'OAK PARK' 'MAYWOOD' 'LAKE BLUFF' '312CHICAGO'\n",
      " 'SCHILLER PARK' 'SKOKIE' 'BEDFORD PARK' 'BANNOCKBURNDEERFIELD' 'CHCICAGO'\n",
      " 'BLOOMINGDALE' 'Norridge' 'CHARLES A HAYES' 'CHCHICAGO' 'CHICAGOI'\n",
      " 'SUMMIT' 'OOLYMPIA FIELDS' 'WESTMONT' 'CHICAGO HEIGHTS' 'JUSTICE'\n",
      " 'TINLEY PARK' 'LOMBARD' 'EAST HAZEL CREST' 'COUNTRY CLUB HILLS'\n",
      " 'STREAMWOOD' 'BOLINGBROOK' 'INACTIVE' 'BERWYN' 'BURNHAM' 'DES PLAINES'\n",
      " 'LAKE ZURICH' 'OLYMPIA FIELDS' 'alsip' 'OAK LAWN' 'BLUE ISLAND' 'GLENCOE'\n",
      " 'FRANKFORT' 'NAPERVILLE' 'BROADVIEW' 'WORTH' 'Maywood' 'ALSIP'\n",
      " 'EVERGREEN PARK']\n"
     ]
    }
   ],
   "source": [
    "# make sure that our assumption is correct\n",
    "print('Values taken by \\'City\\': ', inspections['City'].unique())"
   ]
  },
  {
   "cell_type": "markdown",
   "metadata": {},
   "source": [
    "We can see that this column takes values which are not Chicago. The rows where the 'City' is not Chicago are hence irrelevent to our study and should be dropped. Let's first make sure tha the bulk of the data is for Chicago before proceeding"
   ]
  },
  {
   "cell_type": "code",
   "execution_count": 58,
   "metadata": {},
   "outputs": [
    {
     "name": "stdout",
     "output_type": "stream",
     "text": [
      "99.89668787463431% of the inpections in the dataframe come from Chicago.\n"
     ]
    }
   ],
   "source": [
    "chicago_inspections = inspections.groupby('City')['Inspection ID'].nunique().filter(regex='(?i)chicago', axis=0)\n",
    "print('{}% of the inpections in the dataframe come from Chicago.'.format(100 * chicago_inspections.values.sum()/len(inspections)))"
   ]
  },
  {
   "cell_type": "markdown",
   "metadata": {},
   "source": [
    "We can safely drop the rows which come from cities that are not Chicago."
   ]
  },
  {
   "cell_type": "code",
   "execution_count": 59,
   "metadata": {},
   "outputs": [],
   "source": [
    "# list of ways Chicago has been written in the dataset\n",
    "chicago_variations = chicago_inspections.index.tolist()\n",
    "inspections = inspections[inspections['City'].isin(chicago_variations)]\n",
    "# drop the 'City' and 'State' columns since they have each only one value, 'Chicago' and 'IL' respectively\n",
    "inspections = inspections.drop(columns=['City', 'State'])"
   ]
  },
  {
   "cell_type": "markdown",
   "metadata": {},
   "source": [
    "Now that we only have facilities in Chicago in our dataset, let us fill the 'Community Areas' column. To that end, we use the geopy library."
   ]
  },
  {
   "cell_type": "markdown",
   "metadata": {},
   "source": [
    "We start by getting the unique locations in the dataset."
   ]
  },
  {
   "cell_type": "code",
   "execution_count": 60,
   "metadata": {},
   "outputs": [],
   "source": [
    "# def getareanneighbourhood(coord):\n",
    "#     \"\"\"\n",
    "    \n",
    "#     \"\"\"\n",
    "#     geolocator = Nominatim(timeout=10,user_agent=\"area_filler\")\n",
    "#     geocode = RateLimiter(geolocator.geocode, min_delay_seconds=1)\n",
    "#     dic = geocode.reverse(coord).raw['address']\n",
    "#     return dic.get('suburb', np.nan), dic.get('neighbourhood', np.nan)\n",
    "\n",
    "def combineloc(latitude, longitude):\n",
    "    \"\"\"\n",
    "    function to format the latitude and longitude such that they can be used in geopy requests\n",
    "    \"\"\"\n",
    "    return '{}, {}'.format(latitude, longitude)"
   ]
  },
  {
   "cell_type": "code",
   "execution_count": 61,
   "metadata": {},
   "outputs": [],
   "source": [
    "locations = inspections['Latitude'].dropna().combine(inspections['Longitude'].dropna(),combineloc)\n",
    "unique_locs = locations.unique()"
   ]
  },
  {
   "cell_type": "code",
   "execution_count": 62,
   "metadata": {},
   "outputs": [
    {
     "data": {
      "text/plain": [
       "array(['41.92799528871574, -87.78575236468352',\n",
       "       '41.946140053442825, -87.73518301995274',\n",
       "       '41.93592957402078, -87.64440716256712', ...,\n",
       "       '41.764896400247046, -87.65396483351302',\n",
       "       '41.768328334800714, -87.67381938402686',\n",
       "       '41.846516428599394, -87.69542345938575'], dtype=object)"
      ]
     },
     "execution_count": 62,
     "metadata": {},
     "output_type": "execute_result"
    }
   ],
   "source": [
    "unique_locs"
   ]
  },
  {
   "cell_type": "code",
   "execution_count": 63,
   "metadata": {},
   "outputs": [
    {
     "data": {
      "text/plain": [
       "16812"
      ]
     },
     "execution_count": 63,
     "metadata": {},
     "output_type": "execute_result"
    }
   ],
   "source": [
    "len(unique_locs)"
   ]
  },
  {
   "cell_type": "code",
   "execution_count": 64,
   "metadata": {},
   "outputs": [],
   "source": [
    "unique_locs_s = pd.Series(unique_locs, dtype=str)"
   ]
  },
  {
   "cell_type": "markdown",
   "metadata": {},
   "source": [
    "We then request the geopy entry for the locations we have (code takes 4h40 to run as we can only do one geopy query per second) and save the areas in a pickle."
   ]
  },
  {
   "cell_type": "code",
   "execution_count": 65,
   "metadata": {
    "scrolled": false
   },
   "outputs": [],
   "source": [
    "# geolocator = Nominatim(timeout=17000,user_agent=\"area_filler\")\n",
    "# geocode = RateLimiter(geolocator.reverse, min_delay_seconds=1)\n",
    "# # for i in unique_locs:\n",
    "# #     print(i)\n",
    "# #     print(geolocator.reverse(i))\n",
    "# areas = unique_locs_s.copy().apply(geocode)\n",
    "# areas.to_pickle('./areas')"
   ]
  },
  {
   "cell_type": "code",
   "execution_count": 66,
   "metadata": {},
   "outputs": [],
   "source": [
    "areas = pd.read_pickle('./areas.pickle')"
   ]
  },
  {
   "cell_type": "code",
   "execution_count": 67,
   "metadata": {},
   "outputs": [
    {
     "data": {
      "text/plain": [
       "Location(Lincoln & Winnemac, North Lincoln Avenue, Bowmanville, Lincoln Square, Chicago, Cook County, Illinois, 60625, United States of America, (41.972873, -87.691192, 0.0))"
      ]
     },
     "execution_count": 67,
     "metadata": {},
     "output_type": "execute_result"
    }
   ],
   "source": [
    "areas[4]"
   ]
  },
  {
   "cell_type": "code",
   "execution_count": 68,
   "metadata": {},
   "outputs": [
    {
     "data": {
      "text/plain": [
       "0"
      ]
     },
     "execution_count": 68,
     "metadata": {},
     "output_type": "execute_result"
    }
   ],
   "source": [
    "areas.isna().sum()"
   ]
  },
  {
   "cell_type": "markdown",
   "metadata": {},
   "source": [
    "Let's add the community areas and neighborhoods to the dataframe."
   ]
  },
  {
   "cell_type": "code",
   "execution_count": 69,
   "metadata": {},
   "outputs": [],
   "source": [
    "# get latitude, longitude and corresponding community area and neighbourhood in same dataframe\n",
    "suburbs_neighbourhoods = [(x.raw.get('address', {}).get('suburb',np.nan), x.raw.get('address', {}).get('neighbourhood',np.nan)) for x in areas]\n",
    "suburbs, neighbourhoods = zip(*suburbs_neighbourhoods)\n",
    "locs_df = pd.concat([pd.Series(unique_locs, name='Location'), pd.Series(suburbs,name='Community Area'), pd.Series(neighbourhoods,name='Neighbourhood')], axis=1)"
   ]
  },
  {
   "cell_type": "code",
   "execution_count": 70,
   "metadata": {},
   "outputs": [],
   "source": [
    "# add the community area and the neighbourhood to each entry in our dataframe\n",
    "inspections['Location'] = inspections['Latitude'].combine(inspections['Longitude'],combineloc)\n",
    "inspections = inspections.merge(locs_df,on='Location',how='outer')\n",
    "inspections = inspections.drop(columns=['Community Areas'])"
   ]
  },
  {
   "cell_type": "markdown",
   "metadata": {},
   "source": [
    "Let's check if there are any NaN entries in our 'Community Area' column"
   ]
  },
  {
   "cell_type": "code",
   "execution_count": 71,
   "metadata": {},
   "outputs": [
    {
     "name": "stdout",
     "output_type": "stream",
     "text": [
      "96.80783526689261% of rows don't have missing Community Areas\n"
     ]
    }
   ],
   "source": [
    "print('{}% of rows don\\'t have missing Community Areas'.format(100 * (1 - inspections['Community Area'].isna().sum()/len(inspections))))"
   ]
  },
  {
   "cell_type": "markdown",
   "metadata": {},
   "source": [
    "We may safely drop the rows which have null 'Community Area'."
   ]
  },
  {
   "cell_type": "code",
   "execution_count": 72,
   "metadata": {},
   "outputs": [],
   "source": [
    "inspections = inspections[inspections['Community Area'].notna()]"
   ]
  },
  {
   "cell_type": "markdown",
   "metadata": {},
   "source": [
    "### C. Check which columns still have missing values (& bug ?)"
   ]
  },
  {
   "cell_type": "markdown",
   "metadata": {},
   "source": [
    "Let's check if there are anymore missing values in the dataframe."
   ]
  },
  {
   "cell_type": "code",
   "execution_count": 73,
   "metadata": {},
   "outputs": [
    {
     "data": {
      "text/plain": [
       "Inspection ID                        0.0% missing values\n",
       "DBA Name                             0.0% missing values\n",
       "AKA Name               1.254977867330911% missing values\n",
       "License #           0.008990570478139693% missing values\n",
       "Facility Type         2.4538968834451866% missing values\n",
       "Risk                 0.03596228191255877% missing values\n",
       "Address                              0.0% missing values\n",
       "Zip                   0.0248562830866215% missing values\n",
       "Inspection Date                      0.0% missing values\n",
       "Inspection Type    0.0005288570869493936% missing values\n",
       "Results                              0.0% missing values\n",
       "Violations            26.588290046380767% missing values\n",
       "Latitude                             0.0% missing values\n",
       "Longitude                            0.0% missing values\n",
       "Location                             0.0% missing values\n",
       "Community Area                       0.0% missing values\n",
       "Neighbourhood         16.818713079164617% missing values\n",
       "dtype: object"
      ]
     },
     "execution_count": 73,
     "metadata": {},
     "output_type": "execute_result"
    }
   ],
   "source": [
    "inspections.isna().sum().apply(lambda x: '{}% missing values'.format(100 * x/len(inspections)))"
   ]
  },
  {
   "cell_type": "code",
   "execution_count": 74,
   "metadata": {},
   "outputs": [
    {
     "name": "stdout",
     "output_type": "stream",
     "text": [
      "Number of missing inspections ID:  0\n"
     ]
    },
    {
     "data": {
      "text/html": [
       "<div>\n",
       "<style scoped>\n",
       "    .dataframe tbody tr th:only-of-type {\n",
       "        vertical-align: middle;\n",
       "    }\n",
       "\n",
       "    .dataframe tbody tr th {\n",
       "        vertical-align: top;\n",
       "    }\n",
       "\n",
       "    .dataframe thead th {\n",
       "        text-align: right;\n",
       "    }\n",
       "</style>\n",
       "<table border=\"1\" class=\"dataframe\">\n",
       "  <thead>\n",
       "    <tr style=\"text-align: right;\">\n",
       "      <th></th>\n",
       "      <th>Inspection ID</th>\n",
       "      <th>DBA Name</th>\n",
       "      <th>AKA Name</th>\n",
       "      <th>License #</th>\n",
       "      <th>Facility Type</th>\n",
       "      <th>Risk</th>\n",
       "      <th>Address</th>\n",
       "      <th>Zip</th>\n",
       "      <th>Inspection Date</th>\n",
       "      <th>Inspection Type</th>\n",
       "      <th>Results</th>\n",
       "      <th>Violations</th>\n",
       "      <th>Latitude</th>\n",
       "      <th>Longitude</th>\n",
       "      <th>Location</th>\n",
       "      <th>Community Area</th>\n",
       "      <th>Neighbourhood</th>\n",
       "    </tr>\n",
       "  </thead>\n",
       "  <tbody>\n",
       "  </tbody>\n",
       "</table>\n",
       "</div>"
      ],
      "text/plain": [
       "Empty DataFrame\n",
       "Columns: [Inspection ID, DBA Name, AKA Name, License #, Facility Type, Risk, Address, Zip, Inspection Date, Inspection Type, Results, Violations, Latitude, Longitude, Location, Community Area, Neighbourhood]\n",
       "Index: []"
      ]
     },
     "execution_count": 74,
     "metadata": {},
     "output_type": "execute_result"
    }
   ],
   "source": [
    "missing_inspections = inspections[inspections['Inspection ID'].isnull()]\n",
    "print(\"Number of missing inspections ID: \", len(missing_inspections))"
   ]
  },
  {
   "cell_type": "code",
   "execution_count": 75,
   "metadata": {},
   "outputs": [],
   "source": [
    "inspections.dropna(subset=['Inspection ID'],inplace = True)"
   ]
  },
  {
   "cell_type": "code",
   "execution_count": 76,
   "metadata": {},
   "outputs": [
    {
     "data": {
      "text/plain": [
       "Inspection ID                        0.0% missing values\n",
       "DBA Name                             0.0% missing values\n",
       "AKA Name               1.254977867330911% missing values\n",
       "License #           0.008990570478139693% missing values\n",
       "Facility Type         2.4538968834451866% missing values\n",
       "Risk                 0.03596228191255877% missing values\n",
       "Address                              0.0% missing values\n",
       "Zip                   0.0248562830866215% missing values\n",
       "Inspection Date                      0.0% missing values\n",
       "Inspection Type    0.0005288570869493936% missing values\n",
       "Results                              0.0% missing values\n",
       "Violations            26.588290046380767% missing values\n",
       "Latitude                             0.0% missing values\n",
       "Longitude                            0.0% missing values\n",
       "Location                             0.0% missing values\n",
       "Community Area                       0.0% missing values\n",
       "Neighbourhood         16.818713079164617% missing values\n",
       "dtype: object"
      ]
     },
     "execution_count": 76,
     "metadata": {},
     "output_type": "execute_result"
    }
   ],
   "source": [
    "inspections.isna().sum().apply(lambda x: '{}% missing values'.format(100 * x/len(inspections)))"
   ]
  },
  {
   "cell_type": "markdown",
   "metadata": {},
   "source": [
    "* The AKA names still have missing entries. We will replace those with the DBA name because we will need those for our recommendation map later on, and it make more sense to display the AKA names for the users. However will be  mostly sticking to the DBA Name when referring to establishments.\n",
    "* The Lisence Number is missing for some entries. Seeing as it is not essential in our main analysis we will not pay attention to it for now.\n",
    "* The missing Zip entries are not important as we have enough information regarding location (latitude, longitude, community area and address). Hence we can safely drop this column.\n",
    "* The number of missing neighbourhoods is quite big. Hence, we may drop that column as well.\n",
    "* We will try to recover the missing facility type from the restaurant's name using other entries where the name is the same and the type is filled in.\n",
    "* We will see if the missing violations entries are consistent and have something to do with the inspection type and inspection results.\n",
    "* The fraction of the data with missing Inspection Type represent a really small fraction in our dataset. Hence we can safely drop those entries.\n",
    "* Missing values of Risk is the only ones that might hinder our analysis. We will try to recover those using the restaurant's name and other filled in entries. For the values that we cannot recover, we drop the corresponding entries."
   ]
  },
  {
   "cell_type": "markdown",
   "metadata": {},
   "source": [
    "### D. Drop unneeded columns"
   ]
  },
  {
   "cell_type": "code",
   "execution_count": 78,
   "metadata": {},
   "outputs": [
    {
     "ename": "KeyError",
     "evalue": "\"['Neighbourhood' 'Zip'] not found in axis\"",
     "output_type": "error",
     "traceback": [
      "\u001b[0;31m---------------------------------------------------------------------------\u001b[0m",
      "\u001b[0;31mKeyError\u001b[0m                                  Traceback (most recent call last)",
      "\u001b[0;32m<ipython-input-78-365029421a22>\u001b[0m in \u001b[0;36m<module>\u001b[0;34m\u001b[0m\n\u001b[1;32m      1\u001b[0m \u001b[0;31m# drop neighbourhood and zip columns\u001b[0m\u001b[0;34m\u001b[0m\u001b[0;34m\u001b[0m\u001b[0;34m\u001b[0m\u001b[0m\n\u001b[0;32m----> 2\u001b[0;31m \u001b[0minspections\u001b[0m \u001b[0;34m=\u001b[0m \u001b[0minspections\u001b[0m\u001b[0;34m.\u001b[0m\u001b[0mdrop\u001b[0m\u001b[0;34m(\u001b[0m\u001b[0mcolumns\u001b[0m\u001b[0;34m=\u001b[0m\u001b[0;34m[\u001b[0m\u001b[0;34m'Neighbourhood'\u001b[0m\u001b[0;34m,\u001b[0m\u001b[0;34m'Zip'\u001b[0m\u001b[0;34m]\u001b[0m\u001b[0;34m)\u001b[0m\u001b[0;34m\u001b[0m\u001b[0;34m\u001b[0m\u001b[0m\n\u001b[0m",
      "\u001b[0;32m~/anaconda/lib/python3.6/site-packages/pandas/core/frame.py\u001b[0m in \u001b[0;36mdrop\u001b[0;34m(self, labels, axis, index, columns, level, inplace, errors)\u001b[0m\n\u001b[1;32m   4115\u001b[0m             \u001b[0mlevel\u001b[0m\u001b[0;34m=\u001b[0m\u001b[0mlevel\u001b[0m\u001b[0;34m,\u001b[0m\u001b[0;34m\u001b[0m\u001b[0;34m\u001b[0m\u001b[0m\n\u001b[1;32m   4116\u001b[0m             \u001b[0minplace\u001b[0m\u001b[0;34m=\u001b[0m\u001b[0minplace\u001b[0m\u001b[0;34m,\u001b[0m\u001b[0;34m\u001b[0m\u001b[0;34m\u001b[0m\u001b[0m\n\u001b[0;32m-> 4117\u001b[0;31m             \u001b[0merrors\u001b[0m\u001b[0;34m=\u001b[0m\u001b[0merrors\u001b[0m\u001b[0;34m,\u001b[0m\u001b[0;34m\u001b[0m\u001b[0;34m\u001b[0m\u001b[0m\n\u001b[0m\u001b[1;32m   4118\u001b[0m         )\n\u001b[1;32m   4119\u001b[0m \u001b[0;34m\u001b[0m\u001b[0m\n",
      "\u001b[0;32m~/anaconda/lib/python3.6/site-packages/pandas/core/generic.py\u001b[0m in \u001b[0;36mdrop\u001b[0;34m(self, labels, axis, index, columns, level, inplace, errors)\u001b[0m\n\u001b[1;32m   3912\u001b[0m         \u001b[0;32mfor\u001b[0m \u001b[0maxis\u001b[0m\u001b[0;34m,\u001b[0m \u001b[0mlabels\u001b[0m \u001b[0;32min\u001b[0m \u001b[0maxes\u001b[0m\u001b[0;34m.\u001b[0m\u001b[0mitems\u001b[0m\u001b[0;34m(\u001b[0m\u001b[0;34m)\u001b[0m\u001b[0;34m:\u001b[0m\u001b[0;34m\u001b[0m\u001b[0;34m\u001b[0m\u001b[0m\n\u001b[1;32m   3913\u001b[0m             \u001b[0;32mif\u001b[0m \u001b[0mlabels\u001b[0m \u001b[0;32mis\u001b[0m \u001b[0;32mnot\u001b[0m \u001b[0;32mNone\u001b[0m\u001b[0;34m:\u001b[0m\u001b[0;34m\u001b[0m\u001b[0;34m\u001b[0m\u001b[0m\n\u001b[0;32m-> 3914\u001b[0;31m                 \u001b[0mobj\u001b[0m \u001b[0;34m=\u001b[0m \u001b[0mobj\u001b[0m\u001b[0;34m.\u001b[0m\u001b[0m_drop_axis\u001b[0m\u001b[0;34m(\u001b[0m\u001b[0mlabels\u001b[0m\u001b[0;34m,\u001b[0m \u001b[0maxis\u001b[0m\u001b[0;34m,\u001b[0m \u001b[0mlevel\u001b[0m\u001b[0;34m=\u001b[0m\u001b[0mlevel\u001b[0m\u001b[0;34m,\u001b[0m \u001b[0merrors\u001b[0m\u001b[0;34m=\u001b[0m\u001b[0merrors\u001b[0m\u001b[0;34m)\u001b[0m\u001b[0;34m\u001b[0m\u001b[0;34m\u001b[0m\u001b[0m\n\u001b[0m\u001b[1;32m   3915\u001b[0m \u001b[0;34m\u001b[0m\u001b[0m\n\u001b[1;32m   3916\u001b[0m         \u001b[0;32mif\u001b[0m \u001b[0minplace\u001b[0m\u001b[0;34m:\u001b[0m\u001b[0;34m\u001b[0m\u001b[0;34m\u001b[0m\u001b[0m\n",
      "\u001b[0;32m~/anaconda/lib/python3.6/site-packages/pandas/core/generic.py\u001b[0m in \u001b[0;36m_drop_axis\u001b[0;34m(self, labels, axis, level, errors)\u001b[0m\n\u001b[1;32m   3944\u001b[0m                 \u001b[0mnew_axis\u001b[0m \u001b[0;34m=\u001b[0m \u001b[0maxis\u001b[0m\u001b[0;34m.\u001b[0m\u001b[0mdrop\u001b[0m\u001b[0;34m(\u001b[0m\u001b[0mlabels\u001b[0m\u001b[0;34m,\u001b[0m \u001b[0mlevel\u001b[0m\u001b[0;34m=\u001b[0m\u001b[0mlevel\u001b[0m\u001b[0;34m,\u001b[0m \u001b[0merrors\u001b[0m\u001b[0;34m=\u001b[0m\u001b[0merrors\u001b[0m\u001b[0;34m)\u001b[0m\u001b[0;34m\u001b[0m\u001b[0;34m\u001b[0m\u001b[0m\n\u001b[1;32m   3945\u001b[0m             \u001b[0;32melse\u001b[0m\u001b[0;34m:\u001b[0m\u001b[0;34m\u001b[0m\u001b[0;34m\u001b[0m\u001b[0m\n\u001b[0;32m-> 3946\u001b[0;31m                 \u001b[0mnew_axis\u001b[0m \u001b[0;34m=\u001b[0m \u001b[0maxis\u001b[0m\u001b[0;34m.\u001b[0m\u001b[0mdrop\u001b[0m\u001b[0;34m(\u001b[0m\u001b[0mlabels\u001b[0m\u001b[0;34m,\u001b[0m \u001b[0merrors\u001b[0m\u001b[0;34m=\u001b[0m\u001b[0merrors\u001b[0m\u001b[0;34m)\u001b[0m\u001b[0;34m\u001b[0m\u001b[0;34m\u001b[0m\u001b[0m\n\u001b[0m\u001b[1;32m   3947\u001b[0m             \u001b[0mresult\u001b[0m \u001b[0;34m=\u001b[0m \u001b[0mself\u001b[0m\u001b[0;34m.\u001b[0m\u001b[0mreindex\u001b[0m\u001b[0;34m(\u001b[0m\u001b[0;34m**\u001b[0m\u001b[0;34m{\u001b[0m\u001b[0maxis_name\u001b[0m\u001b[0;34m:\u001b[0m \u001b[0mnew_axis\u001b[0m\u001b[0;34m}\u001b[0m\u001b[0;34m)\u001b[0m\u001b[0;34m\u001b[0m\u001b[0;34m\u001b[0m\u001b[0m\n\u001b[1;32m   3948\u001b[0m \u001b[0;34m\u001b[0m\u001b[0m\n",
      "\u001b[0;32m~/anaconda/lib/python3.6/site-packages/pandas/core/indexes/base.py\u001b[0m in \u001b[0;36mdrop\u001b[0;34m(self, labels, errors)\u001b[0m\n\u001b[1;32m   5338\u001b[0m         \u001b[0;32mif\u001b[0m \u001b[0mmask\u001b[0m\u001b[0;34m.\u001b[0m\u001b[0many\u001b[0m\u001b[0;34m(\u001b[0m\u001b[0;34m)\u001b[0m\u001b[0;34m:\u001b[0m\u001b[0;34m\u001b[0m\u001b[0;34m\u001b[0m\u001b[0m\n\u001b[1;32m   5339\u001b[0m             \u001b[0;32mif\u001b[0m \u001b[0merrors\u001b[0m \u001b[0;34m!=\u001b[0m \u001b[0;34m\"ignore\"\u001b[0m\u001b[0;34m:\u001b[0m\u001b[0;34m\u001b[0m\u001b[0;34m\u001b[0m\u001b[0m\n\u001b[0;32m-> 5340\u001b[0;31m                 \u001b[0;32mraise\u001b[0m \u001b[0mKeyError\u001b[0m\u001b[0;34m(\u001b[0m\u001b[0;34m\"{} not found in axis\"\u001b[0m\u001b[0;34m.\u001b[0m\u001b[0mformat\u001b[0m\u001b[0;34m(\u001b[0m\u001b[0mlabels\u001b[0m\u001b[0;34m[\u001b[0m\u001b[0mmask\u001b[0m\u001b[0;34m]\u001b[0m\u001b[0;34m)\u001b[0m\u001b[0;34m)\u001b[0m\u001b[0;34m\u001b[0m\u001b[0;34m\u001b[0m\u001b[0m\n\u001b[0m\u001b[1;32m   5341\u001b[0m             \u001b[0mindexer\u001b[0m \u001b[0;34m=\u001b[0m \u001b[0mindexer\u001b[0m\u001b[0;34m[\u001b[0m\u001b[0;34m~\u001b[0m\u001b[0mmask\u001b[0m\u001b[0;34m]\u001b[0m\u001b[0;34m\u001b[0m\u001b[0;34m\u001b[0m\u001b[0m\n\u001b[1;32m   5342\u001b[0m         \u001b[0;32mreturn\u001b[0m \u001b[0mself\u001b[0m\u001b[0;34m.\u001b[0m\u001b[0mdelete\u001b[0m\u001b[0;34m(\u001b[0m\u001b[0mindexer\u001b[0m\u001b[0;34m)\u001b[0m\u001b[0;34m\u001b[0m\u001b[0;34m\u001b[0m\u001b[0m\n",
      "\u001b[0;31mKeyError\u001b[0m: \"['Neighbourhood' 'Zip'] not found in axis\""
     ]
    }
   ],
   "source": [
    "# drop neighbourhood and zip columns\n",
    "inspections = inspections.drop(columns=['Neighbourhood','Zip'])"
   ]
  },
  {
   "cell_type": "markdown",
   "metadata": {},
   "source": [
    "### E. Clean Facility Type column"
   ]
  },
  {
   "cell_type": "markdown",
   "metadata": {},
   "source": [
    "We first examine the facility type entries."
   ]
  },
  {
   "cell_type": "code",
   "execution_count": 93,
   "metadata": {},
   "outputs": [
    {
     "data": {
      "text/plain": [
       "array(['restaurant', 'nan', 'grocery store',\n",
       "       \"children's services facility\", 'coffee shop', 'liquor',\n",
       "       'catering', 'daycare (2 - 6 years)',\n",
       "       'daycare above and under 2 years', 'bakery', 'airport lounge',\n",
       "       \"o'hare kiosk\", 'lounge', 'store', 'beverage/silverware warehouse',\n",
       "       'vending machine', 'kiosk', 'mobile food dispenser',\n",
       "       'temporary kiosk', 'school',\n",
       "       'pop-up food establishment user-tier ii',\n",
       "       '15 months to 5 years old', 'daycare combo 1586', 'live poultry',\n",
       "       'convenience', 'gas station/grocery',\n",
       "       'gas station/convenience store', 'daycare (under 2 years)',\n",
       "       'coffee cart', 'day care combo (1586)', 'charter school',\n",
       "       \"1023 children's service s facility\", 'long term care',\n",
       "       'liquor/coffee kiosk', 'mobile food preparer', 'mobile food',\n",
       "       'mobile prepared food vendor', 'shared kitchen user (long term)',\n",
       "       'wholesale', 'pop-up establishment host-tier ii',\n",
       "       'teaching school', 'convenience store', 'french market space',\n",
       "       'hot dog cart', 'ice cream', 'ice cream parlor', 'theater',\n",
       "       'special event', 'tavern', 'pateria',\n",
       "       'mobile frozen desserts vendor', 'shared kitchen',\n",
       "       'shared kitchen user (short term)', 'catering and wholesale',\n",
       "       'mobile dessert vendor', 'candy maker', 'candy', 'incubator',\n",
       "       'bar', 'bakery/deli', 'brewery', 'hospital', 'restaurant/bar',\n",
       "       'museum/gallery', 'gym', 'pool', 'banquet', 'golden diner',\n",
       "       'grocery store /pharmacy', 'assisted living', 'cooking school',\n",
       "       'private school', 'exercise and nutrition bar', 'herbalize',\n",
       "       'gas station', 'retail', 'daycare (2 years)',\n",
       "       'chicago park district', 'charter school/cafeteria',\n",
       "       'grocery(sushi prep)', 'convenient store', 'sushi counter',\n",
       "       'daycare night', 'after school program', 'banquet hall',\n",
       "       'dollar tree', 'navy pier kiosk', 'shelter', 'grocery/restaurant',\n",
       "       'nursing home', 'fitness center', 'daycare', 'gelato shop',\n",
       "       'event space', 'art gallery w/wine and beer',\n",
       "       'grocery & restaurant', 'commissary restaurant',\n",
       "       'restaurant/liquor', 'dollar store with grocery',\n",
       "       'grocery store/cooking school', 'church (special events)',\n",
       "       'theatre', 'ice cream shop', 'herbal life', 'riverbank cafe',\n",
       "       'wrigley rooftop', 'rooftop', 'rooftops', 'movie theatre',\n",
       "       'np-kiosk', 'commissary', 'catered liquor', 'senior day care',\n",
       "       'grocery store/bakery', 'grocery/cafe', 'smoothie bar',\n",
       "       'candy/gelato', 'roof tops', 'pharmacy', 'other', 'roof top',\n",
       "       'rest/rooftop', 'pop-up food establishment user-tier iii',\n",
       "       \"1023-children's services facility\", 'distribution center',\n",
       "       'banquet/kitchen', 'movie theater', 'mobile food truck',\n",
       "       'grocery and butcher', 'grocery/butcher', 'stadium', 'deli',\n",
       "       'culinary school', 'grocery/tavern', 'church kitchen',\n",
       "       'deli/bakery', 'weight loss program',\n",
       "       \"1023 children's services facility\", 'grocery/deli',\n",
       "       'long-term care', 'long term care facility', 'tavern/store',\n",
       "       'gas station /subway mini mart.', 'grocery/service gas station',\n",
       "       'supportive living', 'northerly island', 'restaurant/gas station',\n",
       "       'frozen dessert pushcarts', 'church', 'tea brewing',\n",
       "       'health/ juice bar', '(gas station)', 'banquet hall/catering',\n",
       "       'poultry slaughter', 'custom poultry slaughter',\n",
       "       'mobile frozen dessert disp/non-motorized', 'tea store',\n",
       "       'retail store offers cooking classes', 'dining hall',\n",
       "       'theater & restaurant', 'gym store', 'church/special events',\n",
       "       'internet cafe', 'adult daycare', 'slaughter house/ grocery',\n",
       "       'cat/liquor', 'cafeteria', 'grocery', 'grocery/bakery',\n",
       "       'wrigley roof top', 'culinary class rooms', 'college',\n",
       "       'helicopter terminal', 'candy shop', 'health care store',\n",
       "       \"1023 children's service facility\", 'illegal vendor',\n",
       "       'day care 2-14', 'day care', 'mobile desserts vendor',\n",
       "       'grocery store/taqueria', '1475 liquor', 'dollar store',\n",
       "       'mobilprepared food vendor', 'food pantry', 'chinese herbs',\n",
       "       'vending commissary', 'charter school cafeteria',\n",
       "       'restaurant/bakery', 'assisted living facility',\n",
       "       'restaurant/grocery store', 'public school', 'event vent',\n",
       "       'donut shop', \"farmer's market\", 'bakery/ restaurant',\n",
       "       'daycare 2-6, under 6', 'main kitchen', 'herbal medicine',\n",
       "       'employee kitchen', 'pateria /decream shop', 'bakery/restaurant',\n",
       "       'tavern grill', 'prep inside school', 'grocery store/ restaurant',\n",
       "       'school cafeteria', 'grocery(gas station)',\n",
       "       'long-term care facility', 'banquet room',\n",
       "       'grocery store/gas station', 'brewpub',\n",
       "       'supportive living facility', 'restaurant/hospital',\n",
       "       'day care 1023', '1005 nursing home', 'tobacco store',\n",
       "       'coffee roaster', 'distributor', 'grocery/ restaurant',\n",
       "       'video store', 'daycare combo', 'juice bar',\n",
       "       'packaged health foods', 'liquor consumption on premises.',\n",
       "       'mexican candy store', 'night club', 'tavern-liquor',\n",
       "       'culinary arts school', 'pantry', 'peddler', 'cafe/store',\n",
       "       'popcorn shop', 'banquet facility', 'animal shelter cafe permit',\n",
       "       'rooftop patio', 'rehab center', 'drug treatment facility',\n",
       "       'grocery/gas station', 'daycare 1586', 'fitness studio',\n",
       "       'produce stand', 'produce vendor', 'gas station/store',\n",
       "       'drug store', 'assisted living senior care', 'after school care',\n",
       "       'room service', 'banquets', 'golf course', 'banquet dining',\n",
       "       'riverbank', 'youth housing', 'banquets/room service', 'hotel',\n",
       "       'a-not-for-profit chef training program',\n",
       "       'restaurant.banquet halls', 'grocery/dollar store',\n",
       "       'city of chicago college', 'charity aid kitchen', 'herbarial',\n",
       "       'pastry school', 'prepackaged foods', 'shakes/teas',\n",
       "       'clothing store', 'shuffleboard club with bar', 'coffee kiosk',\n",
       "       'warehouse', 'push carts', 'butcher shop', 'university cafeteria',\n",
       "       'laundromat', 'daycare 2 yrs to 12 yrs', 'herbalize store',\n",
       "       'cold/frozen food storage', 'rest/gym', 'furniture store',\n",
       "       'grocery& restaurant', 'gas station/mini mart',\n",
       "       'juice and salad bar', 'before and after school program',\n",
       "       'herbal life shop', 'nutrition store', 'tavern/restaurant',\n",
       "       'candy store', 'meat packing', 'lounge/banquet hall',\n",
       "       'alternative school', 'fish market', 'gas station/food',\n",
       "       'retail wine/wine bar', 'spa', 'mobile frozen dessert vendor',\n",
       "       'banquet rooms', 'popcorn corn', 'hostel', 'herbal drinks',\n",
       "       'coffee  shop', 'herbalize nutrition', 'liquor brewery tasting',\n",
       "       'gift shop', 'summer feeding prep area', 'convenience/drug store',\n",
       "       'rest/grocery', 'deli/grocery store', 'limited business',\n",
       "       'wholesale & retail', 'grocery/drug store',\n",
       "       'mobile frozen desserts dispenser-non-motorized',\n",
       "       'frozen desserts dispenser-non-motorized', 'herbalize/rumba',\n",
       "       'restaurant(protein shake bar)', 'pre packaged', 'hot dog station',\n",
       "       'drug store/w/ food', 'kitchen demo', 'restaurant/bar/theater',\n",
       "       'truck', 'restaurant and liquor', 'coffee/tea',\n",
       "       \"children's services  facility\", 'retail store', 'health center',\n",
       "       'daycare 6 was-5yrs', 'golf course concession stand',\n",
       "       'commissary for soft serve ice cream trucks',\n",
       "       'dollar & grocery store', 'social club', 'gas', 'newsstand',\n",
       "       'gas station/restaurant', 'snack shop', 'smokehouse', '1023',\n",
       "       'tap room/tavern/liquor store', 'art gallery',\n",
       "       'mobile frozen dessert dispenser_non  motorized.',\n",
       "       'frozen desserts dispenser -non motorized',\n",
       "       'mobile frozen desserts dispenser-non-motor',\n",
       "       'mobile frozen desserts dispenser-non- motorized',\n",
       "       'protein shake bar', 'gas station/store grocery', 'liquor store',\n",
       "       'herbal', 'drug/food store', 'service bar/theatre',\n",
       "       'retail food/gas station', 'grocery store / gas station',\n",
       "       'urban farm', 'massage bar', 'cell phone store', 'herbal remedy',\n",
       "       'grocery store/deli', 'nutrition/herbalize',\n",
       "       'convenience/gas station', 'adult family care center',\n",
       "       'bowling lanes/banquets', '(convenience store)', 'unused storage',\n",
       "       'packaged liquor', 'mobile food desserts vendor',\n",
       "       'grocery/liquor store', 'drug/grocery store', 'vfw hall',\n",
       "       'gas station/ grocery store', 'wine store',\n",
       "       'packaged food distribution', 'music venue', 'bakery/grocery',\n",
       "       'health center/nutrition classes', 'restaurant/grocery',\n",
       "       'watermelon house', 'bar/grill', '1584-day care above 2 years',\n",
       "       'catering/cafe', 'pharmacy/grocery', 'drug store/grocery',\n",
       "       'wine tasting bar', 'day spa', 'coffee', 'catered events',\n",
       "       'children activity facility', 'non -profit',\n",
       "       'gas station /grocery', 'repackaging plant', 'theater/bar',\n",
       "       'book store', 'restaurant and bar', 'car wash', 'cafe',\n",
       "       'tent restaurant', 'tavern/1006', 'service gas station',\n",
       "       'herbal store', 'boys and girls club', 'tavern/bar',\n",
       "       'liquor store/bar', 'grocery/taqueria', 'blockbuster video',\n",
       "       'summer feeding', 'church/day care', 'mobil food 1315',\n",
       "       'nail shop', 'dollar store selling grocery',\n",
       "       'non-for profit basement kit', 'not for profit', 'live butcher',\n",
       "       'meat market', 'shared kitchen user (long them)',\n",
       "       'food pantry/church', 'church/after school program',\n",
       "       'unlicensed facility', 'general store', 'hooka bar', 'kids cafe',\n",
       "       'prepackage meal distributor (1006 retail)',\n",
       "       'gift/card shop with candy', 'coffee vending machine',\n",
       "       'grocery/liquor', 'soup kitchen', 'hooka lounge', 'religious',\n",
       "       'tavern/liquor', 'wholesale bakery', \"kids cafe'\"], dtype=object)"
      ]
     },
     "execution_count": 93,
     "metadata": {},
     "output_type": "execute_result"
    }
   ],
   "source": [
    "inspections['Facility Type'].unique()"
   ]
  },
  {
   "cell_type": "markdown",
   "metadata": {},
   "source": [
    "We notice that some facility types are missing, and that some establishments have multiple facility types. Moreover, there seems to be too many facility types and some of them are misspelled. \n",
    "\n",
    "Let us first limit the number of facility type per establishment to 1 and correct spelling mistakes."
   ]
  },
  {
   "cell_type": "code",
   "execution_count": 94,
   "metadata": {},
   "outputs": [],
   "source": [
    "spell = Speller(lang='en')\n",
    "inspections['Facility Type'] = inspections['Facility Type'].str.lower().apply(lambda x: spell(str(x))).apply(lambda x: re.sub(',|&|;','/',str(x)).split('/')[0])"
   ]
  },
  {
   "cell_type": "markdown",
   "metadata": {},
   "source": [
    "Now let us see if one establishment can have multiple facility types for each inspection."
   ]
  },
  {
   "cell_type": "code",
   "execution_count": 95,
   "metadata": {},
   "outputs": [
    {
     "name": "stderr",
     "output_type": "stream",
     "text": [
      "/Users/andrealphonse/anaconda/lib/python3.6/site-packages/ipykernel_launcher.py:5: FutureWarning: using a dict on a Series for aggregation\n",
      "is deprecated and will be removed in a future version. Use                 named aggregation instead.\n",
      "\n",
      "    >>> grouper.agg(name_1=func_1, name_2=func_2)\n",
      "\n",
      "  \"\"\"\n"
     ]
    },
    {
     "name": "stdout",
     "output_type": "stream",
     "text": [
      "Possible number of different Facility Types for some establishment :  [1 2 4 3 6 7 5 9]\n"
     ]
    },
    {
     "data": {
      "text/html": [
       "<div>\n",
       "<style scoped>\n",
       "    .dataframe tbody tr th:only-of-type {\n",
       "        vertical-align: middle;\n",
       "    }\n",
       "\n",
       "    .dataframe tbody tr th {\n",
       "        vertical-align: top;\n",
       "    }\n",
       "\n",
       "    .dataframe thead th {\n",
       "        text-align: right;\n",
       "    }\n",
       "</style>\n",
       "<table border=\"1\" class=\"dataframe\">\n",
       "  <thead>\n",
       "    <tr style=\"text-align: right;\">\n",
       "      <th></th>\n",
       "      <th>nbr_types</th>\n",
       "      <th>possible_types</th>\n",
       "    </tr>\n",
       "    <tr>\n",
       "      <th>DBA Name</th>\n",
       "      <th></th>\n",
       "      <th></th>\n",
       "    </tr>\n",
       "  </thead>\n",
       "  <tbody>\n",
       "    <tr>\n",
       "      <th>7-ELEVEN</th>\n",
       "      <td>4</td>\n",
       "      <td>{grocery store, nan, liquor, restaurant}</td>\n",
       "    </tr>\n",
       "    <tr>\n",
       "      <th>ALASKA PALETERIA Y NEVERIA</th>\n",
       "      <td>3</td>\n",
       "      <td>{frozen desserts dispenser-non-motorized, mobi...</td>\n",
       "    </tr>\n",
       "    <tr>\n",
       "      <th>ALL ABOUT KIDS LEARNING ACADEMY</th>\n",
       "      <td>3</td>\n",
       "      <td>{nan, children's services facility, daycare co...</td>\n",
       "    </tr>\n",
       "    <tr>\n",
       "      <th>ARAMARK</th>\n",
       "      <td>6</td>\n",
       "      <td>{school, nan, special event, northerly island,...</td>\n",
       "    </tr>\n",
       "    <tr>\n",
       "      <th>ARAMARK EDUCATION SERVICES</th>\n",
       "      <td>3</td>\n",
       "      <td>{school, restaurant, charter school}</td>\n",
       "    </tr>\n",
       "  </tbody>\n",
       "</table>\n",
       "</div>"
      ],
      "text/plain": [
       "                                 nbr_types  \\\n",
       "DBA Name                                     \n",
       "7-ELEVEN                                 4   \n",
       "ALASKA PALETERIA Y NEVERIA               3   \n",
       "ALL ABOUT KIDS LEARNING ACADEMY          3   \n",
       "ARAMARK                                  6   \n",
       "ARAMARK EDUCATION SERVICES               3   \n",
       "\n",
       "                                                                    possible_types  \n",
       "DBA Name                                                                            \n",
       "7-ELEVEN                                  {grocery store, nan, liquor, restaurant}  \n",
       "ALASKA PALETERIA Y NEVERIA       {frozen desserts dispenser-non-motorized, mobi...  \n",
       "ALL ABOUT KIDS LEARNING ACADEMY  {nan, children's services facility, daycare co...  \n",
       "ARAMARK                          {school, nan, special event, northerly island,...  \n",
       "ARAMARK EDUCATION SERVICES                    {school, restaurant, charter school}  "
      ]
     },
     "execution_count": 95,
     "metadata": {},
     "output_type": "execute_result"
    }
   ],
   "source": [
    "#we have to declare this function to be able to use it into aggregate\n",
    "def to_list(a):\n",
    "    return set(a)\n",
    "establisment_facility_types = inspections[['DBA Name','Facility Type']].drop_duplicates().groupby('DBA Name')['Facility Type'].agg({'nbr_types': len, 'possible_types': to_list})\n",
    "print(\"Possible number of different Facility Types for some establishment : \", establisment_facility_types['nbr_types'].unique())\n",
    "establisment_facility_types[establisment_facility_types['nbr_types']>2].head()"
   ]
  },
  {
   "cell_type": "markdown",
   "metadata": {},
   "source": [
    "We can see that some of the establishments have two possible Facility types, in this case we replace the rows which have null value with one of the possible types."
   ]
  },
  {
   "cell_type": "code",
   "execution_count": 96,
   "metadata": {},
   "outputs": [],
   "source": [
    "#First remove NAN from sets\n",
    "establisment_facility_types['possible_types'] = establisment_facility_types.apply(\n",
    "    lambda row: {x for x in row['possible_types'] if pd.notna(x)},\n",
    "    axis=1\n",
    ") \n",
    "#Then keep only one type per establishment\n",
    "establisment_facility_types['possible_types'] = establisment_facility_types.apply(\n",
    "    lambda row: next(iter(row['possible_types'])) if len(row['possible_types'])!=0 else np.NaN,\n",
    "    axis=1\n",
    ") \n",
    "establisment_types_dict=establisment_facility_types['possible_types'].to_dict()\n",
    "#Assign a type to each missing value\n",
    "inspections['Facility Type'] = inspections.apply(\n",
    "    lambda row: establisment_types_dict[row['DBA Name']] if pd.isna(row['Facility Type']) else row['Facility Type'],\n",
    "    axis=1\n",
    ")"
   ]
  },
  {
   "cell_type": "code",
   "execution_count": 109,
   "metadata": {},
   "outputs": [
    {
     "name": "stdout",
     "output_type": "stream",
     "text": [
      "2.4538968834451866% of entries still have missing facility types.\n"
     ]
    }
   ],
   "source": [
    "print('{}% of entries still have missing facility types.'.format(100 * len(inspections[inspections['Facility Type'] == 'nan'])/len(inspections)))"
   ]
  },
  {
   "cell_type": "markdown",
   "metadata": {},
   "source": [
    "We can now proceed to replace all missing facility types with 'other'."
   ]
  },
  {
   "cell_type": "code",
   "execution_count": 116,
   "metadata": {},
   "outputs": [],
   "source": [
    "inspections['Facility Type'] = inspections.apply(\n",
    "    lambda row: 'other' if row['Facility Type'] == 'nan' else row['Facility Type'],\n",
    "    axis=1\n",
    ")"
   ]
  },
  {
   "cell_type": "code",
   "execution_count": 117,
   "metadata": {},
   "outputs": [
    {
     "data": {
      "text/plain": [
       "0                        restaurant\n",
       "1                             other\n",
       "2                     grocery store\n",
       "3      children's services facility\n",
       "4                       coffee shop\n",
       "                   ...             \n",
       "341                    soup kitchen\n",
       "342                    hooka lounge\n",
       "343                       religious\n",
       "344                wholesale bakery\n",
       "345                      kids cafe'\n",
       "Length: 346, dtype: object"
      ]
     },
     "execution_count": 117,
     "metadata": {},
     "output_type": "execute_result"
    }
   ],
   "source": [
    "unique_types = pd.Series(inspections['Facility Type'].unique())\n",
    "unique_types = pd.Series(unique_types.apply(lambda x: re.sub(',|&|;','/',str(x)).split('/')).explode().unique())\n",
    "unique_types.apply(lambda x: str(x).strip())"
   ]
  },
  {
   "cell_type": "markdown",
   "metadata": {},
   "source": [
    "There are 346 facility types in the dataframe. Let's see if we can cluster some of them."
   ]
  },
  {
   "cell_type": "code",
   "execution_count": 118,
   "metadata": {},
   "outputs": [],
   "source": [
    "school_vocab = ['school', 'under 6', 'university', 'cafeteria', 'training program', 'kids', 'children', 'daycare', 'years', 'school cafeteria', 'college', 'class', 'day care']\n",
    "restaurant_vocab = ['restaurant', 'smokehouse', 'diner', 'breakfast', 'lunch', 'grill', 'sushi','banquet', 'dining', 'taqueria']\n",
    "homes_vocab = ['long term care','assisted living', 'nursing', 'care', 'supportive']\n",
    "religious_vocab = ['religious', 'religion', 'church', 'synaguogue', 'temple']\n",
    "\n",
    "coffee_vocab = ['coffee', 'cafe']\n",
    "catering_vocab = ['cater']\n",
    "bakery_vocab = ['bake', 'patisserie', 'boulangerie']\n",
    "market_vocab = ['nutrition store', 'grocery', 'french market space', 'dollar store', 'butcher', 'deli', 'farmer\\'s market', 'packaged health foods', 'fish market', 'meat market']\n",
    "\n",
    "kiosk_vocab = ['butcher', 'snack', 'dollar', 'grocery', 'frozen food storage', 'meat packing', 'food', 'market', 'packaged', 'popcorn', 'pantry', 'store', 'produce', 'kiosk', 'convenience', 'commiasary','gas station', 'wholesale', 'deli', 'convenient', 'retail', 'dollar tree']\n",
    "dessert_vocab = ['ice cream', 'dessert', 'paleteria', 'candy', 'gelato', 'donut']\n",
    "health_vocab = ['gym', 'exercise', 'juice and salad bar', 'nutrition','herbal', 'fitness', 'drug', 'rehab', 'herbalife', 'weight', 'herb', 'health', 'decream']\n",
    "medical_vocab = ['pharmacy']\n",
    "\n",
    "vending_vocab = ['vend', 'pop-up', 'mobile', 'cart', 'dispenser', 'truck']\n",
    "drinks_vocab = ['liquor', 'music', 'bar', 'pub', 'beverage', 'club', 'roof', 'tavern', 'brewery', 'wine', 'beer', 'lounge', 'tea', 'shakes']\n",
    "live_vocab =['live', 'poultry', 'slaughter', 'farm']\n",
    "kitchen_vocab = ['kitchen']\n",
    "\n",
    "distributor_vocab = ['distributor', 'distribution']\n",
    "shelter_vocab = ['shelter', 'youth housing']\n",
    "# other_vocab = ['warehouse', 'other', 'theater', 'golf', 'laundromat', 'hotel', 'riverbank', 'theatre', 'event', 'special', 'museum', 'hospital', 'pool', 'art', 'airport', 'gallery', 'terminal']\n"
   ]
  },
  {
   "cell_type": "code",
   "execution_count": 119,
   "metadata": {
    "scrolled": true
   },
   "outputs": [],
   "source": [
    "def extract_label(unique_labels, vocab,mssg):\n",
    "    labels = unique_types.apply(lambda x: x if bool(re.search('|'.join(vocab), x)) else np.nan).dropna()\n",
    "    print(labels)\n",
    "    print('{}: {}'.format(mssg, labels.size))\n",
    "    unique_labels = unique_types.drop(labels=labels.index,errors='ignore')\n",
    "    return unique_labels, labels"
   ]
  },
  {
   "cell_type": "code",
   "execution_count": 120,
   "metadata": {},
   "outputs": [
    {
     "name": "stdout",
     "output_type": "stream",
     "text": [
      "3                children's services facility\n",
      "7                       daycare (2 - 6 years)\n",
      "8             daycare above and under 2 years\n",
      "19                                     school\n",
      "21                   15 months to 5 years old\n",
      "22                         daycare combo 1586\n",
      "26                    daycare (under 2 years)\n",
      "28                      day care combo (1586)\n",
      "29                             charter school\n",
      "30         1023 children's service s facility\n",
      "38                            teaching school\n",
      "66                             cooking school\n",
      "67                             private school\n",
      "71                          daycare (2 years)\n",
      "76                              daycare night\n",
      "77                       after school program\n",
      "85                                    daycare\n",
      "104                           senior day care\n",
      "111         1023-children's services facility\n",
      "118                           culinary school\n",
      "121         1023 children's services facility\n",
      "136       retail store offers cooking classes\n",
      "141                             adult daycare\n",
      "144                                 cafeteria\n",
      "146                      culinary class rooms\n",
      "147                                   college\n",
      "151          1023 children's service facility\n",
      "153                             day care 2-14\n",
      "154                                  day care\n",
      "162                  charter school cafeteria\n",
      "164                             public school\n",
      "168                               daycare 2-6\n",
      "174                        prep inside school\n",
      "175                          school cafeteria\n",
      "181                             day care 1023\n",
      "187                             daycare combo\n",
      "194                      culinary arts school\n",
      "204                              daycare 1586\n",
      "210                         after school care\n",
      "218    a-not-for-profit chef training program\n",
      "220                   city of chicago college\n",
      "223                             pastry school\n",
      "232                      university cafeteria\n",
      "234                   daycare 2 yrs to 12 yrs\n",
      "239           before and after school program\n",
      "244                        alternative school\n",
      "269             children's services  facility\n",
      "272                        daycare 6 was-5yrs\n",
      "310               1584-day care above 2 years\n",
      "314                children activity facility\n",
      "337                                 kids cafe\n",
      "345                                kids cafe'\n",
      "dtype: object\n",
      "Number of Schools: : 52\n",
      "0                         restaurant\n",
      "62                           banquet\n",
      "63                      golden diner\n",
      "73               grocery(sushi prep)\n",
      "75                     sushi counter\n",
      "78                      banquet hall\n",
      "90             commissary restaurant\n",
      "137                      dining hall\n",
      "173                     tavern grill\n",
      "178                     banquet room\n",
      "199                 banquet facility\n",
      "212                         banquets\n",
      "214                   banquet dining\n",
      "219         restaurant.banquet halls\n",
      "249                    banquet rooms\n",
      "262    restaurant(protein shake bar)\n",
      "267            restaurant and liquor\n",
      "280                       smokehouse\n",
      "318               restaurant and bar\n",
      "320                  tent restaurant\n",
      "dtype: object\n",
      "Number of Restaurants: : 20\n",
      "31                  long term care\n",
      "65                 assisted living\n",
      "83                    nursing home\n",
      "122                 long-term care\n",
      "123        long term care facility\n",
      "125              supportive living\n",
      "150              health care store\n",
      "163       assisted living facility\n",
      "177        long-term care facility\n",
      "180     supportive living facility\n",
      "182              1005 nursing home\n",
      "209    assisted living senior care\n",
      "299       adult family care center\n",
      "dtype: object\n",
      "Number of Nursing homes: : 13\n",
      "92     church (special events)\n",
      "119             church kitchen\n",
      "128                     church\n",
      "343                  religious\n",
      "dtype: object\n",
      "Number of Religious Establishments: : 4\n",
      "4                     coffee shop\n",
      "27                    coffee cart\n",
      "96                 riverbank cafe\n",
      "140                 internet cafe\n",
      "184                coffee roaster\n",
      "197                          cafe\n",
      "200    animal shelter cafe permit\n",
      "228                  coffee kiosk\n",
      "253                  coffee  shop\n",
      "268                        coffee\n",
      "340        coffee vending machine\n",
      "dtype: object\n",
      "Number of Coffeeshops: : 11\n",
      "6                    catering\n",
      "51     catering and wholesale\n",
      "103            catered liquor\n",
      "313            catered events\n",
      "dtype: object\n",
      "Number of Caterers: : 4\n",
      "9                bakery\n",
      "344    wholesale bakery\n",
      "dtype: object\n",
      "Number of Bakeries: : 2\n",
      "2                                  grocery store\n",
      "11                                  o'hare kiosk\n",
      "13                                         store\n",
      "16                                         kiosk\n",
      "17                         mobile food dispenser\n",
      "                         ...                    \n",
      "328                 dollar store selling grocery\n",
      "331                                 live butcher\n",
      "332                                  meat market\n",
      "335                                general store\n",
      "338    prepackage meal distributor (1006 retail)\n",
      "Length: 79, dtype: object\n",
      "Number of Markets: : 79\n",
      "42                                           ice cream\n",
      "43                                    ice cream parlor\n",
      "48                       mobile frozen desserts vendor\n",
      "52                               mobile dessert vendor\n",
      "53                                         candy maker\n",
      "54                                               candy\n",
      "86                                         gelato shop\n",
      "94                                      ice cream shop\n",
      "127                           frozen dessert pushcarts\n",
      "134                         mobile frozen dessert disp\n",
      "149                                         candy shop\n",
      "155                             mobile desserts vendor\n",
      "166                                         donut shop\n",
      "248                       mobile frozen dessert vendor\n",
      "260     mobile frozen desserts dispenser-non-motorized\n",
      "261            frozen desserts dispenser-non-motorized\n",
      "274         commissary for soft serve ice cream trucks\n",
      "284    mobile frozen dessert dispenser_non  motorized.\n",
      "285           frozen desserts dispenser -non motorized\n",
      "286         mobile frozen desserts dispenser-non-motor\n",
      "287    mobile frozen desserts dispenser-non- motorized\n",
      "dtype: object\n",
      "Number of Dessert Places: : 21\n",
      "60                            gym\n",
      "68     exercise and nutrition bar\n",
      "69                      herbalize\n",
      "84                 fitness center\n",
      "95                    herbal life\n",
      "120           weight loss program\n",
      "130                        health\n",
      "160                 chinese herbs\n",
      "170               herbal medicine\n",
      "202                  rehab center\n",
      "203       drug treatment facility\n",
      "205                fitness studio\n",
      "222                     herbarial\n",
      "240              herbal life shop\n",
      "252                 herbal drinks\n",
      "254           herbalize nutrition\n",
      "271                 health center\n",
      "290                        herbal\n",
      "291                          drug\n",
      "297                 herbal remedy\n",
      "298                     nutrition\n",
      "dtype: object\n",
      "Number of Health Institutions: : 21\n",
      "107    pharmacy\n",
      "dtype: object\n",
      "Number of Pharmacies: : 1\n",
      "15                       vending machine\n",
      "37     pop-up establishment host-tier ii\n",
      "41                          hot dog cart\n",
      "152                       illegal vendor\n",
      "161                   vending commissary\n",
      "230                           push carts\n",
      "266                                truck\n",
      "dtype: object\n",
      "Number of Vending Establishments: : 7\n",
      "5                               liquor\n",
      "10                      airport lounge\n",
      "12                              lounge\n",
      "14                            beverage\n",
      "46                              tavern\n",
      "56                                 bar\n",
      "57                             brewery\n",
      "97                     wrigley rooftop\n",
      "98                             rooftop\n",
      "99                            rooftops\n",
      "105                       smoothie bar\n",
      "106                          roof tops\n",
      "108                           roof top\n",
      "129                        tea brewing\n",
      "145                   wrigley roof top\n",
      "156                        1475 liquor\n",
      "179                            brewpub\n",
      "188                          juice bar\n",
      "190    liquor consumption on premises.\n",
      "192                         night club\n",
      "193                      tavern-liquor\n",
      "201                      rooftop patio\n",
      "225                             shakes\n",
      "227         shuffleboard club with bar\n",
      "238                juice and salad bar\n",
      "255             liquor brewery tasting\n",
      "276                        social club\n",
      "288                  protein shake bar\n",
      "292                        service bar\n",
      "295                        massage bar\n",
      "308                        music venue\n",
      "311                   wine tasting bar\n",
      "323                boys and girls club\n",
      "336                          hooka bar\n",
      "342                       hooka lounge\n",
      "dtype: object\n",
      "Number of Drinks Places: : 35\n",
      "23                 live poultry\n",
      "132           poultry slaughter\n",
      "133    custom poultry slaughter\n",
      "142             slaughter house\n",
      "294                  urban farm\n",
      "dtype: object\n",
      "Number of Live Animal Sellers and Slaughterhouses: : 5\n",
      "35      shared kitchen user (long term)\n",
      "49                       shared kitchen\n",
      "50     shared kitchen user (short term)\n",
      "169                        main kitchen\n",
      "171                    employee kitchen\n",
      "221                 charity aid kitchen\n",
      "265                        kitchen demo\n",
      "333     shared kitchen user (long them)\n",
      "341                        soup kitchen\n",
      "dtype: object\n",
      "Number of Shared Kitchen: : 9\n",
      "112    distribution center\n",
      "185            distributor\n",
      "dtype: object\n",
      "Number of Distributors: : 2\n",
      "81           shelter\n",
      "216    youth housing\n",
      "dtype: object\n",
      "Number of Shelters: : 2\n"
     ]
    }
   ],
   "source": [
    "unique_types, school_labels = extract_label(unique_types, school_vocab, 'Number of Schools: ')\n",
    "unique_types, restaurant_labels = extract_label(unique_types, restaurant_vocab, 'Number of Restaurants: ')\n",
    "unique_types, homes_labels = extract_label(unique_types, homes_vocab, 'Number of Nursing homes: ')\n",
    "unique_types, religious_labels = extract_label(unique_types, religious_vocab, 'Number of Religious Establishments: ')\n",
    "\n",
    "unique_types, coffee_labels = extract_label(unique_types, coffee_vocab, 'Number of Coffeeshops: ')\n",
    "unique_types, catering_labels = extract_label(unique_types, catering_vocab, 'Number of Caterers: ')\n",
    "unique_types, bakery_labels = extract_label(unique_types, bakery_vocab, 'Number of Bakeries: ')\n",
    "unique_types, market_labels = extract_label(unique_types, market_vocab, 'Number of Markets: ')\n",
    "\n",
    "unique_types, kiosk_labels = extract_label(unique_types, kiosk_vocab, 'Number of Kiosks: ')\n",
    "unique_types, dessert_labels = extract_label(unique_types, dessert_vocab, 'Number of Dessert Places: ')\n",
    "unique_types, health_labels = extract_label(unique_types, health_vocab, 'Number of Health Institutions: ')\n",
    "unique_types, medical_labels = extract_label(unique_types, medical_vocab, 'Number of Pharmacies: ')\n",
    "\n",
    "unique_types, vending_labels = extract_label(unique_types, vending_vocab, 'Number of Vending Establishments: ')\n",
    "unique_types, drinks_labels = extract_label(unique_types, drinks_vocab, 'Number of Drinks Places: ')\n",
    "unique_types, live_labels = extract_label(unique_types, live_vocab, 'Number of Live Animal Sellers and Slaughterhouses: ')\n",
    "unique_types, kitchen_labels = extract_label(unique_types, kitchen_vocab, 'Number of Shared Kitchen: ')\n",
    "\n",
    "unique_types, distributor_labels = extract_label(unique_types, distributor_vocab, 'Number of Distributors: ')\n",
    "unique_types, shelter_labels = extract_label(unique_types, shelter_vocab, 'Number of Shelters: ')\n",
    "other_labels = unique_types\n"
   ]
  },
  {
   "cell_type": "code",
   "execution_count": 126,
   "metadata": {},
   "outputs": [],
   "source": [
    "def get_dict_from_list(labels,val):\n",
    "    return {x: val for x in labels}"
   ]
  },
  {
   "cell_type": "code",
   "execution_count": 130,
   "metadata": {},
   "outputs": [],
   "source": [
    "dict_gen_types = dict()\n",
    "\n",
    "school_dict = get_dict_from_list(school_labels,'Educational Establishment')\n",
    "dict_gen_types.update(school_dict)\n",
    "restaurant_dict = get_dict_from_list(restaurant_labels,'Restaurant')\n",
    "dict_gen_types.update(restaurant_dict)\n",
    "homes_dict = get_dict_from_list(homes_labels,'Retirement Homes')\n",
    "dict_gen_types.update(homes_dict)\n",
    "religious_dict = get_dict_from_list(religious_labels,'Religious Establishment')\n",
    "dict_gen_types.update(religious_dict)\n",
    "\n",
    "coffee_dict = get_dict_from_list(coffee_labels,'Coffeeshop')\n",
    "dict_gen_types.update(coffee_dict)\n",
    "catering_dict = get_dict_from_list(catering_labels,'Catering Establishment')\n",
    "dict_gen_types.update(catering_dict)\n",
    "bakery_dict = get_dict_from_list(bakery_labels,'Bakery')\n",
    "dict_gen_types.update(bakery_dict)\n",
    "market_dict = get_dict_from_list(market_labels,'Market')\n",
    "dict_gen_types.update(market_dict)\n",
    "\n",
    "kiosk_dict = get_dict_from_list(market_labels,'Kiosk')\n",
    "dict_gen_types.update(kiosk_dict)\n",
    "dessert_dict = get_dict_from_list(dessert_labels,'Dessert Establishment')\n",
    "dict_gen_types.update(dessert_dict)\n",
    "health_dict = get_dict_from_list(health_labels,'Health Establishment')\n",
    "dict_gen_types.update(health_dict)\n",
    "medical_dict = get_dict_from_list(medical_labels,'Medical Establishment')\n",
    "dict_gen_types.update(medical_dict)\n",
    "\n",
    "vending_dict = get_dict_from_list(vending_labels,'Vending')\n",
    "dict_gen_types.update(vending_dict)\n",
    "drinks_dict = get_dict_from_list(drinks_labels,'Drinks Establishment')\n",
    "dict_gen_types.update(drinks_dict)\n",
    "live_dict = get_dict_from_list(live_labels,'Live Animals')\n",
    "dict_gen_types.update(live_dict)\n",
    "kitchen_dict = get_dict_from_list(kitchen_labels,'Shared Kitchens')\n",
    "dict_gen_types.update(kitchen_dict)\n",
    "\n",
    "distributor_dict = get_dict_from_list(distributor_labels,'Distributors')\n",
    "dict_gen_types.update(distributor_dict)\n",
    "shelter_dict = get_dict_from_list(shelter_labels,'Shelters')\n",
    "dict_gen_types.update(shelter_dict)\n",
    "other_dict = get_dict_from_list(other_labels,'Other')\n",
    "dict_gen_types.update(other_dict)\n"
   ]
  },
  {
   "cell_type": "code",
   "execution_count": 131,
   "metadata": {},
   "outputs": [],
   "source": [
    "inspections['Facility Type'] = inspections['Facility Type'].replace(dict_gen_types)"
   ]
  },
  {
   "cell_type": "code",
   "execution_count": 132,
   "metadata": {},
   "outputs": [
    {
     "data": {
      "text/plain": [
       "array(['Restaurants', 'Other', 'Market', 'Educational Establishment',\n",
       "       'Coffeeshop', 'Drinks Establishment', 'Catering Establishment',\n",
       "       'Bakery', 'Vending', 'Live Animals', 'Retirement Homes',\n",
       "       'Shared Kitchens', 'Dessert Establishment', 'Health Establishment',\n",
       "       'Shelters', 'Religious Establishment', 'Medical Establishment',\n",
       "       'Distributors'], dtype=object)"
      ]
     },
     "execution_count": 132,
     "metadata": {},
     "output_type": "execute_result"
    }
   ],
   "source": [
    "inspections['Facility Type'].unique()"
   ]
  },
  {
   "cell_type": "markdown",
   "metadata": {},
   "source": [
    "We have finally cleaned the facility type."
   ]
  },
  {
   "cell_type": "markdown",
   "metadata": {},
   "source": [
    "### F. Clean the AKA names column"
   ]
  },
  {
   "cell_type": "markdown",
   "metadata": {},
   "source": [
    "**Explore the difference between DBA and AKA names**"
   ]
  },
  {
   "cell_type": "code",
   "execution_count": 134,
   "metadata": {},
   "outputs": [
    {
     "name": "stdout",
     "output_type": "stream",
     "text": [
      "There are 26656 unique DBA (‘Doing business as.’) names in the dataset.\n"
     ]
    }
   ],
   "source": [
    "print ('There are {0} unique DBA (‘Doing business as.’) names in the dataset.'.format(len(inspections['DBA Name'].unique())))"
   ]
  },
  {
   "cell_type": "code",
   "execution_count": 135,
   "metadata": {},
   "outputs": [
    {
     "name": "stdout",
     "output_type": "stream",
     "text": [
      "There are 25434 AKA (‘Also known as.’) names in the dataset.\n"
     ]
    }
   ],
   "source": [
    "# Display the number of restaurants (we display the unique DBA names)\n",
    "print ('There are {0} AKA (‘Also known as.’) names in the dataset.'.format(len(inspections['AKA Name'].unique())))"
   ]
  },
  {
   "cell_type": "code",
   "execution_count": 136,
   "metadata": {},
   "outputs": [
    {
     "name": "stdout",
     "output_type": "stream",
     "text": [
      "There are 49364 rows where the DBA names and the AKA names differ.\n"
     ]
    }
   ],
   "source": [
    "# Explore how DBA and AKA names differ\n",
    "print ('There are {0} rows where the DBA names and the AKA names differ.'\\\n",
    "       .format((len(inspections[inspections['DBA Name'] != inspections['AKA Name']]))))"
   ]
  },
  {
   "cell_type": "code",
   "execution_count": 137,
   "metadata": {},
   "outputs": [
    {
     "name": "stdout",
     "output_type": "stream",
     "text": [
      "Examples of different DBA and AKA names : \n"
     ]
    },
    {
     "data": {
      "text/html": [
       "<div>\n",
       "<style scoped>\n",
       "    .dataframe tbody tr th:only-of-type {\n",
       "        vertical-align: middle;\n",
       "    }\n",
       "\n",
       "    .dataframe tbody tr th {\n",
       "        vertical-align: top;\n",
       "    }\n",
       "\n",
       "    .dataframe thead th {\n",
       "        text-align: right;\n",
       "    }\n",
       "</style>\n",
       "<table border=\"1\" class=\"dataframe\">\n",
       "  <thead>\n",
       "    <tr style=\"text-align: right;\">\n",
       "      <th></th>\n",
       "      <th>Inspection ID</th>\n",
       "      <th>DBA Name</th>\n",
       "      <th>AKA Name</th>\n",
       "      <th>License #</th>\n",
       "      <th>Facility Type</th>\n",
       "      <th>Risk</th>\n",
       "      <th>Address</th>\n",
       "      <th>Inspection Date</th>\n",
       "      <th>Inspection Type</th>\n",
       "      <th>Results</th>\n",
       "      <th>Violations</th>\n",
       "      <th>Latitude</th>\n",
       "      <th>Longitude</th>\n",
       "      <th>Location</th>\n",
       "      <th>Community Area</th>\n",
       "    </tr>\n",
       "  </thead>\n",
       "  <tbody>\n",
       "    <tr>\n",
       "      <th>8</th>\n",
       "      <td>2059948</td>\n",
       "      <td>Subway Sandwiches</td>\n",
       "      <td>Subway</td>\n",
       "      <td>1621730.0</td>\n",
       "      <td>Restaurants</td>\n",
       "      <td>Risk 1 (High)</td>\n",
       "      <td>2620 N NARRAGANSETT AVE</td>\n",
       "      <td>2017-06-09T00:00:00.000</td>\n",
       "      <td>Canvass Re-Inspection</td>\n",
       "      <td>Pass</td>\n",
       "      <td>NaN</td>\n",
       "      <td>41.927995</td>\n",
       "      <td>-87.785752</td>\n",
       "      <td>41.92799528871574, -87.78575236468352</td>\n",
       "      <td>Belmont Cragin</td>\n",
       "    </tr>\n",
       "    <tr>\n",
       "      <th>10</th>\n",
       "      <td>2059950</td>\n",
       "      <td>Subway Sandwiches</td>\n",
       "      <td>Subway</td>\n",
       "      <td>1621730.0</td>\n",
       "      <td>Restaurants</td>\n",
       "      <td>Risk 1 (High)</td>\n",
       "      <td>2620 N NARRAGANSETT AVE</td>\n",
       "      <td>2017-06-09T00:00:00.000</td>\n",
       "      <td>Canvass</td>\n",
       "      <td>Out of Business</td>\n",
       "      <td>NaN</td>\n",
       "      <td>41.927995</td>\n",
       "      <td>-87.785752</td>\n",
       "      <td>41.92799528871574, -87.78575236468352</td>\n",
       "      <td>Belmont Cragin</td>\n",
       "    </tr>\n",
       "    <tr>\n",
       "      <th>11</th>\n",
       "      <td>2059503</td>\n",
       "      <td>Subway Sandwiches</td>\n",
       "      <td>Subway</td>\n",
       "      <td>1621730.0</td>\n",
       "      <td>Restaurants</td>\n",
       "      <td>Risk 1 (High)</td>\n",
       "      <td>2620 N NARRAGANSETT AVE</td>\n",
       "      <td>2017-06-02T00:00:00.000</td>\n",
       "      <td>Canvass</td>\n",
       "      <td>Fail</td>\n",
       "      <td>11. ADEQUATE NUMBER, CONVENIENT, ACCESSIBLE, D...</td>\n",
       "      <td>41.927995</td>\n",
       "      <td>-87.785752</td>\n",
       "      <td>41.92799528871574, -87.78575236468352</td>\n",
       "      <td>Belmont Cragin</td>\n",
       "    </tr>\n",
       "    <tr>\n",
       "      <th>14</th>\n",
       "      <td>1953572</td>\n",
       "      <td>Subway Sandwiches</td>\n",
       "      <td>Subway</td>\n",
       "      <td>1621730.0</td>\n",
       "      <td>Restaurants</td>\n",
       "      <td>Risk 1 (High)</td>\n",
       "      <td>2620 N NARRAGANSETT AVE</td>\n",
       "      <td>2016-08-31T00:00:00.000</td>\n",
       "      <td>Canvass</td>\n",
       "      <td>Pass</td>\n",
       "      <td>35. WALLS, CEILINGS, ATTACHED EQUIPMENT CONSTR...</td>\n",
       "      <td>41.927995</td>\n",
       "      <td>-87.785752</td>\n",
       "      <td>41.92799528871574, -87.78575236468352</td>\n",
       "      <td>Belmont Cragin</td>\n",
       "    </tr>\n",
       "    <tr>\n",
       "      <th>16</th>\n",
       "      <td>1734813</td>\n",
       "      <td>Subway Sandwiches</td>\n",
       "      <td>Subway</td>\n",
       "      <td>1621730.0</td>\n",
       "      <td>Restaurants</td>\n",
       "      <td>Risk 1 (High)</td>\n",
       "      <td>2620 N NARRAGANSETT AVE</td>\n",
       "      <td>2016-03-25T00:00:00.000</td>\n",
       "      <td>Canvass</td>\n",
       "      <td>Pass</td>\n",
       "      <td>33. FOOD AND NON-FOOD CONTACT EQUIPMENT UTENSI...</td>\n",
       "      <td>41.927995</td>\n",
       "      <td>-87.785752</td>\n",
       "      <td>41.92799528871574, -87.78575236468352</td>\n",
       "      <td>Belmont Cragin</td>\n",
       "    </tr>\n",
       "    <tr>\n",
       "      <th>18</th>\n",
       "      <td>1465339</td>\n",
       "      <td>Subway Sandwiches</td>\n",
       "      <td>Subway</td>\n",
       "      <td>1621730.0</td>\n",
       "      <td>Restaurants</td>\n",
       "      <td>Risk 1 (High)</td>\n",
       "      <td>2620 N NARRAGANSETT AVE</td>\n",
       "      <td>2015-12-23T00:00:00.000</td>\n",
       "      <td>Canvass</td>\n",
       "      <td>Pass</td>\n",
       "      <td>NaN</td>\n",
       "      <td>41.927995</td>\n",
       "      <td>-87.785752</td>\n",
       "      <td>41.92799528871574, -87.78575236468352</td>\n",
       "      <td>Belmont Cragin</td>\n",
       "    </tr>\n",
       "    <tr>\n",
       "      <th>20</th>\n",
       "      <td>1464707</td>\n",
       "      <td>Subway Sandwiches</td>\n",
       "      <td>Subway</td>\n",
       "      <td>1621730.0</td>\n",
       "      <td>Restaurants</td>\n",
       "      <td>Risk 1 (High)</td>\n",
       "      <td>2620 N NARRAGANSETT AVE</td>\n",
       "      <td>2015-01-21T00:00:00.000</td>\n",
       "      <td>Canvass Re-Inspection</td>\n",
       "      <td>Pass</td>\n",
       "      <td>31. CLEAN MULTI-USE UTENSILS AND SINGLE SERVIC...</td>\n",
       "      <td>41.927995</td>\n",
       "      <td>-87.785752</td>\n",
       "      <td>41.92799528871574, -87.78575236468352</td>\n",
       "      <td>Belmont Cragin</td>\n",
       "    </tr>\n",
       "    <tr>\n",
       "      <th>21</th>\n",
       "      <td>1464691</td>\n",
       "      <td>Subway Sandwiches</td>\n",
       "      <td>Subway</td>\n",
       "      <td>1621730.0</td>\n",
       "      <td>Restaurants</td>\n",
       "      <td>Risk 1 (High)</td>\n",
       "      <td>2620 N NARRAGANSETT AVE</td>\n",
       "      <td>2015-01-14T00:00:00.000</td>\n",
       "      <td>Canvass</td>\n",
       "      <td>Fail</td>\n",
       "      <td>19. OUTSIDE GARBAGE WASTE GREASE AND STORAGE A...</td>\n",
       "      <td>41.927995</td>\n",
       "      <td>-87.785752</td>\n",
       "      <td>41.92799528871574, -87.78575236468352</td>\n",
       "      <td>Belmont Cragin</td>\n",
       "    </tr>\n",
       "    <tr>\n",
       "      <th>23</th>\n",
       "      <td>1329671</td>\n",
       "      <td>Subway Sandwiches</td>\n",
       "      <td>Subway</td>\n",
       "      <td>1621730.0</td>\n",
       "      <td>Restaurants</td>\n",
       "      <td>Risk 1 (High)</td>\n",
       "      <td>2620 N NARRAGANSETT AVE</td>\n",
       "      <td>2014-01-13T00:00:00.000</td>\n",
       "      <td>Canvass</td>\n",
       "      <td>Pass</td>\n",
       "      <td>34. FLOORS: CONSTRUCTED PER CODE, CLEANED, GOO...</td>\n",
       "      <td>41.927995</td>\n",
       "      <td>-87.785752</td>\n",
       "      <td>41.92799528871574, -87.78575236468352</td>\n",
       "      <td>Belmont Cragin</td>\n",
       "    </tr>\n",
       "    <tr>\n",
       "      <th>25</th>\n",
       "      <td>1321779</td>\n",
       "      <td>Subway Sandwiches</td>\n",
       "      <td>Subway</td>\n",
       "      <td>1621730.0</td>\n",
       "      <td>Restaurants</td>\n",
       "      <td>Risk 1 (High)</td>\n",
       "      <td>2620 N NARRAGANSETT AVE</td>\n",
       "      <td>2013-02-07T00:00:00.000</td>\n",
       "      <td>Canvass</td>\n",
       "      <td>Pass</td>\n",
       "      <td>40. REFRIGERATION AND METAL STEM THERMOMETERS ...</td>\n",
       "      <td>41.927995</td>\n",
       "      <td>-87.785752</td>\n",
       "      <td>41.92799528871574, -87.78575236468352</td>\n",
       "      <td>Belmont Cragin</td>\n",
       "    </tr>\n",
       "  </tbody>\n",
       "</table>\n",
       "</div>"
      ],
      "text/plain": [
       "    Inspection ID           DBA Name AKA Name  License # Facility Type  \\\n",
       "8         2059948  Subway Sandwiches   Subway  1621730.0   Restaurants   \n",
       "10        2059950  Subway Sandwiches   Subway  1621730.0   Restaurants   \n",
       "11        2059503  Subway Sandwiches   Subway  1621730.0   Restaurants   \n",
       "14        1953572  Subway Sandwiches   Subway  1621730.0   Restaurants   \n",
       "16        1734813  Subway Sandwiches   Subway  1621730.0   Restaurants   \n",
       "18        1465339  Subway Sandwiches   Subway  1621730.0   Restaurants   \n",
       "20        1464707  Subway Sandwiches   Subway  1621730.0   Restaurants   \n",
       "21        1464691  Subway Sandwiches   Subway  1621730.0   Restaurants   \n",
       "23        1329671  Subway Sandwiches   Subway  1621730.0   Restaurants   \n",
       "25        1321779  Subway Sandwiches   Subway  1621730.0   Restaurants   \n",
       "\n",
       "             Risk                   Address          Inspection Date  \\\n",
       "8   Risk 1 (High)  2620 N NARRAGANSETT AVE   2017-06-09T00:00:00.000   \n",
       "10  Risk 1 (High)  2620 N NARRAGANSETT AVE   2017-06-09T00:00:00.000   \n",
       "11  Risk 1 (High)  2620 N NARRAGANSETT AVE   2017-06-02T00:00:00.000   \n",
       "14  Risk 1 (High)  2620 N NARRAGANSETT AVE   2016-08-31T00:00:00.000   \n",
       "16  Risk 1 (High)  2620 N NARRAGANSETT AVE   2016-03-25T00:00:00.000   \n",
       "18  Risk 1 (High)  2620 N NARRAGANSETT AVE   2015-12-23T00:00:00.000   \n",
       "20  Risk 1 (High)  2620 N NARRAGANSETT AVE   2015-01-21T00:00:00.000   \n",
       "21  Risk 1 (High)  2620 N NARRAGANSETT AVE   2015-01-14T00:00:00.000   \n",
       "23  Risk 1 (High)  2620 N NARRAGANSETT AVE   2014-01-13T00:00:00.000   \n",
       "25  Risk 1 (High)  2620 N NARRAGANSETT AVE   2013-02-07T00:00:00.000   \n",
       "\n",
       "          Inspection Type          Results  \\\n",
       "8   Canvass Re-Inspection             Pass   \n",
       "10                Canvass  Out of Business   \n",
       "11                Canvass             Fail   \n",
       "14                Canvass             Pass   \n",
       "16                Canvass             Pass   \n",
       "18                Canvass             Pass   \n",
       "20  Canvass Re-Inspection             Pass   \n",
       "21                Canvass             Fail   \n",
       "23                Canvass             Pass   \n",
       "25                Canvass             Pass   \n",
       "\n",
       "                                           Violations   Latitude  Longitude  \\\n",
       "8                                                 NaN  41.927995 -87.785752   \n",
       "10                                                NaN  41.927995 -87.785752   \n",
       "11  11. ADEQUATE NUMBER, CONVENIENT, ACCESSIBLE, D...  41.927995 -87.785752   \n",
       "14  35. WALLS, CEILINGS, ATTACHED EQUIPMENT CONSTR...  41.927995 -87.785752   \n",
       "16  33. FOOD AND NON-FOOD CONTACT EQUIPMENT UTENSI...  41.927995 -87.785752   \n",
       "18                                                NaN  41.927995 -87.785752   \n",
       "20  31. CLEAN MULTI-USE UTENSILS AND SINGLE SERVIC...  41.927995 -87.785752   \n",
       "21  19. OUTSIDE GARBAGE WASTE GREASE AND STORAGE A...  41.927995 -87.785752   \n",
       "23  34. FLOORS: CONSTRUCTED PER CODE, CLEANED, GOO...  41.927995 -87.785752   \n",
       "25  40. REFRIGERATION AND METAL STEM THERMOMETERS ...  41.927995 -87.785752   \n",
       "\n",
       "                                 Location  Community Area  \n",
       "8   41.92799528871574, -87.78575236468352  Belmont Cragin  \n",
       "10  41.92799528871574, -87.78575236468352  Belmont Cragin  \n",
       "11  41.92799528871574, -87.78575236468352  Belmont Cragin  \n",
       "14  41.92799528871574, -87.78575236468352  Belmont Cragin  \n",
       "16  41.92799528871574, -87.78575236468352  Belmont Cragin  \n",
       "18  41.92799528871574, -87.78575236468352  Belmont Cragin  \n",
       "20  41.92799528871574, -87.78575236468352  Belmont Cragin  \n",
       "21  41.92799528871574, -87.78575236468352  Belmont Cragin  \n",
       "23  41.92799528871574, -87.78575236468352  Belmont Cragin  \n",
       "25  41.92799528871574, -87.78575236468352  Belmont Cragin  "
      ]
     },
     "execution_count": 137,
     "metadata": {},
     "output_type": "execute_result"
    }
   ],
   "source": [
    "print('Examples of different DBA and AKA names : ')\n",
    "inspections[inspections['DBA Name'] != inspections['AKA Name']].head(10)"
   ]
  },
  {
   "cell_type": "markdown",
   "metadata": {},
   "source": [
    "We see that the AKA name is the name of the restaurant as known to the public. We decide to duplicate the DBA name to the missing AKA names: We will need those for our recommendation map later on, and it make more sense to display the AKA names for the users."
   ]
  },
  {
   "cell_type": "code",
   "execution_count": 138,
   "metadata": {},
   "outputs": [],
   "source": [
    "inspections['AKA Name'].fillna(inspections['DBA Name'], inplace=True)"
   ]
  },
  {
   "cell_type": "markdown",
   "metadata": {},
   "source": [
    "### G. Explore the violations column"
   ]
  },
  {
   "cell_type": "markdown",
   "metadata": {},
   "source": [
    "Let's first see if the missing violation are consistent with our entries"
   ]
  },
  {
   "cell_type": "code",
   "execution_count": 53,
   "metadata": {},
   "outputs": [
    {
     "data": {
      "text/plain": [
       "array(['No Entry', 'Out of Business', 'Pass', 'Fail', 'Not Ready',\n",
       "       'Pass w/ Conditions', 'Business Not Located'], dtype=object)"
      ]
     },
     "execution_count": 53,
     "metadata": {},
     "output_type": "execute_result"
    }
   ],
   "source": [
    "inspections[inspections['Violations'].isnull()]['Results'].unique()"
   ]
  },
  {
   "cell_type": "markdown",
   "metadata": {},
   "source": [
    "We expected the entries which have null Violations to have 'No Entry', 'Out of Business', 'Pass' or 'Business Not Located' as a value for Results. We see that we alse have null Violations for 'Fail' and 'Pass w/ Conditions' inspections. We still keep those entries because they can be useful for other metrics."
   ]
  },
  {
   "cell_type": "markdown",
   "metadata": {},
   "source": [
    "Let us now inspect the Violations column and try to make sense of what it contains."
   ]
  },
  {
   "cell_type": "code",
   "execution_count": 149,
   "metadata": {},
   "outputs": [
    {
     "data": {
      "text/plain": [
       "0         3. MANAGEMENT, FOOD EMPLOYEE AND CONDITIONAL E...\n",
       "1         3. MANAGEMENT, FOOD EMPLOYEE AND CONDITIONAL E...\n",
       "2         3. MANAGEMENT, FOOD EMPLOYEE AND CONDITIONAL E...\n",
       "3                                                       NaN\n",
       "4         16. FOOD PROTECTED DURING STORAGE, PREPARATION...\n",
       "                                ...                        \n",
       "195317                                                  NaN\n",
       "195318    33. FOOD AND NON-FOOD CONTACT EQUIPMENT UTENSI...\n",
       "195319    33. FOOD AND NON-FOOD CONTACT EQUIPMENT UTENSI...\n",
       "195320    33. FOOD AND NON-FOOD CONTACT EQUIPMENT UTENSI...\n",
       "195321                                                  NaN\n",
       "Name: Violations, Length: 189086, dtype: object"
      ]
     },
     "execution_count": 149,
     "metadata": {},
     "output_type": "execute_result"
    }
   ],
   "source": [
    "inspections['Violations']"
   ]
  },
  {
   "cell_type": "markdown",
   "metadata": {},
   "source": [
    "They all seem to have a specific structure. Let's examine one closely to look at how a Violation entry is structured."
   ]
  },
  {
   "cell_type": "code",
   "execution_count": 150,
   "metadata": {},
   "outputs": [
    {
     "data": {
      "text/plain": [
       "'3. MANAGEMENT, FOOD EMPLOYEE AND CONDITIONAL EMPLOYEE; KNOWLEDGE, RESPONSIBILITIES AND REPORTING - Comments: 2-102.14(O)  OBSERVED NO WRITTEN EMPLOYEE HEALTH POLICY ON THE PREMISES. MANAGEMENT INSTRUCTED TO HAVE A SIGNED EMPLOYEE HEALTH POLICY FOR EACH EMPLOYEE. PRIORITY FOUNDATION 7-38-010. NO CITATION ISSUED. | 5. PROCEDURES FOR RESPONDING TO VOMITING AND DIARRHEAL EVENTS - Comments: 2-501.11  OBSERVED NO CLEAN UP PROCEDURE AND SUPPLIES ON THE PREMISES TO RESPOND TO VOMIT AND DIARRHEAL EVENTS. MANAGEMENT INSTRUCTED TO PROVIDE BOTH. PRIORITY FOUNDATION 7-38-005. NO CITATION ISSUED. | 58. ALLERGEN TRAINING AS REQUIRED - Comments: 2-102.13  OBSERVED THE CERTIFIED FOOD MANAGER WITHOUT AN ALLERGEN TRAINING CERTIFICATE. MANAGEMENT INSTRUCTED THAT ALL CERTIFIED FOOD MANAGERS MUST SHOW PROOF OF TRAINING.'"
      ]
     },
     "execution_count": 150,
     "metadata": {},
     "output_type": "execute_result"
    }
   ],
   "source": [
    "inspections['Violations'][0]"
   ]
  },
  {
   "cell_type": "markdown",
   "metadata": {},
   "source": [
    "We can see that violations are separated by '|'. Each one begins with the violation number and type, followed by a sentence as to why this violation was found in the establishment and a sentence describing what the management needs to do. Let us hence try and have a column for each feature given by the Violations entry."
   ]
  },
  {
   "cell_type": "code",
   "execution_count": 267,
   "metadata": {},
   "outputs": [],
   "source": [
    "def violations_analysis(violations):\n",
    "    if(violations == ['']):\n",
    "        return(np.nan, np.nan)\n",
    "    nb_violations = []\n",
    "    comments_violations = []\n",
    "    for violation in violations:\n",
    "        nb_violations.append(int(violation.split('.')[0]))\n",
    "        split = violation.split(':')\n",
    "#         print(violation)\n",
    "        if(len(split) != 1):\n",
    "            comments_violations.append(violation.split(':')[1])\n",
    "    return (nb_violations, comments_violations)"
   ]
  },
  {
   "cell_type": "code",
   "execution_count": 268,
   "metadata": {},
   "outputs": [],
   "source": [
    "exploded_violations = inspections['Violations'].replace({np.nan: ''}).str.split('|').apply(violations_analysis)#.replace({np.nan:''}).apply(violations_analysis)\n"
   ]
  },
  {
   "cell_type": "code",
   "execution_count": 269,
   "metadata": {},
   "outputs": [],
   "source": [
    "inspections[['Violation Numbers', 'Violation Comments']] = pd.DataFrame(exploded_violations.tolist())    \n"
   ]
  },
  {
   "cell_type": "code",
   "execution_count": 271,
   "metadata": {},
   "outputs": [
    {
     "data": {
      "text/html": [
       "<div>\n",
       "<style scoped>\n",
       "    .dataframe tbody tr th:only-of-type {\n",
       "        vertical-align: middle;\n",
       "    }\n",
       "\n",
       "    .dataframe tbody tr th {\n",
       "        vertical-align: top;\n",
       "    }\n",
       "\n",
       "    .dataframe thead th {\n",
       "        text-align: right;\n",
       "    }\n",
       "</style>\n",
       "<table border=\"1\" class=\"dataframe\">\n",
       "  <thead>\n",
       "    <tr style=\"text-align: right;\">\n",
       "      <th></th>\n",
       "      <th>Inspection ID</th>\n",
       "      <th>DBA Name</th>\n",
       "      <th>AKA Name</th>\n",
       "      <th>License #</th>\n",
       "      <th>Facility Type</th>\n",
       "      <th>Risk</th>\n",
       "      <th>Address</th>\n",
       "      <th>Inspection Date</th>\n",
       "      <th>Inspection Type</th>\n",
       "      <th>Results</th>\n",
       "      <th>Violations</th>\n",
       "      <th>Latitude</th>\n",
       "      <th>Longitude</th>\n",
       "      <th>Location</th>\n",
       "      <th>Community Area</th>\n",
       "      <th>Violation Numbers</th>\n",
       "      <th>Violation Comments</th>\n",
       "    </tr>\n",
       "  </thead>\n",
       "  <tbody>\n",
       "    <tr>\n",
       "      <th>0</th>\n",
       "      <td>2345318</td>\n",
       "      <td>SUBWAY</td>\n",
       "      <td>SUBWAY</td>\n",
       "      <td>2529116.0</td>\n",
       "      <td>Restaurants</td>\n",
       "      <td>Risk 1 (High)</td>\n",
       "      <td>2620 N NARRAGANSETT AVE</td>\n",
       "      <td>2019-11-08T00:00:00.000</td>\n",
       "      <td>Canvass Re-Inspection</td>\n",
       "      <td>Pass w/ Conditions</td>\n",
       "      <td>3. MANAGEMENT, FOOD EMPLOYEE AND CONDITIONAL E...</td>\n",
       "      <td>41.927995</td>\n",
       "      <td>-87.785752</td>\n",
       "      <td>41.92799528871574, -87.78575236468352</td>\n",
       "      <td>Belmont Cragin</td>\n",
       "      <td>[3, 5, 58]</td>\n",
       "      <td>[ 2-102.14(O)  OBSERVED NO WRITTEN EMPLOYEE HE...</td>\n",
       "    </tr>\n",
       "    <tr>\n",
       "      <th>1</th>\n",
       "      <td>2321166</td>\n",
       "      <td>SUBWAY</td>\n",
       "      <td>SUBWAY</td>\n",
       "      <td>2529116.0</td>\n",
       "      <td>Restaurants</td>\n",
       "      <td>Risk 1 (High)</td>\n",
       "      <td>2620 N NARRAGANSETT AVE</td>\n",
       "      <td>2019-11-06T00:00:00.000</td>\n",
       "      <td>Canvass</td>\n",
       "      <td>Fail</td>\n",
       "      <td>3. MANAGEMENT, FOOD EMPLOYEE AND CONDITIONAL E...</td>\n",
       "      <td>41.927995</td>\n",
       "      <td>-87.785752</td>\n",
       "      <td>41.92799528871574, -87.78575236468352</td>\n",
       "      <td>Belmont Cragin</td>\n",
       "      <td>[3, 5, 10, 22, 33, 57, 58]</td>\n",
       "      <td>[ OBSERVED NO WRITTEN EMPLOYEE HEALTH POLICY O...</td>\n",
       "    </tr>\n",
       "    <tr>\n",
       "      <th>2</th>\n",
       "      <td>2290717</td>\n",
       "      <td>PAPA JOHN'S PIZZA</td>\n",
       "      <td>PAPA JOHN'S PIZZA</td>\n",
       "      <td>1545897.0</td>\n",
       "      <td>Restaurants</td>\n",
       "      <td>Risk 2 (Medium)</td>\n",
       "      <td>2620 N NARRAGANSETT AVE</td>\n",
       "      <td>2019-05-30T00:00:00.000</td>\n",
       "      <td>Canvass</td>\n",
       "      <td>Pass w/ Conditions</td>\n",
       "      <td>3. MANAGEMENT, FOOD EMPLOYEE AND CONDITIONAL E...</td>\n",
       "      <td>41.927995</td>\n",
       "      <td>-87.785752</td>\n",
       "      <td>41.92799528871574, -87.78575236468352</td>\n",
       "      <td>Belmont Cragin</td>\n",
       "      <td>[3, 5]</td>\n",
       "      <td>[ OBSERVED NO EMPLOYEE HEALTH POLICY ON THE PR...</td>\n",
       "    </tr>\n",
       "    <tr>\n",
       "      <th>3</th>\n",
       "      <td>2144892</td>\n",
       "      <td>SUBWAY</td>\n",
       "      <td>SUBWAY</td>\n",
       "      <td>2529116.0</td>\n",
       "      <td>Restaurants</td>\n",
       "      <td>Risk 1 (High)</td>\n",
       "      <td>2620 N NARRAGANSETT AVE</td>\n",
       "      <td>2018-02-13T00:00:00.000</td>\n",
       "      <td>Canvass Re-Inspection</td>\n",
       "      <td>Pass</td>\n",
       "      <td>NaN</td>\n",
       "      <td>41.927995</td>\n",
       "      <td>-87.785752</td>\n",
       "      <td>41.92799528871574, -87.78575236468352</td>\n",
       "      <td>Belmont Cragin</td>\n",
       "      <td>NaN</td>\n",
       "      <td>NaN</td>\n",
       "    </tr>\n",
       "    <tr>\n",
       "      <th>4</th>\n",
       "      <td>2144588</td>\n",
       "      <td>SUBWAY</td>\n",
       "      <td>SUBWAY</td>\n",
       "      <td>2529116.0</td>\n",
       "      <td>Restaurants</td>\n",
       "      <td>Risk 1 (High)</td>\n",
       "      <td>2620 N NARRAGANSETT AVE</td>\n",
       "      <td>2018-02-06T00:00:00.000</td>\n",
       "      <td>Canvass</td>\n",
       "      <td>Fail</td>\n",
       "      <td>16. FOOD PROTECTED DURING STORAGE, PREPARATION...</td>\n",
       "      <td>41.927995</td>\n",
       "      <td>-87.785752</td>\n",
       "      <td>41.92799528871574, -87.78575236468352</td>\n",
       "      <td>Belmont Cragin</td>\n",
       "      <td>[16, 34, 42]</td>\n",
       "      <td>[ OBSERVED BLACK AND PINK MOLD LIKE SUBSTANCES...</td>\n",
       "    </tr>\n",
       "  </tbody>\n",
       "</table>\n",
       "</div>"
      ],
      "text/plain": [
       "   Inspection ID           DBA Name           AKA Name  License #  \\\n",
       "0        2345318             SUBWAY             SUBWAY  2529116.0   \n",
       "1        2321166             SUBWAY             SUBWAY  2529116.0   \n",
       "2        2290717  PAPA JOHN'S PIZZA  PAPA JOHN'S PIZZA  1545897.0   \n",
       "3        2144892             SUBWAY             SUBWAY  2529116.0   \n",
       "4        2144588             SUBWAY             SUBWAY  2529116.0   \n",
       "\n",
       "  Facility Type             Risk                   Address  \\\n",
       "0   Restaurants    Risk 1 (High)  2620 N NARRAGANSETT AVE    \n",
       "1   Restaurants    Risk 1 (High)  2620 N NARRAGANSETT AVE    \n",
       "2   Restaurants  Risk 2 (Medium)  2620 N NARRAGANSETT AVE    \n",
       "3   Restaurants    Risk 1 (High)  2620 N NARRAGANSETT AVE    \n",
       "4   Restaurants    Risk 1 (High)  2620 N NARRAGANSETT AVE    \n",
       "\n",
       "           Inspection Date        Inspection Type             Results  \\\n",
       "0  2019-11-08T00:00:00.000  Canvass Re-Inspection  Pass w/ Conditions   \n",
       "1  2019-11-06T00:00:00.000                Canvass                Fail   \n",
       "2  2019-05-30T00:00:00.000                Canvass  Pass w/ Conditions   \n",
       "3  2018-02-13T00:00:00.000  Canvass Re-Inspection                Pass   \n",
       "4  2018-02-06T00:00:00.000                Canvass                Fail   \n",
       "\n",
       "                                          Violations   Latitude  Longitude  \\\n",
       "0  3. MANAGEMENT, FOOD EMPLOYEE AND CONDITIONAL E...  41.927995 -87.785752   \n",
       "1  3. MANAGEMENT, FOOD EMPLOYEE AND CONDITIONAL E...  41.927995 -87.785752   \n",
       "2  3. MANAGEMENT, FOOD EMPLOYEE AND CONDITIONAL E...  41.927995 -87.785752   \n",
       "3                                                NaN  41.927995 -87.785752   \n",
       "4  16. FOOD PROTECTED DURING STORAGE, PREPARATION...  41.927995 -87.785752   \n",
       "\n",
       "                                Location  Community Area  \\\n",
       "0  41.92799528871574, -87.78575236468352  Belmont Cragin   \n",
       "1  41.92799528871574, -87.78575236468352  Belmont Cragin   \n",
       "2  41.92799528871574, -87.78575236468352  Belmont Cragin   \n",
       "3  41.92799528871574, -87.78575236468352  Belmont Cragin   \n",
       "4  41.92799528871574, -87.78575236468352  Belmont Cragin   \n",
       "\n",
       "            Violation Numbers  \\\n",
       "0                  [3, 5, 58]   \n",
       "1  [3, 5, 10, 22, 33, 57, 58]   \n",
       "2                      [3, 5]   \n",
       "3                         NaN   \n",
       "4                [16, 34, 42]   \n",
       "\n",
       "                                  Violation Comments  \n",
       "0  [ 2-102.14(O)  OBSERVED NO WRITTEN EMPLOYEE HE...  \n",
       "1  [ OBSERVED NO WRITTEN EMPLOYEE HEALTH POLICY O...  \n",
       "2  [ OBSERVED NO EMPLOYEE HEALTH POLICY ON THE PR...  \n",
       "3                                                NaN  \n",
       "4  [ OBSERVED BLACK AND PINK MOLD LIKE SUBSTANCES...  "
      ]
     },
     "execution_count": 271,
     "metadata": {},
     "output_type": "execute_result"
    }
   ],
   "source": [
    "inspections.head()"
   ]
  },
  {
   "cell_type": "code",
   "execution_count": 281,
   "metadata": {},
   "outputs": [
    {
     "name": "stdout",
     "output_type": "stream",
     "text": [
      "There are still 28.99104111356737% rows missing their violations info.\n"
     ]
    }
   ],
   "source": [
    "print('There are still {}% rows missing their violations info.'.format(100 * inspections['Violation Numbers'].isna().sum()/len(inspections)))"
   ]
  },
  {
   "cell_type": "markdown",
   "metadata": {},
   "source": [
    "We can see that there is still missing data but we have no choice but to keep it as we cannot drop 29% of the dataset."
   ]
  },
  {
   "cell_type": "code",
   "execution_count": 139,
   "metadata": {},
   "outputs": [],
   "source": [
    "#TODO: Create a pickle of all possible violations with their respective numbers"
   ]
  },
  {
   "cell_type": "markdown",
   "metadata": {},
   "source": [
    "### H. Cleaning the Inspection Type"
   ]
  },
  {
   "cell_type": "markdown",
   "metadata": {},
   "source": [
    "Let's see what's left to be done in our data cleaning process"
   ]
  },
  {
   "cell_type": "code",
   "execution_count": 140,
   "metadata": {},
   "outputs": [
    {
     "data": {
      "text/plain": [
       "Inspection ID                        0.0% missing values\n",
       "DBA Name                             0.0% missing values\n",
       "AKA Name                             0.0% missing values\n",
       "License #           0.008990570478139693% missing values\n",
       "Facility Type                        0.0% missing values\n",
       "Risk                 0.03596228191255877% missing values\n",
       "Address                              0.0% missing values\n",
       "Inspection Date                      0.0% missing values\n",
       "Inspection Type    0.0005288570869493936% missing values\n",
       "Results                              0.0% missing values\n",
       "Violations            26.588290046380767% missing values\n",
       "Latitude                             0.0% missing values\n",
       "Longitude                            0.0% missing values\n",
       "Location                             0.0% missing values\n",
       "Community Area                       0.0% missing values\n",
       "dtype: object"
      ]
     },
     "execution_count": 140,
     "metadata": {},
     "output_type": "execute_result"
    }
   ],
   "source": [
    "inspections.isna().sum().apply(lambda x: '{}% missing values'.format(100 * x/len(inspections)))"
   ]
  },
  {
   "cell_type": "markdown",
   "metadata": {},
   "source": [
    "As we can see the number of entries which have missing Inspection Type is really small, we can safely drop those."
   ]
  },
  {
   "cell_type": "code",
   "execution_count": 141,
   "metadata": {},
   "outputs": [],
   "source": [
    "inspections.dropna(axis=0, subset=['Inspection Type'], inplace=True)"
   ]
  },
  {
   "cell_type": "markdown",
   "metadata": {},
   "source": [
    "Let's see the unique values in the column."
   ]
  },
  {
   "cell_type": "code",
   "execution_count": 146,
   "metadata": {},
   "outputs": [
    {
     "data": {
      "text/plain": [
       "array(['canvass re-inspection', 'canvass', 'license',\n",
       "       'short form complaint', 'complaint', 'license re-inspection',\n",
       "       'license-task force', 'complaint re-inspection',\n",
       "       'suspected food poisoning re-inspection',\n",
       "       'suspected food poisoning', 'recent inspection', 'consultation',\n",
       "       'complaint-fire', 'tag removal', 'out of business',\n",
       "       'illegal operation', 'package liquor 1474',\n",
       "       'short form fire-complaint', 'special events (festivals)',\n",
       "       'complaint-fire re-inspection', 'task force liquor 1475',\n",
       "       'not ready', 'task force liquor 1470', 'license request',\n",
       "       'no entry', 'non-inspection', 'possible fbi',\n",
       "       'pre-license consultation', 'summer feeding', 'expansion',\n",
       "       'error save', 'taskforce', '1315 license reinspection',\n",
       "       'canvass for rib fest', 'close-up/complaint reinspection',\n",
       "       'sup/complaint', 'sup', 'finish complaint inspection from 5-18-10',\n",
       "       'special task force', 'canvass re inspection of close up',\n",
       "       'recall inspection', 'corrective action', 'fire complaint', 'fire',\n",
       "       'task force', 'changed court date', 'canvas', 'task force night',\n",
       "       'addendum', 'canvass school/special event', 'taste of chicago',\n",
       "       'harp questionnaire', 'license daycare 1586', 'reinspection',\n",
       "       'canvass/special event', 'sup recently inspected',\n",
       "       'two people ate and got sick.', 'fire/complain', 'liquor catering',\n",
       "       'license renewal inspection for daycare',\n",
       "       'kitchen closed for renovation', 'task force not ready',\n",
       "       'liquor task force not ready', 'license/not ready', 'duplicated',\n",
       "       'day care license renewal', 'sample collection',\n",
       "       'license task force / not -for-profit club',\n",
       "       'reinspection of 48 hour notice', 'license canceled by owner',\n",
       "       'citation re-issued', 'task force package goods 1474',\n",
       "       'no entry-short complaint)', 'license task 1474',\n",
       "       'task force liquor 1474', 'owner suspended operation/license',\n",
       "       'out business', 'smoking complaint', 'license renewal for daycare',\n",
       "       'task force package liquor', 'task force liquor catering', 'o.b.',\n",
       "       're-inspection of close-up', 'canvass special events',\n",
       "       'license consultation', 'task force liquor inspection 1474',\n",
       "       'task force for liquor 1474', 'tavern 1470',\n",
       "       'task force(1470) liquor tavern', 'city', 'kids cafe',\n",
       "       'license wrong address', 'business not located', \"kids cafe'\"],\n",
       "      dtype=object)"
      ]
     },
     "execution_count": 146,
     "metadata": {},
     "output_type": "execute_result"
    }
   ],
   "source": [
    "inspections['Inspection Type'].str.lower().apply(lambda x: spell(str(x))).unique()"
   ]
  },
  {
   "cell_type": "markdown",
   "metadata": {},
   "source": [
    "### I. Clean Risk column"
   ]
  },
  {
   "cell_type": "markdown",
   "metadata": {},
   "source": [
    "First of all, let's extract the Risk factor from the string, that way we will be able to perform arithmetic comparisons useful in our future analysis.\n",
    "\n",
    "Example: Risk 3 (Low) -> becomes: 3"
   ]
  },
  {
   "cell_type": "code",
   "execution_count": 57,
   "metadata": {},
   "outputs": [],
   "source": [
    "inspections['Risk'] = inspections.apply(\n",
    "    lambda row: re.findall('\\d+', row['Risk']) if pd.notna(row['Risk']) else [],\n",
    "    axis=1\n",
    ") \n",
    "inspections['Risk'] = inspections.apply(\n",
    "    lambda row: row['Risk'][0] if len(row['Risk'])>0 else np.NaN,\n",
    "    axis=1\n",
    ") "
   ]
  },
  {
   "cell_type": "code",
   "execution_count": 58,
   "metadata": {},
   "outputs": [
    {
     "data": {
      "text/plain": [
       "array(['1', '2', '3', nan], dtype=object)"
      ]
     },
     "execution_count": 58,
     "metadata": {},
     "output_type": "execute_result"
    }
   ],
   "source": [
    "inspections['Risk'].unique()"
   ]
  },
  {
   "cell_type": "markdown",
   "metadata": {},
   "source": [
    "Now we try to recover the missing values from other data entries"
   ]
  },
  {
   "cell_type": "code",
   "execution_count": 59,
   "metadata": {},
   "outputs": [
    {
     "name": "stdout",
     "output_type": "stream",
     "text": [
      "Number of null Risk values before recovering:  92\n"
     ]
    },
    {
     "data": {
      "text/html": [
       "<div>\n",
       "<style scoped>\n",
       "    .dataframe tbody tr th:only-of-type {\n",
       "        vertical-align: middle;\n",
       "    }\n",
       "\n",
       "    .dataframe tbody tr th {\n",
       "        vertical-align: top;\n",
       "    }\n",
       "\n",
       "    .dataframe thead th {\n",
       "        text-align: right;\n",
       "    }\n",
       "</style>\n",
       "<table border=\"1\" class=\"dataframe\">\n",
       "  <thead>\n",
       "    <tr style=\"text-align: right;\">\n",
       "      <th></th>\n",
       "      <th>Inspection ID</th>\n",
       "      <th>DBA Name</th>\n",
       "      <th>AKA Name</th>\n",
       "      <th>License #</th>\n",
       "      <th>Facility Type</th>\n",
       "      <th>Risk</th>\n",
       "      <th>Address</th>\n",
       "      <th>Inspection Date</th>\n",
       "      <th>Inspection Type</th>\n",
       "      <th>Results</th>\n",
       "      <th>Violations</th>\n",
       "      <th>Latitude</th>\n",
       "      <th>Longitude</th>\n",
       "      <th>Location</th>\n",
       "      <th>Community Area</th>\n",
       "    </tr>\n",
       "  </thead>\n",
       "  <tbody>\n",
       "    <tr>\n",
       "      <td>4020</td>\n",
       "      <td>2315960.0</td>\n",
       "      <td>MINGHIN JAPENESE</td>\n",
       "      <td>MINGHIN JAPENESE</td>\n",
       "      <td>2670193.0</td>\n",
       "      <td>other</td>\n",
       "      <td>NaN</td>\n",
       "      <td>1232-1234 S MICHIGAN AVE</td>\n",
       "      <td>2019-10-15T00:00:00.000</td>\n",
       "      <td>License</td>\n",
       "      <td>Not Ready</td>\n",
       "      <td>NaN</td>\n",
       "      <td>41.866541</td>\n",
       "      <td>-87.624281</td>\n",
       "      <td>41.86654115432376, -87.62428056789263</td>\n",
       "      <td>Hermosa</td>\n",
       "    </tr>\n",
       "    <tr>\n",
       "      <td>5787</td>\n",
       "      <td>469312.0</td>\n",
       "      <td>ARACELI</td>\n",
       "      <td>TACOS ARACELI</td>\n",
       "      <td>2068908.0</td>\n",
       "      <td>other</td>\n",
       "      <td>NaN</td>\n",
       "      <td>2158 W 23RD ST</td>\n",
       "      <td>2010-12-01T00:00:00.000</td>\n",
       "      <td>License</td>\n",
       "      <td>Fail</td>\n",
       "      <td>NaN</td>\n",
       "      <td>41.850399</td>\n",
       "      <td>-87.680572</td>\n",
       "      <td>41.850399240651626, -87.68057158857073</td>\n",
       "      <td>Logan Square</td>\n",
       "    </tr>\n",
       "  </tbody>\n",
       "</table>\n",
       "</div>"
      ],
      "text/plain": [
       "      Inspection ID          DBA Name          AKA Name  License #  \\\n",
       "4020      2315960.0  MINGHIN JAPENESE  MINGHIN JAPENESE  2670193.0   \n",
       "5787       469312.0           ARACELI     TACOS ARACELI  2068908.0   \n",
       "\n",
       "     Facility Type Risk                    Address          Inspection Date  \\\n",
       "4020         other  NaN  1232-1234 S MICHIGAN AVE   2019-10-15T00:00:00.000   \n",
       "5787         other  NaN            2158 W 23RD ST   2010-12-01T00:00:00.000   \n",
       "\n",
       "     Inspection Type    Results Violations   Latitude  Longitude  \\\n",
       "4020         License  Not Ready        NaN  41.866541 -87.624281   \n",
       "5787         License       Fail        NaN  41.850399 -87.680572   \n",
       "\n",
       "                                    Location Community Area  \n",
       "4020   41.86654115432376, -87.62428056789263        Hermosa  \n",
       "5787  41.850399240651626, -87.68057158857073   Logan Square  "
      ]
     },
     "execution_count": 59,
     "metadata": {},
     "output_type": "execute_result"
    }
   ],
   "source": [
    "print(\"Number of null Risk values before recovering: \",len(inspections[inspections['Risk'].isnull()]))\n",
    "inspections[inspections['Risk'].isnull()].head(2)"
   ]
  },
  {
   "cell_type": "code",
   "execution_count": 60,
   "metadata": {},
   "outputs": [
    {
     "name": "stderr",
     "output_type": "stream",
     "text": [
      "/Users/macbook/anaconda3/lib/python3.7/site-packages/ipykernel_launcher.py:5: FutureWarning: using a dict on a Series for aggregation\n",
      "is deprecated and will be removed in a future version. Use                 named aggregation instead.\n",
      "\n",
      "    >>> grouper.agg(name_1=func_1, name_2=func_2)\n",
      "\n",
      "  \"\"\"\n"
     ]
    },
    {
     "name": "stdout",
     "output_type": "stream",
     "text": [
      "Possible number of values for risk for some establishment :  [1 2 3 4]\n"
     ]
    },
    {
     "data": {
      "text/html": [
       "<div>\n",
       "<style scoped>\n",
       "    .dataframe tbody tr th:only-of-type {\n",
       "        vertical-align: middle;\n",
       "    }\n",
       "\n",
       "    .dataframe tbody tr th {\n",
       "        vertical-align: top;\n",
       "    }\n",
       "\n",
       "    .dataframe thead th {\n",
       "        text-align: right;\n",
       "    }\n",
       "</style>\n",
       "<table border=\"1\" class=\"dataframe\">\n",
       "  <thead>\n",
       "    <tr style=\"text-align: right;\">\n",
       "      <th></th>\n",
       "      <th>nbr_values</th>\n",
       "      <th>possible_values</th>\n",
       "    </tr>\n",
       "    <tr>\n",
       "      <th>DBA Name</th>\n",
       "      <th></th>\n",
       "      <th></th>\n",
       "    </tr>\n",
       "  </thead>\n",
       "  <tbody>\n",
       "    <tr>\n",
       "      <td>11 DINING</td>\n",
       "      <td>2</td>\n",
       "      <td>{1, 2}</td>\n",
       "    </tr>\n",
       "    <tr>\n",
       "      <td>11 DINING, LLC</td>\n",
       "      <td>3</td>\n",
       "      <td>{1, 2, 3}</td>\n",
       "    </tr>\n",
       "    <tr>\n",
       "      <td>111 COFFEE BAR</td>\n",
       "      <td>2</td>\n",
       "      <td>{nan, 2}</td>\n",
       "    </tr>\n",
       "    <tr>\n",
       "      <td>123 FOOD</td>\n",
       "      <td>2</td>\n",
       "      <td>{2, 3}</td>\n",
       "    </tr>\n",
       "    <tr>\n",
       "      <td>14 W. HUBBARD, LLC</td>\n",
       "      <td>2</td>\n",
       "      <td>{1, 3}</td>\n",
       "    </tr>\n",
       "  </tbody>\n",
       "</table>\n",
       "</div>"
      ],
      "text/plain": [
       "                    nbr_values possible_values\n",
       "DBA Name                                      \n",
       "11 DINING                    2          {1, 2}\n",
       "11 DINING, LLC               3       {1, 2, 3}\n",
       "111 COFFEE BAR               2        {nan, 2}\n",
       "123 FOOD                     2          {2, 3}\n",
       "14 W. HUBBARD, LLC           2          {1, 3}"
      ]
     },
     "execution_count": 60,
     "metadata": {},
     "output_type": "execute_result"
    }
   ],
   "source": [
    "#we have to declare this function to be able to use it into aggregate\n",
    "def to_set(a):\n",
    "    #return {x for x in a if pd.notna(x)}\n",
    "    return set(a)\n",
    "establisment_risks = inspections[['DBA Name','Risk']].drop_duplicates().groupby('DBA Name')['Risk'].agg({'nbr_values': len, 'possible_values': to_set})\n",
    "print(\"Possible number of values for risk for some establishment : \", establisment_risks['nbr_values'].unique())\n",
    "establisment_risks[establisment_risks['nbr_values']>1].head()"
   ]
  },
  {
   "cell_type": "markdown",
   "metadata": {},
   "source": [
    "We see that the same establishment may have different Risk values (maybe the latter varies in time depending on the result of inspections). We choose to fill in the missing values in the Risk column by taking the maximum value of risk for that establishment."
   ]
  },
  {
   "cell_type": "code",
   "execution_count": 61,
   "metadata": {},
   "outputs": [],
   "source": [
    "#First remove NAN from sets\n",
    "establisment_risks['possible_values'] = establisment_risks.apply(\n",
    "    lambda row: {int(x) for x in row['possible_values'] if pd.notna(x)},\n",
    "    axis=1\n",
    ") \n",
    "#Then keep only one type per establishment\n",
    "establisment_risks['possible_values'] = establisment_risks.apply(\n",
    "    lambda row: max(row['possible_values']) if len(row['possible_values'])!=0 else np.NaN,\n",
    "    axis=1\n",
    ") \n",
    "establisment_risks_dict=establisment_risks['possible_values'].to_dict()\n",
    "#Assign a type to each missing value\n",
    "inspections['Risk'] = inspections.apply(\n",
    "    lambda row: establisment_risks_dict[row['DBA Name']] if pd.isna(row['Risk']) else row['Risk'],\n",
    "    axis=1\n",
    ")"
   ]
  },
  {
   "cell_type": "code",
   "execution_count": 62,
   "metadata": {},
   "outputs": [
    {
     "name": "stdout",
     "output_type": "stream",
     "text": [
      "Number of null Risk values after recovering:  63\n"
     ]
    },
    {
     "data": {
      "text/html": [
       "<div>\n",
       "<style scoped>\n",
       "    .dataframe tbody tr th:only-of-type {\n",
       "        vertical-align: middle;\n",
       "    }\n",
       "\n",
       "    .dataframe tbody tr th {\n",
       "        vertical-align: top;\n",
       "    }\n",
       "\n",
       "    .dataframe thead th {\n",
       "        text-align: right;\n",
       "    }\n",
       "</style>\n",
       "<table border=\"1\" class=\"dataframe\">\n",
       "  <thead>\n",
       "    <tr style=\"text-align: right;\">\n",
       "      <th></th>\n",
       "      <th>Inspection ID</th>\n",
       "      <th>DBA Name</th>\n",
       "      <th>AKA Name</th>\n",
       "      <th>License #</th>\n",
       "      <th>Facility Type</th>\n",
       "      <th>Risk</th>\n",
       "      <th>Address</th>\n",
       "      <th>Inspection Date</th>\n",
       "      <th>Inspection Type</th>\n",
       "      <th>Results</th>\n",
       "      <th>Violations</th>\n",
       "      <th>Latitude</th>\n",
       "      <th>Longitude</th>\n",
       "      <th>Location</th>\n",
       "      <th>Community Area</th>\n",
       "    </tr>\n",
       "  </thead>\n",
       "  <tbody>\n",
       "    <tr>\n",
       "      <td>4020</td>\n",
       "      <td>2315960.0</td>\n",
       "      <td>MINGHIN JAPENESE</td>\n",
       "      <td>MINGHIN JAPENESE</td>\n",
       "      <td>2670193.0</td>\n",
       "      <td>other</td>\n",
       "      <td>NaN</td>\n",
       "      <td>1232-1234 S MICHIGAN AVE</td>\n",
       "      <td>2019-10-15T00:00:00.000</td>\n",
       "      <td>License</td>\n",
       "      <td>Not Ready</td>\n",
       "      <td>NaN</td>\n",
       "      <td>41.866541</td>\n",
       "      <td>-87.624281</td>\n",
       "      <td>41.86654115432376, -87.62428056789263</td>\n",
       "      <td>Hermosa</td>\n",
       "    </tr>\n",
       "    <tr>\n",
       "      <td>5787</td>\n",
       "      <td>469312.0</td>\n",
       "      <td>ARACELI</td>\n",
       "      <td>TACOS ARACELI</td>\n",
       "      <td>2068908.0</td>\n",
       "      <td>other</td>\n",
       "      <td>NaN</td>\n",
       "      <td>2158 W 23RD ST</td>\n",
       "      <td>2010-12-01T00:00:00.000</td>\n",
       "      <td>License</td>\n",
       "      <td>Fail</td>\n",
       "      <td>NaN</td>\n",
       "      <td>41.850399</td>\n",
       "      <td>-87.680572</td>\n",
       "      <td>41.850399240651626, -87.68057158857073</td>\n",
       "      <td>Logan Square</td>\n",
       "    </tr>\n",
       "  </tbody>\n",
       "</table>\n",
       "</div>"
      ],
      "text/plain": [
       "      Inspection ID          DBA Name          AKA Name  License #  \\\n",
       "4020      2315960.0  MINGHIN JAPENESE  MINGHIN JAPENESE  2670193.0   \n",
       "5787       469312.0           ARACELI     TACOS ARACELI  2068908.0   \n",
       "\n",
       "     Facility Type Risk                    Address          Inspection Date  \\\n",
       "4020         other  NaN  1232-1234 S MICHIGAN AVE   2019-10-15T00:00:00.000   \n",
       "5787         other  NaN            2158 W 23RD ST   2010-12-01T00:00:00.000   \n",
       "\n",
       "     Inspection Type    Results Violations   Latitude  Longitude  \\\n",
       "4020         License  Not Ready        NaN  41.866541 -87.624281   \n",
       "5787         License       Fail        NaN  41.850399 -87.680572   \n",
       "\n",
       "                                    Location Community Area  \n",
       "4020   41.86654115432376, -87.62428056789263        Hermosa  \n",
       "5787  41.850399240651626, -87.68057158857073   Logan Square  "
      ]
     },
     "execution_count": 62,
     "metadata": {},
     "output_type": "execute_result"
    }
   ],
   "source": [
    "print(\"Number of null Risk values after recovering: \",len(inspections[inspections['Risk'].isnull()]))\n",
    "inspections[inspections['Risk'].isnull()].head(2)"
   ]
  },
  {
   "cell_type": "markdown",
   "metadata": {},
   "source": [
    "We see that we were able to recover 42% of the missing values; for the others let's use the default value 'Risk 2 (Medium)' as it's the medium value."
   ]
  },
  {
   "cell_type": "code",
   "execution_count": 63,
   "metadata": {},
   "outputs": [
    {
     "name": "stdout",
     "output_type": "stream",
     "text": [
      "Number of null Risk values after filling:  0\n"
     ]
    }
   ],
   "source": [
    "inspections['Risk'].fillna('2', inplace = True)\n",
    "print(\"Number of null Risk values after filling: \",len(inspections[inspections['Risk'].isnull()]))"
   ]
  },
  {
   "cell_type": "markdown",
   "metadata": {},
   "source": [
    "### J. Clean the License# column"
   ]
  },
  {
   "cell_type": "markdown",
   "metadata": {},
   "source": [
    "What do the entries with no \"license #\" look like ?"
   ]
  },
  {
   "cell_type": "code",
   "execution_count": 64,
   "metadata": {},
   "outputs": [
    {
     "data": {
      "text/html": [
       "<div>\n",
       "<style scoped>\n",
       "    .dataframe tbody tr th:only-of-type {\n",
       "        vertical-align: middle;\n",
       "    }\n",
       "\n",
       "    .dataframe tbody tr th {\n",
       "        vertical-align: top;\n",
       "    }\n",
       "\n",
       "    .dataframe thead th {\n",
       "        text-align: right;\n",
       "    }\n",
       "</style>\n",
       "<table border=\"1\" class=\"dataframe\">\n",
       "  <thead>\n",
       "    <tr style=\"text-align: right;\">\n",
       "      <th></th>\n",
       "      <th>Inspection ID</th>\n",
       "      <th>DBA Name</th>\n",
       "      <th>AKA Name</th>\n",
       "      <th>License #</th>\n",
       "      <th>Facility Type</th>\n",
       "      <th>Risk</th>\n",
       "      <th>Address</th>\n",
       "      <th>Inspection Date</th>\n",
       "      <th>Inspection Type</th>\n",
       "      <th>Results</th>\n",
       "      <th>Violations</th>\n",
       "      <th>Latitude</th>\n",
       "      <th>Longitude</th>\n",
       "      <th>Location</th>\n",
       "      <th>Community Area</th>\n",
       "    </tr>\n",
       "  </thead>\n",
       "  <tbody>\n",
       "    <tr>\n",
       "      <td>65421</td>\n",
       "      <td>2290863.0</td>\n",
       "      <td>ST. DEMETRIOS GREEK ORTHODOX CHURCH</td>\n",
       "      <td>ST. DEMETRIOS CHURCH</td>\n",
       "      <td>NaN</td>\n",
       "      <td>special event</td>\n",
       "      <td>2</td>\n",
       "      <td>2727 W WINONA ST</td>\n",
       "      <td>2019-06-04T00:00:00.000</td>\n",
       "      <td>Canvass</td>\n",
       "      <td>Pass w/ Conditions</td>\n",
       "      <td>3. MANAGEMENT, FOOD EMPLOYEE AND CONDITIONAL E...</td>\n",
       "      <td>41.974653</td>\n",
       "      <td>-87.697529</td>\n",
       "      <td>41.974653353169366, -87.69752945714045</td>\n",
       "      <td>Near North Side</td>\n",
       "    </tr>\n",
       "    <tr>\n",
       "      <td>65422</td>\n",
       "      <td>2181316.0</td>\n",
       "      <td>ST. DEMETRIOS GREEK ORTHODOX CHURCH</td>\n",
       "      <td>ST. DEMETRIOS CHURCH</td>\n",
       "      <td>NaN</td>\n",
       "      <td>special event</td>\n",
       "      <td>2</td>\n",
       "      <td>2727 W WINONA ST</td>\n",
       "      <td>2018-06-13T00:00:00.000</td>\n",
       "      <td>Canvass</td>\n",
       "      <td>Pass</td>\n",
       "      <td>32. FOOD AND NON-FOOD CONTACT SURFACES PROPERL...</td>\n",
       "      <td>41.974653</td>\n",
       "      <td>-87.697529</td>\n",
       "      <td>41.974653353169366, -87.69752945714045</td>\n",
       "      <td>Near North Side</td>\n",
       "    </tr>\n",
       "    <tr>\n",
       "      <td>65423</td>\n",
       "      <td>2071910.0</td>\n",
       "      <td>ST. DEMETRIOS GREEK ORTHODOX CHURCH</td>\n",
       "      <td>ST. DEMETRIOS CHURCH</td>\n",
       "      <td>NaN</td>\n",
       "      <td>special event</td>\n",
       "      <td>2</td>\n",
       "      <td>2727 W WINONA ST</td>\n",
       "      <td>2017-08-04T00:00:00.000</td>\n",
       "      <td>Canvass</td>\n",
       "      <td>Pass</td>\n",
       "      <td>32. FOOD AND NON-FOOD CONTACT SURFACES PROPERL...</td>\n",
       "      <td>41.974653</td>\n",
       "      <td>-87.697529</td>\n",
       "      <td>41.974653353169366, -87.69752945714045</td>\n",
       "      <td>Near North Side</td>\n",
       "    </tr>\n",
       "    <tr>\n",
       "      <td>65424</td>\n",
       "      <td>1933084.0</td>\n",
       "      <td>ST. DEMETRIOS GREEK ORTHODOX CHURCH</td>\n",
       "      <td>ST. DEMETRIOS CHURCH</td>\n",
       "      <td>NaN</td>\n",
       "      <td>special event</td>\n",
       "      <td>2</td>\n",
       "      <td>2727 W WINONA ST</td>\n",
       "      <td>2016-06-20T00:00:00.000</td>\n",
       "      <td>Canvass</td>\n",
       "      <td>Pass</td>\n",
       "      <td>38. VENTILATION: ROOMS AND EQUIPMENT VENTED AS...</td>\n",
       "      <td>41.974653</td>\n",
       "      <td>-87.697529</td>\n",
       "      <td>41.974653353169366, -87.69752945714045</td>\n",
       "      <td>Near North Side</td>\n",
       "    </tr>\n",
       "    <tr>\n",
       "      <td>65425</td>\n",
       "      <td>1561809.0</td>\n",
       "      <td>ST. DEMETRIOS GREEK ORTHODOX CHURCH</td>\n",
       "      <td>ST. DEMETRIOS CHURCH</td>\n",
       "      <td>NaN</td>\n",
       "      <td>special event</td>\n",
       "      <td>2</td>\n",
       "      <td>2727 W WINONA ST</td>\n",
       "      <td>2015-08-04T00:00:00.000</td>\n",
       "      <td>Canvass</td>\n",
       "      <td>Pass</td>\n",
       "      <td>NaN</td>\n",
       "      <td>41.974653</td>\n",
       "      <td>-87.697529</td>\n",
       "      <td>41.974653353169366, -87.69752945714045</td>\n",
       "      <td>Near North Side</td>\n",
       "    </tr>\n",
       "    <tr>\n",
       "      <td>65426</td>\n",
       "      <td>1459918.0</td>\n",
       "      <td>ST. DEMETRIOS GREEK ORTHODOX CHURCH</td>\n",
       "      <td>ST. DEMETRIOS CHURCH</td>\n",
       "      <td>NaN</td>\n",
       "      <td>special event</td>\n",
       "      <td>2</td>\n",
       "      <td>2727 W WINONA ST</td>\n",
       "      <td>2014-05-20T00:00:00.000</td>\n",
       "      <td>Canvass</td>\n",
       "      <td>Pass</td>\n",
       "      <td>33. FOOD AND NON-FOOD CONTACT EQUIPMENT UTENSI...</td>\n",
       "      <td>41.974653</td>\n",
       "      <td>-87.697529</td>\n",
       "      <td>41.974653353169366, -87.69752945714045</td>\n",
       "      <td>Near North Side</td>\n",
       "    </tr>\n",
       "    <tr>\n",
       "      <td>65427</td>\n",
       "      <td>1099104.0</td>\n",
       "      <td>ST. DEMETRIOS GREEK ORTHODOX CHURCH</td>\n",
       "      <td>ST. DEMETRIOS CHURCH</td>\n",
       "      <td>NaN</td>\n",
       "      <td>special event</td>\n",
       "      <td>2</td>\n",
       "      <td>2727 W WINONA ST</td>\n",
       "      <td>2013-07-24T00:00:00.000</td>\n",
       "      <td>Canvass</td>\n",
       "      <td>Pass</td>\n",
       "      <td>32. FOOD AND NON-FOOD CONTACT SURFACES PROPERL...</td>\n",
       "      <td>41.974653</td>\n",
       "      <td>-87.697529</td>\n",
       "      <td>41.974653353169366, -87.69752945714045</td>\n",
       "      <td>Near North Side</td>\n",
       "    </tr>\n",
       "    <tr>\n",
       "      <td>65428</td>\n",
       "      <td>1188285.0</td>\n",
       "      <td>ST. DEMETRIOS GREEK ORTHODOX CHURCH</td>\n",
       "      <td>ST. DEMETRIOS CHURCH</td>\n",
       "      <td>NaN</td>\n",
       "      <td>special event</td>\n",
       "      <td>2</td>\n",
       "      <td>2727 W WINONA ST</td>\n",
       "      <td>2012-07-25T00:00:00.000</td>\n",
       "      <td>Canvass</td>\n",
       "      <td>Pass</td>\n",
       "      <td>33. FOOD AND NON-FOOD CONTACT EQUIPMENT UTENSI...</td>\n",
       "      <td>41.974653</td>\n",
       "      <td>-87.697529</td>\n",
       "      <td>41.974653353169366, -87.69752945714045</td>\n",
       "      <td>Near North Side</td>\n",
       "    </tr>\n",
       "    <tr>\n",
       "      <td>65429</td>\n",
       "      <td>521659.0</td>\n",
       "      <td>ST. DEMETRIOS GREEK ORTHODOX CHURCH</td>\n",
       "      <td>ST. DEMETRIOS CHURCH</td>\n",
       "      <td>NaN</td>\n",
       "      <td>special event</td>\n",
       "      <td>2</td>\n",
       "      <td>2727 W WINONA ST</td>\n",
       "      <td>2011-08-10T00:00:00.000</td>\n",
       "      <td>Canvass</td>\n",
       "      <td>Pass</td>\n",
       "      <td>NaN</td>\n",
       "      <td>41.974653</td>\n",
       "      <td>-87.697529</td>\n",
       "      <td>41.974653353169366, -87.69752945714045</td>\n",
       "      <td>Near North Side</td>\n",
       "    </tr>\n",
       "    <tr>\n",
       "      <td>65430</td>\n",
       "      <td>339207.0</td>\n",
       "      <td>ST DEMETRIOS CHURCH</td>\n",
       "      <td>ST DEMETRIOS CHURCH</td>\n",
       "      <td>NaN</td>\n",
       "      <td>special event</td>\n",
       "      <td>1</td>\n",
       "      <td>2727 W WINONA ST</td>\n",
       "      <td>2010-07-30T00:00:00.000</td>\n",
       "      <td>Special Events (Festivals)</td>\n",
       "      <td>Pass</td>\n",
       "      <td>32. FOOD AND NON-FOOD CONTACT SURFACES PROPERL...</td>\n",
       "      <td>41.974653</td>\n",
       "      <td>-87.697529</td>\n",
       "      <td>41.974653353169366, -87.69752945714045</td>\n",
       "      <td>Near North Side</td>\n",
       "    </tr>\n",
       "    <tr>\n",
       "      <td>74988</td>\n",
       "      <td>1184330.0</td>\n",
       "      <td>OLD ST. PATRICK'S CHURCH</td>\n",
       "      <td>OLD ST. PATRICK'S CHURCH</td>\n",
       "      <td>NaN</td>\n",
       "      <td>church</td>\n",
       "      <td>2</td>\n",
       "      <td>700 W ADAMS ST</td>\n",
       "      <td>2012-05-22T00:00:00.000</td>\n",
       "      <td>Special Events (Festivals)</td>\n",
       "      <td>Pass</td>\n",
       "      <td>34. FLOORS: CONSTRUCTED PER CODE, CLEANED, GOO...</td>\n",
       "      <td>41.879367</td>\n",
       "      <td>-87.644105</td>\n",
       "      <td>41.87936739625875, -87.64410546134096</td>\n",
       "      <td>Near South Side</td>\n",
       "    </tr>\n",
       "    <tr>\n",
       "      <td>74990</td>\n",
       "      <td>229453.0</td>\n",
       "      <td>OLD ST. PATRICK'S CHURCH</td>\n",
       "      <td>OLD ST. PATRICK'S CHURCH</td>\n",
       "      <td>NaN</td>\n",
       "      <td>church</td>\n",
       "      <td>2</td>\n",
       "      <td>700 W ADAMS ST</td>\n",
       "      <td>2010-06-08T00:00:00.000</td>\n",
       "      <td>Special Events (Festivals)</td>\n",
       "      <td>Pass</td>\n",
       "      <td>33. FOOD AND NON-FOOD CONTACT EQUIPMENT UTENSI...</td>\n",
       "      <td>41.879367</td>\n",
       "      <td>-87.644105</td>\n",
       "      <td>41.87936739625875, -87.64410546134096</td>\n",
       "      <td>Near South Side</td>\n",
       "    </tr>\n",
       "    <tr>\n",
       "      <td>159539</td>\n",
       "      <td>1152076.0</td>\n",
       "      <td>ARGENTINA FOODS</td>\n",
       "      <td>ARGENTINA FOODS</td>\n",
       "      <td>NaN</td>\n",
       "      <td>grocery store</td>\n",
       "      <td>2</td>\n",
       "      <td>4500 S WOOD ST</td>\n",
       "      <td>2014-04-10T00:00:00.000</td>\n",
       "      <td>Canvass</td>\n",
       "      <td>Out of Business</td>\n",
       "      <td>NaN</td>\n",
       "      <td>41.812105</td>\n",
       "      <td>-87.670072</td>\n",
       "      <td>41.812105152977246, -87.67007183351623</td>\n",
       "      <td>Loop</td>\n",
       "    </tr>\n",
       "    <tr>\n",
       "      <td>192505</td>\n",
       "      <td>1214242.0</td>\n",
       "      <td>GOD'S BATTLE AXE PRAYER ACADEMY</td>\n",
       "      <td>GOD'S BATTLE AXE PRAYER ACADEMY</td>\n",
       "      <td>NaN</td>\n",
       "      <td>church/day care</td>\n",
       "      <td>1</td>\n",
       "      <td>6969 N WESTERN AVE</td>\n",
       "      <td>2012-03-19T00:00:00.000</td>\n",
       "      <td>Canvass Re-Inspection</td>\n",
       "      <td>Pass</td>\n",
       "      <td>NaN</td>\n",
       "      <td>42.008303</td>\n",
       "      <td>-87.690005</td>\n",
       "      <td>42.00830313068745, -87.69000508529592</td>\n",
       "      <td>Edgewater</td>\n",
       "    </tr>\n",
       "    <tr>\n",
       "      <td>192506</td>\n",
       "      <td>679787.0</td>\n",
       "      <td>GOD'S BATTLE AXE PRAYER ACADEMY</td>\n",
       "      <td>GOD'S BATTLE AXE PRAYER ACADEMY</td>\n",
       "      <td>NaN</td>\n",
       "      <td>church/day care</td>\n",
       "      <td>1</td>\n",
       "      <td>6969 N WESTERN AVE</td>\n",
       "      <td>2012-03-14T00:00:00.000</td>\n",
       "      <td>Canvass Re-Inspection</td>\n",
       "      <td>Fail</td>\n",
       "      <td>9. WATER SOURCE: SAFE, HOT &amp; COLD UNDER CITY P...</td>\n",
       "      <td>42.008303</td>\n",
       "      <td>-87.690005</td>\n",
       "      <td>42.00830313068745, -87.69000508529592</td>\n",
       "      <td>Edgewater</td>\n",
       "    </tr>\n",
       "    <tr>\n",
       "      <td>192507</td>\n",
       "      <td>670328.0</td>\n",
       "      <td>GOD'S BATTLE AXE PRAYER ACADEMY</td>\n",
       "      <td>GOD'S BATTLE AXE PRAYER ACADEMY</td>\n",
       "      <td>NaN</td>\n",
       "      <td>church/day care</td>\n",
       "      <td>1</td>\n",
       "      <td>6969 N WESTERN AVE</td>\n",
       "      <td>2012-02-09T00:00:00.000</td>\n",
       "      <td>Canvass</td>\n",
       "      <td>Fail</td>\n",
       "      <td>11. ADEQUATE NUMBER, CONVENIENT, ACCESSIBLE, D...</td>\n",
       "      <td>42.008303</td>\n",
       "      <td>-87.690005</td>\n",
       "      <td>42.00830313068745, -87.69000508529592</td>\n",
       "      <td>Edgewater</td>\n",
       "    </tr>\n",
       "    <tr>\n",
       "      <td>193701</td>\n",
       "      <td>417318.0</td>\n",
       "      <td>AVALON COMMUNITY CHURCH/FREEDOM HOME ACADEMY</td>\n",
       "      <td>AVALON COMMUNITY CHURCH/FREEDOM HOME ACADEMY</td>\n",
       "      <td>NaN</td>\n",
       "      <td>church/after school program</td>\n",
       "      <td>1</td>\n",
       "      <td>8100 S DANTE AVE</td>\n",
       "      <td>2011-01-10T00:00:00.000</td>\n",
       "      <td>Short Form Complaint</td>\n",
       "      <td>Fail</td>\n",
       "      <td>NaN</td>\n",
       "      <td>41.747711</td>\n",
       "      <td>-87.589539</td>\n",
       "      <td>41.7477112449663, -87.5895386579929</td>\n",
       "      <td>West Town</td>\n",
       "    </tr>\n",
       "  </tbody>\n",
       "</table>\n",
       "</div>"
      ],
      "text/plain": [
       "        Inspection ID                                      DBA Name  \\\n",
       "65421       2290863.0           ST. DEMETRIOS GREEK ORTHODOX CHURCH   \n",
       "65422       2181316.0           ST. DEMETRIOS GREEK ORTHODOX CHURCH   \n",
       "65423       2071910.0           ST. DEMETRIOS GREEK ORTHODOX CHURCH   \n",
       "65424       1933084.0           ST. DEMETRIOS GREEK ORTHODOX CHURCH   \n",
       "65425       1561809.0           ST. DEMETRIOS GREEK ORTHODOX CHURCH   \n",
       "65426       1459918.0           ST. DEMETRIOS GREEK ORTHODOX CHURCH   \n",
       "65427       1099104.0           ST. DEMETRIOS GREEK ORTHODOX CHURCH   \n",
       "65428       1188285.0           ST. DEMETRIOS GREEK ORTHODOX CHURCH   \n",
       "65429        521659.0           ST. DEMETRIOS GREEK ORTHODOX CHURCH   \n",
       "65430        339207.0                           ST DEMETRIOS CHURCH   \n",
       "74988       1184330.0                      OLD ST. PATRICK'S CHURCH   \n",
       "74990        229453.0                      OLD ST. PATRICK'S CHURCH   \n",
       "159539      1152076.0                               ARGENTINA FOODS   \n",
       "192505      1214242.0               GOD'S BATTLE AXE PRAYER ACADEMY   \n",
       "192506       679787.0               GOD'S BATTLE AXE PRAYER ACADEMY   \n",
       "192507       670328.0               GOD'S BATTLE AXE PRAYER ACADEMY   \n",
       "193701       417318.0  AVALON COMMUNITY CHURCH/FREEDOM HOME ACADEMY   \n",
       "\n",
       "                                            AKA Name  License #  \\\n",
       "65421                           ST. DEMETRIOS CHURCH        NaN   \n",
       "65422                           ST. DEMETRIOS CHURCH        NaN   \n",
       "65423                           ST. DEMETRIOS CHURCH        NaN   \n",
       "65424                           ST. DEMETRIOS CHURCH        NaN   \n",
       "65425                           ST. DEMETRIOS CHURCH        NaN   \n",
       "65426                           ST. DEMETRIOS CHURCH        NaN   \n",
       "65427                           ST. DEMETRIOS CHURCH        NaN   \n",
       "65428                           ST. DEMETRIOS CHURCH        NaN   \n",
       "65429                           ST. DEMETRIOS CHURCH        NaN   \n",
       "65430                            ST DEMETRIOS CHURCH        NaN   \n",
       "74988                       OLD ST. PATRICK'S CHURCH        NaN   \n",
       "74990                       OLD ST. PATRICK'S CHURCH        NaN   \n",
       "159539                               ARGENTINA FOODS        NaN   \n",
       "192505               GOD'S BATTLE AXE PRAYER ACADEMY        NaN   \n",
       "192506               GOD'S BATTLE AXE PRAYER ACADEMY        NaN   \n",
       "192507               GOD'S BATTLE AXE PRAYER ACADEMY        NaN   \n",
       "193701  AVALON COMMUNITY CHURCH/FREEDOM HOME ACADEMY        NaN   \n",
       "\n",
       "                      Facility Type Risk              Address  \\\n",
       "65421                 special event    2    2727 W WINONA ST    \n",
       "65422                 special event    2    2727 W WINONA ST    \n",
       "65423                 special event    2    2727 W WINONA ST    \n",
       "65424                 special event    2    2727 W WINONA ST    \n",
       "65425                 special event    2    2727 W WINONA ST    \n",
       "65426                 special event    2    2727 W WINONA ST    \n",
       "65427                 special event    2    2727 W WINONA ST    \n",
       "65428                 special event    2    2727 W WINONA ST    \n",
       "65429                 special event    2    2727 W WINONA ST    \n",
       "65430                 special event    1    2727 W WINONA ST    \n",
       "74988                        church    2      700 W ADAMS ST    \n",
       "74990                        church    2      700 W ADAMS ST    \n",
       "159539                grocery store    2      4500 S WOOD ST    \n",
       "192505              church/day care    1  6969 N WESTERN AVE    \n",
       "192506              church/day care    1  6969 N WESTERN AVE    \n",
       "192507              church/day care    1  6969 N WESTERN AVE    \n",
       "193701  church/after school program    1    8100 S DANTE AVE    \n",
       "\n",
       "                Inspection Date             Inspection Type  \\\n",
       "65421   2019-06-04T00:00:00.000                     Canvass   \n",
       "65422   2018-06-13T00:00:00.000                     Canvass   \n",
       "65423   2017-08-04T00:00:00.000                     Canvass   \n",
       "65424   2016-06-20T00:00:00.000                     Canvass   \n",
       "65425   2015-08-04T00:00:00.000                     Canvass   \n",
       "65426   2014-05-20T00:00:00.000                     Canvass   \n",
       "65427   2013-07-24T00:00:00.000                     Canvass   \n",
       "65428   2012-07-25T00:00:00.000                     Canvass   \n",
       "65429   2011-08-10T00:00:00.000                     Canvass   \n",
       "65430   2010-07-30T00:00:00.000  Special Events (Festivals)   \n",
       "74988   2012-05-22T00:00:00.000  Special Events (Festivals)   \n",
       "74990   2010-06-08T00:00:00.000  Special Events (Festivals)   \n",
       "159539  2014-04-10T00:00:00.000                     Canvass   \n",
       "192505  2012-03-19T00:00:00.000       Canvass Re-Inspection   \n",
       "192506  2012-03-14T00:00:00.000       Canvass Re-Inspection   \n",
       "192507  2012-02-09T00:00:00.000                     Canvass   \n",
       "193701  2011-01-10T00:00:00.000        Short Form Complaint   \n",
       "\n",
       "                   Results                                         Violations  \\\n",
       "65421   Pass w/ Conditions  3. MANAGEMENT, FOOD EMPLOYEE AND CONDITIONAL E...   \n",
       "65422                 Pass  32. FOOD AND NON-FOOD CONTACT SURFACES PROPERL...   \n",
       "65423                 Pass  32. FOOD AND NON-FOOD CONTACT SURFACES PROPERL...   \n",
       "65424                 Pass  38. VENTILATION: ROOMS AND EQUIPMENT VENTED AS...   \n",
       "65425                 Pass                                                NaN   \n",
       "65426                 Pass  33. FOOD AND NON-FOOD CONTACT EQUIPMENT UTENSI...   \n",
       "65427                 Pass  32. FOOD AND NON-FOOD CONTACT SURFACES PROPERL...   \n",
       "65428                 Pass  33. FOOD AND NON-FOOD CONTACT EQUIPMENT UTENSI...   \n",
       "65429                 Pass                                                NaN   \n",
       "65430                 Pass  32. FOOD AND NON-FOOD CONTACT SURFACES PROPERL...   \n",
       "74988                 Pass  34. FLOORS: CONSTRUCTED PER CODE, CLEANED, GOO...   \n",
       "74990                 Pass  33. FOOD AND NON-FOOD CONTACT EQUIPMENT UTENSI...   \n",
       "159539     Out of Business                                                NaN   \n",
       "192505                Pass                                                NaN   \n",
       "192506                Fail  9. WATER SOURCE: SAFE, HOT & COLD UNDER CITY P...   \n",
       "192507                Fail  11. ADEQUATE NUMBER, CONVENIENT, ACCESSIBLE, D...   \n",
       "193701                Fail                                                NaN   \n",
       "\n",
       "         Latitude  Longitude                                Location  \\\n",
       "65421   41.974653 -87.697529  41.974653353169366, -87.69752945714045   \n",
       "65422   41.974653 -87.697529  41.974653353169366, -87.69752945714045   \n",
       "65423   41.974653 -87.697529  41.974653353169366, -87.69752945714045   \n",
       "65424   41.974653 -87.697529  41.974653353169366, -87.69752945714045   \n",
       "65425   41.974653 -87.697529  41.974653353169366, -87.69752945714045   \n",
       "65426   41.974653 -87.697529  41.974653353169366, -87.69752945714045   \n",
       "65427   41.974653 -87.697529  41.974653353169366, -87.69752945714045   \n",
       "65428   41.974653 -87.697529  41.974653353169366, -87.69752945714045   \n",
       "65429   41.974653 -87.697529  41.974653353169366, -87.69752945714045   \n",
       "65430   41.974653 -87.697529  41.974653353169366, -87.69752945714045   \n",
       "74988   41.879367 -87.644105   41.87936739625875, -87.64410546134096   \n",
       "74990   41.879367 -87.644105   41.87936739625875, -87.64410546134096   \n",
       "159539  41.812105 -87.670072  41.812105152977246, -87.67007183351623   \n",
       "192505  42.008303 -87.690005   42.00830313068745, -87.69000508529592   \n",
       "192506  42.008303 -87.690005   42.00830313068745, -87.69000508529592   \n",
       "192507  42.008303 -87.690005   42.00830313068745, -87.69000508529592   \n",
       "193701  41.747711 -87.589539     41.7477112449663, -87.5895386579929   \n",
       "\n",
       "         Community Area  \n",
       "65421   Near North Side  \n",
       "65422   Near North Side  \n",
       "65423   Near North Side  \n",
       "65424   Near North Side  \n",
       "65425   Near North Side  \n",
       "65426   Near North Side  \n",
       "65427   Near North Side  \n",
       "65428   Near North Side  \n",
       "65429   Near North Side  \n",
       "65430   Near North Side  \n",
       "74988   Near South Side  \n",
       "74990   Near South Side  \n",
       "159539             Loop  \n",
       "192505        Edgewater  \n",
       "192506        Edgewater  \n",
       "192507        Edgewater  \n",
       "193701        West Town  "
      ]
     },
     "execution_count": 64,
     "metadata": {},
     "output_type": "execute_result"
    }
   ],
   "source": [
    "inspections[inspections['License #'].isnull()]"
   ]
  },
  {
   "cell_type": "code",
   "execution_count": 65,
   "metadata": {},
   "outputs": [
    {
     "data": {
      "text/html": [
       "<div>\n",
       "<style scoped>\n",
       "    .dataframe tbody tr th:only-of-type {\n",
       "        vertical-align: middle;\n",
       "    }\n",
       "\n",
       "    .dataframe tbody tr th {\n",
       "        vertical-align: top;\n",
       "    }\n",
       "\n",
       "    .dataframe thead th {\n",
       "        text-align: right;\n",
       "    }\n",
       "</style>\n",
       "<table border=\"1\" class=\"dataframe\">\n",
       "  <thead>\n",
       "    <tr style=\"text-align: right;\">\n",
       "      <th></th>\n",
       "      <th>Inspection ID</th>\n",
       "      <th>DBA Name</th>\n",
       "      <th>AKA Name</th>\n",
       "      <th>License #</th>\n",
       "      <th>Facility Type</th>\n",
       "      <th>Risk</th>\n",
       "      <th>Address</th>\n",
       "      <th>Inspection Date</th>\n",
       "      <th>Inspection Type</th>\n",
       "      <th>Results</th>\n",
       "      <th>Violations</th>\n",
       "      <th>Latitude</th>\n",
       "      <th>Longitude</th>\n",
       "      <th>Location</th>\n",
       "      <th>Community Area</th>\n",
       "    </tr>\n",
       "  </thead>\n",
       "  <tbody>\n",
       "    <tr>\n",
       "      <td>159539</td>\n",
       "      <td>1152076.0</td>\n",
       "      <td>ARGENTINA FOODS</td>\n",
       "      <td>ARGENTINA FOODS</td>\n",
       "      <td>NaN</td>\n",
       "      <td>grocery store</td>\n",
       "      <td>2</td>\n",
       "      <td>4500 S WOOD ST</td>\n",
       "      <td>2014-04-10T00:00:00.000</td>\n",
       "      <td>Canvass</td>\n",
       "      <td>Out of Business</td>\n",
       "      <td>NaN</td>\n",
       "      <td>41.812105</td>\n",
       "      <td>-87.670072</td>\n",
       "      <td>41.812105152977246, -87.67007183351623</td>\n",
       "      <td>Loop</td>\n",
       "    </tr>\n",
       "    <tr>\n",
       "      <td>159541</td>\n",
       "      <td>158273.0</td>\n",
       "      <td>ARGENTINA FOODS</td>\n",
       "      <td>ARGENTINA FOODS</td>\n",
       "      <td>57047.0</td>\n",
       "      <td>grocery store</td>\n",
       "      <td>2</td>\n",
       "      <td>4500 S WOOD ST</td>\n",
       "      <td>2010-01-20T00:00:00.000</td>\n",
       "      <td>Out of Business</td>\n",
       "      <td>Fail</td>\n",
       "      <td>NaN</td>\n",
       "      <td>41.812105</td>\n",
       "      <td>-87.670072</td>\n",
       "      <td>41.812105152977246, -87.67007183351623</td>\n",
       "      <td>Loop</td>\n",
       "    </tr>\n",
       "    <tr>\n",
       "      <td>159542</td>\n",
       "      <td>158274.0</td>\n",
       "      <td>ARGENTINA FOODS</td>\n",
       "      <td>ARGENTINA FOODS</td>\n",
       "      <td>57047.0</td>\n",
       "      <td>grocery store</td>\n",
       "      <td>2</td>\n",
       "      <td>4500 S WOOD ST</td>\n",
       "      <td>2010-01-20T00:00:00.000</td>\n",
       "      <td>Out of Business</td>\n",
       "      <td>Fail</td>\n",
       "      <td>NaN</td>\n",
       "      <td>41.812105</td>\n",
       "      <td>-87.670072</td>\n",
       "      <td>41.812105152977246, -87.67007183351623</td>\n",
       "      <td>Loop</td>\n",
       "    </tr>\n",
       "  </tbody>\n",
       "</table>\n",
       "</div>"
      ],
      "text/plain": [
       "        Inspection ID         DBA Name         AKA Name  License #  \\\n",
       "159539      1152076.0  ARGENTINA FOODS  ARGENTINA FOODS        NaN   \n",
       "159541       158273.0  ARGENTINA FOODS  ARGENTINA FOODS    57047.0   \n",
       "159542       158274.0  ARGENTINA FOODS  ARGENTINA FOODS    57047.0   \n",
       "\n",
       "        Facility Type Risk          Address          Inspection Date  \\\n",
       "159539  grocery store    2  4500 S WOOD ST   2014-04-10T00:00:00.000   \n",
       "159541  grocery store    2  4500 S WOOD ST   2010-01-20T00:00:00.000   \n",
       "159542  grocery store    2  4500 S WOOD ST   2010-01-20T00:00:00.000   \n",
       "\n",
       "        Inspection Type          Results Violations   Latitude  Longitude  \\\n",
       "159539          Canvass  Out of Business        NaN  41.812105 -87.670072   \n",
       "159541  Out of Business             Fail        NaN  41.812105 -87.670072   \n",
       "159542  Out of Business             Fail        NaN  41.812105 -87.670072   \n",
       "\n",
       "                                      Location Community Area  \n",
       "159539  41.812105152977246, -87.67007183351623           Loop  \n",
       "159541  41.812105152977246, -87.67007183351623           Loop  \n",
       "159542  41.812105152977246, -87.67007183351623           Loop  "
      ]
     },
     "execution_count": 65,
     "metadata": {},
     "output_type": "execute_result"
    }
   ],
   "source": [
    "inspections[inspections['DBA Name']=='ARGENTINA FOODS']"
   ]
  },
  {
   "cell_type": "markdown",
   "metadata": {},
   "source": [
    "* We see that almost all of the missing License numbers are those of churches (Maybe they don't need a lisence to serve food). We assign the default license number 99999 to those entries.\n",
    "* The only real license numbers missing is the one from ARGENTINA FOODS and we are able to assign it manually."
   ]
  },
  {
   "cell_type": "code",
   "execution_count": 66,
   "metadata": {},
   "outputs": [],
   "source": [
    "inspections.loc[159539,('License #')]='57047'\n",
    "inspections['License #'].fillna('99999',inplace=True)"
   ]
  },
  {
   "cell_type": "markdown",
   "metadata": {},
   "source": [
    "### K. Attribute the right types to each column"
   ]
  },
  {
   "cell_type": "code",
   "execution_count": 67,
   "metadata": {},
   "outputs": [
    {
     "data": {
      "text/plain": [
       "Inspection ID                    0.0% missing values\n",
       "DBA Name                         0.0% missing values\n",
       "AKA Name                         0.0% missing values\n",
       "License #                        0.0% missing values\n",
       "Facility Type                    0.0% missing values\n",
       "Risk                             0.0% missing values\n",
       "Address                          0.0% missing values\n",
       "Inspection Date                  0.0% missing values\n",
       "Inspection Type                  0.0% missing values\n",
       "Results                          0.0% missing values\n",
       "Violations         26.54976247727406% missing values\n",
       "Latitude                         0.0% missing values\n",
       "Longitude                        0.0% missing values\n",
       "Location                         0.0% missing values\n",
       "Community Area                   0.0% missing values\n",
       "dtype: object"
      ]
     },
     "execution_count": 67,
     "metadata": {},
     "output_type": "execute_result"
    }
   ],
   "source": [
    "inspections.isna().sum().apply(lambda x: '{}% missing values'.format(100 * x/len(inspections)))"
   ]
  },
  {
   "cell_type": "markdown",
   "metadata": {},
   "source": [
    "Now that we are done with replacing Nan values, we want to attribute the right type to each column. [documentation about categorical type](https://pandas.pydata.org/pandas-docs/stable/user_guide/categorical.html)\n"
   ]
  },
  {
   "cell_type": "code",
   "execution_count": 68,
   "metadata": {},
   "outputs": [],
   "source": [
    "inspections = inspections.astype({\"Inspection ID\": int, \"DBA Name\": str, \"AKA Name\": str, \"License #\": int,\\\n",
    "                                  \"Facility Type\": str, \"Risk\": int,\"Address\": str, \"Inspection Type\": str,\\\n",
    "                                   \"Results\": str, \"Community Area\": str})"
   ]
  },
  {
   "cell_type": "markdown",
   "metadata": {},
   "source": [
    "We notice that the 'Inspection date' columns only contains dates and no times (the time seems to always be midnight by default). Hence we only keep the date and clean the values"
   ]
  },
  {
   "cell_type": "code",
   "execution_count": 69,
   "metadata": {},
   "outputs": [],
   "source": [
    "inspections.loc[:,('Inspection Date')]=inspections.loc[:,('Inspection Date')].apply(pd.to_datetime)"
   ]
  },
  {
   "cell_type": "code",
   "execution_count": 70,
   "metadata": {},
   "outputs": [
    {
     "data": {
      "text/plain": [
       "Inspection ID               int64\n",
       "DBA Name                   object\n",
       "AKA Name                   object\n",
       "License #                   int64\n",
       "Facility Type              object\n",
       "Risk                        int64\n",
       "Address                    object\n",
       "Inspection Date    datetime64[ns]\n",
       "Inspection Type            object\n",
       "Results                    object\n",
       "Violations                 object\n",
       "Latitude                  float64\n",
       "Longitude                 float64\n",
       "Location                   object\n",
       "Community Area             object\n",
       "dtype: object"
      ]
     },
     "execution_count": 70,
     "metadata": {},
     "output_type": "execute_result"
    }
   ],
   "source": [
    "inspections.dtypes"
   ]
  },
  {
   "cell_type": "code",
   "execution_count": 71,
   "metadata": {},
   "outputs": [],
   "source": [
    "inspections.to_pickle('./datasets/cleaned_inspections.pickle')"
   ]
  }
 ],
 "metadata": {
  "kernelspec": {
   "display_name": "Python 3",
   "language": "python",
   "name": "python3"
  },
  "language_info": {
   "codemirror_mode": {
    "name": "ipython",
    "version": 3
   },
   "file_extension": ".py",
   "mimetype": "text/x-python",
   "name": "python",
   "nbconvert_exporter": "python",
   "pygments_lexer": "ipython3",
   "version": "3.6.9"
  }
 },
 "nbformat": 4,
 "nbformat_minor": 4
}
